{
 "cells": [
  {
   "cell_type": "code",
   "execution_count": 3,
   "metadata": {},
   "outputs": [],
   "source": [
    "from scipy.stats import *"
   ]
  },
  {
   "cell_type": "code",
   "execution_count": 6,
   "metadata": {},
   "outputs": [
    {
     "data": {
      "text/plain": [
       "0.48470829941464144"
      ]
     },
     "execution_count": 6,
     "metadata": {},
     "output_type": "execute_result"
    }
   ],
   "source": [
    "norm.cdf(-0.03834)"
   ]
  },
  {
   "cell_type": "code",
   "execution_count": 1,
   "metadata": {},
   "outputs": [
    {
     "name": "stdout",
     "output_type": "stream",
     "text": [
      "[1, 2, 3]\n",
      "[1, 2, 3, 4]\n",
      "[2, 4, 6, 8]\n"
     ]
    }
   ],
   "source": [
    "class Arr(object):\n",
    "    def __init__(self, num=0, array=None):\n",
    "        if array is None:\n",
    "            array = []\n",
    "        self.__num = num\n",
    "        self.__array = array\n",
    "    \n",
    "    @property\n",
    "    def num(self):\n",
    "        return self.__num\n",
    "    \n",
    "    @num.setter\n",
    "    def num(self, n):\n",
    "        self.__num = n\n",
    "    \n",
    "    @property\n",
    "    def array(self):\n",
    "        return self.__array\n",
    "    \n",
    "    @array.setter\n",
    "    def array(self, s):\n",
    "        if isinstance(s, list):\n",
    "            self.__array = s\n",
    "            self.__num = len(s)\n",
    "    \n",
    "    def find_min(self):\n",
    "        return min(self.__array)\n",
    "    \n",
    "    def find_max(self):\n",
    "        return max(self.__array)\n",
    "    \n",
    "    def sort(self):\n",
    "        self.__array = sorted(self.__array)\n",
    "    \n",
    "    def summa(self):\n",
    "        return sum(self.__array)\n",
    "    \n",
    "    def add(self, a):\n",
    "        self.__array.append(a)\n",
    "        self.__num += 1\n",
    "    \n",
    "    def mul(self, b):\n",
    "        self.__array = [x * b for x in self.__array]\n",
    "    \n",
    "   \n",
    "    def __add__(self, other):\n",
    "        if isinstance(other, (int, float)):\n",
    "            self.add(other)\n",
    "        return self\n",
    "    \n",
    "    \n",
    "    def __mul__(self, other):\n",
    "        if isinstance(other, (int, float)):\n",
    "            self.mul(other)\n",
    "        return self\n",
    "\n",
    "\n",
    "arr = Arr(3, [1, 2, 3])\n",
    "print(arr.array)  \n",
    "\n",
    "arr + 4  \n",
    "print(arr.array)  \n",
    "\n",
    "arr * 2  \n",
    "print(arr.array)  \n"
   ]
  }
 ],
 "metadata": {
  "kernelspec": {
   "display_name": "Python 3",
   "language": "python",
   "name": "python3"
  },
  "language_info": {
   "codemirror_mode": {
    "name": "ipython",
    "version": 3
   },
   "file_extension": ".py",
   "mimetype": "text/x-python",
   "name": "python",
   "nbconvert_exporter": "python",
   "pygments_lexer": "ipython3",
   "version": "3.12.1"
  }
 },
 "nbformat": 4,
 "nbformat_minor": 2
}
