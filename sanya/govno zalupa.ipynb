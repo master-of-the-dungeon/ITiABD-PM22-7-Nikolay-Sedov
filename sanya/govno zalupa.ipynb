{
 "cells": [
  {
   "cell_type": "markdown",
   "source": [
    " 1) Объявить класс фигуры (включает конструктор, принимающий координаты фигуры x, y)"
   ],
   "metadata": {
    "collapsed": false
   }
  },
  {
   "cell_type": "code",
   "execution_count": 1,
   "outputs": [],
   "source": [
    "class Figure:\n",
    "    def __init__(self, x, y):\n",
    "        self.x = x\n",
    "        self.y = y\n",
    "        self.screen = [[\" \" for j in range(40)] for i in range(40)]\n"
   ],
   "metadata": {
    "collapsed": false
   }
  },
  {
   "cell_type": "markdown",
   "source": [
    "2) Создать объект фигуры"
   ],
   "metadata": {
    "collapsed": false
   }
  },
  {
   "cell_type": "code",
   "execution_count": 2,
   "outputs": [],
   "source": [
    "figure = Figure(20, 20)"
   ],
   "metadata": {
    "collapsed": false
   }
  },
  {
   "cell_type": "markdown",
   "source": [
    "3) Реализовать для фигуры метод draw (в виде псевдографики на поле 40 на 40 символов), для абстрактной фигуры рисуем * по заданным координатам\n"
   ],
   "metadata": {
    "collapsed": false
   }
  },
  {
   "cell_type": "code",
   "execution_count": 4,
   "outputs": [],
   "source": [
    "class Figure:\n",
    "    def __init__(self, x, y):\n",
    "        self.x = x\n",
    "        self.y = y\n",
    "        self.screen = [[\" \" for j in range(40)] for i in range(40)]\n",
    "\n",
    "    def draw(self):\n",
    "        self.screen[self.x][self.y] = \"*\"\n",
    "        for i in range(40):\n",
    "            for j in range(40):\n",
    "                print(self.screen[i][j], end=\"\")\n",
    "            print()"
   ],
   "metadata": {
    "collapsed": false
   }
  },
  {
   "cell_type": "markdown",
   "source": [],
   "metadata": {
    "collapsed": false
   }
  },
  {
   "cell_type": "markdown",
   "source": [
    "4) Создать объект фигуры и нарисовать ее"
   ],
   "metadata": {
    "collapsed": false
   }
  },
  {
   "cell_type": "code",
   "execution_count": 8,
   "outputs": [
    {
     "name": "stdout",
     "output_type": "stream",
     "text": [
      "                                        \n",
      "                                        \n",
      "                                        \n",
      "                                        \n",
      "                                        \n",
      "                                        \n",
      "                                        \n",
      "                                        \n",
      "                                        \n",
      "                                        \n",
      "                                        \n",
      "                                        \n",
      "                                        \n",
      "                                        \n",
      "                                        \n",
      "                                        \n",
      "                                        \n",
      "                                        \n",
      "                                        \n",
      "                                        \n",
      "                    *                   \n",
      "                                        \n",
      "                                        \n",
      "                                        \n",
      "                                        \n",
      "                                        \n",
      "                                        \n",
      "                                        \n",
      "                                        \n",
      "                                        \n",
      "                                        \n",
      "                                        \n",
      "                                        \n",
      "                                        \n",
      "                                        \n",
      "                                        \n",
      "                                        \n",
      "                                        \n",
      "                                        \n",
      "                                        \n"
     ]
    }
   ],
   "source": [
    "figure = Figure(20, 20)\n",
    "figure.draw()\n"
   ],
   "metadata": {
    "collapsed": false
   }
  },
  {
   "cell_type": "markdown",
   "source": [
    "5) Изменить параметры объекта и перерисовать его"
   ],
   "metadata": {
    "collapsed": false
   }
  },
  {
   "cell_type": "code",
   "execution_count": 9,
   "outputs": [
    {
     "name": "stdout",
     "output_type": "stream",
     "text": [
      "                                        \n",
      "                                        \n",
      "                                        \n",
      "                                        \n",
      "                                        \n",
      "                                        \n",
      "                                        \n",
      "                                        \n",
      "                                        \n",
      "                                        \n",
      "                                        \n",
      "                                        \n",
      "                                        \n",
      "                                        \n",
      "                                        \n",
      "                                        \n",
      "                                        \n",
      "                                        \n",
      "                                        \n",
      "                                        \n",
      "                    *                   \n",
      "                                        \n",
      "                                        \n",
      "                                        \n",
      "                                        \n",
      "               *                        \n",
      "                                        \n",
      "                                        \n",
      "                                        \n",
      "                                        \n",
      "                                        \n",
      "                                        \n",
      "                                        \n",
      "                                        \n",
      "                                        \n",
      "                                        \n",
      "                                        \n",
      "                                        \n",
      "                                        \n",
      "                                        \n"
     ]
    }
   ],
   "source": [
    "figure.x = 25\n",
    "figure.y = 15\n",
    "figure.draw()\n"
   ],
   "metadata": {
    "collapsed": false
   }
  },
  {
   "cell_type": "markdown",
   "source": [
    "6) Создать наследника класса фигура – класс прямоугольника, с соответствующим изменением конструктора (рисует в псевдографике звездочками прямоугольник)"
   ],
   "metadata": {
    "collapsed": false
   }
  },
  {
   "cell_type": "code",
   "execution_count": 10,
   "outputs": [],
   "source": [
    "class Rectangle(Figure):\n",
    "    def __init__(self, x, y, width, height):\n",
    "        super().__init__(x, y)\n",
    "        self.width = width\n",
    "        self.height = height\n",
    "\n",
    "    def draw(self):\n",
    "        for i in range(self.y, self.y + self.height):\n",
    "            for j in range(self.x, self.x + self.width):\n",
    "                self.screen[i][j] = \"*\"\n",
    "        for row in self.screen:\n",
    "            print(\"\".join(row))\n"
   ],
   "metadata": {
    "collapsed": false
   }
  },
  {
   "cell_type": "markdown",
   "source": [
    "7) Создать объект прямоугольника и нарисовать его"
   ],
   "metadata": {
    "collapsed": false
   }
  },
  {
   "cell_type": "code",
   "execution_count": 11,
   "outputs": [
    {
     "name": "stdout",
     "output_type": "stream",
     "text": [
      "                                        \n",
      "                                        \n",
      "                                        \n",
      "                                        \n",
      "                                        \n",
      "                                        \n",
      "                                        \n",
      "                                        \n",
      "                                        \n",
      "                                        \n",
      "          ********************          \n",
      "          ********************          \n",
      "          ********************          \n",
      "          ********************          \n",
      "          ********************          \n",
      "          ********************          \n",
      "          ********************          \n",
      "          ********************          \n",
      "          ********************          \n",
      "          ********************          \n",
      "                                        \n",
      "                                        \n",
      "                                        \n",
      "                                        \n",
      "                                        \n",
      "                                        \n",
      "                                        \n",
      "                                        \n",
      "                                        \n",
      "                                        \n",
      "                                        \n",
      "                                        \n",
      "                                        \n",
      "                                        \n",
      "                                        \n",
      "                                        \n",
      "                                        \n",
      "                                        \n",
      "                                        \n",
      "                                        \n"
     ]
    }
   ],
   "source": [
    "rectangle = Rectangle(10, 10, 20, 10)\n",
    "rectangle.draw()\n"
   ],
   "metadata": {
    "collapsed": false
   }
  },
  {
   "cell_type": "markdown",
   "source": [
    "8) Изменить параметры объекта и перерисовать его"
   ],
   "metadata": {
    "collapsed": false
   }
  },
  {
   "cell_type": "code",
   "execution_count": 12,
   "outputs": [
    {
     "name": "stdout",
     "output_type": "stream",
     "text": [
      "                                        \n",
      "                                        \n",
      "                                        \n",
      "                                        \n",
      "                                        \n",
      "                                        \n",
      "                                        \n",
      "                                        \n",
      "                                        \n",
      "                                        \n",
      "          ********************          \n",
      "          ********************          \n",
      "          ********************          \n",
      "          ********************          \n",
      "          ********************          \n",
      "          *************************     \n",
      "          *************************     \n",
      "          *************************     \n",
      "          *************************     \n",
      "          *************************     \n",
      "               ********************     \n",
      "               ********************     \n",
      "               ********************     \n",
      "               ********************     \n",
      "               ********************     \n",
      "                                        \n",
      "                                        \n",
      "                                        \n",
      "                                        \n",
      "                                        \n",
      "                                        \n",
      "                                        \n",
      "                                        \n",
      "                                        \n",
      "                                        \n",
      "                                        \n",
      "                                        \n",
      "                                        \n",
      "                                        \n",
      "                                        \n"
     ]
    }
   ],
   "source": [
    "rectangle.x = 15\n",
    "rectangle.y = 15\n",
    "rectangle.draw()\n"
   ],
   "metadata": {
    "collapsed": false
   }
  },
  {
   "cell_type": "markdown",
   "source": [
    "9) Создать наследника класса фигура - треугольник (по сложности: 1)прямоугольный с одинаковыми катетами 2)просто прямоугольный 3)любой треугольник)"
   ],
   "metadata": {
    "collapsed": false
   }
  },
  {
   "cell_type": "code",
   "execution_count": null,
   "outputs": [],
   "source": [
    "class Triangle(Figure):\n",
    "    def __init__(self, x, y, base, height):\n",
    "        super().__init__(x, y)\n",
    "        self.base = base\n",
    "        self.height = height\n",
    "\n",
    "    def draw(self):\n",
    "        for i in range(self.y, self.y + self.height):\n",
    "            for j in range(self.x, self.x + self.base):\n",
    "                if i == self.y + self.height - 1 or j == self.x or j == self.x + self.base - 1:\n",
    "                    self.screen[i][j] = \"*\"\n",
    "        for row in self.screen:\n",
    "            print(\"\".join(row))\n"
   ],
   "metadata": {
    "collapsed": false
   }
  },
  {
   "cell_type": "markdown",
   "source": [
    " 10) Создать наслединика класса прямоугольник - класс квадрат"
   ],
   "metadata": {
    "collapsed": false
   }
  },
  {
   "cell_type": "code",
   "execution_count": null,
   "outputs": [],
   "source": [
    "class Square(Rectangle):\n",
    "    def __init__(self, x, y, side):\n",
    "        super().__init__(x, y, side, side)"
   ],
   "metadata": {
    "collapsed": false
   }
  },
  {
   "cell_type": "markdown",
   "source": [
    "Создать несколько объектов класса треугольник, прямоугольник и фигура, поместить их в список и вызвать функцию рисования при обходе списка (пример полиморфизма)."
   ],
   "metadata": {
    "collapsed": false
   }
  },
  {
   "cell_type": "code",
   "execution_count": null,
   "outputs": [],
   "source": [
    "figures = [Figure(20, 20), Rectangle(10, 10, 20, 10), Triangle(10, 10, 20, 10), Square(10, 10, 10)]"
   ],
   "metadata": {
    "collapsed": false
   }
  },
  {
   "cell_type": "markdown",
   "source": [
    "11) Нарисовать ромб(через функцию рисования диагонали)"
   ],
   "metadata": {
    "collapsed": false
   }
  },
  {
   "cell_type": "code",
   "execution_count": null,
   "outputs": [],
   "source": [
    "class Rhombus(Figure):\n",
    "    def __init__(self, x, y, side):\n",
    "        super().__init__(x, y)\n",
    "        self.side = side\n",
    "\n",
    "    def draw(self):\n",
    "        for i in range(self.y, self.y + self.side):\n",
    "            for j in range(self.x, self.x + self.side):\n",
    "                if i == self.y + self.side - 1 or j == self.x or j == self.x + self.side - 1:\n",
    "                    self.screen[i][j] = \"*\"\n",
    "        for row in self.screen:\n",
    "            print(\"\".join(row))"
   ],
   "metadata": {
    "collapsed": false
   }
  },
  {
   "cell_type": "markdown",
   "source": [
    " 12) Создать класс линии (не является наследником фигуры), имеющий метод draw аналогичный предыдущему"
   ],
   "metadata": {
    "collapsed": false
   }
  },
  {
   "cell_type": "code",
   "execution_count": 13,
   "outputs": [],
   "source": [
    "class Line(Figure):\n",
    "    def __init__(self, x, y, length):\n",
    "        super().__init__(x, y)\n",
    "        self.length = length\n",
    "\n",
    "    def draw(self):\n",
    "        for i in range(self.y, self.y + self.length):\n",
    "            for j in range(self.x, self.x + self.length):\n",
    "                if i == self.y + self.length - 1 or j == self.x or j == self.x + self.length - 1:\n",
    "                    self.screen[i][j] = \"*\"\n",
    "        for row in self.screen:\n",
    "            print(\"\".join(row))"
   ],
   "metadata": {
    "collapsed": false
   }
  },
  {
   "cell_type": "markdown",
   "source": [
    "13) Повторить 10 с участием линии (пример утиной типизации)"
   ],
   "metadata": {
    "collapsed": false
   }
  },
  {
   "cell_type": "code",
   "execution_count": null,
   "outputs": [],
   "source": [
    "figures = [Figure(20, 20), Rectangle(10, 10, 20, 10), Triangle(10, 10, 20, 10), Square(10, 10, 10), Line(10, 10, 10)]"
   ],
   "metadata": {
    "collapsed": false
   }
  },
  {
   "cell_type": "markdown",
   "source": [
    " 14) Реализовать для всех объектов метод, позволяющий печатать объекты при помощи функции print()"
   ],
   "metadata": {
    "collapsed": false
   }
  },
  {
   "cell_type": "code",
   "execution_count": null,
   "outputs": [],
   "source": [
    "class Figure:\n",
    "    def __init__(self, x, y):\n",
    "        self.x = x\n",
    "        self.y = y\n",
    "        self.screen = [[\" \" for j in range(40)] for i in range(40)]\n",
    "\n",
    "    def draw(self):\n",
    "        self.screen[self.x][self.y] = \"*\"\n",
    "        for i in range(40):\n",
    "            for j in range(40):\n",
    "                print(self.screen[i][j], end=\"\")\n",
    "            print()\n",
    "\n",
    "    def __str__(self):\n",
    "        return f\"Figure at {self.x}, {self.y}\""
   ],
   "metadata": {
    "collapsed": false
   }
  },
  {
   "cell_type": "markdown",
   "source": [
    "15) Реализовать для фигур функцию расчета площади."
   ],
   "metadata": {
    "collapsed": false
   }
  },
  {
   "cell_type": "code",
   "execution_count": 14,
   "outputs": [],
   "source": [
    "class Figure:\n",
    "    def __init__(self, x, y):\n",
    "        self.x = x\n",
    "        self.y = y\n",
    "        self.screen = [[\" \" for j in range(40)] for i in range(40)]\n",
    "\n",
    "    def draw(self):\n",
    "        self.screen[self.x][self.y] = \"*\"\n",
    "        for i in range(40):\n",
    "            for j in range(40):\n",
    "                print(self.screen[i][j], end=\"\")\n",
    "            print()\n",
    "\n",
    "    def __str__(self):\n",
    "        return f\"Figure at {self.x}, {self.y}\"\n",
    "\n",
    "    def area(self):\n",
    "        return 0"
   ],
   "metadata": {
    "collapsed": false
   }
  },
  {
   "cell_type": "markdown",
   "source": [
    "16) Создать несколько объектов класса треугольник, прямоугольник и фигура, поместить их в список. Расчитать суммарную площадь всех форм, находящихся в списке."
   ],
   "metadata": {
    "collapsed": false
   }
  },
  {
   "cell_type": "code",
   "execution_count": null,
   "outputs": [],
   "source": [
    "class Figure:\n",
    "    def area(self):\n",
    "        pass\n",
    "\n",
    "\n",
    "class Triangle(Figure):\n",
    "    def __init__(self, base, height):\n",
    "        self.base = base\n",
    "        self.height = height\n",
    "\n",
    "    def area(self):\n",
    "        return 0.5 * self.base * self.height\n",
    "\n",
    "\n",
    "class Rectangle(Figure):\n",
    "    def __init__(self, width, height):\n",
    "        self.width = width\n",
    "        self.height = height\n",
    "\n",
    "    def area(self):\n",
    "        return self.width * self.height\n",
    "\n",
    "\n",
    "class Line:\n",
    "    pass\n",
    "\n",
    "\n",
    "figures = [Triangle(4, 3), Rectangle(5, 6), Figure(), Line()]\n",
    "total_area = 0\n",
    "for figure in figures:\n",
    "    if isinstance(figure, Figure):\n",
    "        total_area += figure.area()\n",
    "\n",
    "print(\"Total area:\", total_area)"
   ],
   "metadata": {
    "collapsed": false
   }
  },
  {
   "cell_type": "markdown",
   "source": [
    "17) Для 16 добавить в список объект линия (для которого не реализована функция площади). При помощи функции определения принадлежности объекта к классу модифицировать рассчет суммарной площади так, чтобы он не приводил к ошибке.\n"
   ],
   "metadata": {
    "collapsed": false
   }
  },
  {
   "cell_type": "code",
   "execution_count": null,
   "outputs": [],
   "source": [
    "class Figure:\n",
    "    @property\n",
    "    def area(self):\n",
    "        return 0\n",
    "\n",
    "\n",
    "class Triangle(Figure):\n",
    "    def __init__(self, base, height):\n",
    "        self.base = base\n",
    "        self.height = height\n",
    "\n",
    "    @property\n",
    "    def area(self):\n",
    "        return 0.5 * self.base * self.height\n",
    "\n",
    "\n",
    "class Rectangle(Figure):\n",
    "    def __init__(self, width, height):\n",
    "        self.width = width\n",
    "        self.height = height\n",
    "\n",
    "    @property\n",
    "    def area(self):\n",
    "        return self.width * self.height\n",
    "\n",
    "\n",
    "class Line:\n",
    "    pass\n",
    "\n",
    "\n",
    "figures = [Triangle(4, 3), Rectangle(5, 6), Figure(), Line()]\n",
    "total_area = 0\n",
    "for figure in figures:\n",
    "    if isinstance(figure, Figure):\n",
    "        total_area += figure.area\n",
    "\n",
    "print(\"Total area:\", total_area)\n"
   ],
   "metadata": {
    "collapsed": false
   }
  },
  {
   "cell_type": "markdown",
   "source": [
    "18) При помощи декоратора @property превратить функцию площади в свойство. Модифицировать 17 в соответствии с новыми возможностями.19) При помощи свойств сделать переменные объекта x, y, доступными для получения,но недоступными для изменения."
   ],
   "metadata": {
    "collapsed": false
   }
  },
  {
   "cell_type": "code",
   "execution_count": null,
   "outputs": [],
   "source": [
    "class Figure:\n",
    "    @property\n",
    "    def area(self):\n",
    "        return 0\n",
    "\n",
    "\n",
    "class Triangle(Figure):\n",
    "    def __init__(self, base, height):\n",
    "        self._base = base\n",
    "        self._height = height\n",
    "\n",
    "    @property\n",
    "    def area(self):\n",
    "        return 0.5 * self._base * self._height\n",
    "\n",
    "\n",
    "class Rectangle(Figure):\n",
    "    def __init__(self, width, height):\n",
    "        self._width = width\n",
    "        self._height = height\n",
    "\n",
    "    @property\n",
    "    def area(self):\n",
    "        return self._width * self._height\n",
    "\n",
    "\n",
    "class Line:\n",
    "    pass\n",
    "\n",
    "\n",
    "figures = [Triangle(4, 3), Rectangle(5, 6), Figure(), Line()]\n",
    "total_area = 0\n",
    "for figure in figures:\n",
    "    if isinstance(figure, Figure):\n"
   ],
   "metadata": {
    "collapsed": false
   }
  },
  {
   "cell_type": "markdown",
   "source": [
    " 21) Оформить доступ к буферу экрана (screen) через свойство."
   ],
   "metadata": {
    "collapsed": false
   }
  },
  {
   "cell_type": "code",
   "execution_count": 15,
   "outputs": [],
   "source": [
    "class Figura:\n",
    "    def __init__(self, x, y, screen=None):\n",
    "        self._x = x\n",
    "        self._y = y\n",
    "        self._screen = screen\n",
    "\n",
    "    @property\n",
    "    def screen(self):\n",
    "        return self._screen\n",
    "\n",
    "    @screen.setter\n",
    "    def screen(self, new_screen):\n",
    "        self._screen = new_screen\n"
   ],
   "metadata": {
    "collapsed": false
   }
  },
  {
   "cell_type": "markdown",
   "source": [
    "22.1) Модифицировать конструктор фигуры так, чтобы при создании объекта для него мог задаваться внешний буфер экрана."
   ],
   "metadata": {
    "collapsed": false
   }
  },
  {
   "cell_type": "code",
   "execution_count": null,
   "outputs": [],
   "source": [
    "class Figura:\n",
    "    def __init__(self, x, y, screen=None):\n",
    "        self._x = x\n",
    "        self._y = y\n",
    "        self._screen = screen\n",
    "\n",
    "    @property\n",
    "    def screen(self):\n",
    "        return self._screen\n",
    "\n",
    "    @screen.setter\n",
    "    def screen(self, new_screen):\n",
    "        self._screen = new_screen\n"
   ],
   "metadata": {
    "collapsed": false
   }
  },
  {
   "cell_type": "markdown",
   "source": [
    " 22.2) Модифицировать код фигур так, чтобы все фигуры рисовались на общем экране."
   ],
   "metadata": {
    "collapsed": false
   }
  },
  {
   "cell_type": "code",
   "execution_count": 17,
   "outputs": [],
   "source": [
    "class Figura:\n",
    "    def __init__(self, x, y, screen=None):\n",
    "        self._x = x\n",
    "        self._y = y\n",
    "        self._screen = screen\n",
    "\n",
    "    @property\n",
    "    def screen(self):\n",
    "        return self._screen\n",
    "\n",
    "    @screen.setter\n",
    "    def screen(self, new_screen):\n",
    "        self._screen = new_screen\n",
    "\n",
    "    def draw(self):\n",
    "        if self._screen is None:\n",
    "            print(\"Screen is not defined\")\n",
    "            return\n",
    "\n",
    "        # рисование фигуры на буфере экрана\n",
    "        pass\n",
    "\n",
    "class Triangle(Figura):\n",
    "    def draw(self):\n",
    "        super().draw()\n",
    "        # рисование треугольника на буфере экрана\n",
    "        pass\n",
    "\n",
    "class Rectangle(Figura):\n",
    "    def draw(self):\n",
    "        super().draw()\n",
    "        # рисование прямоугольника на буфере экрана\n",
    "        pass\n",
    "\n",
    "class Line(Figura):\n",
    "    def draw(self):\n",
    "        super().draw()\n",
    "        # рисование линии на буфере экрана\n",
    "        pass\n",
    "\n",
    "# создание общего буфера экрана\n",
    "screen = [ [0, 0, 0], [0, 0, 0], [0, 0, 0] ]\n",
    "\n",
    "# создание фигур\n",
    "tri = Triangle(0, 0, screen)\n",
    "rect = Rectangle(1, 1, screen)\n"
   ],
   "metadata": {
    "collapsed": false
   }
  },
  {
   "cell_type": "markdown",
   "source": [],
   "metadata": {
    "collapsed": false
   }
  }
 ],
 "metadata": {
  "kernelspec": {
   "display_name": "Python 3",
   "language": "python",
   "name": "python3"
  },
  "language_info": {
   "codemirror_mode": {
    "name": "ipython",
    "version": 2
   },
   "file_extension": ".py",
   "mimetype": "text/x-python",
   "name": "python",
   "nbconvert_exporter": "python",
   "pygments_lexer": "ipython2",
   "version": "2.7.6"
  }
 },
 "nbformat": 4,
 "nbformat_minor": 0
}
