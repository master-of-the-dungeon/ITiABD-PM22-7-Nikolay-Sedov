{
 "cells": [
  {
   "cell_type": "code",
   "execution_count": 3,
   "outputs": [
    {
     "ename": "NameError",
     "evalue": "name 'A_7' is not defined",
     "output_type": "error",
     "traceback": [
      "\u001B[0;31m---------------------------------------------------------------------------\u001B[0m",
      "\u001B[0;31mNameError\u001B[0m                                 Traceback (most recent call last)",
      "Cell \u001B[0;32mIn [3], line 2\u001B[0m\n\u001B[1;32m      1\u001B[0m \u001B[38;5;28;01mimport\u001B[39;00m \u001B[38;5;21;01msympy\u001B[39;00m \u001B[38;5;28;01mas\u001B[39;00m \u001B[38;5;21;01msp\u001B[39;00m\n\u001B[0;32m----> 2\u001B[0m A_7_E_7\u001B[38;5;241m=\u001B[39msp\u001B[38;5;241m.\u001B[39mMatrix\u001B[38;5;241m.\u001B[39mhstack(A_7,sp\u001B[38;5;241m.\u001B[39meye(\u001B[38;5;241m3\u001B[39m))\n\u001B[1;32m      3\u001B[0m res_7\u001B[38;5;241m=\u001B[39mA_7_E_7\u001B[38;5;241m.\u001B[39mrref()\n\u001B[1;32m      4\u001B[0m res_7[\u001B[38;5;241m0\u001B[39m][:,\u001B[38;5;241m3\u001B[39m:\u001B[38;5;241m6\u001B[39m]\n",
      "\u001B[0;31mNameError\u001B[0m: name 'A_7' is not defined"
     ]
    }
   ],
   "source": [
    "import sympy as sp\n",
    "A_7_E_7=sp.Matrix.hstack(A_7,sp.eye(3))\n",
    "res_7=A_7_E_7.rref()\n",
    "res_7[0][:,3:6]\n",
    "res_7[0]\n",
    "res_7[0][:,3:6]*A_7"
   ],
   "metadata": {
    "collapsed": false,
    "pycharm": {
     "name": "#%%\n"
    }
   }
  },
  {
   "cell_type": "code",
   "execution_count": null,
   "outputs": [],
   "source": [],
   "metadata": {
    "collapsed": false,
    "pycharm": {
     "name": "#%%\n"
    }
   }
  }
 ],
 "metadata": {
  "kernelspec": {
   "display_name": "Python 3",
   "language": "python",
   "name": "python3"
  },
  "language_info": {
   "codemirror_mode": {
    "name": "ipython",
    "version": 2
   },
   "file_extension": ".py",
   "mimetype": "text/x-python",
   "name": "python",
   "nbconvert_exporter": "python",
   "pygments_lexer": "ipython2",
   "version": "2.7.6"
  }
 },
 "nbformat": 4,
 "nbformat_minor": 0
}