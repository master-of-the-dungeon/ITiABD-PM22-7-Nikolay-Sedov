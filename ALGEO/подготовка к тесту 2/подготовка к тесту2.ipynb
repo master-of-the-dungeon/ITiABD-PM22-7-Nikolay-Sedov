{
 "cells": [
  {
   "cell_type": "code",
   "execution_count": 11,
   "metadata": {
    "collapsed": true
   },
   "outputs": [
    {
     "data": {
      "text/plain": "11664",
      "text/latex": "$\\displaystyle 11664$"
     },
     "execution_count": 11,
     "metadata": {},
     "output_type": "execute_result"
    }
   ],
   "source": [
    "import numpy as np\n",
    "import sympy as sp\n",
    "A = sp.Matrix(2,3,[\n",
    "    7,8,6,\n",
    "    6,1,9\n",
    "])\n",
    "B = sp.Matrix(2,3,[\n",
    "    3,3,4,\n",
    "    0,3,4\n",
    "])\n",
    "B\n",
    "C = A* sp.transpose(B)\n",
    "D = sp.transpose(A)*B\n",
    "K = sp.Matrix(np.kron(C,D))\n",
    "sp.trace(K)"
   ]
  },
  {
   "cell_type": "code",
   "execution_count": null,
   "outputs": [],
   "source": [
    "import numpy as np\n",
    "import sympy as sp\n",
    "A = sp.Matrix(2,2,[\n",
    "    3,9,\n",
    "    6,7,\n",
    "])\n",
    "B = sp.Matrix(2,2,[\n",
    "    7,2,\n",
    "    3,2\n",
    "])\n",
    "C = sp.Matrix(2,2,[\n",
    "    24,16,\n",
    "    24,22\n",
    "])\n"
   ],
   "metadata": {
    "collapsed": false
   }
  }
 ],
 "metadata": {
  "kernelspec": {
   "display_name": "Python 3",
   "language": "python",
   "name": "python3"
  },
  "language_info": {
   "codemirror_mode": {
    "name": "ipython",
    "version": 2
   },
   "file_extension": ".py",
   "mimetype": "text/x-python",
   "name": "python",
   "nbconvert_exporter": "python",
   "pygments_lexer": "ipython2",
   "version": "2.7.6"
  }
 },
 "nbformat": 4,
 "nbformat_minor": 0
}
