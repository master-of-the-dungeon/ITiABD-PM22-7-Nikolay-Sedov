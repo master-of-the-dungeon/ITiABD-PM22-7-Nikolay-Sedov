{
 "cells": [
  {
   "cell_type": "markdown",
   "metadata": {
    "pycharm": {
     "name": "#%% md\n"
    }
   },
   "source": [
    "# Решения некоторых тестовых задач по курсу \"Алгебра и геометрия\""
   ]
  },
  {
   "cell_type": "code",
   "execution_count": 23,
   "metadata": {
    "pycharm": {
     "name": "#%%\n"
    }
   },
   "outputs": [],
   "source": [
    "import sympy as sp\n",
    "sp.init_printing()"
   ]
  },
  {
   "cell_type": "code",
   "execution_count": 24,
   "metadata": {
    "pycharm": {
     "name": "#%%\n"
    }
   },
   "outputs": [],
   "source": [
    "# example 1"
   ]
  },
  {
   "cell_type": "code",
   "execution_count": 25,
   "metadata": {
    "pycharm": {
     "name": "#%%\n"
    }
   },
   "outputs": [],
   "source": [
    "M_1 = sp.Matrix(3,3,[\n",
    "    8,7,9,\n",
    "    8,7,8,\n",
    "    6,8,5\n",
    "])"
   ]
  },
  {
   "cell_type": "code",
   "execution_count": 26,
   "metadata": {
    "pycharm": {
     "name": "#%%\n"
    }
   },
   "outputs": [
    {
     "data": {
      "text/latex": [
       "$\\displaystyle \\left[\\begin{matrix}8 & 7 & 9\\\\8 & 7 & 8\\\\6 & 8 & 5\\end{matrix}\\right]$"
      ],
      "text/plain": [
       "⎡8  7  9⎤\n",
       "⎢       ⎥\n",
       "⎢8  7  8⎥\n",
       "⎢       ⎥\n",
       "⎣6  8  5⎦"
      ]
     },
     "execution_count": 26,
     "metadata": {},
     "output_type": "execute_result"
    }
   ],
   "source": [
    "M_1"
   ]
  },
  {
   "cell_type": "code",
   "execution_count": 28,
   "metadata": {
    "pycharm": {
     "name": "#%%\n"
    }
   },
   "outputs": [],
   "source": [
    "b_1 = sp.Matrix(3,1,[\n",
    "    443,\n",
    "    427,\n",
    "    384\n",
    "])"
   ]
  },
  {
   "cell_type": "code",
   "execution_count": 29,
   "metadata": {
    "pycharm": {
     "name": "#%%\n"
    }
   },
   "outputs": [
    {
     "data": {
      "text/latex": [
       "$\\displaystyle \\left[\\begin{matrix}443\\\\427\\\\384\\end{matrix}\\right]$"
      ],
      "text/plain": [
       "⎡443⎤\n",
       "⎢   ⎥\n",
       "⎢427⎥\n",
       "⎢   ⎥\n",
       "⎣384⎦"
      ]
     },
     "execution_count": 29,
     "metadata": {},
     "output_type": "execute_result"
    }
   ],
   "source": [
    "b_1"
   ]
  },
  {
   "cell_type": "code",
   "execution_count": 30,
   "metadata": {
    "pycharm": {
     "name": "#%%\n"
    }
   },
   "outputs": [],
   "source": [
    "M_1_b_1 = sp.Matrix.hstack(M_1,b_1)"
   ]
  },
  {
   "cell_type": "code",
   "execution_count": 31,
   "metadata": {
    "pycharm": {
     "name": "#%%\n"
    }
   },
   "outputs": [
    {
     "data": {
      "text/latex": [
       "$\\displaystyle \\left[\\begin{matrix}8 & 7 & 9 & 443\\\\8 & 7 & 8 & 427\\\\6 & 8 & 5 & 384\\end{matrix}\\right]$"
      ],
      "text/plain": [
       "⎡8  7  9  443⎤\n",
       "⎢            ⎥\n",
       "⎢8  7  8  427⎥\n",
       "⎢            ⎥\n",
       "⎣6  8  5  384⎦"
      ]
     },
     "execution_count": 31,
     "metadata": {},
     "output_type": "execute_result"
    }
   ],
   "source": [
    "M_1_b_1"
   ]
  },
  {
   "cell_type": "code",
   "execution_count": 32,
   "metadata": {
    "pycharm": {
     "name": "#%%\n"
    }
   },
   "outputs": [
    {
     "data": {
      "text/latex": [
       "$\\displaystyle \\left( \\left[\\begin{matrix}1 & 0 & 0 & 12\\\\0 & 1 & 0 & 29\\\\0 & 0 & 1 & 16\\end{matrix}\\right], \\  \\left( 0, \\  1, \\  2\\right)\\right)$"
      ],
      "text/plain": [
       "⎛⎡1  0  0  12⎤           ⎞\n",
       "⎜⎢           ⎥           ⎟\n",
       "⎜⎢0  1  0  29⎥, (0, 1, 2)⎟\n",
       "⎜⎢           ⎥           ⎟\n",
       "⎝⎣0  0  1  16⎦           ⎠"
      ]
     },
     "execution_count": 32,
     "metadata": {},
     "output_type": "execute_result"
    }
   ],
   "source": [
    "M_1_b_1.rref()"
   ]
  },
  {
   "cell_type": "code",
   "execution_count": 36,
   "metadata": {
    "pycharm": {
     "name": "#%%\n"
    }
   },
   "outputs": [
    {
     "data": {
      "text/plain": [
       "True"
      ]
     },
     "execution_count": 36,
     "metadata": {},
     "output_type": "execute_result"
    }
   ],
   "source": [
    "M_1*sp.Matrix(3,1,[\n",
    "    12,\n",
    "    29,\n",
    "    16\n",
    "])==b_1"
   ]
  },
  {
   "cell_type": "code",
   "execution_count": 37,
   "metadata": {
    "pycharm": {
     "name": "#%%\n"
    }
   },
   "outputs": [],
   "source": [
    "# example 2"
   ]
  },
  {
   "cell_type": "code",
   "execution_count": 38,
   "metadata": {
    "pycharm": {
     "name": "#%%\n"
    }
   },
   "outputs": [],
   "source": [
    "M_2 = sp.Matrix(6,6,[\n",
    "    6,2,5,-1,0,0,\n",
    "    9,5,9,0,-1,0,\n",
    "    7,5,3,0,0,-1,\n",
    "    1,0,0,1,1,0,\n",
    "    0,1,0,1,0,1,\n",
    "    0,0,1,0,1,1\n",
    "])"
   ]
  },
  {
   "cell_type": "code",
   "execution_count": 39,
   "metadata": {
    "pycharm": {
     "name": "#%%\n"
    }
   },
   "outputs": [
    {
     "data": {
      "text/latex": [
       "$\\displaystyle \\left[\\begin{matrix}6 & 2 & 5 & -1 & 0 & 0\\\\9 & 5 & 9 & 0 & -1 & 0\\\\7 & 5 & 3 & 0 & 0 & -1\\\\1 & 0 & 0 & 1 & 1 & 0\\\\0 & 1 & 0 & 1 & 0 & 1\\\\0 & 0 & 1 & 0 & 1 & 1\\end{matrix}\\right]$"
      ],
      "text/plain": [
       "⎡6  2  5  -1  0   0 ⎤\n",
       "⎢                   ⎥\n",
       "⎢9  5  9  0   -1  0 ⎥\n",
       "⎢                   ⎥\n",
       "⎢7  5  3  0   0   -1⎥\n",
       "⎢                   ⎥\n",
       "⎢1  0  0  1   1   0 ⎥\n",
       "⎢                   ⎥\n",
       "⎢0  1  0  1   0   1 ⎥\n",
       "⎢                   ⎥\n",
       "⎣0  0  1  0   1   1 ⎦"
      ]
     },
     "execution_count": 39,
     "metadata": {},
     "output_type": "execute_result"
    }
   ],
   "source": [
    "M_2"
   ]
  },
  {
   "cell_type": "code",
   "execution_count": 40,
   "metadata": {
    "pycharm": {
     "name": "#%%\n"
    }
   },
   "outputs": [],
   "source": [
    "b_2 = sp.Matrix(6,1,[\n",
    "    79,\n",
    "    159,\n",
    "    95,\n",
    "    58,\n",
    "    66,\n",
    "    65\n",
    "])"
   ]
  },
  {
   "cell_type": "code",
   "execution_count": 41,
   "metadata": {
    "pycharm": {
     "name": "#%%\n"
    }
   },
   "outputs": [],
   "source": [
    "M_2_b_2 = sp.Matrix.hstack(M_2,b_2)"
   ]
  },
  {
   "cell_type": "code",
   "execution_count": 42,
   "metadata": {
    "pycharm": {
     "name": "#%%\n"
    }
   },
   "outputs": [
    {
     "data": {
      "text/latex": [
       "$\\displaystyle \\left[\\begin{matrix}6 & 2 & 5 & -1 & 0 & 0 & 79\\\\9 & 5 & 9 & 0 & -1 & 0 & 159\\\\7 & 5 & 3 & 0 & 0 & -1 & 95\\\\1 & 0 & 0 & 1 & 1 & 0 & 58\\\\0 & 1 & 0 & 1 & 0 & 1 & 66\\\\0 & 0 & 1 & 0 & 1 & 1 & 65\\end{matrix}\\right]$"
      ],
      "text/plain": [
       "⎡6  2  5  -1  0   0   79 ⎤\n",
       "⎢                        ⎥\n",
       "⎢9  5  9  0   -1  0   159⎥\n",
       "⎢                        ⎥\n",
       "⎢7  5  3  0   0   -1  95 ⎥\n",
       "⎢                        ⎥\n",
       "⎢1  0  0  1   1   0   58 ⎥\n",
       "⎢                        ⎥\n",
       "⎢0  1  0  1   0   1   66 ⎥\n",
       "⎢                        ⎥\n",
       "⎣0  0  1  0   1   1   65 ⎦"
      ]
     },
     "execution_count": 42,
     "metadata": {},
     "output_type": "execute_result"
    }
   ],
   "source": [
    "M_2_b_2"
   ]
  },
  {
   "cell_type": "code",
   "execution_count": 46,
   "metadata": {
    "pycharm": {
     "name": "#%%\n"
    }
   },
   "outputs": [
    {
     "data": {
      "text/latex": [
       "$\\displaystyle \\left[\\begin{matrix}79\\\\159\\\\95\\\\58\\\\66\\\\65\\end{matrix}\\right]$"
      ],
      "text/plain": [
       "⎡79 ⎤\n",
       "⎢   ⎥\n",
       "⎢159⎥\n",
       "⎢   ⎥\n",
       "⎢95 ⎥\n",
       "⎢   ⎥\n",
       "⎢58 ⎥\n",
       "⎢   ⎥\n",
       "⎢66 ⎥\n",
       "⎢   ⎥\n",
       "⎣65 ⎦"
      ]
     },
     "execution_count": 46,
     "metadata": {},
     "output_type": "execute_result"
    }
   ],
   "source": [
    "M_2*M_2_b_2.rref()[0][:,-1]"
   ]
  },
  {
   "cell_type": "code",
   "execution_count": null,
   "metadata": {
    "pycharm": {
     "name": "#%%\n"
    }
   },
   "outputs": [],
   "source": []
  },
  {
   "cell_type": "code",
   "execution_count": 47,
   "metadata": {
    "pycharm": {
     "name": "#%%\n"
    }
   },
   "outputs": [],
   "source": [
    "# example 3"
   ]
  },
  {
   "cell_type": "code",
   "execution_count": 48,
   "metadata": {
    "pycharm": {
     "name": "#%%\n"
    }
   },
   "outputs": [],
   "source": [
    "M_3 = sp.Matrix(3,4,[\n",
    "    67,57,27,38,\n",
    "    62,59,31,26,\n",
    "    33,34,19,27\n",
    "])"
   ]
  },
  {
   "cell_type": "code",
   "execution_count": 49,
   "metadata": {
    "pycharm": {
     "name": "#%%\n"
    }
   },
   "outputs": [
    {
     "data": {
      "text/latex": [
       "$\\displaystyle \\left[\\begin{matrix}67 & 57 & 27 & 38\\\\62 & 59 & 31 & 26\\\\33 & 34 & 19 & 27\\end{matrix}\\right]$"
      ],
      "text/plain": [
       "⎡67  57  27  38⎤\n",
       "⎢              ⎥\n",
       "⎢62  59  31  26⎥\n",
       "⎢              ⎥\n",
       "⎣33  34  19  27⎦"
      ]
     },
     "execution_count": 49,
     "metadata": {},
     "output_type": "execute_result"
    }
   ],
   "source": [
    "M_3"
   ]
  },
  {
   "cell_type": "code",
   "execution_count": 50,
   "metadata": {
    "pycharm": {
     "name": "#%%\n"
    }
   },
   "outputs": [],
   "source": [
    "b_3 = sp.Matrix(3,1,[\n",
    "    46,\n",
    "    32,\n",
    "    48\n",
    "])"
   ]
  },
  {
   "cell_type": "code",
   "execution_count": 51,
   "metadata": {
    "pycharm": {
     "name": "#%%\n"
    }
   },
   "outputs": [
    {
     "data": {
      "text/latex": [
       "$\\displaystyle \\left[\\begin{matrix}46\\\\32\\\\48\\end{matrix}\\right]$"
      ],
      "text/plain": [
       "⎡46⎤\n",
       "⎢  ⎥\n",
       "⎢32⎥\n",
       "⎢  ⎥\n",
       "⎣48⎦"
      ]
     },
     "execution_count": 51,
     "metadata": {},
     "output_type": "execute_result"
    }
   ],
   "source": [
    "b_3"
   ]
  },
  {
   "cell_type": "code",
   "execution_count": 52,
   "metadata": {
    "pycharm": {
     "name": "#%%\n"
    }
   },
   "outputs": [],
   "source": [
    "M_3_b_3 = sp.Matrix.hstack(M_3,b_3)"
   ]
  },
  {
   "cell_type": "code",
   "execution_count": 53,
   "metadata": {
    "pycharm": {
     "name": "#%%\n"
    }
   },
   "outputs": [
    {
     "data": {
      "text/latex": [
       "$\\displaystyle \\left[\\begin{matrix}67 & 57 & 27 & 38 & 46\\\\62 & 59 & 31 & 26 & 32\\\\33 & 34 & 19 & 27 & 48\\end{matrix}\\right]$"
      ],
      "text/plain": [
       "⎡67  57  27  38  46⎤\n",
       "⎢                  ⎥\n",
       "⎢62  59  31  26  32⎥\n",
       "⎢                  ⎥\n",
       "⎣33  34  19  27  48⎦"
      ]
     },
     "execution_count": 53,
     "metadata": {},
     "output_type": "execute_result"
    }
   ],
   "source": [
    "M_3_b_3"
   ]
  },
  {
   "cell_type": "code",
   "execution_count": 54,
   "metadata": {
    "pycharm": {
     "name": "#%%\n"
    }
   },
   "outputs": [
    {
     "data": {
      "text/latex": [
       "$\\displaystyle \\left( \\left[\\begin{matrix}1 & 0 & 0 & 2954 & 6154\\\\0 & 1 & 0 & -6839 & -14250\\\\0 & 0 & 1 & 7109 & 14814\\end{matrix}\\right], \\  \\left( 0, \\  1, \\  2\\right)\\right)$"
      ],
      "text/plain": [
       "⎛⎡1  0  0  2954    6154 ⎤           ⎞\n",
       "⎜⎢                      ⎥           ⎟\n",
       "⎜⎢0  1  0  -6839  -14250⎥, (0, 1, 2)⎟\n",
       "⎜⎢                      ⎥           ⎟\n",
       "⎝⎣0  0  1  7109   14814 ⎦           ⎠"
      ]
     },
     "execution_count": 54,
     "metadata": {},
     "output_type": "execute_result"
    }
   ],
   "source": [
    "M_3_b_3.rref()"
   ]
  },
  {
   "cell_type": "code",
   "execution_count": null,
   "metadata": {
    "pycharm": {
     "name": "#%%\n"
    }
   },
   "outputs": [],
   "source": []
  },
  {
   "cell_type": "code",
   "execution_count": 55,
   "metadata": {
    "pycharm": {
     "name": "#%%\n"
    }
   },
   "outputs": [],
   "source": [
    "# example 4"
   ]
  },
  {
   "cell_type": "code",
   "execution_count": 57,
   "metadata": {
    "pycharm": {
     "name": "#%%\n"
    }
   },
   "outputs": [],
   "source": [
    "a = sp.Symbol(\"a\")"
   ]
  },
  {
   "cell_type": "code",
   "execution_count": 58,
   "metadata": {
    "pycharm": {
     "name": "#%%\n"
    }
   },
   "outputs": [
    {
     "data": {
      "image/png": "[encoded data removed]",
      "text/latex": [
       "$\\displaystyle a$"
      ],
      "text/plain": [
       "a"
      ]
     },
     "execution_count": 58,
     "metadata": {},
     "output_type": "execute_result"
    }
   ],
   "source": [
    "a"
   ]
  },
  {
   "cell_type": "code",
   "execution_count": 59,
   "metadata": {
    "pycharm": {
     "name": "#%%\n"
    }
   },
   "outputs": [],
   "source": [
    "M_4 = sp.Matrix(3,3,[\n",
    "    6,7,9,\n",
    "    8,a,5,\n",
    "    6,8,8\n",
    "])"
   ]
  },
  {
   "cell_type": "code",
   "execution_count": 60,
   "metadata": {
    "pycharm": {
     "name": "#%%\n"
    }
   },
   "outputs": [
    {
     "data": {
      "text/latex": [
       "$\\displaystyle \\left[\\begin{matrix}6 & 7 & 9\\\\8 & a & 5\\\\6 & 8 & 8\\end{matrix}\\right]$"
      ],
      "text/plain": [
       "⎡6  7  9⎤\n",
       "⎢       ⎥\n",
       "⎢8  a  5⎥\n",
       "⎢       ⎥\n",
       "⎣6  8  8⎦"
      ]
     },
     "execution_count": 60,
     "metadata": {},
     "output_type": "execute_result"
    }
   ],
   "source": [
    "M_4"
   ]
  },
  {
   "cell_type": "code",
   "execution_count": 62,
   "metadata": {
    "pycharm": {
     "name": "#%%\n"
    }
   },
   "outputs": [],
   "source": [
    "eq_4 = sp.det(M_4)"
   ]
  },
  {
   "cell_type": "code",
   "execution_count": null,
   "metadata": {
    "pycharm": {
     "name": "#%%\n"
    }
   },
   "outputs": [],
   "source": [
    "# det(M_4) = 48*a+64*9+30*7-54*a-64*7-30*8=-6*a+2*64-30=-6*a+98"
   ]
  },
  {
   "cell_type": "code",
   "execution_count": 64,
   "metadata": {
    "pycharm": {
     "name": "#%%\n"
    }
   },
   "outputs": [
    {
     "data": {
      "image/png": "[encoded data removed]",
      "text/latex": [
       "$\\displaystyle \\left[ \\frac{49}{3}\\right]$"
      ],
      "text/plain": [
       "[49/3]"
      ]
     },
     "execution_count": 64,
     "metadata": {},
     "output_type": "execute_result"
    }
   ],
   "source": [
    "sp.solve(eq_4,a)"
   ]
  },
  {
   "cell_type": "code",
   "execution_count": 65,
   "metadata": {
    "pycharm": {
     "name": "#%%\n"
    }
   },
   "outputs": [
    {
     "data": {
      "image/png": "[encoded data removed]",
      "text/latex": [
       "$\\displaystyle 98 - 6 a$"
      ],
      "text/plain": [
       "98 - 6⋅a"
      ]
     },
     "execution_count": 65,
     "metadata": {},
     "output_type": "execute_result"
    }
   ],
   "source": [
    "eq_4"
   ]
  },
  {
   "cell_type": "code",
   "execution_count": 66,
   "metadata": {
    "pycharm": {
     "name": "#%%\n"
    }
   },
   "outputs": [
    {
     "data": {
      "image/png": "[encoded data removed]",
      "text/latex": [
       "$\\displaystyle 16.333333333333332$"
      ],
      "text/plain": [
       "16.333333333333332"
      ]
     },
     "execution_count": 66,
     "metadata": {},
     "output_type": "execute_result"
    }
   ],
   "source": [
    "49.0/3"
   ]
  },
  {
   "cell_type": "code",
   "execution_count": null,
   "metadata": {
    "pycharm": {
     "name": "#%%\n"
    }
   },
   "outputs": [],
   "source": []
  },
  {
   "cell_type": "code",
   "execution_count": 67,
   "metadata": {
    "pycharm": {
     "name": "#%%\n"
    }
   },
   "outputs": [],
   "source": [
    "# example 5"
   ]
  },
  {
   "cell_type": "code",
   "execution_count": 69,
   "metadata": {
    "pycharm": {
     "name": "#%%\n"
    }
   },
   "outputs": [],
   "source": [
    "A_5 = sp.Matrix(2,4,[\n",
    "    8,2,5,7,\n",
    "    6,7,3,0\n",
    "])"
   ]
  },
  {
   "cell_type": "code",
   "execution_count": 70,
   "metadata": {
    "pycharm": {
     "name": "#%%\n"
    }
   },
   "outputs": [
    {
     "data": {
      "text/latex": [
       "$\\displaystyle \\left[\\begin{matrix}8 & 2 & 5 & 7\\\\6 & 7 & 3 & 0\\end{matrix}\\right]$"
      ],
      "text/plain": [
       "⎡8  2  5  7⎤\n",
       "⎢          ⎥\n",
       "⎣6  7  3  0⎦"
      ]
     },
     "execution_count": 70,
     "metadata": {},
     "output_type": "execute_result"
    }
   ],
   "source": [
    "A_5"
   ]
  },
  {
   "cell_type": "code",
   "execution_count": 71,
   "metadata": {
    "pycharm": {
     "name": "#%%\n"
    }
   },
   "outputs": [],
   "source": [
    "B_5 = sp.Matrix(2,4,[\n",
    "    8,0,0,8,\n",
    "    1,9,2,2\n",
    "])"
   ]
  },
  {
   "cell_type": "code",
   "execution_count": 75,
   "metadata": {
    "pycharm": {
     "name": "#%%\n"
    }
   },
   "outputs": [],
   "source": [
    "C_5 = A_5.T*B_5"
   ]
  },
  {
   "cell_type": "code",
   "execution_count": 76,
   "metadata": {
    "pycharm": {
     "name": "#%%\n"
    }
   },
   "outputs": [
    {
     "data": {
      "text/latex": [
       "$\\displaystyle \\left[\\begin{matrix}70 & 54 & 12 & 76\\\\23 & 63 & 14 & 30\\\\43 & 27 & 6 & 46\\\\56 & 0 & 0 & 56\\end{matrix}\\right]$"
      ],
      "text/plain": [
       "⎡70  54  12  76⎤\n",
       "⎢              ⎥\n",
       "⎢23  63  14  30⎥\n",
       "⎢              ⎥\n",
       "⎢43  27  6   46⎥\n",
       "⎢              ⎥\n",
       "⎣56  0   0   56⎦"
      ]
     },
     "execution_count": 76,
     "metadata": {},
     "output_type": "execute_result"
    }
   ],
   "source": [
    "C_5"
   ]
  },
  {
   "cell_type": "code",
   "execution_count": 77,
   "metadata": {
    "pycharm": {
     "name": "#%%\n"
    }
   },
   "outputs": [
    {
     "data": {
      "image/png": "[encoded data removed]",
      "text/latex": [
       "$\\displaystyle 76$"
      ],
      "text/plain": [
       "76"
      ]
     },
     "execution_count": 77,
     "metadata": {},
     "output_type": "execute_result"
    }
   ],
   "source": [
    "max(C_5)"
   ]
  },
  {
   "cell_type": "code",
   "execution_count": 78,
   "metadata": {
    "pycharm": {
     "name": "#%%\n"
    }
   },
   "outputs": [],
   "source": [
    "D_5=A_5*B_5.T"
   ]
  },
  {
   "cell_type": "code",
   "execution_count": 79,
   "metadata": {
    "pycharm": {
     "name": "#%%\n"
    }
   },
   "outputs": [
    {
     "data": {
      "text/latex": [
       "$\\displaystyle \\left[\\begin{matrix}120 & 50\\\\48 & 75\\end{matrix}\\right]$"
      ],
      "text/plain": [
       "⎡120  50⎤\n",
       "⎢       ⎥\n",
       "⎣48   75⎦"
      ]
     },
     "execution_count": 79,
     "metadata": {},
     "output_type": "execute_result"
    }
   ],
   "source": [
    "D_5"
   ]
  },
  {
   "cell_type": "code",
   "execution_count": 80,
   "metadata": {
    "pycharm": {
     "name": "#%%\n"
    }
   },
   "outputs": [
    {
     "data": {
      "image/png": "[encoded data removed]",
      "text/latex": [
       "$\\displaystyle 293$"
      ],
      "text/plain": [
       "293"
      ]
     },
     "execution_count": 80,
     "metadata": {},
     "output_type": "execute_result"
    }
   ],
   "source": [
    "sum(D_5)"
   ]
  },
  {
   "cell_type": "code",
   "execution_count": null,
   "metadata": {
    "pycharm": {
     "name": "#%%\n"
    }
   },
   "outputs": [],
   "source": []
  },
  {
   "cell_type": "code",
   "execution_count": 81,
   "metadata": {
    "pycharm": {
     "name": "#%%\n"
    }
   },
   "outputs": [],
   "source": [
    "# example 6"
   ]
  },
  {
   "cell_type": "code",
   "execution_count": 82,
   "metadata": {
    "pycharm": {
     "name": "#%%\n"
    }
   },
   "outputs": [],
   "source": [
    "# A*X*B=C --> A**(-1)*A*X*B=A**(-1)*C --> X*B=A**(-1)*C --> X = A**(-1)*C*B**(-1)"
   ]
  },
  {
   "cell_type": "code",
   "execution_count": 83,
   "metadata": {
    "pycharm": {
     "name": "#%%\n"
    }
   },
   "outputs": [],
   "source": [
    "A_6 = sp.Matrix(2,2,[\n",
    "    7,5,6,2\n",
    "])"
   ]
  },
  {
   "cell_type": "code",
   "execution_count": 84,
   "metadata": {
    "pycharm": {
     "name": "#%%\n"
    }
   },
   "outputs": [
    {
     "data": {
      "text/latex": [
       "$\\displaystyle \\left[\\begin{matrix}7 & 5\\\\6 & 2\\end{matrix}\\right]$"
      ],
      "text/plain": [
       "⎡7  5⎤\n",
       "⎢    ⎥\n",
       "⎣6  2⎦"
      ]
     },
     "execution_count": 84,
     "metadata": {},
     "output_type": "execute_result"
    }
   ],
   "source": [
    "A_6"
   ]
  },
  {
   "cell_type": "code",
   "execution_count": 85,
   "metadata": {
    "pycharm": {
     "name": "#%%\n"
    }
   },
   "outputs": [],
   "source": [
    "B_6 = sp.Matrix(2,2,[9,3,5,7])"
   ]
  },
  {
   "cell_type": "code",
   "execution_count": 86,
   "metadata": {
    "pycharm": {
     "name": "#%%\n"
    }
   },
   "outputs": [
    {
     "data": {
      "text/latex": [
       "$\\displaystyle \\left[\\begin{matrix}9 & 3\\\\5 & 7\\end{matrix}\\right]$"
      ],
      "text/plain": [
       "⎡9  3⎤\n",
       "⎢    ⎥\n",
       "⎣5  7⎦"
      ]
     },
     "execution_count": 86,
     "metadata": {},
     "output_type": "execute_result"
    }
   ],
   "source": [
    "B_6"
   ]
  },
  {
   "cell_type": "code",
   "execution_count": 87,
   "metadata": {
    "pycharm": {
     "name": "#%%\n"
    }
   },
   "outputs": [],
   "source": [
    "C_6 = sp.Matrix(2,2,[26,11,27,12])"
   ]
  },
  {
   "cell_type": "code",
   "execution_count": 88,
   "metadata": {
    "pycharm": {
     "name": "#%%\n"
    }
   },
   "outputs": [
    {
     "data": {
      "text/latex": [
       "$\\displaystyle \\left[\\begin{matrix}26 & 11\\\\27 & 12\\end{matrix}\\right]$"
      ],
      "text/plain": [
       "⎡26  11⎤\n",
       "⎢      ⎥\n",
       "⎣27  12⎦"
      ]
     },
     "execution_count": 88,
     "metadata": {},
     "output_type": "execute_result"
    }
   ],
   "source": [
    "C_6"
   ]
  },
  {
   "cell_type": "code",
   "execution_count": 91,
   "metadata": {
    "pycharm": {
     "name": "#%%\n"
    }
   },
   "outputs": [
    {
     "data": {
      "text/latex": [
       "$\\displaystyle \\left[\\begin{matrix}\\frac{4}{5} & - \\frac{11}{15}\\\\- \\frac{9}{5} & \\frac{26}{15}\\end{matrix}\\right]$"
      ],
      "text/plain": [
       "⎡      -11 ⎤\n",
       "⎢4/5   ────⎥\n",
       "⎢       15 ⎥\n",
       "⎢          ⎥\n",
       "⎢       26 ⎥\n",
       "⎢-9/5   ── ⎥\n",
       "⎣       15 ⎦"
      ]
     },
     "execution_count": 91,
     "metadata": {},
     "output_type": "execute_result"
    }
   ],
   "source": [
    "C_6**(-1)"
   ]
  },
  {
   "cell_type": "code",
   "execution_count": 92,
   "metadata": {
    "pycharm": {
     "name": "#%%\n"
    }
   },
   "outputs": [],
   "source": [
    "X_6 = A_6**(-1)*C_6*B_6**(-1)"
   ]
  },
  {
   "cell_type": "code",
   "execution_count": 93,
   "metadata": {
    "pycharm": {
     "name": "#%%\n"
    }
   },
   "outputs": [
    {
     "data": {
      "text/latex": [
       "$\\displaystyle \\left[\\begin{matrix}\\frac{391}{768} & \\frac{31}{256}\\\\- \\frac{47}{256} & - \\frac{21}{256}\\end{matrix}\\right]$"
      ],
      "text/plain": [
       "⎡391    31 ⎤\n",
       "⎢───   ─── ⎥\n",
       "⎢768   256 ⎥\n",
       "⎢          ⎥\n",
       "⎢-47   -21 ⎥\n",
       "⎢────  ────⎥\n",
       "⎣256   256 ⎦"
      ]
     },
     "execution_count": 93,
     "metadata": {},
     "output_type": "execute_result"
    }
   ],
   "source": [
    "X_6"
   ]
  },
  {
   "cell_type": "code",
   "execution_count": 94,
   "metadata": {
    "pycharm": {
     "name": "#%%\n"
    }
   },
   "outputs": [
    {
     "data": {
      "text/latex": [
       "$\\displaystyle \\left[\\begin{matrix}26 & 11\\\\27 & 12\\end{matrix}\\right]$"
      ],
      "text/plain": [
       "⎡26  11⎤\n",
       "⎢      ⎥\n",
       "⎣27  12⎦"
      ]
     },
     "execution_count": 94,
     "metadata": {},
     "output_type": "execute_result"
    }
   ],
   "source": [
    "A_6*X_6*B_6"
   ]
  },
  {
   "cell_type": "code",
   "execution_count": 98,
   "metadata": {
    "pycharm": {
     "name": "#%%\n"
    }
   },
   "outputs": [
    {
     "data": {
      "image/png": "[encoded data removed]",
      "text/latex": [
       "$\\displaystyle 0.427083333333333$"
      ],
      "text/plain": [
       "0.427083333333333"
      ]
     },
     "execution_count": 98,
     "metadata": {},
     "output_type": "execute_result"
    }
   ],
   "source": [
    "(X_6[0,0]+X_6[1,1])*1.0"
   ]
  },
  {
   "cell_type": "code",
   "execution_count": 100,
   "metadata": {
    "pycharm": {
     "name": "#%%\n"
    }
   },
   "outputs": [
    {
     "data": {
      "image/png": "[encoded data removed]",
      "text/latex": [
       "$\\displaystyle 0.364583333333333$"
      ],
      "text/plain": [
       "0.364583333333333"
      ]
     },
     "execution_count": 100,
     "metadata": {},
     "output_type": "execute_result"
    }
   ],
   "source": [
    "sum(X_6)*1.0"
   ]
  },
  {
   "cell_type": "code",
   "execution_count": null,
   "metadata": {
    "pycharm": {
     "name": "#%%\n"
    }
   },
   "outputs": [],
   "source": []
  }
 ],
 "metadata": {
  "kernelspec": {
   "display_name": "Python 3",
   "language": "python",
   "name": "python3"
  },
  "language_info": {
   "codemirror_mode": {
    "name": "ipython",
    "version": 3
   },
   "file_extension": ".py",
   "mimetype": "text/x-python",
   "name": "python",
   "nbconvert_exporter": "python",
   "pygments_lexer": "ipython3",
   "version": "3.8.3"
  }
 },
 "nbformat": 4,
 "nbformat_minor": 4
}