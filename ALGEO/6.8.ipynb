{
 "cells": [
  {
   "cell_type": "code",
   "execution_count": 2,
   "metadata": {
    "collapsed": true
   },
   "outputs": [
    {
     "data": {
      "text/plain": "16*x**2 - 116*x + 576",
      "text/latex": "$\\displaystyle 16 x^{2} - 116 x + 576$"
     },
     "execution_count": 2,
     "metadata": {},
     "output_type": "execute_result"
    }
   ],
   "source": [
    "import sympy as sp\n",
    "import numpy as np\n",
    "x = sp.symbols('x')\n",
    "M = sp.Matrix(4,4,[\n",
    "    7,5,5,x,\n",
    "    2,2,6,9,\n",
    "    3,x,8,0,\n",
    "    3,1,1,0\n",
    "])\n",
    "np.array(M)\n",
    "M.det()"
   ]
  },
  {
   "cell_type": "code",
   "execution_count": 3,
   "outputs": [
    {
     "data": {
      "text/plain": "16*x**2 - 116*x + 576",
      "text/latex": "$\\displaystyle 16 x^{2} - 116 x + 576$"
     },
     "execution_count": 3,
     "metadata": {},
     "output_type": "execute_result"
    }
   ],
   "source": [
    "import sympy as sp\n",
    "x = sp.symbols('x')\n",
    "M = sp.Matrix(4,4,[\n",
    "    7,5,5,x,\n",
    "    2,2,6,9,\n",
    "    3,x,8,0,\n",
    "    3,1,1,0\n",
    "])\n",
    "sp.det(M)"
   ],
   "metadata": {
    "collapsed": false
   }
  },
  {
   "cell_type": "code",
   "execution_count": null,
   "outputs": [],
   "source": [],
   "metadata": {
    "collapsed": false
   }
  }
 ],
 "metadata": {
  "kernelspec": {
   "display_name": "Python 3",
   "language": "python",
   "name": "python3"
  },
  "language_info": {
   "codemirror_mode": {
    "name": "ipython",
    "version": 2
   },
   "file_extension": ".py",
   "mimetype": "text/x-python",
   "name": "python",
   "nbconvert_exporter": "python",
   "pygments_lexer": "ipython2",
   "version": "2.7.6"
  }
 },
 "nbformat": 4,
 "nbformat_minor": 0
}
