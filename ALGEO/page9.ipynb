{
 "cells": [
  {
   "cell_type": "code",
   "execution_count": 1,
   "outputs": [
    {
     "ename": "ValueError",
     "evalue": "The TextBackend supports only expressions over a 1D range",
     "output_type": "error",
     "traceback": [
      "\u001B[1;31m---------------------------------------------------------------------------\u001B[0m",
      "\u001B[1;31mValueError\u001B[0m                                Traceback (most recent call last)",
      "Cell \u001B[1;32mIn[1], line 6\u001B[0m\n\u001B[0;32m      3\u001B[0m x, y \u001B[38;5;241m=\u001B[39m symbols(\u001B[38;5;124m'\u001B[39m\u001B[38;5;124mx, y\u001B[39m\u001B[38;5;124m'\u001B[39m)\n\u001B[0;32m      5\u001B[0m \u001B[38;5;66;03m# a\u001B[39;00m\n\u001B[1;32m----> 6\u001B[0m \u001B[43mplot_implicit\u001B[49m\u001B[43m(\u001B[49m\u001B[38;5;241;43m4\u001B[39;49m\u001B[38;5;241;43m*\u001B[39;49m\u001B[43mx\u001B[49m\u001B[38;5;241;43m*\u001B[39;49m\u001B[38;5;241;43m*\u001B[39;49m\u001B[38;5;241;43m2\u001B[39;49m\u001B[43m \u001B[49m\u001B[38;5;241;43m+\u001B[39;49m\u001B[43m \u001B[49m\u001B[38;5;241;43m3\u001B[39;49m\u001B[38;5;241;43m*\u001B[39;49m\u001B[43my\u001B[49m\u001B[38;5;241;43m*\u001B[39;49m\u001B[38;5;241;43m*\u001B[39;49m\u001B[38;5;241;43m2\u001B[39;49m\u001B[43m \u001B[49m\u001B[38;5;241;43m<\u001B[39;49m\u001B[43m \u001B[49m\u001B[38;5;241;43m1\u001B[39;49m\u001B[43m)\u001B[49m\n\u001B[0;32m      8\u001B[0m \u001B[38;5;66;03m# b\u001B[39;00m\n\u001B[0;32m      9\u001B[0m plot_implicit(y \u001B[38;5;241m<\u001B[39m \u001B[38;5;241m-\u001B[39m x \u001B[38;5;241m+\u001B[39m \u001B[38;5;241m2\u001B[39m\u001B[38;5;241m*\u001B[39m\u001B[38;5;241m*\u001B[39m\u001B[38;5;241m0.5\u001B[39m)\n",
      "File \u001B[1;32m~\\AppData\\Roaming\\Python\\Python311\\site-packages\\sympy\\plotting\\plot_implicit.py:431\u001B[0m, in \u001B[0;36mplot_implicit\u001B[1;34m(expr, x_var, y_var, adaptive, depth, points, line_color, show, **kwargs)\u001B[0m\n\u001B[0;32m    429\u001B[0m p \u001B[38;5;241m=\u001B[39m Plot(series_argument, \u001B[38;5;241m*\u001B[39m\u001B[38;5;241m*\u001B[39mkwargs)\n\u001B[0;32m    430\u001B[0m \u001B[38;5;28;01mif\u001B[39;00m show:\n\u001B[1;32m--> 431\u001B[0m     \u001B[43mp\u001B[49m\u001B[38;5;241;43m.\u001B[39;49m\u001B[43mshow\u001B[49m\u001B[43m(\u001B[49m\u001B[43m)\u001B[49m\n\u001B[0;32m    432\u001B[0m \u001B[38;5;28;01mreturn\u001B[39;00m p\n",
      "File \u001B[1;32m~\\AppData\\Roaming\\Python\\Python311\\site-packages\\sympy\\plotting\\plot.py:251\u001B[0m, in \u001B[0;36mPlot.show\u001B[1;34m(self)\u001B[0m\n\u001B[0;32m    249\u001B[0m     \u001B[38;5;28mself\u001B[39m\u001B[38;5;241m.\u001B[39m_backend\u001B[38;5;241m.\u001B[39mclose()\n\u001B[0;32m    250\u001B[0m \u001B[38;5;28mself\u001B[39m\u001B[38;5;241m.\u001B[39m_backend \u001B[38;5;241m=\u001B[39m \u001B[38;5;28mself\u001B[39m\u001B[38;5;241m.\u001B[39mbackend(\u001B[38;5;28mself\u001B[39m)\n\u001B[1;32m--> 251\u001B[0m \u001B[38;5;28;43mself\u001B[39;49m\u001B[38;5;241;43m.\u001B[39;49m\u001B[43m_backend\u001B[49m\u001B[38;5;241;43m.\u001B[39;49m\u001B[43mshow\u001B[49m\u001B[43m(\u001B[49m\u001B[43m)\u001B[49m\n",
      "File \u001B[1;32m~\\AppData\\Roaming\\Python\\Python311\\site-packages\\sympy\\plotting\\plot.py:1578\u001B[0m, in \u001B[0;36mTextBackend.show\u001B[1;34m(self)\u001B[0m\n\u001B[0;32m   1575\u001B[0m     \u001B[38;5;28;01mraise\u001B[39;00m \u001B[38;5;167;01mValueError\u001B[39;00m(\n\u001B[0;32m   1576\u001B[0m         \u001B[38;5;124m'\u001B[39m\u001B[38;5;124mThe TextBackend supports only one graph per Plot.\u001B[39m\u001B[38;5;124m'\u001B[39m)\n\u001B[0;32m   1577\u001B[0m \u001B[38;5;28;01melif\u001B[39;00m \u001B[38;5;129;01mnot\u001B[39;00m \u001B[38;5;28misinstance\u001B[39m(\u001B[38;5;28mself\u001B[39m\u001B[38;5;241m.\u001B[39mparent\u001B[38;5;241m.\u001B[39m_series[\u001B[38;5;241m0\u001B[39m], LineOver1DRangeSeries):\n\u001B[1;32m-> 1578\u001B[0m     \u001B[38;5;28;01mraise\u001B[39;00m \u001B[38;5;167;01mValueError\u001B[39;00m(\n\u001B[0;32m   1579\u001B[0m         \u001B[38;5;124m'\u001B[39m\u001B[38;5;124mThe TextBackend supports only expressions over a 1D range\u001B[39m\u001B[38;5;124m'\u001B[39m)\n\u001B[0;32m   1580\u001B[0m \u001B[38;5;28;01melse\u001B[39;00m:\n\u001B[0;32m   1581\u001B[0m     ser \u001B[38;5;241m=\u001B[39m \u001B[38;5;28mself\u001B[39m\u001B[38;5;241m.\u001B[39mparent\u001B[38;5;241m.\u001B[39m_series[\u001B[38;5;241m0\u001B[39m]\n",
      "\u001B[1;31mValueError\u001B[0m: The TextBackend supports only expressions over a 1D range"
     ]
    }
   ],
   "source": [
    "from sympy import *\n",
    "\n",
    "x, y = symbols('x, y')\n",
    "\n",
    "# a\n",
    "plot_implicit(4*x**2 + 3*y**2 < 1)\n",
    "\n",
    "# b\n",
    "plot_implicit(y < - x + 2**0.5)\n",
    "\n",
    "# d\n",
    "plot_implicit(And(x**2 + y**2 < 1, x > 0))"
   ],
   "metadata": {
    "collapsed": false
   }
  },
  {
   "cell_type": "code",
   "execution_count": 4,
   "outputs": [
    {
     "ename": "ValueError",
     "evalue": "The TextBackend supports only expressions over a 1D range",
     "output_type": "error",
     "traceback": [
      "\u001B[1;31m---------------------------------------------------------------------------\u001B[0m",
      "\u001B[1;31mValueError\u001B[0m                                Traceback (most recent call last)",
      "Cell \u001B[1;32mIn[4], line 6\u001B[0m\n\u001B[0;32m      3\u001B[0m x, y \u001B[38;5;241m=\u001B[39m symbols(\u001B[38;5;124m'\u001B[39m\u001B[38;5;124mx, y\u001B[39m\u001B[38;5;124m'\u001B[39m)\n\u001B[0;32m      5\u001B[0m \u001B[38;5;66;03m# a\u001B[39;00m\n\u001B[1;32m----> 6\u001B[0m \u001B[43mplot_implicit\u001B[49m\u001B[43m(\u001B[49m\u001B[38;5;241;43m4\u001B[39;49m\u001B[38;5;241;43m*\u001B[39;49m\u001B[43mx\u001B[49m\u001B[38;5;241;43m*\u001B[39;49m\u001B[38;5;241;43m*\u001B[39;49m\u001B[38;5;241;43m2\u001B[39;49m\u001B[43m \u001B[49m\u001B[38;5;241;43m+\u001B[39;49m\u001B[43m \u001B[49m\u001B[38;5;241;43m3\u001B[39;49m\u001B[38;5;241;43m*\u001B[39;49m\u001B[43my\u001B[49m\u001B[38;5;241;43m*\u001B[39;49m\u001B[38;5;241;43m*\u001B[39;49m\u001B[38;5;241;43m2\u001B[39;49m\u001B[43m \u001B[49m\u001B[38;5;241;43m<\u001B[39;49m\u001B[43m \u001B[49m\u001B[38;5;241;43m1\u001B[39;49m\u001B[43m)\u001B[49m\n\u001B[0;32m      8\u001B[0m \u001B[38;5;66;03m# b\u001B[39;00m\n\u001B[0;32m      9\u001B[0m plot_implicit(y \u001B[38;5;241m<\u001B[39m \u001B[38;5;241m-\u001B[39m x \u001B[38;5;241m+\u001B[39m \u001B[38;5;241m2\u001B[39m\u001B[38;5;241m*\u001B[39m\u001B[38;5;241m*\u001B[39m\u001B[38;5;241m0.5\u001B[39m)\n",
      "File \u001B[1;32m~\\AppData\\Roaming\\Python\\Python311\\site-packages\\sympy\\plotting\\plot_implicit.py:431\u001B[0m, in \u001B[0;36mplot_implicit\u001B[1;34m(expr, x_var, y_var, adaptive, depth, points, line_color, show, **kwargs)\u001B[0m\n\u001B[0;32m    429\u001B[0m p \u001B[38;5;241m=\u001B[39m Plot(series_argument, \u001B[38;5;241m*\u001B[39m\u001B[38;5;241m*\u001B[39mkwargs)\n\u001B[0;32m    430\u001B[0m \u001B[38;5;28;01mif\u001B[39;00m show:\n\u001B[1;32m--> 431\u001B[0m     \u001B[43mp\u001B[49m\u001B[38;5;241;43m.\u001B[39;49m\u001B[43mshow\u001B[49m\u001B[43m(\u001B[49m\u001B[43m)\u001B[49m\n\u001B[0;32m    432\u001B[0m \u001B[38;5;28;01mreturn\u001B[39;00m p\n",
      "File \u001B[1;32m~\\AppData\\Roaming\\Python\\Python311\\site-packages\\sympy\\plotting\\plot.py:251\u001B[0m, in \u001B[0;36mPlot.show\u001B[1;34m(self)\u001B[0m\n\u001B[0;32m    249\u001B[0m     \u001B[38;5;28mself\u001B[39m\u001B[38;5;241m.\u001B[39m_backend\u001B[38;5;241m.\u001B[39mclose()\n\u001B[0;32m    250\u001B[0m \u001B[38;5;28mself\u001B[39m\u001B[38;5;241m.\u001B[39m_backend \u001B[38;5;241m=\u001B[39m \u001B[38;5;28mself\u001B[39m\u001B[38;5;241m.\u001B[39mbackend(\u001B[38;5;28mself\u001B[39m)\n\u001B[1;32m--> 251\u001B[0m \u001B[38;5;28;43mself\u001B[39;49m\u001B[38;5;241;43m.\u001B[39;49m\u001B[43m_backend\u001B[49m\u001B[38;5;241;43m.\u001B[39;49m\u001B[43mshow\u001B[49m\u001B[43m(\u001B[49m\u001B[43m)\u001B[49m\n",
      "File \u001B[1;32m~\\AppData\\Roaming\\Python\\Python311\\site-packages\\sympy\\plotting\\plot.py:1578\u001B[0m, in \u001B[0;36mTextBackend.show\u001B[1;34m(self)\u001B[0m\n\u001B[0;32m   1575\u001B[0m     \u001B[38;5;28;01mraise\u001B[39;00m \u001B[38;5;167;01mValueError\u001B[39;00m(\n\u001B[0;32m   1576\u001B[0m         \u001B[38;5;124m'\u001B[39m\u001B[38;5;124mThe TextBackend supports only one graph per Plot.\u001B[39m\u001B[38;5;124m'\u001B[39m)\n\u001B[0;32m   1577\u001B[0m \u001B[38;5;28;01melif\u001B[39;00m \u001B[38;5;129;01mnot\u001B[39;00m \u001B[38;5;28misinstance\u001B[39m(\u001B[38;5;28mself\u001B[39m\u001B[38;5;241m.\u001B[39mparent\u001B[38;5;241m.\u001B[39m_series[\u001B[38;5;241m0\u001B[39m], LineOver1DRangeSeries):\n\u001B[1;32m-> 1578\u001B[0m     \u001B[38;5;28;01mraise\u001B[39;00m \u001B[38;5;167;01mValueError\u001B[39;00m(\n\u001B[0;32m   1579\u001B[0m         \u001B[38;5;124m'\u001B[39m\u001B[38;5;124mThe TextBackend supports only expressions over a 1D range\u001B[39m\u001B[38;5;124m'\u001B[39m)\n\u001B[0;32m   1580\u001B[0m \u001B[38;5;28;01melse\u001B[39;00m:\n\u001B[0;32m   1581\u001B[0m     ser \u001B[38;5;241m=\u001B[39m \u001B[38;5;28mself\u001B[39m\u001B[38;5;241m.\u001B[39mparent\u001B[38;5;241m.\u001B[39m_series[\u001B[38;5;241m0\u001B[39m]\n",
      "\u001B[1;31mValueError\u001B[0m: The TextBackend supports only expressions over a 1D range"
     ]
    }
   ],
   "source": [
    "from sympy import *\n",
    "\n",
    "x, y = symbols('x, y')\n",
    "\n",
    "# a\n",
    "plot_implicit(4*x**2 + 3*y**2 < 1)\n",
    "\n",
    "# b\n",
    "plot_implicit(y < - x + 2**0.5)\n",
    "\n",
    "# d\n",
    "plot_implicit(And(x**2 + y**2 < 1, x > 0))"
   ],
   "metadata": {
    "collapsed": false
   }
  },
  {
   "cell_type": "code",
   "execution_count": 4,
   "outputs": [
    {
     "data": {
      "text/plain": "0",
      "text/latex": "$\\displaystyle 0$"
     },
     "execution_count": 4,
     "metadata": {},
     "output_type": "execute_result"
    }
   ],
   "source": [
    "z1 = -1 + 4*I\n",
    "z2 = -2 + 4*I\n",
    "z3 = 9 - 6*I\n",
    "z4 = -6 + 3*I\n",
    "\n",
    "a, b = symbols('a b')\n",
    "x1,y1 = re(z1), im(z1)\n",
    "x2,y2 = re(z2), im(z2)\n",
    "x3,y3 = re(z3), im(z3)\n",
    "x4,y4 = re(z4), im(z4)\n",
    "\n",
    "M1 = ((x1+x2)/2 , (y1+y2)/2)\n",
    "M2 = ((x2+x3)/2 , (y2+y3)/2)\n",
    "M10 = (a-M1[0], b-M1[1])\n",
    "M20 = (a-M2[0], b-M2[1])\n",
    "\n",
    "e1 = M10[0]*(x1-x2) + M10[1]*(y1-y2)\n",
    "e2 = M20[0]*(x2-x3) + M20[1]*(y2-y3)\n",
    "\n",
    "a1,b1 = list(linsolve([e1,e2], [a,b]))[0]\n",
    "\n",
    "r_square = (x1-a1)**2 + (y1-b1)**2\n",
    "\n",
    "x,y = symbols('x y')\n",
    "circle = (x-a1)**2 + (y-b1)**2 - r_square\n",
    "\n",
    "circle.subs([(x,x4), (y,y4)])"
   ],
   "metadata": {
    "collapsed": false
   }
  },
  {
   "cell_type": "code",
   "execution_count": null,
   "outputs": [],
   "source": [],
   "metadata": {
    "collapsed": false
   }
  }
 ],
 "metadata": {
  "kernelspec": {
   "display_name": "Python 3",
   "language": "python",
   "name": "python3"
  },
  "language_info": {
   "codemirror_mode": {
    "name": "ipython",
    "version": 2
   },
   "file_extension": ".py",
   "mimetype": "text/x-python",
   "name": "python",
   "nbconvert_exporter": "python",
   "pygments_lexer": "ipython2",
   "version": "2.7.6"
  }
 },
 "nbformat": 4,
 "nbformat_minor": 0
}
