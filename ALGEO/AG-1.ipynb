{
 "cells": [
  {
   "cell_type": "markdown",
   "metadata": {},
   "source": [
    "<big>ПМ22-7 Седов Николай </big>"
   ]
  },
  {
   "cell_type": "code",
   "execution_count": 1,
   "metadata": {},
   "outputs": [],
   "source": [
    "import sympy as sp\n",
    "def rrstr(x,n): # округление до n знаков после запятой\n",
    "    fmt = '{:.'+str(n)+'f}'\n",
    "    return fmt.format(x).replace('.',',')"
   ]
  },
  {
   "cell_type": "markdown",
   "metadata": {},
   "source": [
    "1. Решите систему уравнений:\n",
    "$$\n",
    "\\left\\{\\begin{array}{l}\n",
    "2x + 7y + 3z = 347 \\\\ \n",
    "4x + 4y + 9z = 411 \\\\ \n",
    "3x + 3y + 3z = 237 \\\\ \n",
    "\\end{array}\\right.\n",
    "$$\n",
    "В ответе укажите найденные значения неизвестных.\n",
    "1) Значение  $x$.\n",
    "2) Значение  $y$.\n",
    "3) Значение  $z$.<br/>"
   ]
  },
  {
   "cell_type": "code",
   "execution_count": 1,
   "metadata": {},
   "outputs": [
    {
     "data": {
      "text/plain": "{(26, 34, 19)}",
      "text/latex": "$\\displaystyle \\left\\{\\left( 26, \\  34, \\  19\\right)\\right\\}$"
     },
     "execution_count": 1,
     "metadata": {},
     "output_type": "execute_result"
    }
   ],
   "source": [
    "import sympy as sp\n",
    "x,y,z = sp.symbols('x,y,z')\n",
    "eq1 = sp.Eq(2*x+7*y+3*z,347)\n",
    "eq2 = sp.Eq(4*x+4*y+9*z,411)\n",
    "eq3 = sp.Eq(3*x+3*y+3*z,237)\n",
    "ans = sp.linsolve((eq1,eq2,eq3),(x,y,z))\n",
    "ans"
   ]
  },
  {
   "cell_type": "markdown",
   "metadata": {},
   "source": [
    "2. Найдите значения переменных $x,y,z,u,v,w$, удовлетворяющие условиям:\n",
    "$$\n",
    "\\begin{array}{lll}\n",
    "x + u + v = 76;&y + u + w = 89;&z + v + w = 84;\\\\\n",
    "8x+2y+6z-u=139;&3x+8y+5z-v=184;&8x+4y+9z-w=200.\\\\\n",
    "\\end{array}\n",
    "$$\n",
    "В ответе укажите найденные значения:\n",
    "1) значение  $x$;\n",
    "2) значение  $u$.<br/>"
   ]
  },
  {
   "cell_type": "code",
   "execution_count": 1,
   "metadata": {},
   "outputs": [
    {
     "data": {
      "text/plain": "Matrix([\n[1, 0, 0,  1,  1,  0,  76],\n[0, 1, 0,  1,  0,  1,  89],\n[0, 0, 1,  0,  1,  1,  84],\n[8, 2, 6, -1,  0,  0, 139],\n[3, 8, 5,  0, -1,  0, 184],\n[8, 4, 9,  0,  0, -1, 200]])",
      "text/latex": "$\\displaystyle \\left[\\begin{matrix}1 & 0 & 0 & 1 & 1 & 0 & 76\\\\0 & 1 & 0 & 1 & 0 & 1 & 89\\\\0 & 0 & 1 & 0 & 1 & 1 & 84\\\\8 & 2 & 6 & -1 & 0 & 0 & 139\\\\3 & 8 & 5 & 0 & -1 & 0 & 184\\\\8 & 4 & 9 & 0 & 0 & -1 & 200\\end{matrix}\\right]$"
     },
     "execution_count": 1,
     "metadata": {},
     "output_type": "execute_result"
    }
   ],
   "source": [
    "import sympy as sp\n",
    "M_1 = sp.Matrix(6,7,[\n",
    "    1,0,0,1,1,0,76,\n",
    "    0,1,0,1,0,1,89,\n",
    "    0,0,1,0,1,1,84,\n",
    "    8,2,6,-1,0,0,139,\n",
    "    3,8,5,0,-1,0,184,\n",
    "    8,4,9,0,0,-1,200\n",
    "])\n",
    "M_1\n",
    "ans = list(sp.linsolve(M_1))\n",
    "print(ans[0][0],ans[0][3])"
   ]
  },
  {
   "cell_type": "markdown",
   "source": [
    "3. Пусть $(x,y,z,u)$ – решение системы уравнений:\n",
    "$$\n",
    "\\left\\{\\begin{array}{l}\n",
    "28x + 42y + 77z + 48u = 22\\\\ \n",
    "23x + 37y + 80z + 53u = 21\\\\ \n",
    "23x + 12y + 28z + 19u = 22 \n",
    "\\end{array}\\right.\n",
    "$$\n",
    "Объясните, почему $y$ можно представить как функцию от $x$ вида $y=a+bx$, где $a,b$ – константы, \n",
    "зависящие только от коэффициентов исходной системы уравнений.\n",
    "Найдите:\n",
    "1) константу  $a$;\n",
    "2) константу  $b$.<br/>"
   ],
   "metadata": {
    "collapsed": false
   }
  },
  {
   "cell_type": "code",
   "execution_count": 23,
   "outputs": [
    {
     "name": "stdout",
     "output_type": "stream",
     "text": [
      "3595 -3814\n"
     ]
    }
   ],
   "source": [
    "import sympy as sp\n",
    "x,y,z,u = sp.symbols('x,y,z,u')\n",
    "M2 = sp.Matrix(3,5,[\n",
    "    28,42,77,48,22,\n",
    "    23,37,80,53,21,\n",
    "    23,12,28,19,22\n",
    "])\n",
    "M2[:,0],M2[:,3] = M2[:,3],M2[:,0]\n",
    "\n",
    "ans = list(sp.linsolve(M2,(u,y,z,x)))\n",
    "anst = str(ans[0][1])\n",
    "print(anst[:4],anst[5:-2].replace(' ','',1))"
   ],
   "metadata": {
    "collapsed": false
   }
  },
  {
   "cell_type": "markdown",
   "metadata": {},
   "source": [
    "4. Исследуйте следующую систему уравнений на наличие ʺлишнихʺ уравнений при различных значениях параметра $a$:  \n",
    "$$\n",
    "\\left\\{\\begin{array}{l}\n",
    "ax + 2y + 9z = 0\\\\ \n",
    "9x + 9y + 5z = 0\\\\ \n",
    "4x + 3y + 4z = 0 \n",
    "\\end{array}\\right.\n",
    "$$\n",
    "В ответе укажите:\n",
    "1) значение параметра $a$, при котором в системе имеется уравнение, \n",
    "которое является линейной комбинацией других уравнений.<br/>"
   ]
  },
  {
   "cell_type": "code",
   "execution_count": null,
   "outputs": [],
   "source": [
    "import sympy as senpai\n",
    "a = senpai.symbols('a')\n",
    "neo_izbranniy = senpai.Matrix(3,3,[\n",
    "    a,2,9,\n",
    "    9,9,5,\n",
    "    4,3,4\n",
    "])\n",
    "neo_izbranniy[:,0],neo_izbranniy[:,2] = neo_izbranniy[:,2],neo_izbranniy[:,0]\n",
    "neo_izbranniy[0,:],neo_izbranniy[2,:] = neo_izbranniy[2,:],neo_izbranniy[0,:]\n",
    "neo_izbranniy[1,:] = neo_izbranniy[1,:]*4 - neo_izbranniy[0,:]*5\n",
    "neo_izbranniy[2,:] = neo_izbranniy[2,:]*4 - neo_izbranniy[0,:]*9\n",
    "neo_izbranniy[2,:] = neo_izbranniy[2,:]*21 + neo_izbranniy[1,:]*19\n",
    "a = 452/84\n",
    "\n",
    "print(round(a,2))"
   ],
   "metadata": {
    "collapsed": false
   }
  },
  {
   "cell_type": "markdown",
   "metadata": {},
   "source": [
    "5. Исследуйте следующую систему уравнений на наличие ʺлишнихʺ уравнений при различных значениях параметра $a$:  \n",
    "$$\n",
    "\\left\\{\\begin{array}{l}\n",
    "5x + 6y + 9z = 7\\\\ \n",
    "2x + 8y + 3z = 3\\\\ \n",
    "6x + 3y + az = 5\\\\ \n",
    "9x + 9y + 6z = 2\n",
    "\\end{array}\\right.\n",
    "$$\n",
    "В ответе укажите:\n",
    "1) значение параметра $a$, при котором в системе имеется уравнение, \n",
    "которое является линейной комбинацией других уравнений.<br/>"
   ]
  },
  {
   "cell_type": "code",
   "execution_count": 61,
   "outputs": [
    {
     "name": "stdout",
     "output_type": "stream",
     "text": [
      "8.04\n"
     ]
    }
   ],
   "source": [
    "import sympy as sp\n",
    "a = sp.symbols('a')\n",
    "M1 = sp.Matrix(4,4,[\n",
    "    5,6,9,7,\n",
    "    2,8,3,3,\n",
    "    6,3,a,5,\n",
    "    9,9,6,2\n",
    "])\n",
    "M1[2,:],M1[3,:] = M1[3,:],M1[2,:]\n",
    "# M1[:,2],M1[:,3] = M1[:,3],M1[:,2]\n",
    "M1[1,:] = M1[1,:]*5-M1[0,:]*2\n",
    "M1[2,:] = M1[2,:]*5-M1[0,:]*9\n",
    "M1[3,:] = M1[3,:]*5-M1[0,:]*6\n",
    "M1[2,:] = M1[2,:]*28+M1[1,:]*9\n",
    "M1[3,:] = M1[3,:]*28+M1[1,:]*21\n",
    "M1[3,:] = M1[3,:]*1475-M1[2,:]*455\n",
    "M1[2,:]/=5\n",
    "M1[3,:]/=700\n",
    "M1[3,:] = M1[3,:]*291-M1[2,:]*2373\n",
    "M1[3,:]/=885\n",
    "a = (791*291)/(295*97)\n",
    "print(round(a,2))"
   ],
   "metadata": {
    "collapsed": false
   }
  }
 ],
 "metadata": {
  "kernelspec": {
   "display_name": "Python 3",
   "language": "python",
   "name": "python3"
  },
  "language_info": {
   "codemirror_mode": {
    "name": "ipython",
    "version": 3
   },
   "file_extension": ".py",
   "mimetype": "text/x-python",
   "name": "python",
   "nbconvert_exporter": "python",
   "pygments_lexer": "ipython3",
   "version": "3.8.5"
  }
 },
 "nbformat": 4,
 "nbformat_minor": 4
}
