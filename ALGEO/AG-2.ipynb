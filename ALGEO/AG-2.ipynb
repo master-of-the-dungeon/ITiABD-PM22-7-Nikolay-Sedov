{
 "cells": [
  {
   "cell_type": "markdown",
   "metadata": {
    "id": "2qpQugzHXG3o"
   },
   "source": [
    "<big>ПМ22-7 Седов Николай </big>"
   ]
  },
  {
   "cell_type": "code",
   "execution_count": 2,
   "metadata": {
    "id": "M8WE9dehXG3q"
   },
   "outputs": [],
   "source": [
    "import numpy as np\n",
    "import sympy as sp\n",
    "from sympy import *\n",
    "def rrstr(x,n): # округление до n знаков после запятой\n",
    "    fmt = '{:.'+str(n)+'f}'\n",
    "    return fmt.format(x).replace('.',',')\n",
    "init_printing()"
   ]
  },
  {
   "cell_type": "markdown",
   "metadata": {
    "id": "8FSUB1-aXG3s"
   },
   "source": [
    "1. Даны матрицы:  \n",
    "$A = \\pmatrix{3 & 0 & 1 \\\\ 8 & 2 & 3}$, &nbsp;\n",
    "$B = \\pmatrix{5 & 9 & 2 \\\\ 7 & 5 & 6}$, &nbsp;\n",
    "$C = A \\cdot B^T$, &nbsp;\n",
    "$D = A^T \\cdot B$, &nbsp;\n",
    "$K = C \\otimes D$ – произведение Кронекера.\n",
    "Найдите: 1) след матрицы $C$; 2) след матрицы $K$.<br/>"
   ]
  },
  {
   "cell_type": "code",
   "execution_count": 2,
   "metadata": {
    "id": "Cuveoq9rXG3s"
   },
   "outputs": [],
   "source": [
    "A = sp.Matrix(2,3,[\n",
    "    3,0,1,\n",
    "    8,2,3\n",
    "])\n",
    "B = sp.Matrix(2,3,[\n",
    "    5,9,2,\n",
    "    7,5,6\n",
    "])\n",
    "C = A*B.T\n",
    "D = A.T*B\n",
    "K = np.kron(C,D)\n"
   ]
  },
  {
   "cell_type": "code",
   "source": [
    "np.trace(C)"
   ],
   "metadata": {
    "colab": {
     "base_uri": "https://localhost:8080/",
     "height": 37
    },
    "id": "XJd3zpZOX7vk",
    "outputId": "b7ab3d0c-6ac9-45e1-fd2b-e29438f376f9"
   },
   "execution_count": 7,
   "outputs": [
    {
     "output_type": "execute_result",
     "data": {
      "text/plain": [
       "101"
      ],
      "image/png": "[encoded data removed]",
      "text/latex": "$\\displaystyle 101$"
     },
     "metadata": {},
     "execution_count": 7
    }
   ]
  },
  {
   "cell_type": "code",
   "source": [
    "np.trace(K)"
   ],
   "metadata": {
    "colab": {
     "base_uri": "https://localhost:8080/",
     "height": 37
    },
    "id": "xDCazNiaYBKN",
    "outputId": "be9644eb-5c58-4310-9fad-ff7f2d694018"
   },
   "execution_count": 8,
   "outputs": [
    {
     "output_type": "execute_result",
     "data": {
      "text/plain": [
       "10201"
      ],
      "image/png": "[encoded data removed]",
      "text/latex": "$\\displaystyle 10201$"
     },
     "metadata": {},
     "execution_count": 8
    }
   ]
  },
  {
   "cell_type": "markdown",
   "metadata": {
    "id": "GsgfSj2JXG3s"
   },
   "source": [
    "2. Даны матрицы:  \n",
    "$A = \\pmatrix{7 & 5 & 8 \\\\ 2 & 7 & 5 \\\\ 3 & 5 & 7}$, &nbsp;\n",
    "$B = \\pmatrix{25 & 13 \\\\ 27 & 16 \\\\ 33 & 30}$. &nbsp;\n",
    "Найдите матрицу $X$ из уравнения $AX=B$. В ответе укажите: \n",
    "1) наибольший элемент матрицы $X$; \n",
    "2) сумму элементов матрицы $X$.<br/>"
   ]
  },
  {
   "cell_type": "code",
   "execution_count": 1,
   "metadata": {
    "colab": {
     "base_uri": "https://localhost:8080/",
     "height": 79
    },
    "id": "kctTKoThXG3s",
    "outputId": "9f2cc44b-5405-46e6-e3cf-78c1c3ab33e8"
   },
   "outputs": [
    {
     "ename": "NameError",
     "evalue": "name 'sp' is not defined",
     "output_type": "error",
     "traceback": [
      "\u001B[1;31m---------------------------------------------------------------------------\u001B[0m",
      "\u001B[1;31mNameError\u001B[0m                                 Traceback (most recent call last)",
      "Cell \u001B[1;32mIn [1], line 1\u001B[0m\n\u001B[1;32m----> 1\u001B[0m A \u001B[38;5;241m=\u001B[39m \u001B[43msp\u001B[49m\u001B[38;5;241m.\u001B[39mMatrix(\u001B[38;5;241m3\u001B[39m,\u001B[38;5;241m3\u001B[39m,[\n\u001B[0;32m      2\u001B[0m     \u001B[38;5;241m7\u001B[39m,\u001B[38;5;241m5\u001B[39m,\u001B[38;5;241m8\u001B[39m,\n\u001B[0;32m      3\u001B[0m     \u001B[38;5;241m2\u001B[39m,\u001B[38;5;241m7\u001B[39m,\u001B[38;5;241m5\u001B[39m,\n\u001B[0;32m      4\u001B[0m     \u001B[38;5;241m3\u001B[39m,\u001B[38;5;241m5\u001B[39m,\u001B[38;5;241m7\u001B[39m\n\u001B[0;32m      5\u001B[0m ])\n\u001B[0;32m      6\u001B[0m B \u001B[38;5;241m=\u001B[39m sp\u001B[38;5;241m.\u001B[39mMatrix(\u001B[38;5;241m3\u001B[39m,\u001B[38;5;241m2\u001B[39m,[\n\u001B[0;32m      7\u001B[0m     \u001B[38;5;241m25\u001B[39m,\u001B[38;5;241m13\u001B[39m,\n\u001B[0;32m      8\u001B[0m     \u001B[38;5;241m27\u001B[39m,\u001B[38;5;241m16\u001B[39m,\n\u001B[0;32m      9\u001B[0m     \u001B[38;5;241m33\u001B[39m,\u001B[38;5;241m30\u001B[39m\n\u001B[0;32m     10\u001B[0m ])\n\u001B[0;32m     11\u001B[0m X \u001B[38;5;241m=\u001B[39m A\u001B[38;5;241m*\u001B[39m\u001B[38;5;241m*\u001B[39m(\u001B[38;5;241m-\u001B[39m\u001B[38;5;241m1\u001B[39m)\u001B[38;5;241m*\u001B[39mB\n",
      "\u001B[1;31mNameError\u001B[0m: name 'sp' is not defined"
     ]
    }
   ],
   "source": [
    "A = sp.Matrix(3,3,[\n",
    "    7,5,8,\n",
    "    2,7,5,\n",
    "    3,5,7\n",
    "])\n",
    "B = sp.Matrix(3,2,[\n",
    "    25,13,\n",
    "    27,16,\n",
    "    33,30\n",
    "])\n",
    "X = A**(-1)*B\n",
    "X"
   ]
  },
  {
   "cell_type": "code",
   "source": [
    "max(X)"
   ],
   "metadata": {
    "colab": {
     "base_uri": "https://localhost:8080/",
     "height": 51
    },
    "id": "0FsYNsgIYvcg",
    "outputId": "4f94dd5e-4e1c-4c3b-9062-f7358eaebbc4"
   },
   "execution_count": 11,
   "outputs": [
    {
     "output_type": "execute_result",
     "data": {
      "text/plain": [
       "707\n",
       "───\n",
       " 85"
      ],
      "image/png": "[encoded data removed]",
      "text/latex": "$\\displaystyle \\frac{707}{85}$"
     },
     "metadata": {},
     "execution_count": 11
    }
   ]
  },
  {
   "cell_type": "code",
   "source": [
    "sum(X)"
   ],
   "metadata": {
    "colab": {
     "base_uri": "https://localhost:8080/",
     "height": 51
    },
    "id": "Nxtl6PVRYyJy",
    "outputId": "3bd8acd8-3ff2-4dd3-ffd5-cc26ee2ac490"
   },
   "execution_count": 16,
   "outputs": [
    {
     "output_type": "execute_result",
     "data": {
      "text/plain": [
       "269\n",
       "───\n",
       " 85"
      ],
      "image/png": "[encoded data removed]",
      "text/latex": "$\\displaystyle \\frac{269}{85}$"
     },
     "metadata": {},
     "execution_count": 16
    }
   ]
  },
  {
   "cell_type": "code",
   "source": [
    "print(269/85)"
   ],
   "metadata": {
    "colab": {
     "base_uri": "https://localhost:8080/"
    },
    "id": "6Ev1LdfhY5nU",
    "outputId": "5d08766e-a1d9-4e33-e3ef-c359aa87caee"
   },
   "execution_count": 17,
   "outputs": [
    {
     "output_type": "stream",
     "name": "stdout",
     "text": [
      "3.164705882352941\n"
     ]
    }
   ]
  },
  {
   "cell_type": "markdown",
   "metadata": {
    "id": "QgCBEIvZXG3t"
   },
   "source": [
    "3. Даны матрицы:  \n",
    "$$\n",
    "A = \\pmatrix{2 & 0 & 9 &  1\\\\ 7 & 7 & 7 & t\\\\ \n",
    "8 & 2 & 2 & 1\\\\ 3 & 7 & 2 & 8 }\\!, \\quad\n",
    "B = \\pmatrix{5 & 8 & 1 &  0 \\\\ 6 & 1 & 9 & 1\\\\ \n",
    "7 & 2 & 0 & 3\\\\ 6  & 8 & 6 & 0 }\\!, \\quad C = AB.\n",
    "$$\n",
    "При каком $t$ матрица $C$ содержит строку, являющуюся линейной комбинацией других строк?<br/>"
   ]
  },
  {
   "cell_type": "code",
   "execution_count": 22,
   "metadata": {
    "colab": {
     "base_uri": "https://localhost:8080/",
     "height": 99
    },
    "id": "NeYT3_7tXG3t",
    "outputId": "9a22dd56-d987-443d-eb26-866f45581e34"
   },
   "outputs": [
    {
     "output_type": "execute_result",
     "data": {
      "text/plain": [
       "⎡79   42      8                     27               ⎤\n",
       "⎢                                                    ⎥\n",
       "⎢0   3138    1952                 -1312              ⎥\n",
       "⎢                                                    ⎥\n",
       "⎢0    0    19762956              -3155892            ⎥\n",
       "⎢                                                    ⎥\n",
       "⎣0    0       0      1684246188000⋅t - 13379965065600⎦"
      ],
      "text/latex": "$\\displaystyle \\left[\\begin{matrix}79 & 42 & 8 & 27\\\\0 & 3138 & 1952 & -1312\\\\0 & 0 & 19762956 & -3155892\\\\0 & 0 & 0 & 1684246188000 t - 13379965065600\\end{matrix}\\right]$"
     },
     "metadata": {},
     "execution_count": 22
    }
   ],
   "source": [
    "t = Symbol('t')\n",
    "A = sp.Matrix(4,4,[\n",
    "    2,0,9,1,\n",
    "    7,7,7,t,\n",
    "    8,2,2,1,\n",
    "    3,7,2,8\n",
    "])\n",
    "B = sp.Matrix(4,4,[\n",
    "    5,8,1,0,\n",
    "    6,1,9,1,\n",
    "    7,2,0,3,\n",
    "    6,8,6,0\n",
    "])\n",
    "C = A*B\n",
    "C.echelon_form()"
   ]
  },
  {
   "cell_type": "code",
   "source": [
    "q = 1684246188000*t-13379965065600\n",
    "solve(q)"
   ],
   "metadata": {
    "colab": {
     "base_uri": "https://localhost:8080/",
     "height": 58
    },
    "id": "uyHD528haWK6",
    "outputId": "9b14c8e8-6314-4659-ce78-d5266c031386"
   },
   "execution_count": 23,
   "outputs": [
    {
     "output_type": "execute_result",
     "data": {
      "text/plain": [
       "⎡1708⎤\n",
       "⎢────⎥\n",
       "⎣215 ⎦"
      ],
      "image/png": "[encoded data removed]",
      "text/latex": "$\\displaystyle \\left[ \\frac{1708}{215}\\right]$"
     },
     "metadata": {},
     "execution_count": 23
    }
   ]
  },
  {
   "cell_type": "code",
   "source": [
    "t = q\n",
    "A = sp.Matrix(4,4,[\n",
    "    2,0,9,1,\n",
    "    7,7,7,t,\n",
    "    8,2,2,1,\n",
    "    3,7,2,8\n",
    "])\n",
    "B = sp.Matrix(4,4,[\n",
    "    5,8,1,0,\n",
    "    6,1,9,1,\n",
    "    7,2,0,3,\n",
    "    6,8,6,0\n",
    "])\n",
    "C = A*B\n",
    "C.rref()"
   ],
   "metadata": {
    "colab": {
     "base_uri": "https://localhost:8080/",
     "height": 99
    },
    "id": "ePNB3LbuaqsF",
    "outputId": "6f8c1194-70fb-4a88-c0e2-f0f3d25313a6"
   },
   "execution_count": 26,
   "outputs": [
    {
     "output_type": "execute_result",
     "data": {
      "text/plain": [
       "⎛⎡1  0  0  0⎤              ⎞\n",
       "⎜⎢          ⎥              ⎟\n",
       "⎜⎢0  1  0  0⎥              ⎟\n",
       "⎜⎢          ⎥, (0, 1, 2, 3)⎟\n",
       "⎜⎢0  0  1  0⎥              ⎟\n",
       "⎜⎢          ⎥              ⎟\n",
       "⎝⎣0  0  0  1⎦              ⎠"
      ],
      "text/latex": "$\\displaystyle \\left( \\left[\\begin{matrix}1 & 0 & 0 & 0\\\\0 & 1 & 0 & 0\\\\0 & 0 & 1 & 0\\\\0 & 0 & 0 & 1\\end{matrix}\\right], \\  \\left( 0, \\  1, \\  2, \\  3\\right)\\right)$"
     },
     "metadata": {},
     "execution_count": 26
    }
   ]
  },
  {
   "cell_type": "code",
   "source": [
    "print(1708/215)"
   ],
   "metadata": {
    "colab": {
     "base_uri": "https://localhost:8080/"
    },
    "id": "k6_LWBJbba7d",
    "outputId": "9799a327-ad1f-4497-a71f-b3812da64990"
   },
   "execution_count": 27,
   "outputs": [
    {
     "output_type": "stream",
     "name": "stdout",
     "text": [
      "7.944186046511628\n"
     ]
    }
   ]
  },
  {
   "cell_type": "markdown",
   "metadata": {
    "id": "lQg8qaN9XG3t"
   },
   "source": [
    "4. Матрица $A=(a_{i,j})$ имеет размер $n \\times n$, где $n=36000$. \n",
    "Известно, что:\n",
    "1) диагональные элементы образуют геометрическую прогрессию с начальным элементом $a_{1,1}=1$ и \n",
    "конечным элементом $a_{n,n}=1,\\!04$;\n",
    "2) элементы первой строки образуют арифметическую прогрессию с конечным элементом $a_{1,n}=1,\\!22$;\n",
    "3) все элементы матрицы $A$, расположенные вне главной диагонали и вне первой строки, равны нулю.\n",
    "Найдите обратную матрицу $B=A^{-1}$ и укажите в ответе:\n",
    "1) наименьший элемент матрицы $B$;\n",
    "2) сумму элементов матрицы $B$.<br/>"
   ]
  },
  {
   "cell_type": "code",
   "execution_count": 1,
   "metadata": {
    "colab": {
     "base_uri": "https://localhost:8080/",
     "height": 357
    },
    "id": "XjevVZPbXG3u",
    "outputId": "b2905d2f-b74c-44fb-b48b-c6d837c5fc57"
   },
   "outputs": [
    {
     "ename": "OverflowError",
     "evalue": "(34, 'Result too large')",
     "output_type": "error",
     "traceback": [
      "\u001B[1;31m---------------------------------------------------------------------------\u001B[0m",
      "\u001B[1;31mOverflowError\u001B[0m                             Traceback (most recent call last)",
      "Cell \u001B[1;32mIn [1], line 11\u001B[0m\n\u001B[0;32m      7\u001B[0m d \u001B[38;5;241m=\u001B[39m (a1n\u001B[38;5;241m-\u001B[39ma11)\u001B[38;5;241m/\u001B[39m(n\u001B[38;5;241m-\u001B[39m\u001B[38;5;241m1\u001B[39m)\n\u001B[0;32m      9\u001B[0m S1 \u001B[38;5;241m=\u001B[39m [a11 \u001B[38;5;241m*\u001B[39m q\u001B[38;5;241m*\u001B[39m\u001B[38;5;241m*\u001B[39mi \u001B[38;5;28;01mfor\u001B[39;00m i \u001B[38;5;129;01min\u001B[39;00m \u001B[38;5;28mrange\u001B[39m(n)]\n\u001B[1;32m---> 11\u001B[0m S2 \u001B[38;5;241m=\u001B[39m [S1[i]\u001B[38;5;241m*\u001B[39m\u001B[38;5;241m*\u001B[39m\u001B[38;5;241m-\u001B[39m\u001B[38;5;241m1\u001B[39m \u001B[38;5;28;01mfor\u001B[39;00m i \u001B[38;5;129;01min\u001B[39;00m \u001B[38;5;28mrange\u001B[39m(n)]\n\u001B[0;32m     13\u001B[0m S3 \u001B[38;5;241m=\u001B[39m [a11 \u001B[38;5;241m+\u001B[39m d\u001B[38;5;241m*\u001B[39mi \u001B[38;5;28;01mfor\u001B[39;00m i \u001B[38;5;129;01min\u001B[39;00m \u001B[38;5;28mrange\u001B[39m(n)]\n\u001B[0;32m     15\u001B[0m S4 \u001B[38;5;241m=\u001B[39m S3[:\u001B[38;5;241m1\u001B[39m] \u001B[38;5;241m+\u001B[39m [S[i]\u001B[38;5;241m*\u001B[39m\u001B[38;5;241m*\u001B[39m(\u001B[38;5;241m-\u001B[39m\u001B[38;5;241m1\u001B[39m)\u001B[38;5;241m/\u001B[39mS1[i] \u001B[38;5;28;01mfor\u001B[39;00m i \u001B[38;5;129;01min\u001B[39;00m \u001B[38;5;28mrange\u001B[39m(\u001B[38;5;241m1\u001B[39m,n)]\n",
      "Cell \u001B[1;32mIn [1], line 11\u001B[0m, in \u001B[0;36m<listcomp>\u001B[1;34m(.0)\u001B[0m\n\u001B[0;32m      7\u001B[0m d \u001B[38;5;241m=\u001B[39m (a1n\u001B[38;5;241m-\u001B[39ma11)\u001B[38;5;241m/\u001B[39m(n\u001B[38;5;241m-\u001B[39m\u001B[38;5;241m1\u001B[39m)\n\u001B[0;32m      9\u001B[0m S1 \u001B[38;5;241m=\u001B[39m [a11 \u001B[38;5;241m*\u001B[39m q\u001B[38;5;241m*\u001B[39m\u001B[38;5;241m*\u001B[39mi \u001B[38;5;28;01mfor\u001B[39;00m i \u001B[38;5;129;01min\u001B[39;00m \u001B[38;5;28mrange\u001B[39m(n)]\n\u001B[1;32m---> 11\u001B[0m S2 \u001B[38;5;241m=\u001B[39m [\u001B[43mS1\u001B[49m\u001B[43m[\u001B[49m\u001B[43mi\u001B[49m\u001B[43m]\u001B[49m\u001B[38;5;241;43m*\u001B[39;49m\u001B[38;5;241;43m*\u001B[39;49m\u001B[38;5;241;43m-\u001B[39;49m\u001B[38;5;241;43m1\u001B[39;49m \u001B[38;5;28;01mfor\u001B[39;00m i \u001B[38;5;129;01min\u001B[39;00m \u001B[38;5;28mrange\u001B[39m(n)]\n\u001B[0;32m     13\u001B[0m S3 \u001B[38;5;241m=\u001B[39m [a11 \u001B[38;5;241m+\u001B[39m d\u001B[38;5;241m*\u001B[39mi \u001B[38;5;28;01mfor\u001B[39;00m i \u001B[38;5;129;01min\u001B[39;00m \u001B[38;5;28mrange\u001B[39m(n)]\n\u001B[0;32m     15\u001B[0m S4 \u001B[38;5;241m=\u001B[39m S3[:\u001B[38;5;241m1\u001B[39m] \u001B[38;5;241m+\u001B[39m [S[i]\u001B[38;5;241m*\u001B[39m\u001B[38;5;241m*\u001B[39m(\u001B[38;5;241m-\u001B[39m\u001B[38;5;241m1\u001B[39m)\u001B[38;5;241m/\u001B[39mS1[i] \u001B[38;5;28;01mfor\u001B[39;00m i \u001B[38;5;129;01min\u001B[39;00m \u001B[38;5;28mrange\u001B[39m(\u001B[38;5;241m1\u001B[39m,n)]\n",
      "\u001B[1;31mOverflowError\u001B[0m: (34, 'Result too large')"
     ]
    }
   ],
   "source": [
    "a11 = 1\n",
    "ann = 1.04\n",
    "a1n = 1.22\n",
    "n = 36000\n",
    "\n",
    "q = (ann/a11)**(1/n-1)\n",
    "d = (a1n-a11)/(n-1)\n",
    "\n",
    "S1 = [a11 * q**i for i in range(n)]\n",
    "\n",
    "S2 = [S1[i]**-1 for i in range(n)]\n",
    "\n",
    "S3 = [a11 + d*i for i in range(n)]\n",
    "\n",
    "S4 = S3[:1] + [S[i]**(-1)/S1[i] for i in range(1,n)]\n",
    "\n",
    "SS = S2 + S4[1:]\n",
    "round(min(SS), 3), round(sum(SS),3)"
   ]
  },
  {
   "cell_type": "code",
   "execution_count": null,
   "outputs": [],
   "source": [],
   "metadata": {
    "collapsed": false,
    "pycharm": {
     "is_executing": true
    }
   }
  },
  {
   "cell_type": "code",
   "execution_count": 4,
   "outputs": [],
   "source": [],
   "metadata": {
    "collapsed": false
   }
  }
 ],
 "metadata": {
  "kernelspec": {
   "display_name": "Python 3",
   "language": "python",
   "name": "python3"
  },
  "language_info": {
   "codemirror_mode": {
    "name": "ipython",
    "version": 3
   },
   "file_extension": ".py",
   "mimetype": "text/x-python",
   "name": "python",
   "nbconvert_exporter": "python",
   "pygments_lexer": "ipython3",
   "version": "3.8.5"
  },
  "colab": {
   "provenance": []
  }
 },
 "nbformat": 4,
 "nbformat_minor": 0
}
