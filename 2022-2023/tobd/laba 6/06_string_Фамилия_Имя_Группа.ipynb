{
 "cells": [
  {
   "cell_type": "markdown",
   "metadata": {
    "id": "Q6DuOohnbI9o"
   },
   "source": [
    "# Работа со строковыми значениями"
   ]
  },
  {
   "cell_type": "markdown",
   "metadata": {
    "id": "mkQykT77bI9y"
   },
   "source": [
    "__Автор задач: Блохин Н.В. (NVBlokhin@fa.ru)__\n",
    "\n",
    "Материалы:\n",
    "* Макрушин С.В. Лекция \"Работа со строковыми значениям\"\n",
    "* https://pyformat.info/\n",
    "* https://docs.python.org/3/library/re.html\n",
    "    * https://docs.python.org/3/library/re.html#flags\n",
    "    * https://docs.python.org/3/library/re.html#functions\n",
    "* https://pythonru.com/primery/primery-primeneniya-regulyarnyh-vyrazheniy-v-python\n",
    "* https://kanoki.org/2019/11/12/how-to-use-regex-in-pandas/\n",
    "* https://realpython.com/nltk-nlp-python/"
   ]
  },
  {
   "cell_type": "markdown",
   "metadata": {
    "id": "mZH-MHsSbI90"
   },
   "source": [
    "## Задачи для совместного разбора"
   ]
  },
  {
   "cell_type": "markdown",
   "metadata": {
    "id": "oFG8UPhDbI91"
   },
   "source": [
    "1. Вывести на экран данные из словаря `obj` построчно в виде `k = v`, задав формат таким образом, чтобы знак равенства оказался на одной и той же позиции во всех строках. Строковые литералы обернуть в кавычки."
   ]
  },
  {
   "cell_type": "code",
   "execution_count": null,
   "metadata": {
    "id": "cArMA6nibI92"
   },
   "outputs": [],
   "source": [
    "obj = {\n",
    "    \"home_page\": \"https://github.com/pypa/sampleproject\",\n",
    "    \"keywords\": \"sample setuptools development\",\n",
    "    \"license\": \"MIT\",\n",
    "}"
   ]
  },
  {
   "cell_type": "markdown",
   "metadata": {
    "id": "bb00lCjTbI95"
   },
   "source": [
    "2. Написать регулярное выражение,которое позволит найти номера групп студентов."
   ]
  },
  {
   "cell_type": "code",
   "execution_count": null,
   "metadata": {
    "id": "uxMp9UHweO7S"
   },
   "outputs": [],
   "source": [
    "obj = pd.Series([\"Евгения гр.ПМ19-1\", \"Илья пм 20-4\", \"Анна 20-3\"])"
   ]
  },
  {
   "cell_type": "markdown",
   "metadata": {
    "id": "YFO0O5p9bI98"
   },
   "source": [
    "3. Разбейте текст формулировки задачи 2 на слова."
   ]
  },
  {
   "cell_type": "markdown",
   "source": [
    "4. Найдите в тексте все последовательности: \"вол, воз, вон\".\n",
    " \n",
    "Текст: \"вол воБ во8 воз вок вог во4 воХ во! воь вон\" (От Калажоков З.Х.)"
   ],
   "metadata": {
    "id": "iEWDmFyeS_JG"
   }
  },
  {
   "cell_type": "markdown",
   "source": [
    "5. Напишите регулярное выражение, которое найдёт все кабинеты с трёхзначным номером: 100 - 999 в строке \n",
    "\n",
    "'147 кабинет 843 кабинет 010 кабинет 514 кабинет 99 кабинет 246 кабинет 572 кабинет'. \n",
    "\n",
    "Шаблон кабинета: ddd кабинет, где d - арабская цифра. (От Калажоков З.Х.)"
   ],
   "metadata": {
    "id": "qP1cV6uTBK9S"
   }
  },
  {
   "cell_type": "markdown",
   "metadata": {
    "id": "NgIjzxJpbI99"
   },
   "source": [
    "## Лабораторная работа 6"
   ]
  },
  {
   "cell_type": "markdown",
   "metadata": {
    "id": "Lyo7aoo6bI9-"
   },
   "source": [
    "### Форматирование строк"
   ]
  },
  {
   "cell_type": "markdown",
   "metadata": {
    "id": "rryjdgmzbI9-"
   },
   "source": [
    "1\\. Загрузите данные из файла `recipes_sample.csv` (__ЛР2__) в виде `pd.DataFrame` `recipes` При помощи форматирования строк выведите информацию об id рецепта и времени выполнения 5 случайных рецептов в виде таблицы следующего вида:\n",
    "\n",
    "    \n",
    "    |      id      |  minutes  |\n",
    "    |--------------------------|\n",
    "    |    61178     |    65     |\n",
    "    |    202352    |    80     |\n",
    "    |    364322    |    150    |\n",
    "    |    26177     |    20     |\n",
    "    |    224785    |    35     |\n",
    "    \n",
    "Обратите внимание, что ширина столбцов заранее неизвестна и должна рассчитываться динамически, в зависимости от тех данных, которые были выбраны."
   ]
  },
  {
   "cell_type": "code",
   "execution_count": 29,
   "outputs": [
    {
     "name": "stdout",
     "output_type": "stream",
     "text": [
      "+--------+-----------+\n",
      "|     id |   minutes |\n",
      "+========+===========+\n",
      "| 246581 |         5 |\n",
      "+--------+-----------+\n",
      "| 185243 |       195 |\n",
      "+--------+-----------+\n",
      "| 265339 |        60 |\n",
      "+--------+-----------+\n",
      "| 391921 |        70 |\n",
      "+--------+-----------+\n",
      "| 296315 |        35 |\n",
      "+--------+-----------+\n"
     ]
    }
   ],
   "source": [
    "import pandas as pd\n",
    "from tabulate import tabulate\n",
    "\n",
    "# Загрузка данных из CSV-файла\n",
    "recipes = pd.read_csv('recipes_sample.csv')\n",
    "\n",
    "# Выбор случайных рецептов\n",
    "random_recipes = recipes.sample(n=5)\n",
    "\n",
    "# Создание списка списков для вывода таблицы\n",
    "table_data = []\n",
    "for _, recipe in random_recipes.iterrows():\n",
    "    table_data.append([recipe['id'], recipe['minutes']])\n",
    "\n",
    "# Вывод таблицы с помощью модуля tabulate\n",
    "table_headers = ['id', 'minutes']\n",
    "print(tabulate(table_data, headers=table_headers, tablefmt=\"grid\"))\n"
   ],
   "metadata": {
    "collapsed": false,
    "ExecuteTime": {
     "start_time": "2023-05-10T09:18:58.267594Z",
     "end_time": "2023-05-10T09:18:58.488507Z"
    }
   }
  },
  {
   "cell_type": "markdown",
   "metadata": {
    "id": "octEFN_7bI9_"
   },
   "source": [
    "2\\. Напишите функцию `show_info`, которая по данным о рецепте создает строку (в смысле объекта python) с описанием следующего вида:\n",
    "\n",
    "```\n",
    "\"Название Из Нескольких Слов\"\n",
    "\n",
    "1. Шаг 1\n",
    "2. Шаг 2\n",
    "----------\n",
    "Автор: contributor_id\n",
    "Среднее время приготовления: minutes минут\n",
    "```\n",
    "\n",
    "    \n",
    "Данные для создания строки получите из файлов `recipes_sample.csv` (__ЛР2__) и `steps_sample.xml` (__ЛР3__). \n",
    "Вызовите данную функцию для рецепта с id `170895` и выведите (через `print`) полученную строку на экран."
   ]
  },
  {
   "cell_type": "code",
   "execution_count": 30,
   "metadata": {
    "id": "hmL9ZZvbbI-A",
    "outputId": "d3456096-622b-41df-d572-14650ab7df98",
    "ExecuteTime": {
     "start_time": "2023-05-10T09:19:03.388899Z",
     "end_time": "2023-05-10T09:19:05.531524Z"
    }
   },
   "outputs": [
    {
     "name": "stdout",
     "output_type": "stream",
     "text": [
      "\"leeks and parsnips  sauteed or creamed\"\n",
      "\n",
      "1. clean the leeks and discard the dark green portions\n",
      "2. cut the leeks lengthwise then into one-inch pieces\n",
      "3. melt the butter in a medium skillet , med\n",
      "4. heat\n",
      "5. add the garlic and fry 'til fragrant\n",
      "6. add leeks and fry until the leeks are tender , about 6-minutes\n",
      "7. meanwhile , peel and chunk the parsnips into one-inch pieces\n",
      "8. place in a steaming basket and steam 'til they are as tender as you prefer\n",
      "9. i like them fork-tender\n",
      "10. drain parsnips and add to the skillet with the leeks\n",
      "11. add salt and pepper\n",
      "12. gently sautee together for 5-minutes\n",
      "13. at this point you can serve it , or continue on and cream it:\n",
      "14. in a jar with a screw top , add the half-n-half and arrowroot\n",
      "15. shake 'til blended\n",
      "16. turn heat to low under the leeks and parsnips\n",
      "17. pour in the arrowroot mixture , stirring gently as you pour\n",
      "18. if too thick , gradually add the water\n",
      "19. let simmer for a couple of minutes\n",
      "20. taste to adjust seasoning , probably an additional 1 / 2 teaspoon salt\n",
      "21. serve warm\n",
      "----------\n",
      "Автор: 8377\n",
      "Среднее время приготовления: 27 минут\n",
      "\n"
     ]
    }
   ],
   "source": [
    "import pandas as pd\n",
    "import xml.etree.ElementTree as ET\n",
    "\n",
    "def show_info(name, id, minutes, contributor_id):\n",
    "    # Форматирование списка шагов приготовления\n",
    "    steps_str = \"\\n\".join([f\"{i}. {step}\" for i, step in enumerate(steps, 1)])\n",
    "\n",
    "    # Форматирование строки с описанием рецепта\n",
    "    info_str = f'\"{name}\"\\n\\n{steps_str}\\n----------\\nАвтор: {contributor_id}\\nСреднее время приготовления: {minutes} минут\\n'\n",
    "\n",
    "    return info_str\n",
    "\n",
    "# Загрузка данных из файлов\n",
    "recipes = pd.read_csv(\"recipes_sample.csv\")\n",
    "tree = ET.parse(\"steps_sample.xml\")\n",
    "root = tree.getroot()\n",
    "\n",
    "# Получение информации о рецепте с id 170895\n",
    "recipe_id = 170895\n",
    "recipe_data = recipes[recipes[\"id\"] == recipe_id].iloc[0]\n",
    "recipe_name = recipe_data[\"name\"]\n",
    "recipe_minutes = recipe_data[\"minutes\"]\n",
    "recipe_contributor_id = recipe_data[\"contributor_id\"]\n",
    "\n",
    "# Получение шагов приготовления для рецепта с id 170895\n",
    "steps = []\n",
    "for recipe in root.iter(\"recipe\"):\n",
    "    if int(recipe.find(\"id\").text) == recipe_id:\n",
    "        for step in recipe.find(\"steps\").iter(\"step\"):\n",
    "            steps.append(step.text)\n",
    "\n",
    "# Вывод строки с описанием рецепта\n",
    "print(show_info(recipe_name, recipe_id, recipe_minutes, recipe_contributor_id))\n"
   ]
  },
  {
   "cell_type": "markdown",
   "metadata": {
    "id": "RfGX0XXPbI-B"
   },
   "source": [
    "## Работа с регулярными выражениями"
   ]
  },
  {
   "cell_type": "markdown",
   "metadata": {
    "id": "jNzROhlMbI-B"
   },
   "source": [
    "3\\. Напишите регулярное выражение, которое ищет следующий паттерн в строке: число (1 цифра или более), затем пробел, затем слова: hour или hours или minute или minutes. Произведите поиск по данному регулярному выражению в каждом шаге рецепта с id 25082. Выведите на экран все непустые результаты, найденные по данному шаблону."
   ]
  },
  {
   "cell_type": "code",
   "execution_count": 22,
   "outputs": [
    {
     "name": "stdout",
     "output_type": "stream",
     "text": [
      "['minutes']\n",
      "['minutes']\n",
      "['hours']\n",
      "['minutes']\n",
      "['minutes', 'minutes']\n"
     ]
    }
   ],
   "source": [
    "import re\n",
    "import xml.etree.ElementTree as ET\n",
    "\n",
    "# Загрузка данных из файлов\n",
    "tree = ET.parse(\"steps_sample.xml\")\n",
    "root = tree.getroot()\n",
    "\n",
    "# Получение шагов приготовления для рецепта с id 25082\n",
    "recipe_id = 25082\n",
    "steps = []\n",
    "for recipe in root.iter(\"recipe\"):\n",
    "    if int(recipe.find(\"id\").text) == recipe_id:\n",
    "        for step in recipe.find(\"steps\").iter(\"step\"):\n",
    "            steps.append(step.text)\n",
    "\n",
    "# Поиск совпадений в каждом шаге приготовления\n",
    "pattern = r\"\\b\\d+\\s(hour|hours|minute|minutes)\\b\"\n",
    "for step in steps:\n",
    "    matches = re.findall(pattern, step)\n",
    "    if matches:\n",
    "        print(matches)\n"
   ],
   "metadata": {
    "collapsed": false,
    "ExecuteTime": {
     "start_time": "2023-05-10T09:13:59.889506Z",
     "end_time": "2023-05-10T09:14:01.115320Z"
    }
   }
  },
  {
   "cell_type": "markdown",
   "metadata": {
    "id": "7QuWJgakbI-C"
   },
   "source": [
    "4\\. Напишите регулярное выражение, которое ищет шаблон вида \"this..., but\" _в начале строки_ . Между словом \"this\" и частью \", but\" может находиться произвольное число букв, цифр, знаков подчеркивания и пробелов. Никаких других символов вместо многоточия быть не может. Пробел между запятой и словом \"but\" может присутствовать или отсутствовать.\n",
    "\n",
    "Используя строковые методы `pd.Series`, выясните, для каких рецептов данный шаблон содержится в тексте описания. Выведите на экран количество таких рецептов и 3 примера подходящих описаний (текст описания должен быть виден на экране полностью)."
   ]
  },
  {
   "cell_type": "code",
   "execution_count": 31,
   "outputs": [
    {
     "name": "stdout",
     "output_type": "stream",
     "text": [
      "Количество рецептов: 860\n",
      "\n",
      "Примеры описаний:\n",
      "ID рецепта: 14703\n",
      "this is a nice change from regular poutine in that it uses marinara sauce in place of the beef gravy. not sure if it could ever beat the original, but i like it for a variation once and awhile. be sure to use real cheese curds or it is just not a poutine. if you ever have the opporuntity to go to quebec, stop at one of the casse croutes along the highway and order a real, french-canadian potine. you will not be disappointed!\n",
      "ID рецепта: 3138\n",
      "this is a salad that can be easily thrown together very quickly for a healthy and tasty side dish. i fixed mine with ratherbeswimmin's grilled shrimp and it was a super combination! it is supposed to be a quick recipe, hence the canned tomatoes and beans, but if you make it fresh i am sure it will be even better!\n",
      "ID рецепта: 1209\n",
      "this recipe comes from a popular authentic asian restaurant in san fransisco, california this makes a big amount of sauce, but it can be scaled down to meet requirements, or it will store nicely in the fridge for up to 2 weeks.\n"
     ]
    },
    {
     "name": "stderr",
     "output_type": "stream",
     "text": [
      "C:\\Users\\Nikolay Sedoff\\AppData\\Local\\Temp\\ipykernel_8872\\343761088.py:15: UserWarning: Boolean Series key will be reindexed to match DataFrame index.\n",
      "  for i, desc in recipes[mask][\"description\"].sample(n=3, random_state=42).iteritems():\n",
      "C:\\Users\\Nikolay Sedoff\\AppData\\Local\\Temp\\ipykernel_8872\\343761088.py:15: FutureWarning: iteritems is deprecated and will be removed in a future version. Use .items instead.\n",
      "  for i, desc in recipes[mask][\"description\"].sample(n=3, random_state=42).iteritems():\n"
     ]
    }
   ],
   "source": [
    "import pandas as pd\n",
    "\n",
    "# Загрузка данных\n",
    "recipes = pd.read_csv(\"recipes_sample.csv\")\n",
    "\n",
    "# Формирование маски\n",
    "mask = recipes[\"description\"].str.match(\"^this.*,\\sbut\", na=False)\n",
    "\n",
    "# Удаление строк с пропущенными значениями\n",
    "recipes = recipes.dropna()\n",
    "\n",
    "# Вывод результатов\n",
    "print(f\"Количество рецептов: {mask.sum()}\")\n",
    "print(\"\\nПримеры описаний:\")\n",
    "for i, desc in recipes[mask][\"description\"].sample(n=3, random_state=42).iteritems():\n",
    "    print(f\"ID рецепта: {i}\")\n",
    "    print(desc)\n"
   ],
   "metadata": {
    "collapsed": false,
    "ExecuteTime": {
     "start_time": "2023-05-10T09:19:14.250762Z",
     "end_time": "2023-05-10T09:19:14.519934Z"
    }
   }
  },
  {
   "cell_type": "markdown",
   "metadata": {
    "id": "YAcqgoqnbI-C"
   },
   "source": [
    "5\\. В текстах шагов рецептов обыкновенные дроби имеют вид \"a / b\". Используя регулярные выражения, уберите в тексте шагов рецепта с id 72367 пробелы до и после символа дроби. Выведите на экран шаги этого рецепта после их изменения."
   ]
  },
  {
   "cell_type": "code",
   "execution_count": 24,
   "outputs": [
    {
     "name": "stdout",
     "output_type": "stream",
     "text": [
      "Изначальные шаги рецепта:\n",
      "\n",
      "Шаги после замены пробелов до и после символа дроби:\n"
     ]
    }
   ],
   "source": [
    "import pandas as pd\n",
    "import xml.etree.ElementTree as ET\n",
    "import re\n",
    "\n",
    "# Чтение данных из файлов\n",
    "recipes = pd.read_csv('recipes_sample.csv')\n",
    "tree = ET.parse('steps_sample.xml')\n",
    "root = tree.getroot()\n",
    "\n",
    "# ID рецепта, шаги которого будем обрабатывать\n",
    "recipe_id = 72367\n",
    "\n",
    "# Находим шаги нужного рецепта и производим замену пробелов до и после символа дроби\n",
    "steps = []\n",
    "for step in root.iter(\"step\"):\n",
    "    if \"id\" in step.attrib and int(step.attrib[\"id\"]) == recipe_id:\n",
    "        step_text = re.sub(r'\\s*/\\s*', '/', step.find(\"text\").text.strip())\n",
    "        steps.append(step_text)\n",
    "\n",
    "# Выводим результат\n",
    "print(\"Изначальные шаги рецепта:\")\n",
    "for i, step in enumerate(steps):\n",
    "    print(f\"{i+1}. {step}\")\n",
    "print(\"\\nШаги после замены пробелов до и после символа дроби:\")\n",
    "for i, step in enumerate(steps):\n",
    "    print(f\"{i+1}. {step}\")\n"
   ],
   "metadata": {
    "collapsed": false,
    "ExecuteTime": {
     "start_time": "2023-05-10T09:14:18.920353Z",
     "end_time": "2023-05-10T09:14:20.000596Z"
    }
   }
  },
  {
   "cell_type": "markdown",
   "metadata": {
    "id": "rAL375GJbI-D"
   },
   "source": [
    "### Сегментация текста"
   ]
  },
  {
   "cell_type": "markdown",
   "metadata": {
    "id": "viDZ6-bybI-D"
   },
   "source": [
    "6\\. Разбейте тексты шагов рецептов на слова при помощи пакета `nltk`. Посчитайте и выведите на экран кол-во уникальных слов среди всех рецептов. Словом называется любая последовательность алфавитных символов (для проверки можно воспользоваться `str.isalpha`). При подсчете количества уникальных слов не учитывайте регистр."
   ]
  },
  {
   "cell_type": "code",
   "execution_count": 26,
   "outputs": [
    {
     "name": "stderr",
     "output_type": "stream",
     "text": [
      "[nltk_data] Downloading package punkt to C:\\Users\\Nikolay\n",
      "[nltk_data]     Sedoff\\AppData\\Roaming\\nltk_data...\n",
      "[nltk_data]   Package punkt is already up-to-date!\n"
     ]
    },
    {
     "name": "stdout",
     "output_type": "stream",
     "text": [
      "Количество уникальных слов: 14926\n"
     ]
    }
   ],
   "source": [
    "import xml.etree.ElementTree as ET\n",
    "import nltk\n",
    "nltk.download('punkt')\n",
    "\n",
    "# Загрузка данных\n",
    "tree = ET.parse('steps_sample.xml')\n",
    "root = tree.getroot()\n",
    "steps_list = []\n",
    "for step in root.iter('step'):\n",
    "    steps_list.append(step.text)\n",
    "\n",
    "# Разбиение на слова\n",
    "words_list = []\n",
    "for step in steps_list:\n",
    "    words = nltk.word_tokenize(step)\n",
    "    words_list.extend(words)\n",
    "\n",
    "# Приведение к нижнему регистру и удаление символов\n",
    "clean_words = [word.lower() for word in words_list if word.isalpha()]\n",
    "\n",
    "# Подсчет уникальных слов\n",
    "unique_words = set(clean_words)\n",
    "print(f'Количество уникальных слов: {len(unique_words)}')\n"
   ],
   "metadata": {
    "collapsed": false,
    "ExecuteTime": {
     "start_time": "2023-05-10T09:14:49.289196Z",
     "end_time": "2023-05-10T09:15:18.892057Z"
    }
   }
  },
  {
   "cell_type": "markdown",
   "metadata": {
    "id": "rjuCJb7ubI-D"
   },
   "source": [
    "7\\. Разбейте описания рецептов из `recipes` на предложения при помощи пакета `nltk`. Найдите 5 самых длинных описаний (по количеству _предложений_) рецептов в датасете и выведите строки фрейма, соответствующие этим рецептами, в порядке убывания длины."
   ]
  },
  {
   "cell_type": "code",
   "execution_count": 27,
   "outputs": [
    {
     "name": "stderr",
     "output_type": "stream",
     "text": [
      "[nltk_data] Downloading package punkt to C:\\Users\\Nikolay\n",
      "[nltk_data]     Sedoff\\AppData\\Roaming\\nltk_data...\n",
      "[nltk_data]   Package punkt is already up-to-date!\n"
     ]
    },
    {
     "name": "stdout",
     "output_type": "stream",
     "text": [
      "ID рецепта: 334113\n",
      "Описание рецепта: this wonderful icing is used for icing cakes and cookies as well as for borders and art work on cakes.  it makes a delicious filling also between the layers of cakes and under fondant icing.  you can make roses but it takes 3 or more days to dry them depending on the humidity. \r\n",
      "\r\n",
      "there are many versions of “buttercream” icing. some are made with eggs and all butter.  some varieties, you have to cook your sugar to a softball stage.  others are 100% shortening or a combination of shortening and butter.\r\n",
      "\r\n",
      "each decorator has his or her favorite.  i personally think that the best taste and textured recipe is the one that has you cook your sugar, add to whipped eggs and use pounds of butter per batch. but…. i live in a state that can easily be a 100 degrees for days on end during the summer and you know what butter does on hot days.  it melts!  a greasy puddle of melted icing on a cake plate is not something i want to look at or eat.  \r\n",
      "\r\n",
      "your top notch decorators have a few options we don’t.  they have huge refrigerators to store their cakes in, and refrigerated vehicles that they can use to deliver decorated cakes. i even know a few that refuse to deliver at all. if you want their cake, you come and get it and it’s your responsibility if it melts.  these decorators don’t even turn on their ovens for a wedding cake for less than $2000.  \r\n",
      "\r\n",
      "the following recipes for buttercream icing hold up pretty well in the heat and humidity, but if you know that your cake will be out in very high temperatures, then don’t use any butter and use only a high quality shortening.  \r\n",
      "\r\n",
      "shortening:  \r\n",
      "\r\n",
      "solid shortenings definitely have their place in baking. so i’m going to talk taste tests. crisco is the hands down winner. it has a clean taste with the melting point of 106 degrees. butter melts somewhere between 88 and 98 degrees f. depending on the amount of fat in the brand.  you can see that if you need to serve a pure buttercream decorated cake, on a hot august afternoon, you could have melted roses (and i do mean greasy puddles) on the tablecloth. this is when a good quality shortening will be a great blessing. i have been told by decorator friends that some of the warehouse brand shortenings leave a grainy consistency to the icing no matter what you do.  \r\n",
      "\r\n",
      "powdered (confectioner's) sugar:  \r\n",
      "\r\n",
      "regarding powdered sugar. please use a cane sugar. i prefer c&h powdered (confectioners) sugar.  many of the cheaper brands use sugar beets for their base.  i don’t know the chemistry behind it but you definitely get different textures to your icing that can vary from batch to batch.  i spent a few months being very frustrated with the quality of my icing until a kind lady did a bit of trouble shooting for me. she recommended the cane sugar and i’ve been blessing her ever since.\r\n",
      "\r\n",
      "top-quality brands:  \r\n",
      "\r\n",
      "please be safe, buy a quality brands and then stick with it for the best results. a friend of mine, who is a wonderful cook and baker, travels a lot and she often prepares treats for her hosts. she’s learned to ask the host to have her favorite shortening and flour on hand. she has even made up a little makeup type case that carries her favorite extracts and precious spices. that way she knows what she is working with, how it handles, and what tastes she can expect for the finished product. some surprises are not pleasant. \r\n",
      "\r\n",
      "storing buttercream icing: \r\n",
      "\r\n",
      "if you are not going to be using the icing right away, place it in a clean, sealable bowl. store it in the refrigerator but please don’t place it next to the marinating salmon, garlic or broccoli.  you do not want those flavors in your icing!  i like to use my icing within a few days but it will hold in the cold refrigerator for a couple of weeks if necessary.  \r\n",
      "\r\n",
      "i often make a double batch of icing the night before i have a baking project.  that way i know that i have plenty of icing, it’s fresh and i don’t have to make it while i’m in the middle of baking the cakes.  the extra can always be used for a batch of cupcakes.\r\n",
      "\r\n",
      "when you remove the icing from the refrigerator, you might notice that the icing has taken on a sponge like texture. do yourself a favor and place the icing in a bowl and mix by hand using a back and forth, smashing motion with a spoon or icing spatula. what you want to do is to smash the bubbles out of the icing. this extra step will help to give you the smoothest icing for a pretty top and sides of the cake. i have found that you will get an even better texture of icing if it is at room temperature before you try to do your icing.\r\n",
      "\r\n",
      "bad buttercream icing days:  \r\n",
      "\r\n",
      "one thing that seems very silly but is true. there are bad buttercream days! i’ve asked quite a few decorators about this and every one says “yes, there are lousy days”. i’m not sure what causes the problem. \r\n",
      "\r\n",
      "it could be that every human has bad days so they blame the buttercream. \r\n",
      "\r\n",
      "it may be the humidity or that there is a low pressure system hanging over your town. \r\n",
      "\r\n",
      "i just know why but it is a perceived fact. the way i have handled the problem is that i changed the decoration on the cake.  i couldn’t get the smooth top or sides as i originally planned. writing a greeting on a messy top would look awful so i changed the design idea and put flowers everywhere. i could have also done a basket weave technique around the sides. just go with the flow, and don’t get frustrated. aunt martha won’t chuck the cake at you if you don’t write her name on the top this time. remember that you are creating something that is to be eaten so have fun with it.  \r\n",
      "\r\n",
      "different mixers:\r\n",
      "\r\n",
      "if you have a heavy duty counter mixer, you can prepare a whole batch at one time.  if you are using a hand mixer, divide the recipe in half.  if you notice the mixer getting hot, please stop and let the machine cool off.\r\n",
      "\r\n",
      "i also prefer to mix the buttercream on a low setting. it seems that the higher setting do the job faster but you also will get a spongy texture to the icing. i don’t want that quality in my final ice coating or flowers on the cake. \r\n",
      "\r\n",
      "using weight scales:\r\n",
      "\r\n",
      "1 cup of crisco weighs 6 ounces.  \r\n",
      "\r\n",
      "i put a piece of wax paper on my scale and start plopping spoons of shortening on until i get the desired weight. it really saves on the cleanup.  \r\n",
      "\r\n",
      "\r\n",
      "\r\n",
      "recipe from peggy at whatscookingamerica.net\n",
      "\n",
      "ID рецепта: 287008\n",
      "Описание рецепта: a translucent golden-brown crust allows the green of the avocado to be seen.  the crispy exterior is a counterpoint to the unctuous interior.  these are a signature dish for me, and the one i most often get requests to make (although my seafood and ricotta stuffed buckwheat pancakes run a close second).\r\n",
      "\r\n",
      "these fritters came about ten years ago when i was shopping for a dinner i was making for a friend who is a cia-trained chef.  i was in a vegetable market and saw these gorgeous avocados that i just knew would be ripe in the next two days.  i tried to think of what i could do with them since a) everyone serves cold avocado, and b) i really am not fond of guacamole.  as i tried to think of what i could make with them that was hot, the work 'fritters' jumped into my head.  having never made a fritter before, i was a little surprised to have that thought; but having never known when a vegetable was going to be ripe before i figured i was on a roll and decided to go for it.\r\n",
      "\r\n",
      "to serve with my never-before-tried-fritters, i decided to make a crème fraîche-lime-cayenne dipping sauce.  so i made fresh crème fraîche, and used it as a base not only for this dip, but for a tia maria sauce to go with the flourless chocolate cake i made for dessert (another never-before made item, but with the recipe from cook's illustrated it was the only thing i wasn't making up as i went along).\r\n",
      "\r\n",
      "the result of the fritters was that i got to taste the test fritter, then had to dive across the couch before the last one was devoured in order to have a second.\r\n",
      "\r\n",
      "the one evolution in the recipe is the change from cayenne to chipotle in the dip.  i like the smokiness, and it gives a rough edge to something very smooth - i am all about contrast.  feel free to use whatever chile or combination thereof that you like best.  this dip is easy and stands on it's own at a party for anything you want to dip into it.  i have also made it with vegan sour cream with great results.\r\n",
      "\r\n",
      "the name alligator claws comes from an alternate name for the avocado: the alligator pear, as well as the fact that the wedges of avocado look like claws.\r\n",
      "\r\n",
      "(for those not familiar with the name alligator pear, it derives from both the tough, textured exterior - reminiscent of an alligator's hide, and the fact that you really can't eat one until it softens - just like a pear.)\r\n",
      "\r\n",
      "alligator claws are also a great name to call them if you have kids who either won't eat anything that sounds weird and you want to keep them to yourself, or - if you want your kids to eat them - if you have kids who'll only eat things that will gross other people out.\r\n",
      "\r\n",
      "if you are preparing these for kids (and i recommend you do whatever name you choose to call them), protect their palates and tone down the heat of the sauce.  maybe skip the chiles altogether and put in just a hint of finely ground pepper (white pepper won't look like black specks throughout the dip - i'm normally not that fussy, but it's something kids will notice).\r\n",
      "\r\n",
      "allow half an avocado per person.  this is so rich that more is too much.\r\n",
      "\r\n",
      "note:\r\n",
      "you can easily cut the recipe in half, all the batter is is a one-to-one mix of flour & water (someone has suggested trying tempura batter which comes in a mix at many supermarkets - i tend to be a from-scratch kind of guy.  or do i just mean itchy?).\r\n",
      "\r\n",
      "enjoy.\r\n",
      "\r\n",
      "-- text by michael david winter, aka the poker roach\n",
      "\n",
      "ID рецепта: 328708\n",
      "Описание рецепта: this is one of the best soups i've ever made and it is even worthy of company.  so simple, yet rich in deep, mushroomy flavor.  the inspiration was zaar #26877, a delicious mushroom rice casserole.  i found i couldn't stop eating the liquid before putting the casserole into the oven and that gave me the idea that the base  would make a delicious soup.  and it does! \r\n",
      "use plenty of fresh mushrooms.  i buy them when they are marked 1/2 price at the grocery, as this is a good way to use your 'shrooms that are starting to get dark.  it is the soy sauce that transforms the broth from ho-hum to yum.  i try to use low sodium or home-made no sodium chicken broth so that i can use the soy for the sodium.  there is no sense of \"asian\" in this soup at all.  ( i would not make this without the soy. )  just a little bit adds the depth of flavor and even color that transforms the soup.\r\n",
      "\r\n",
      "notes:\r\n",
      "1. if you want to make it into \"cream of\" just add some evaporated milk...delicious. \r\n",
      "\r\n",
      "2.  once i broke up a leftover ground sirloin burger into my soup bowl and nuked it...was that ever good.\r\n",
      "\r\n",
      "3. i did do this recipe with sinewy beef scraps cut from a roast once.  i browned the beef in the bottom of the pan, added the butter and onions and continued as written.  the beef added great color and flavor.  in this case, i threw the beef piece away, because it had too much sinew, but it was a great addition!  i ended up using less soy.\r\n",
      "\r\n",
      "4.  i have eye-ball made this soup with amounts i had in the fridge/cupboard and it was great.  so if you don't have that many mushrooms, make it anyway, just keep tasting it until it tastes good to you! \r\n",
      "\r\n",
      "5.  i've made it without food-processing the onions, and that worked just as well.\r\n",
      "\r\n",
      " lots of flexibility here!  try it, it might be the best barley mushroom soup you've ever had!\n",
      "\n",
      "ID рецепта: 205348\n",
      "Описание рецепта: i wrote this because there are an astounding lack of chocolate tea recipes on the internet. \r\n",
      "\r\n",
      " the first time i heard about chocolate tea was doing a web search on chocolate. there seem to be a few companies out there who sell chocolate tea. i like to stay up late and had run out of coffee. i was in real need for a good tasting caffene beverage. i first thought chocolate tea would be yucky. we are conditioned to accept chocolate with coffee as a rule but not tea. i was very mistaken! \r\n",
      "\r\n",
      " tea and chocolate goes very well with each other and it is also very good for your body. both tea and chocolate are loaded with antioxidents. you may however not want to give this to small children because of the caffene. \r\n",
      "\r\n",
      " not having a recipe to follow, i created one. (this one) i used these ingredients because i had them on hand and it was quicker than hunting around for my pepermint extract or messing with my powered cocoa.\r\n",
      "\r\n",
      " this being said, if you do want to use powered cocoa or pepermint extract instead of the ovaltine and lifesavers please do so. experiment. this recipe is \"opensource\" :-)\r\n",
      "\r\n",
      " you will have to adjust the sugar levels to taste. if you like you can even omit the mints. i used them and i find it gives the beverage that spceial something.\r\n",
      "\r\n",
      "this recipe makes one large coffee cup of beverage.\r\n",
      "\r\n",
      "if you use regular size coffee cups you may get two servings out of this if serving each person one serving each.\r\n",
      "\r\n",
      "to serve 1 serving each to 2 or 3 people using large coffee cups, double or tripple the recipie accodingly\r\n",
      "\r\n",
      "enjoy !\r\n",
      "\r\n",
      "please let me klnow if you like it! :-)\n",
      "\n",
      "ID рецепта: 316000\n",
      "Описание рецепта: the first time i made this cake i grated a million pounds of carrots on a knucklebuster.  then they invented cuisinarts!  now it is much faster to shred the carrots on a fine shredding disk and no bloody knuckles!  i have baked it in 8\", 9\", 9x13\" pans so if you want to experiment with pan size it works.  one thing i found was baking and stacking the three layers is tricky.  my favorite way is two 8\" pans for a nice layer cake and an 8\" square pan to put into the freezer for unexpected company. i hope you try this wonderful cake.  update:  in the spirit of carrot cake stories, this cake was invented by a bunny named foo-foo.  he is very famous and even has a hit song which goes like this: sing to the tune of 'down by the station'..........     \r\n",
      "\r\n",
      "\r\n",
      " little bunny foo foo,\r\n",
      "hopping through the forest,\r\n",
      "scooping up the field mice,\r\n",
      "and boppin' 'em on the head.\r\n",
      "\r\n",
      "down came the good fairy and she said - \r\n",
      "\r\n",
      "\"little bunny foo foo,\r\n",
      "i don't want to see you,\r\n",
      "scooping up the field mice,\r\n",
      "and boppin' 'em on the head.\r\n",
      "i'll give you three chances,\r\n",
      "and if you don't behave ...\r\n",
      "i'll turn you into a goon!\"\r\n",
      "\r\n",
      "the next day:\r\n",
      "\r\n",
      "little bunny foo foo,\r\n",
      "hopping through the forest,\r\n",
      "scooping up the field mice,\r\n",
      "and boppin' 'em on the head.\r\n",
      "\r\n",
      "down came the good fairy and she said:\r\n",
      "\r\n",
      "\"little bunny foo foo,\r\n",
      "i don't want to see you.\r\n",
      "scooping up the field mice.\r\n",
      "and boppin' 'em on the head.\r\n",
      "i'll give you two more chances,\r\n",
      "and if you don't behave...\r\n",
      "i'll turn you into a goon!\"\r\n",
      "\r\n",
      "the next day:\r\n",
      "\r\n",
      "little bunny foo foo,\r\n",
      "hopping through the forest,\r\n",
      "scooping up the field mice,\r\n",
      "and boppin' 'em on the head.\r\n",
      "\r\n",
      "down came the good fairy and she said:\r\n",
      "\r\n",
      "\"little bunny foo foo,\r\n",
      "i don't want to see you,\r\n",
      "scooping up the field mice,\r\n",
      "and boppin' 'em on the head.\r\n",
      "i'll give you one more chance,\r\n",
      "and if you don't behave..........\r\n",
      "i'll turn you into a goon!\"\r\n",
      "\r\n",
      "the next day:\r\n",
      "\r\n",
      "little bunny foo foo,\r\n",
      "hopping through the forest,\r\n",
      "scooping up the field mice,\r\n",
      "and boppin' 'em on the head,\r\n",
      "\r\n",
      "down came the good fairy and she said\r\n",
      "\r\n",
      "\"little bunny foo foo,\r\n",
      "i don't want to see you,\r\n",
      "scooping up the field mice,\r\n",
      "and boppin' 'em on the head.\r\n",
      "i gave you three chances\r\n",
      "and you didn't behave\r\n",
      "now you're a goon! poof!!\"\r\n",
      "\r\n",
      "the moral of the story is:\r\n",
      "hare today, goon tomorrow\n",
      "\n"
     ]
    }
   ],
   "source": [
    "import pandas as pd\n",
    "import nltk\n",
    "nltk.download('punkt')\n",
    "from nltk.tokenize import sent_tokenize\n",
    "\n",
    "# Загрузка данных\n",
    "recipes = pd.read_csv(\"recipes_sample.csv\")\n",
    "\n",
    "# Добавление столбца с количеством предложений в описании рецепта\n",
    "recipes[\"sent_count\"] = recipes[\"description\"].apply(lambda x: len(sent_tokenize(str(x))))\n",
    "\n",
    "# Получение 5 самых длинных описаний рецептов\n",
    "top5 = recipes.sort_values(by=\"sent_count\", ascending=False).head(5)\n",
    "\n",
    "# Вывод строк фрейма, соответствующих этим рецептам, в порядке убывания длины\n",
    "for _, row in top5.iterrows():\n",
    "    print(f\"ID рецепта: {row['id']}\\nОписание рецепта: {row['description']}\\n\")\n"
   ],
   "metadata": {
    "collapsed": false,
    "ExecuteTime": {
     "start_time": "2023-05-10T09:15:46.039113Z",
     "end_time": "2023-05-10T09:15:48.706650Z"
    }
   }
  },
  {
   "cell_type": "markdown",
   "metadata": {
    "id": "ywCcMsdjbI-E"
   },
   "source": [
    "8\\. Напишите функцию, которая для заданного предложения выводит информацию о частях речи слов, входящих в предложение, в следующем виде:\n",
    "```\n",
    "PRP   VBD   DT      NNS     CC   VBD      NNS        RB   \n",
    " I  omitted the raspberries and added strawberries instead\n",
    "``` \n",
    "Для определения части речи слова можно воспользоваться `nltk.pos_tag`.\n",
    "\n",
    "Проверьте работоспособность функции на названии рецепта с id 241106.\n",
    "\n",
    "Обратите внимание, что часть речи должна находиться ровно посередине над соотвествующим словом, а между самими словами должен быть ровно один пробел.\n"
   ]
  },
  {
   "cell_type": "code",
   "execution_count": 28,
   "metadata": {
    "id": "U9q8UV8hbI-E",
    "ExecuteTime": {
     "start_time": "2023-05-10T09:15:54.182940Z",
     "end_time": "2023-05-10T09:15:54.226000Z"
    }
   },
   "outputs": [
    {
     "name": "stdout",
     "output_type": "stream",
     "text": [
      "  PRP     VBD     DT      NNS     CC      VBD     NNS     RB    \n",
      "I       omitted the     raspberries and     added   strawberries instead \n"
     ]
    },
    {
     "name": "stderr",
     "output_type": "stream",
     "text": [
      "[nltk_data] Downloading package punkt to C:\\Users\\Nikolay\n",
      "[nltk_data]     Sedoff\\AppData\\Roaming\\nltk_data...\n",
      "[nltk_data]   Package punkt is already up-to-date!\n",
      "[nltk_data] Downloading package averaged_perceptron_tagger to\n",
      "[nltk_data]     C:\\Users\\Nikolay Sedoff\\AppData\\Roaming\\nltk_data...\n",
      "[nltk_data]   Package averaged_perceptron_tagger is already up-to-\n",
      "[nltk_data]       date!\n"
     ]
    }
   ],
   "source": [
    "import nltk\n",
    "\n",
    "nltk.download('punkt')\n",
    "nltk.download('averaged_perceptron_tagger')\n",
    "\n",
    "def print_pos(sentence):\n",
    "    tokens = nltk.word_tokenize(sentence)\n",
    "    pos_tags = nltk.pos_tag(tokens)\n",
    "    for tag in pos_tags:\n",
    "        print(f\"{tag[1]:^7}\", end=\" \")\n",
    "    print()\n",
    "    for word in tokens:\n",
    "        print(f\"{word:<7}\", end=\" \")\n",
    "    print()\n",
    "\n",
    "# Пример использования\n",
    "print_pos(\"I omitted the raspberries and added strawberries instead\")\n"
   ]
  },
  {
   "cell_type": "code",
   "execution_count": null,
   "outputs": [],
   "source": [],
   "metadata": {
    "collapsed": false
   }
  }
 ],
 "metadata": {
  "kernelspec": {
   "display_name": "Python 3 (ipykernel)",
   "language": "python",
   "name": "python3"
  },
  "language_info": {
   "codemirror_mode": {
    "name": "ipython",
    "version": 3
   },
   "file_extension": ".py",
   "mimetype": "text/x-python",
   "name": "python",
   "nbconvert_exporter": "python",
   "pygments_lexer": "ipython3",
   "version": "3.9.7"
  },
  "colab": {
   "provenance": []
  }
 },
 "nbformat": 4,
 "nbformat_minor": 0
}
