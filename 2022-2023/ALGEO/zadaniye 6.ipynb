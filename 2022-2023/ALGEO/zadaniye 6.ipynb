{
 "cells": [
  {
   "cell_type": "code",
   "execution_count": 3,
   "metadata": {
    "collapsed": true
   },
   "outputs": [
    {
     "data": {
      "text/plain": "Matrix([\n[6, 1, 4, 2],\n[1, 3, 7, 9]])",
      "text/latex": "$\\displaystyle \\left[\\begin{matrix}6 & 1 & 4 & 2\\\\1 & 3 & 7 & 9\\end{matrix}\\right]$"
     },
     "execution_count": 3,
     "metadata": {},
     "output_type": "execute_result"
    }
   ],
   "source": [
    "import numpy as np\n",
    "import sympy as sp\n",
    "A = sp.Matrix(2,4,[\n",
    "    6,1,4,2,\n",
    "    1,3,7,9\n",
    "])\n",
    "B = sp.Matrix(2,4,[\n",
    "    5,5,6,5,\n",
    "    9,9,3,3\n",
    "])\n",
    "\n"
   ]
  },
  {
   "cell_type": "code",
   "execution_count": null,
   "outputs": [],
   "source": [],
   "metadata": {
    "collapsed": false
   }
  }
 ],
 "metadata": {
  "kernelspec": {
   "display_name": "Python 3",
   "language": "python",
   "name": "python3"
  },
  "language_info": {
   "codemirror_mode": {
    "name": "ipython",
    "version": 2
   },
   "file_extension": ".py",
   "mimetype": "text/x-python",
   "name": "python",
   "nbconvert_exporter": "python",
   "pygments_lexer": "ipython2",
   "version": "2.7.6"
  }
 },
 "nbformat": 4,
 "nbformat_minor": 0
}
