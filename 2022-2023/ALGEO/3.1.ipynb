{
 "cells": [
  {
   "cell_type": "code",
   "execution_count": 2,
   "outputs": [
    {
     "name": "stdout",
     "output_type": "stream",
     "text": [
      "Matrix([[1, 2, -1, 2], [-2, -2, 1, 2], [2, 1, 1, 2]])\n",
      "Matrix([[7, 4, 5, 11], [6, 3, -1, 6], [0, -2, 6, 12], [-1, 1, 1, 3]])\n"
     ]
    }
   ],
   "source": [
    "import sympy as sp\n",
    "M_1 = sp.Matrix(4,3,[\n",
    "    3,0,2,\n",
    "    0,1,3,\n",
    "    2,2,0,\n",
    "    0,1,0\n",
    "])\n",
    "M_2 = sp.Matrix(3,4,[\n",
    "    1,2,-1,2,\n",
    "    -2,-2,1,2,\n",
    "    2,1,1,2\n",
    "])\n",
    "Res1 = M_1*M_2\n",
    "M_3 = sp.Matrix(4,4,[\n",
    "    0,-4,6,1,\n",
    "    2,2,-5,-2,\n",
    "    2,-2,6,4,\n",
    "    1,3,0,1\n",
    "])\n",
    "Res2 = Res1+M_3\n",
    "print(M_2)\n",
    "print(Res2)"
   ],
   "metadata": {
    "collapsed": false,
    "pycharm": {
     "name": "#%%\n"
    }
   }
  },
  {
   "cell_type": "code",
   "execution_count": null,
   "outputs": [],
   "source": [
    "import sympy as sp\n",
    "M_1 = sp.Matrix(4,3,[\n",
    "    3,0,2,\n",
    "    0,1,3,\n",
    "    2,2,0,\n",
    "    0,1,0\n",
    "])\n",
    "print(M_1)"
   ],
   "metadata": {
    "collapsed": false,
    "pycharm": {
     "name": "#%%\n"
    }
   }
  },
  {
   "cell_type": "code",
   "execution_count": 4,
   "outputs": [],
   "source": [],
   "metadata": {
    "collapsed": false,
    "pycharm": {
     "name": "#%%\n"
    }
   }
  },
  {
   "cell_type": "code",
   "execution_count": null,
   "outputs": [],
   "source": [],
   "metadata": {
    "collapsed": false,
    "pycharm": {
     "name": "#%%\n"
    }
   }
  }
 ],
 "metadata": {
  "kernelspec": {
   "display_name": "Python 3",
   "language": "python",
   "name": "python3"
  },
  "language_info": {
   "codemirror_mode": {
    "name": "ipython",
    "version": 2
   },
   "file_extension": ".py",
   "mimetype": "text/x-python",
   "name": "python",
   "nbconvert_exporter": "python",
   "pygments_lexer": "ipython2",
   "version": "2.7.6"
  }
 },
 "nbformat": 4,
 "nbformat_minor": 0
}