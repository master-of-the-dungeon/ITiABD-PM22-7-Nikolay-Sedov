{
 "cells": [
  {
   "cell_type": "markdown",
   "id": "6862b75d",
   "metadata": {},
   "source": [
    "# ТЕСТ №1"
   ]
  },
  {
   "cell_type": "markdown",
   "id": "72573648",
   "metadata": {},
   "source": [
    "1. Решите систему уравнений:\n",
    "В ответе укажите найденные значения неизвестных. 1) Значение x. 2) Значение y. 3) Значение z.\n"
   ]
  },
  {
   "cell_type": "raw",
   "id": "cd77b581",
   "metadata": {},
   "source": [
    "Запишем предложенную нам СЛАУ в виде матрицы.\n",
    "Для этого создаем 2 матрицы, импортируя нужные нам библиотеки (sympy,numpy). Применяя метод hstack делаем матрицу М расширенной (добавляем матрицу n к матрице M). Для того, чтобы найти корни уравнения, необходимо привести систему уравнения к редуцированной ступенчатой форме (применяя метод rref). Для начала проверим, имеет ли система корни по теореме Кронекера-Капели"
   ]
  },
  {
   "cell_type": "code",
   "execution_count": 33,
   "id": "568886e3",
   "metadata": {},
   "outputs": [
    {
     "data": {
      "text/plain": [
       "(3, 3)"
      ]
     },
     "execution_count": 33,
     "metadata": {},
     "output_type": "execute_result"
    }
   ],
   "source": [
    "from sympy import*\n",
    "from numpy import*\n",
    "M=Matrix([[6,4,3],\n",
    "          [3,2,7],\n",
    "         [4,6,7]])\n",
    "n=Matrix([368,404,572])\n",
    "M_n=Matrix(hstack([M,n]))\n",
    "M.rank(),M_n.rank()\n",
    "# по Th. Кронекера-Капелли система совместна (т.е. имеет решения), так как ранг расширенной матрицы равен рангу нерасширенной\n",
    "\n"
   ]
  },
  {
   "cell_type": "raw",
   "id": "dd05f77e",
   "metadata": {},
   "source": [
    "так как ранг обычной и расширенной матриц совпадает то по Th. Кронекера - Капелли система совместна (т е имеет решения)\n",
    "Приведем к редуцированному ступенчатому ввиду"
   ]
  },
  {
   "cell_type": "code",
   "execution_count": 45,
   "id": "fb733fc4",
   "metadata": {},
   "outputs": [
    {
     "data": {
      "text/latex": [
       "$\\displaystyle \\left[\\begin{matrix}6 & 4 & 3 & 368\\\\3 & 2 & 7 & 404\\\\4 & 6 & 7 & 572\\end{matrix}\\right]$"
      ],
      "text/plain": [
       "Matrix([\n",
       "[6, 4, 3, 368],\n",
       "[3, 2, 7, 404],\n",
       "[4, 6, 7, 572]])"
      ]
     },
     "execution_count": 45,
     "metadata": {},
     "output_type": "execute_result"
    }
   ],
   "source": [
    "M_n"
   ]
  },
  {
   "cell_type": "code",
   "execution_count": 46,
   "id": "756c0cbd",
   "metadata": {},
   "outputs": [
    {
     "data": {
      "text/plain": [
       "(Matrix([\n",
       " [1, 0, 0, 16],\n",
       " [0, 1, 0, 38],\n",
       " [0, 0, 1, 40]]),\n",
       " (0, 1, 2))"
      ]
     },
     "execution_count": 46,
     "metadata": {},
     "output_type": "execute_result"
    }
   ],
   "source": [
    "M_n.rref()"
   ]
  },
  {
   "cell_type": "raw",
   "id": "f00dfed8",
   "metadata": {},
   "source": []
  },
  {
   "cell_type": "markdown",
   "id": "0f5c68e1",
   "metadata": {},
   "source": [
    " 2. Найдите значения переменных x,y,z,u,v,w, удовлетворяющие условиям:\n",
    "В ответе укажите найденные значения: 1) значение x; 2) значение u."
   ]
  },
  {
   "cell_type": "raw",
   "id": "437687c6",
   "metadata": {},
   "source": [
    "Запишем предложенную нам СЛАУ в виде матрицы.\n",
    "Для этого создаем 2 матрицы, импортируя нужные нам библиотеки (sympy,numpy). Применяя метод hstack делаем матрицу A расширенной (добавляем матрицу B к матрице A). Для того, чтобы найти корни уравнения, необходимо привести систему уравнения к редуцированной ступенчатой форме (применяя метод rref)."
   ]
  },
  {
   "cell_type": "code",
   "execution_count": 40,
   "id": "54074d49",
   "metadata": {},
   "outputs": [
    {
     "data": {
      "text/plain": [
       "(6, 6)"
      ]
     },
     "execution_count": 40,
     "metadata": {},
     "output_type": "execute_result"
    }
   ],
   "source": [
    "from sympy import *\n",
    "from numpy import*\n",
    "A=Matrix([[7,8,6,-1,0,0],\n",
    "         [9,7,2,0,-1,0],\n",
    "         [5,6,5,0,0,-1],\n",
    "         [1,0,0,1,1,0],\n",
    "         [0,1,0,1,0,1],\n",
    "         [0,0,1,0,1,1]])\n",
    "B=Matrix([229,202,166,57,61,54])\n",
    "A_B=Matrix(hstack([A,B]))\n",
    "A.rank(), A_B.rank()  "
   ]
  },
  {
   "cell_type": "raw",
   "id": "f9f68e83",
   "metadata": {},
   "source": [
    "Ранг матрицы равен рангу расширенной матрицы --> по теорме Кронекера Капелли система уравений совместна (т е имеет решения)"
   ]
  },
  {
   "cell_type": "code",
   "execution_count": 38,
   "id": "0fa81a5c",
   "metadata": {},
   "outputs": [
    {
     "data": {
      "text/latex": [
       "$\\displaystyle \\left[\\begin{matrix}7 & 8 & 6 & -1 & 0 & 0 & 229\\\\9 & 7 & 2 & 0 & -1 & 0 & 202\\\\5 & 6 & 5 & 0 & 0 & -1 & 166\\\\1 & 0 & 0 & 1 & 1 & 0 & 57\\\\0 & 1 & 0 & 1 & 0 & 1 & 61\\\\0 & 0 & 1 & 0 & 1 & 1 & 54\\end{matrix}\\right]$"
      ],
      "text/plain": [
       "Matrix([\n",
       "[7, 8, 6, -1,  0,  0, 229],\n",
       "[9, 7, 2,  0, -1,  0, 202],\n",
       "[5, 6, 5,  0,  0, -1, 166],\n",
       "[1, 0, 0,  1,  1,  0,  57],\n",
       "[0, 1, 0,  1,  0,  1,  61],\n",
       "[0, 0, 1,  0,  1,  1,  54]])"
      ]
     },
     "execution_count": 38,
     "metadata": {},
     "output_type": "execute_result"
    }
   ],
   "source": [
    "A_B"
   ]
  },
  {
   "cell_type": "code",
   "execution_count": 39,
   "id": "8d9a2f80",
   "metadata": {},
   "outputs": [
    {
     "data": {
      "text/plain": [
       "(Matrix([\n",
       " [1, 0, 0, 0, 0, 0, 10],\n",
       " [0, 1, 0, 0, 0, 0, 18],\n",
       " [0, 0, 1, 0, 0, 0,  6],\n",
       " [0, 0, 0, 1, 0, 0, 21],\n",
       " [0, 0, 0, 0, 1, 0, 26],\n",
       " [0, 0, 0, 0, 0, 1, 22]]),\n",
       " (0, 1, 2, 3, 4, 5))"
      ]
     },
     "execution_count": 39,
     "metadata": {},
     "output_type": "execute_result"
    }
   ],
   "source": [
    "A_B.rref()"
   ]
  },
  {
   "cell_type": "raw",
   "id": "7c74f880",
   "metadata": {},
   "source": []
  },
  {
   "cell_type": "markdown",
   "id": "dd798084",
   "metadata": {},
   "source": [
    "3. Пусть (x,y,z,u) – решение системы уравнений:\n",
    "Объясните, почему y можно представить как функцию от x вида y=a+bx, где a,b – константы, зависящие только от коэффициентов исходной системы уравнений. Найдите: 1) константу a; 2) константу b."
   ]
  },
  {
   "cell_type": "raw",
   "id": "7c575dee",
   "metadata": {},
   "source": [
    "\n",
    "Поскольку нам надо выразить переменную y, поставим это переменную на 1 место, а х уберем в конец (т.к. y должен зависеть от x), отсальные столбцы оставим без изменений (то есть столбцы матрицы будут располагаться в порядке y,z,u,x + свободный член расширенной матрицы).Тогда матрица будет иметь вид:\n",
    "\n",
    "записываем именно в таком порядке(y в начале) потому что по умолчанию \n",
    "sympy делает базисными первые переменные,а переместив y в начало мы как раз получим его представление"
   ]
  },
  {
   "cell_type": "code",
   "execution_count": 1,
   "id": "1562e832",
   "metadata": {},
   "outputs": [
    {
     "data": {
      "text/plain": [
       "(3, 3)"
      ]
     },
     "execution_count": 1,
     "metadata": {},
     "output_type": "execute_result"
    }
   ],
   "source": [
    "from sympy import*\n",
    "from numpy import*\n",
    "A=Matrix([[38,95,33,36],\n",
    "         [27,77,28,33],\n",
    "         [10,34,13,17]])\n",
    "b=Matrix([48,24,32])\n",
    "A_b=Matrix(hstack([A,b]))\n",
    "A.rank(), A_b.rank()"
   ]
  },
  {
   "cell_type": "raw",
   "id": "1ef21638",
   "metadata": {},
   "source": [
    "так как ранг обычной и расширенной матриц совпадает, то по Th. Кронекера - Капелли система совместна (имеет решения)\n",
    "но, так как количество переменных < количества уравнений и ситема совместна, то она будет иметь бесконечное число решений"
   ]
  },
  {
   "cell_type": "code",
   "execution_count": 2,
   "id": "1297cbf6",
   "metadata": {},
   "outputs": [
    {
     "data": {
      "text/latex": [
       "$\\displaystyle \\left[\\begin{matrix}38 & 95 & 33 & 36 & 48\\\\27 & 77 & 28 & 33 & 24\\\\10 & 34 & 13 & 17 & 32\\end{matrix}\\right]$"
      ],
      "text/plain": [
       "Matrix([\n",
       "[38, 95, 33, 36, 48],\n",
       "[27, 77, 28, 33, 24],\n",
       "[10, 34, 13, 17, 32]])"
      ]
     },
     "execution_count": 2,
     "metadata": {},
     "output_type": "execute_result"
    }
   ],
   "source": [
    "A_b"
   ]
  },
  {
   "cell_type": "code",
   "execution_count": 3,
   "id": "c4ce834a",
   "metadata": {},
   "outputs": [
    {
     "data": {
      "text/plain": [
       "(Matrix([\n",
       " [1, 0, 0,  58,  3448],\n",
       " [0, 1, 0, -85, -5008],\n",
       " [0, 0, 1, 179, 10448]]),\n",
       " (0, 1, 2))"
      ]
     },
     "execution_count": 3,
     "metadata": {},
     "output_type": "execute_result"
    }
   ],
   "source": [
    "A_b.rref()"
   ]
  },
  {
   "cell_type": "raw",
   "id": "8ccfbc4f",
   "metadata": {},
   "source": [
    "Таким образом, получилось, что 1ый столбец - переменая y, 4ый столбец - перменная х. Мы можем выразить переменную y через х, перенеся х в правую часть уравнения. При этом коэффициент b=коэффициент перед х со знаком минус (-568), a коэффициент a = свободному членц матрицы (СМОТРИМ ПО 1 СТРОКЕ Т К Y=1 В 1 СТРОКЕ)"
   ]
  },
  {
   "cell_type": "raw",
   "id": "ca7ac83b",
   "metadata": {},
   "source": []
  },
  {
   "cell_type": "markdown",
   "id": "d56c7384",
   "metadata": {},
   "source": [
    "4.1. ДЛЯ ОДНОРОДНОЙ СЛАУ\n",
    "Исследуйте следующую систему уравнений на наличие \"лишних\" уравнений при различных значениях параметра a:\n",
    "В ответе укажите: 1) значение параметра a, при котором в системе имеется уравнение, которое является линейной комбинацией других уравнений\n"
   ]
  },
  {
   "cell_type": "code",
   "execution_count": 7,
   "id": "a1eb9e98",
   "metadata": {},
   "outputs": [
    {
     "data": {
      "text/latex": [
       "$\\displaystyle \\left[\\begin{matrix}4 & 4 & a\\\\6 & 7 & 9\\\\9 & 7 & 7\\end{matrix}\\right]$"
      ],
      "text/plain": [
       "Matrix([\n",
       "[4, 4, a],\n",
       "[6, 7, 9],\n",
       "[9, 7, 7]])"
      ]
     },
     "execution_count": 7,
     "metadata": {},
     "output_type": "execute_result"
    }
   ],
   "source": [
    "from sympy import*\n",
    "from numpy import*\n",
    "a=Symbol('a')\n",
    "A=Matrix([[4,4,a],\n",
    "         [6,7,9],\n",
    "         [9,7,7]])\n",
    "A"
   ]
  },
  {
   "cell_type": "code",
   "execution_count": 8,
   "id": "9f79621e",
   "metadata": {},
   "outputs": [
    {
     "data": {
      "text/plain": [
       "[100/21]"
      ]
     },
     "execution_count": 8,
     "metadata": {},
     "output_type": "execute_result"
    }
   ],
   "source": [
    "solve(A.det())"
   ]
  },
  {
   "cell_type": "raw",
   "id": "c30bb7ed",
   "metadata": {},
   "source": [
    "Представляем предложенную СЛАУ в виде однородной матрицы (Ax=0). Для того, чтобы найти значение параметра a, при котором уравнение является линейной комбинацией других уравений, нужно приравнять определитель матрицы к 0 и решить полученное уравнение."
   ]
  },
  {
   "cell_type": "raw",
   "id": "07cebf93",
   "metadata": {},
   "source": []
  },
  {
   "cell_type": "markdown",
   "id": "60ef2f57",
   "metadata": {},
   "source": [
    "4.2. ДЛЯ НЕОДНОРОДНОЙ СЛАУ\n",
    "Найдите количество решений следующей системы уравнений при различных значениях параметра a:\n",
    "В ответе укажите: 1) значение параметра a, при котором система имеет единственное решение."
   ]
  },
  {
   "cell_type": "code",
   "execution_count": 9,
   "id": "60fa54b5",
   "metadata": {},
   "outputs": [
    {
     "data": {
      "text/latex": [
       "$\\displaystyle \\left[\\begin{matrix}3 & 7 & 5 & a\\\\2 & 2 & 7 & 3\\\\5 & 8 & 9 & 7\\\\5 & 9 & 9 & 4\\end{matrix}\\right]$"
      ],
      "text/plain": [
       "Matrix([\n",
       "[3, 7, 5, a],\n",
       "[2, 2, 7, 3],\n",
       "[5, 8, 9, 7],\n",
       "[5, 9, 9, 4]])"
      ]
     },
     "execution_count": 9,
     "metadata": {},
     "output_type": "execute_result"
    }
   ],
   "source": [
    "from sympy import*\n",
    "from numpy import*\n",
    "a=Symbol('a')\n",
    "A=Matrix([[3,7,5],\n",
    "         [2,2,7],\n",
    "         [5,8,9],\n",
    "         [5,9,9]])\n",
    "b=Matrix([a,3,7,4])\n",
    "A_b=Matrix(hstack([A,b]))\n",
    "A_b"
   ]
  },
  {
   "cell_type": "code",
   "execution_count": 10,
   "id": "f74310e8",
   "metadata": {},
   "outputs": [
    {
     "data": {
      "text/plain": [
       "[-2]"
      ]
     },
     "execution_count": 10,
     "metadata": {},
     "output_type": "execute_result"
    }
   ],
   "source": [
    "solve(A_b.det())"
   ]
  },
  {
   "cell_type": "code",
   "execution_count": 11,
   "id": "11171e95",
   "metadata": {},
   "outputs": [
    {
     "data": {
      "text/latex": [
       "$\\displaystyle \\left[\\begin{matrix}7 & 6 & 5 & 2\\\\8 & 6 & 8 & 9\\\\a & 4 & 6 & 8\\\\9 & 8 & 5 & 2\\end{matrix}\\right]$"
      ],
      "text/plain": [
       "Matrix([\n",
       "[7, 6, 5, 2],\n",
       "[8, 6, 8, 9],\n",
       "[a, 4, 6, 8],\n",
       "[9, 8, 5, 2]])"
      ]
     },
     "execution_count": 11,
     "metadata": {},
     "output_type": "execute_result"
    }
   ],
   "source": [
    "#другой вариант создания матрицы\n",
    "\n",
    "A=Matrix([7,6,5,2,8,6,8,9,a,4,6,8,9,8,5,2]).reshape(4,4)   #reshape(число строк, число столбцов)\n",
    "A"
   ]
  },
  {
   "cell_type": "raw",
   "id": "645c5fdc",
   "metadata": {},
   "source": [
    "Представляем предложенную СЛАУ в виде неоднородной матрицы (Ax=b). Для того, чтобы найти значение параметра a, при котором система уранений имеет единтсвенное решение, нужно приравнять определитель матрицы к 0 и решить полученное уравнение."
   ]
  },
  {
   "cell_type": "raw",
   "id": "47435b26",
   "metadata": {},
   "source": []
  },
  {
   "cell_type": "markdown",
   "id": "04b0009a",
   "metadata": {},
   "source": [
    "# ТЕСТ №2"
   ]
  },
  {
   "cell_type": "markdown",
   "id": "bbac1b03",
   "metadata": {},
   "source": [
    "1. ИССЛЕДОВАНИЕ СЛАУ С ПАРАМЕТРАМИ (№4 из 1 теста)"
   ]
  },
  {
   "cell_type": "markdown",
   "id": "187b9c75",
   "metadata": {},
   "source": [
    " 2. ОПЕРАЦИИ НАД МАТРИЦАМИ\n"
   ]
  },
  {
   "cell_type": "markdown",
   "id": "1ed9b273",
   "metadata": {},
   "source": [
    " 2.1. C КРОНЕКЕРОВЫМ ПРОИЗВОДЕНИЕМ\n",
    " Даны матрицы.\n",
    "Даны матрицы.   C=A⋅B(T),   D=A(T)⋅B,   K=C⊗D – произведение Кронекера. Найдите: 1) след матрицы C; 2) след матрицы K."
   ]
  },
  {
   "cell_type": "code",
   "execution_count": 12,
   "id": "27adda8c",
   "metadata": {},
   "outputs": [
    {
     "data": {
      "text/plain": [
       "(Matrix([\n",
       " [0, 3, 6],\n",
       " [9, 0, 4]]),\n",
       " Matrix([\n",
       " [8, 4, 1],\n",
       " [9, 7, 5]]))"
      ]
     },
     "execution_count": 12,
     "metadata": {},
     "output_type": "execute_result"
    }
   ],
   "source": [
    "from sympy import*\n",
    "from numpy import*\n",
    "A=Matrix([[0,3,6],[9,0,4]])\n",
    "B=Matrix([[8,4,1],[9,7,5]])\n",
    "A,B"
   ]
  },
  {
   "cell_type": "code",
   "execution_count": 13,
   "id": "89a7f832",
   "metadata": {},
   "outputs": [
    {
     "data": {
      "text/plain": [
       "(Matrix([\n",
       " [18,  51],\n",
       " [76, 101]]),\n",
       " Matrix([\n",
       " [81, 63, 45],\n",
       " [24, 12,  3],\n",
       " [84, 52, 26]]))"
      ]
     },
     "execution_count": 13,
     "metadata": {},
     "output_type": "execute_result"
    }
   ],
   "source": [
    "C=Matrix(A*B.transpose())\n",
    "D=Matrix(A.transpose()*B)\n",
    "C,D"
   ]
  },
  {
   "cell_type": "code",
   "execution_count": 14,
   "id": "3e59bbf2",
   "metadata": {},
   "outputs": [
    {
     "data": {
      "text/latex": [
       "$\\displaystyle \\left[\\begin{matrix}1458 & 1134 & 810 & 4131 & 3213 & 2295\\\\432 & 216 & 54 & 1224 & 612 & 153\\\\1512 & 936 & 468 & 4284 & 2652 & 1326\\\\6156 & 4788 & 3420 & 8181 & 6363 & 4545\\\\1824 & 912 & 228 & 2424 & 1212 & 303\\\\6384 & 3952 & 1976 & 8484 & 5252 & 2626\\end{matrix}\\right]$"
      ],
      "text/plain": [
       "Matrix([\n",
       "[1458, 1134,  810, 4131, 3213, 2295],\n",
       "[ 432,  216,   54, 1224,  612,  153],\n",
       "[1512,  936,  468, 4284, 2652, 1326],\n",
       "[6156, 4788, 3420, 8181, 6363, 4545],\n",
       "[1824,  912,  228, 2424, 1212,  303],\n",
       "[6384, 3952, 1976, 8484, 5252, 2626]])"
      ]
     },
     "execution_count": 14,
     "metadata": {},
     "output_type": "execute_result"
    }
   ],
   "source": [
    "K=Matrix(kron(array(C),array(D)))\n",
    "K"
   ]
  },
  {
   "cell_type": "code",
   "execution_count": 15,
   "id": "596106e8",
   "metadata": {},
   "outputs": [
    {
     "data": {
      "text/latex": [
       "$\\displaystyle 119$"
      ],
      "text/plain": [
       "119"
      ]
     },
     "execution_count": 15,
     "metadata": {},
     "output_type": "execute_result"
    }
   ],
   "source": [
    "C.trace()   #след матрицы С"
   ]
  },
  {
   "cell_type": "code",
   "execution_count": 16,
   "id": "da0a819d",
   "metadata": {},
   "outputs": [
    {
     "data": {
      "text/latex": [
       "$\\displaystyle 14161$"
      ],
      "text/plain": [
       "14161"
      ]
     },
     "execution_count": 16,
     "metadata": {},
     "output_type": "execute_result"
    }
   ],
   "source": [
    "K.trace()   #след матрицы K"
   ]
  },
  {
   "cell_type": "markdown",
   "id": "8c24dbb3",
   "metadata": {},
   "source": [
    " 2.2. МАКСИМУМ ЭЛЕМЕНТОВ\n",
    " Даны матрицы:   C=A⋅B(T),   D=A(T)⋅B. Найдите: 1) максимум элементов матрицы C; 2) сумму элементов матрицы D."
   ]
  },
  {
   "cell_type": "code",
   "execution_count": 17,
   "id": "d360b00f",
   "metadata": {},
   "outputs": [
    {
     "data": {
      "text/plain": [
       "(Matrix([\n",
       " [6, 7, 2, 6],\n",
       " [1, 2, 2, 3]]),\n",
       " Matrix([\n",
       " [0, 3, 7, 7],\n",
       " [2, 1, 9, 1]]))"
      ]
     },
     "execution_count": 17,
     "metadata": {},
     "output_type": "execute_result"
    }
   ],
   "source": [
    "from sympy import*\n",
    "from numpy import*\n",
    "A=Matrix([[6,7,2,6],[1,2,2,3]])\n",
    "B=Matrix([[0,3,7,7], [2,1,9,1]])\n",
    "A,B\n"
   ]
  },
  {
   "cell_type": "code",
   "execution_count": 18,
   "id": "cf0772e9",
   "metadata": {},
   "outputs": [
    {
     "data": {
      "text/latex": [
       "$\\displaystyle \\left[\\begin{matrix}77 & 43\\\\41 & 25\\end{matrix}\\right]$"
      ],
      "text/plain": [
       "Matrix([\n",
       "[77, 43],\n",
       "[41, 25]])"
      ]
     },
     "execution_count": 18,
     "metadata": {},
     "output_type": "execute_result"
    }
   ],
   "source": [
    "C=Matrix(A*B.transpose())\n",
    "C"
   ]
  },
  {
   "cell_type": "code",
   "execution_count": 19,
   "id": "86ff38cb",
   "metadata": {},
   "outputs": [
    {
     "data": {
      "text/latex": [
       "$\\displaystyle \\left[\\begin{matrix}2 & 19 & 51 & 43\\\\4 & 23 & 67 & 51\\\\4 & 8 & 32 & 16\\\\6 & 21 & 69 & 45\\end{matrix}\\right]$"
      ],
      "text/plain": [
       "Matrix([\n",
       "[2, 19, 51, 43],\n",
       "[4, 23, 67, 51],\n",
       "[4,  8, 32, 16],\n",
       "[6, 21, 69, 45]])"
      ]
     },
     "execution_count": 19,
     "metadata": {},
     "output_type": "execute_result"
    }
   ],
   "source": [
    "D=Matrix(A.transpose()*B)\n",
    "D"
   ]
  },
  {
   "cell_type": "code",
   "execution_count": 20,
   "id": "96397283",
   "metadata": {},
   "outputs": [
    {
     "data": {
      "text/latex": [
       "$\\displaystyle 77$"
      ],
      "text/plain": [
       "77"
      ]
     },
     "execution_count": 20,
     "metadata": {},
     "output_type": "execute_result"
    }
   ],
   "source": [
    "max(C)   #максимум матрицы С"
   ]
  },
  {
   "cell_type": "code",
   "execution_count": 21,
   "id": "a452215f",
   "metadata": {},
   "outputs": [
    {
     "data": {
      "text/latex": [
       "$\\displaystyle 461$"
      ],
      "text/plain": [
       "461"
      ]
     },
     "execution_count": 21,
     "metadata": {},
     "output_type": "execute_result"
    }
   ],
   "source": [
    "sum(D)    #сумма элементов D"
   ]
  },
  {
   "cell_type": "raw",
   "id": "cd6d4aa5",
   "metadata": {},
   "source": []
  },
  {
   "cell_type": "markdown",
   "id": "dd71b519",
   "metadata": {},
   "source": [
    " 3. МАТРИЧНЫЕ УРАВНЕНИЯ"
   ]
  },
  {
   "cell_type": "markdown",
   "id": "65e42f9d",
   "metadata": {},
   "source": [
    " 3.1.  Даны матрицы:   Найдите матрицу X из уравнения AXB=C. В ответе укажите: 1) след матрицы X; 2) сумму элементов матрицы X."
   ]
  },
  {
   "cell_type": "raw",
   "id": "9d261d29",
   "metadata": {},
   "source": [
    "𝐴𝑋𝐵=𝐶\n",
    "𝐴^(−1)𝐴𝑋𝐵=𝐴^(−1)𝐶, A^(-1)A=E\n",
    "𝐸𝑋𝐵=𝐴^(−1)𝐶\n",
    "𝑋𝐵𝐵^(−1)=𝐴^(−1)𝐶𝐵^(−1), BB^(-1)=E\n",
    "𝑋𝐸=𝐴^(−1)𝐶𝐵^(−1)\n",
    "𝑋=𝐴^(−1)𝐶𝐵^(−1)"
   ]
  },
  {
   "cell_type": "code",
   "execution_count": 22,
   "id": "529a8ad2",
   "metadata": {},
   "outputs": [],
   "source": [
    "from sympy import*\n",
    "from numpy import*\n",
    "from scipy.linalg import *\n",
    "A=array([[8,5],[3,2]])      #для обратной матрицы только numpy (array)\n",
    "B=array([[4,9],[9,3]])\n",
    "C=Matrix([[12,32],[37,32]])"
   ]
  },
  {
   "cell_type": "code",
   "execution_count": 23,
   "id": "dca7ec0a",
   "metadata": {},
   "outputs": [
    {
     "data": {
      "text/latex": [
       "$\\displaystyle \\left[\\begin{matrix}-5.52173913043478 & -15.4347826086957\\\\9.56521739130435 & 24.6376811594203\\end{matrix}\\right]$"
      ],
      "text/plain": [
       "Matrix([\n",
       "[-5.52173913043478, -15.4347826086957],\n",
       "[ 9.56521739130435,  24.6376811594203]])"
      ]
     },
     "execution_count": 23,
     "metadata": {},
     "output_type": "execute_result"
    }
   ],
   "source": [
    "A1=linalg.inv(A)   #обратая матрица\n",
    "B1=linalg.inv(B)\n",
    "X=Matrix(A1*C*B1)  #.transpose()\n",
    "X"
   ]
  },
  {
   "cell_type": "code",
   "execution_count": 26,
   "id": "00fa48d2",
   "metadata": {},
   "outputs": [
    {
     "data": {
      "text/latex": [
       "$\\displaystyle 19.1159420289855$"
      ],
      "text/plain": [
       "19.1159420289855"
      ]
     },
     "execution_count": 26,
     "metadata": {},
     "output_type": "execute_result"
    }
   ],
   "source": [
    "X.trace()\n"
   ]
  },
  {
   "cell_type": "code",
   "execution_count": 27,
   "id": "488d1f17",
   "metadata": {},
   "outputs": [
    {
     "data": {
      "text/latex": [
       "$\\displaystyle 13.2463768115942$"
      ],
      "text/plain": [
       "13.2463768115942"
      ]
     },
     "execution_count": 27,
     "metadata": {},
     "output_type": "execute_result"
    }
   ],
   "source": [
    "sum(X)"
   ]
  },
  {
   "cell_type": "markdown",
   "id": "21b7dd3d",
   "metadata": {},
   "source": [
    "\n",
    "3.2. Даны матрицы.  Найдите матрицу X из уравнения AX=B. В ответе укажите: 1) наибольший элемент матрицы X; 2) сумму элементов матрицы X."
   ]
  },
  {
   "cell_type": "raw",
   "id": "cd790590",
   "metadata": {},
   "source": [
    "AX=B\n",
    "A^(-1)AX=A^(-1)B, A^(-1)A=E\n",
    "EX=A^(-1)B\n",
    "X=A^(-1)B"
   ]
  },
  {
   "cell_type": "code",
   "execution_count": 29,
   "id": "4af7256c",
   "metadata": {},
   "outputs": [],
   "source": [
    "from sympy import*\n",
    "from numpy import*\n",
    "A=array([[1,3,6],[5,1,0],[7,5,0]])   #для обратной матрицы только через numpy (array)\n",
    "B=array([[33,35],[36,33],[17,49]])"
   ]
  },
  {
   "cell_type": "code",
   "execution_count": 30,
   "id": "1a961c42",
   "metadata": {},
   "outputs": [
    {
     "data": {
      "text/plain": [
       "array([[ 0.        ,  0.27777778, -0.05555556],\n",
       "       [-0.        , -0.38888889,  0.27777778],\n",
       "       [ 0.16666667,  0.14814815, -0.12962963]])"
      ]
     },
     "execution_count": 30,
     "metadata": {},
     "output_type": "execute_result"
    }
   ],
   "source": [
    "A1=linalg.inv(A)\n",
    "A1"
   ]
  },
  {
   "cell_type": "code",
   "execution_count": 31,
   "id": "a1269990",
   "metadata": {},
   "outputs": [
    {
     "data": {
      "text/latex": [
       "$\\displaystyle \\left[\\begin{matrix}9.05555555555556 & 6.44444444444445\\\\-9.27777777777778 & 0.777777777777776\\\\8.62962962962963 & 4.37037037037037\\end{matrix}\\right]$"
      ],
      "text/plain": [
       "Matrix([\n",
       "[ 9.05555555555556,  6.44444444444445],\n",
       "[-9.27777777777778, 0.777777777777776],\n",
       "[ 8.62962962962963,  4.37037037037037]])"
      ]
     },
     "execution_count": 31,
     "metadata": {},
     "output_type": "execute_result"
    }
   ],
   "source": [
    "X=Matrix(A1@B)\n",
    "X"
   ]
  },
  {
   "cell_type": "code",
   "execution_count": 32,
   "id": "4e39c507",
   "metadata": {},
   "outputs": [
    {
     "data": {
      "text/latex": [
       "$\\displaystyle 9.05555555555556$"
      ],
      "text/plain": [
       "9.05555555555556"
      ]
     },
     "execution_count": 32,
     "metadata": {},
     "output_type": "execute_result"
    }
   ],
   "source": [
    "max(X)\n"
   ]
  },
  {
   "cell_type": "code",
   "execution_count": 33,
   "id": "9eedaab0",
   "metadata": {},
   "outputs": [
    {
     "data": {
      "text/latex": [
       "$\\displaystyle 20.0$"
      ],
      "text/plain": [
       "20.0000000000000"
      ]
     },
     "execution_count": 33,
     "metadata": {},
     "output_type": "execute_result"
    }
   ],
   "source": [
    "sum(X)"
   ]
  },
  {
   "cell_type": "markdown",
   "id": "25555939",
   "metadata": {},
   "source": [
    " 4. ОПРЕДЕЛИТЕЛИ"
   ]
  },
  {
   "cell_type": "markdown",
   "id": "c219d2d5",
   "metadata": {},
   "source": [
    " 4.1. Даны матрицы:\n",
    " C=AB.\n",
    "При каком t матрица C содержит столбец, являющийся линейной комбинацией других столбцов?"
   ]
  },
  {
   "cell_type": "raw",
   "id": "e015729a",
   "metadata": {},
   "source": [
    "Чтобы найти столбец, который является линейной комбинацией других столбцов, необходимо найти определитель этой матрицы и приравнять его нулю.(det(C)=0)"
   ]
  },
  {
   "cell_type": "code",
   "execution_count": 52,
   "id": "58e9b83a",
   "metadata": {},
   "outputs": [
    {
     "data": {
      "text/latex": [
       "$\\displaystyle \\left[\\begin{matrix}159 & 129 & 48 & 121\\\\202 & 122 & 76 & 158\\\\200 & 154 & 77 & 153\\\\7 t + 157 & 5 t + 80 & 4 t + 46 & 9 t + 92\\end{matrix}\\right]$"
      ],
      "text/plain": [
       "Matrix([\n",
       "[      159,      129,       48,      121],\n",
       "[      202,      122,       76,      158],\n",
       "[      200,      154,       77,      153],\n",
       "[7*t + 157, 5*t + 80, 4*t + 46, 9*t + 92]])"
      ]
     },
     "execution_count": 52,
     "metadata": {},
     "output_type": "execute_result"
    }
   ],
   "source": [
    "from sympy import*\n",
    "from numpy import*\n",
    "t=Symbol('t')\n",
    "A=Matrix([[5,8,1,7],[3,8,7,8],[8,7,5,7],[2,9,8,t]])\n",
    "B=Matrix([[6,9,3,4],[9,6,0,4],[8,1,5,6],[7,5,4,9]])\n",
    "C=A*B\n",
    "C"
   ]
  },
  {
   "cell_type": "code",
   "execution_count": 35,
   "id": "f3b94036",
   "metadata": {},
   "outputs": [
    {
     "data": {
      "text/plain": [
       "[2153/240]"
      ]
     },
     "execution_count": 35,
     "metadata": {},
     "output_type": "execute_result"
    }
   ],
   "source": [
    "solve(C.det())"
   ]
  },
  {
   "cell_type": "code",
   "execution_count": 56,
   "id": "6604b169",
   "metadata": {},
   "outputs": [
    {
     "data": {
      "text/plain": [
       "8.970833333333333"
      ]
     },
     "execution_count": 56,
     "metadata": {},
     "output_type": "execute_result"
    }
   ],
   "source": [
    "2153/240"
   ]
  },
  {
   "cell_type": "markdown",
   "id": "11356e88",
   "metadata": {},
   "source": [
    "ИЛИ (2 СПОСОБ)"
   ]
  },
  {
   "cell_type": "raw",
   "id": "61d25931",
   "metadata": {},
   "source": [
    "Чтобы система имела бесконечно много решений,число переменных должно быть больше числа уравнений => так как параметр a влияет только на последнюю строчку необходимо полностью занулить ее.\n",
    "\n",
    "Чтобы система имела хоть какое-то решение необходимо занулить последнюю строчку "
   ]
  },
  {
   "cell_type": "code",
   "execution_count": 53,
   "id": "a5d1222e",
   "metadata": {},
   "outputs": [
    {
     "data": {
      "text/latex": [
       "$\\displaystyle \\left[\\begin{matrix}159 & 129 & 48 & 121\\\\202 & 122 & 76 & 158\\\\200 & 154 & 77 & 153\\\\7 t + 157 & 5 t + 80 & 4 t + 46 & 9 t + 92\\end{matrix}\\right]$"
      ],
      "text/plain": [
       "Matrix([\n",
       "[      159,      129,       48,      121],\n",
       "[      202,      122,       76,      158],\n",
       "[      200,      154,       77,      153],\n",
       "[7*t + 157, 5*t + 80, 4*t + 46, 9*t + 92]])"
      ]
     },
     "execution_count": 53,
     "metadata": {},
     "output_type": "execute_result"
    }
   ],
   "source": [
    "from sympy import*\n",
    "from numpy import*\n",
    "t=Symbol('t')\n",
    "A=Matrix([[5,8,1,7],[3,8,7,8],[8,7,5,7],[2,9,8,t]])\n",
    "B=Matrix([[6,9,3,4],[9,6,0,4],[8,1,5,6],[7,5,4,9]])\n",
    "C=A*B\n",
    "C"
   ]
  },
  {
   "cell_type": "code",
   "execution_count": 54,
   "id": "942bc064",
   "metadata": {},
   "outputs": [
    {
     "data": {
      "text/latex": [
       "$\\displaystyle \\left[\\begin{matrix}159 & 129 & 48 & 121\\\\0 & -6660 & 2388 & 680\\\\0 & 0 & -14464548 & 47700\\\\0 & 0 & 0 & 55279717747200 t - 495905134623840\\end{matrix}\\right]$"
      ],
      "text/plain": [
       "Matrix([\n",
       "[159,   129,        48,                                121],\n",
       "[  0, -6660,      2388,                                680],\n",
       "[  0,     0, -14464548,                              47700],\n",
       "[  0,     0,         0, 55279717747200*t - 495905134623840]])"
      ]
     },
     "execution_count": 54,
     "metadata": {},
     "output_type": "execute_result"
    }
   ],
   "source": [
    "C.echelon_form()"
   ]
  },
  {
   "cell_type": "code",
   "execution_count": 55,
   "id": "7113b77c",
   "metadata": {},
   "outputs": [
    {
     "data": {
      "text/plain": [
       "8.970833333333333"
      ]
     },
     "execution_count": 55,
     "metadata": {},
     "output_type": "execute_result"
    }
   ],
   "source": [
    "495905134623840/55279717747200"
   ]
  },
  {
   "cell_type": "markdown",
   "id": "2a6bb1c7",
   "metadata": {},
   "source": [
    "4.2. Дана матрица\n",
    " Запишите определитель матрицы M в виде многочлена ax2+bx+c. В ответе укажите: 1) значение коэффициента a; 2) значение коэффициентов а и b"
   ]
  },
  {
   "cell_type": "code",
   "execution_count": 57,
   "id": "45d96a7d",
   "metadata": {},
   "outputs": [
    {
     "data": {
      "text/latex": [
       "$\\displaystyle - 36 x^{2} + 250 x - 532$"
      ],
      "text/plain": [
       "-36*x**2 + 250*x - 532"
      ]
     },
     "execution_count": 57,
     "metadata": {},
     "output_type": "execute_result"
    }
   ],
   "source": [
    "from sympy import*\n",
    "from numpy import*\n",
    "x=Symbol('x')\n",
    "M=Matrix([[2,5,0,x],[4,3,7,3],[x,7,0,8],[4,6,2,4]])\n",
    "M.det()\n"
   ]
  },
  {
   "cell_type": "raw",
   "id": "4d8b0689",
   "metadata": {},
   "source": []
  },
  {
   "cell_type": "markdown",
   "id": "3a3b981d",
   "metadata": {},
   "source": [
    "# ТЕСТ №3"
   ]
  },
  {
   "cell_type": "markdown",
   "id": "7317c4fb",
   "metadata": {},
   "source": [
    "1. МАТРИЦЫ БОЛЬШОГО РАЗМЕРА"
   ]
  },
  {
   "cell_type": "markdown",
   "id": "f66cafc2",
   "metadata": {},
   "source": [
    "1.1. Арифметическая прогрессия\n",
    "\n",
    "Матрица A=(ai,j) имеет размер n×n, где n=60000. Известно, что ее диагональные элементы образуют арифметическую прогрессию с начальным элементом a1,1=0,99 и конечным элементом an,n=1,01. Также известно, что все элементы матрицы A, расположенные вне главной диагонали, равны нулю за исключением двух элементов: a1,2=0,50 и a2,1=0,30. Найдите: 1) определитель матрицы A; 2) след матрицы, обратной к A."
   ]
  },
  {
   "cell_type": "markdown",
   "id": "0514a816",
   "metadata": {},
   "source": [
    "                            матрица будет иметь вид:\n",
    "\n",
    "                            a11  a12   0   0  ...  0\n",
    "                            a21  a22   0   0  ...  0\n",
    "                             0    0   a33  0  ...  0\n",
    "                             0    0    0  a44 ...  0\n",
    "                             .......................\n",
    "                             0    0    0   0  ... ann\n"
   ]
  },
  {
   "cell_type": "code",
   "execution_count": 2,
   "id": "98724f68",
   "metadata": {},
   "outputs": [
    {
     "data": {
      "text/plain": [
       "array([0.99      , 0.99000033, 0.99000067, ..., 1.00999933, 1.00999967,\n",
       "       1.01      ])"
      ]
     },
     "execution_count": 2,
     "metadata": {},
     "output_type": "execute_result"
    }
   ],
   "source": [
    "from sympy import*\n",
    "from numpy import*\n",
    "n=60000   #размерность\n",
    "a11=0.99 #начальный элемент\n",
    "ann=1.01   #конечный элемент\n",
    "a12=0.5\n",
    "a21=0.3\n",
    "a=linspace(a11, ann, n)            #все члены арифметической прогрессии \n",
    "a"
   ]
  },
  {
   "cell_type": "raw",
   "id": "6517fd27",
   "metadata": {},
   "source": [
    "Чтобы посчитать опрределитель, разложим матрицу по 1 столбцу :\n",
    "det(A)=(-1)^(1+1)*а11*(a22*a33*...*ann)+(-1)^(1+2)*a21*(a12*a33*a44*...*ann) =\n",
    "= а11*(a22*a33*...*ann)-a21*a12*(a33*a44*...*ann)"
   ]
  },
  {
   "cell_type": "code",
   "execution_count": 3,
   "id": "2ffc1f6c",
   "metadata": {},
   "outputs": [
    {
     "name": "stdout",
     "output_type": "stream",
     "text": [
      "Определитель матрицы = 0.3115573936998423\n"
     ]
    }
   ],
   "source": [
    "a22=a[1]\n",
    "det=a11*prod(a[1:])-a21*a12*(prod(a[2:]))    #prod - произведение\n",
    "print('Определитель матрицы =', det)"
   ]
  },
  {
   "cell_type": "markdown",
   "id": "2775c482",
   "metadata": {},
   "source": [
    "Обратная матрица будет выглядить в виде блочных матриц таким образом:\n",
    "\n",
    "                                        (a11  a12)^(-1)      O\n",
    "                                        (a21  a22)           O\n",
    "                                             O      (1/a33........O...)\n",
    "                                             O      (..O..1/a44...O...)\n",
    "                                             O      (.................)\n",
    "                                             O      (..O.........1/ann)\n",
    "                                             \n",
    "                                             \n"
   ]
  },
  {
   "cell_type": "raw",
   "id": "80c93117",
   "metadata": {},
   "source": [
    "так как А^(-1)*A=E\n",
    "\n",
    "a33  0   ...  0        X   x1   ...   xn       1  0  ...  0\n",
    "0   a44  ...  0    *   y1  Y    ...   yn    =  0  1  ...  0\n",
    "...............        .................       ............\n",
    "0    0   ... ann       z1   z2    ...   Z      0  0  ...  1 \n",
    "\n",
    "a33*X=1      X=1/a33\n",
    "a44*Y=1      Y=1/a44\n",
    ".......      .......\n",
    "ann*Z=1      Z=1/ann"
   ]
  },
  {
   "cell_type": "code",
   "execution_count": 9,
   "id": "bdc15991",
   "metadata": {},
   "outputs": [
    {
     "data": {
      "text/plain": [
       "array([[ 1.19262732, -0.60233683],\n",
       "       [-0.3614021 ,  1.19262692]])"
      ]
     },
     "execution_count": 9,
     "metadata": {},
     "output_type": "execute_result"
    }
   ],
   "source": [
    "A=array([[a11,a12],[a21, a[1]]])\n",
    "A1=linalg.inv(A)   #обратная матрица\n",
    "A1"
   ]
  },
  {
   "cell_type": "markdown",
   "id": "f27e5f3b",
   "metadata": {},
   "source": [
    "Обратная матрица будет выглядить в виде блочных матриц таким образом:\n",
    "\n",
    "\n",
    "                                         A1              O\n",
    "                                         O      (1/a33........O...)\n",
    "                                         O      (..O..1/a44...O...)\n",
    "                                         O      (.................)\n",
    "                                         O      (..O.........1/ann)"
   ]
  },
  {
   "cell_type": "code",
   "execution_count": 5,
   "id": "18a26d73",
   "metadata": {},
   "outputs": [
    {
     "name": "stdout",
     "output_type": "stream",
     "text": [
      "След обратной матрицы = 60002.365239246144\n"
     ]
    }
   ],
   "source": [
    "trace=A1.trace()+sum(1/a[2:])\n",
    "print('След обратной матрицы =', trace)"
   ]
  },
  {
   "cell_type": "markdown",
   "id": "bb44eea2",
   "metadata": {},
   "source": [
    "1.2. Арифметическая + геометрическая прогрессия\n",
    "\n",
    "Матрица A=(ai,j) имеет размер n×n, где n=40000. Известно, что: 1) диагональные элементы образуют геометрическую прогрессию с начальным элементом a1,1=1 и конечным элементом an,n=1,09; 2) элементы первой строки образуют арифметическую прогрессию с конечным элементом a1,n=1,17; 3) все элементы матрицы A, расположенные вне главной диагонали и вне первой строки, равны нулю. Найдите обратную матрицу B=A^(−1) и укажите в ответе: 1) наименьший элемент матрицы B; 2) сумму элементов матрицы B."
   ]
  },
  {
   "cell_type": "code",
   "execution_count": 22,
   "id": "5ed79c02",
   "metadata": {},
   "outputs": [],
   "source": [
    "from sympy import*\n",
    "from numpy import*\n",
    "from scipy.linalg import*\n",
    "n=40000 #размерность\n",
    "a11=1  #начальный элемент матрицы\n",
    "ann=1.06  #конечный элемент геометриической прогрессии\n",
    "a1n=1.22  #конечный элемент арифметитческой прогрессии"
   ]
  },
  {
   "cell_type": "markdown",
   "id": "869716d8",
   "metadata": {},
   "source": [
    "                        То есть матрица имеет вид:\n",
    "\n",
    "                        a11   a12  a13  ...  a1n    (арифм прогрессия)\n",
    "                         0    a22   0   ...   0\n",
    "                         0     0   a33  ...   0\n",
    "                         ......................\n",
    "                         0     0    0   ...  ann    (геом прогрессия)"
   ]
  },
  {
   "cell_type": "code",
   "execution_count": 28,
   "id": "6fd9fe00",
   "metadata": {},
   "outputs": [
    {
     "data": {
      "text/plain": [
       "array([1.       , 1.0000055, 1.000011 , ..., 1.219989 , 1.2199945,\n",
       "       1.22     ])"
      ]
     },
     "execution_count": 28,
     "metadata": {},
     "output_type": "execute_result"
    }
   ],
   "source": [
    "stroka=linspace(a11, a1n, n)   #арифметическая прогрессия 1 строки\n",
    "stroka"
   ]
  },
  {
   "cell_type": "code",
   "execution_count": 29,
   "id": "3089ffb8",
   "metadata": {},
   "outputs": [
    {
     "data": {
      "text/plain": [
       "array([1.        , 1.00000146, 1.00000291, ..., 1.05999691, 1.05999846,\n",
       "       1.06      ])"
      ]
     },
     "execution_count": 29,
     "metadata": {},
     "output_type": "execute_result"
    }
   ],
   "source": [
    "diag=geomspace(a11, ann, n)     #геометрическая прогрессия диагонали\n",
    "diag"
   ]
  },
  {
   "cell_type": "markdown",
   "id": "68a14526",
   "metadata": {},
   "source": [
    "                    Обратная матрица B=A^(-1) будет иметь вид:\n",
    "\n",
    "                    a11   -a12/a11   -a13/a12 ...  a1n/a1(n-1)\n",
    "                     0      1/a22        0    ...      0\n",
    "                     0        0        1/a33  ...      0\n",
    "                     .......................................\n",
    "                     0        0          0    ...     1/ann"
   ]
  },
  {
   "cell_type": "raw",
   "id": "825b2088",
   "metadata": {},
   "source": [
    "A*A^(-1)=E\n",
    "\n",
    "a11   a12  a13  ...  a1n          x1   x2   ...  xn       1  0  ...  0\n",
    " 0    a22   0   ...   0           y1   Y    ...  yn       0  1  ...  0\n",
    " 0     0   a33  ...   0     *     k1   k2   ...  kn   =   0  0  ...  0\n",
    " ......................           .................       ............\n",
    " 0     0    0   ...  ann          z1   z2   ...  Z        0  0   ... 1"
   ]
  },
  {
   "cell_type": "code",
   "execution_count": 25,
   "id": "5d932d98",
   "metadata": {},
   "outputs": [
    {
     "name": "stdout",
     "output_type": "stream",
     "text": [
      "[1. 1. 1. ... 1. 1. 1.]\n",
      "элементы 1 строки обратной матрицы:  [ 1.         -1.00000404 -1.00000809 ... -1.15093637 -1.15093988\n",
      " -1.1509434 ]\n",
      "\n",
      "диагональные элементы обратной матрицы:  [1.         0.99999854 0.99999709 ... 0.94339898 0.9433976  0.94339623]\n"
     ]
    }
   ],
   "source": [
    "stroka_inv = linspace(1, 1, n)    #для обратных элементов первой строки\n",
    "print(stroka_inv)\n",
    "for i in range(1,len(stroka)):\n",
    "    stroka_inv[i] = -stroka[i]/(diag[i]*a11)\n",
    "print('элементы 1 строки обратной матрицы: ', stroka_inv)    \n",
    "print()\n",
    "\n",
    "diag_inv = 1/diag  \n",
    "print('диагональные элементы обратной матрицы: ', diag_inv)"
   ]
  },
  {
   "cell_type": "code",
   "execution_count": 26,
   "id": "48d3a010",
   "metadata": {},
   "outputs": [
    {
     "data": {
      "text/plain": [
       "-1.150943396226415"
      ]
     },
     "execution_count": 26,
     "metadata": {},
     "output_type": "execute_result"
    }
   ],
   "source": [
    "min(min(stroka_inv),min(diag_inv)) # минимальный элемент матрицы"
   ]
  },
  {
   "cell_type": "code",
   "execution_count": 27,
   "id": "1b35bd2d",
   "metadata": {},
   "outputs": [
    {
     "data": {
      "text/plain": [
       "-4231.753281269834"
      ]
     },
     "execution_count": 27,
     "metadata": {},
     "output_type": "execute_result"
    }
   ],
   "source": [
    "sum(stroka_inv)+sum(diag_inv)-a11   # так как мы посчитали a_11 и в 1 строке,и при диагонали"
   ]
  },
  {
   "cell_type": "code",
   "execution_count": null,
   "id": "e6c823be",
   "metadata": {},
   "outputs": [],
   "source": []
  },
  {
   "cell_type": "markdown",
   "id": "8027c7f3",
   "metadata": {},
   "source": [
    "2. ПЕРЕСТАНОВКИ"
   ]
  },
  {
   "cell_type": "markdown",
   "id": "c269ac65",
   "metadata": {},
   "source": [
    "Для каждого k=1,…,n обозначим ek вектор-столбец размерности n, такой, что его элемент с номером k равен 1, а все остальные элементы равны 0. Пусть σ:{1,…,n}→{1,…,n} – некоторая перестановка первых n натуральных чисел. Матрица A однозначно определяется условиями: Aek=eσ(k),k=1,…,n. Известно, что n=12 и результатом применения σ к последовательности 1,…,12 будет следующий ряд чисел: 8,4,7,5,9,2,12,6,1,11,10,3.  Найдите: 1) след матрицы A^7; 2) наименьшее натуральное m, такое, что след матрицы A^m равен 12."
   ]
  },
  {
   "cell_type": "code",
   "execution_count": 18,
   "id": "e7ef493f",
   "metadata": {},
   "outputs": [],
   "source": [
    "from sympy import*\n",
    "from numpy import*\n",
    "from scipy.linalg import*\n",
    "\n",
    "l=[8,4,7,5,9,2,12,6,1,11,10,3]  #перестановка\n",
    "n=12\n",
    "p=7  #степень матррицы\n",
    "trace=12    #след матрицы A^m"
   ]
  },
  {
   "cell_type": "markdown",
   "id": "f401ce5f",
   "metadata": {},
   "source": [
    "                               то есть матрица должна иметь вид:\n",
    "\n",
    "                                    0 0 0 0 0 0 0 0 1 0 0 0\n",
    "                                    0 0 0 0 0 1 0 0 0 0 0 0\n",
    "                                    0 0 0 0 0 0 0 0 0 0 0 1\n",
    "                                    0 1 0 0 0 0 0 0 0 0 0 0\n",
    "                                    0 0 0 1 0 0 0 0 0 0 0 0\n",
    "                                    0 0 0 0 0 0 0 1 0 0 0 0\n",
    "                                    0 0 1 0 0 0 0 0 0 0 0 0\n",
    "                                    1 0 0 0 0 0 0 0 0 0 0 0\n",
    "                                    0 0 0 0 1 0 0 0 0 0 0 0\n",
    "                                    0 0 0 0 0 0 0 0 0 0 1 0\n",
    "                                    0 0 0 0 0 0 0 0 0 1 0 0\n",
    "                                    0 0 0 0 0 0 1 0 0 0 0 0\n"
   ]
  },
  {
   "cell_type": "code",
   "execution_count": 21,
   "id": "f774a41c",
   "metadata": {},
   "outputs": [
    {
     "data": {
      "text/plain": [
       "array([[0., 0., 0., 0., 0., 0., 0., 0., 1., 0., 0., 0.],\n",
       "       [0., 0., 0., 0., 0., 1., 0., 0., 0., 0., 0., 0.],\n",
       "       [0., 0., 0., 0., 0., 0., 0., 0., 0., 0., 0., 1.],\n",
       "       [0., 1., 0., 0., 0., 0., 0., 0., 0., 0., 0., 0.],\n",
       "       [0., 0., 0., 1., 0., 0., 0., 0., 0., 0., 0., 0.],\n",
       "       [0., 0., 0., 0., 0., 0., 0., 1., 0., 0., 0., 0.],\n",
       "       [0., 0., 1., 0., 0., 0., 0., 0., 0., 0., 0., 0.],\n",
       "       [1., 0., 0., 0., 0., 0., 0., 0., 0., 0., 0., 0.],\n",
       "       [0., 0., 0., 0., 1., 0., 0., 0., 0., 0., 0., 0.],\n",
       "       [0., 0., 0., 0., 0., 0., 0., 0., 0., 0., 1., 0.],\n",
       "       [0., 0., 0., 0., 0., 0., 0., 0., 0., 1., 0., 0.],\n",
       "       [0., 0., 0., 0., 0., 0., 1., 0., 0., 0., 0., 0.]])"
      ]
     },
     "execution_count": 21,
     "metadata": {},
     "output_type": "execute_result"
    }
   ],
   "source": [
    "A = zeros((n, n))   #заполняем матрицу n*n нулями\n",
    "for i in range(n):\n",
    "    for j in range(n):\n",
    "        if l[i] == j + 1:   #если i элемент из перестановки = j+1 номеру\n",
    "            A[j][i] = 1    \n",
    "A"
   ]
  },
  {
   "cell_type": "code",
   "execution_count": 220,
   "id": "7edc1138",
   "metadata": {},
   "outputs": [
    {
     "name": "stdout",
     "output_type": "stream",
     "text": [
      "след матрицы  = 7.0\n"
     ]
    }
   ],
   "source": [
    "print('след матрицы  =', (linalg.matrix_power(A,7)).trace())    #след матрицы A**7"
   ]
  },
  {
   "cell_type": "code",
   "execution_count": 221,
   "id": "9883bc59",
   "metadata": {},
   "outputs": [
    {
     "name": "stdout",
     "output_type": "stream",
     "text": [
      " минимальная степень 42\n"
     ]
    }
   ],
   "source": [
    "for i in range(1,10000000):\n",
    "    if (linalg.matrix_power(A,i)).trace() == trace:\n",
    "        print(' минимальная степень', i) # минимальная степень, при которой след = 12\n",
    "        break"
   ]
  },
  {
   "cell_type": "markdown",
   "id": "47057f00",
   "metadata": {},
   "source": [
    "3. МАТРИЧНЫЕ РЯДЫ"
   ]
  },
  {
   "cell_type": "markdown",
   "id": "62563cae",
   "metadata": {},
   "source": [
    "Даны матрицы: I=([1 0], [0, 1]), A=([9γ, 6γ], [5γ, 11γ]), где γ=0,057. Пусть Sm,n=∑ni=mA^i,Bm=(I−A)^(−1)A^m. 1) Найдите наибольший элемент матрицы S=S2,60. 2) Найдите наибольший элемент матрицы B=B2. 3) Найдите наименьшее k, такое, что при любом n>k наибольший элемент матрицы Sk,n меньше 0,0001."
   ]
  },
  {
   "cell_type": "code",
   "execution_count": 32,
   "id": "d86a3a88",
   "metadata": {},
   "outputs": [
    {
     "data": {
      "text/plain": [
       "array([[0.513, 0.342],\n",
       "       [0.285, 0.627]])"
      ]
     },
     "execution_count": 32,
     "metadata": {},
     "output_type": "execute_result"
    }
   ],
   "source": [
    "from sympy import*\n",
    "from numpy import*\n",
    "from scipy.linalg import*\n",
    "\n",
    "I=eye(2)    #единичная матрица размером 2 на 2\n",
    "l=0.057             #лямбда\n",
    "m=2   #начальный элемент суммироваия\n",
    "n=60   #конечный элемент суммирования\n",
    "minimum=0.0001    #минимальный значение\n",
    "\n",
    "A=array([[9*l, 6*l], [5*l, 11*l]])    #матрица А\n",
    "A"
   ]
  },
  {
   "cell_type": "code",
   "execution_count": 33,
   "id": "0c1e7ca5",
   "metadata": {},
   "outputs": [
    {
     "data": {
      "text/plain": [
       "array([[2.91544273, 3.71740916],\n",
       "       [3.09784097, 4.15457912]])"
      ]
     },
     "execution_count": 33,
     "metadata": {},
     "output_type": "execute_result"
    }
   ],
   "source": [
    "S = zeros((2,2))   #матрица размером 2 на 2, состоящая только из 0\n",
    "\n",
    "for i in range(m, n+1):   #возводим матрицу А в степень с начального до конечного элемента\n",
    "    S+=linalg.matrix_power(A,i)\n",
    "S"
   ]
  },
  {
   "cell_type": "code",
   "execution_count": 39,
   "id": "3bb75ec0",
   "metadata": {},
   "outputs": [
    {
     "name": "stdout",
     "output_type": "stream",
     "text": [
      "Максимальный элемент матрицы S = 9.91344367797553e-5 9.913443677975533e-05\n"
     ]
    }
   ],
   "source": [
    "S1=Matrix(S)    #максимальный элемент через sympy\n",
    "print('Максимальный элемент матрицы S =', max(S1))"
   ]
  },
  {
   "cell_type": "code",
   "execution_count": null,
   "id": "ef5e1cba",
   "metadata": {},
   "outputs": [],
   "source": [
    "B=(I−A)^(−1)*A^m\n",
    "(I-A)*(I-A)^(-1)=E  обратная матрица \n",
    "\n"
   ]
  },
  {
   "cell_type": "code",
   "execution_count": 35,
   "id": "bbad0b93",
   "metadata": {},
   "outputs": [
    {
     "data": {
      "text/plain": [
       "array([[2.91792859, 3.72067448],\n",
       "       [3.10056206, 4.15815342]])"
      ]
     },
     "execution_count": 35,
     "metadata": {},
     "output_type": "execute_result"
    }
   ],
   "source": [
    "B=linalg.inv(I-A)@linalg.matrix_power(A, m)    #матрица B=(I−A)^(−1)*A^m\n",
    "B"
   ]
  },
  {
   "cell_type": "code",
   "execution_count": 36,
   "id": "16c2c282",
   "metadata": {},
   "outputs": [
    {
     "name": "stdout",
     "output_type": "stream",
     "text": [
      "Максимальный элемент матрицы B = 4.15815341941769\n"
     ]
    }
   ],
   "source": [
    "B1=Matrix(B)\n",
    "print('Максимальный элемент матрицы B =', max(B1))"
   ]
  },
  {
   "cell_type": "code",
   "execution_count": 38,
   "id": "05dc7596",
   "metadata": {},
   "outputs": [
    {
     "name": "stdout",
     "output_type": "stream",
     "text": [
      "91\n"
     ]
    }
   ],
   "source": [
    "minimum=0.0001 \n",
    "S = zeros((2,2))\n",
    "for k in range(500): #перебираем пределы суммирования\n",
    "    S = linalg.matrix_power(A,k)\n",
    "    for n in range(k+1,k+200):  #перебираем пределы суммирования\n",
    "        S =  S + linalg.matrix_power(A,n) # продолжаем возврдить в степень, чтобы найти наименьшее к\n",
    "    S1=Matrix(S)\n",
    "    if max(S1) < minimum: #если максимальный элемент меньше minimum то мы нашли k\n",
    "        print(k)\n",
    "        break\n",
    "    else:\n",
    "        S = zeros((2,2))"
   ]
  },
  {
   "cell_type": "markdown",
   "id": "c09923ae",
   "metadata": {},
   "source": [
    "4. КОМПЛЕКСНЫЕ ЧИСЛА"
   ]
  },
  {
   "cell_type": "markdown",
   "id": "25b198db",
   "metadata": {},
   "source": [
    "Пусть λ – комплексный корень из 1 степени 35, такой, что его мнимая часть больше 0, а действительная часть максимальна среди подобных корней с положительной мнимой частью. Даны матрицы: I=(1001), A=(8974). Найдите определитель матрицы A+λI и укажите в ответе: 1) действительную часть этого определитля; 2) его мнимую часть."
   ]
  },
  {
   "cell_type": "code",
   "execution_count": 22,
   "id": "e4186b48",
   "metadata": {},
   "outputs": [],
   "source": [
    "from sympy import*\n",
    "from numpy import*\n",
    "from scipy.linalg import*\n",
    "\n",
    "p=35   #степень\n",
    "I=eye(2)\n",
    "A=Matrix([[8,7],[9,4]])"
   ]
  },
  {
   "cell_type": "code",
   "execution_count": 23,
   "id": "b04a7c93",
   "metadata": {},
   "outputs": [
    {
     "data": {
      "text/latex": [
       "$\\displaystyle \\left\\{1, - \\cos{\\left(\\frac{\\pi}{35} \\right)} - i \\sin{\\left(\\frac{\\pi}{35} \\right)}, - \\cos{\\left(\\frac{\\pi}{35} \\right)} + i \\sin{\\left(\\frac{\\pi}{35} \\right)}, \\cos{\\left(\\frac{2 \\pi}{35} \\right)} - i \\sin{\\left(\\frac{2 \\pi}{35} \\right)}, \\cos{\\left(\\frac{2 \\pi}{35} \\right)} + i \\sin{\\left(\\frac{2 \\pi}{35} \\right)}, - \\cos{\\left(\\frac{3 \\pi}{35} \\right)} - i \\sin{\\left(\\frac{3 \\pi}{35} \\right)}, - \\cos{\\left(\\frac{3 \\pi}{35} \\right)} + i \\sin{\\left(\\frac{3 \\pi}{35} \\right)}, \\cos{\\left(\\frac{4 \\pi}{35} \\right)} - i \\sin{\\left(\\frac{4 \\pi}{35} \\right)}, \\cos{\\left(\\frac{4 \\pi}{35} \\right)} + i \\sin{\\left(\\frac{4 \\pi}{35} \\right)}, - \\cos{\\left(\\frac{\\pi}{7} \\right)} - i \\sin{\\left(\\frac{\\pi}{7} \\right)}, - \\cos{\\left(\\frac{\\pi}{7} \\right)} + i \\sin{\\left(\\frac{\\pi}{7} \\right)}, \\cos{\\left(\\frac{6 \\pi}{35} \\right)} - i \\sin{\\left(\\frac{6 \\pi}{35} \\right)}, \\cos{\\left(\\frac{6 \\pi}{35} \\right)} + i \\sin{\\left(\\frac{6 \\pi}{35} \\right)}, \\cos{\\left(\\frac{8 \\pi}{35} \\right)} - i \\sin{\\left(\\frac{8 \\pi}{35} \\right)}, \\cos{\\left(\\frac{8 \\pi}{35} \\right)} + i \\sin{\\left(\\frac{8 \\pi}{35} \\right)}, - \\cos{\\left(\\frac{9 \\pi}{35} \\right)} - i \\sin{\\left(\\frac{9 \\pi}{35} \\right)}, - \\cos{\\left(\\frac{9 \\pi}{35} \\right)} + i \\sin{\\left(\\frac{9 \\pi}{35} \\right)}, \\cos{\\left(\\frac{2 \\pi}{7} \\right)} - i \\sin{\\left(\\frac{2 \\pi}{7} \\right)}, \\cos{\\left(\\frac{2 \\pi}{7} \\right)} + i \\sin{\\left(\\frac{2 \\pi}{7} \\right)}, - \\cos{\\left(\\frac{11 \\pi}{35} \\right)} - i \\sin{\\left(\\frac{11 \\pi}{35} \\right)}, - \\cos{\\left(\\frac{11 \\pi}{35} \\right)} + i \\sin{\\left(\\frac{11 \\pi}{35} \\right)}, \\cos{\\left(\\frac{12 \\pi}{35} \\right)} - i \\sin{\\left(\\frac{12 \\pi}{35} \\right)}, \\cos{\\left(\\frac{12 \\pi}{35} \\right)} + i \\sin{\\left(\\frac{12 \\pi}{35} \\right)}, - \\cos{\\left(\\frac{13 \\pi}{35} \\right)} - i \\sin{\\left(\\frac{13 \\pi}{35} \\right)}, - \\cos{\\left(\\frac{13 \\pi}{35} \\right)} + i \\sin{\\left(\\frac{13 \\pi}{35} \\right)}, - \\cos{\\left(\\frac{3 \\pi}{7} \\right)} - i \\sin{\\left(\\frac{3 \\pi}{7} \\right)}, - \\cos{\\left(\\frac{3 \\pi}{7} \\right)} + i \\sin{\\left(\\frac{3 \\pi}{7} \\right)}, \\cos{\\left(\\frac{16 \\pi}{35} \\right)} - i \\sin{\\left(\\frac{16 \\pi}{35} \\right)}, \\cos{\\left(\\frac{16 \\pi}{35} \\right)} + i \\sin{\\left(\\frac{16 \\pi}{35} \\right)}, - \\cos{\\left(\\frac{17 \\pi}{35} \\right)} - i \\sin{\\left(\\frac{17 \\pi}{35} \\right)}, - \\cos{\\left(\\frac{17 \\pi}{35} \\right)} + i \\sin{\\left(\\frac{17 \\pi}{35} \\right)}, - \\frac{1}{4} + \\frac{\\sqrt{5}}{4} - i \\sqrt{\\frac{\\sqrt{5}}{8} + \\frac{5}{8}}, - \\frac{1}{4} + \\frac{\\sqrt{5}}{4} + i \\sqrt{\\frac{\\sqrt{5}}{8} + \\frac{5}{8}}, - \\frac{\\sqrt{5}}{4} - \\frac{1}{4} - i \\sqrt{\\frac{5}{8} - \\frac{\\sqrt{5}}{8}}, - \\frac{\\sqrt{5}}{4} - \\frac{1}{4} + i \\sqrt{\\frac{5}{8} - \\frac{\\sqrt{5}}{8}}\\right\\}$"
      ],
      "text/plain": [
       "FiniteSet(1, cos(2*pi/35) + I*sin(2*pi/35), cos(4*pi/35) + I*sin(4*pi/35), cos(6*pi/35) + I*sin(6*pi/35), cos(8*pi/35) + I*sin(8*pi/35), cos(2*pi/7) + I*sin(2*pi/7), cos(12*pi/35) + I*sin(12*pi/35), cos(16*pi/35) + I*sin(16*pi/35), cos(2*pi/35) - I*sin(2*pi/35), cos(4*pi/35) - I*sin(4*pi/35), cos(6*pi/35) - I*sin(6*pi/35), cos(8*pi/35) - I*sin(8*pi/35), cos(2*pi/7) - I*sin(2*pi/7), cos(12*pi/35) - I*sin(12*pi/35), cos(16*pi/35) - I*sin(16*pi/35), -cos(pi/35) + I*sin(pi/35), -cos(3*pi/35) + I*sin(3*pi/35), -cos(pi/7) + I*sin(pi/7), -cos(9*pi/35) + I*sin(9*pi/35), -cos(11*pi/35) + I*sin(11*pi/35), -cos(13*pi/35) + I*sin(13*pi/35), -cos(3*pi/7) + I*sin(3*pi/7), -cos(17*pi/35) + I*sin(17*pi/35), -cos(pi/35) - I*sin(pi/35), -cos(3*pi/35) - I*sin(3*pi/35), -cos(pi/7) - I*sin(pi/7), -cos(9*pi/35) - I*sin(9*pi/35), -cos(11*pi/35) - I*sin(11*pi/35), -cos(13*pi/35) - I*sin(13*pi/35), -cos(3*pi/7) - I*sin(3*pi/7), -cos(17*pi/35) - I*sin(17*pi/35), -1/4 + sqrt(5)/4 + I*sqrt(sqrt(5)/8 + 5/8), -sqrt(5)/4 - 1/4 + I*sqrt(5/8 - sqrt(5)/8), -1/4 + sqrt(5)/4 - I*sqrt(sqrt(5)/8 + 5/8), -sqrt(5)/4 - 1/4 - I*sqrt(5/8 - sqrt(5)/8))"
      ]
     },
     "execution_count": 23,
     "metadata": {},
     "output_type": "execute_result"
    }
   ],
   "source": [
    "x=Symbol('x')\n",
    "sol = solveset(x**p - 1)    #множество решений уравнения\n",
    "sol"
   ]
  },
  {
   "cell_type": "code",
   "execution_count": 26,
   "id": "87d7ac18",
   "metadata": {},
   "outputs": [
    {
     "name": "stdout",
     "output_type": "stream",
     "text": [
      "Мнимая часть  0 Вещественная часть 1.00000000000000\n",
      "Мнимая часть  0.178556894798637 Вещественная часть 0.983929588598630\n",
      "Мнимая часть  0.351374824081343 Вещественная часть 0.936234870639737\n",
      "Мнимая часть  0.512899277405906 Вещественная часть 0.858448793601866\n",
      "Мнимая часть  0.657938725939713 Вещественная часть 0.753071466003611\n",
      "Мнимая часть  0.781831482468030 Вещественная часть 0.623489801858733\n",
      "Мнимая часть  0.880595531856738 Вещественная часть 0.473868662472999\n",
      "Мнимая часть  0.990949761767935 Вещественная часть 0.134233265817655\n",
      "Мнимая часть  -0.178556894798637 Вещественная часть 0.983929588598630\n",
      "Мнимая часть  -0.351374824081343 Вещественная часть 0.936234870639737\n",
      "Мнимая часть  -0.512899277405906 Вещественная часть 0.858448793601866\n",
      "Мнимая часть  -0.657938725939713 Вещественная часть 0.753071466003611\n",
      "Мнимая часть  -0.781831482468030 Вещественная часть 0.623489801858733\n",
      "Мнимая часть  -0.880595531856738 Вещественная часть 0.473868662472999\n",
      "Мнимая часть  -0.990949761767935 Вещественная часть 0.134233265817655\n",
      "Мнимая часть  0.0896393089034335 Вещественная часть -0.995974293995239\n",
      "Мнимая часть  0.266036845566675 Вещественная часть -0.963962860695853\n",
      "Мнимая часть  0.433883739117558 Вещественная часть -0.900968867902419\n",
      "Мнимая часть  0.722794863827392 Вещественная часть -0.691062648986865\n",
      "Мнимая часть  0.834573253721303 Вещественная часть -0.550896981452103\n",
      "Мнимая часть  0.919527772551451 Вещественная часть -0.393025031653924\n",
      "Мнимая часть  0.974927912181824 Вещественная часть -0.222520933956314\n",
      "Мнимая часть  0.998993066541315 Вещественная часть -0.0448648303505149\n",
      "Мнимая часть  -0.0896393089034335 Вещественная часть -0.995974293995239\n",
      "Мнимая часть  -0.266036845566675 Вещественная часть -0.963962860695853\n",
      "Мнимая часть  -0.433883739117558 Вещественная часть -0.900968867902419\n",
      "Мнимая часть  -0.722794863827392 Вещественная часть -0.691062648986865\n",
      "Мнимая часть  -0.834573253721303 Вещественная часть -0.550896981452103\n",
      "Мнимая часть  -0.919527772551451 Вещественная часть -0.393025031653924\n",
      "Мнимая часть  -0.974927912181824 Вещественная часть -0.222520933956314\n",
      "Мнимая часть  -0.998993066541315 Вещественная часть -0.0448648303505149\n",
      "Мнимая часть  0.951056516295154 Вещественная часть 0.309016994374947\n",
      "Мнимая часть  0.587785252292473 Вещественная часть -0.809016994374947\n",
      "Мнимая часть  -0.951056516295154 Вещественная часть 0.309016994374947\n",
      "Мнимая часть  -0.587785252292473 Вещественная часть -0.809016994374947\n",
      "лямбда 0.98392958859863 + 0.178556894798637*I\n"
     ]
    }
   ],
   "source": [
    "max_res=-9999999999999\n",
    "l=0\n",
    "for i in sol: #переберем все корни 35 степени\n",
    "    imag = im(N(i))    #мнимая часть \n",
    "    real = re(N(i))   #действительная часть\n",
    "    print('Мнимая часть ', imag, 'Вещественная часть', real)\n",
    "\n",
    "    if imag > 0 and real > max_res: #вещественная часть максимальна, а мнимания больше 0\n",
    "            max_res = real\n",
    "            l = N(i)\n",
    "print('лямбда', l)   #лямбда - комплексный корень из 1 степени 35, такой что его мнимая часть > 0, а действительная максимальна"
   ]
  },
  {
   "cell_type": "code",
   "execution_count": 28,
   "id": "bb20b150",
   "metadata": {},
   "outputs": [
    {
     "data": {
      "text/latex": [
       "$\\displaystyle -18.2566100661767 + 2.49405756166498 i$"
      ],
      "text/plain": [
       "-18.2566100661767 + 2.49405756166498*I"
      ]
     },
     "execution_count": 28,
     "metadata": {},
     "output_type": "execute_result"
    }
   ],
   "source": [
    "(A+l*I).det()   #находим нужный определитель, его действительную и мнимую часть"
   ]
  },
  {
   "cell_type": "markdown",
   "id": "a3aa405d",
   "metadata": {},
   "source": [
    "5. МНОГОЧЛЕНЫ"
   ]
  },
  {
   "cell_type": "markdown",
   "id": "ed239b56",
   "metadata": {},
   "source": [
    "Для многочлена p(x)=x^14+2x^12+x^11+x^10−x^9+2x^8+x^7+x^5+2x^3+x^2+2x+2 найдите все его 14 корней: z1,…,z14∈C. В ответе укажите: 1) сумму модулей |z1|+…+|z14|; 2) действительную часть корня, у которого эта действительная часть максимальна."
   ]
  },
  {
   "cell_type": "code",
   "execution_count": 6,
   "id": "d683cc4a",
   "metadata": {},
   "outputs": [
    {
     "data": {
      "text/latex": [
       "$\\displaystyle x^{11} + x^{10} + x^{9} + x^{8} + x^{6} + 2 x^{5} - 2 x^{3} - 2 x^{2} + x + 2$"
      ],
      "text/plain": [
       "x**11 + x**10 + x**9 + x**8 + x**6 + 2*x**5 - 2*x**3 - 2*x**2 + x + 2"
      ]
     },
     "execution_count": 6,
     "metadata": {},
     "output_type": "execute_result"
    }
   ],
   "source": [
    "from sympy import*\n",
    "from numpy import*\n",
    "from scipy.linalg import *\n",
    "x=Symbol('x')\n",
    "p=x**11+x**10+x**9+x**8+x**6+2*x**5-2*x**3-2*x**2+x+2\n",
    "p"
   ]
  },
  {
   "cell_type": "code",
   "execution_count": 7,
   "id": "1840044a",
   "metadata": {},
   "outputs": [
    {
     "data": {
      "text/latex": [
       "$\\displaystyle \\left\\{-1, - \\frac{1}{2} - \\frac{\\sqrt{3} i}{2}, - \\frac{1}{2} + \\frac{\\sqrt{3} i}{2}, \\operatorname{CRootOf} {\\left(x^{8} - x^{7} + x^{6} - x^{4} + 2 x^{3} - 3 x + 2, 0\\right)}, \\operatorname{CRootOf} {\\left(x^{8} - x^{7} + x^{6} - x^{4} + 2 x^{3} - 3 x + 2, 1\\right)}, \\operatorname{CRootOf} {\\left(x^{8} - x^{7} + x^{6} - x^{4} + 2 x^{3} - 3 x + 2, 2\\right)}, \\operatorname{CRootOf} {\\left(x^{8} - x^{7} + x^{6} - x^{4} + 2 x^{3} - 3 x + 2, 3\\right)}, \\operatorname{CRootOf} {\\left(x^{8} - x^{7} + x^{6} - x^{4} + 2 x^{3} - 3 x + 2, 4\\right)}, \\operatorname{CRootOf} {\\left(x^{8} - x^{7} + x^{6} - x^{4} + 2 x^{3} - 3 x + 2, 5\\right)}, \\operatorname{CRootOf} {\\left(x^{8} - x^{7} + x^{6} - x^{4} + 2 x^{3} - 3 x + 2, 6\\right)}, \\operatorname{CRootOf} {\\left(x^{8} - x^{7} + x^{6} - x^{4} + 2 x^{3} - 3 x + 2, 7\\right)}\\right\\}$"
      ],
      "text/plain": [
       "FiniteSet(-1, -1/2 - sqrt(3)*I/2, -1/2 + sqrt(3)*I/2, CRootOf(x**8 - x**7 + x**6 - x**4 + 2*x**3 - 3*x + 2, 0), CRootOf(x**8 - x**7 + x**6 - x**4 + 2*x**3 - 3*x + 2, 1), CRootOf(x**8 - x**7 + x**6 - x**4 + 2*x**3 - 3*x + 2, 2), CRootOf(x**8 - x**7 + x**6 - x**4 + 2*x**3 - 3*x + 2, 3), CRootOf(x**8 - x**7 + x**6 - x**4 + 2*x**3 - 3*x + 2, 4), CRootOf(x**8 - x**7 + x**6 - x**4 + 2*x**3 - 3*x + 2, 5), CRootOf(x**8 - x**7 + x**6 - x**4 + 2*x**3 - 3*x + 2, 6), CRootOf(x**8 - x**7 + x**6 - x**4 + 2*x**3 - 3*x + 2, 7))"
      ]
     },
     "execution_count": 7,
     "metadata": {},
     "output_type": "execute_result"
    }
   ],
   "source": [
    "sol=solveset(p)    # так как над C многочлен n-нной степени имеет n корней, в sol будет находиться 14 комплексных корней\n",
    "sol   #множество решений уравнения"
   ]
  },
  {
   "cell_type": "code",
   "execution_count": 8,
   "id": "7714ca86",
   "metadata": {
    "scrolled": false
   },
   "outputs": [
    {
     "name": "stdout",
     "output_type": "stream",
     "text": [
      "-1        -1.00000000000000\n",
      "-1/2 - sqrt(3)*I/2        -0.5 - 0.866025403784439*I\n",
      "-1/2 + sqrt(3)*I/2        -0.5 + 0.866025403784439*I\n",
      "CRootOf(x**8 - x**7 + x**6 - x**4 + 2*x**3 - 3*x + 2, 0)        -0.991732566437929 - 0.383799813715512*I\n",
      "CRootOf(x**8 - x**7 + x**6 - x**4 + 2*x**3 - 3*x + 2, 1)        -0.991732566437929 + 0.383799813715512*I\n",
      "CRootOf(x**8 - x**7 + x**6 - x**4 + 2*x**3 - 3*x + 2, 2)        -0.0937953747918525 - 1.32684737350561*I\n",
      "CRootOf(x**8 - x**7 + x**6 - x**4 + 2*x**3 - 3*x + 2, 3)        -0.0937953747918525 + 1.32684737350561*I\n",
      "CRootOf(x**8 - x**7 + x**6 - x**4 + 2*x**3 - 3*x + 2, 4)        0.814899985486647 - 0.254432127377534*I\n",
      "CRootOf(x**8 - x**7 + x**6 - x**4 + 2*x**3 - 3*x + 2, 5)        0.814899985486647 + 0.254432127377534*I\n",
      "CRootOf(x**8 - x**7 + x**6 - x**4 + 2*x**3 - 3*x + 2, 6)        0.770627955743134 - 0.881872173932376*I\n",
      "CRootOf(x**8 - x**7 + x**6 - x**4 + 2*x**3 - 3*x + 2, 7)        0.770627955743134 + 0.881872173932376*I\n",
      "\n",
      "сумма модулей всех 14 корней 11.8368026513282\n",
      "действительная часть корня, у которого она максимальна 0.814899985486647\n"
     ]
    }
   ],
   "source": [
    "l=[]\n",
    "res = 0\n",
    "for i in sol:\n",
    "    print(i, '      ', N(i))    #все решения уравнения + решения в численном виде\n",
    "    res += abs(N(i)) # abs возвращает модуль числа  (сумма модулей всех 14 корней)\n",
    "    l.append(re(N(i))) # N  вычисляет численое значение, re - возвращает действительную часть комплексного числа\n",
    "    \n",
    "\n",
    "#l хранит все действительные части корней \n",
    "#res хранит сумму модулей всех корней\n",
    "print()\n",
    "print('сумма модулей всех 14 корней',res)\n",
    "print('действительная часть корня, у которого она максимальна', max(l))"
   ]
  },
  {
   "cell_type": "code",
   "execution_count": null,
   "id": "a8a0fd3b",
   "metadata": {},
   "outputs": [],
   "source": []
  },
  {
   "cell_type": "markdown",
   "id": "4c947dca",
   "metadata": {},
   "source": [
    "# ТЕСТ №4"
   ]
  },
  {
   "cell_type": "markdown",
   "id": "af2bbedd",
   "metadata": {},
   "source": [
    "СОБСТВЕННЫЕ ЗНАЧЕНИЯ И ВЕКТОРЫ"
   ]
  },
  {
   "cell_type": "markdown",
   "id": "9c47fd22",
   "metadata": {},
   "source": [
    "Дана матрица. Пусть Z – собственное значение матрицы A с наибольшей мнимой частью. Найдите Z и соответствующий этому собственному значению собственный вектор X, первая координата которого равна 1, X=(1,U,V). В ответе укажите: 1) мнимую часть Z; 2) действительную часть U."
   ]
  },
  {
   "cell_type": "code",
   "execution_count": 137,
   "id": "495a0e70",
   "metadata": {},
   "outputs": [
    {
     "data": {
      "text/latex": [
       "$\\displaystyle \\left[\\begin{matrix}24 & 28 & 20\\\\15 & 21 & 12\\\\10 & 25 & 11\\end{matrix}\\right]$"
      ],
      "text/plain": [
       "Matrix([\n",
       "[24, 28, 20],\n",
       "[15, 21, 12],\n",
       "[10, 25, 11]])"
      ]
     },
     "execution_count": 137,
     "metadata": {},
     "output_type": "execute_result"
    }
   ],
   "source": [
    "from sympy import*\n",
    "from numpy import*\n",
    "from scipy.linalg import*\n",
    "A=Matrix([[24,28,20], [15,21,12],[10,25,11]])\n",
    "A"
   ]
  },
  {
   "cell_type": "raw",
   "id": "05bc3463",
   "metadata": {},
   "source": [
    "A*u=l*u\n",
    "ненулевой вектор u, который при умножении на некоторую квадратную матрицу A превращается в самого же себя с некоторым числовым коэффициентом l перед ним, называется СОБСТВЕННЫМ ВЕКТОРОМ матрицы А. Число l называют СОБСТВЕННЫМ ЗНАЧЕНИЕМ или собственным числом данной матрицы. \n",
    "\n",
    "С помощью метода eigenvects можно найти собственные значения (eigenvals) или и собственные вектора матрицы"
   ]
  },
  {
   "cell_type": "code",
   "execution_count": 138,
   "id": "2cf0f4b9",
   "metadata": {},
   "outputs": [
    {
     "name": "stdout",
     "output_type": "stream",
     "text": [
      "2899/(9*(sqrt(18795765)/3 + 160892/27)**(1/3)) + 56/3 + (sqrt(18795765)/3 + 160892/27)**(1/3)\n",
      "\n",
      "56/3 + 2899/(9*(-1/2 + sqrt(3)*I/2)*(sqrt(18795765)/3 + 160892/27)**(1/3)) + (-1/2 + sqrt(3)*I/2)*(sqrt(18795765)/3 + 160892/27)**(1/3)\n",
      "\n",
      "56/3 + (-1/2 - sqrt(3)*I/2)*(sqrt(18795765)/3 + 160892/27)**(1/3) + 2899/(9*(-1/2 - sqrt(3)*I/2)*(sqrt(18795765)/3 + 160892/27)**(1/3))\n",
      "\n",
      "Собственное значение матрицы с наибольшой мнимой частью = 0.65812797457128 + 2.56691724462564*I\n"
     ]
    },
    {
     "data": {
      "text/latex": [
       "$\\displaystyle - \\frac{2899 \\sqrt{3}}{18 \\sqrt[3]{\\frac{\\sqrt{18795765}}{3} + \\frac{160892}{27}}} + \\frac{\\sqrt{3} \\sqrt[3]{\\frac{\\sqrt{18795765}}{3} + \\frac{160892}{27}}}{2}$"
      ],
      "text/plain": [
       "-2899*sqrt(3)/(18*(sqrt(18795765)/3 + 160892/27)**(1/3)) + sqrt(3)*(sqrt(18795765)/3 + 160892/27)**(1/3)/2"
      ]
     },
     "execution_count": 138,
     "metadata": {},
     "output_type": "execute_result"
    }
   ],
   "source": [
    "Z=0\n",
    "l=[]\n",
    "im_Z=-99999999999999 #мнимая часть z\n",
    "for i in A.eigenvals():    #перебираем собственные значения матрицы A  (eigenvals - собственнные значения)\n",
    "    print(i)  #все собственные значения матрицы A\n",
    "    print()\n",
    "    if im(i)>im_Z:    #находим собственное значение Z с наибольшей мнимой частью\n",
    "        Z=N(i)    #собственное значение матрицы А (не только ее мнимая часть)\n",
    "        im_Z=im(i)\n",
    "print('Собственное значение матрицы с наибольшой мнимой частью =',Z)\n",
    "im_Z   #мнимая часть собственного значения"
   ]
  },
  {
   "cell_type": "code",
   "execution_count": 139,
   "id": "26cd8527",
   "metadata": {},
   "outputs": [
    {
     "data": {
      "text/latex": [
       "$\\displaystyle 2.56691724462564$"
      ],
      "text/plain": [
       "2.56691724462564"
      ]
     },
     "execution_count": 139,
     "metadata": {},
     "output_type": "execute_result"
    }
   ],
   "source": [
    "N(im_Z)    #мнимая часть Z в виде десятичной дроби"
   ]
  },
  {
   "cell_type": "code",
   "execution_count": 140,
   "id": "990870ef",
   "metadata": {},
   "outputs": [
    {
     "name": "stdout",
     "output_type": "stream",
     "text": [
      "1-------> (56/3 + (-1/2 - sqrt(3)*I/2)*(sqrt(18795765)/3 + 160892/27)**(1/3) + 2899/(9*(-1/2 - sqrt(3)*I/2)*(sqrt(18795765)/3 + 160892/27)**(1/3)), 1, [Matrix([\n",
      "[-4761/1465 - 69576/(1465*(-1/2 - sqrt(3)*I/2)*(sqrt(18795765)/3 + 160892/27)**(1/3)) + (56/3 + (-1/2 - sqrt(3)*I/2)*(sqrt(18795765)/3 + 160892/27)**(1/3) + 2899/(9*(-1/2 - sqrt(3)*I/2)*(sqrt(18795765)/3 + 160892/27)**(1/3)))**2/293 - 216*(-1/2 - sqrt(3)*I/2)*(sqrt(18795765)/3 + 160892/27)**(1/3)/1465],\n",
      "[7061/4395 + 29*(-1/2 - sqrt(3)*I/2)*(sqrt(18795765)/3 + 160892/27)**(1/3)/293 - 2*(56/3 + (-1/2 - sqrt(3)*I/2)*(sqrt(18795765)/3 + 160892/27)**(1/3) + 2899/(9*(-1/2 - sqrt(3)*I/2)*(sqrt(18795765)/3 + 160892/27)**(1/3)))**2/1465 + 84071/(2637*(-1/2 - sqrt(3)*I/2)*(sqrt(18795765)/3 + 160892/27)**(1/3))],\n",
      "[                                                                                                                                                                                                                                                                                                            1]])])\n",
      "\n",
      "2-------> 56/3 + (-1/2 - sqrt(3)*I/2)*(sqrt(18795765)/3 + 160892/27)**(1/3) + 2899/(9*(-1/2 - sqrt(3)*I/2)*(sqrt(18795765)/3 + 160892/27)**(1/3)) = 0.65812797457128 - 2.56691724462564*I\n",
      "\n",
      "3-------> Matrix([[-4761/1465 - 69576/(1465*(-1/2 - sqrt(3)*I/2)*(sqrt(18795765)/3 + 160892/27)**(1/3)) + (56/3 + (-1/2 - sqrt(3)*I/2)*(sqrt(18795765)/3 + 160892/27)**(1/3) + 2899/(9*(-1/2 - sqrt(3)*I/2)*(sqrt(18795765)/3 + 160892/27)**(1/3)))**2/293 - 216*(-1/2 - sqrt(3)*I/2)*(sqrt(18795765)/3 + 160892/27)**(1/3)/1465], [7061/4395 + 29*(-1/2 - sqrt(3)*I/2)*(sqrt(18795765)/3 + 160892/27)**(1/3)/293 - 2*(56/3 + (-1/2 - sqrt(3)*I/2)*(sqrt(18795765)/3 + 160892/27)**(1/3) + 2899/(9*(-1/2 - sqrt(3)*I/2)*(sqrt(18795765)/3 + 160892/27)**(1/3)))**2/1465 + 84071/(2637*(-1/2 - sqrt(3)*I/2)*(sqrt(18795765)/3 + 160892/27)**(1/3))], [1]]) = Matrix([[-0.615655495601783 + 0.366935511514105*I], [-0.167412682776435 - 0.249450894390668*I], [1.00000000000000]])\n",
      "\n",
      "\n",
      "1-------> (56/3 + 2899/(9*(-1/2 + sqrt(3)*I/2)*(sqrt(18795765)/3 + 160892/27)**(1/3)) + (-1/2 + sqrt(3)*I/2)*(sqrt(18795765)/3 + 160892/27)**(1/3), 1, [Matrix([\n",
      "[-4761/1465 - 216*(-1/2 + sqrt(3)*I/2)*(sqrt(18795765)/3 + 160892/27)**(1/3)/1465 + (56/3 + 2899/(9*(-1/2 + sqrt(3)*I/2)*(sqrt(18795765)/3 + 160892/27)**(1/3)) + (-1/2 + sqrt(3)*I/2)*(sqrt(18795765)/3 + 160892/27)**(1/3))**2/293 - 69576/(1465*(-1/2 + sqrt(3)*I/2)*(sqrt(18795765)/3 + 160892/27)**(1/3))],\n",
      "[7061/4395 + 84071/(2637*(-1/2 + sqrt(3)*I/2)*(sqrt(18795765)/3 + 160892/27)**(1/3)) - 2*(56/3 + 2899/(9*(-1/2 + sqrt(3)*I/2)*(sqrt(18795765)/3 + 160892/27)**(1/3)) + (-1/2 + sqrt(3)*I/2)*(sqrt(18795765)/3 + 160892/27)**(1/3))**2/1465 + 29*(-1/2 + sqrt(3)*I/2)*(sqrt(18795765)/3 + 160892/27)**(1/3)/293],\n",
      "[                                                                                                                                                                                                                                                                                                            1]])])\n",
      "\n",
      "2-------> 56/3 + 2899/(9*(-1/2 + sqrt(3)*I/2)*(sqrt(18795765)/3 + 160892/27)**(1/3)) + (-1/2 + sqrt(3)*I/2)*(sqrt(18795765)/3 + 160892/27)**(1/3) = 0.65812797457128 + 2.56691724462564*I\n",
      "\n",
      "3-------> Matrix([[-4761/1465 - 216*(-1/2 + sqrt(3)*I/2)*(sqrt(18795765)/3 + 160892/27)**(1/3)/1465 + (56/3 + 2899/(9*(-1/2 + sqrt(3)*I/2)*(sqrt(18795765)/3 + 160892/27)**(1/3)) + (-1/2 + sqrt(3)*I/2)*(sqrt(18795765)/3 + 160892/27)**(1/3))**2/293 - 69576/(1465*(-1/2 + sqrt(3)*I/2)*(sqrt(18795765)/3 + 160892/27)**(1/3))], [7061/4395 + 84071/(2637*(-1/2 + sqrt(3)*I/2)*(sqrt(18795765)/3 + 160892/27)**(1/3)) - 2*(56/3 + 2899/(9*(-1/2 + sqrt(3)*I/2)*(sqrt(18795765)/3 + 160892/27)**(1/3)) + (-1/2 + sqrt(3)*I/2)*(sqrt(18795765)/3 + 160892/27)**(1/3))**2/1465 + 29*(-1/2 + sqrt(3)*I/2)*(sqrt(18795765)/3 + 160892/27)**(1/3)/293], [1]]) = Matrix([[-0.615655495601783 - 0.366935511514105*I], [-0.167412682776435 + 0.249450894390668*I], [1.00000000000000]])\n",
      "\n",
      "\n",
      "1-------> (2899/(9*(sqrt(18795765)/3 + 160892/27)**(1/3)) + 56/3 + (sqrt(18795765)/3 + 160892/27)**(1/3), 1, [Matrix([\n",
      "[ -4761/1465 - 216*(sqrt(18795765)/3 + 160892/27)**(1/3)/1465 - 69576/(1465*(sqrt(18795765)/3 + 160892/27)**(1/3)) + (2899/(9*(sqrt(18795765)/3 + 160892/27)**(1/3)) + 56/3 + (sqrt(18795765)/3 + 160892/27)**(1/3))**2/293],\n",
      "[-2*(2899/(9*(sqrt(18795765)/3 + 160892/27)**(1/3)) + 56/3 + (sqrt(18795765)/3 + 160892/27)**(1/3))**2/1465 + 7061/4395 + 84071/(2637*(sqrt(18795765)/3 + 160892/27)**(1/3)) + 29*(sqrt(18795765)/3 + 160892/27)**(1/3)/293],\n",
      "[                                                                                                                                                                                                                         1]])])\n",
      "\n",
      "2-------> 2899/(9*(sqrt(18795765)/3 + 160892/27)**(1/3)) + 56/3 + (sqrt(18795765)/3 + 160892/27)**(1/3) = 54.6837440508574\n",
      "\n",
      "3-------> Matrix([[-4761/1465 - 216*(sqrt(18795765)/3 + 160892/27)**(1/3)/1465 - 69576/(1465*(sqrt(18795765)/3 + 160892/27)**(1/3)) + (2899/(9*(sqrt(18795765)/3 + 160892/27)**(1/3)) + 56/3 + (sqrt(18795765)/3 + 160892/27)**(1/3))**2/293], [-2*(2899/(9*(sqrt(18795765)/3 + 160892/27)**(1/3)) + 56/3 + (sqrt(18795765)/3 + 160892/27)**(1/3))**2/1465 + 7061/4395 + 84071/(2637*(sqrt(18795765)/3 + 160892/27)**(1/3)) + 29*(sqrt(18795765)/3 + 160892/27)**(1/3)/293], [1]]) = Matrix([[1.64564546219333], [1.08909157715697], [1.00000000000000]])\n",
      "\n",
      "\n"
     ]
    }
   ],
   "source": [
    "for i in A.eigenvects():    #перебираем все собственные вектора матрицы А (eigenvects - собственный вектор)\n",
    "    print('1------->', i)\n",
    "    print()\n",
    "    print('2------->', i[0],'=', N(i[0]))  #коэффициент перед матрицей, то есть собственные значения (eigenvals)\n",
    "    print()\n",
    "    print('3------->', i[2][0],'=',N(i[2][0]))   #сама матрица собственного вектор-столбца\n",
    "    print()\n",
    "    print()"
   ]
  },
  {
   "cell_type": "code",
   "execution_count": 141,
   "id": "3b419da6",
   "metadata": {},
   "outputs": [
    {
     "data": {
      "text/latex": [
       "$\\displaystyle \\left[\\begin{matrix}-0.615655495601783 - 0.366935511514105 i\\\\-0.167412682776435 + 0.249450894390668 i\\\\1.0\\end{matrix}\\right]$"
      ],
      "text/plain": [
       "Matrix([\n",
       "[-0.615655495601783 - 0.366935511514105*I],\n",
       "[-0.167412682776435 + 0.249450894390668*I],\n",
       "[                                     1.0]])"
      ]
     },
     "execution_count": 141,
     "metadata": {},
     "output_type": "execute_result"
    }
   ],
   "source": [
    "for i in A.eigenvects():    #перебираем все собственные вектора матрицы А (eigenvects - собственный вектор)\n",
    "    if N(i[0])==Z:     #если собственное значение = собственному щначению матрицы с наибольшей мнимой частью\n",
    "        X=N(i[2][0])           #собственный вектор для такого собственного значения (с наибольшей мнимой частью)\n",
    "X"
   ]
  },
  {
   "cell_type": "code",
   "execution_count": 142,
   "id": "33be1330",
   "metadata": {},
   "outputs": [
    {
     "data": {
      "text/plain": [
       "[1.00000000000000,\n",
       " 0.0224581369746915 - 0.418564577446425*I,\n",
       " -1.198534993036 + 0.714336270656277*I]"
      ]
     },
     "execution_count": 142,
     "metadata": {},
     "output_type": "execute_result"
    }
   ],
   "source": [
    "koord=[(i/X[0]).simplify() for i in X]    # хранятся координаты собственного вектора для Z приведенные к (1,u,v)\n",
    "koord"
   ]
  },
  {
   "cell_type": "code",
   "execution_count": 143,
   "id": "60b3cacb",
   "metadata": {},
   "outputs": [
    {
     "data": {
      "text/latex": [
       "$\\displaystyle 0.0224581369746915$"
      ],
      "text/plain": [
       "0.0224581369746915"
      ]
     },
     "execution_count": 143,
     "metadata": {},
     "output_type": "execute_result"
    }
   ],
   "source": [
    "re(koord[1])  #действительная часть координаты u"
   ]
  },
  {
   "cell_type": "code",
   "execution_count": null,
   "id": "d218cf71",
   "metadata": {},
   "outputs": [],
   "source": []
  },
  {
   "cell_type": "markdown",
   "id": "166bddc1",
   "metadata": {},
   "source": [
    "2. ГЕОМЕТРИЯ НА КООРДИНАТНОЙ 2D ПЛОСКОСТИ"
   ]
  },
  {
   "cell_type": "markdown",
   "id": "e1f874e3",
   "metadata": {},
   "source": [
    "1. На двумерной координатной плоскости заданы точки: A(45,48), B(1,4) и C(4,40). Пусть D(X,Y) – ближайшая к A точка прямой BC. Найдите точку D и расстояние R от A до D. Укажите в ответе: 1) X, первую координату точки D; 2) Y, вторую координату точки D; 3) R, расстояние от A до D.\n"
   ]
  },
  {
   "cell_type": "code",
   "execution_count": 124,
   "id": "cffa5473",
   "metadata": {},
   "outputs": [
    {
     "data": {
      "text/plain": [
       "(Point2D(41, 44), Point2D(13, 6), Point2D(3, 42))"
      ]
     },
     "execution_count": 124,
     "metadata": {},
     "output_type": "execute_result"
    }
   ],
   "source": [
    "from sympy import*\n",
    "from numpy import*\n",
    "\n",
    "A=Point(41,44)\n",
    "B=Point(13,6)\n",
    "C=Point(3,42)\n",
    "A,B,C"
   ]
  },
  {
   "cell_type": "raw",
   "id": "f0ef2059",
   "metadata": {},
   "source": [
    "D – ближайшая к A точка прямой BC, то есть прямая AD - перпендикуляр к BC, а значит кратчайшеее расстояние от точки А до прямой BC (расстояние R).\n",
    "\n",
    "Точка D имеет координаты (X,Y), где координатами этой точки являются проекция точки А на прямую BС на ось X  и на ось Y соотвественно"
   ]
  },
  {
   "cell_type": "code",
   "execution_count": 125,
   "id": "cde3656c",
   "metadata": {},
   "outputs": [
    {
     "data": {
      "image/svg+xml": [
       "<svg xmlns=\"http://www.w3.org/2000/svg\"\n",
       "            xmlns:xlink=\"http://www.w3.org/1999/xlink\"\n",
       "            width=\"100.0\" height=\"100.0\" viewBox=\"-0.600000000000000 2.40000000000000 17.2000000000000 43.2000000000000\"\n",
       "            preserveAspectRatio=\"xMinYMin meet\">\n",
       "            <defs>\n",
       "                <marker id=\"markerCircle\" markerWidth=\"8\" markerHeight=\"8\"\n",
       "                    refx=\"5\" refy=\"5\" markerUnits=\"strokeWidth\">\n",
       "                    <circle cx=\"5\" cy=\"5\" r=\"1.5\" style=\"stroke: none; fill:#000000;\"/>\n",
       "                </marker>\n",
       "                <marker id=\"markerArrow\" markerWidth=\"13\" markerHeight=\"13\" refx=\"2\" refy=\"4\"\n",
       "                       orient=\"auto\" markerUnits=\"strokeWidth\">\n",
       "                    <path d=\"M2,2 L2,6 L6,4\" style=\"fill: #000000;\" />\n",
       "                </marker>\n",
       "                <marker id=\"markerReverseArrow\" markerWidth=\"13\" markerHeight=\"13\" refx=\"6\" refy=\"4\"\n",
       "                       orient=\"auto\" markerUnits=\"strokeWidth\">\n",
       "                    <path d=\"M6,2 L6,6 L2,4\" style=\"fill: #000000;\" />\n",
       "                </marker>\n",
       "            </defs><g transform=\"matrix(1,0,0,-1,0,48.0000000000000)\"><path fill-rule=\"evenodd\" fill=\"#66cc99\" stroke=\"#555555\" stroke-width=\"0.864000000000000\" opacity=\"0.6\" d=\"M 13.0000000000000,6.00000000000000 L 3.00000000000000,42.0000000000000\" marker-start=\"url(#markerReverseArrow)\" marker-end=\"url(#markerArrow)\"/></g></svg>"
      ],
      "text/latex": [
       "$\\displaystyle Line2D\\left(Point2D\\left(13, 6\\right), Point2D\\left(3, 42\\right)\\right)$"
      ],
      "text/plain": [
       "Line2D(Point2D(13, 6), Point2D(3, 42))"
      ]
     },
     "execution_count": 125,
     "metadata": {},
     "output_type": "execute_result"
    }
   ],
   "source": [
    "BC= Line(B,C)    #координаты прямой BC\n",
    "BC"
   ]
  },
  {
   "cell_type": "code",
   "execution_count": 126,
   "id": "60cf0200",
   "metadata": {},
   "outputs": [
    {
     "data": {
      "image/svg+xml": [
       "<svg xmlns=\"http://www.w3.org/2000/svg\"\n",
       "            xmlns:xlink=\"http://www.w3.org/1999/xlink\"\n",
       "            width=\"100.0\" height=\"100.0\" viewBox=\"1.40000000000000 30.4000000000000 43.2000000000000 17.2000000000000\"\n",
       "            preserveAspectRatio=\"xMinYMin meet\">\n",
       "            <defs>\n",
       "                <marker id=\"markerCircle\" markerWidth=\"8\" markerHeight=\"8\"\n",
       "                    refx=\"5\" refy=\"5\" markerUnits=\"strokeWidth\">\n",
       "                    <circle cx=\"5\" cy=\"5\" r=\"1.5\" style=\"stroke: none; fill:#000000;\"/>\n",
       "                </marker>\n",
       "                <marker id=\"markerArrow\" markerWidth=\"13\" markerHeight=\"13\" refx=\"2\" refy=\"4\"\n",
       "                       orient=\"auto\" markerUnits=\"strokeWidth\">\n",
       "                    <path d=\"M2,2 L2,6 L6,4\" style=\"fill: #000000;\" />\n",
       "                </marker>\n",
       "                <marker id=\"markerReverseArrow\" markerWidth=\"13\" markerHeight=\"13\" refx=\"6\" refy=\"4\"\n",
       "                       orient=\"auto\" markerUnits=\"strokeWidth\">\n",
       "                    <path d=\"M6,2 L6,6 L2,4\" style=\"fill: #000000;\" />\n",
       "                </marker>\n",
       "            </defs><g transform=\"matrix(1,0,0,-1,0,78.0000000000000)\"><path fill-rule=\"evenodd\" fill=\"#66cc99\" stroke=\"#555555\" stroke-width=\"0.864000000000000\" opacity=\"0.6\" d=\"M 41.0000000000000,44.0000000000000 L 5.00000000000000,34.0000000000000\" marker-start=\"url(#markerReverseArrow)\" marker-end=\"url(#markerArrow)\"/></g></svg>"
      ],
      "text/latex": [
       "$\\displaystyle Line2D\\left(Point2D\\left(41, 44\\right), Point2D\\left(5, 34\\right)\\right)$"
      ],
      "text/plain": [
       "Line2D(Point2D(41, 44), Point2D(5, 34))"
      ]
     },
     "execution_count": 126,
     "metadata": {},
     "output_type": "execute_result"
    }
   ],
   "source": [
    "AD = BC.perpendicular_line(A)   #прямая из точки А, перпендикулярная прямой BC\n",
    "AD"
   ]
  },
  {
   "cell_type": "code",
   "execution_count": 127,
   "id": "489ac080",
   "metadata": {},
   "outputs": [
    {
     "data": {
      "text/latex": [
       "$\\displaystyle \\frac{1817}{349}$"
      ],
      "text/plain": [
       "1817/349"
      ]
     },
     "execution_count": 127,
     "metadata": {},
     "output_type": "execute_result"
    }
   ],
   "source": [
    "BC.projection(A)[0] # проекция точки А на BC координаты X"
   ]
  },
  {
   "cell_type": "code",
   "execution_count": 128,
   "id": "9090c61e",
   "metadata": {},
   "outputs": [
    {
     "data": {
      "text/latex": [
       "$\\displaystyle 5.20630372492837$"
      ],
      "text/plain": [
       "5.20630372492837"
      ]
     },
     "execution_count": 128,
     "metadata": {},
     "output_type": "execute_result"
    }
   ],
   "source": [
    "N(BC.projection(A)[0])   #Х, 1ая координата точки Д в десят др"
   ]
  },
  {
   "cell_type": "code",
   "execution_count": 129,
   "id": "43c27868",
   "metadata": {},
   "outputs": [
    {
     "data": {
      "text/latex": [
       "$\\displaystyle \\frac{11886}{349}$"
      ],
      "text/plain": [
       "11886/349"
      ]
     },
     "execution_count": 129,
     "metadata": {},
     "output_type": "execute_result"
    }
   ],
   "source": [
    "BC.projection(A)[1]   #проекция точки А на BC, координатa Y"
   ]
  },
  {
   "cell_type": "code",
   "execution_count": 130,
   "id": "4a0dd3f0",
   "metadata": {},
   "outputs": [
    {
     "data": {
      "text/latex": [
       "$\\displaystyle 34.0573065902579$"
      ],
      "text/plain": [
       "34.0573065902579"
      ]
     },
     "execution_count": 130,
     "metadata": {},
     "output_type": "execute_result"
    }
   ],
   "source": [
    "N(BC.projection(A)[1])   #2ая координата точки D, Y в дес др"
   ]
  },
  {
   "cell_type": "code",
   "execution_count": 131,
   "id": "1599a8a1",
   "metadata": {},
   "outputs": [
    {
     "data": {
      "text/latex": [
       "$\\displaystyle \\frac{694 \\sqrt{349}}{349}$"
      ],
      "text/plain": [
       "694*sqrt(349)/349"
      ]
     },
     "execution_count": 131,
     "metadata": {},
     "output_type": "execute_result"
    }
   ],
   "source": [
    "BC.distance(A)   #расстояние от точки А до прямой BC"
   ]
  },
  {
   "cell_type": "code",
   "execution_count": 132,
   "id": "bf737b63",
   "metadata": {},
   "outputs": [
    {
     "data": {
      "text/latex": [
       "$\\displaystyle 37.1489682935099$"
      ],
      "text/plain": [
       "37.1489682935099"
      ]
     },
     "execution_count": 132,
     "metadata": {},
     "output_type": "execute_result"
    }
   ],
   "source": [
    "N(BC.distance(A))   #R в десятичных дробях"
   ]
  },
  {
   "cell_type": "code",
   "execution_count": null,
   "id": "2fc5d0e3",
   "metadata": {},
   "outputs": [],
   "source": []
  },
  {
   "cell_type": "code",
   "execution_count": null,
   "id": "acb0dd2d",
   "metadata": {},
   "outputs": [],
   "source": []
  },
  {
   "cell_type": "code",
   "execution_count": null,
   "id": "3d337f70",
   "metadata": {},
   "outputs": [],
   "source": []
  },
  {
   "cell_type": "code",
   "execution_count": null,
   "id": "639228e8",
   "metadata": {},
   "outputs": [],
   "source": []
  },
  {
   "cell_type": "code",
   "execution_count": null,
   "id": "38a62c05",
   "metadata": {},
   "outputs": [],
   "source": []
  }
 ],
 "metadata": {
  "kernelspec": {
   "display_name": "Python 3 (ipykernel)",
   "language": "python",
   "name": "python3"
  },
  "language_info": {
   "codemirror_mode": {
    "name": "ipython",
    "version": 3
   },
   "file_extension": ".py",
   "mimetype": "text/x-python",
   "name": "python",
   "nbconvert_exporter": "python",
   "pygments_lexer": "ipython3",
   "version": "3.11.1"
  }
 },
 "nbformat": 4,
 "nbformat_minor": 5
}
