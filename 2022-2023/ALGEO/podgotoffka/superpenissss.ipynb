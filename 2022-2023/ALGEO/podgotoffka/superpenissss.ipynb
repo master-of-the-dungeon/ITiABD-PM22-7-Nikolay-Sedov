{
 "cells": [
  {
   "cell_type": "code",
   "execution_count": 1,
   "metadata": {
    "collapsed": true
   },
   "outputs": [],
   "source": [
    "from sympy import*\n",
    "from numpy import*\n",
    "from scipy.linalg import*\n",
    "import superpeniss as sp\n",
    "init_printing()\n"
   ]
  },
  {
   "cell_type": "code",
   "execution_count": 2,
   "outputs": [],
   "source": [
    "from PIL import ImageGrab\n",
    "from IPython.display import display, Image\n",
    "def ins(ratio=1.0):\n",
    "    im_data = ImageGrab.grabclipboard()\n",
    "    new_size = tuple([int(i*ratio) for i in im_data.size])\n",
    "    thumb = im_data.resize(new_size)\n",
    "    fn = \"2.PNG\"\n",
    "    thumb.save(fn)\n",
    "    img = Image(filename=fn)\n",
    "    display(img)"
   ],
   "metadata": {
    "collapsed": false
   }
  },
  {
   "cell_type": "code",
   "execution_count": null,
   "outputs": [],
   "source": [],
   "metadata": {
    "collapsed": false
   }
  },
  {
   "cell_type": "code",
   "execution_count": 3,
   "outputs": [
    {
     "name": "stdout",
     "output_type": "stream",
     "text": [
      "Matrix([[3, 7, -6, -1, 8, -3, -2], [1, -5, 8, -3, -5, 4, -5], [1, 3, -4, 6, -2, 0, 8], [-1, 11, -12, 9, 3, -3, 9], [-3, 11, -12, 5, 8, -4, 6], [-3, 2, 1, -4, 4, 1, -7], [1, -5, 6, -2, -4, 3, -2]])\n",
      "lambda**2*(lambda - 1)**2*(lambda**3 - 8*lambda**2 + 31*lambda - 6)\n"
     ]
    }
   ],
   "source": [
    "sp.nmmma()"
   ],
   "metadata": {
    "collapsed": false
   }
  },
  {
   "cell_type": "code",
   "execution_count": null,
   "outputs": [],
   "source": [],
   "metadata": {
    "collapsed": false
   }
  }
 ],
 "metadata": {
  "kernelspec": {
   "display_name": "Python 3",
   "language": "python",
   "name": "python3"
  },
  "language_info": {
   "codemirror_mode": {
    "name": "ipython",
    "version": 2
   },
   "file_extension": ".py",
   "mimetype": "text/x-python",
   "name": "python",
   "nbconvert_exporter": "python",
   "pygments_lexer": "ipython2",
   "version": "2.7.6"
  }
 },
 "nbformat": 4,
 "nbformat_minor": 0
}
