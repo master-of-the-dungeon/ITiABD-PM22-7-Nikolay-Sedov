{
 "cells": [
  {
   "cell_type": "code",
   "execution_count": 4,
   "metadata": {
    "collapsed": true
   },
   "outputs": [],
   "source": [
    "import sympy as sp\n",
    "import numpy as np\n",
    "import math\n",
    "from sympy import *\n",
    "sp.init_printing()"
   ]
  },
  {
   "cell_type": "code",
   "execution_count": 2,
   "outputs": [
    {
     "data": {
      "text/plain": "0",
      "text/latex": "$\\displaystyle 0$"
     },
     "execution_count": 2,
     "metadata": {},
     "output_type": "execute_result"
    }
   ],
   "source": [
    "#7.1a\n",
    "M1 = sp.Matrix(3,3,[\n",
    "    3,4,-5,\n",
    "    8,7,-2,\n",
    "    2,-1,8\n",
    "])\n",
    "sp.det(M1)"
   ],
   "metadata": {
    "collapsed": false
   }
  },
  {
   "cell_type": "code",
   "execution_count": 5,
   "outputs": [
    {
     "data": {
      "text/plain": " 2    2    2    \nα  + β  + γ  + 1",
      "image/png": "[encoded data removed]",
      "text/latex": "$\\displaystyle \\alpha^{2} + \\beta^{2} + \\gamma^{2} + 1$"
     },
     "execution_count": 5,
     "metadata": {},
     "output_type": "execute_result"
    }
   ],
   "source": [
    "#7.1b\n",
    "a = sp.Symbol('alpha')\n",
    "b = sp.Symbol('beta')\n",
    "y = sp.Symbol('gamma')\n",
    "b = sp.Matrix([[a**2+1, a*b, a*y],[a*b,b**2+1,b*y],[a*y,b*y,y**2+1]])\n",
    "sp.det(b)"
   ],
   "metadata": {
    "collapsed": false
   }
  },
  {
   "cell_type": "code",
   "execution_count": 6,
   "outputs": [
    {
     "data": {
      "text/plain": "8",
      "image/png": "[encoded data removed]",
      "text/latex": "$\\displaystyle 8$"
     },
     "execution_count": 6,
     "metadata": {},
     "output_type": "execute_result"
    }
   ],
   "source": [
    "#7.2a\n",
    "a = sp.Matrix([[-3,4,1],[-2,3,2],[-1,4,3]])\n",
    "det(a)\n"
   ],
   "metadata": {
    "collapsed": false
   }
  },
  {
   "cell_type": "code",
   "execution_count": 7,
   "outputs": [
    {
     "data": {
      "text/plain": "-15",
      "image/png": "[encoded data removed]",
      "text/latex": "$\\displaystyle -15$"
     },
     "execution_count": 7,
     "metadata": {},
     "output_type": "execute_result"
    }
   ],
   "source": [
    "\n",
    "b = sp.Matrix([[2,4,1],[4,3,2],[3,4,3]])\n",
    "det(b)"
   ],
   "metadata": {
    "collapsed": false
   }
  },
  {
   "cell_type": "code",
   "execution_count": 8,
   "outputs": [
    {
     "data": {
      "text/plain": "12",
      "image/png": "[encoded data removed]",
      "text/latex": "$\\displaystyle 12$"
     },
     "execution_count": 8,
     "metadata": {},
     "output_type": "execute_result"
    }
   ],
   "source": [
    "\n",
    "c = sp.Matrix([[2,-3,1],[4,-2,2],[3,-1,3]])\n",
    "det(c)"
   ],
   "metadata": {
    "collapsed": false
   }
  },
  {
   "cell_type": "code",
   "execution_count": 9,
   "outputs": [
    {
     "data": {
      "text/plain": "19",
      "image/png": "[encoded data removed]",
      "text/latex": "$\\displaystyle 19$"
     },
     "execution_count": 9,
     "metadata": {},
     "output_type": "execute_result"
    }
   ],
   "source": [
    "\n",
    "d = sp.Matrix([[2,-3,4],[4,-2,3],[3,-1,4]])\n",
    "det(d)"
   ],
   "metadata": {
    "collapsed": false
   }
  },
  {
   "cell_type": "code",
   "execution_count": null,
   "outputs": [],
   "source": [
    "\n"
   ],
   "metadata": {
    "collapsed": false
   }
  }
 ],
 "metadata": {
  "kernelspec": {
   "display_name": "Python 3",
   "language": "python",
   "name": "python3"
  },
  "language_info": {
   "codemirror_mode": {
    "name": "ipython",
    "version": 2
   },
   "file_extension": ".py",
   "mimetype": "text/x-python",
   "name": "python",
   "nbconvert_exporter": "python",
   "pygments_lexer": "ipython2",
   "version": "2.7.6"
  }
 },
 "nbformat": 4,
 "nbformat_minor": 0
}
