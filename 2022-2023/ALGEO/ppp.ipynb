{
 "cells": [
  {
   "cell_type": "code",
   "execution_count": 28,
   "outputs": [
    {
     "name": "stdout",
     "output_type": "stream",
     "text": [
      "{(12, 29, 16)}\n"
     ]
    }
   ],
   "source": [
    "import sympy as sp\n",
    "x,y,z = sp.symbols('x,y,z')\n",
    "eq1 = sp.Eq(8*x+7*y+9*z,443)\n",
    "eq2 = sp.Eq(8*x+7*y+8*z,427)\n",
    "eq3 = sp.Eq(6*x+8*y+5*z,384)\n",
    "ans = sp.linsolve((eq1,eq2,eq3),(x,y,z))\n",
    "print(ans)"
   ],
   "metadata": {
    "collapsed": false,
    "pycharm": {
     "name": "#%%\n"
    }
   }
  },
  {
   "cell_type": "code",
   "execution_count": 7,
   "outputs": [
    {
     "name": "stdout",
     "output_type": "stream",
     "text": [
      "{(1382/87, 646/87, -21/29, 1268/87, 2396/87, 4450/87)}\n"
     ]
    }
   ],
   "source": [
    "import sympy as sp\n",
    "x,y,z,v,u,w = sp.symbols('x,y,z,v,u,w')\n",
    "eq1 = sp.Eq(6*x+2*y+5*z-u,79)\n",
    "eq11 = sp.Eq(x+u+v,58)\n",
    "eq2 = sp.Eq(9*x+5*y+9*z-v,159)\n",
    "eq21 = sp.Eq(y+y+w,66)\n",
    "eq3 = sp.Eq(7*x+5*y+3*z-w,95)\n",
    "eq31 = sp.Eq(z+v+w,65)\n",
    "ans = sp.linsolve((eq1,eq11,eq2,eq21,eq3,eq31),(x,y,z,v,u,w))\n",
    "print(ans)"
   ],
   "metadata": {
    "collapsed": false,
    "pycharm": {
     "name": "#%%\n"
    }
   }
  },
  {
   "cell_type": "code",
   "execution_count": 15,
   "outputs": [
    {
     "data": {
      "text/plain": "{(7, 8, 15, 21, 31, 39)}",
      "text/latex": "$\\displaystyle \\left\\{\\left( 7, \\  8, \\  15, \\  21, \\  31, \\  39\\right)\\right\\}$"
     },
     "execution_count": 15,
     "metadata": {},
     "output_type": "execute_result"
    }
   ],
   "source": [
    "import sympy as sp\n",
    "M1 = sp.Matrix(6,7,[\n",
    "    4,6,8,-1,0,0,175,\n",
    "    2,6,5,0,-1,0,106,\n",
    "    9,6,2,0,0,-1,102,\n",
    "    1,0,0,1,1,0,59,\n",
    "    0,1,0,1,0,1,68,\n",
    "    0,0,1,0,1,1,85\n",
    "])\n",
    "M1\n",
    "sp.linsolve(M1)"
   ],
   "metadata": {
    "collapsed": false,
    "pycharm": {
     "name": "#%%\n"
    }
   }
  },
  {
   "cell_type": "code",
   "execution_count": 23,
   "outputs": [
    {
     "data": {
      "text/plain": "{(14814 - 7109*x, 6154 - 2954*x, 6839*x - 14250, x)}",
      "text/latex": "$\\displaystyle \\left\\{\\left( 14814 - 7109 x, \\  6154 - 2954 x, \\  6839 x - 14250, \\  x\\right)\\right\\}$"
     },
     "execution_count": 23,
     "metadata": {},
     "output_type": "execute_result"
    }
   ],
   "source": [
    "import sympy as sp\n",
    "x,y,z,u = sp.symbols('x,y,z,u')\n",
    "M2 = sp.Matrix(3,5,[\n",
    "    38,67,57,27,46,\n",
    "    26,62,59,31,32,\n",
    "    27,33,34,19,48\n",
    "])\n",
    "M2[:,0],M2[:,3] = M2[:,3],M2[:,0]\n",
    "\n",
    "sp.linsolve(M2,(u,y,z,x))"
   ],
   "metadata": {
    "collapsed": false,
    "pycharm": {
     "name": "#%%\n"
    }
   }
  },
  {
   "cell_type": "code",
   "execution_count": null,
   "outputs": [],
   "source": [],
   "metadata": {
    "collapsed": false,
    "pycharm": {
     "name": "#%%\n"
    }
   }
  }
 ],
 "metadata": {
  "kernelspec": {
   "display_name": "Python 3",
   "language": "python",
   "name": "python3"
  },
  "language_info": {
   "codemirror_mode": {
    "name": "ipython",
    "version": 2
   },
   "file_extension": ".py",
   "mimetype": "text/x-python",
   "name": "python",
   "nbconvert_exporter": "python",
   "pygments_lexer": "ipython2",
   "version": "2.7.6"
  }
 },
 "nbformat": 4,
 "nbformat_minor": 0
}