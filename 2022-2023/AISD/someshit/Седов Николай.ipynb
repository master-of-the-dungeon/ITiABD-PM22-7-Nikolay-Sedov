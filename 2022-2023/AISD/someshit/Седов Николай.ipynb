{
 "cells": [
  {
   "cell_type": "markdown",
   "metadata": {},
   "source": [
    "# <font color='Teal'>**Алгоритмы и структуры данных в языке Python (часть 4)**"
   ]
  },
  {
   "cell_type": "markdown",
   "metadata": {},
   "source": [
    "## <font color='#4281a4'>**Седов Николай**. Вариант 5"
   ]
  },
  {
   "cell_type": "markdown",
   "metadata": {},
   "source": [
    "---"
   ]
  },
  {
   "cell_type": "markdown",
   "metadata": {},
   "source": [
    "### <font color='Teal'>**Задача 29.** СТЕК\n",
    "\n",
    "<font size='3' color='#4281a4'>Дан стек. Необходимо найти максимальный или минимальный элемент в нем, в зависимости от переданного параметра (`True` — максимальный, `False` — минимальный)."
   ]
  },
  {
   "cell_type": "markdown",
   "metadata": {},
   "source": [
    "### <font color='Teal'>**Решение**"
   ]
  },
  {
   "cell_type": "code",
   "execution_count": 1,
   "metadata": {},
   "outputs": [],
   "source": [
    "def find_extreme_element(stack, max_flag=True):\n",
    "    if max_flag:\n",
    "        return max(stack)\n",
    "    else:\n",
    "        return min(stack)\n"
   ]
  },
  {
   "cell_type": "markdown",
   "metadata": {},
   "source": [
    "---"
   ]
  },
  {
   "cell_type": "markdown",
   "metadata": {},
   "source": [
    "### <font color='Teal'>**Задача 30.** ОЧЕРЕДЬ\n",
    "\n",
    "<font size='3' color='#4281a4'>Создать класс очереди, который будет поддерживать операции добавления элемента в конец очереди, удаления элемента из начала очереди и сортировки элементов в очереди по возрастанию."
   ]
  },
  {
   "cell_type": "markdown",
   "metadata": {},
   "source": [
    "### <font color='Teal'>**Решение**"
   ]
  },
  {
   "cell_type": "code",
   "execution_count": null,
   "metadata": {},
   "outputs": [],
   "source": [
    "class Queue:\n",
    "    def __init__(self):\n",
    "        self.items = []\n",
    "\n",
    "    def is_empty(self):\n",
    "        return self.items == []\n",
    "\n",
    "    def enqueue(self, item):\n",
    "        self.items.append(item)\n",
    "\n",
    "    def dequeue(self):\n",
    "        if not self.is_empty():\n",
    "            return self.items.pop(0)\n",
    "\n",
    "    def size(self):\n",
    "        return len(self.items)\n",
    "\n",
    "    def sort(self):\n",
    "        self.items.sort()\n",
    "\n",
    "    def __str__(self):\n",
    "        return str(self.items)\n"
   ]
  },
  {
   "cell_type": "markdown",
   "metadata": {},
   "source": [
    "---"
   ]
  },
  {
   "cell_type": "markdown",
   "metadata": {},
   "source": [
    "### <font color='Teal'>**Задача 31.** СОЗДАНИЕ ДВУСВЯЗНОГО СПИСКА\n",
    "\n",
    "<font size='3' color='#4281a4'>Создайте двусвязный список для хранения информации о задачах в календаре. Каждый элемент списка должен содержать название задачи, описание, дату начала и дату окончания, а также список напоминаний о задаче (например, за день до окончания, за час до начала и т.д.)."
   ]
  },
  {
   "cell_type": "markdown",
   "metadata": {},
   "source": [
    "### <font color='Teal'>**Решение**"
   ]
  },
  {
   "cell_type": "code",
   "execution_count": null,
   "metadata": {},
   "outputs": [],
   "source": [
    "import datetime\n",
    "\n",
    "class Task:\n",
    "    def __init__(self, title, description, start_date, end_date, reminders=None):\n",
    "        self.title = title\n",
    "        self.description = description\n",
    "        self.start_date = start_date\n",
    "        self.end_date = end_date\n",
    "        if reminders is None:\n",
    "            self.reminders = []\n",
    "        else:\n",
    "            self.reminders = reminders\n",
    "\n",
    "    def __str__(self):\n",
    "        return f\"{self.title} ({self.start_date} - {self.end_date})\"\n",
    "\n",
    "class DoublyLinkedListNode:\n",
    "    def __init__(self, data):\n",
    "        self.data = data\n",
    "        self.next = None\n",
    "        self.prev = None\n",
    "\n",
    "class DoublyLinkedList:\n",
    "    def __init__(self):\n",
    "        self.head = None\n",
    "        self.tail = None\n",
    "\n",
    "    def is_empty(self):\n",
    "        return self.head is None\n",
    "\n",
    "    def append(self, data):\n",
    "        new_node = DoublyLinkedListNode(data)\n",
    "        if self.is_empty():\n",
    "            self.head = self.tail = new_node\n",
    "        else:\n",
    "            self.tail.next = new_node\n",
    "            new_node.prev = self.tail\n",
    "            self.tail = new_node\n",
    "\n",
    "    def prepend(self, data):\n",
    "        new_node = DoublyLinkedListNode(data)\n",
    "        if self.is_empty():\n",
    "            self.head = self.tail = new_node\n",
    "        else:\n",
    "            new_node.next = self.head\n",
    "            self.head.prev = new_node\n",
    "            self.head = new_node\n",
    "\n",
    "    def delete(self, data):\n",
    "        if self.is_empty():\n",
    "            return\n",
    "        curr_node = self.head\n",
    "        while curr_node:\n",
    "            if curr_node.data == data:\n",
    "                if curr_node == self.head:\n",
    "                    self.head = curr_node.next\n",
    "                    self.head.prev = None\n",
    "                elif curr_node == self.tail:\n",
    "                    self.tail = curr_node.prev\n",
    "                    self.tail.next = None\n",
    "                else:\n",
    "                    curr_node.prev.next = curr_node.next\n",
    "                    curr_node.next.prev = curr_node.prev\n",
    "                return\n",
    "            curr_node = curr_node.next\n",
    "\n",
    "    def search(self, data):\n",
    "        curr_node = self.head\n",
    "        while curr_node:\n",
    "            if curr_node.data == data:\n",
    "                return curr_node.data\n",
    "            curr_node = curr_node.next\n",
    "        return None\n",
    "\n",
    "    def __str__(self):\n",
    "        result = []\n",
    "        curr_node = self.head\n",
    "        while curr_node:\n",
    "            result.append(str(curr_node.data))\n",
    "            curr_node = curr_node.next\n",
    "        return \" -> \".join(result)\n"
   ]
  },
  {
   "cell_type": "markdown",
   "metadata": {},
   "source": [
    "---"
   ]
  },
  {
   "cell_type": "markdown",
   "metadata": {},
   "source": [
    "### <font color='Teal'>**Задача 32.** РАБОТА С ДВУСВЯЗНЫМ СПИСКОМ\n",
    "\n",
    "<font size='3' color='#4281a4'>Реализовать функцию, которая находит средний элемент в двусвязном списке."
   ]
  },
  {
   "cell_type": "markdown",
   "metadata": {},
   "source": [
    "### <font color='Teal'>**Решение**"
   ]
  },
  {
   "cell_type": "code",
   "execution_count": null,
   "metadata": {},
   "outputs": [],
   "source": []
  },
  {
   "cell_type": "markdown",
   "metadata": {},
   "source": [
    "---"
   ]
  },
  {
   "cell_type": "markdown",
   "metadata": {},
   "source": [
    "### <font color='Teal'>**Задача 33.** ЦИКЛИЧЕСКИЙ ДВУСВЯЗНЫЙ СПИСОК\n",
    "\n",
    "<font size='3' color='#4281a4'>Реализовать функцию, которая сортирует циклический двусвязный список по возрастанию."
   ]
  },
  {
   "cell_type": "markdown",
   "metadata": {},
   "source": [
    "### <font color='Teal'>**Решение**"
   ]
  },
  {
   "cell_type": "code",
   "execution_count": null,
   "metadata": {},
   "outputs": [],
   "source": []
  },
  {
   "cell_type": "markdown",
   "metadata": {},
   "source": [
    "---"
   ]
  },
  {
   "cell_type": "markdown",
   "metadata": {},
   "source": [
    "### <font color='Teal'>**Задача 34.** АЛГОРИТМЫ ПОИСКА И СОРТИРОВКИ\n",
    "\n",
    "<font size='3' color='#4281a4'>Необходимо отсортировать массив строк по длине и вывести результат на экран. В зависимости от переданного параметра отсортировать массив строк по возрастанию длины или по убыванию длины, используя алгоритмы сортировки: сортировку выбором, сортировку пузырьком и быструю сортировку. Сравнить время выполнения алгоритмов сортировки с помощью декоратора. Строки хранятся в файле."
   ]
  },
  {
   "cell_type": "markdown",
   "metadata": {},
   "source": [
    "### <font color='Teal'>**Решение**"
   ]
  },
  {
   "cell_type": "code",
   "execution_count": null,
   "metadata": {},
   "outputs": [],
   "source": []
  },
  {
   "cell_type": "markdown",
   "metadata": {},
   "source": [
    "---"
   ]
  },
  {
   "cell_type": "markdown",
   "metadata": {},
   "source": [
    "### <font color='Teal'>**Задача 35.** ДЕРЕВЬЯ\n",
    "\n",
    "<font size='3' color='#4281a4'>Реализовать класс бинарного дерева. Написать функцию для нахождения наибольшей глубины листьев в бинарном дереве."
   ]
  },
  {
   "cell_type": "markdown",
   "metadata": {},
   "source": [
    "### <font color='Teal'>**Решение**"
   ]
  },
  {
   "cell_type": "code",
   "execution_count": null,
   "metadata": {},
   "outputs": [],
   "source": []
  },
  {
   "cell_type": "markdown",
   "metadata": {},
   "source": [
    "---"
   ]
  },
  {
   "cell_type": "markdown",
   "metadata": {},
   "source": [
    "### <font color='Teal'>**Задача 36.** ХЕШ-ТАБЛИЦЫ\n",
    "\n",
    "<font size='3' color='#4281a4'>**Задание 1.** Создать класс «Книга» с полями «Название», «Автор», «Год выпуска» и «Количество страниц». Создать хеш-таблицу для хранения объектов класса «Книга» по ключу — ISBN.<br /><br />**Задание 2.** Написать функцию для нахождения количества элементов из хеш-таблицы, у которых значение больше заданного значения.<br /><br />**Задание 3.** Реализуйте хеш-таблицу для хранения информации о товарах на складе. Ключом является штрих-код товара, значение — объект, содержащий информацию о товаре (название, количество, цена и т.д.). Используйте метод разрешения коллизий методом цепочек."
   ]
  },
  {
   "cell_type": "markdown",
   "metadata": {},
   "source": [
    "### <font color='Teal'>**Решение**"
   ]
  },
  {
   "cell_type": "code",
   "execution_count": null,
   "metadata": {},
   "outputs": [],
   "source": []
  },
  {
   "cell_type": "markdown",
   "metadata": {},
   "source": [
    "---"
   ]
  }
 ],
 "metadata": {},
 "nbformat": 4,
 "nbformat_minor": 4
}
