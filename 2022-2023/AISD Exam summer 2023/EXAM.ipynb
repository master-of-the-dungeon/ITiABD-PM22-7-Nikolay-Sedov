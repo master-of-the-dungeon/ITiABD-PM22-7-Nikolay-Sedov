{
 "cells": [
  {
   "cell_type": "markdown",
   "id": "2ed34f00",
   "metadata": {},
   "source": [
    "1.\tНаписать программу с интерактивным консольным меню (т.е. вывод списка действий по цифрам) по вычислению площади круга (родительский класс), длины окружности (подкласс) и объема шара (подкласс) по задаваемому с клавиатуры радиусу. Содержание меню: 1. Вычислить площадь круга. 2. Вычислить длину окружности. 3. Вычислить объем шара. (20 баллов)"
   ]
  },
  {
   "cell_type": "code",
   "execution_count": 1,
   "id": "a715a564",
   "metadata": {},
   "outputs": [
    {
     "name": "stdout",
     "output_type": "stream",
     "text": [
      "Выберите что посчитать:\n",
      " 0 - Выход\n",
      " 1 - Площадь\n",
      " 2 - Длина\n",
      " 3 - Объем\n",
      " 2\n",
      "Введите радиус: 14\n",
      "Длина окружности 87.96459430051421\n",
      "Выберите что посчитать:\n",
      " 0 - Выход\n",
      " 1 - Площадь\n",
      " 2 - Длина\n",
      " 3 - Объем\n",
      " 1\n",
      "Введите радиус: 23\n",
      "Площадь круга равна 1661.9025137490005\n",
      "Выберите что посчитать:\n",
      " 0 - Выход\n",
      " 1 - Площадь\n",
      " 2 - Длина\n",
      " 3 - Объем\n",
      " 3\n",
      "Введите радиус: 11\n",
      "Объем шара равен 5575.279762570685\n",
      "Выберите что посчитать:\n",
      " 0 - Выход\n",
      " 1 - Площадь\n",
      " 2 - Длина\n",
      " 3 - Объем\n",
      " 0\n"
     ]
    }
   ],
   "source": [
    "#1 консольное меню\n",
    "import sys # библиотека для работы с системой\n",
    "from math import pi\n",
    "class Circle(object): #класс для круга\n",
    "    def __init__(self, radius):\n",
    "        self.radius = radius\n",
    "        \n",
    "    def count_S(self): # функция вычисления площади\n",
    "        return self.raduis**2*pi\n",
    "    \n",
    "    def __str__(self): # ф-я вывода на печать\n",
    "        print(f'Площадь круга равна {self.radius**2*pi}')\n",
    "        \n",
    "    \n",
    "class Length(Circle): \n",
    "    def __init__(self, radius):\n",
    "        super().__init__(radius) # инициализация через ф-ю супер (наследует у класса круг)\n",
    "        \n",
    "    def count_len(self):\n",
    "        return self.radius*2*pi\n",
    "    \n",
    "    def __str__(self):\n",
    "        print(f'Длина окружности {self.radius*2*pi}')\n",
    "        \n",
    "class Volume(Circle):\n",
    "    def __init__(self,radius):\n",
    "        super().__init__(radius)\n",
    "        \n",
    "    def count_V(self):\n",
    "        return (self.radius**3*pi*(4/3))\n",
    "    \n",
    "    def __str__(self):\n",
    "        print(f'Объем шара равен {self.radius**3*pi*(4/3)}')\n",
    "        \n",
    "        \n",
    "def options(): # консольное меню\n",
    "    choice = int(input(\"Выберите что посчитать:\\n 0 - Выход\\n 1 - Площадь\\n 2 - Длина\\n 3 - Объем\\n \"))\n",
    "    if choice == 0:\n",
    "        try: # отлов ошибок\n",
    "            sys.exit() # выход из программы\n",
    "        except SystemExit:\n",
    "            pass\n",
    "    if choice == 1:\n",
    "        radius = int(input(\"Введите радиус: \"))\n",
    "        obj = Circle(radius) # создается объект нужного класса \n",
    "        obj.__str__() # использует ф-ю для вывода значения на экран\n",
    "        options()\n",
    "    elif choice == 2:\n",
    "        radius = int(input(\"Введите радиус: \"))\n",
    "        obj = Length(radius)\n",
    "        obj.__str__()\n",
    "        options()\n",
    "    elif choice == 3:\n",
    "        radius = int(input(\"Введите радиус: \"))\n",
    "        obj = Volume(radius)\n",
    "        obj.__str__()\n",
    "        options()\n",
    "\n",
    "options()"
   ]
  },
  {
   "cell_type": "markdown",
   "id": "6ba40a1e",
   "metadata": {},
   "source": [
    "2.\tСоздать класс стек. Использовать способ реализации стека через list. Поменять местами первый и последний элементы стека. (20 баллов)"
   ]
  },
  {
   "cell_type": "code",
   "execution_count": 19,
   "id": "26dca431",
   "metadata": {},
   "outputs": [
    {
     "name": "stdout",
     "output_type": "stream",
     "text": [
      "['r', 'y', 'z', 'x']\n",
      "[3, 2, 1]\n"
     ]
    }
   ],
   "source": [
    "#2\n",
    "class Stack(object):\n",
    "    def __init__(self, stroka):\n",
    "        self.st = list(stroka) # создание списка\n",
    "    \n",
    "    def replace(self):\n",
    "        a = self.st.pop() # удаляется последний элемент\n",
    "        b = self.st[0] # присвоение переменной 0 элемента списка\n",
    "        self.st.remove(b) # удаляется первый\n",
    "        self.st.append(b) #  ставится в конец\n",
    "        self.st.insert(0,a) # ставится в начало \n",
    "        return self.st\n",
    "    \n",
    "c = Stack('xyzr')\n",
    "b = Stack([1,2,3])\n",
    "print(c.replace())\n",
    "print(b.replace())"
   ]
  },
  {
   "cell_type": "markdown",
   "id": "9e1c057d",
   "metadata": {},
   "source": [
    "3.\tДан список А3, состоящий из четного количества элементов. Используя функцию (функции) высшего порядка разбейте его на списки В, С так, чтобы в одном были положительные элементы, а в другом отрицательные. (20 баллов)"
   ]
  },
  {
   "cell_type": "code",
   "execution_count": 17,
   "id": "3f9e5cb9",
   "metadata": {},
   "outputs": [
    {
     "name": "stdout",
     "output_type": "stream",
     "text": [
      "[2, 5, 7, 8]\n",
      "[-1, -2, -5, -6]\n"
     ]
    }
   ],
   "source": [
    "#3\n",
    "A3 = [-1, -2, 2, 5, -5, -6, 7, 8]\n",
    "B = list(filter(lambda x: x >= 0, A3)) # список который фильтрует(отбирает все нужные значения по условию)\n",
    "C = list(filter(lambda x: x<0, A3))\n",
    "print(B)\n",
    "print(C)"
   ]
  },
  {
   "cell_type": "markdown",
   "id": "ed2b1cf7",
   "metadata": {},
   "source": [
    "4.\tСоздать класс стек. Использовать способ реализации стека через list. Удалить элемент, который находится в середине стека, если нечетное число элементов, а если четное, то два средних. (20 баллов)"
   ]
  },
  {
   "cell_type": "code",
   "execution_count": 35,
   "id": "3e86b58e",
   "metadata": {},
   "outputs": [
    {
     "data": {
      "text/plain": [
       "[1, 2, 3, 6, 7, 8]"
      ]
     },
     "execution_count": 35,
     "metadata": {},
     "output_type": "execute_result"
    }
   ],
   "source": [
    "#4\n",
    "class Stack(object):\n",
    "    def __init__(self,stroka):\n",
    "        self.st = list(stroka)\n",
    "        \n",
    "    def deleting(self):\n",
    "        if len(self.st) % 2 != 0:\n",
    "            ind = len(self.st)//2\n",
    "            self.st.pop(ind)\n",
    "            return self.st\n",
    "        else:\n",
    "            ind1 = len(self.st)//2\n",
    "            ind2 = ind1-1\n",
    "            self.st.pop(ind1)\n",
    "            self.st.pop(ind2)\n",
    "            return self.st\n",
    "            \n",
    "a = Stack([1,2,3,4,5,6,7,8])\n",
    "a.deleting()"
   ]
  },
  {
   "cell_type": "markdown",
   "id": "80a2cae7",
   "metadata": {},
   "source": [
    "5.\tСоздать класс Plane (самолетов), имеющий атрибуты: название самолета, количество пассажиров на борту, курс движения (откуда и куда). Методы: - определить загрузку самолета, если максимальная вместимость =200 пассажиров; – определить все имена самолетов, летящих по одному маршруту; - определить среднюю загрузку всех самолетов. (20 баллов)"
   ]
  },
  {
   "cell_type": "code",
   "execution_count": 105,
   "id": "acd48c23",
   "metadata": {},
   "outputs": [
    {
     "name": "stdout",
     "output_type": "stream",
     "text": [
      "самолеты летящие в Москву: air\n",
      "самолеты, летящие в Спб: kfjvn\n",
      "самолеты летящие в Москву: xx\n",
      "самолеты, летящие в Спб: cr\n"
     ]
    }
   ],
   "source": [
    "#5\n",
    "class Plane(object):\n",
    "    def __init__(self, name, load, direction, max_load=200):\n",
    "        self.name = name\n",
    "        self.load = load\n",
    "        self.direction = direction\n",
    "        self.max_load = max_load\n",
    "        assert not(self.is_overloaded()), 'Превышено допустимое количество пассажиров' # возвращает искл ситуацию при перегрузке(обращается к ф-и ниже)\n",
    "        \n",
    "    def is_overloaded(self):\n",
    "        return self.load > self.max_load\n",
    "    \n",
    "    def loadin(self):\n",
    "        return f\"Самолет заполнен на: {str(self.load)+'/'+str(self.max_load)}\"\n",
    "    \n",
    "    def direct(self):\n",
    "        return self.direction\n",
    "    \n",
    "    def namee(self):\n",
    "        return self.name\n",
    "    \n",
    "    \n",
    "        \n",
    "c = Plane(\"air\", 20, \"MOW\", 200)\n",
    "c1 = Plane('kfjvn', 21, 'SPB', 300)\n",
    "c2 = Plane('xx', 25, \"MOW\", 250)\n",
    "c3 = Plane(\"cr\", 28, \"SPB\", 150)\n",
    "lst = [c,c1,c2,c3]\n",
    "\n",
    "for i in lst:\n",
    "    \n",
    "    if i.direct() == \"MOW\":\n",
    "        print(\"самолеты летящие в Москву:\", i.namee())\n",
    "        \n",
    "    elif i.direct() == \"SPB\":\n",
    "        print(\"самолеты, летящие в Спб:\", i.namee())\n"
   ]
  },
  {
   "cell_type": "markdown",
   "id": "9c089103",
   "metadata": {},
   "source": [
    "6.\tСоздать класс стек. Использовать способ реализации стека через list. Удалить каждый второй элемент стека. (20 баллов)"
   ]
  },
  {
   "cell_type": "code",
   "execution_count": 40,
   "id": "1f7378dc",
   "metadata": {},
   "outputs": [
    {
     "data": {
      "text/plain": [
       "[1, 3, 5, 7]"
      ]
     },
     "execution_count": 40,
     "metadata": {},
     "output_type": "execute_result"
    }
   ],
   "source": [
    "#6\n",
    "class Stack2(object):\n",
    "    def __init__(self, lst):\n",
    "        self.lst = lst\n",
    "        \n",
    "    def delete(self):\n",
    "        del self.lst[1::2] # каждый второй элемент стека\n",
    "        return self.lst\n",
    "st = Stack2([1,2,3,4,5,6,7])\n",
    "st.delete()"
   ]
  },
  {
   "cell_type": "markdown",
   "id": "023f93cb",
   "metadata": {},
   "source": [
    "7.\tДано предложение без знаков препинания. Превратить предложение в список слов. При помощи механизма map/filter/reduce отбросить у каждого слова последнюю букву и склеить в одну строку те обрезанные слова, длина которых больше 5. (20 баллов)"
   ]
  },
  {
   "cell_type": "code",
   "execution_count": 10,
   "id": "cf1dcb97",
   "metadata": {},
   "outputs": [
    {
     "name": "stdout",
     "output_type": "stream",
     "text": [
      "['i', 'was', 'chillin', 'in', 'my', 'hotel', 'lobby']\n",
      "chilli\n"
     ]
    }
   ],
   "source": [
    "#7\n",
    "smoke = 'i was chillin in my hotel lobby'\n",
    "pop = smoke.split()\n",
    "x = list(map(lambda y: y[:-1], pop)) # итерирует по условию (без последнего элем-а)\n",
    "ls = []\n",
    "for i in range(len(x)-1):\n",
    "    if len(x[i])>5:\n",
    "        ls.append(x[i])\n",
    "        \n",
    "ans = ''.join(ls) # склейка в строку\n",
    "print(pop)\n",
    "print(ans)"
   ]
  },
  {
   "cell_type": "markdown",
   "id": "c6789fd5",
   "metadata": {},
   "source": [
    "8.\tСоздать класс стек. Использовать способ реализации стека через list. Найти минимальный элемент стека и вставить после него «0». (20 баллов)"
   ]
  },
  {
   "cell_type": "code",
   "execution_count": 64,
   "id": "e3c65a88",
   "metadata": {},
   "outputs": [
    {
     "data": {
      "text/plain": [
       "[1, 0, 2, 3, 4, 5, 6]"
      ]
     },
     "execution_count": 64,
     "metadata": {},
     "output_type": "execute_result"
    }
   ],
   "source": [
    "#8\n",
    "class Stack3(object):\n",
    "    def __init__(self,lst):\n",
    "        self.lst = lst\n",
    "        \n",
    "    def find_min(self):\n",
    "        s = min(self.lst)\n",
    "        self.lst.insert(self.lst.index(s)+1, 0)\n",
    "        return self.lst\n",
    "    \n",
    "s = Stack3([1,2,3,4,5,6])\n",
    "s.find_min()"
   ]
  },
  {
   "cell_type": "markdown",
   "id": "a8a16546",
   "metadata": {},
   "source": [
    "9.\tДан список S состоящий из N различных элементов. Вывести индексы четных элементов списка. Использовать встроенные функции высшего порядка. (20 баллов)"
   ]
  },
  {
   "cell_type": "code",
   "execution_count": 11,
   "id": "cef983d0",
   "metadata": {},
   "outputs": [
    {
     "name": "stdout",
     "output_type": "stream",
     "text": [
      "2\n",
      "3\n",
      "5\n",
      "[1, 3, 5]\n"
     ]
    }
   ],
   "source": [
    "#9\n",
    "s = [1, 3, 2, 4, 5, 8]\n",
    "print(list(filter(lambda x: print(s.index(x)) if x % 2 == 0 else x, s))) # индексы четных элементов\n"
   ]
  },
  {
   "cell_type": "markdown",
   "id": "e5ac7e41",
   "metadata": {},
   "source": [
    "10.\tЗадание: построить базовый класс с указанными в таблице полями и методами:\n",
    "- конструктор; - функция, которая определяет «качество» объекта – Q по заданной формуле; - метод вывода информации об объекте.\n",
    "Построить дочерний класс (класс-потомок), который содержит:\n",
    "- дополнительное поле P;\n",
    "- функция, которая определяет «качество» объекта дочернего класса – Qp и перегружает функцию качества родительского класса (Q), выполняя вычисление по новой формуле.\n",
    "Создать проект для демонстрации работы: ввод и вывод информации об объектах классов. (20 баллов)\n"
   ]
  },
  {
   "cell_type": "code",
   "execution_count": 93,
   "id": "5f33ac4b",
   "metadata": {},
   "outputs": [
    {
     "data": {
      "text/plain": [
       "'Имя процессора - intel, частота - 120.0, объем - 200, Q- 212.0, Qp - 217.0'"
      ]
     },
     "execution_count": 93,
     "metadata": {},
     "output_type": "execute_result"
    }
   ],
   "source": [
    "#10\n",
    "class Base(object):\n",
    "    Q = None\n",
    "    def __init__(self, name, frequency, volume):\n",
    "        self.name = name\n",
    "        self.frequency = frequency\n",
    "        self.volume = volume\n",
    "    \n",
    "    @property # декоратор для доступа\n",
    "    def constructor(self):\n",
    "        Q = 0.1*self.frequency+self.volume\n",
    "        return Q\n",
    "    \n",
    "    def __str__(self):\n",
    "        return f'Имя процессора - {self.name}, частота - {self.frequency}, объем - {self.volume}, Q - {Base(self.name,self.frequency,self.volume).constructor}' #вывод нужных элементов\n",
    "    \n",
    "class UnderBase(Base):\n",
    "    def __init__(self, name, frequency, volume, P):\n",
    "        super().__init__(name, frequency, volume)\n",
    "        self.p = P\n",
    "        \n",
    "    @property\n",
    "    def cons(self):\n",
    "        return super().constructor\n",
    "        \n",
    "    @property\n",
    "    def vol(self):\n",
    "        Qp = Base(self.name, self.frequency, self.volume).constructor+0.5*self.p\n",
    "        return Qp\n",
    "    \n",
    "    def __str__(self):\n",
    "        return f'Имя процессора - {self.name}, частота - {self.frequency}, объем - {self.volume}, Q- {UnderBase(self.name, self.frequency, self.volume,self.p).cons}, Qp - {UnderBase(self.name, self.frequency, self.volume, self.p).vol}'\n",
    "    \n",
    "A = UnderBase('intel', 120.0, 200, 10)\n",
    "B = Base('amd', 150.0, 400)\n",
    "A.__str__()"
   ]
  },
  {
   "cell_type": "markdown",
   "id": "058037ab",
   "metadata": {},
   "source": [
    "11.\tРеализовать декоратор с именем not_none, который генерирует исключительную ситуацию если декорируемая функция вернула значения None. (20 баллов)"
   ]
  },
  {
   "cell_type": "code",
   "execution_count": 12,
   "id": "dfe7d994",
   "metadata": {},
   "outputs": [
    {
     "data": {
      "text/plain": [
       "'!!!ERROR!!!'"
      ]
     },
     "execution_count": 12,
     "metadata": {},
     "output_type": "execute_result"
    }
   ],
   "source": [
    "#11\n",
    "def not_none(func):\n",
    "    def inner(x):\n",
    "        if func(x) == None:\n",
    "            return \"!!!ERROR!!!\"\n",
    "        else:\n",
    "            return func(x)\n",
    "\n",
    "    return inner\n",
    "\n",
    "\n",
    "def f(x):\n",
    "    if x == 0:\n",
    "        return None\n",
    "    return 1\n",
    "\n",
    "f = not_none(f)\n",
    "f(0)"
   ]
  },
  {
   "cell_type": "markdown",
   "id": "ba9183ce",
   "metadata": {},
   "source": [
    "12.\tСоздайте класс Speed (Скорость), имеющий атрибуты: value (значение), unit (единица измерения). При изменении единицы измерения значение должно соответственно меняться. Например, при переходе от км/ч к м/с и наоборот. Например, 20 км/ч = 5.56 м/с. Допустимые значения свойства unit: ‘м/с’, ‘км/ч’. Организуйте эту проверку. Продемонстрируйте работу с классом. (20 баллов)"
   ]
  },
  {
   "cell_type": "code",
   "execution_count": 3,
   "id": "14142c9a",
   "metadata": {},
   "outputs": [
    {
     "name": "stdout",
     "output_type": "stream",
     "text": [
      "Введите число: 10\n",
      "Введите единицу измерения: м/с\n",
      "Хотите перевести? Y/n\n",
      "Скорость равна 36.0 в единицах измерения км/ч\n"
     ]
    }
   ],
   "source": [
    "#12\n",
    "class Speed(object):\n",
    "    def __init__(self,value, unit):\n",
    "        self.value = value\n",
    "        self.unit = unit\n",
    "        \n",
    "    def change(self):\n",
    "        \n",
    "        if self.unit == \"м/с\": # перевод в км/ч\n",
    "            return(f'Скорость равна {self.value*3.6} в единицах измерения км/ч')\n",
    "        \n",
    "        elif self.unit == 'км/ч': # перевод в м/с\n",
    "            return(f'Скорость равнa {self.value//3.6} в единицах измерения м/c')\n",
    "        \n",
    "    def __str__(self): # функция вывода\n",
    "        return f'Скорость равна {self.value} в единицах измерения {self.unit}'\n",
    "        \n",
    "def main():\n",
    "    value = int(input(\"Введите число: \"))\n",
    "    unit = input(\"Введите единицу измерения: \")\n",
    "    ques = input(\"Хотите перевести? Y/n\")\n",
    "    a = Speed(value, unit)\n",
    "    if ques == 'Y' or ques == '':\n",
    "        print(a.change())\n",
    "    elif ques == 'n':\n",
    "        print(a.__str__())\n",
    "        \n",
    "main()"
   ]
  },
  {
   "cell_type": "markdown",
   "id": "ed42af68",
   "metadata": {},
   "source": [
    "13.\tРеализовать декоратор с именем print_type, выводящий на печать тип значения, возвращаемого декорируемой функцией. (20 баллов)"
   ]
  },
  {
   "cell_type": "code",
   "execution_count": 14,
   "id": "1660a514",
   "metadata": {},
   "outputs": [
    {
     "name": "stdout",
     "output_type": "stream",
     "text": [
      "<class 'int'>\n"
     ]
    }
   ],
   "source": [
    "#13\n",
    "def print_type(funct):\n",
    "    def wrapper():\n",
    "        funct()\n",
    "        print(type(funct())) # вывод типа ф-и\n",
    "        \n",
    "    return wrapper\n",
    "@print_type # вызов декоратора\n",
    "def xx():\n",
    "    return(12)\n",
    "    \n",
    "xx()"
   ]
  },
  {
   "cell_type": "markdown",
   "id": "e6330830",
   "metadata": {},
   "source": [
    "14.\tСоздать класс стек. Использовать способ реализации стека через list. Удалить минимальный элемент стека. (20 баллов)"
   ]
  },
  {
   "cell_type": "code",
   "execution_count": 7,
   "id": "3db4cf2b",
   "metadata": {},
   "outputs": [
    {
     "data": {
      "text/plain": [
       "[1, 2, 4, 3, 5]"
      ]
     },
     "execution_count": 7,
     "metadata": {},
     "output_type": "execute_result"
    }
   ],
   "source": [
    "#14\n",
    "class Stack(object):\n",
    "    def __init__(self, lst):\n",
    "        self.lst = lst\n",
    "        \n",
    "    def del_min(self):\n",
    "        s = min(self.lst)\n",
    "        self.lst.pop(self.lst.index(s))\n",
    "        return self.lst\n",
    "s1 = Stack([1,2,4,-1,3,5])\n",
    "s1.del_min()"
   ]
  },
  {
   "cell_type": "markdown",
   "id": "d51dc354",
   "metadata": {},
   "source": [
    "15.\tЗадано положительное и отрицательное число в двоичной системе. Составить программу вычисления суммы этих чисел, используя функцию сложения чисел в двоичной системе счисления. Использовать рекурсию. (20 баллов)"
   ]
  },
  {
   "cell_type": "code",
   "execution_count": 3,
   "id": "1ba24205",
   "metadata": {},
   "outputs": [
    {
     "name": "stdout",
     "output_type": "stream",
     "text": [
      "4\n"
     ]
    }
   ],
   "source": [
    "#15\n",
    "a = str(1001)\n",
    "b = -101\n",
    "\n",
    "\n",
    "def f(a, b, c=None):\n",
    "    b = str(abs(b)) \n",
    "    x = int(a, 2)\n",
    "    y = int(b, 2)\n",
    "    if x - y >= 0:\n",
    "        return x-y\n",
    "\n",
    "\n",
    "print(f(a, b))\n",
    "\n",
    "        "
   ]
  },
  {
   "cell_type": "markdown",
   "id": "1a38e9e5",
   "metadata": {},
   "source": [
    "16.\tВывести по убыванию количество всех предыдущих ремонтов машин \"Жигули\". Реализовать с помощью алгоритма сортировки слиянием."
   ]
  },
  {
   "cell_type": "code",
   "execution_count": 4,
   "id": "cc1e37fc",
   "metadata": {},
   "outputs": [
    {
     "name": "stdout",
     "output_type": "stream",
     "text": [
      "[2, 5, 8, 10, 12, 18, 228]\n"
     ]
    }
   ],
   "source": [
    "#16\n",
    "import operator\n",
    "\n",
    "# алгоритм сортировки\n",
    "def merge_sort(L, compare=operator.lt):\n",
    "    if len(L) < 2:\n",
    "        return L[:]\n",
    "    else:\n",
    "        middle = int(len(L) / 2)\n",
    "        left = merge_sort(L[:middle], compare)\n",
    "        right = merge_sort(L[middle:], compare)\n",
    "        return merge(left, right, compare)\n",
    "\n",
    "\n",
    "def merge(left, right, compare):\n",
    "    result = []\n",
    "    i, j = 0, 0\n",
    "    while i < len(left) and j < len(right):\n",
    "        if compare(left[i], right[j]):\n",
    "            result.append(left[i])\n",
    "            i += 1\n",
    "        else:\n",
    "            result.append(right[j])\n",
    "            j += 1\n",
    "    while i < len(left):\n",
    "        result.append(left[i])\n",
    "        i += 1\n",
    "    while j < len(right):\n",
    "        result.append(right[j])\n",
    "        j += 1\n",
    "    return result\n",
    "\n",
    "\n",
    "def main():\n",
    "    arr = [10, 12, 18, 8, 2, 228, 5]\n",
    "    print(merge_sort(arr))\n",
    "\n",
    "\n",
    "if __name__ == \"__main__\":\n",
    "    main()\n"
   ]
  },
  {
   "cell_type": "markdown",
   "id": "cb6c4d64",
   "metadata": {},
   "source": [
    "17.\tНаписать программу с интерактивным консольным меню (т.е. вывод списка действий по цифрам) по удалению из списка (задаем с клавиатуры) элемента с задаваемым с клавиатуры индексом (например, m). При решении задачи необходимо использовать функцию map. Содержание меню: 1. Удалить элемент из списка и вывести итоговый список. 2. Удалить элемент из списка и вывести его номер(а).  (20 баллов)"
   ]
  },
  {
   "cell_type": "code",
   "execution_count": 39,
   "id": "3c5440ac",
   "metadata": {},
   "outputs": [
    {
     "name": "stdout",
     "output_type": "stream",
     "text": [
      "Выберите одно из этих значений:\n",
      "0 - Выход\n",
      "1 - Добавить\n",
      "2 - Удалить\n",
      "3 - Вывести на экран\n",
      "2\n",
      "To remove: 1\n",
      "[2, 8]\n",
      "Выберите одно из этих значений:\n",
      "0 - Выход\n",
      "1 - Добавить\n",
      "2 - Удалить\n",
      "3 - Вывести на экран\n",
      "1\n",
      "To add: 12\n",
      "Выберите одно из этих значений:\n",
      "0 - Выход\n",
      "1 - Добавить\n",
      "2 - Удалить\n",
      "3 - Вывести на экран\n",
      "3\n",
      "[2, 8, 12]\n",
      "Выберите одно из этих значений:\n",
      "0 - Выход\n",
      "1 - Добавить\n",
      "2 - Удалить\n",
      "3 - Вывести на экран\n",
      "0\n"
     ]
    },
    {
     "ename": "SystemExit",
     "evalue": "",
     "output_type": "error",
     "traceback": [
      "An exception has occurred, use %tb to see the full traceback.\n",
      "\u001b[1;31mSystemExit\u001b[0m\n"
     ]
    }
   ],
   "source": [
    "#17 похожая задача с первой\n",
    "import sys\n",
    "class Items(object):\n",
    "    def __init__(self, lst):\n",
    "        self.lst=lst\n",
    "        \n",
    "    def Add(self):\n",
    "        x=int(input(\"To add: \"))\n",
    "        self.lst.append(x)\n",
    "        \n",
    "    def Rem(self):\n",
    "        y=int(input(\"To remove: \"))\n",
    "        self.lst.pop(y)\n",
    "        self.__str__()\n",
    "        \n",
    "    def __str__(self):\n",
    "        print(self.lst)\n",
    "        \n",
    "    def funcs(self):\n",
    "        option=int(input(\"Выберите одно из этих значений:\\n0 - Выход\\n1 - Добавить\\n2 - Удалить\\n3 - Вывести на экран\\n\"))\n",
    "        if option==0:\n",
    "            sys.exit()\n",
    "        if option==1:\n",
    "            self.Add()\n",
    "            self.funcs()\n",
    "        if option==2:\n",
    "            self.Rem()\n",
    "            self.funcs()\n",
    "        if option==3:\n",
    "            self.__str__()\n",
    "            self.funcs()\n",
    "\n",
    "            \n",
    "lst=Items([2,17,8])\n",
    "lst.funcs()"
   ]
  },
  {
   "cell_type": "markdown",
   "id": "ae3732d8",
   "metadata": {},
   "source": [
    "18.\tЗадание: построить базовый класс с указанными в таблице полями и методами:\n",
    "- конструктор; - функция, которая определяет «качество» объекта – Q по заданной формуле; - метод вывода информации об объекте.\n",
    "Построить дочерний класс (класс-потомок), который содержит:\n",
    "- дополнительное поле P;\n",
    "- функция, которая определяет «качество» объекта дочернего класса – Qp и перегружает функцию качества родительского класса (Q), выполняя вычисление по новой формуле.\n",
    "Создать проект для демонстрации работы: ввод и вывод информации об объектах классов. (20 баллов)\n"
   ]
  },
  {
   "cell_type": "code",
   "execution_count": 6,
   "id": "c8c2ddbb",
   "metadata": {},
   "outputs": [
    {
     "name": "stdout",
     "output_type": "stream",
     "text": [
      "Выберите объект класса: Qual/Daught; D/Q Q\n",
      "Введите марку: Porcshe\n",
      "Введите мощность: 400\n",
      "Введите количество мест: 2\n",
      "Марка автомобиля - Porcshe, мощность - 400, количество - 2, Q - 80.0\n"
     ]
    }
   ],
   "source": [
    "#18\n",
    "from datetime import datetime\n",
    "class Qual(object):\n",
    "    Q = None\n",
    "    def __init__(self, mark, power, places):\n",
    "        self.mark = mark\n",
    "        self.power = power\n",
    "        self.places = places\n",
    "    \n",
    "    @property\n",
    "    def constructor(self):\n",
    "        Q = 0.1 * self.power * self.places\n",
    "        return Q\n",
    "    \n",
    "    def __str__(self):\n",
    "        return f'Марка автомобиля - {self.mark}, мощность - {self.power}, количество - {self.places}, Q - {Qual(self.mark, self.power, self.places).constructor}'\n",
    "    \n",
    "class Daught(Qual):\n",
    "    def __init__(self, mark, power, places, P):\n",
    "        super().__init__(mark, power, places)\n",
    "        self.P = P\n",
    "        \n",
    "    @property\n",
    "    def cons(self):\n",
    "        return super().constructor\n",
    "    \n",
    "    @property\n",
    "    def vol(self):\n",
    "        Qp = Qual(self.mark, self.power, self.power).constructor - 1.5*(datetime.now().year - self.P)\n",
    "        return Qp\n",
    "    \n",
    "    def __str__(self):\n",
    "        return f'Марка автомобиля - {self.mark}, мощность - {self.power}, число мест - {self.places}, год производства - {self.P},  Q - {Daught(self.mark, self.power, self.places, self.P).cons}, Qp - {Daught(self.mark, self.power, self.places, self.P).vol}'\n",
    "    \n",
    "\n",
    "def main(): # ф-я для работы с классами\n",
    "    ans = input(\"Выберите объект класса: Qual/Daught; D/Q \")\n",
    "    if ans == \"D\":\n",
    "        mark = input(\"Введите марку: \")\n",
    "        power = int(input(\"Введите мощность: \"))\n",
    "        places = int(input(\"Введите места: \"))\n",
    "        year = int(input(\"Введите год производства: \"))\n",
    "        a = Daught(mark, power, places, year)\n",
    "        print(a.__str__())\n",
    "    elif ans == \"Q\":\n",
    "        mark = input(\"Введите марку: \")\n",
    "        power = int(input(\"Введите мощность: \"))\n",
    "        places = int(input(\"Введите количество мест: \"))\n",
    "        a = Qual(mark, power, places)\n",
    "        print(a.__str__())\n",
    "    else:\n",
    "        print(\"неправильно введены данные\")\n",
    "        main()\n",
    "main()"
   ]
  },
  {
   "cell_type": "markdown",
   "id": "bbb1ee00",
   "metadata": {},
   "source": [
    "19.\tНаписать программу с интерактивным консольным меню (т.е. вывод списка действий по цифрам) по вычислению площади прямоугольника (родительский класс), и периметра прямоугольника (дочерний класс) по задаваемой с клавиатуры длине сторон прямоугольника.\n",
    "Содержание меню: 1. Вычислить площадь прямоугольника. 2. Вычислить периметр прямоугольника. (20 баллов)\n"
   ]
  },
  {
   "cell_type": "code",
   "execution_count": 6,
   "id": "2408b3b5",
   "metadata": {},
   "outputs": [
    {
     "name": "stdout",
     "output_type": "stream",
     "text": [
      "Выберите что посчитать:\n",
      " 0 - Выход\n",
      " 1 - Площадь\n",
      " 2 - Периметр\n",
      " 2\n",
      "Введите а: 12\n",
      "Введите b: 2\n",
      "Периметр прямоугольника равен - 28\n",
      "Выберите что посчитать:\n",
      " 0 - Выход\n",
      " 1 - Площадь\n",
      " 2 - Периметр\n",
      " 0\n"
     ]
    }
   ],
   "source": [
    "#19 схожа с 1\n",
    "import sys\n",
    "class Square(object):\n",
    "    def __init__(self, a, b):\n",
    "        self.a = a\n",
    "        self.b = b\n",
    "        \n",
    "    def count(self):\n",
    "        return {a*b}\n",
    "    \n",
    "    def __str__(self):\n",
    "        print(f'Площадь прямоугольника равна - {self.a*self.b}')\n",
    "    \n",
    "class Perimeter(Square):\n",
    "    def __init__(self, a, b):\n",
    "        super().__init__(a,b)\n",
    "        \n",
    "    def count(self):\n",
    "        return {2*(a+b)}\n",
    "    \n",
    "    def __str__(self):\n",
    "        print(f'Периметр прямоугольника равен - {2*(self.a+self.b)}')\n",
    "    \n",
    "def main():\n",
    "    choice = int(input(\"Выберите что посчитать:\\n 0 - Выход\\n 1 - Площадь\\n 2 - Периметр\\n \"))\n",
    "    if choice == 0:\n",
    "        try:\n",
    "            sys.exit()\n",
    "        except SystemExit:\n",
    "            pass\n",
    "    if choice == 1:\n",
    "        a = int(input(\"Введите а: \"))\n",
    "        b = int(input(\"Введите b: \"))\n",
    "        c = Square(a,b)\n",
    "        c.__str__()\n",
    "        main()\n",
    "    if choice == 2:\n",
    "        a = int(input(\"Введите а: \"))\n",
    "        b = int(input(\"Введите b: \"))\n",
    "        c = Perimeter(a,b)\n",
    "        c.__str__()\n",
    "        main()\n",
    "main()"
   ]
  },
  {
   "cell_type": "markdown",
   "id": "3bc42ac3",
   "metadata": {},
   "source": [
    "20.\tДан кольцевой список с перечнем товаров. Выбрать все товары, изготовленные фирмой Bosh и создать из них новый список. (20 баллов)"
   ]
  },
  {
   "cell_type": "code",
   "execution_count": 68,
   "id": "c8daf15a",
   "metadata": {},
   "outputs": [
    {
     "name": "stdout",
     "output_type": "stream",
     "text": [
      "2\n",
      "Товар: ст\n",
      "Бренд: BOSH\n",
      "Товар: т\n",
      "Бренд: MErs\n",
      "deque([('ст', 'BOSH'), ('т', 'MErs')])\n",
      "deque(['ст'])\n"
     ]
    }
   ],
   "source": [
    "#20\n",
    "from collections import deque\n",
    "\n",
    "queue = deque() # создание очереди\n",
    "n = int(input())\n",
    "queue_BOSH = deque()\n",
    "for i in range(n):\n",
    "    queue.append((input(\"Товар: \"), input(\"Бренд: \")))\n",
    "    if queue[i][1] == 'BOSH':\n",
    "        queue_BOSH.append(queue[i][0])\n",
    "print(queue)\n",
    "print(queue_BOSH)"
   ]
  },
  {
   "cell_type": "markdown",
   "id": "7b9d4d4c",
   "metadata": {},
   "source": [
    "21.\tС помощью функции reduce() вычислить двойной факториал заданного натурального числа n (для четного или нечетного n). (20 баллов)"
   ]
  },
  {
   "cell_type": "code",
   "execution_count": 86,
   "id": "a51013c1",
   "metadata": {},
   "outputs": [
    {
     "name": "stdout",
     "output_type": "stream",
     "text": [
      "5\n"
     ]
    },
    {
     "data": {
      "text/plain": [
       "15"
      ]
     },
     "execution_count": 86,
     "metadata": {},
     "output_type": "execute_result"
    }
   ],
   "source": [
    "#21\n",
    "from functools import reduce \n",
    "n = int(input())\n",
    "reduce(int.__mul__, range(n, 0, -2)) # встроенная ф-я "
   ]
  },
  {
   "cell_type": "markdown",
   "id": "030642c5",
   "metadata": {},
   "source": [
    "22.\tСоздайте класс Заказ(Order), у которого есть свойства код_товара(code), цена(price), количество(count) и методы __init__ и __str__. Создайте 2 класса-потомка: Опт(Opt) и Розница(Retail). В этих классах создайте методы __init__, __str__ и сумма_заказа (summa), позволяющий узнать стоимость заказа. Для опта стоимость единицы товара составляет 95% от цены, а при покупке более 500 штук – 90% цены. В розницу стоимость единицы товара составляет 100% цены. Стоимость заказа равна произведению цены на количество. Создайте список, содержащий по 2 объекта каждого класса (Order, Opt, Retail). Для этого списка:\n",
    "•\tвыведите информацию о каждом объекте с помощью метода __str__;\n",
    "•\tнайдите общую стоимость заказов для объектов Opt и Retail. (20 баллов)\n"
   ]
  },
  {
   "cell_type": "code",
   "execution_count": 84,
   "id": "0ae396c0",
   "metadata": {},
   "outputs": [
    {
     "name": "stdout",
     "output_type": "stream",
     "text": [
      "Код товара - 3, цена товара - 3000, количество товара - 150\n",
      "Код товара - 4, цена товара - 4000, количество товара - 100\n",
      "Код товара - 1, цена товара - 200, количество товара - 2\n",
      "Код товара - 2, цена товара - 150, количество товара - 2\n",
      "код товара 5, цена товара 100, кол-во 1\n",
      "код товара 6, цена товара 200, кол-во 2\n",
      "\n",
      "405000.0\n",
      "360000.0\n",
      "100\n",
      "400\n",
      "total: 765500.0\n"
     ]
    }
   ],
   "source": [
    "#22 обычная работа с классами\n",
    "class Order(object):\n",
    "    def __init__(self, code, price, count):\n",
    "        self.code = code\n",
    "        self.price = price\n",
    "        self.count = count\n",
    "        \n",
    "    def __str__(self):\n",
    "        return f'Код товара - {self.code}, цена товара - {self.price}, количество товара - {self.count}'\n",
    "    \n",
    "class Opt(Order):\n",
    "    def __init__(self, code, price, count):\n",
    "        super().__init__(code, price, count)\n",
    "    \n",
    "        \n",
    "    def __str__(self):\n",
    "        return f'{super().__str__()}'\n",
    "    \n",
    "    def summa(self):\n",
    "        if self.count > 500:\n",
    "            return self.count*self.price*0.95\n",
    "        else:\n",
    "            return self.count*self.price*0.9\n",
    "        \n",
    "class Retail(Order):\n",
    "    def __init__(self,code, price, count):\n",
    "        super().__init__(code,price, count)\n",
    "        \n",
    "    \n",
    "    def __str__(self):\n",
    "        return f'код товара {self.code}, цена товара {self.price}, кол-во {self.count}'\n",
    "    \n",
    "    def summa(self):\n",
    "        return self.count*self.price\n",
    "Or1 = Order(1, 200, 2)\n",
    "Or2 = Order(2, 150, 2)\n",
    "Op1 = Opt(3, 3000, 150)\n",
    "Op2 = Opt(4, 4000, 100)\n",
    "R1 = Retail(5, 100, 1)\n",
    "R2 = Retail(6, 200, 2)\n",
    "lst = [Op1, Op2, Or1, Or2, R1, R2]\n",
    "for i in lst:\n",
    "    print(i.__str__())\n",
    "print()\n",
    "a = Op1.summa()\n",
    "b = Op2.summa()\n",
    "c = R1.summa()\n",
    "d = R2.summa()\n",
    "print(a)\n",
    "print(b)\n",
    "print(c)\n",
    "print(d)\n",
    "print('total:', a+b+c+d)"
   ]
  },
  {
   "cell_type": "markdown",
   "id": "4c7478e9",
   "metadata": {},
   "source": [
    "23.\tСоздать класс Деньги для работы с денежными суммами. Число должно быть представлено списком, состоящим из рублей и копеек. Реализовать сложение, вычитание, деление сумм, деление денежных сумм. (20 баллов)"
   ]
  },
  {
   "cell_type": "code",
   "execution_count": 5,
   "id": "d4e9e9cc",
   "metadata": {},
   "outputs": [
    {
     "name": "stdout",
     "output_type": "stream",
     "text": [
      "1 - Посчитать сумму всех единиц\n",
      " 2 - Посчитать разницу по выбору\n",
      " 3 - Посчитать сумму по выбору\n",
      " 4 - Посчитать результат деления4\n",
      "Введите индекс первой суммы 2\n",
      "Введите индекс второй суммы 4\n"
     ]
    },
    {
     "data": {
      "text/plain": [
       "'Результат деления: 0.12001919923203072'"
      ]
     },
     "execution_count": 5,
     "metadata": {},
     "output_type": "execute_result"
    }
   ],
   "source": [
    "#23\n",
    "class Money(object):\n",
    "    def __init__(self, lst):\n",
    "        self.lst = lst\n",
    "        \n",
    "    def total_sum(self):\n",
    "        return (f'total sum - {sum(self.lst)}')\n",
    "    \n",
    "    def minus(self, i, j):\n",
    "        return f'Разница выбранных сумм: {self.lst[i] - self.lst[j]}'\n",
    "    \n",
    "    def plus(self, i, j):\n",
    "        return f'Сумма выбранных элементов: {self.lst[i] + self.lst[j]}'\n",
    "    \n",
    "    def divide(self, i, j):\n",
    "        return f'Результат деления: {self.lst[i]/self.lst[j]}'\n",
    "    \n",
    "def main():\n",
    "    choice = int(input(\"1 - Посчитать сумму всех единиц\\n 2 - Посчитать разницу по выбору\\n 3 - Посчитать сумму по выбору\\n 4 - Посчитать результат деления\"))\n",
    "    if choice == 1:\n",
    "        c = Money([100.6, 98.7, 1500.3, 9700.50, 12500.5]) # создание объекта класса\n",
    "        return c.total_sum() # вычисление суммы всех\n",
    "    elif choice == 2:\n",
    "        c = Money([100.6, 98.7, 1500.3, 9700.50, 12500.5])\n",
    "        a = int(input(\"Введите индекс первой суммы \"))\n",
    "        b = int(input(\"Введите индекс второй суммы \"))\n",
    "        return c.minus(a,b)\n",
    "    elif choice == 3:\n",
    "        c = Money([100.6, 98.7, 1500.3, 9700.50, 12500.5])\n",
    "        a = int(input(\"Введите индекс первой суммы \"))\n",
    "        b = int(input(\"Введите индекс второй суммы \"))\n",
    "        return c.plus(a,b)\n",
    "    elif choice == 4:\n",
    "        c = Money([100.6, 98.7, 1500.3, 9700.50, 12500.5])\n",
    "        a = int(input(\"Введите индекс первой суммы \"))\n",
    "        b = int(input(\"Введите индекс второй суммы \"))\n",
    "        return c.divide(a, b)\n",
    "main()"
   ]
  },
  {
   "cell_type": "markdown",
   "id": "c67583e1",
   "metadata": {},
   "source": [
    "24.\tДан кольцевой список из 20 фамилий студентов. Разбить студентов на 2 группы по 10 человек. Во вторую группу попадает каждый 12-й человек. (20 баллов)"
   ]
  },
  {
   "cell_type": "code",
   "execution_count": 77,
   "id": "082ba4a1",
   "metadata": {},
   "outputs": [
    {
     "name": "stdout",
     "output_type": "stream",
     "text": [
      "Студент1: Trump\n",
      "Студент2: Maks\n",
      "Студент3: N\n",
      "Студент4: l\n",
      "Студент5: a\n",
      "Студент6: e\n",
      "Студент7: f\n",
      "Студент8: w\n",
      "Студент9: e\n",
      "Студент10: w\n",
      "Студент11: e\n",
      "Студент12: e\n",
      "Студент13: r\n",
      "Студент14: s\n",
      "Студент15: f\n",
      "Студент16: s\n",
      "Студент17: f\n",
      "Студент18: s\n",
      "Студент19: \n",
      "Студент20: s\n",
      "['Trump', 'Maks', 'N', 'l', 'f', 'w', 'e', 'w', 'e', 'f']\n",
      "['e', 'a', 's', 's', 's', 'f', '', 'e', 's', 'r']\n"
     ]
    }
   ],
   "source": [
    "#24\n",
    "array1 = [input(f\"Студент{i+1}: \") for i in range(20)]\n",
    "array2 = []\n",
    "\n",
    "for i in range(11, 120, 12):\n",
    "    array2.append(array1.pop(i%len(array1))) # запихивает каждого 12 во второй список\n",
    "\n",
    "print(array1)\n",
    "print(array2)"
   ]
  },
  {
   "cell_type": "markdown",
   "id": "8a2c0ec9",
   "metadata": {},
   "source": [
    "25.\tСоставить программу для нахождения числа, которое образуется из данного натурального числа при записи его цифр в обратном порядке. Например, для числа 1234 получаем результат 4321. Использовать рекурсию. (20 баллов)"
   ]
  },
  {
   "cell_type": "code",
   "execution_count": 7,
   "id": "be9db308",
   "metadata": {},
   "outputs": [
    {
     "name": "stdout",
     "output_type": "stream",
     "text": [
      "4321"
     ]
    }
   ],
   "source": [
    "#25\n",
    "def rev(x):\n",
    "    if x:\n",
    "        print(x%10,end = '')\n",
    "        rev( x//10)\n",
    "        \n",
    "rev(1234)"
   ]
  },
  {
   "cell_type": "markdown",
   "id": "039a04e5",
   "metadata": {},
   "source": [
    "26.\tСоздать класс стек. Использовать способ реализации стека через list. Сформировать стек с элементами - строками. Прочитать три нижних элемента стека и поменять местами верхний и нижний элементы. (20 баллов)"
   ]
  },
  {
   "cell_type": "code",
   "execution_count": 20,
   "id": "8fb1604e",
   "metadata": {},
   "outputs": [
    {
     "name": "stdout",
     "output_type": "stream",
     "text": [
      "Три последних элемента: ross, hustlin, am\n"
     ]
    },
    {
     "data": {
      "text/plain": [
       "['ross', 'i', 'am', 'hustlin', 'everyday']"
      ]
     },
     "execution_count": 20,
     "metadata": {},
     "output_type": "execute_result"
    }
   ],
   "source": [
    "#26\n",
    "class Str_Stack(object):\n",
    "    def __init__(self, st):\n",
    "        self.st = list(st)\n",
    "\n",
    "    def exchange(self):\n",
    "        print(f'Три последних элемента: {self.st[-1]}, {self.st[-2]}, {self.st[-3]}')\n",
    "        a = self.st.pop()\n",
    "        b = self.st[0]\n",
    "        self.st.pop(0)\n",
    "        self.st.append(b)\n",
    "        self.st.insert(0,a)\n",
    "        return self.st\n",
    "s = Str_Stack(['everyday', 'i', 'am', 'hustlin', 'ross'])\n",
    "s.exchange()"
   ]
  },
  {
   "cell_type": "markdown",
   "id": "eabdfb2e",
   "metadata": {},
   "source": [
    "27.\tДан список А3, состоящий из четного количества элементов. Используя функцию(функции) высшего порядка разбейте его на списки В, С так, чтобы в одном были положительные элементы, а в другом отрицательные. (20 баллов)"
   ]
  },
  {
   "cell_type": "code",
   "execution_count": 18,
   "id": "1a2028db",
   "metadata": {},
   "outputs": [
    {
     "name": "stdout",
     "output_type": "stream",
     "text": [
      "[2, 5, 7, 8]\n",
      "[-1, -2, -5, -6]\n"
     ]
    }
   ],
   "source": [
    "#27\n",
    "A3 = [-1, -2, 2, 5, -5, -6, 7, 8]\n",
    "B = list(filter(lambda x: x >= 0, A3))\n",
    "C = list(filter(lambda x: x<0, A3))\n",
    "print(B)\n",
    "print(C)"
   ]
  },
  {
   "cell_type": "markdown",
   "id": "60cb2eb2",
   "metadata": {},
   "source": [
    "28.\tСоздайте класс Студент, имеющий: \n",
    "•\tзакрытый атрибут Имя – строка, содержащая фамилию; \n",
    "•\tметод __init__. При создании объекта указывается имя, список Дисциплины пустой; \n",
    "•\tзакрытый атрибут Дисциплины – словарь сданных дисциплин. Ключом является название дисциплины, значением – оценка. \n",
    "•\tметод put добавляет новую дисциплину в атрибут Дисциплины. Параметрами метода являются название дисциплины и оценка; \n",
    "•\tсвойство Сдано возвращает список названий сданных дисциплин; Создайте экземпляр класса, продемонстрируйте работу с атрибутами, методами и свойствами. (20 баллов)\n"
   ]
  },
  {
   "cell_type": "code",
   "execution_count": 90,
   "id": "68356d2e",
   "metadata": {},
   "outputs": [
    {
     "data": {
      "text/plain": [
       "{'physics': 5, 'chem': 12}"
      ]
     },
     "execution_count": 90,
     "metadata": {},
     "output_type": "execute_result"
    }
   ],
   "source": [
    "#28\n",
    "class Student(object):\n",
    "    def __init__(self, name, disp, discipline):\n",
    "        self.__name = name\n",
    "        self.disp = disp\n",
    "        self.__discipline = dict(discipline) # закрытая переменная\n",
    "        \n",
    "    @property    # доступ \n",
    "    def discipline(self):\n",
    "        return self.__discipline\n",
    "    \n",
    "    @discipline.setter # декоратор для установки закрытой переменной\n",
    "    def put(self, dis, mark):\n",
    "        self.__discipline[dis] = mark\n",
    "        \n",
    "    @property # для вывода\n",
    "    def passed(self):\n",
    "        return self.__discipline\n",
    "        \n",
    "s = Student('Tim',[],{'physics':5})\n",
    "\n",
    "s.put['chem']=12\n",
    "s.put"
   ]
  },
  {
   "cell_type": "markdown",
   "id": "aa769c00",
   "metadata": {},
   "source": [
    "29.\tДан список S состоящий из N различных элементов. Вывести индексы четных элементов списка. Использовать функции высшего порядка. (20 баллов)"
   ]
  },
  {
   "cell_type": "code",
   "execution_count": 6,
   "id": "6bf4671d",
   "metadata": {},
   "outputs": [
    {
     "name": "stdout",
     "output_type": "stream",
     "text": [
      "1\n",
      "3\n",
      "5\n"
     ]
    },
    {
     "data": {
      "text/plain": [
       "[1, 3, 5]"
      ]
     },
     "execution_count": 6,
     "metadata": {},
     "output_type": "execute_result"
    }
   ],
   "source": [
    "#29\n",
    "s = [1, 2, 3, 4, 5, 6]\n",
    "\n",
    "list(filter(lambda x: print(s.index(x)) if x % 2 == 0 else x, s))\n"
   ]
  },
  {
   "cell_type": "markdown",
   "id": "7a41051e",
   "metadata": {},
   "source": [
    "30.\tДан однонаправленный связный список. Вставить элемент после n-го элемента списка. (20 баллов)"
   ]
  },
  {
   "cell_type": "code",
   "execution_count": 23,
   "id": "986a8563",
   "metadata": {},
   "outputs": [
    {
     "name": "stdout",
     "output_type": "stream",
     "text": [
      "введите индекс: 3\n",
      "[4, 2, 8, 1]\n"
     ]
    }
   ],
   "source": [
    "#30\n",
    "class LinkedList:\n",
    "    head = None\n",
    "    length = 0\n",
    "    \n",
    "    class Node:\n",
    "        element = None\n",
    "        next_node = None\n",
    "        \n",
    "        def __init__(self,element, next_node=None):\n",
    "            self.element = element\n",
    "            self.next_node = next_node\n",
    "            \n",
    "    def append(self, element): # операция добавления нового эл-а\n",
    "        if not self.head:\n",
    "            self.head = self.Node(element)\n",
    "            self.length += 1\n",
    "            return element\n",
    "            \n",
    "        node = self.head\n",
    "        while node.next_node:\n",
    "            node = node.next_node\n",
    "                \n",
    "        node.next_node = self.Node(element)\n",
    "        self.length += 1 \n",
    "        return element\n",
    "        \n",
    "    def __str__(self): # вывод на экран\n",
    "        node = self.head\n",
    "        line = '['\n",
    "            \n",
    "        while node.next_node:\n",
    "            line += str(node.element)+ ', '\n",
    "            node = node.next_node\n",
    "        line += str(node.element)+']'\n",
    "            \n",
    "        return line\n",
    "        \n",
    "    def insert(self, key, value): # добавление по индексу\n",
    "        i = 0\n",
    "        node = self.head\n",
    "        prev_code = self.head\n",
    "            \n",
    "        if key == 0:\n",
    "            old_head = self.head\n",
    "            self.head = self.Node(value, next_node = old_head)\n",
    "            return value\n",
    "        while i < key:\n",
    "            prev_node = node\n",
    "            node = node.next_node\n",
    "            i+=1\n",
    "                \n",
    "        prev_node.next_node =self.Node(value, next_node = node)\n",
    "        self.length +=1\n",
    "        return value\n",
    "        \n",
    "a = LinkedList()\n",
    "a.append(4)\n",
    "a.append(2)\n",
    "a.append(8)\n",
    "n = int(input(\"Введите индекс: \"))\n",
    "a.insert(n, 1)\n",
    "print(a)\n",
    "            "
   ]
  },
  {
   "cell_type": "markdown",
   "id": "d3149c84",
   "metadata": {},
   "source": [
    "31.\tСоздать декоратор tol(len, fill) с параметрами len и fill. Декоратор превращает результат декорируемой функции в список состоящий из len элементов. Если исходная функция возвращает меньше заданного количества элементов, то оставшиеся места заполняются значениями fill, в случае, если количество возвращаемых элементов больше len, то хвост последовательности отбрасывается. (20 баллов)"
   ]
  },
  {
   "cell_type": "code",
   "execution_count": 7,
   "id": "cff41e37",
   "metadata": {},
   "outputs": [
    {
     "name": "stdout",
     "output_type": "stream",
     "text": [
      "[0]\n",
      "[0]\n",
      "[0]\n",
      "[0, 8, 8, 8, 8]\n"
     ]
    }
   ],
   "source": [
    "#31\n",
    "def tol(func, leng, fill):\n",
    "    def inner(x):\n",
    "        if len(func(x)) < leng:\n",
    "            return func(x) + [fill]*(leng - len(func(x))) # вызов при определенном условии\n",
    "        else:\n",
    "            return func(x)[:leng]\n",
    "\n",
    "    return inner\n",
    "\n",
    "\n",
    "def f(x):\n",
    "    print( [i for i in range(x)])\n",
    "    return [i for i in range(x)]\n",
    "\n",
    "f = tol(f, 5, 8)\n",
    "print(f(1))\n"
   ]
  },
  {
   "cell_type": "markdown",
   "id": "a0ef6264",
   "metadata": {},
   "source": [
    "32.\tРеализовать однонаправленный связанный список (реализовать класс для элементов списка). Преобразовать строку 'Eeny, meeny, miney, moe; Catch a tiger by his toe.' в связный список символов строки и удалить из него все элементы содержащие гласные буквы. (20 баллов)"
   ]
  },
  {
   "cell_type": "code",
   "execution_count": 8,
   "id": "b3647557",
   "metadata": {},
   "outputs": [
    {
     "name": "stdout",
     "output_type": "stream",
     "text": [
      "ny, mny, mny, m; Ctch  tgr by hs t."
     ]
    }
   ],
   "source": [
    "#32\n",
    "class Box:\n",
    "    def __init__(self, letter=None):\n",
    "        self.letter = letter\n",
    "        self.nextletter = None\n",
    "\n",
    "\n",
    "class LinkedList:\n",
    "    def __init__(self):\n",
    "        self.head = None\n",
    "\n",
    "    def addToEnd(self, newletter):\n",
    "        newbox = Box(newletter)\n",
    "        if self.head is None:\n",
    "            self.head = newbox\n",
    "            return\n",
    "        lastbox = self.head\n",
    "        while (lastbox.nextletter):\n",
    "            lastbox = lastbox.nextletter\n",
    "        lastbox.nextletter = newbox\n",
    "\n",
    "    def get(self, letterIndex):\n",
    "        lastbox = self.head\n",
    "        boxIndex = 0\n",
    "        while boxIndex <= letterIndex:\n",
    "            if boxIndex == letterIndex:\n",
    "                return lastbox.letter\n",
    "            boxIndex = boxIndex + 1\n",
    "            lastbox = lastbox.nextletter\n",
    "\n",
    "    def removeBox(self, rmletter):\n",
    "        headletter = self.head\n",
    "\n",
    "        if headletter is not None:\n",
    "            if headletter.letter == rmletter:\n",
    "                self.head = headletter.nextletter\n",
    "                headletter = None\n",
    "                return\n",
    "        while headletter is not None:\n",
    "            if headletter.letter == rmletter:\n",
    "                break\n",
    "            lastletter = headletter\n",
    "            headletter = headletter.nextletter\n",
    "        if headletter == None:\n",
    "            return\n",
    "        lastletter.nextletter = headletter.nextletter\n",
    "        headletter = None\n",
    "\n",
    "    def contains(self, letter):\n",
    "        lastbox = self.head\n",
    "        while (lastbox):\n",
    "            if letter == lastbox.letter:\n",
    "                return True\n",
    "            else:\n",
    "                lastbox = lastbox.nextletter\n",
    "        return False\n",
    "\n",
    "\n",
    "lnkd = LinkedList()\n",
    "lst = list('Eeny, meeny, miney, moe; Catch a tiger by his toe.')\n",
    "for i in lst:\n",
    "    lnkd.addToEnd(i)\n",
    "\n",
    "for i in 'AaEeUuIiOo':\n",
    "    while lnkd.contains(i):\n",
    "        for j in 'AaEeUuIiOo':\n",
    "            if lnkd.contains(j):\n",
    "                lnkd.removeBox(j)\n",
    "                #print(j)\n",
    "for i in range(len(lst)):\n",
    "    try:\n",
    "        print(lnkd.get(i), end='')\n",
    "    except AttributeError:\n",
    "        pass\n"
   ]
  },
  {
   "cell_type": "markdown",
   "id": "079226cf",
   "metadata": {},
   "source": [
    "33.\tСоздать базовый класс по следующей предметной области. Известны оклад (зарплата) и ставка процента подоходного налога. Определить размер подоходного налога и сумму, получаемую на руки. Исходными данными являются величина оклада (переменная oklad, выражаемая числом) и ставка подоходного налога (переменная procent, выражаемая числом). Размер налога (переменная nalog) определяется как oklad∗procent/100, а сумма, получаемая на руки (переменная summa) — как oklad-nalog. (20 баллов)"
   ]
  },
  {
   "cell_type": "code",
   "execution_count": 87,
   "id": "5cb6bdcb",
   "metadata": {},
   "outputs": [
    {
     "data": {
      "text/plain": [
       "'Налог равен - 13000.0, доход - 87000.0'"
      ]
     },
     "execution_count": 87,
     "metadata": {},
     "output_type": "execute_result"
    }
   ],
   "source": [
    "#33\n",
    "class Salary(object):\n",
    "    def __init__(self,oklad,percent):\n",
    "        self.oklad = oklad\n",
    "        self.percent = percent\n",
    "        \n",
    "    def count_taxes(self):\n",
    "        tax = self.oklad*self.percent/100\n",
    "        summa = self.oklad - tax\n",
    "        return f'Налог равен - {tax}, доход - {summa}'\n",
    "    \n",
    "c = Salary(100000, 13)\n",
    "c.count_taxes()"
   ]
  },
  {
   "cell_type": "markdown",
   "id": "bfcccb76",
   "metadata": {},
   "source": [
    "34.\tВывести по убыванию количество всех предыдущих ремонтов машин \"Жигули\". Осуществить алгоритм сортировки слиянием. (20 баллов)"
   ]
  },
  {
   "cell_type": "code",
   "execution_count": 9,
   "id": "f64806c6",
   "metadata": {},
   "outputs": [
    {
     "name": "stdout",
     "output_type": "stream",
     "text": [
      "[2, 5, 8, 10, 12, 18, 228]\n"
     ]
    }
   ],
   "source": [
    "#34\n",
    "import operator\n",
    "\n",
    "\n",
    "def merge_sort(L, compare=operator.lt):\n",
    "    if len(L) < 2:\n",
    "        return L[:]\n",
    "    else:\n",
    "        middle = int(len(L) / 2)\n",
    "        left = merge_sort(L[:middle], compare)\n",
    "        right = merge_sort(L[middle:], compare)\n",
    "        return merge(left, right, compare)\n",
    "\n",
    "\n",
    "def merge(left, right, compare):\n",
    "    result = []\n",
    "    i, j = 0, 0\n",
    "    while i < len(left) and j < len(right):\n",
    "        if compare(left[i], right[j]):\n",
    "            result.append(left[i])\n",
    "            i += 1\n",
    "        else:\n",
    "            result.append(right[j])\n",
    "            j += 1\n",
    "    while i < len(left):\n",
    "        result.append(left[i])\n",
    "        i += 1\n",
    "    while j < len(right):\n",
    "        result.append(right[j])\n",
    "        j += 1\n",
    "    return result\n",
    "\n",
    "\n",
    "def main():\n",
    "    arr = [10, 12, 18, 8, 2, 228, 5]\n",
    "    print(merge_sort(arr))\n",
    "\n",
    "\n",
    "if __name__ == \"__main__\":\n",
    "    main()\n"
   ]
  },
  {
   "cell_type": "markdown",
   "id": "ca03bb68",
   "metadata": {},
   "source": [
    "35.\tОписать рекурсивные функции Fact(N) и Fact2(N) вещественного типа, вычисляющие значения факториала N! и двойного факториала N!! соответственно (N > 0 — параметр целого типа). (20 баллов)"
   ]
  },
  {
   "cell_type": "code",
   "execution_count": 10,
   "id": "f93d2477",
   "metadata": {},
   "outputs": [
    {
     "name": "stdout",
     "output_type": "stream",
     "text": [
      "6\n",
      "5\n",
      "4\n",
      "3\n",
      "2\n",
      "1\n",
      "720\n"
     ]
    }
   ],
   "source": [
    "#35\n",
    "def fact1(n):\n",
    "    print(n)\n",
    "    if n == 1:\n",
    "        return 1\n",
    "    return fact1(n - 1) * n\n",
    "\n",
    "\n",
    "def fact2(n):\n",
    "    if n in [1, 2]:\n",
    "        return n\n",
    "    return fact2(n - 2) * n\n",
    "\n",
    "\n",
    "print(fact1(6))\n"
   ]
  },
  {
   "cell_type": "markdown",
   "id": "36e378eb",
   "metadata": {},
   "source": [
    "36.\tДан однонаправленный связный список. Удалить каждый второй элемент списка. (20 баллов)"
   ]
  },
  {
   "cell_type": "code",
   "execution_count": 29,
   "id": "a0d70c0b",
   "metadata": {},
   "outputs": [],
   "source": [
    "#36\n",
    "class LinkedList:\n",
    "    head = None\n",
    "    length = 0\n",
    "    \n",
    "    class Node:\n",
    "        element = None\n",
    "        next_node = None\n",
    "        \n",
    "        def __init__(self, element, next_node=None):\n",
    "            self.element = element\n",
    "            self.next_node = next_node\n",
    "            \n",
    "        def append(self, element):\n",
    "            if not self.head:\n",
    "                self.head = self.Node(element)\n",
    "                self.length += 1\n",
    "                return element\n",
    "            \n",
    "            node = self.head\n",
    "            while node.next_node:\n",
    "                node = node.next_node\n",
    "                \n",
    "            node.next_node = self.Node(element)\n",
    "            self.lenght+=1\n",
    "            return element\n",
    "        \n",
    "        def __str__(self):\n",
    "            node = self.head\n",
    "            line ='['\n",
    "            while node.next_node:\n",
    "                line += str(node.element)+', '\n",
    "                node = node.next_node\n",
    "                "
   ]
  },
  {
   "cell_type": "markdown",
   "id": "a8801bb4",
   "metadata": {},
   "source": [
    "37.\tСоздать иерархию классов для фруктов, продающихся в магазине. Иерархия должна содержать не менее 3 классов. Объекты должны содержать не менее 3-х атрибутов. Часть атрибутов должна быть защищена от изменения. Необходимо заполнить список представителями всех классов (всего 5 объектов) и продемонстрировать созданную защиту. (20 баллов)"
   ]
  },
  {
   "cell_type": "code",
   "execution_count": 15,
   "id": "dbf5c278",
   "metadata": {},
   "outputs": [
    {
     "data": {
      "text/plain": [
       "'Russia'"
      ]
     },
     "execution_count": 15,
     "metadata": {},
     "output_type": "execute_result"
    }
   ],
   "source": [
    "#37\n",
    "class Pineapple(object):\n",
    "    def __init__(self, price, weight, country, count):\n",
    "        self.price = price\n",
    "        self.weight = weight\n",
    "        self.__country = country\n",
    "        \n",
    "        \n",
    "    @property\n",
    "    def country(self):\n",
    "        return self.__country\n",
    "    \n",
    "    def __str__(self):\n",
    "        return f'Цена за кг - {self.price}, стоимость - {self.price*self.weight}'\n",
    "    \n",
    "class Apple(Pineapple):\n",
    "    def __init__(self, price, weight, country, count, sort):\n",
    "        super().__init__(price, weight, country, count)\n",
    "        self.sort = sort\n",
    "        \n",
    "    def country(self):\n",
    "        return f'Страна - {self.__country}'\n",
    "    \n",
    "    def __str__(self):\n",
    "        return f'{self.sort}, {self.weight}, {self.weight*self.price}'\n",
    "\n",
    "class Banana(Pineapple):\n",
    "    def __init__(self, price, weight, country, color, count):\n",
    "        super().__init__(price, weight,country, count)\n",
    "        self.color = color\n",
    "        \n",
    "    def __add__(self, other):\n",
    "        return self.price + other.price\n",
    "    \n",
    "    def __str__(self):\n",
    "        return f'Цена - {self.price}, вес - {self.weight}, страна - {self.__country}, цвет - {self.color}'\n",
    "    \n",
    "c = Pineapple(100, 2, 'Russia', 12)\n",
    "c1 = Apple(150, 3, 'Egypt',12, \"Eve\" )\n",
    "\n",
    "c.country"
   ]
  },
  {
   "cell_type": "markdown",
   "id": "07c41951",
   "metadata": {},
   "source": [
    "38.\tРасположить по алфавиту имена владельцев и, соответственно, вывести информацию об их машинах.  Использовать алгоритм сортировки выбором. (20 баллов)"
   ]
  },
  {
   "cell_type": "code",
   "execution_count": 31,
   "id": "ef89167f",
   "metadata": {},
   "outputs": [],
   "source": [
    "#38\n",
    "driver = [('Андрей', {'марка': 'БМВ', 'цвет': 'черный', 'пробег': 10324}),\n",
    "          ('Александр', {'марка': 'Порше', 'цвет': 'красный', 'пробег': 154313}),\n",
    "          ('Дмитрий', {'марка': 'Лада', 'цвет': 'зеленый', 'пробег': 304312}),\n",
    "          ('Андрей', {'марка': 'БМВ', 'цвет': 'черный', 'пробег': 103242})]\n",
    "\n",
    "for i in range(0, len(driver) - 1):\n",
    "        smallest = i\n",
    "        for j in range(i + 1, len(driver)):\n",
    "            if driver[j][0] < driver[smallest][0]:\n",
    "                smallest = j\n",
    "        driver[i], driver[smallest] = driver[smallest], driver[i]\n",
    "        \n",
    "for i in driver:\n",
    "    print(*i, sep=' -> ')"
   ]
  },
  {
   "cell_type": "markdown",
   "id": "ebfc5db8",
   "metadata": {},
   "source": [
    "39.\tОписать рекурсивную функцию Root (а, b, ε), которая методом деления отрезка пополам находит с точностью ε корень уравнения f(x) = 0 на отрезке [а, b] (считать, что ε > 0, а < b, f(a) – f(b) < 0 и f(x) — непрерывная и монотонная на отрезке [а, b] функция). (20 баллов)"
   ]
  },
  {
   "cell_type": "code",
   "execution_count": 17,
   "id": "95adf38b",
   "metadata": {},
   "outputs": [
    {
     "name": "stdout",
     "output_type": "stream",
     "text": [
      "7.875\n"
     ]
    }
   ],
   "source": [
    "#39\n",
    "def claculate_equal(a, b, e):\n",
    "    delimetr = (a + b) / 2\n",
    "    if equation(delimetr) >= -e and equation(delimetr) <= e:\n",
    "        return delimetr\n",
    "    if equation(delimetr) >= e:\n",
    "        return claculate_equal(a, delimetr, e)\n",
    "    if equation(delimetr) <= e:\n",
    "        return claculate_equal(delimetr, b, e)\n",
    "\n",
    "\n",
    "def equation(x):\n",
    "    return x - 8\n",
    "\n",
    "\n",
    "print(claculate_equal(1, 11, 0.2))\n"
   ]
  },
  {
   "cell_type": "markdown",
   "id": "ac152c71",
   "metadata": {},
   "source": [
    "40.\tДан одномерный массив целых чисел размерности n, заданных случайным образом из интервала от -20 до 20. Если сумма отрицательных элементов по модулю превышает сумму положительных, то отсортировать массив по возрастанию, иначе – по убыванию. Реализовать сортировку алгоритмом сортировки выбором. (20 баллов)"
   ]
  },
  {
   "cell_type": "code",
   "execution_count": 18,
   "id": "234fa751",
   "metadata": {},
   "outputs": [
    {
     "name": "stdout",
     "output_type": "stream",
     "text": [
      "4\n",
      "[17, 10, 5, 2]\n"
     ]
    }
   ],
   "source": [
    "#40\n",
    "import random\n",
    "\n",
    "\n",
    "def sel_sort(arr): # ф-я сортировки\n",
    "    for i in range(len(arr) - 1):\n",
    "        m = i\n",
    "        j = i + 1\n",
    "        while j < len(arr):\n",
    "            if arr[j] < arr[m]:\n",
    "                m = j\n",
    "            j = j + 1\n",
    "        arr[i], arr[m] = arr[m], arr[i]\n",
    "\n",
    "\n",
    "def main(): # основная ф-я, здесь же проверяет условие\n",
    "    n = int(input())\n",
    "    arr = []\n",
    "\n",
    "    for _ in range(n):\n",
    "        arr.append(random.randint(-20, 20))\n",
    "\n",
    "    positive_summ = sum([(item if item > 0 else 0) for item in arr])\n",
    "    negative_summ = abs(sum(arr) - positive_summ)\n",
    "\n",
    "    sel_sort(arr)\n",
    "    if negative_summ > positive_summ:\n",
    "        print(arr)\n",
    "    else:\n",
    "        print(arr[::-1])\n",
    "\n",
    "\n",
    "if __name__ == \"__main__\":\n",
    "    main() # вызов ф-и\n"
   ]
  },
  {
   "cell_type": "markdown",
   "id": "4a9029f1",
   "metadata": {},
   "source": [
    "41.\tСоздать декоратор dec(a, b) с параметрами a и b. Декоратор увеличивает результат декорируемой функции, которая вычисляет сумму произвольного количества чисел, на «a» элементов при условии положительного значения суммы. Если исходная функция возвращает отрицательное значение суммы, то декоратор уменьшает результат декорируемой функции на значение «b». (20 баллов)"
   ]
  },
  {
   "cell_type": "code",
   "execution_count": 11,
   "id": "6c1d5825",
   "metadata": {},
   "outputs": [
    {
     "name": "stdout",
     "output_type": "stream",
     "text": [
      "-43\n"
     ]
    }
   ],
   "source": [
    "#41\n",
    "def dec(func, a, b):\n",
    "    def inner(*x):\n",
    "        if func(*x) >= 0:\n",
    "            return func(*x) + a\n",
    "        return func(*x) - b\n",
    "\n",
    "    return inner\n",
    "\n",
    "\n",
    "def f(*args):\n",
    "    return sum(args)\n",
    "\n",
    "\n",
    "f = dec(f, 2, 3)\n",
    "print(f(3, 2, 5, -50))\n"
   ]
  },
  {
   "cell_type": "markdown",
   "id": "aaef9ef8",
   "metadata": {},
   "source": [
    "42.\tДан одномерный массив целых чисел размерности n, заданных случайным образом из интервала от -20 до 20. Если в массиве есть отрицательные элементы, то отсортировать массив по возрастанию, иначе - по убыванию. Реализовать сортировку алгоритмом сортировки вставками. (20 баллов)."
   ]
  },
  {
   "cell_type": "code",
   "execution_count": 12,
   "id": "0cb103be",
   "metadata": {},
   "outputs": [
    {
     "name": "stdout",
     "output_type": "stream",
     "text": [
      "4\n",
      "[-20, -16, -3, 7]\n"
     ]
    }
   ],
   "source": [
    "#42\n",
    "import random\n",
    "\n",
    "\n",
    "def insertion_sort(arr):\n",
    "    for i in range(1, len(arr)):\n",
    "        key = arr[i]\n",
    "        j = i - 1\n",
    "        while j >= 0 and key < arr[j]:\n",
    "            arr[j+1] = arr[j]\n",
    "            j -= 1\n",
    "        arr[j+1] = key\n",
    "    return arr\n",
    "\n",
    "\n",
    "def main():\n",
    "    n = int(input())\n",
    "    arr = []\n",
    "    flag = False\n",
    "\n",
    "    for i in range(n):\n",
    "        arr.append(random.randint(-20, 20))\n",
    "        if arr[i] < 0:\n",
    "            flag = True\n",
    "\n",
    "    arr = insertion_sort(arr)\n",
    "    if not flag:\n",
    "        arr = arr[::-1]\n",
    "    print(arr)\n",
    "\n",
    "\n",
    "if __name__ == \"__main__\":\n",
    "    main()\n"
   ]
  },
  {
   "cell_type": "markdown",
   "id": "29409ee2",
   "metadata": {},
   "source": [
    "43.\tДан список целых чисел. При помощи механизма map/filter/reduce рассчитать остаток от деления на 7 для каждого из чисел списка и получить произведение тех остатков, величина которых больше 4. (20 баллов)"
   ]
  },
  {
   "cell_type": "code",
   "execution_count": 13,
   "id": "0f29badc",
   "metadata": {},
   "outputs": [
    {
     "name": "stdout",
     "output_type": "stream",
     "text": [
      "30\n"
     ]
    }
   ],
   "source": [
    "#43\n",
    "from functools import reduce\n",
    "\n",
    "s = [0, 6, 5]\n",
    "print(reduce(lambda a, b: a * b, filter(lambda x: x % 7 > 4, s)))\n"
   ]
  },
  {
   "cell_type": "markdown",
   "id": "014cce48",
   "metadata": {},
   "source": [
    "44.\tДан одномерный массив целых чисел размерности n, заданных случайным образом из интервала от 0 до 100. Если количество четных элементов, стоящих на нечетных местах, превышает количество нечетных элементов, стоящих на четных местах, то отсортировать массив по возрастанию, иначе по убыванию. Реализовать алгоритм сортировки слиянием. (20 баллов)"
   ]
  },
  {
   "cell_type": "code",
   "execution_count": 14,
   "id": "b8f83d8c",
   "metadata": {},
   "outputs": [
    {
     "name": "stdout",
     "output_type": "stream",
     "text": [
      "3\n",
      "[75, 16, 11]\n"
     ]
    }
   ],
   "source": [
    "#44\n",
    "import random\n",
    "import operator\n",
    "\n",
    "\n",
    "def merge_sort(L, compare=operator.lt):\n",
    "    if len(L) < 2:\n",
    "        return L[:]\n",
    "    else:\n",
    "        middle = int(len(L) / 2)\n",
    "        left = merge_sort(L[:middle], compare)\n",
    "        right = merge_sort(L[middle:], compare)\n",
    "        return merge(left, right, compare)\n",
    "\n",
    "\n",
    "def merge(left, right, compare):\n",
    "    result = []\n",
    "    i, j = 0, 0\n",
    "    while i < len(left) and j < len(right):\n",
    "        if compare(left[i], right[j]):\n",
    "            result.append(left[i])\n",
    "            i += 1\n",
    "        else:\n",
    "            result.append(right[j])\n",
    "            j += 1\n",
    "    while i < len(left):\n",
    "        result.append(left[i])\n",
    "        i += 1\n",
    "    while j < len(right):\n",
    "        result.append(right[j])\n",
    "        j += 1\n",
    "    return result\n",
    "\n",
    "\n",
    "def main():\n",
    "    n = int(input())\n",
    "    arr = []\n",
    "    count_odd = count_even = 0\n",
    "\n",
    "    for i in range(n):\n",
    "        arr.append(random.randint(0, 100))\n",
    "        if arr[i] % 2 == 0 and i % 2 != 0:\n",
    "            count_even += 1\n",
    "        elif arr[i] % 2 != 0 and i % 2 == 0:\n",
    "            count_odd += 1\n",
    "\n",
    "    arr = merge_sort(arr)\n",
    "    if count_even <= count_odd:\n",
    "        arr = arr[::-1]\n",
    "    print(arr)\n",
    "\n",
    "\n",
    "if __name__ == \"__main__\":\n",
    "    main()\n"
   ]
  },
  {
   "cell_type": "markdown",
   "id": "5b09bf15",
   "metadata": {},
   "source": [
    "45.\tРеализовать декоратор с именем not_sum, который генерирует исключительную ситуацию, если декорируемая функция вернула отрицательное значение суммы трех чисел. (20 баллов)"
   ]
  },
  {
   "cell_type": "code",
   "execution_count": 15,
   "id": "bf5160ba",
   "metadata": {},
   "outputs": [],
   "source": [
    "#45\n",
    "def not_sum(funct):\n",
    "    def wrapper(a,b,c):\n",
    "        funct(a,b,c)\n",
    "        assert funct(a,b,c) > 0, 'Отрицательное значение'\n",
    "    return wrapper\n",
    "\n",
    "@not_sum\n",
    "def func(a,b,c):\n",
    "    return a+b+c\n",
    "func(10,-1,-1)\n",
    "\n",
    "        "
   ]
  },
  {
   "cell_type": "markdown",
   "id": "0212ae71",
   "metadata": {},
   "source": [
    "46.\tДано два однонаправленных связных списка. Создать список, содержащий элементы общие для двух списков. (20 баллов)"
   ]
  },
  {
   "cell_type": "code",
   "execution_count": 74,
   "id": "e78074d5",
   "metadata": {},
   "outputs": [
    {
     "name": "stdout",
     "output_type": "stream",
     "text": [
      "LinkedList [1 2 3 ]\n",
      "LinkedList [4 2 3 ]\n",
      "LinkedList [2 3 ]\n"
     ]
    }
   ],
   "source": [
    "#46\n",
    "class Node:\n",
    "    def __init__(self, value = None, next = None):\n",
    "        self.value = value\n",
    "        self.next = next\n",
    "        \n",
    "class LinkedList:\n",
    "    def __init__(self):\n",
    "        self.first = None\n",
    "        self.last = None\n",
    "        self.lenght = 0\n",
    "\n",
    "    def __str__(self):\n",
    "        if self.first != None:\n",
    "            current = self.first\n",
    "            out = 'LinkedList [' +str(current.value) +' '\n",
    "            while current.next != None:\n",
    "                current = current.next\n",
    "                out += str(current.value) + ' '\n",
    "            return out + ']'\n",
    "        return 'LinkedList []'\n",
    "    def add(self, x):\n",
    "        self.lenght+=1\n",
    "        if self.first == None:\n",
    "            self.last = self.first = Node(x, None)\n",
    "        else:\n",
    "            self.last.next = self.last = Node(x, None)\n",
    "            \n",
    "    def delete_second(self):\n",
    "        current = self.first\n",
    "        i=1\n",
    "        while current.next != None:\n",
    "            if (i+1)%2==0:\n",
    "                current.next = current.next.next\n",
    "            else:\n",
    "                current = current.next\n",
    "            i+=1\n",
    "L1 = LinkedList()\n",
    "L1.add(1)\n",
    "L1.add(2)\n",
    "L1.add(3)\n",
    "L2 = LinkedList()\n",
    "L2.add(4)\n",
    "L2.add(2)\n",
    "L2.add(3)\n",
    "L3 = LinkedList()\n",
    "current1 = L1.first\n",
    "for i in range(L1.lenght):\n",
    "    current2 = L2.first\n",
    "    for j in range(L2.lenght):\n",
    "        if current1.value == current2.value:\n",
    "            L3.add(current1.value)\n",
    "        current2 = current2.next\n",
    "    current1 = current1.next\n",
    "print(L1)\n",
    "print(L2)\n",
    "print(L3)"
   ]
  },
  {
   "cell_type": "markdown",
   "id": "c09ccf1b",
   "metadata": {},
   "source": [
    "47.\tДан список целых чисел.  При помощи механизма map/filter/reduce рассчитать остаток от деления на 17 для каждого из чисел списка и получить произведение тех остатков, величина которых меньше 7. (20 баллов)"
   ]
  },
  {
   "cell_type": "code",
   "execution_count": 32,
   "id": "e6c5bfab",
   "metadata": {},
   "outputs": [
    {
     "name": "stdout",
     "output_type": "stream",
     "text": [
      "5\n"
     ]
    }
   ],
   "source": [
    "#47\n",
    "ls = [19, 18, 17, 21, 20, 5, 8]\n",
    "a = list(filter(lambda x: x%17, ls))\n",
    "prod = 1\n",
    "for i in a:\n",
    "    if i < 7:\n",
    "        prod*=i\n",
    "print(prod)"
   ]
  },
  {
   "cell_type": "markdown",
   "id": "d7c6a394",
   "metadata": {},
   "source": [
    "48.\tСоздать класс Профиль местности, который хранит последовательность высот, вычисленных через равные промежутки по горизонтали. Методы: наибольшая высота, наименьшая высота, перепад высот (наибольший, суммарный), крутизна (тангенс угла наклона; наибольшая, средняя), сравнение двух профилей одинаковой длины (по перепаду, по крутизне). (20 баллов)"
   ]
  },
  {
   "cell_type": "code",
   "execution_count": 41,
   "id": "262b9f82",
   "metadata": {},
   "outputs": [],
   "source": [
    "#48\n",
    "import math\n",
    "class Profile(object):\n",
    "    def __init__(self, lst):\n",
    "        self.lst = lst\n",
    "        \n",
    "    def the_highest(self):\n",
    "        a = max(self.lst)\n",
    "        print(f\"Наибольшая высота - {a}\")\n",
    "        \n",
    "    def the_tiniest(self):\n",
    "        a = min(self.lst)\n",
    "        print(f'Наименьшая высота - {a}')\n",
    "        \n",
    "    def steepness_max(self):\n",
    "        a = max\n"
   ]
  },
  {
   "cell_type": "markdown",
   "id": "f94f26ba",
   "metadata": {},
   "source": [
    "49.\tДан список целых чисел.  При помощи механизма map/filter/reduce рассчитать разность со значением 10 для каждого из чисел списка и получить сумму тех значений, величина которых меньше 0. (20 баллов)"
   ]
  },
  {
   "cell_type": "code",
   "execution_count": 5,
   "id": "d0969990",
   "metadata": {},
   "outputs": [
    {
     "name": "stdout",
     "output_type": "stream",
     "text": [
      "25\n"
     ]
    }
   ],
   "source": [
    "#49\n",
    "a = [1, 2, 10, 20, 15, 5, 8, 9]\n",
    "print(sum(list(filter(lambda x: x-10<0, a))))"
   ]
  },
  {
   "cell_type": "markdown",
   "id": "baedfd38",
   "metadata": {},
   "source": [
    "50.\tРеализовать двоичное дерево в виде связанных объектов (реализовать класс для элементов двоичного дерева) и реализовать симметричную процедуру обхода двоичного дерева в виде рекурсивной функции. (20 баллов)"
   ]
  },
  {
   "cell_type": "code",
   "execution_count": 72,
   "id": "340f839d",
   "metadata": {},
   "outputs": [
    {
     "name": "stdout",
     "output_type": "stream",
     "text": [
      "5 (7 (10 (None, None), 30 (None, None)), 20 (None, 6 (None, None)))\n",
      "10 7 30 5 20 6 "
     ]
    }
   ],
   "source": [
    "#50\n",
    "class BinaryNode: # двоичное дерево (класс)\n",
    "    def __init__(self, val, left=None, right=None, parent=None): # инициализация\n",
    "        self.val = val\n",
    "        self.left_child = left\n",
    "        self.right_child = right\n",
    "        self.parent = parent\n",
    "\n",
    "    def get_left_child(self): \n",
    "        return self.left_child #методы для возвращения левых и правых эл-в\n",
    "\n",
    "    def get_right_child(self):\n",
    "        return self.right_child\n",
    "    \n",
    "    def get_val(self):\n",
    "        return self.val\n",
    "    \n",
    "    def set_val(self, val):\n",
    "        self.val = val\n",
    "        \n",
    "    def get_parent(self):\n",
    "        return self.parent\n",
    "    \n",
    "    def set_left_child(self, node): # \n",
    "        if self.left_child == None: \n",
    "            self.left_child = BinaryNode(node, None, None, self)\n",
    "        else:\n",
    "            t = BinaryNode(node)\n",
    "            t.left_child = self.left_child\n",
    "            self.left_child = t\n",
    "            \n",
    "    def set_right_child(self, node):\n",
    "        if self.right_child == None:\n",
    "            self.right_child = BinaryNode(node, None, None, self)\n",
    "        else:\n",
    "            t = BinaryNode(node)\n",
    "            t.right_child = self.right_child\n",
    "            self.right_child = t\n",
    "            \n",
    "    def set_parent(self, node):\n",
    "        self.parent = BinaryNode(node)\n",
    "        \n",
    "    def __str__(self):\n",
    "        return '{} ({}, {})'.format(str(self.get_val()), str(self.get_left_child()), str(self.get_right_child()))\n",
    "    \n",
    "def in_order(node):\n",
    "    if node:\n",
    "        in_order(node.left_child)\n",
    "        print(node.get_val(), end = ' ')\n",
    "        in_order(node.right_child)\n",
    "        \n",
    "r = BinaryNode(5)\n",
    "r.set_left_child(7)\n",
    "r.set_right_child(6)\n",
    "r.get_left_child().set_left_child(10)\n",
    "r.get_left_child().set_right_child(30)\n",
    "r.set_right_child(20)\n",
    "print(r)\n",
    "in_order(r)"
   ]
  },
  {
   "cell_type": "markdown",
   "id": "d0943599",
   "metadata": {},
   "source": [
    "51.\tВ одномерном массиве целых чисел найти количество пар элементов разного знака. (пара — это два рядом стоящих элемента). (20 баллов)"
   ]
  },
  {
   "cell_type": "code",
   "execution_count": 31,
   "id": "d9cbb3d2",
   "metadata": {},
   "outputs": [
    {
     "name": "stdout",
     "output_type": "stream",
     "text": [
      "4\n"
     ]
    }
   ],
   "source": [
    "#51\n",
    "counter = 0 # счетчик для пар \n",
    "array = [1, -1, 2, 4 ,5, -6, 2, 3]\n",
    "for i in range(len(array)-1):\n",
    "    if array[i] < 0 and array[i+1] > 0: # проверка знаков\n",
    "        counter+=1\n",
    "    elif array[i] > 0 and array[i+1] < 0:\n",
    "        counter+=1\n",
    "        \n",
    "print(counter)\n",
    "    "
   ]
  },
  {
   "cell_type": "markdown",
   "id": "e88bf258",
   "metadata": {},
   "source": [
    "52.\tЗадание: построить базовый класс с указанными в таблице полями и методами:\n",
    "- конструктор; - функция, которая определяет «качество» объекта – Q по заданной формуле; - метод вывода информации об объекте.\n",
    "Построить дочерний класс (класс-потомок), который содержит:\n",
    "- дополнительное поле P;\n",
    "- функция, которая определяет «качество» объекта дочернего класса – Qp и перегружает функцию качества родительского класса (Q), выполняя вычисление по новой формуле.\n",
    "Создать проект для демонстрации работы: ввод и вывод информации об объектах классов. (20 баллов)\n"
   ]
  },
  {
   "cell_type": "code",
   "execution_count": 45,
   "id": "0c2f7cc7",
   "metadata": {},
   "outputs": [],
   "source": [
    "#52\n",
    "class Base(object):\n",
    "    Q = None\n",
    "    def __init__(self, name, frequency, volume):\n",
    "        self.name = name\n",
    "        self.frequency = frequency\n",
    "        self.volume = volume\n",
    "    \n",
    "    @property\n",
    "    def constructor(self):\n",
    "        Q = 0.1*self.frequency+self.volume\n",
    "        return Q\n",
    "    \n",
    "    def __str__(self):\n",
    "        return f'Имя процессора - {self.name}, частота - {self.frequency}, объем - {self.volume}, Q - {Base(self.name,self.frequency,self.volume).constructor}'\n",
    "    \n",
    "class UnderBase(Base):\n",
    "    def __init__(self, name, frequency, volume, P):\n",
    "        super().__init__(name, frequency, volume)\n",
    "        self.p = P\n",
    "        \n",
    "    @property\n",
    "    def cons(self):\n",
    "        return super().constructor\n",
    "        \n",
    "    @property\n",
    "    def vol(self):\n",
    "        Qp = Base(self.name, self.frequency, self.volume).constructor+0.5*self.p\n",
    "        return Qp\n",
    "    \n",
    "    def __str__(self):\n",
    "        return f'Имя процессора - {self.name}, частота - {self.frequency}, объем - {self.volume}, Q- {UnderBase(self.name, self.frequency, self.volume,self.p).cons}, Qp - {UnderBase(self.name, self.frequency, self.volume, self.p).vol}'\n",
    "    \n",
    "A = UnderBase('intel', 120.0, 200, 10)\n",
    "B = Base('amd', 150.0, 400)\n",
    "A.__str__()"
   ]
  },
  {
   "cell_type": "markdown",
   "id": "71fe3b92",
   "metadata": {},
   "source": [
    "53.\tСоздать иерархию классов для фруктов, продающихся в магазине. Иерархия должна содержать не менее 3 классов. Объекты должны содержать не менее 2-х атрибутов и 2-х методов. Реализовать механизм автоматического подсчета количества всех созданных фруктов и автоматического присвоения каждому фрукту уникального идентификатора. Необходимо заполнить список представителями всех классов (всего не менее 5 объектов) и продемонстрировать работу созданного механизма. (20 баллов)"
   ]
  },
  {
   "cell_type": "code",
   "execution_count": 27,
   "id": "c7870593",
   "metadata": {},
   "outputs": [
    {
     "data": {
      "text/plain": [
       "3"
      ]
     },
     "execution_count": 27,
     "metadata": {},
     "output_type": "execute_result"
    }
   ],
   "source": [
    "#53\n",
    "class Mango(object):\n",
    "    next_index = 0\n",
    "    \n",
    "    @classmethod # для задания индекса\n",
    "    def generate_next_index(cls):\n",
    "        index = cls.next_index\n",
    "        cls.next_index += 1 \n",
    "        return index\n",
    "    \n",
    "    def __init__(self, sort, country, weight):\n",
    "        self.index = Mango.generate_next_index()\n",
    "        self.sort = sort\n",
    "        self.country = country\n",
    "        self.weight = weight\n",
    "        \n",
    "    def price(self):\n",
    "        return f'the price is {self.weight * 100}'\n",
    "    \n",
    "    def __str__(self):\n",
    "        return f'Сорт манго - {self.sort}, страна - {self.country}, вес - {self.weight}'\n",
    "\n",
    "class Banana(Mango):\n",
    "    next_index = 0\n",
    "    \n",
    "    @classmethod\n",
    "    def generate_next_index(cls):\n",
    "        index = cls.next_index\n",
    "        cls.next_index += 1\n",
    "        return index\n",
    "    \n",
    "    def __init__(self, sort, counrty, weight, size):\n",
    "        super().__init__(sort, country, weight)\n",
    "        self.index = Banana.generate_next_index()\n",
    "        self.size = size\n",
    "        \n",
    "    def price(self):\n",
    "        super().price()\n",
    "        \n",
    "class Apple(Mango):\n",
    "    next_index = 0\n",
    "    \n",
    "    @classmethod\n",
    "    def generate_next_index(cls):\n",
    "        index = cls.next_index\n",
    "        cls.next_index += 1\n",
    "        return index\n",
    "    \n",
    "    def __init__(self, sort, country, weight, count):\n",
    "        super().__init__(sort, country, weight)\n",
    "        self.index = Apple.generate_next_index()\n",
    "        self.count = count\n",
    "        \n",
    "    def price(self):\n",
    "        return super().price()\n",
    "        \n",
    "a1 = Apple('red', 'USA', 2, 3)\n",
    "a1.next_index\n",
    "a2 = Apple('blue', 'Kazakhstan', 1, 4)\n",
    "a2.next_index\n",
    "m = Mango('dope', 'Brazil', 0.2)\n",
    "m.next_index"
   ]
  },
  {
   "cell_type": "markdown",
   "id": "fbc2c720",
   "metadata": {},
   "source": [
    "54.\tДано предложение без знаков препинания. Превратить предложение в список слов. При помощи механизма map/filter/reduce найти количество слов, длина которых больше 4 и склеить их в одну строку (20 баллов)"
   ]
  },
  {
   "cell_type": "code",
   "execution_count": 9,
   "id": "a74493fb",
   "metadata": {},
   "outputs": [
    {
     "name": "stdout",
     "output_type": "stream",
     "text": [
      "meenymoney\n"
     ]
    }
   ],
   "source": [
    "#54\n",
    "lst = 'eeny meeny money moe do they love u no they dont'\n",
    "lst = lst.split(' ')\n",
    "a = list(filter(lambda x: len(x)>4, lst)) # отбирает только слова больше 4 сим-в\n",
    "print(''.join(a))"
   ]
  },
  {
   "cell_type": "markdown",
   "id": "eb0a27b4",
   "metadata": {},
   "source": [
    "55.\tВ одномерном массиве (array) целых чисел найти количество пар модуль разности элементов которых, больше 10. (пара — это два рядом стоящих элемента). (20 баллов)"
   ]
  },
  {
   "cell_type": "code",
   "execution_count": 30,
   "id": "550d7e85",
   "metadata": {},
   "outputs": [
    {
     "name": "stdout",
     "output_type": "stream",
     "text": [
      "5\n"
     ]
    }
   ],
   "source": [
    "#55\n",
    "array = [1, 2, 3, 4, 10, 21, 33, 2, 15, 100]\n",
    "count = 0\n",
    "for i in range(len(array)-1):\n",
    "    if abs(array[i] - array[i+1]) > 10: # проверка разницы эл-в больше 10 по модулю\n",
    "        count+=1\n",
    "        \n",
    "print(count)"
   ]
  },
  {
   "cell_type": "markdown",
   "id": "7a41d4b9",
   "metadata": {},
   "source": [
    "56.\tРеализовать функцию st_reverse(a_string), которая при помощи стека инвертирует строку (меняет порядок букв на обратный).  Пример: st_reverse(‘abcd’) -> ‘dcba’. (20 баллов)"
   ]
  },
  {
   "cell_type": "code",
   "execution_count": 59,
   "id": "572bc8df",
   "metadata": {},
   "outputs": [
    {
     "data": {
      "text/plain": [
       "'olleh'"
      ]
     },
     "execution_count": 59,
     "metadata": {},
     "output_type": "execute_result"
    }
   ],
   "source": [
    "#56\n",
    "def st_reverse(a_string):\n",
    "    stack = []\n",
    "    string = ''\n",
    "    for i in a_string:\n",
    "        stack.append(i) # закидывает все в стэк\n",
    "        \n",
    "    for i in range(len(stack)-1,-1, -1):\n",
    "        string+=stack[i] # вытаскивает в строку наоборот\n",
    "        \n",
    "    return string\n",
    "st_reverse('hello')"
   ]
  },
  {
   "cell_type": "markdown",
   "id": "653d2be0",
   "metadata": {},
   "source": [
    "58.\tДан двунаправленный связный список. Удалить n-ый элемент списка. (20 баллов)"
   ]
  },
  {
   "cell_type": "code",
   "execution_count": 65,
   "id": "8ce4a51f",
   "metadata": {},
   "outputs": [
    {
     "name": "stdout",
     "output_type": "stream",
     "text": [
      "-3\n",
      "8\n",
      "10\n",
      "1\n"
     ]
    }
   ],
   "source": [
    "#58\n",
    "class DbList:\n",
    "    class Node:\n",
    "        previous_node = None\n",
    "        next_node = None\n",
    "        element = None\n",
    "        \n",
    "        def __init__(self,element, next_node=None,previous_node=None) ->None:\n",
    "            self.element = element\n",
    "            self.next_node = next_node\n",
    "            self.previous_node = previous_node\n",
    "            \n",
    "    head = None\n",
    "    tail = None\n",
    "    length = 0\n",
    "        \n",
    "    def add(self, element): # добавление элементов по очереди\n",
    "        self.length +=1 \n",
    "        if not self.head:\n",
    "            self.head = self.Node(element)\n",
    "            return element\n",
    "        elif not self.tail:\n",
    "            self.tail = self.Node(element, None, self.head)\n",
    "            self.head.next_node = self.tail\n",
    "            return element\n",
    "        else:\n",
    "            self.tail = self.Node(element, None, self.tail)\n",
    "            self.tail.previous_node.next_node = self.tail\n",
    "            return element\n",
    "    \n",
    "    def _del(self, index, reverse=True): # в добавление к нижней\n",
    "        if index == 0:\n",
    "            el = self.head.element\n",
    "            self.head = self.head.next_node\n",
    "            self.head.previous_node = None\n",
    "            return el\n",
    "        elif index == self.length-1:\n",
    "            el = self.tail.element\n",
    "            self.tail = self.tail.previous_node\n",
    "            self.tail.next_node = None\n",
    "            return el \n",
    "        elif reverse:\n",
    "            i = self.length - 1\n",
    "            node = self.tail \n",
    "            \n",
    "            while i != index:\n",
    "                node = node.previous_node\n",
    "                i-=1\n",
    "            el = node.element\n",
    "            node.previous_node.next_node, node.next_node.previous_node = node.next_node, node.previous_node\n",
    "            del node\n",
    "            \n",
    "            return el\n",
    "        else:\n",
    "            i = 0\n",
    "            node = self.head\n",
    "            \n",
    "            while i != index:\n",
    "                node = node.previous_node\n",
    "                i+=1\n",
    "            el = node.element\n",
    "            node.previous_node.next_node, node.next_node.previous_node = node.next_node, node.previous_node\n",
    "            del node\n",
    "            \n",
    "            return el            \n",
    "        \n",
    "    def delete(self, index): # ф-я удаления нужного элемента\n",
    "        if self.head:\n",
    "            if index > self.length // 2:\n",
    "                el = self._del(index, reverse = True)\n",
    "    \n",
    "            elif index <= self.length // 2:\n",
    "                el = self._del(index, reverse=True)\n",
    "            self.length -= 1\n",
    "            return el\n",
    "        \n",
    "    def __iter__(self): # итератор\n",
    "        node = self.head\n",
    "        \n",
    "        while node:\n",
    "            yield node.element\n",
    "            node = node.next_node\n",
    "            \n",
    "if __name__=='__main__':\n",
    "    dblist = DbList()\n",
    "    \n",
    "    dblist.add(4)\n",
    "    dblist.add(-3)\n",
    "    dblist.add(8)\n",
    "    dblist.add(10)\n",
    "    dblist.add(1)\n",
    "    \n",
    "    \n",
    "    dblist.delete(0) \n",
    "    \n",
    "    for el in dblist:\n",
    "        print(el)"
   ]
  },
  {
   "cell_type": "markdown",
   "id": "941608b1",
   "metadata": {},
   "source": [
    "57.\tДан двунаправленный связный список. Вставить элемент после n-го элемента списка. (20 баллов)"
   ]
  },
  {
   "cell_type": "code",
   "execution_count": 71,
   "id": "6d31e788",
   "metadata": {},
   "outputs": [
    {
     "name": "stdout",
     "output_type": "stream",
     "text": [
      "1000\n",
      "-3\n",
      "8\n",
      "10\n",
      "1\n"
     ]
    }
   ],
   "source": [
    "#57 почти та же, что сверху , только для вставки\n",
    "class DbList:\n",
    "    class Node:\n",
    "        previous_node = None\n",
    "        next_node = None\n",
    "        element = None\n",
    "        \n",
    "        def __init__(self,element, next_node=None,previous_node=None) ->None:\n",
    "            self.element = element\n",
    "            self.next_node = next_node\n",
    "            self.previous_node = previous_node\n",
    "            \n",
    "    head = None\n",
    "    tail = None\n",
    "    length = 0\n",
    "        \n",
    "    def add(self, element):\n",
    "        self.length +=1 \n",
    "        if not self.head:\n",
    "            self.head = self.Node(element)\n",
    "            return element\n",
    "        elif not self.tail:\n",
    "            self.tail = self.Node(element, None, self.head)\n",
    "            self.head.next_node = self.tail\n",
    "            return element\n",
    "        else:\n",
    "            self.tail = self.Node(element, None, self.tail)\n",
    "            self.tail.previous_node.next_node = self.tail\n",
    "            return element\n",
    "    \n",
    "    def _del(self, index, reverse=True):\n",
    "        if index == 0:\n",
    "            el = self.head.element\n",
    "            self.head = self.head.next_node\n",
    "            self.head.previous_node = None\n",
    "            return el\n",
    "        elif index == self.length-1:\n",
    "            el = self.tail.element\n",
    "            self.tail = self.tail.previous_node\n",
    "            self.tail.next_node = None\n",
    "            return el \n",
    "        elif reverse:\n",
    "            i = self.length - 1\n",
    "            node = self.tail \n",
    "            \n",
    "            while i != index:\n",
    "                node = node.previous_node\n",
    "                i-=1\n",
    "            el = node.element\n",
    "            node.previous_node.next_node, node.next_node.previous_node = node.next_node, node.previous_node\n",
    "            del node\n",
    "            \n",
    "            return el\n",
    "        else:\n",
    "            i = 0\n",
    "            node = self.head\n",
    "            \n",
    "            while i != index:\n",
    "                node = node.previous_node\n",
    "                i+=1\n",
    "            el = node.element\n",
    "            node.previous_node.next_node, node.next_node.previous_node = node.next_node, node.previous_node\n",
    "            del node\n",
    "            \n",
    "            return el            \n",
    "        \n",
    "    def delete(self, index):\n",
    "        if self.head:\n",
    "            if index > self.length // 2:\n",
    "                el = self._del(index, reverse = True)\n",
    "    \n",
    "            elif index <= self.length // 2:\n",
    "                el = self._del(index, reverse=True)\n",
    "            self.length -= 1\n",
    "            return el\n",
    "    \n",
    "    def _assign(self, index, element,reverse=False): # ф-я для вставки новых элементов\n",
    "        if index == 0:\n",
    "            self.head.element = element\n",
    "        elif index == self.length-1:\n",
    "            self.tail.element=element\n",
    "            \n",
    "        elif reverse:\n",
    "            i = self.length - 1\n",
    "            node = self.tail \n",
    "            \n",
    "            while i != index:\n",
    "                node = node.previous_node\n",
    "                i-=1\n",
    "            node.element = element\n",
    "            \n",
    "        else:\n",
    "            i = 0\n",
    "            node = self.head\n",
    "            \n",
    "            while i != index:\n",
    "                node = node.previous_node\n",
    "                i+=1\n",
    "            node.element = element\n",
    "                    \n",
    "        \n",
    "    def assign(self, index, element):\n",
    "        if self.head:\n",
    "            if index > self.length // 2:\n",
    "                self._assign(index, element, reverse = True)\n",
    "    \n",
    "            elif index <= self.length // 2:\n",
    "                self._assign(index, element, reverse=True)\n",
    "            \n",
    "        \n",
    "    def __iter__(self):\n",
    "        node = self.head\n",
    "        \n",
    "        while node:\n",
    "            yield node.element\n",
    "            node = node.next_node\n",
    "            \n",
    "if __name__=='__main__':\n",
    "    dblist = DbList()\n",
    "    \n",
    "    dblist.add(4)\n",
    "    dblist.add(-3)\n",
    "    dblist.add(8)\n",
    "    dblist.add(10)\n",
    "    dblist.add(1)\n",
    "    \n",
    "    \n",
    "    dblist.assign(0,1000)\n",
    "    \n",
    "    for el in dblist:\n",
    "        print(el)"
   ]
  },
  {
   "cell_type": "code",
   "execution_count": null,
   "id": "181c413e",
   "metadata": {},
   "outputs": [],
   "source": []
  }
 ],
 "metadata": {
  "kernelspec": {
   "display_name": "Python 3 (ipykernel)",
   "language": "python",
   "name": "python3"
  },
  "language_info": {
   "codemirror_mode": {
    "name": "ipython",
    "version": 3
   },
   "file_extension": ".py",
   "mimetype": "text/x-python",
   "name": "python",
   "nbconvert_exporter": "python",
   "pygments_lexer": "ipython3",
   "version": "3.9.7"
  }
 },
 "nbformat": 4,
 "nbformat_minor": 5
}
