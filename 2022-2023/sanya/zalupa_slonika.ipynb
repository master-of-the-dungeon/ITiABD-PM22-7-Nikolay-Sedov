{
 "cells": [
  {
   "cell_type": "markdown",
   "source": [
    "Реализовать программное средство для представления IP адресов с\n",
    "десятичного и двоичного кодирования. В качестве входных данных задается\n",
    "десятичное представление IP адреса, программное средство выдает двоичное\n",
    "представление или пользователь может ввести двоичное представление IP\n",
    "адреса и получить десятичное представление.\n"
   ],
   "metadata": {
    "collapsed": false
   }
  },
  {
   "cell_type": "code",
   "execution_count": null,
   "outputs": [],
   "source": [
    "def decimal_to_binary(decimal_ip):\n",
    "    # Разбиение десятичного IP-адреса на отдельные числа\n",
    "    octets = list(map(int, decimal_ip.split('.')))\n",
    "\n",
    "    # Преобразование каждого числа в двоичный формат и объединение в строку\n",
    "    binary_ip = ''.join(format(octet, '08b') for octet in octets)\n",
    "\n",
    "    return binary_ip\n",
    "\n",
    "\n",
    "def binary_to_decimal(binary_ip):\n",
    "    # Разбиение двоичного IP-адреса на отдельные биты\n",
    "    bits = [binary_ip[i:i+8] for i in range(0, len(binary_ip), 8)]\n",
    "\n",
    "    # Преобразование каждого бита в десятичное число и объединение в строку\n",
    "    decimal_ip = '.'.join(str(int(bit, 2)) for bit in bits)\n",
    "\n",
    "    return decimal_ip\n",
    "\n",
    "\n",
    "# Пример использования\n",
    "decimal_ip = '192.168.0.1'\n",
    "binary_ip = decimal_to_binary(decimal_ip)\n",
    "print(f'Decimal IP: {decimal_ip}')\n",
    "print(f'Binary IP: {binary_ip}')\n",
    "\n",
    "binary_ip = '11000000.10101000.00000000.00000001'\n",
    "decimal_ip = binary_to_decimal(binary_ip)\n",
    "print(f'Binary IP: {binary_ip}')\n",
    "print(f'Decimal IP: {decimal_ip}')\n"
   ],
   "metadata": {
    "collapsed": false
   }
  },
  {
   "cell_type": "markdown",
   "source": [
    "Реализовать программное средство, способное определять класс сети,\n",
    "начальный и конечный адрес и маску подсети, на основании заданного IP\n",
    "адреса"
   ],
   "metadata": {
    "collapsed": false
   }
  },
  {
   "cell_type": "code",
   "execution_count": null,
   "outputs": [],
   "source": [
    "import ipaddress\n",
    "\n",
    "\n",
    "def get_network_info(ip_address):\n",
    "    # Создание объекта IPv4Network на основе заданного IP-адреса\n",
    "    network = ipaddress.IPv4Network(ip_address)\n",
    "\n",
    "    # Определение класса сети\n",
    "    if network.is_private:\n",
    "        network_class = 'Private'\n",
    "    elif network.is_reserved:\n",
    "        network_class = 'Reserved'\n",
    "    elif network.is_global:\n",
    "        network_class = 'Public'\n",
    "    else:\n",
    "        network_class = 'Unknown'\n",
    "\n",
    "    # Получение начального и конечного адреса сети\n",
    "    network_address = str(network.network_address)\n",
    "    broadcast_address = str(network.broadcast_address)\n",
    "\n",
    "    # Получение маски подсети\n",
    "    subnet_mask = str(network.netmask)\n",
    "\n",
    "    return network_class, network_address, broadcast_address, subnet_mask\n",
    "\n",
    "\n",
    "# Пример использования\n",
    "ip_address = '192.168.1.1'\n",
    "network_class, network_address, broadcast_address, subnet_mask = get_network_info(ip_address)\n",
    "print(f'IP address: {ip_address}')\n",
    "print(f'Network class: {network_class}')\n",
    "print(f'Network address: {network_address}')\n",
    "print(f'Broadcast address: {broadcast_address}')\n",
    "print(f'Subnet mask: {subnet_mask}')\n"
   ],
   "metadata": {
    "collapsed": false
   }
  },
  {
   "cell_type": "markdown",
   "source": [],
   "metadata": {
    "collapsed": false
   }
  },
  {
   "cell_type": "markdown",
   "source": [
    "Разработать программное средство, которое по заданной сети,\n",
    "количеству подсетей и хостов формирует: маску для проекта сети, а также\n",
    "определяет класс сетей, начало и конец сети, количество IP-адресов в сети,\n",
    "количество доступных IP-адресов в сети для назначения хостам, стек первых\n",
    "5 допустимых IP-адресов, стек последних 5 допустимых IP-адресов.\n",
    "Отчет оформляется в соответствии с требованиями:\n",
    "Наличие титульного листа;\n",
    "Наличие ручных вычислений по заданиям 1 и 2;\n",
    "Наличие программного решения заданий 3-6;\n",
    "Листинг программной реализации;\n",
    "Выводы."
   ],
   "metadata": {
    "collapsed": false
   }
  },
  {
   "cell_type": "code",
   "execution_count": null,
   "outputs": [],
   "source": [
    "import ipaddress\n",
    "\n",
    "\n",
    "def calculate_network_info(ip_address, num_subnets, num_hosts):\n",
    "    # Создание объекта IPv4Network на основе заданного IP-адреса и маски подсети\n",
    "    network = ipaddress.IPv4Network(ip_address)\n",
    "\n",
    "    # Определение класса сети\n",
    "    if network.is_private:\n",
    "        network_class = 'Private'\n",
    "    elif network.is_reserved:\n",
    "        network_class = 'Reserved'\n",
    "    elif network.is_global:\n",
    "        network_class = 'Public'\n",
    "    else:\n",
    "        network_class = 'Unknown'\n",
    "\n",
    "    # Вычисление маски подсети на основе заданного количества подсетей и хостов\n",
    "    subnet_bits = num_subnets.bit_length() - 1\n",
    "    host_bits = num_hosts.bit_length() - 1\n",
    "    total_bits = subnet_bits + host_bits\n",
    "    subnet_mask = ipaddress.IPv4Address(2**total_bits - 1 << (32 - total_bits))\n",
    "\n",
    "    # Создание объекта IPv4Network на основе новой маски подсети\n",
    "    new_network = ipaddress.IPv4Network(f'{ip_address}/{subnet_mask}')\n",
    "\n",
    "    # Получение начального и конечного адреса сети\n",
    "    network_address = str(new_network.network_address)\n",
    "    broadcast_address = str(new_network.broadcast_address)\n",
    "\n",
    "    # Получение количества IP-адресов в сети и доступных для назначения хостам\n",
    "    num_addresses = new_network.num_addresses\n",
    "    num_usable_addresses = num_addresses - 2\n",
    "\n",
    "    # Создание стека первых и последних 5 допустимых IP-адресов\n",
    "    first_five_addresses = [str(new_network.network_address + i) for i in range(1, 6)]\n",
    "    last_five_addresses = [str(new_network.broadcast_address - i) for i in range(1, 6)]\n",
    "\n",
    "    return subnet_mask, network_class, network_address, broadcast_address, num_addresses, num_usable_addresses, first_five_addresses, last_five_addresses\n",
    "\n",
    "\n",
    "# Пример использования\n",
    "ip_address = '192.168.1.0'\n",
    "num_subnets = 4\n",
    "num_hosts = 60\n",
    "subnet_mask, network_class, network_address, broadcast_address, num_addresses, num_usable_addresses, first_five_addresses, last_five_addresses = calculate_network_info(ip_address, num_subnets, num_hosts)\n",
    "\n",
    "print(f'IP address: {ip_address}')\n",
    "print(f'Subnet mask: {subnet_mask}')\n",
    "print(f'Network class: {network_class}')\n",
    "print(f'Network address: {network_address}')\n",
    "print(f'Broadcast address: {broadcast_address}')\n",
    "print(f'Number of addresses: {num\n"
   ],
   "metadata": {
    "collapsed": false
   }
  },
  {
   "cell_type": "markdown",
   "source": [],
   "metadata": {
    "collapsed": false
   }
  }
 ],
 "metadata": {
  "kernelspec": {
   "display_name": "Python 3",
   "language": "python",
   "name": "python3"
  },
  "language_info": {
   "codemirror_mode": {
    "name": "ipython",
    "version": 2
   },
   "file_extension": ".py",
   "mimetype": "text/x-python",
   "name": "python",
   "nbconvert_exporter": "python",
   "pygments_lexer": "ipython2",
   "version": "2.7.6"
  }
 },
 "nbformat": 4,
 "nbformat_minor": 0
}
