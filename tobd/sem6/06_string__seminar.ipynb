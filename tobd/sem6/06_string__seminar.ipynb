{
 "cells": [
  {
   "cell_type": "markdown",
   "metadata": {
    "id": "Q6DuOohnbI9o"
   },
   "source": [
    "# Работа со строковыми значениями"
   ]
  },
  {
   "cell_type": "markdown",
   "metadata": {
    "id": "mkQykT77bI9y"
   },
   "source": [
    "__Автор задач: Блохин Н.В. (NVBlokhin@fa.ru)__\n",
    "\n",
    "Материалы:\n",
    "* Макрушин С.В. Лекция \"Работа со строковыми значениям\"\n",
    "* https://pyformat.info/\n",
    "* https://docs.python.org/3/library/re.html\n",
    "    * https://docs.python.org/3/library/re.html#flags\n",
    "    * https://docs.python.org/3/library/re.html#functions\n",
    "* https://pythonru.com/primery/primery-primeneniya-regulyarnyh-vyrazheniy-v-python\n",
    "* https://kanoki.org/2019/11/12/how-to-use-regex-in-pandas/\n",
    "* https://realpython.com/nltk-nlp-python/"
   ]
  },
  {
   "cell_type": "markdown",
   "metadata": {
    "id": "mZH-MHsSbI90"
   },
   "source": [
    "## Задачи для совместного разбора"
   ]
  },
  {
   "cell_type": "markdown",
   "metadata": {
    "id": "oFG8UPhDbI91"
   },
   "source": [
    "1. Вывести на экран данные из словаря `obj` построчно в виде `k = v`, задав формат таким образом, чтобы знак равенства оказался на одной и той же позиции во всех строках. Строковые литералы обернуть в кавычки."
   ]
  },
  {
   "cell_type": "code",
   "execution_count": 2,
   "metadata": {
    "id": "cArMA6nibI92",
    "ExecuteTime": {
     "start_time": "2023-05-03T14:26:20.175781Z",
     "end_time": "2023-05-03T14:26:20.190166Z"
    }
   },
   "outputs": [
    {
     "name": "stdout",
     "output_type": "stream",
     "text": [
      "home_page = 'https://github.com/pypa/sampleproject'\n",
      "keywords  = 'sample setuptools development'\n",
      "license   = 'MIT'\n"
     ]
    }
   ],
   "source": [
    "obj = {\n",
    "    \"home_page\": \"https://github.com/pypa/sampleproject\",\n",
    "    \"keywords\": \"sample setuptools development\",\n",
    "    \"license\": \"MIT\",\n",
    "}\n",
    "\n",
    "max_key_length = max(len(k) for k in obj.keys())  # находим максимальную длину ключа\n",
    "\n",
    "for k, v in obj.items():\n",
    "    key = \"{} \".format(k).ljust(max_key_length + 1, \" \")  # выравниваем ключ по ширине\n",
    "    print(\"{}= {}\".format(key, repr(v)))\n"
   ]
  },
  {
   "cell_type": "markdown",
   "metadata": {
    "id": "bb00lCjTbI95"
   },
   "source": [
    "2. Написать регулярное выражение,которое позволит найти номера групп студентов.\n",
    "\n",
    "\"Евгения гр.ПМ19-1\", \"Илья пм 20-4\", \"Анна 20-3\""
   ]
  },
  {
   "cell_type": "code",
   "execution_count": 10,
   "outputs": [
    {
     "name": "stdout",
     "output_type": "stream",
     "text": [
      "  group     name\n",
      "0  19-1  Евгения\n",
      "1  20-4     Илья\n",
      "2  20-3     Анна\n"
     ]
    }
   ],
   "source": [
    "import pandas as pd\n",
    "import re\n",
    "\n",
    "data = {\n",
    "    \"name\": [\"Евгения гр.ПМ 19-1\", \"Илья пм 20-4\", \"Анна 20-3\"],\n",
    "}\n",
    "\n",
    "df = pd.DataFrame(data)\n",
    "\n",
    "# Создание нового DataFrame с столбцами \"group\" и \"name\"\n",
    "df_new = pd.DataFrame()\n",
    "df_new[\"group\"] = df[\"name\"].apply(lambda x: re.findall(r\"\\b\\d{2}-\\d\\b\", x)[0] if re.findall(r\"\\b\\d{2}-\\d\\b\", x) else \"\")\n",
    "df_new[\"name\"] = df[\"name\"].apply(lambda x: re.findall(r\"([А-Яа-я]+)\", x)[0] if re.findall(r\"([А-Яа-я]+)\", x) else \"\")\n",
    "\n",
    "print(df_new)\n"
   ],
   "metadata": {
    "collapsed": false,
    "ExecuteTime": {
     "start_time": "2023-05-03T12:18:46.488518Z",
     "end_time": "2023-05-03T12:18:46.498638Z"
    }
   }
  },
  {
   "cell_type": "markdown",
   "metadata": {
    "id": "YFO0O5p9bI98"
   },
   "source": [
    "3. Разбейте текст формулировки задачи 2 на слова."
   ]
  },
  {
   "cell_type": "code",
   "execution_count": 7,
   "outputs": [
    {
     "name": "stdout",
     "output_type": "stream",
     "text": [
      "['Написать', 'регулярное', 'выражение', 'которое', 'позволит', 'найти', 'номера', 'групп', 'студентов']\n"
     ]
    }
   ],
   "source": [
    "import re\n",
    "\n",
    "text = 'Написать регулярное выражение,которое позволит найти номера групп студентов.'\n",
    "\n",
    "# Определение регулярного выражения для разбиения текста на слова\n",
    "pattern = r\"\\b\\w+\\b\"\n",
    "\n",
    "# Разбиение текста на слова с помощью регулярного выражения\n",
    "words = re.findall(pattern, text)\n",
    "\n",
    "print(words)\n"
   ],
   "metadata": {
    "collapsed": false,
    "ExecuteTime": {
     "start_time": "2023-05-03T14:31:25.252880Z",
     "end_time": "2023-05-03T14:31:25.268931Z"
    }
   }
  },
  {
   "cell_type": "markdown",
   "source": [
    "4. Найдите в тексте все последовательности 'вол', 'воз', 'вон': \"вол, воз, вон. \n",
    "вол воБ во8 воз вок вог во4 воХ во! воь вон\" (От Калажоков З.Х.)"
   ],
   "metadata": {
    "id": "iEWDmFyeS_JG"
   }
  },
  {
   "cell_type": "code",
   "execution_count": 8,
   "outputs": [
    {
     "name": "stdout",
     "output_type": "stream",
     "text": [
      "['во', 'во', 'во', 'во', 'во', 'во', 'во', 'во', 'во', 'во', 'во', 'во! ', 'во', 'во']\n"
     ]
    }
   ],
   "source": [
    "import re\n",
    "\n",
    "text = \"вол, воз, вон. вол воБ во8 воз вок вог во4 воХ во! воь вон\"\n",
    "\n",
    "# Определение регулярного выражения для поиска последовательностей \"вол\", \"воз\" и \"вон\"\n",
    "pattern = r\"в[олзн][\\s\\W_]*\"\n",
    "\n",
    "# Поиск всех совпадений с помощью регулярного выражения\n",
    "matches = re.findall(pattern, text)\n",
    "\n",
    "print(matches)\n"
   ],
   "metadata": {
    "collapsed": false,
    "ExecuteTime": {
     "start_time": "2023-05-03T14:31:52.896958Z",
     "end_time": "2023-05-03T14:31:52.916609Z"
    }
   }
  },
  {
   "cell_type": "markdown",
   "source": [
    "5. Напишите регулярное выражение, которое найдёт все кабинеты с трёхзначным номером: 100 - 999 в строке \n",
    "\n",
    "'147 кабинет 843 кабинет 010 кабинет 514 кабинет 99 кабинет 246 кабинет 572 кабинет'. \n",
    "\n",
    "Шаблон кабинета: ddd кабинет, где d - арабская цифра. (От Калажоков З.Х.)"
   ],
   "metadata": {
    "id": "qP1cV6uTBK9S"
   }
  },
  {
   "cell_type": "code",
   "execution_count": 9,
   "outputs": [
    {
     "name": "stdout",
     "output_type": "stream",
     "text": [
      "['147 кабинет', '843 кабинет', '010 кабинет', '514 кабинет', '246 кабинет', '572 кабинет']\n"
     ]
    }
   ],
   "source": [
    "import re\n",
    "\n",
    "text = '147 кабинет 843 кабинет 010 кабинет 514 кабинет 99 кабинет 246 кабинет 572 кабинет'\n",
    "\n",
    "# Определение регулярного выражения для поиска кабинетов с трехзначными номерами\n",
    "pattern = r\"\\b\\d{3}\\sкабинет\\b\"\n",
    "\n",
    "# Поиск всех совпадений с помощью регулярного выражения\n",
    "matches = re.findall(pattern, text)\n",
    "\n",
    "print(matches)\n"
   ],
   "metadata": {
    "collapsed": false,
    "ExecuteTime": {
     "start_time": "2023-05-03T14:32:17.354471Z",
     "end_time": "2023-05-03T14:32:17.392715Z"
    }
   }
  },
  {
   "cell_type": "code",
   "execution_count": null,
   "outputs": [],
   "source": [],
   "metadata": {
    "collapsed": false
   }
  }
 ],
 "metadata": {
  "kernelspec": {
   "display_name": "Python 3 (ipykernel)",
   "language": "python",
   "name": "python3"
  },
  "language_info": {
   "codemirror_mode": {
    "name": "ipython",
    "version": 3
   },
   "file_extension": ".py",
   "mimetype": "text/x-python",
   "name": "python",
   "nbconvert_exporter": "python",
   "pygments_lexer": "ipython3",
   "version": "3.9.7"
  },
  "colab": {
   "provenance": []
  }
 },
 "nbformat": 4,
 "nbformat_minor": 0
}
