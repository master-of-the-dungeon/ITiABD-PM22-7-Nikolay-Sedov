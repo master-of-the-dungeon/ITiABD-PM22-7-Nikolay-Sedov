{
 "nbformat": 4,
 "nbformat_minor": 0,
 "metadata": {
  "colab": {
   "provenance": []
  },
  "kernelspec": {
   "name": "python3",
   "display_name": "Python 3"
  },
  "language_info": {
   "name": "python"
  }
 },
 "cells": [
  {
   "cell_type": "code",
   "execution_count": 1,
   "outputs": [],
   "source": [
    "import numpy as np\n",
    "import sympy as sp\n",
    "import random\n",
    "sp.init_printing()"
   ],
   "metadata": {
    "collapsed": false
   }
  },
  {
   "cell_type": "markdown",
   "source": [
    "1. Создать в numpy матрицу 11 на 7 вида: [[1, 2, 3, ..., 7], [11, 12, 13, ..., 17], [21, 22, 23, ..., 27], ..., [101, 102, 103, ..., 107]]"
   ],
   "metadata": {
    "id": "vXXK68tBIBsu"
   }
  },
  {
   "cell_type": "markdown",
   "source": [],
   "metadata": {
    "collapsed": false
   }
  },
  {
   "cell_type": "code",
   "execution_count": 15,
   "outputs": [
    {
     "data": {
      "text/plain": "array([[  1,   2,   3,   4,   5,   6,   7],\n       [ 11,  12,  13,  14,  15,  16,  17],\n       [ 21,  22,  23,  24,  25,  26,  27],\n       [ 31,  32,  33,  34,  35,  36,  37],\n       [ 41,  42,  43,  44,  45,  46,  47],\n       [ 51,  52,  53,  54,  55,  56,  57],\n       [ 61,  62,  63,  64,  65,  66,  67],\n       [ 71,  72,  73,  74,  75,  76,  77],\n       [ 81,  82,  83,  84,  85,  86,  87],\n       [ 91,  92,  93,  94,  95,  96,  97],\n       [101, 102, 103, 104, 105, 106, 107]])"
     },
     "execution_count": 15,
     "metadata": {},
     "output_type": "execute_result"
    }
   ],
   "source": [
    "# A = np.array([[i for i in range(j,j+7)]for j in range(1,100)])\n",
    "A = np.array([range(i, i + 7) for i in [1,11, 21,31,41,51,61,71,81,91,101]])\n",
    "A"
   ],
   "metadata": {
    "collapsed": false
   }
  },
  {
   "cell_type": "markdown",
   "source": [
    "2. Средствами numpy рассчитать произведения четных чисел от 2 до 20 на ближайшие к ним бОльшие нечетные числа."
   ],
   "metadata": {
    "id": "TCiyGJFeII-w"
   }
  },
  {
   "cell_type": "code",
   "execution_count": 22,
   "outputs": [
    {
     "name": "stdout",
     "output_type": "stream",
     "text": [
      "[6, 20, 42, 72, 110, 156, 210, 272, 342, 420]\n"
     ]
    }
   ],
   "source": [
    "a = []\n",
    "for i in range(2,22,2):\n",
    "    a.append(i*(i+1))\n",
    "print(a)"
   ],
   "metadata": {
    "collapsed": false
   }
  },
  {
   "cell_type": "markdown",
   "source": [
    "3. Создать две матрицы 30 на 3 из случайных целых чисел из диапазона от 0 до 10 и найти все значения первой матрицы, которые больше соответсвующих (по расположению) значений второй матрицы. Подсчитать сумму этих значений."
   ],
   "metadata": {
    "id": "Da0PFZ6xIQ0J"
   }
  },
  {
   "cell_type": "code",
   "execution_count": 19,
   "outputs": [
    {
     "data": {
      "text/plain": "array([[ 4,  9,  8],\n       [ 6,  3,  2],\n       [ 6,  3,  7],\n       [10,  9,  8],\n       [ 8,  5,  4],\n       [ 6,  1,  6],\n       [ 6,  1,  6],\n       [ 4,  4, 10],\n       [ 7,  3,  5],\n       [ 3,  3,  4],\n       [10,  2,  1],\n       [ 8,  7,  3],\n       [ 2,  4,  6],\n       [ 3,  1,  8],\n       [ 3,  3,  3],\n       [ 6,  9,  3],\n       [ 5,  3,  2],\n       [ 4,  8,  6],\n       [ 9,  1, 10],\n       [ 9,  1,  5],\n       [ 4,  1,  5],\n       [ 6,  9,  3],\n       [ 3, 10,  5],\n       [ 1,  1,  4],\n       [ 9,  3,  2],\n       [ 1,  7, 10],\n       [ 8, 10, 10],\n       [ 5,  5,  7],\n       [ 1,  3,  5],\n       [ 7,  3,  1]])"
     },
     "execution_count": 19,
     "metadata": {},
     "output_type": "execute_result"
    }
   ],
   "source": [
    "A = np.array([[random.randint(1,10) for i in range(3)] for j in range(30)])\n",
    "B = np.array([[random.randint(1,10) for i in range(3)] for j in range(30)])\n"
   ],
   "metadata": {
    "collapsed": false
   }
  },
  {
   "cell_type": "markdown",
   "source": [
    "4. Написать функцию, которая для целых значений n и m будет возвращать матрицу размера n на m, заполненную текстурой размера 2 на 2 состоящей из следующий значений:\n",
    "\n",
    "```\n",
    "0 1\n",
    "\n",
    "2 3\n",
    "\n",
    "```\n",
    "\n",
    "Пример для n=5 и m = 4:\n",
    "\n",
    "```\n",
    "0 1 0 1 0\n",
    "\n",
    "2 3 2 3 2\n",
    "\n",
    "0 1 0 1 0\n",
    "\n",
    "2 3 2 3 2\n",
    "```"
   ],
   "metadata": {
    "id": "An-oecFIIZjR"
   }
  },
  {
   "cell_type": "code",
   "execution_count": 5,
   "outputs": [
    {
     "data": {
      "text/plain": "array([[0, 1, 0, 1, 0],\n       [2, 3, 2, 3, 2],\n       [0, 1, 0, 1, 0],\n       [2, 3, 2, 3, 2]])"
     },
     "execution_count": 5,
     "metadata": {},
     "output_type": "execute_result"
    }
   ],
   "source": [
    "np.array([[i%2 + (j%2)*2 for i in range(5)] for j in range(4)])"
   ],
   "metadata": {
    "collapsed": false
   }
  },
  {
   "cell_type": "markdown",
   "source": [
    "5. При помощи прихотливого индексирования для двухмерного массива размерности (20, 20), состоящего из случайных целых чисел в пределах от 0 до 10 получить массив элементов находящихся на диагонали, проходящей над основной диагональю."
   ],
   "metadata": {
    "id": "9Q7KhJeWIhnY"
   }
  },
  {
   "cell_type": "code",
   "execution_count": 6,
   "outputs": [
    {
     "data": {
      "text/plain": "array([[ 6,  6,  4,  1,  3,  9,  9,  0,  7, 10, 10,  4,  5,  5,  5, 10,\n         3,  8,  3, 10],\n       [ 4,  6, 10,  8, 10,  9,  3,  2,  5, 10,  1,  2,  0,  1,  2,  1,\n         4, 10,  0,  1],\n       [ 2,  7,  4,  2,  3,  2,  5,  1,  1,  9,  4,  4,  6,  8,  9,  5,\n         4,  5,  3,  0],\n       [ 2,  8,  0,  1,  6,  7,  5, 10,  6,  5,  5,  3,  8,  9,  5,  7,\n        10,  1,  9,  7],\n       [ 9,  4,  9,  3,  1,  4,  4,  3,  5,  0,  8,  6,  2,  3,  2,  4,\n        10,  9,  2,  9],\n       [ 1,  1,  3,  1,  0, 10, 10,  4,  8,  5,  4,  5,  6,  7,  6,  0,\n         4,  1,  8, 10],\n       [10, 10, 10,  2, 10,  1,  1,  7,  1,  8, 10,  0,  5,  1, 10,  1,\n         8,  5,  4,  4],\n       [ 1,  9,  3,  2,  8,  6,  3,  4,  7,  1, 10,  3,  0, 10,  1,  0,\n         8,  7,  8,  0],\n       [10,  3, 10,  7,  8, 10,  4,  8,  2,  6,  2,  2,  3,  1,  5,  7,\n         4, 10,  6,  4],\n       [ 3,  7,  9,  5,  5,  7,  4,  1,  8,  0,  6,  7,  5,  0,  9,  1,\n         8,  7, 10,  6],\n       [ 7,  7,  4,  3,  9, 10,  2,  0,  5,  6,  5,  3, 10,  3,  5,  1,\n         2,  7,  7,  5],\n       [ 9, 10,  6,  2,  3,  7,  1,  4,  2,  5,  9,  6,  1, 10,  4,  3,\n         7,  5, 10,  6],\n       [ 8,  0,  5,  8,  7,  7,  8,  7,  8,  6,  0,  8,  5,  8,  4,  8,\n         4,  5, 10,  8],\n       [ 8,  2,  4, 10,  0,  9,  6,  7,  3,  0,  6,  7,  3,  6,  3,  0,\n         7,  6,  0,  9],\n       [ 5,  8,  5,  7,  1,  9,  0,  7,  2,  0,  9,  3,  9,  6, 10,  2,\n         7,  3,  8,  3],\n       [ 8,  1,  9, 10,  1,  2,  8,  2,  9,  8,  8,  5,  4, 10,  4,  1,\n         0,  7,  6,  1],\n       [ 9,  7,  9,  9,  5,  0,  6,  8,  0,  7,  6,  0,  0,  8, 10,  0,\n         5,  2,  1,  5],\n       [ 8,  6,  6,  4,  3, 10, 10,  2,  5,  5,  6,  0,  1,  4,  8,  0,\n         3,  0,  6,  1],\n       [ 3,  5,  9,  7,  4,  1,  6,  9,  4, 10,  4, 10, 10,  0,  7,  6,\n         4,  6,  9,  2],\n       [ 1,  5,  4,  5,  6,  2,  0,  1,  8, 10,  5,  5,  8,  9, 10,  8,\n        10,  8,  8,  5]])"
     },
     "execution_count": 6,
     "metadata": {},
     "output_type": "execute_result"
    }
   ],
   "source": [
    "A = np.array([[random.randint(0,10) for i in range(20)] for j in range(20)])\n",
    "A"
   ],
   "metadata": {
    "collapsed": false
   }
  },
  {
   "cell_type": "markdown",
   "source": [
    "6. Имеется массив из 10 названий городов. При помощи прихотливой индексации сгенерировать последовательность из 100 элементов представляющих случайный выбор из названий городов."
   ],
   "metadata": {
    "id": "KQXVWIgHIz1Y"
   }
  },
  {
   "cell_type": "code",
   "execution_count": 7,
   "outputs": [
    {
     "data": {
      "text/plain": "array(['Madrid', 'Paris', 'Madrid', 'Warsaw', 'Madrid', 'Budapest',\n       'Prague', 'Rome', 'Moscow', 'Rome', 'Moscow', 'Madrid', 'Warsaw',\n       'Moscow', 'Madrid', 'Budapest', 'Budapest', 'Budapest', 'Warsaw',\n       'Moscow', 'Madrid', 'Madrid', 'London', 'London', 'Budapest',\n       'Prague', 'Berlin', 'London', 'Berlin', 'Vienna', 'Madrid',\n       'Berlin', 'Rome', 'Berlin', 'Prague', 'Warsaw', 'Moscow', 'Prague',\n       'Madrid', 'Vienna', 'Rome', 'Madrid', 'Madrid', 'Rome', 'Prague',\n       'Warsaw', 'Rome', 'Moscow', 'Moscow', 'London', 'Madrid', 'Warsaw',\n       'Rome', 'Rome', 'London', 'London', 'Rome', 'Berlin', 'Rome',\n       'Prague', 'Moscow', 'London', 'Budapest', 'Madrid', 'Paris',\n       'Rome', 'Vienna', 'Paris', 'Berlin', 'Prague', 'Paris', 'Warsaw',\n       'Berlin', 'Rome', 'Moscow', 'Rome', 'Madrid', 'Rome', 'Moscow',\n       'Prague', 'Rome', 'Vienna', 'Prague', 'Prague', 'Moscow', 'Warsaw',\n       'Rome', 'Berlin', 'Berlin', 'Warsaw', 'Berlin', 'Paris', 'Berlin',\n       'Warsaw', 'Warsaw', 'Vienna', 'Madrid', 'Vienna', 'Berlin', 'Rome'],\n      dtype='<U8')"
     },
     "execution_count": 7,
     "metadata": {},
     "output_type": "execute_result"
    }
   ],
   "source": [
    "np.random.choice(['Moscow', 'London', 'Paris', 'Berlin', 'Madrid', 'Rome', 'Prague', 'Vienna', 'Warsaw', 'Budapest'], 100)"
   ],
   "metadata": {
    "collapsed": false
   }
  },
  {
   "cell_type": "markdown",
   "source": [
    "7. Используя как можно меньше операций в исходном массиве \"шахматная доска\" np.zeros((8,8)) добиться расставки кодов \"шахматных фигур\".\n",
    "\n",
    "Ожидаемый результат:\n",
    "\n",
    "```\n",
    "[[-4., -3., -2., -6., -5., -2., -3., -4.],\n",
    " [-1., -1., -1., -1., -1., -1., -1., -1.],\n",
    " [0., 0., 0., 0., 0., 0., 0., 0.],\n",
    " [0., 0., 0., 0., 0., 0., 0., 0.],\n",
    " [0., 0., 0., 0., 0., 0., 0., 0.],\n",
    " [0., 0., 0., 0., 0., 0., 0., 0.],\n",
    " [1., 1., 1., 1., 1., 1., 1., 1.],\n",
    " [4., 3., 2., 6., 5., 2., 3., 4.]]\n",
    "\n",
    "```"
   ],
   "metadata": {
    "id": "OlFjDC2WJATi"
   }
  },
  {
   "cell_type": "code",
   "execution_count": 8,
   "outputs": [
    {
     "data": {
      "text/plain": "array([[0., 0., 0., 0., 0., 0., 0., 0.],\n       [0., 0., 0., 0., 0., 0., 0., 0.],\n       [0., 0., 0., 0., 0., 0., 0., 0.],\n       [0., 0., 0., 0., 0., 0., 0., 0.],\n       [0., 0., 0., 0., 0., 0., 0., 0.],\n       [0., 0., 0., 0., 0., 0., 0., 0.],\n       [0., 0., 0., 0., 0., 0., 0., 0.],\n       [0., 0., 0., 0., 0., 0., 0., 0.]])"
     },
     "execution_count": 8,
     "metadata": {},
     "output_type": "execute_result"
    }
   ],
   "source": [
    "np.zeros((8,8))\n"
   ],
   "metadata": {
    "collapsed": false
   }
  },
  {
   "cell_type": "markdown",
   "source": [
    "8. Создать двухмерный массив 20 на 3, содержащийслучайные целые числа от 0 до 100. Интерпретируя массив как 20 векторов из 3х компонент, отсортировать массив по длине векторов."
   ],
   "metadata": {
    "id": "EQWjdSWGP1b4"
   }
  },
  {
   "cell_type": "markdown",
   "source": [
    "9. Создать в numpy матрицу 11 на 7 вида: [[1, 2, 3, ..., 7], [11, 12, 13, ..., 17], [21, 22, 23, ..., 27], ..., [101, 102, 103, ..., 107]]. При решении задачи применить технику распространения."
   ],
   "metadata": {
    "id": "uRv_VnLzUEPY"
   }
  },
  {
   "cell_type": "markdown",
   "source": [
    "10. Создать массив из 20 случайных целых чисел от 0 до 100. Получить второе сверху значение в массиве. Опредлить индекс этого значения."
   ],
   "metadata": {
    "id": "9QdoGMzrgIVM"
   }
  },
  {
   "cell_type": "markdown",
   "source": [
    "11. Задан произвольный массив numpy (например массив из 100 случайных числе от 0 до 1). Необходимо найти в нем число наиболее близкое к заданному."
   ],
   "metadata": {
    "id": "vvY8iKgwDPsM"
   }
  },
  {
   "cell_type": "markdown",
   "source": [
    "12. Задать два двухмерных массива ar1 и ar2 размерности (4, 7), состоящих из случайных целых чисел в пределах от 0 до 10. Построить двухмерный массив размерности (4, 7), каждый элемент которого представляет собой максиум из двух значений, находящихся на аналогичной позиции в массивах ar1, ar2."
   ],
   "metadata": {
    "id": "_UGKlso3HaVE"
   }
  }
 ]
}
