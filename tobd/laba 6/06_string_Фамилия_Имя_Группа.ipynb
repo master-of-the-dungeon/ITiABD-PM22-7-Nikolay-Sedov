{
 "cells": [
  {
   "cell_type": "markdown",
   "metadata": {
    "id": "Q6DuOohnbI9o"
   },
   "source": [
    "# Работа со строковыми значениями"
   ]
  },
  {
   "cell_type": "markdown",
   "metadata": {
    "id": "mkQykT77bI9y"
   },
   "source": [
    "__Автор задач: Блохин Н.В. (NVBlokhin@fa.ru)__\n",
    "\n",
    "Материалы:\n",
    "* Макрушин С.В. Лекция \"Работа со строковыми значениям\"\n",
    "* https://pyformat.info/\n",
    "* https://docs.python.org/3/library/re.html\n",
    "    * https://docs.python.org/3/library/re.html#flags\n",
    "    * https://docs.python.org/3/library/re.html#functions\n",
    "* https://pythonru.com/primery/primery-primeneniya-regulyarnyh-vyrazheniy-v-python\n",
    "* https://kanoki.org/2019/11/12/how-to-use-regex-in-pandas/\n",
    "* https://realpython.com/nltk-nlp-python/"
   ]
  },
  {
   "cell_type": "markdown",
   "metadata": {
    "id": "mZH-MHsSbI90"
   },
   "source": [
    "## Задачи для совместного разбора"
   ]
  },
  {
   "cell_type": "markdown",
   "metadata": {
    "id": "oFG8UPhDbI91"
   },
   "source": [
    "1. Вывести на экран данные из словаря `obj` построчно в виде `k = v`, задав формат таким образом, чтобы знак равенства оказался на одной и той же позиции во всех строках. Строковые литералы обернуть в кавычки."
   ]
  },
  {
   "cell_type": "code",
   "execution_count": null,
   "metadata": {
    "id": "cArMA6nibI92"
   },
   "outputs": [],
   "source": [
    "obj = {\n",
    "    \"home_page\": \"https://github.com/pypa/sampleproject\",\n",
    "    \"keywords\": \"sample setuptools development\",\n",
    "    \"license\": \"MIT\",\n",
    "}"
   ]
  },
  {
   "cell_type": "markdown",
   "metadata": {
    "id": "bb00lCjTbI95"
   },
   "source": [
    "2. Написать регулярное выражение,которое позволит найти номера групп студентов."
   ]
  },
  {
   "cell_type": "code",
   "execution_count": null,
   "metadata": {
    "id": "uxMp9UHweO7S"
   },
   "outputs": [],
   "source": [
    "obj = pd.Series([\"Евгения гр.ПМ19-1\", \"Илья пм 20-4\", \"Анна 20-3\"])"
   ]
  },
  {
   "cell_type": "markdown",
   "metadata": {
    "id": "YFO0O5p9bI98"
   },
   "source": [
    "3. Разбейте текст формулировки задачи 2 на слова."
   ]
  },
  {
   "cell_type": "markdown",
   "source": [
    "4. Найдите в тексте все последовательности: \"вол, воз, вон\".\n",
    " \n",
    "Текст: \"вол воБ во8 воз вок вог во4 воХ во! воь вон\" (От Калажоков З.Х.)"
   ],
   "metadata": {
    "id": "iEWDmFyeS_JG"
   }
  },
  {
   "cell_type": "markdown",
   "source": [
    "5. Напишите регулярное выражение, которое найдёт все кабинеты с трёхзначным номером: 100 - 999 в строке \n",
    "\n",
    "'147 кабинет 843 кабинет 010 кабинет 514 кабинет 99 кабинет 246 кабинет 572 кабинет'. \n",
    "\n",
    "Шаблон кабинета: ddd кабинет, где d - арабская цифра. (От Калажоков З.Х.)"
   ],
   "metadata": {
    "id": "qP1cV6uTBK9S"
   }
  },
  {
   "cell_type": "markdown",
   "metadata": {
    "id": "NgIjzxJpbI99"
   },
   "source": [
    "## Лабораторная работа 6"
   ]
  },
  {
   "cell_type": "markdown",
   "metadata": {
    "id": "Lyo7aoo6bI9-"
   },
   "source": [
    "### Форматирование строк"
   ]
  },
  {
   "cell_type": "markdown",
   "metadata": {
    "id": "rryjdgmzbI9-"
   },
   "source": [
    "1\\. Загрузите данные из файла `recipes_sample.csv` (__ЛР2__) в виде `pd.DataFrame` `recipes` При помощи форматирования строк выведите информацию об id рецепта и времени выполнения 5 случайных рецептов в виде таблицы следующего вида:\n",
    "\n",
    "    \n",
    "    |      id      |  minutes  |\n",
    "    |--------------------------|\n",
    "    |    61178     |    65     |\n",
    "    |    202352    |    80     |\n",
    "    |    364322    |    150    |\n",
    "    |    26177     |    20     |\n",
    "    |    224785    |    35     |\n",
    "    \n",
    "Обратите внимание, что ширина столбцов заранее неизвестна и должна рассчитываться динамически, в зависимости от тех данных, которые были выбраны."
   ]
  },
  {
   "cell_type": "code",
   "execution_count": 2,
   "outputs": [
    {
     "name": "stdout",
     "output_type": "stream",
     "text": [
      "+--------+-----------+\n",
      "|     id |   minutes |\n",
      "+========+===========+\n",
      "| 301469 |        35 |\n",
      "+--------+-----------+\n",
      "| 274810 |        30 |\n",
      "+--------+-----------+\n",
      "| 348024 |        60 |\n",
      "+--------+-----------+\n",
      "|  98566 |       150 |\n",
      "+--------+-----------+\n",
      "| 397334 |        90 |\n",
      "+--------+-----------+\n"
     ]
    }
   ],
   "source": [
    "import pandas as pd\n",
    "from tabulate import tabulate\n",
    "\n",
    "# Загрузка данных из CSV-файла\n",
    "recipes = pd.read_csv('recipes_sample.csv')\n",
    "\n",
    "# Выбор случайных рецептов\n",
    "random_recipes = recipes.sample(n=5)\n",
    "\n",
    "# Создание списка списков для вывода таблицы\n",
    "table_data = []\n",
    "for _, recipe in random_recipes.iterrows():\n",
    "    table_data.append([recipe['id'], recipe['minutes']])\n",
    "\n",
    "# Вывод таблицы с помощью модуля tabulate\n",
    "table_headers = ['id', 'minutes']\n",
    "print(tabulate(table_data, headers=table_headers, tablefmt=\"grid\"))\n"
   ],
   "metadata": {
    "collapsed": false,
    "ExecuteTime": {
     "start_time": "2023-05-03T14:37:58.016144Z",
     "end_time": "2023-05-03T14:37:58.242354Z"
    }
   }
  },
  {
   "cell_type": "markdown",
   "metadata": {
    "id": "octEFN_7bI9_"
   },
   "source": [
    "2\\. Напишите функцию `show_info`, которая по данным о рецепте создает строку (в смысле объекта python) с описанием следующего вида:\n",
    "\n",
    "```\n",
    "\"Название Из Нескольких Слов\"\n",
    "\n",
    "1. Шаг 1\n",
    "2. Шаг 2\n",
    "----------\n",
    "Автор: contributor_id\n",
    "Среднее время приготовления: minutes минут\n",
    "```\n",
    "\n",
    "    \n",
    "Данные для создания строки получите из файлов `recipes_sample.csv` (__ЛР2__) и `steps_sample.xml` (__ЛР3__). \n",
    "Вызовите данную функцию для рецепта с id `170895` и выведите (через `print`) полученную строку на экран."
   ]
  },
  {
   "cell_type": "code",
   "execution_count": 8,
   "metadata": {
    "id": "hmL9ZZvbbI-A",
    "outputId": "d3456096-622b-41df-d572-14650ab7df98"
   },
   "outputs": [
    {
     "ename": "KeyError",
     "evalue": "'recipe_id'",
     "output_type": "error",
     "traceback": [
      "\u001B[1;31m---------------------------------------------------------------------------\u001B[0m",
      "\u001B[1;31mKeyError\u001B[0m                                  Traceback (most recent call last)",
      "Cell \u001B[1;32mIn[8], line 36\u001B[0m\n\u001B[0;32m     34\u001B[0m steps \u001B[38;5;241m=\u001B[39m []\n\u001B[0;32m     35\u001B[0m \u001B[38;5;28;01mfor\u001B[39;00m step \u001B[38;5;129;01min\u001B[39;00m root\u001B[38;5;241m.\u001B[39miter(\u001B[38;5;124m\"\u001B[39m\u001B[38;5;124mstep\u001B[39m\u001B[38;5;124m\"\u001B[39m):\n\u001B[1;32m---> 36\u001B[0m     \u001B[38;5;28;01mif\u001B[39;00m \u001B[38;5;28mint\u001B[39m(\u001B[43mstep\u001B[49m\u001B[38;5;241;43m.\u001B[39;49m\u001B[43mattrib\u001B[49m\u001B[43m[\u001B[49m\u001B[38;5;124;43m\"\u001B[39;49m\u001B[38;5;124;43mrecipe_id\u001B[39;49m\u001B[38;5;124;43m\"\u001B[39;49m\u001B[43m]\u001B[49m) \u001B[38;5;241m==\u001B[39m recipe_id:\n\u001B[0;32m     37\u001B[0m         steps\u001B[38;5;241m.\u001B[39mappend(step\u001B[38;5;241m.\u001B[39mtext)\n\u001B[0;32m     39\u001B[0m \u001B[38;5;66;03m# Создание строки с описанием рецепта\u001B[39;00m\n",
      "\u001B[1;31mKeyError\u001B[0m: 'recipe_id'"
     ]
    }
   ],
   "source": [
    "import pandas as pd\n",
    "import xml.etree.ElementTree as ET\n",
    "\n",
    "def show_info(name, steps, minutes, author_id):\n",
    "    # Оформление названия рецепта\n",
    "    title = name.title()\n",
    "\n",
    "    # Оформление списка шагов приготовления\n",
    "    step_list = \"\"\n",
    "    for i, step in enumerate(steps, start=1):\n",
    "        step_list += f\"{i}. {step}\\n\"\n",
    "\n",
    "    # Оформление строки с автором и временем приготовления\n",
    "    author = f\"Автор: {author_id}\"\n",
    "    time = f\"Среднее время приготовления: {minutes} минут\"\n",
    "\n",
    "    # Сборка и вывод итоговой строки\n",
    "    result = f'\"{title}\"\\n\\n{step_list}----------\\n{author}\\n{time}\\n'\n",
    "    return result\n",
    "\n",
    "# Загрузка данных из файлов\n",
    "recipes = pd.read_csv(\"recipes_sample.csv\")\n",
    "tree = ET.parse(\"steps_sample.xml\")\n",
    "\n",
    "# Извлечение данных о рецепте\n",
    "recipe_id = 170895\n",
    "recipe = recipes.loc[recipes[\"id\"] == recipe_id].iloc[0]\n",
    "name = recipe[\"name\"]\n",
    "minutes = recipe[\"minutes\"]\n",
    "author_id = recipe[\"contributor_id\"]\n",
    "\n",
    "# Извлечение данных о шагах приготовления\n",
    "root = tree.getroot()\n",
    "steps = []\n",
    "for step in root.iter(\"step\"):\n",
    "    if int(step.attrib[\"recipe_id\"]) == recipe_id:\n",
    "        steps.append(step.text)\n",
    "\n",
    "# Создание строки с описанием рецепта\n",
    "recipe_info = show_info(name, steps, minutes, author_id)\n",
    "assert (\n",
    "    show_info(\n",
    "        name=\"george s at the cove black bean soup\",\n",
    "        steps=[\n",
    "            \"clean the leeks and discard the dark green portions\",\n",
    "            \"cut the leeks lengthwise then into one-inch pieces\",\n",
    "            \"melt the butter in a medium skillet , med\",\n",
    "        ],\n",
    "        minutes=90,\n",
    "        author_id=35193,\n",
    "    )\n",
    "    == '\"George S At The Cove Black Bean Soup\"\\n\\n1. Clean the leeks and discard the dark green portions\\n2. Cut the leeks lengthwise then into one-inch pieces\\n3. Melt the butter in a medium skillet , med\\n----------\\nАвтор: 35193\\nСреднее время приготовления: 90 минут\\n'\n",
    ")\n",
    "# Вывод строки на экран\n",
    "print(recipe_info)\n"
   ]
  },
  {
   "cell_type": "markdown",
   "metadata": {
    "id": "RfGX0XXPbI-B"
   },
   "source": [
    "## Работа с регулярными выражениями"
   ]
  },
  {
   "cell_type": "markdown",
   "metadata": {
    "id": "jNzROhlMbI-B"
   },
   "source": [
    "3\\. Напишите регулярное выражение, которое ищет следующий паттерн в строке: число (1 цифра или более), затем пробел, затем слова: hour или hours или minute или minutes. Произведите поиск по данному регулярному выражению в каждом шаге рецепта с id 25082. Выведите на экран все непустые результаты, найденные по данному шаблону."
   ]
  },
  {
   "cell_type": "markdown",
   "metadata": {
    "id": "7QuWJgakbI-C"
   },
   "source": [
    "4\\. Напишите регулярное выражение, которое ищет шаблон вида \"this..., but\" _в начале строки_ . Между словом \"this\" и частью \", but\" может находиться произвольное число букв, цифр, знаков подчеркивания и пробелов. Никаких других символов вместо многоточия быть не может. Пробел между запятой и словом \"but\" может присутствовать или отсутствовать.\n",
    "\n",
    "Используя строковые методы `pd.Series`, выясните, для каких рецептов данный шаблон содержится в тексте описания. Выведите на экран количество таких рецептов и 3 примера подходящих описаний (текст описания должен быть виден на экране полностью)."
   ]
  },
  {
   "cell_type": "markdown",
   "metadata": {
    "id": "YAcqgoqnbI-C"
   },
   "source": [
    "5\\. В текстах шагов рецептов обыкновенные дроби имеют вид \"a / b\". Используя регулярные выражения, уберите в тексте шагов рецепта с id 72367 пробелы до и после символа дроби. Выведите на экран шаги этого рецепта после их изменения."
   ]
  },
  {
   "cell_type": "markdown",
   "metadata": {
    "id": "rAL375GJbI-D"
   },
   "source": [
    "### Сегментация текста"
   ]
  },
  {
   "cell_type": "markdown",
   "metadata": {
    "id": "viDZ6-bybI-D"
   },
   "source": [
    "6\\. Разбейте тексты шагов рецептов на слова при помощи пакета `nltk`. Посчитайте и выведите на экран кол-во уникальных слов среди всех рецептов. Словом называется любая последовательность алфавитных символов (для проверки можно воспользоваться `str.isalpha`). При подсчете количества уникальных слов не учитывайте регистр."
   ]
  },
  {
   "cell_type": "markdown",
   "metadata": {
    "id": "rjuCJb7ubI-D"
   },
   "source": [
    "7\\. Разбейте описания рецептов из `recipes` на предложения при помощи пакета `nltk`. Найдите 5 самых длинных описаний (по количеству _предложений_) рецептов в датасете и выведите строки фрейма, соответствующие этим рецептами, в порядке убывания длины."
   ]
  },
  {
   "cell_type": "markdown",
   "metadata": {
    "id": "ywCcMsdjbI-E"
   },
   "source": [
    "8\\. Напишите функцию, которая для заданного предложения выводит информацию о частях речи слов, входящих в предложение, в следующем виде:\n",
    "```\n",
    "PRP   VBD   DT      NNS     CC   VBD      NNS        RB   \n",
    " I  omitted the raspberries and added strawberries instead\n",
    "``` \n",
    "Для определения части речи слова можно воспользоваться `nltk.pos_tag`.\n",
    "\n",
    "Проверьте работоспособность функции на названии рецепта с id 241106.\n",
    "\n",
    "Обратите внимание, что часть речи должна находиться ровно посередине над соотвествующим словом, а между самими словами должен быть ровно один пробел.\n"
   ]
  },
  {
   "cell_type": "code",
   "execution_count": null,
   "metadata": {
    "id": "U9q8UV8hbI-E"
   },
   "outputs": [],
   "source": []
  }
 ],
 "metadata": {
  "kernelspec": {
   "display_name": "Python 3 (ipykernel)",
   "language": "python",
   "name": "python3"
  },
  "language_info": {
   "codemirror_mode": {
    "name": "ipython",
    "version": 3
   },
   "file_extension": ".py",
   "mimetype": "text/x-python",
   "name": "python",
   "nbconvert_exporter": "python",
   "pygments_lexer": "ipython3",
   "version": "3.9.7"
  },
  "colab": {
   "provenance": []
  }
 },
 "nbformat": 4,
 "nbformat_minor": 0
}
