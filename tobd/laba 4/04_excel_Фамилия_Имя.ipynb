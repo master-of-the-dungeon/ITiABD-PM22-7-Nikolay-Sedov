{
 "cells": [
  {
   "cell_type": "markdown",
   "metadata": {},
   "source": [
    "# Работа с Excel"
   ]
  },
  {
   "cell_type": "markdown",
   "metadata": {},
   "source": [
    "Материалы:\n",
    "* Макрушин С.В. Лекция 7: Работа с Excel\n",
    "* https://docs.xlwings.org/en/stable/quickstart.html\n",
    "* https://nbviewer.jupyter.org/github/pybokeh/jupyter_notebooks/blob/master/xlwings/Excel_Formatting.ipynb#search_text\n"
   ]
  },
  {
   "cell_type": "markdown",
   "metadata": {},
   "source": [
    "## Задачи для совместного разбора"
   ]
  },
  {
   "cell_type": "markdown",
   "metadata": {},
   "source": [
    "1. На листе \"Рецептура\" файла `себестоимостьА_в1.xlsx` для области \"Пшеничный хлеб\" рассчитать себестоимость всех видов продукции."
   ]
  },
  {
   "cell_type": "code",
   "execution_count": null,
   "outputs": [],
   "source": [
    "import openpyxl\n",
    "\n",
    "# Открываем файл Excel\n",
    "wb = openpyxl.load_workbook('себестоимостьА_в1.xlsx')\n",
    "\n",
    "# Выбираем нужный лист\n",
    "sheet = wb['Рецептура']\n",
    "\n",
    "# Рассчитываем себестоимость всех видов продукции\n",
    "for i in range(6, 12):\n",
    "    cost = sheet.cell(row=i, column=2).value * sheet.cell(row=i, column=5).value / sum([sheet.cell(row=j, column=2).value for j in range(6, 12)])\n",
    "    sheet.cell(row=i, column=7).value = cost\n",
    "\n",
    "# Сохраняем файл Excel\n",
    "wb.save('себестоимостьА_в1.xlsx')\n"
   ],
   "metadata": {
    "collapsed": false
   }
  },
  {
   "cell_type": "markdown",
   "metadata": {},
   "source": [
    "2. Результаты расчетов 1.1 сохранить в отдельном столбце области \"Пшеничный хлеб\""
   ]
  },
  {
   "cell_type": "code",
   "execution_count": null,
   "outputs": [],
   "source": [
    "import openpyxl\n",
    "\n",
    "# Открываем файл Excel\n",
    "wb = openpyxl.load_workbook('себестоимостьА_в1.xlsx')\n",
    "\n",
    "# Выбираем нужный лист\n",
    "sheet = wb['Рецептура']\n",
    "\n",
    "# Рассчитываем себестоимость всех видов продукции\n",
    "for i in range(6, 12):\n",
    "    cost = sheet.cell(row=i, column=2).value * sheet.cell(row=i, column=5).value / sum([sheet.cell(row=j, column=2).value for j in range(6, 12)])\n",
    "    sheet.cell(row=i, column=7).value = cost\n",
    "    sheet.cell(row=i, column=8).value = cost\n",
    "\n",
    "# Сохраняем файл Excel\n",
    "wb.save('себестоимостьА_в1.xlsx')\n"
   ],
   "metadata": {
    "collapsed": false
   }
  },
  {
   "cell_type": "markdown",
   "metadata": {},
   "source": [
    "3. Приблизить форматирование столбца, добавленного в задаче 2 к оформлению всей области."
   ]
  },
  {
   "cell_type": "code",
   "execution_count": null,
   "outputs": [],
   "source": [
    "import openpyxl\n",
    "\n",
    "# Открываем файл Excel\n",
    "wb = openpyxl.load_workbook('себестоимостьА_в1.xlsx')\n",
    "\n",
    "# Выбираем нужный лист\n",
    "sheet = wb['Рецептура']\n",
    "\n",
    "# Рассчитываем себестоимость всех видов продукции\n",
    "for i in range(6, 12):\n",
    "    cost = sheet.cell(row=i, column=2).value * sheet.cell(row=i, column=5).value / sum([sheet.cell(row=j, column=2).value for j in range(6, 12)])\n",
    "    sheet.cell(row=i, column=7).value = cost\n",
    "\n",
    "total_cost = sum([sheet.cell(row=i, column=2).value * sheet.cell(row=i, column=7).value for i in range(6, 12)])\n",
    "sheet.cell(row=3, column=8).value = total_cost\n",
    "\n",
    "# Сохраняем файл Excel\n",
    "wb.save('себестоимостьА_в1.xlsx')\n"
   ],
   "metadata": {
    "collapsed": false
   }
  },
  {
   "cell_type": "markdown",
   "metadata": {},
   "source": [
    "4. Выполнить 3 с помощью \"протягиваемых\" формул."
   ]
  },
  {
   "cell_type": "code",
   "execution_count": null,
   "outputs": [],
   "source": [
    "import openpyxl\n",
    "\n",
    "# Открываем файл Excel\n",
    "wb = openpyxl.load_workbook('себестоимостьА_в1.xlsx')\n",
    "\n",
    "# Выбираем нужный лист\n",
    "sheet = wb['Рецептура']\n",
    "\n",
    "# Рассчитываем себестоимость всех видов продукции\n",
    "for i in range(6, 12):\n",
    "    cost = sheet.cell(row=i, column=2).value * sheet.cell(row=i, column=5).value / sum([sheet.cell(row=j, column=2).value for j in range(6, 12)])\n",
    "    sheet.cell(row=i, column=7).value = cost\n",
    "\n",
    "total_cost = sum([sheet.cell(row=i, column=2).value * sheet.cell(row=i, column=7).value for i in range(6, 12)])\n",
    "sheet.cell(row=3, column=8).value = total_cost\n",
    "\n",
    "# Протягиваем формулы в столбце H\n",
    "last_row = sheet.max_row\n",
    "sheet[\"H3:H\" + str(last_row)].auto_fill(fill_type=\"formulas\")\n",
    "\n",
    "# Сохраняем файл Excel\n",
    "wb.save('себестоимостьА_в1.xlsx')\n"
   ],
   "metadata": {
    "collapsed": false
   }
  },
  {
   "cell_type": "markdown",
   "metadata": {},
   "source": [
    "## Лабораторная работа 7.1"
   ]
  },
  {
   "cell_type": "markdown",
   "metadata": {},
   "source": [
    "1. Загрузите данные из файлов `reviews_sample.csv` (__ЛР2__) и `recipes_sample.csv` (__ЛР5__) в виде `pd.DataFrame`. Обратите внимание на корректное считывание столбца(ов) с индексами. Оставьте в таблице с рецептами следующие столбцы: `id`, `name`, `minutes`, `submitted`, `description`, `n_ingredients`"
   ]
  },
  {
   "cell_type": "code",
   "execution_count": 1,
   "outputs": [],
   "source": [
    "import pandas as pd\n",
    "\n",
    "# Загрузка данных из файла reviews_sample.csv в DataFrame\n",
    "reviews_df = pd.read_csv('reviews_sample.csv', index_col=0)\n",
    "\n",
    "# Загрузка данных из файла recipes_sample.csv в DataFrame\n",
    "recipes_df = pd.read_csv('recipes_sample.csv', index_col=0)\n",
    "\n",
    "# Оставление нужных столбцов в таблице с рецептами\n",
    "recipes_df = recipes_df[['id', 'minutes', 'submitted', 'description', 'n_ingredients']]\n"
   ],
   "metadata": {
    "collapsed": false
   }
  },
  {
   "cell_type": "markdown",
   "metadata": {},
   "source": [
    "2. Случайным образом выберите 5% строк из каждой таблицы и сохраните две таблицы на разные листы в один файл `recipes.xlsx`. Дайте листам названия \"Рецепты\" и \"Отзывы\", соответствующие содержанию таблиц."
   ]
  },
  {
   "cell_type": "code",
   "execution_count": 7,
   "outputs": [],
   "source": [
    "import pandas as pd\n",
    "from openpyxl import Workbook\n",
    "\n",
    "# Загрузка данных из файла reviews_sample.csv в DataFrame\n",
    "reviews_df = pd.read_csv('reviews_sample.csv', index_col=0)\n",
    "\n",
    "# Выбор 5% случайных строк\n",
    "reviews_sample = reviews_df.sample(frac=0.05)\n",
    "\n",
    "# Создание объекта Workbook для сохранения в файл\n",
    "wb = Workbook()\n",
    "\n",
    "# Добавление листа с названием \"Отзывы\"\n",
    "ws1 = wb.active\n",
    "ws1.title = \"Отзывы\"\n",
    "ws1.append(['id', 'user_id', 'recipe_id', 'date', 'rating', 'review'])\n",
    "for row in reviews_sample.itertuples(index=False):\n",
    "    ws1.append(list(row))\n",
    "\n",
    "# Загрузка данных из файла recipes_sample.csv в DataFrame\n",
    "recipes_df = pd.read_csv('recipes_sample.csv', index_col=0)\n",
    "\n",
    "# Выбор 5% случайных строк\n",
    "recipes_sample = recipes_df.sample(frac=0.05)\n",
    "\n",
    "# Добавление листа с названием \"Рецепты\"\n",
    "ws2 = wb.create_sheet(title=\"Рецепты\")\n",
    "ws2.append(['id', 'name', 'minutes', 'submitted', 'description', 'n_ingredients'])\n",
    "for row in recipes_sample.itertuples(index=False):\n",
    "    ws2.append(list(row))\n",
    "\n",
    "# Сохранение в файл\n",
    "wb.save(\"recipes.xlsx\")\n"
   ],
   "metadata": {
    "collapsed": false
   }
  },
  {
   "cell_type": "markdown",
   "metadata": {},
   "source": []
  },
  {
   "cell_type": "markdown",
   "metadata": {},
   "source": [
    "4. Используя `xlwings`, добавьте на лист `Рецепты` столбец `seconds_formula`, показывающий время выполнения рецепта в секундах. Выполните задание при помощи формул Excel."
   ]
  },
  {
   "cell_type": "code",
   "execution_count": 10,
   "outputs": [],
   "source": [
    "import pandas as pd\n",
    "import xlwings as xw\n",
    "\n",
    "# Загрузка данных из файла recipes.xlsx в DataFrame\n",
    "recipes_df = pd.read_excel('recipes.xlsx', sheet_name='Рецепты')\n",
    "\n",
    "# Добавление столбца seconds_assign\n",
    "recipes_df['seconds_assign'] = recipes_df['minutes'] * 60\n",
    "\n",
    "# Сохранение изменений в файл\n",
    "recipes_df.to_excel('recipes.xlsx', sheet_name='Рецепты', index=False)\n",
    "\n",
    "# Открытие книги и получение объекта листа\n",
    "wb = xw.Book('recipes.xlsx')\n",
    "ws = wb.sheets['Рецепты']\n",
    "\n",
    "# Выбор столбца для заполнения и присвоение массива значений\n",
    "column = ws.range('G1:G{}'.format(len(recipes_df)))\n",
    "column.value = recipes_df['seconds_assign'].values\n",
    "\n",
    "# Сохранение изменений и закрытие книги\n",
    "wb.save()\n",
    "wb.close()\n"
   ],
   "metadata": {
    "collapsed": false
   }
  },
  {
   "cell_type": "markdown",
   "metadata": {},
   "source": [
    "5. Сделайте названия всех добавленных столбцов полужирными и выровняйте по центру ячейки."
   ]
  },
  {
   "cell_type": "code",
   "execution_count": null,
   "outputs": [],
   "source": [
    "import xlwings as xw\n",
    "\n",
    "# Открытие книги и получение объекта листа\n",
    "wb = xw.Book('recipes.xlsx')\n",
    "ws = wb.sheets['Рецепты']\n",
    "\n",
    "# Получение диапазона ячеек с заголовками столбцов\n",
    "column_names = ws.range('A1:G1')\n",
    "\n",
    "# Форматирование заголовков\n",
    "column_names.api.Font.Bold = True  # Полужирный текст\n",
    "column_names.api.HorizontalAlignment = -4108  # Выравнивание по центру\n",
    "\n",
    "# Сохранение изменений и закрытие книги\n",
    "wb.save()\n",
    "wb.close()\n"
   ],
   "metadata": {
    "collapsed": false
   }
  },
  {
   "cell_type": "markdown",
   "metadata": {},
   "source": [
    "6. Раскрасьте ячейки столбца `minutes` в соответствии со следующим правилом: если рецепт выполняется быстрее 5 минут, то цвет - зеленый; от 5 до 10 минут - жёлтый; и больше 10 - красный."
   ]
  },
  {
   "cell_type": "code",
   "execution_count": null,
   "outputs": [],
   "source": [
    "import xlwings as xw\n",
    "\n",
    "# Открытие книги и получение объекта листа\n",
    "wb = xw.Book('recipes.xlsx')\n",
    "ws = wb.sheets['Рецепты']\n",
    "\n",
    "# Получение диапазона ячеек столбца minutes\n",
    "minutes_column = ws.range('D2:D{}'.format(ws.range('D1').end('down').row))\n",
    "\n",
    "# Раскраска ячеек столбца в соответствии с правилом\n",
    "for cell in minutes_column:\n",
    "    if cell.value < 5:\n",
    "        cell.colorindex = 4  # Зеленый\n",
    "    elif cell.value >= 5 and cell.value <= 10:\n",
    "        cell.colorindex = 6  # Желтый\n",
    "    else:\n",
    "        cell.colorindex = 3  # Красный\n",
    "\n",
    "# Сохранение изменений и закрытие книги\n",
    "wb.save()\n",
    "wb.close()\n"
   ],
   "metadata": {
    "collapsed": false
   }
  },
  {
   "cell_type": "markdown",
   "metadata": {},
   "source": [
    "7. Добавьте на лист `Рецепты`  столбец `n_reviews`, содержащий кол-во отзывов для этого рецепта. Выполните задание при помощи формул Excel."
   ]
  },
  {
   "cell_type": "code",
   "execution_count": null,
   "outputs": [],
   "source": [
    "import xlwings as xw\n",
    "\n",
    "# Открытие книги и получение объекта листа\n",
    "wb = xw.Book('recipes.xlsx')\n",
    "ws = wb.sheets['Рецепты']\n",
    "\n",
    "# Получение последней строки таблицы\n",
    "last_row = ws.range('A1').end('down').row\n",
    "\n",
    "# Добавление заголовка для столбца n_reviews\n",
    "ws.range('H1').value = 'n_reviews'\n",
    "ws.range('H1').api.Font.Bold = True\n",
    "ws.range('H1').api.HorizontalAlignment = -4108  # Выравнивание по центру\n",
    "\n",
    "# Добавление формулы для столбца n_reviews\n",
    "for i in range(2, last_row+1):\n",
    "    formula = '=COUNTIF(Отзывы!$B$2:$B${},\"={}\")'.format(\n",
    "        ws.range('B1').end('down').row, ws.range('A{}'.format(i)).value)\n",
    "    ws.range('H{}'.format(i)).formula = formula\n",
    "\n",
    "# Сохранение изменений и закрытие книги\n",
    "wb.save()\n",
    "wb.close()\n"
   ],
   "metadata": {
    "collapsed": false
   }
  },
  {
   "cell_type": "markdown",
   "metadata": {},
   "source": [
    "## Лабораторная работа 7.2"
   ]
  },
  {
   "cell_type": "markdown",
   "metadata": {},
   "source": [
    "8. Напишите функцию `validate()`, которая проверяет соответствие всех строк из листа `Отзывы` следующим правилам:\n",
    "    * Рейтинг - это число от 0 до 5 включительно\n",
    "    * Соответствующий рецепт имеется на листе `Рецепты`\n",
    "    \n",
    "В случае несоответствия этим правилам, выделите строку красным цветом"
   ]
  },
  {
   "cell_type": "code",
   "execution_count": null,
   "outputs": [],
   "source": [
    "import openpyxl\n",
    "from openpyxl.styles import PatternFill\n",
    "\n",
    "def validate(file_path):\n",
    "    # Открытие книги и получение объектов листов\n",
    "    wb = openpyxl.load_workbook(file_path)\n",
    "    ws_recipes = wb['Рецепты']\n",
    "    ws_reviews = wb['Отзывы']\n",
    "\n",
    "    # Получение последней строки таблицы Отзывы\n",
    "    last_row = ws_reviews.max_row\n",
    "\n",
    "    # Правила валидации\n",
    "    rules = {\n",
    "        'rating': {'type': 'number', 'min': 0, 'max': 5},\n",
    "        'recipe_id': {'type': 'exists', 'sheet': ws_recipes},\n",
    "    }\n",
    "\n",
    "    # Выделение строк красным цветом в случае нарушения правил\n",
    "    red_fill = PatternFill(start_color='FFFF0000',\n",
    "                           end_color='FFFF0000',\n",
    "                           fill_type='solid')\n",
    "\n",
    "    for i in range(2, last_row + 1):\n",
    "        for col, rule in rules.items():\n",
    "            cell = ws_reviews['{}{}'.format(col, i)]\n",
    "            if rule['type'] == 'number':\n",
    "                if not (rule['min'] <= cell.value <= rule['max']):\n",
    "                    cell.fill = red_fill\n",
    "            elif rule['type'] == 'exists':\n",
    "                recipe_id = cell.value\n",
    "                if not any(recipe_id == x[0].value for x in rule['sheet']['A']):\n",
    "                    cell.fill = red_fill\n",
    "\n",
    "    # Сохранение изменений и закрытие книги\n",
    "    wb.save(file_path)\n",
    "    wb.close()\n"
   ],
   "metadata": {
    "collapsed": false
   }
  },
  {
   "cell_type": "markdown",
   "metadata": {},
   "source": [
    "9. В файле `recipes_model.csv` находится модель данных предметной области \"рецепты\". При помощи пакета `csv` считайте эти данные. При помощи пакета `xlwings` запишите данные на лист `Модель` книги `recipes_model.xlsx`, начиная с ячейки `A2`, не используя циклы. Сделайте скриншот текущего состояния листа и прикрепите в ячейку ноутбука."
   ]
  },
  {
   "cell_type": "code",
   "execution_count": null,
   "outputs": [],
   "source": [
    "import csv\n",
    "import xlwings as xw\n",
    "\n",
    "# Открываем файл csv\n",
    "with open('recipes_model.csv', 'r', encoding='utf-8') as f:\n",
    "    reader = csv.reader(f)\n",
    "    data = [row for row in reader]\n",
    "\n",
    "# Открываем книгу Excel и выбираем лист\n",
    "wb = xw.Book('recipes_model.xlsx')\n",
    "sheet = wb.sheets['Модель']\n",
    "\n",
    "# Записываем данные в ячейки Excel\n",
    "sheet.range('A2').value = data\n"
   ],
   "metadata": {
    "collapsed": false
   }
  },
  {
   "cell_type": "markdown",
   "metadata": {},
   "source": [
    "10. При помощи пакета `xlwings` добавьте в столбец J формулу для описания столбца на языке SQL. Формула должна реализовывать следующую логику:\n",
    "\n",
    "    1\\. в начале строки идут значения из столбцов В и C (значение столбца С приведено к верхнему регистру), разделенные пробелом\n",
    "    \n",
    "    2\\. далее идут слова на основе столбца \"Ключ\"\n",
    "        2.1 если в столбце \"Ключ\" указано значение \"PK\", то дальше через пробел идет ключевое слово \"PRIMARY KEY\"\n",
    "        2.2 если в столбце \"Ключ\" указано значение \"FK\", то дальше через пробел идет ключевое слово \"REFERENCES\", затем значения столбцов H и I в формате \"название_таблицы(название_столбца)\"\n",
    "        \n",
    "    3\\. если в столбце \"Обязательно к заполнению\" указано значение \"Y\" и в столбце \"Ключ\" указано не \"PK\", то дальше через пробел идет ключевое слово \"NOT NULL\".\n",
    "\n",
    "Заполните этой формулой необходимое количество строк, используя \"протягивание\". Количество строк для протягивания определите на основе данных.\n",
    "\n",
    "Сделайте скриншот текущего состояния листа и прикрепите в ячейку ноутбука."
   ]
  },
  {
   "cell_type": "code",
   "execution_count": null,
   "outputs": [],
   "source": [
    "import pandas as pd\n",
    "import xlwings as xw\n",
    "\n",
    "# Считываем данные из CSV файла\n",
    "df = pd.read_csv('recipes_model.csv', delimiter=',')\n",
    "\n",
    "# Применяем формулу к каждой строке\n",
    "df['J'] = df.apply(lambda row: f'{row[\"B\"]} {row[\"C\"].upper()} ' +\n",
    "                  ('PRIMARY KEY' if row['Ключ'] == 'PK' else '') +\n",
    "                  ('REFERENCES ' + row['H'] + '(' + row['I'] + ')' if row['Ключ'] == 'FK' else '') +\n",
    "                  (' NOT NULL' if row['Обязательно к заполнению'] == 'Y' and row['Ключ'] != 'PK' else ''), axis=1)\n",
    "\n",
    "# Открываем книгу и получаем ссылку на лист Модель\n",
    "wb = xw.Book('recipes_model.xlsx')\n",
    "sht = wb.sheets['Модель']\n",
    "\n",
    "# Записываем данные в лист\n",
    "sht.range('A2').options(index=False, header=False).value = df[['B', 'C', 'D', 'E', 'F', 'G', 'H', 'I', 'J']]\n",
    "\n",
    "# Протягиваем формулу на все строки, которые мы записали\n",
    "last_row = sht.range('A' + str(sht.cells.last_cell.row)).end('up').row\n",
    "sht.range('J2:J' + str(last_row)).api.FillDown()\n"
   ],
   "metadata": {
    "collapsed": false
   }
  },
  {
   "cell_type": "markdown",
   "metadata": {},
   "source": [
    "11. При помощи пакета `xlwings` измените стилизацию листа `Модель`.\n",
    "* для заголовков добавьте заливку цвета `00ccff`\n",
    "* примените автоподбор ширины столбца;\n",
    "* сделайте шрифт заголовков полужирным;\n",
    "* добавьте таблице автофильтр.\n",
    "\n",
    "Сделайте скриншот текущего состояния листа и прикрепите в ячейку ноутбука."
   ]
  },
  {
   "cell_type": "code",
   "execution_count": null,
   "outputs": [],
   "source": [
    "import xlwings as xw\n",
    "\n",
    "wb = xw.Book('recipes_model.xlsx')\n",
    "sheet = wb.sheets['Модель']\n",
    "\n",
    "header_range = sheet.range('A1').expand('right')\n",
    "header_range.color = (0, 204, 255)\n",
    "sheet.autofit()\n",
    "header_range.api.Font.Bold = True\n",
    "\n",
    "table_range = sheet.range('A1').expand('table')\n",
    "table_range.api.AutoFilter()\n"
   ],
   "metadata": {
    "collapsed": false
   }
  },
  {
   "cell_type": "markdown",
   "metadata": {},
   "source": [
    "12. Посчитайте количество атрибутов для каждой из сущностей. Создайте лист `Статистика` и запишите в него результат группировки, начиная с ячейки \"А1\". Визуализируйте полученный результат при помощи столбчатой диаграммы. Сохраните полученную визуализацию на лист `Статистика`, начиная с ячейки \"E2\".  Сделайте скриншот листа `Статистика` и прикрепите в ячейку ноутбука.\n",
    "\n",
    "* Вы можете воспользоваться методами для визуализации, которые поставляются вместе с объектами `pandas` (см. https://pandas.pydata.org/docs/reference/api/pandas.DataFrame.plot)"
   ]
  },
  {
   "cell_type": "code",
   "execution_count": null,
   "outputs": [],
   "source": [
    "import pandas as pd\n",
    "import xlwings as xw\n",
    "\n",
    "# Загрузка данных из листа \"Модель\"\n",
    "wb = xw.Book('recipes_model.xlsx')\n",
    "ws = wb.sheets['Модель']\n",
    "data = ws.range('A1').options(pd.DataFrame, header=1, index=False, expand='table').value\n",
    "\n",
    "# Группировка по значению в столбце \"Сущность\" и подсчет количества атрибутов\n",
    "stats = data.groupby('Сущность')['Атрибут'].count().reset_index(name='Количество атрибутов')\n",
    "\n",
    "# Создание листа \"Статистика\" и запись результатов группировки\n",
    "ws_stats = wb.sheets.add('Статистика')\n",
    "ws_stats.range('A1').value = stats\n",
    "\n",
    "# Создание столбчатой диаграммы\n",
    "chart = ws_stats.charts.add()\n",
    "chart.set_source_data(ws_stats.range('A1').expand())\n",
    "chart.chart_type = 'column_clustered'\n",
    "chart.title.text = 'Статистика атрибутов'\n",
    "chart.x_axis.title.text = 'Сущность'\n",
    "chart.y_axis.title.text = 'Количество атрибутов'\n",
    "\n",
    "# Сохранение визуализации на лист \"Статистика\"\n",
    "ws_stats.pictures.add(chart, name='Диаграмма', left=ws_stats.range('E2').left, top=ws_stats.range('E2').top)\n"
   ],
   "metadata": {
    "collapsed": false
   }
  }
 ],
 "metadata": {
  "kernelspec": {
   "display_name": "Python 3 (ipykernel)",
   "language": "python",
   "name": "python3"
  },
  "language_info": {
   "codemirror_mode": {
    "name": "ipython",
    "version": 3
   },
   "file_extension": ".py",
   "mimetype": "text/x-python",
   "name": "python",
   "nbconvert_exporter": "python",
   "pygments_lexer": "ipython3",
   "version": "3.9.12"
  }
 },
 "nbformat": 4,
 "nbformat_minor": 4
}
