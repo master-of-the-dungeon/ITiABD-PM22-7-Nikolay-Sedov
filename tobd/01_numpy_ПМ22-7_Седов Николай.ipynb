{
 "cells": [
  {
   "cell_type": "markdown",
   "metadata": {
    "id": "m9vB0hGA9QT0"
   },
   "source": [
    "# Numpy"
   ]
  },
  {
   "cell_type": "markdown",
   "metadata": {
    "id": "3a4EEqIo9QT3"
   },
   "source": [
    "Материалы:\n",
    "* Макрушин С.В. \"Лекция 1: Библиотека Numpy\"\n",
    "* https://numpy.org/doc/stable/user/index.html\n",
    "* https://numpy.org/doc/stable/reference/index.html"
   ]
  },
  {
   "cell_type": "markdown",
   "metadata": {
    "id": "uwh6pjp49QT5"
   },
   "source": [
    "## Задачи для совместного разбора"
   ]
  },
  {
   "cell_type": "markdown",
   "metadata": {
    "id": "kIlEtWTZ9QT6"
   },
   "source": [
    "1. Сгенерировать двухмерный массив `arr` размерности (4, 7), состоящий из случайных действительных чисел, равномерно распределенных в диапазоне от 0 до 20. Нормализовать значения массива с помощью преобразования вида  $𝑎𝑥+𝑏$  так, что после нормализации максимальный элемент масcива будет равен 1.0, минимальный 0.0"
   ]
  },
  {
   "cell_type": "markdown",
   "metadata": {
    "id": "NiRkboq89QT8"
   },
   "source": [
    "2. Создать матрицу 8 на 10 из случайных целых (используя модуль `numpy.random`) чисел из диапозона от 0 до 10 и найти в ней строку (ее индекс и вывести саму строку), в которой сумма значений минимальна."
   ]
  },
  {
   "cell_type": "markdown",
   "metadata": {
    "id": "WYlNBd_n9QT8"
   },
   "source": [
    "3. Найти евклидово расстояние между двумя одномерными векторами одинаковой размерности."
   ]
  },
  {
   "cell_type": "markdown",
   "metadata": {
    "id": "zStFqmT29QT9"
   },
   "source": [
    "4. Решить матричное уравнение `A*X*B=-C` - найти матрицу `X`. Где `A = [[-1, 2, 4], [-3, 1, 2], [-3, 0, 1]]`, `B=[[3, -1], [2, 1]]`, `C=[[7, 21], [11, 8], [8, 4]]`."
   ]
  },
  {
   "cell_type": "markdown",
   "metadata": {
    "id": "GBbZJDEm9QT9"
   },
   "source": [
    "## Лабораторная работа №1"
   ]
  },
  {
   "cell_type": "markdown",
   "metadata": {
    "id": "HPdWclul9QT_"
   },
   "source": [
    "Замечание: при решении данных задач не подразумевается использования циклов или генераторов Python, если в задании не сказано обратного. Решение должно опираться на использования функционала библиотеки `numpy`."
   ]
  },
  {
   "cell_type": "markdown",
   "metadata": {
    "id": "PZ87rqfD9QT_"
   },
   "source": [
    "1. Файл `minutes_n_ingredients.csv` содержит информацию об идентификаторе рецепта, времени его выполнения в минутах и количестве необходимых ингредиентов. Считайте данные из этого файла в виде массива `numpy` типа `int32`, используя `np.loadtxt`. Выведите на экран первые 5 строк массива."
   ]
  },
  {
   "cell_type": "code",
   "execution_count": 1,
   "outputs": [
    {
     "name": "stdout",
     "output_type": "stream",
     "text": [
      "[[127244     60     16]\n",
      " [ 23891     25      7]\n",
      " [ 94746     10      6]\n",
      " [ 67660      5      6]\n",
      " [157911     60     14]]\n"
     ]
    }
   ],
   "source": [
    "import numpy as np\n",
    "data = np.loadtxt('minutes_n_ingredients.csv', delimiter=',', dtype='int32',skiprows=1)\n",
    "print(data[:5])\n"
   ],
   "metadata": {
    "collapsed": false
   }
  },
  {
   "cell_type": "markdown",
   "metadata": {
    "id": "W8RQTxtx9QUA"
   },
   "source": [
    "2. Вычислите среднее значение, минимум, максимум и медиану по каждому из столбцов, кроме первого."
   ]
  },
  {
   "cell_type": "code",
   "execution_count": 5,
   "outputs": [
    {
     "name": "stdout",
     "output_type": "stream",
     "text": [
      "Среднее значение:  [2.16010017e+04 9.05528000e+00]\n"
     ]
    }
   ],
   "source": [
    "print('Среднее значение: ', np.mean(data[:, 1:], axis=0))"
   ],
   "metadata": {
    "collapsed": false
   }
  },
  {
   "cell_type": "markdown",
   "metadata": {
    "id": "3bw2ic3F9QUA"
   },
   "source": [
    "3. Ограничьте сверху значения продолжительности выполнения рецепта значением квантиля $q_{0.75}$."
   ]
  },
  {
   "cell_type": "code",
   "execution_count": 7,
   "outputs": [
    {
     "data": {
      "text/plain": "65.0"
     },
     "execution_count": 7,
     "metadata": {},
     "output_type": "execute_result"
    }
   ],
   "source": [
    "q_75 = np.quantile(data[:, 1], 0.75)\n",
    "q_75"
   ],
   "metadata": {
    "collapsed": false
   }
  },
  {
   "cell_type": "markdown",
   "metadata": {
    "id": "MWM9YLHt9QUB"
   },
   "source": [
    "4. Посчитайте, для скольких рецептов указана продолжительность, равная нулю. Замените для таких строк значение в данном столбце на 1."
   ]
  },
  {
   "cell_type": "code",
   "execution_count": 8,
   "outputs": [
    {
     "data": {
      "text/plain": "array([[9325,    0,   10],\n       [2828,    0,    8],\n       [8008,    0,   11],\n       ...,\n       [3383,    0,    7],\n       [2778,    0,   11],\n       [4747,    0,    9]], dtype=int32)"
     },
     "execution_count": 8,
     "metadata": {},
     "output_type": "execute_result"
    }
   ],
   "source": [
    "zero_duration = data[data[:, 1] == 0]\n",
    "zero_duration"
   ],
   "metadata": {
    "collapsed": false
   }
  },
  {
   "cell_type": "markdown",
   "metadata": {
    "id": "-HipR8q89QUB"
   },
   "source": [
    "5. Посчитайте, сколько уникальных рецептов находится в датасете."
   ]
  },
  {
   "cell_type": "code",
   "execution_count": 9,
   "outputs": [
    {
     "data": {
      "text/plain": "array([    38,     41,     43, ..., 537458, 537485, 537671], dtype=int32)"
     },
     "execution_count": 9,
     "metadata": {},
     "output_type": "execute_result"
    }
   ],
   "source": [
    "unique_recipes = np.unique(data[:, 0])\n",
    "unique_recipes"
   ],
   "metadata": {
    "collapsed": false
   }
  },
  {
   "cell_type": "markdown",
   "metadata": {
    "id": "fX3Y1SpM9QUB"
   },
   "source": [
    "6. Сколько и каких различных значений кол-ва ингредиентов присутвует в рецептах из датасета?"
   ]
  },
  {
   "cell_type": "code",
   "execution_count": 10,
   "outputs": [
    {
     "data": {
      "text/plain": "array([ 1,  2,  3,  4,  5,  6,  7,  8,  9, 10, 11, 12, 13, 14, 15, 16, 17,\n       18, 19, 20, 21, 22, 23, 24, 25, 26, 27, 28, 29, 30, 31, 32, 33, 34,\n       35, 37, 39], dtype=int32)"
     },
     "execution_count": 10,
     "metadata": {},
     "output_type": "execute_result"
    }
   ],
   "source": [
    "unique_ingredients = np.unique(data[:, 2])\n",
    "unique_ingredients"
   ],
   "metadata": {
    "collapsed": false
   }
  },
  {
   "cell_type": "markdown",
   "metadata": {
    "id": "VBHxt2Ps9QUB"
   },
   "source": [
    "7. Создайте версию массива, содержащую информацию только о рецептах, состоящих не более чем из 5 ингредиентов."
   ]
  },
  {
   "cell_type": "code",
   "execution_count": 13,
   "outputs": [
    {
     "data": {
      "text/plain": "array([[446597,     15,      5],\n       [204134,      5,      3],\n       [ 25623,      6,      4],\n       ...,\n       [ 52088,     60,      5],\n       [128811,     15,      4],\n       [370915,      5,      4]], dtype=int32)"
     },
     "execution_count": 13,
     "metadata": {},
     "output_type": "execute_result"
    }
   ],
   "source": [
    "data_5_ingredients = data[data[:, 2] <= 5]\n",
    "data_5_ingredients"
   ],
   "metadata": {
    "collapsed": false
   }
  },
  {
   "cell_type": "markdown",
   "metadata": {
    "id": "MQa4Pwx09QUB"
   },
   "source": [
    "8. Для каждого рецепта посчитайте, сколько в среднем ингредиентов приходится на одну минуту рецепта. Найдите максимальное значение этой величины для всего датасета"
   ]
  },
  {
   "cell_type": "code",
   "execution_count": 16,
   "outputs": [
    {
     "data": {
      "text/plain": "0.26666666666666666"
     },
     "execution_count": 16,
     "metadata": {},
     "output_type": "execute_result"
    }
   ],
   "source": [
    "def get_ingredients_per_minute(row):\n",
    "    return row[2] / row[1]\n",
    "get_ingredients_per_minute(data[0])"
   ],
   "metadata": {
    "collapsed": false
   }
  },
  {
   "cell_type": "markdown",
   "metadata": {
    "id": "bYedZbWJ9QUC"
   },
   "source": [
    "9. Вычислите среднее количество ингредиентов для топ-100 рецептов с наибольшей продолжительностью"
   ]
  },
  {
   "cell_type": "code",
   "execution_count": 17,
   "outputs": [
    {
     "data": {
      "text/plain": "array([[    116645,      10095,          6],\n       [    252450,      10100,          4],\n       [     89339,      10105,          8],\n       [    369728,      10110,          7],\n       [    417539,      10110,          6],\n       [    199925,      10140,          7],\n       [    258854,      10320,         13],\n       [     55411,      10320,          8],\n       [     57721,      10440,         12],\n       [    106876,      11520,          8],\n       [    116809,      11521,          3],\n       [    164029,      11550,         14],\n       [    298229,      11565,          8],\n       [     64793,      14405,          3],\n       [    230796,      14420,          8],\n       [    453387,      14420,          8],\n       [    269245,      14425,          5],\n       [    266032,      14430,          8],\n       [     26995,      14450,         17],\n       [    233539,      14460,         10],\n       [    197469,      14460,         13],\n       [    443929,      15880,          5],\n       [     30101,      15900,          5],\n       [     13904,      17310,          8],\n       [     72549,      18720,         13],\n       [     10004,      18725,          5],\n       [     17490,      20160,          6],\n       [     24478,      20160,          3],\n       [     81105,      20160,         13],\n       [    441587,      20160,          4],\n       [     72355,      20160,          2],\n       [    117582,      20160,          9],\n       [    251532,      20161,          6],\n       [    124818,      20163,          3],\n       [    246348,      20165,          6],\n       [    246355,      20165,          9],\n       [    291096,      20170,          5],\n       [    208298,      20175,         12],\n       [    246663,      20175,          7],\n       [    129227,      20175,         10],\n       [    406267,      20175,          9],\n       [    340621,      20190,          4],\n       [    121433,      20190,          4],\n       [     49738,      20190,          5],\n       [     46390,      20280,         11],\n       [    477929,      20340,         11],\n       [    179670,      20340,         12],\n       [    348132,      21600,         10],\n       [    401460,      21600,          4],\n       [    183432,      21690,          4],\n       [    315022,      23050,          3],\n       [    186746,      26100,          8],\n       [    104976,      28810,          6],\n       [    108917,      28810,          8],\n       [    310374,      30240,          6],\n       [    133994,      30255,          8],\n       [    187480,      30255,          2],\n       [     37202,      30270,          4],\n       [     90536,      30270,          6],\n       [    191140,      30270,          5],\n       [    144367,      34570,          5],\n       [    288653,      34570,          6],\n       [    137027,      34570,          4],\n       [    109063,      36015,          8],\n       [     64709,      40325,          3],\n       [    285910,      41775,          7],\n       [    346169,      43200,         17],\n       [     72203,      43200,          3],\n       [    326069,      43200,          3],\n       [    295914,      43200,          9],\n       [     40993,      43200,          5],\n       [    414465,      43202,          2],\n       [    200097,      43205,          3],\n       [    209590,      43230,          8],\n       [    254782,      43250,         15],\n       [    102098,      43380,          4],\n       [    344480,      43380,         22],\n       [     30845,      44645,          3],\n       [    246196,      44655,          4],\n       [     46288,      50405,          5],\n       [    101082,      60540,          7],\n       [    140344,      60555,          3],\n       [    255611,      64815,          3],\n       [     42247,      69120,          2],\n       [     93063,      86400,          2],\n       [    142936,      86400,          9],\n       [     34175,      86400,          3],\n       [     41403,      86400,          4],\n       [    105417,      86405,          2],\n       [     13264,     115230,          4],\n       [    236281,     129615,          5],\n       [    236274,     129615,          5],\n       [    184528,     129620,          3],\n       [    242032,     132495,          3],\n       [    236340,     146880,          5],\n       [     70551,     201610,          7],\n       [     98912,     216015,          4],\n       [    425681,     259205,          2],\n       [    216215,     259260,          7],\n       [    261647, 2147483647,          8]], dtype=int32)"
     },
     "execution_count": 17,
     "metadata": {},
     "output_type": "execute_result"
    }
   ],
   "source": [
    "top_100 = data[np.argsort(data[:, 1])[-100:]]\n",
    "top_100"
   ],
   "metadata": {
    "collapsed": false
   }
  },
  {
   "cell_type": "markdown",
   "metadata": {
    "id": "8rjf-MwZ9QUC"
   },
   "source": [
    "10. Выберите случайным образом и выведите информацию о 10 различных рецептах"
   ]
  },
  {
   "cell_type": "code",
   "execution_count": 12,
   "outputs": [
    {
     "name": "stdout",
     "output_type": "stream",
     "text": [
      "Recipe ID: 140994, Minutes: 30, Ingredients: 14\n",
      "Recipe ID: 455949, Minutes: 25, Ingredients: 6\n",
      "Recipe ID: 43894, Minutes: 55, Ingredients: 6\n",
      "Recipe ID: 424500, Minutes: 55, Ingredients: 14\n",
      "Recipe ID: 418145, Minutes: 270, Ingredients: 9\n",
      "Recipe ID: 222093, Minutes: 30, Ingredients: 11\n",
      "Recipe ID: 210166, Minutes: 190, Ingredients: 8\n",
      "Recipe ID: 488497, Minutes: 25, Ingredients: 4\n",
      "Recipe ID: 413514, Minutes: 55, Ingredients: 10\n",
      "Recipe ID: 182637, Minutes: 35, Ingredients: 11\n"
     ]
    }
   ],
   "source": [
    "random_indices = np.random.choice(data.shape[0], size=10, replace=False)\n",
    "for index in random_indices:\n",
    "    recipe_id = int(data[index, 0])\n",
    "    minutes = int(data[index, 1])\n",
    "    ingredients = int(data[index, 2])\n",
    "    print(f'Recipe ID: {recipe_id}, Minutes: {minutes}, Ingredients: {ingredients}')"
   ],
   "metadata": {
    "collapsed": false
   }
  },
  {
   "cell_type": "markdown",
   "metadata": {
    "id": "xMdB7h7C9QUC"
   },
   "source": [
    "11. Выведите процент рецептов, кол-во ингредиентов в которых меньше среднего."
   ]
  },
  {
   "cell_type": "code",
   "execution_count": 20,
   "outputs": [
    {
     "data": {
      "text/plain": "0.58802"
     },
     "execution_count": 20,
     "metadata": {},
     "output_type": "execute_result"
    }
   ],
   "source": [
    "data[data[:, 2] < np.mean(data[:, 2])].shape[0] / data.shape[0]"
   ],
   "metadata": {
    "collapsed": false
   }
  },
  {
   "cell_type": "markdown",
   "metadata": {
    "id": "uUXTVmHO9QUD"
   },
   "source": [
    "12. Назовем \"простым\" такой рецепт, длительность выполнения которого не больше 20 минут и кол-во ингредиентов в котором не больше 5. Создайте версию датасета с дополнительным столбцом, значениями которого являются 1, если рецепт простой, и 0 в противном случае."
   ]
  },
  {
   "cell_type": "code",
   "execution_count": 26,
   "outputs": [
    {
     "name": "stdout",
     "output_type": "stream",
     "text": [
      "[[127244     60     16      0]\n",
      " [ 23891     25      7      0]\n",
      " [ 94746     10      6      0]\n",
      " [ 67660      5      6      0]\n",
      " [157911     60     14      0]]\n"
     ]
    }
   ],
   "source": [
    "simple = ((data[:, 1] <= 20) & (data[:, 2] <= 5)).astype(int)\n",
    "data = np.column_stack((data, simple))\n",
    "print(data[:5])"
   ],
   "metadata": {
    "collapsed": false
   }
  },
  {
   "cell_type": "markdown",
   "metadata": {
    "id": "owYJjlJI9QUE"
   },
   "source": [
    "13. Выведите процент \"простых\" рецептов в датасете"
   ]
  },
  {
   "cell_type": "code",
   "execution_count": 27,
   "outputs": [
    {
     "name": "stdout",
     "output_type": "stream",
     "text": [
      "Процент \"простых\" рецептов: 9.55%\n"
     ]
    }
   ],
   "source": [
    "simple_percent = simple.mean() * 100\n",
    "print(f'Процент \"простых\" рецептов: {simple_percent:.2f}%')\n"
   ],
   "metadata": {
    "collapsed": false
   }
  },
  {
   "cell_type": "markdown",
   "metadata": {
    "id": "7bN0WpCF9QUE"
   },
   "source": [
    "14. Разделим рецепты на группы по следующему правилу. Назовем рецепты короткими, если их продолжительность составляет менее 10 минут; стандартными, если их продолжительность составляет более 10, но менее 20 минут; и длинными, если их продолжительность составляет не менее 20 минут. Создайте трехмерный массив, где нулевая ось отвечает за номер группы (короткий, стандартный или длинный рецепт), первая ось - за сам рецепт и вторая ось - за характеристики рецепта. Выберите максимальное количество рецептов из каждой группы таким образом, чтобы было возможно сформировать трехмерный массив. Выведите форму полученного массива."
   ]
  },
  {
   "cell_type": "code",
   "execution_count": 14,
   "metadata": {
    "id": "9ASMi03X9QUL"
   },
   "outputs": [
    {
     "name": "stdout",
     "output_type": "stream",
     "text": [
      "(3, 7588, 3)\n"
     ]
    }
   ],
   "source": [
    "import pandas as pd\n",
    "import numpy as np\n",
    "\n",
    "# загрузка данных из файла\n",
    "df = pd.read_csv('minutes_n_ingredients.csv', names=['id', 'minutes', 'ingredients'])\n",
    "\n",
    "# создание нового столбца с названиями групп\n",
    "conditions = [\n",
    "    df['minutes'] < 10,\n",
    "    (df['minutes'] >= 10) & (df['minutes'] < 20),\n",
    "    df['minutes'] >= 20\n",
    "]\n",
    "choices = ['short', 'standard', 'long']\n",
    "df['group'] = np.select(conditions, choices)\n",
    "\n",
    "# группировка и выбор максимального количества рецептов из каждой группы\n",
    "max_count = df.groupby('group').size().min()\n",
    "df = df.groupby('group').apply(lambda x: x.sample(n=max_count)).reset_index(drop=True)\n",
    "\n",
    "# преобразование в трехмерный массив\n",
    "array = df[['id', 'minutes', 'ingredients']].to_numpy().reshape((3, max_count, 3))\n",
    "\n",
    "# вывод формы массива\n",
    "print(array.shape)\n"
   ]
  },
  {
   "cell_type": "code",
   "execution_count": null,
   "outputs": [],
   "source": [],
   "metadata": {
    "collapsed": false
   }
  }
 ],
 "metadata": {
  "kernelspec": {
   "display_name": "Python 3",
   "language": "python",
   "name": "python3"
  },
  "language_info": {
   "codemirror_mode": {
    "name": "ipython",
    "version": 3
   },
   "file_extension": ".py",
   "mimetype": "text/x-python",
   "name": "python",
   "nbconvert_exporter": "python",
   "pygments_lexer": "ipython3",
   "version": "3.7.6"
  },
  "colab": {
   "provenance": []
  }
 },
 "nbformat": 4,
 "nbformat_minor": 0
}
