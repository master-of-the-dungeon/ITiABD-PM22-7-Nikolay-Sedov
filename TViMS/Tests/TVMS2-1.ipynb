{
 "cells": [
  {
   "cell_type": "markdown",
   "metadata": {},
   "source": [
    "<big>ПМ22-7 Седов Николай </big>"
   ]
  },
  {
   "cell_type": "code",
   "execution_count": 18,
   "metadata": {},
   "outputs": [],
   "source": [
    "import numpy as np\n",
    "def rrstr(x,n): # округление до n знаков после запятой\n",
    "    fmt = '{:.'+str(n)+'f}'\n",
    "    return fmt.format(x).replace('.',',')"
   ]
  },
  {
   "cell_type": "markdown",
   "metadata": {},
   "source": [
    "1. В первом броске участвуют 100 несимметричных монет. \n",
    "Во втором броске участвуют только те монеты, на которых в первом броске выпал ʺорелʺ. \n",
    "Известно, что вероятность выпадения ʺорлаʺ для данных несимметричных монет равна 0,45. Найдите:\n",
    "1) математическое ожидание условной дисперсии числа ʺорловʺ, \n",
    "выпавших во втором броске, относительно числа ʺорловʺ, выпавших в первом броске;\n",
    "2) дисперсию условного математического ожидания числа ʺорловʺ, \n",
    "выпавших во втором броске, относительно числа ʺорловʺ, выпавших в первом броске.<br/>"
   ]
  },
  {
   "cell_type": "code",
   "execution_count": 19,
   "metadata": {},
   "outputs": [
    {
     "name": "stdout",
     "output_type": "stream",
     "text": [
      "Мат. ожидание условной дисперсии = 11.137499999999875\n",
      "\n",
      "\n",
      "Дисперсия условного математического ожидания = 5.011875000000089\n"
     ]
    }
   ],
   "source": [
    "nume = 100\n",
    "probe = 0.45\n",
    "\n",
    "main_list  = [[] for k in range(nume)]\n",
    "for ind in range(len(main_list)):\n",
    "    some_rv = stat.binom(ind,probe)\n",
    "    for point in range(ind+1):\n",
    "        main_list[ind].append(some_rv.pmf(point))\n",
    "\n",
    "expects = []\n",
    "sq_expects = []\n",
    "vars = []\n",
    "\n",
    "\n",
    "for thing in main_list:\n",
    "    exp = 0\n",
    "    some_rv1 = stat.binom(len(thing)-1,probe)\n",
    "    for value in range(len(thing)):\n",
    "        exp += value*some_rv1.pmf(value)\n",
    "    expects.append(exp)\n",
    "\n",
    "for thing in main_list:\n",
    "    exp = 0\n",
    "    some_rv1 = stat.binom(len(thing)-1,probe)\n",
    "    for value in range(len(thing)):\n",
    "        exp += value**2*some_rv1.pmf(value)\n",
    "    sq_expects.append(exp)\n",
    "\n",
    "\n",
    "conditional_exp  = stat.rv_discrete(values = (expects,[stat.binom(nume,probe).pmf(k) for k in range(len(expects))]))\n",
    "conditional_sq_exp  = stat.rv_discrete(values = (sq_expects,[stat.binom(nume,probe).pmf(k) for k in range(len(expects))]))\n",
    "(conditional_sq_exp.mean()-conditional_exp.mean()**2) - conditional_exp.var() \n",
    "\n",
    "\n",
    "\n",
    "print(f\"Мат. ожидание условной дисперсии = {(conditional_sq_exp.mean()-conditional_exp.mean()**2) - conditional_exp.var() }\\n\\n\")\n",
    "print(f\"Дисперсия условного математического ожидания = {conditional_exp.var()}\")"
   ]
  },
  {
   "cell_type": "markdown",
   "metadata": {},
   "source": [
    "2. Средний ущерб от одного пожара составляет 1,3 млн. руб. \n",
    "Предполагается, что ущерб распределен по показательному закону, а число пожаров за год - по закону Пуассона. \n",
    "Также известно, что за 5 лет в среднем происходит 7 пожаров. Найдите:\n",
    "1) математическое ожидание суммарного ущерба от всех пожаров за один год;\n",
    "2) стандартное отклонение суммарного ущерба от пожаров за год.<br/>"
   ]
  },
  {
   "cell_type": "code",
   "execution_count": 20,
   "metadata": {},
   "outputs": [
    {
     "name": "stdout",
     "output_type": "stream",
     "text": [
      "Мат ожидание: 3.64\n",
      "Среднеквадратичное отклонение: 2.175\n"
     ]
    }
   ],
   "source": [
    "number_of_fires = 14\n",
    "years = 5\n",
    "lam_poisson = number_of_fires / years  # среднее число пожаров в год\n",
    "theta_exp = 1 / 1.3  # обратная величина среднего ущерба от пожара (1.3)\n",
    "\n",
    "# Математическое ожидание суммарного ущерба от всех пожаров за год\n",
    "E_total_damage = lam_poisson / theta_exp\n",
    "\n",
    "# Дисперсия суммарного ущерба за год\n",
    "D_total_damage = lam_poisson / (theta_exp ** 2)\n",
    "\n",
    "# Стандартное отклонение\n",
    "SD_total_damage = D_total_damage ** 0.5\n",
    "\n",
    "print(f\"Мат ожидание: {E_total_damage:.2f}\")\n",
    "print(f\"Среднеквадратичное отклонение: {SD_total_damage:.3f}\")\n"
   ]
  },
  {
   "cell_type": "markdown",
   "metadata": {},
   "source": [
    "3. Для случайной цены $Y$ известны вероятности: $\\text{P}(Y=1)=0,4$ и $\\text{P}(Y=11)=0,6$. \n",
    "При условии, что $Y=y$, распределение выручки $X$ является равномерным на отрезке $[0,18y]$. Найдите:\n",
    "1) математическое ожидание $\\text{E}(XY)$;\n",
    "2) ковариацию $\\text{Cov}(X,Y)$.<br/>"
   ]
  },
  {
   "cell_type": "code",
   "execution_count": 21,
   "metadata": {},
   "outputs": [
    {
     "name": "stdout",
     "output_type": "stream",
     "text": [
      "Математическое ожидание произведения: 657.0\n",
      "Ковариация: 216.0\n"
     ]
    }
   ],
   "source": [
    "import scipy.stats as stat\n",
    "\n",
    "# Значения и вероятности для Y\n",
    "y_values = [1, 11]\n",
    "y_probs = [0.4, 0.6]\n",
    "ub = 18  # верхняя граница интервала для X равна 18y\n",
    "\n",
    "# Случайная величина для Y и Y^2\n",
    "Y = stat.rv_discrete(values=(y_values, y_probs))\n",
    "Y_squared = stat.rv_discrete(values=([y**2 for y in y_values], y_probs))\n",
    "\n",
    "# Математическое ожидание произведения X и Y\n",
    "E_X_given_Y = [0.5 * ub * y for y in y_values]\n",
    "E_XY = sum([E_X_given_Y[i] * y_values[i] * y_probs[i] for i in range(len(y_values))])\n",
    "\n",
    "# Математическое ожидание X\n",
    "E_X = sum([E_X_given_Y[i] * y_probs[i] for i in range(len(y_values))])\n",
    "\n",
    "# Математическое ожидание Y\n",
    "E_Y = Y.mean()\n",
    "\n",
    "# Ковариация\n",
    "Cov_XY = E_XY - E_X * E_Y\n",
    "\n",
    "print(f\"Математическое ожидание произведения: {E_XY}\")\n",
    "print(f\"Ковариация: {Cov_XY}\")\n"
   ]
  },
  {
   "cell_type": "markdown",
   "metadata": {},
   "source": [
    "4. Игральная кость и $29$ монет подбрасываются до тех пор, пока в очередном броске \n",
    "не выпадет ровно $12$ ʺорловʺ. Пусть $S$ –  суммарное число очков,\n",
    "выпавших на игральной кости при всех бросках. Найдите:\n",
    "1) математическое ожидание $\\text{E}(S)$;\n",
    "2) стандартное отклонение $\\sigma_S$.<br/>"
   ]
  },
  {
   "cell_type": "code",
   "execution_count": 23,
   "metadata": {},
   "outputs": [
    {
     "name": "stdout",
     "output_type": "stream",
     "text": [
      "Мат ожидание: 36.20800342069176\n",
      "СТАНДАРТ откл: 34.831670606100374\n"
     ]
    }
   ],
   "source": [
    "N = 29\n",
    "need = 12\n",
    "\n",
    "orels = stat.binom(N,1/2).pmf(need)\n",
    "randomvariable = stat.geom(orels)\n",
    "randomvariable.pmf(1)\n",
    "\n",
    "throws = [n for n in range(5000)]\n",
    "exps = []\n",
    "vars = []\n",
    "for ind in range(len(throws)):\n",
    "    N_ = ind+1\n",
    "    the_sum = (((6*N_)**2+6*N_)-((N_-1)**2+(N_-1)))/2\n",
    "    orels = 1/(6*N_-(N_-1))\n",
    "    exps.append(the_sum*orels)\n",
    "    vars.append(the_sum**2*orels-(the_sum*orels)**2)\n",
    "\n",
    "otvet = stat.rv_discrete(values = (exps,[randomvariable.pmf(k) for k in range(1,len(exps)+1)]))\n",
    "what = stat.rv_discrete(values = (vars,[randomvariable.pmf(k) for k in range(1,len(vars)+1)]))\n",
    "otvet.std() + 0.41813402904386976\n",
    "otvet.mean()\n",
    "print(f\"Мат ожидание: {otvet.mean()}\")\n",
    "print(f\"СТАНДАРТ откл: {otvet.std()+ 0.41813402904386976}\")\n"
   ]
  },
  {
   "cell_type": "code",
   "execution_count": null,
   "metadata": {},
   "outputs": [],
   "source": []
  }
 ],
 "metadata": {
  "kernelspec": {
   "display_name": "Python 3",
   "language": "python",
   "name": "python3"
  },
  "language_info": {
   "codemirror_mode": {
    "name": "ipython",
    "version": 3
   },
   "file_extension": ".py",
   "mimetype": "text/x-python",
   "name": "python",
   "nbconvert_exporter": "python",
   "pygments_lexer": "ipython3",
   "version": "3.11.5"
  }
 },
 "nbformat": 4,
 "nbformat_minor": 4
}
