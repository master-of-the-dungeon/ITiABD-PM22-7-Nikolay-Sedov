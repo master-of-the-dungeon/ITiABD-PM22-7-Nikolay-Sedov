{
 "cells": [
  {
   "cell_type": "code",
   "execution_count": 8,
   "id": "c45e7e29",
   "metadata": {},
   "outputs": [],
   "source": [
    "import numpy as np\n",
    "import statistics as stat\n",
    "from scipy.stats import *\n",
    "from itertools import permutations, combinations, product"
   ]
  },
  {
   "cell_type": "code",
   "execution_count": 80,
   "id": "2f445f9f",
   "metadata": {},
   "outputs": [
    {
     "data": {
      "text/plain": [
       "71.21052631578948"
      ]
     },
     "execution_count": 80,
     "metadata": {},
     "output_type": "execute_result"
    }
   ],
   "source": [
    "#1\n",
    "balls = [90, 79, 53, 62, 66, 68, 75, 0, 82, 29, 0, 29, 68, 90, 0, 60, 44, 44, 70, 68, 70, 89, 0, 68, 0, 66, 0, 59, 70]\n",
    "positive_balls = []\n",
    "median_mark = []\n",
    "for i in balls:\n",
    "        if i >= 50:\n",
    "            positive_balls.append(i)\n",
    "np.array(positive_balls).mean() #непраыильное значение. Причина не выявлена"
   ]
  },
  {
   "cell_type": "code",
   "execution_count": 37,
   "id": "eeadcedd",
   "metadata": {},
   "outputs": [
    {
     "data": {
      "text/plain": [
       "68"
      ]
     },
     "execution_count": 37,
     "metadata": {},
     "output_type": "execute_result"
    }
   ],
   "source": [
    "stat.median(positive_balls)"
   ]
  },
  {
   "cell_type": "code",
   "execution_count": 38,
   "id": "d186a3c0",
   "metadata": {},
   "outputs": [
    {
     "data": {
      "text/plain": [
       "75.00337543461531"
      ]
     },
     "execution_count": 38,
     "metadata": {},
     "output_type": "execute_result"
    }
   ],
   "source": [
    "H = stat.harmonic_mean([i for i in balls if i >= 68])\n",
    "H"
   ]
  },
  {
   "cell_type": "code",
   "execution_count": 42,
   "id": "f911724f",
   "metadata": {},
   "outputs": [
    {
     "data": {
      "text/plain": [
       "75.45182859778731"
      ]
     },
     "execution_count": 42,
     "metadata": {},
     "output_type": "execute_result"
    }
   ],
   "source": [
    "G = stat.geometric_mean([i for i in balls if i >= 68])\n",
    "G"
   ]
  },
  {
   "cell_type": "code",
   "execution_count": 43,
   "id": "ed4b3f7f",
   "metadata": {},
   "outputs": [
    {
     "data": {
      "text/plain": [
       "70.0"
      ]
     },
     "execution_count": 43,
     "metadata": {},
     "output_type": "execute_result"
    }
   ],
   "source": [
    "for i in balls:\n",
    "    if i >= 68:\n",
    "        median_mark.append(i)\n",
    "stat.median(median_mark)"
   ]
  },
  {
   "cell_type": "code",
   "execution_count": 45,
   "id": "cd2241b9",
   "metadata": {},
   "outputs": [
    {
     "data": {
      "text/plain": [
       "4"
      ]
     },
     "execution_count": 45,
     "metadata": {},
     "output_type": "execute_result"
    }
   ],
   "source": [
    "N = 0\n",
    "for i in balls:\n",
    "    if i >= stat.median(median_mark) and i <= H:\n",
    "        N += 1\n",
    "N"
   ]
  },
  {
   "cell_type": "code",
   "execution_count": 55,
   "id": "f29a0f76",
   "metadata": {},
   "outputs": [
    {
     "data": {
      "text/plain": [
       "(3.9642857142857144, 108.64966048952843)"
      ]
     },
     "execution_count": 55,
     "metadata": {},
     "output_type": "execute_result"
    }
   ],
   "source": [
    "#2\n",
    "PD = [-9, 9, -138, -145, 186, 78, 34, -37, -19, -68, -82, 158, 96, -189, 24, 84, -99, 125, -39, 26, 62, -91, 239, -211, 2, 129, 2, -16]\n",
    "mu = np.array(PD).mean()\n",
    "sigma = np.array(PD).var()**0.5\n",
    "mu,sigma"
   ]
  },
  {
   "cell_type": "code",
   "execution_count": 63,
   "id": "ba85594a",
   "metadata": {},
   "outputs": [
    {
     "data": {
      "text/plain": [
       "[-69.31879664818541, 3.9642857142857144, 77.24736807675683]"
      ]
     },
     "execution_count": 63,
     "metadata": {},
     "output_type": "execute_result"
    }
   ],
   "source": [
    "ndist = stat.NormalDist(mu, sigma)\n",
    "ndist.quantiles()"
   ]
  },
  {
   "cell_type": "code",
   "execution_count": 65,
   "id": "6e6a7bb6",
   "metadata": {},
   "outputs": [
    {
     "data": {
      "text/plain": [
       "13"
      ]
     },
     "execution_count": 65,
     "metadata": {},
     "output_type": "execute_result"
    }
   ],
   "source": [
    "N = 0\n",
    "for i in PD:\n",
    "    if i >= -69.31879664818541 and i <= 77.24736807675683:\n",
    "        N += 1\n",
    "N\n",
    "#хч, как посчитать функцию распределения и эмперическую функцию распределения "
   ]
  },
  {
   "cell_type": "code",
   "execution_count": 72,
   "id": "40fc0bad",
   "metadata": {},
   "outputs": [
    {
     "data": {
      "text/plain": [
       "(30, 30)"
      ]
     },
     "execution_count": 72,
     "metadata": {},
     "output_type": "execute_result"
    }
   ],
   "source": [
    "#3\n",
    "x = [71, 52, 72, 87, 81, 100, 90, 54, 54, 58, 56, 70, 93, 46, 56, 59, 42, 60, 33, 83, 50, 93, 41, 55, 60,\n",
    "    37, 71, 42, 85, 39]\n",
    "y = [71, 58, 81, 92, 81, 94, 96, 46, 60, 62, 49, 60, 86, 48, 61, 52, 40, 60, 37, 92, 57, 93, 42, 64, 59, 30, 71, 44,\n",
    "     82, 39]\n",
    "len(x), len(y)"
   ]
  },
  {
   "cell_type": "code",
   "execution_count": 76,
   "id": "05a49278",
   "metadata": {},
   "outputs": [
    {
     "data": {
      "text/plain": [
       "(21, 21)"
      ]
     },
     "execution_count": 76,
     "metadata": {},
     "output_type": "execute_result"
    }
   ],
   "source": [
    "usl_x = []\n",
    "usl_y = []\n",
    "for i in range(30):\n",
    "    if x[i] >= 50 and y[i] >= 50:\n",
    "        usl_x.append(x[i]),usl_y.append(y[i])\n",
    "len(usl_x), len(usl_x)"
   ]
  },
  {
   "cell_type": "code",
   "execution_count": 78,
   "id": "e6dda14f",
   "metadata": {},
   "outputs": [
    {
     "data": {
      "text/plain": [
       "219.4714285714286"
      ]
     },
     "execution_count": 78,
     "metadata": {},
     "output_type": "execute_result"
    }
   ],
   "source": [
    "stat.covariance(usl_x,usl_y)#почему-то неправильная,хотя должно быть норм. Корреляция сошлась "
   ]
  },
  {
   "cell_type": "code",
   "execution_count": 79,
   "id": "478d8b94",
   "metadata": {},
   "outputs": [
    {
     "data": {
      "text/plain": [
       "0.9314919526701532"
      ]
     },
     "execution_count": 79,
     "metadata": {},
     "output_type": "execute_result"
    }
   ],
   "source": [
    "stat.correlation(usl_x, usl_y) "
   ]
  },
  {
   "cell_type": "code",
   "execution_count": null,
   "id": "41646cbe",
   "metadata": {},
   "outputs": [],
   "source": []
  }
 ],
 "metadata": {
  "kernelspec": {
   "display_name": "Python 3 (ipykernel)",
   "language": "python",
   "name": "python3"
  },
  "language_info": {
   "codemirror_mode": {
    "name": "ipython",
    "version": 3
   },
   "file_extension": ".py",
   "mimetype": "text/x-python",
   "name": "python",
   "nbconvert_exporter": "python",
   "pygments_lexer": "ipython3",
   "version": "3.11.2"
  }
 },
 "nbformat": 4,
 "nbformat_minor": 5
}
