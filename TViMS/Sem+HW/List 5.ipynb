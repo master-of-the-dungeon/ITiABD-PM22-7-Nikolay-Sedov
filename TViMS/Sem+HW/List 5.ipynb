{
 "cells": [
  {
   "cell_type": "code",
   "execution_count": 3,
   "metadata": {},
   "outputs": [],
   "source": [
    "import numpy as np\n",
    "import sympy as sp\n",
    "import matplotlib as mpl\n",
    "import sklearn as skl"
   ]
  },
  {
   "cell_type": "markdown",
   "metadata": {},
   "source": [
    "Пусть ˆθ = T(X1, . . . , Xn) оценка параметра θ, а b = E (\n",
    "ˆθ) − θ – смещение.\n",
    "Доказать формулу\n",
    "∆ = Var(ˆθ) + b\n",
    "2\n",
    ",\n",
    "где ∆ = E [(ˆθ − θ)\n",
    "2\n",
    "] – среднеквадратичная ошибка оценки."
   ]
  },
  {
   "cell_type": "code",
   "execution_count": 5,
   "metadata": {},
   "outputs": [
    {
     "name": "stdout",
     "output_type": "stream",
     "text": [
      "Среднеквадратичная ошибка: b**2\n",
      "Ожидаемая ошибка: b**2 + (-b - theta + theta_hat)**2\n",
      "Равенство верно? False\n"
     ]
    }
   ],
   "source": [
    "# Определяем переменные\n",
    "theta, theta_hat, b = sp.symbols('theta theta_hat b')\n",
    "\n",
    "# Определение смещения\n",
    "b_def = sp.Eq(b, theta_hat - theta)\n",
    "\n",
    "# Вычисление среднеквадратичной ошибки\n",
    "mse = (theta_hat - theta)**2\n",
    "\n",
    "# Замена математического ожидания theta_hat на theta + b в MSE\n",
    "mse = mse.subs(theta_hat, theta + b)\n",
    "\n",
    "# Вычисление Var(theta_hat) (по определению)\n",
    "var_theta_hat = (theta_hat - (theta + b))**2\n",
    "\n",
    "# Вычисление ожидаемой ошибки\n",
    "expected_error = var_theta_hat + b**2\n",
    "\n",
    "# Проверка равенства\n",
    "is_equal = sp.simplify(mse - expected_error) == 0\n",
    "\n",
    "print(f\"Среднеквадратичная ошибка: {mse}\")\n",
    "print(f\"Ожидаемая ошибка: {expected_error}\")\n",
    "print(f\"Равенство верно? {is_equal}\")"
   ]
  },
  {
   "cell_type": "markdown",
   "metadata": {},
   "source": [
    "Исследователь получил два наблюдения X1 и X2 случайной величины X,\n",
    "причем он предполагает, что второе наблюдение в два раза важнее первого. В качестве оценки математического ожидания θ случайной величины\n",
    "X используется оценка вида ˆθ = aX1 + 2aX2. Известно отношение\n",
    "σ\n",
    "2\n",
    "θ\n",
    "2\n",
    "=\n",
    "3\n",
    "5\n",
    ".\n",
    "Найдите «лучшую» оценку такого вида, используя среднеквадратичный\n",
    "подход сравнения. Является ли эта оценка несмещенной?\n"
   ]
  },
  {
   "cell_type": "code",
   "execution_count": 7,
   "metadata": {},
   "outputs": [
    {
     "name": "stdout",
     "output_type": "stream",
     "text": [
      "Оптимальное значение для a: [1/3]\n",
      "Оценка несмещенная? Нет\n"
     ]
    }
   ],
   "source": [
    "import sympy as sp\n",
    "\n",
    "# Определение переменных\n",
    "theta, X1, X2, a, sigma = sp.symbols('theta X1 X2 a sigma')\n",
    "\n",
    "# Оценка математического ожидания\n",
    "theta_hat = a*X1 + 2*a*X2\n",
    "\n",
    "# Среднеквадратичная ошибка\n",
    "MSE = (theta_hat - theta)**2\n",
    "\n",
    "# Используем известные свойства математического ожидания и дисперсии\n",
    "MSE_substituted = MSE.subs({X1**2: sigma**2 + theta**2, \n",
    "                X2**2: sigma**2 + theta**2, \n",
    "                X1*X2: theta**2, \n",
    "                X1: theta, \n",
    "                X2: theta})\n",
    "\n",
    "# Взятие производной MSE по a и ее приравнивание к нулю\n",
    "optimal_a = sp.solve(sp.diff(MSE_substituted, a), a)\n",
    "\n",
    "# Проверка на несмещенность\n",
    "unbiased_check = theta_hat.subs({X1: theta, X2: theta}) - theta\n",
    "\n",
    "print(f\"Оптимальное значение для a: {optimal_a}\")\n",
    "print(f\"Оценка несмещенная? {'Да' if unbiased_check == 0 else 'Нет'}\")\n"
   ]
  },
  {
   "cell_type": "code",
   "execution_count": null,
   "metadata": {},
   "outputs": [],
   "source": []
  }
 ],
 "metadata": {
  "kernelspec": {
   "display_name": "Python 3",
   "language": "python",
   "name": "python3"
  },
  "language_info": {
   "codemirror_mode": {
    "name": "ipython",
    "version": 3
   },
   "file_extension": ".py",
   "mimetype": "text/x-python",
   "name": "python",
   "nbconvert_exporter": "python",
   "pygments_lexer": "ipython3",
   "version": "3.11.4"
  }
 },
 "nbformat": 4,
 "nbformat_minor": 2
}
