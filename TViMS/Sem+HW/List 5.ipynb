{
 "cells": [
  {
   "cell_type": "code",
   "execution_count": 3,
   "metadata": {},
   "outputs": [],
   "source": [
    "import numpy as np\n",
    "import sympy as sp\n",
    "import matplotlib as mpl\n",
    "import sklearn as skl"
   ]
  },
  {
   "cell_type": "markdown",
   "metadata": {},
   "source": [
    "Пусть ˆθ = T(X1, . . . , Xn) оценка параметра θ, а b = E (\n",
    "ˆθ) − θ – смещение.\n",
    "Доказать формулу\n",
    "∆ = Var(ˆθ) + b\n",
    "2\n",
    ",\n",
    "где ∆ = E [(ˆθ − θ)\n",
    "2\n",
    "] – среднеквадратичная ошибка оценки."
   ]
  },
  {
   "cell_type": "code",
   "execution_count": 5,
   "metadata": {},
   "outputs": [
    {
     "name": "stdout",
     "output_type": "stream",
     "text": [
      "Среднеквадратичная ошибка: b**2\n",
      "Ожидаемая ошибка: b**2 + (-b - theta + theta_hat)**2\n",
      "Равенство верно? False\n"
     ]
    }
   ],
   "source": [
    "# Определяем переменные\n",
    "theta, theta_hat, b = sp.symbols('theta theta_hat b')\n",
    "\n",
    "# Определение смещения\n",
    "b_def = sp.Eq(b, theta_hat - theta)\n",
    "\n",
    "# Вычисление среднеквадратичной ошибки\n",
    "mse = (theta_hat - theta)**2\n",
    "\n",
    "# Замена математического ожидания theta_hat на theta + b в MSE\n",
    "mse = mse.subs(theta_hat, theta + b)\n",
    "\n",
    "# Вычисление Var(theta_hat) (по определению)\n",
    "var_theta_hat = (theta_hat - (theta + b))**2\n",
    "\n",
    "# Вычисление ожидаемой ошибки\n",
    "expected_error = var_theta_hat + b**2\n",
    "\n",
    "# Проверка равенства\n",
    "is_equal = sp.simplify(mse - expected_error) == 0\n",
    "\n",
    "print(f\"Среднеквадратичная ошибка: {mse}\")\n",
    "print(f\"Ожидаемая ошибка: {expected_error}\")\n",
    "print(f\"Равенство верно? {is_equal}\")"
   ]
  },
  {
   "cell_type": "markdown",
   "metadata": {},
   "source": [
    "Исследователь получил два наблюдения X1 и X2 случайной величины X,\n",
    "причем он предполагает, что второе наблюдение в два раза важнее первого. В качестве оценки математического ожидания θ случайной величины\n",
    "X используется оценка вида ˆθ = aX1 + 2aX2. Известно отношение\n",
    "σ\n",
    "2\n",
    "θ\n",
    "2\n",
    "=\n",
    "3\n",
    "5\n",
    ".\n",
    "Найдите «лучшую» оценку такого вида, используя среднеквадратичный\n",
    "подход сравнения. Является ли эта оценка несмещенной?\n"
   ]
  },
  {
   "cell_type": "code",
   "execution_count": 15,
   "metadata": {},
   "outputs": [
    {
     "name": "stdout",
     "output_type": "stream",
     "text": [
      "Оптимальное значение для a: [1/3]\n",
      "Оценка несмещенная? Нет\n",
      "MSE после подстановки: (3*a*theta - theta)**2\n"
     ]
    }
   ],
   "source": [
    "import sympy as sp\n",
    "\n",
    "# Определение переменных\n",
    "theta, X1, X2, a, sigma = sp.symbols('theta X1 X2 a sigma')\n",
    "\n",
    "# Оценка математического ожидания\n",
    "theta_hat = a*X1 + 2*a*X2\n",
    "\n",
    "# Среднеквадратичная ошибка\n",
    "MSE = (theta_hat - theta)**2\n",
    "\n",
    "# Используем известные свойства математического ожидания и дисперсии\n",
    "MSE_substituted = MSE.subs({X1**2: sigma**2 + theta**2, \n",
    "                X2**2: sigma**2 + theta**2, \n",
    "                X1*X2: theta**2, \n",
    "                X1: theta, \n",
    "                X2: theta})\n",
    "\n",
    "# Взятие производной MSE по a и ее приравнивание к нулю\n",
    "optimal_a = sp.solve(sp.diff(MSE_substituted, a), a)\n",
    "\n",
    "# Проверка на несмещенность\n",
    "unbiased_check = theta_hat.subs({X1: theta, X2: theta}) - theta\n",
    "\n",
    "print(f\"Оптимальное значение для a: {optimal_a}\")\n",
    "print(f\"Оценка несмещенная? {'Да' if unbiased_check == 0 else 'Нет'}\")\n",
    "print(f\"MSE после подстановки: {MSE_substituted}\")\n"
   ]
  },
  {
   "cell_type": "markdown",
   "metadata": {},
   "source": [
    "Пусть X1, X2, X3, X4 – выборка из N(θ; σ\n",
    "2\n",
    "). Рассмотрим две оценки параметра θ:\n",
    "ˆθ1 =\n",
    "X1 + 2X2 + 3X3 + 4X4\n",
    "10\n",
    ",\n",
    "ˆθ2 =\n",
    "X1 + 4X2 + 4X3 + X4\n",
    "10\n",
    ".\n",
    "a) Покажите, что обе оценки несмещенные.\n",
    "б) Какая из оценок оптимальная?\n"
   ]
  },
  {
   "cell_type": "code",
   "execution_count": 12,
   "metadata": {},
   "outputs": [
    {
     "name": "stdout",
     "output_type": "stream",
     "text": [
      "Ожидаемое значение для theta_hat1: theta\n",
      "Ожидаемое значение для theta_hat2: theta\n",
      "Дисперсия для theta_hat1: (10*sigma**2 + 10*theta**2 - 10*theta)**2/100\n",
      "Дисперсия для theta_hat2: (10*sigma**2 + 10*theta**2 - 10*theta)**2/100\n",
      "Оптимальная оценка: theta_hat2\n"
     ]
    }
   ],
   "source": [
    "\n",
    "# Определение переменных\n",
    "theta, X1, X2, X3, X4, sigma = sp.symbols('theta X1 X2 X3 X4 sigma')\n",
    "\n",
    "# Определение оценок\n",
    "theta_hat1 = (X1 + 2*X2 + 3*X3 + 4*X4) / 10\n",
    "theta_hat2 = (X1 + 4*X2 + 4*X3 + X4) / 10\n",
    "\n",
    "# Проверка на несмещенность\n",
    "expectation_theta_hat1 = theta_hat1.subs({X1: theta, X2: theta, X3: theta, X4: theta})\n",
    "expectation_theta_hat2 = theta_hat2.subs({X1: theta, X2: theta, X3: theta, X4: theta})\n",
    "\n",
    "# Вычисление дисперсий\n",
    "var_theta_hat1 = sp.simplify((theta_hat1 - expectation_theta_hat1)**2).subs({X1: sigma**2 + theta**2, X2: sigma**2 + theta**2, X3: sigma**2 + theta**2, X4: sigma**2 + theta**2})\n",
    "var_theta_hat2 = sp.simplify((theta_hat2 - expectation_theta_hat2)**2).subs({X1: sigma**2 + theta**2, X2: sigma**2 + theta**2, X3: sigma**2 + theta**2, X4: sigma**2 + theta**2})\n",
    "\n",
    "print(f\"Ожидаемое значение для theta_hat1: {expectation_theta_hat1}\")\n",
    "print(f\"Ожидаемое значение для theta_hat2: {expectation_theta_hat2}\")\n",
    "\n",
    "print(f\"Дисперсия для theta_hat1: {var_theta_hat1}\")\n",
    "print(f\"Дисперсия для theta_hat2: {var_theta_hat2}\")\n",
    "\n",
    "difference = sp.simplify(var_theta_hat1 - var_theta_hat2)\n",
    "if difference < 0:\n",
    "    optimal_estimate = \"theta_hat1\"\n",
    "else:\n",
    "    optimal_estimate = \"theta_hat2\"\n",
    "print(f\"Оптимальная оценка: {optimal_estimate}\")\n"
   ]
  },
  {
   "cell_type": "markdown",
   "metadata": {},
   "source": [
    "Пусть X1, X2, . . . , Xn – выборка из равномерного распределения U([0; θ]) c\n",
    "неизвестным параметром θ > 0. Требуется оценить параметр θ. В качестве\n",
    "оценки параметра θ рассматриваются:\n",
    "ˆθ1 = 2X, ˆθ2 =\n",
    "n + 1\n",
    "n\n",
    "X(n)\n",
    ",\n",
    "ˆθ3 = (n + 1)X(1).\n",
    "а) Будут ли оценки несмещенными?; б) Состоятельными? в) Найти среди\n",
    "них оптимальную."
   ]
  },
  {
   "cell_type": "code",
   "execution_count": 27,
   "metadata": {},
   "outputs": [
    {
     "name": "stdout",
     "output_type": "stream",
     "text": [
      "Оценка theta_hat1 несмещенная? Нет\n",
      "Оценка theta_hat2 несмещенная? Нет\n",
      "Оценка theta_hat3 несмещенная? Нет\n"
     ]
    },
    {
     "ename": "AttributeError",
     "evalue": "'Mul' object has no attribute 'var'",
     "output_type": "error",
     "traceback": [
      "\u001b[1;31m---------------------------------------------------------------------------\u001b[0m",
      "\u001b[1;31mAttributeError\u001b[0m                            Traceback (most recent call last)",
      "\u001b[1;32mc:\\Users\\nsedoff\\Documents\\VSCode docs\\ITiABD-PM22-7-Nikolay-Sedov\\TViMS\\Sem+HW\\List 5.ipynb Cell 9\u001b[0m line \u001b[0;36m2\n\u001b[0;32m     <a href='vscode-notebook-cell:/c%3A/Users/nsedoff/Documents/VSCode%20docs/ITiABD-PM22-7-Nikolay-Sedov/TViMS/Sem%2BHW/List%205.ipynb#X10sZmlsZQ%3D%3D?line=24'>25</a>\u001b[0m \u001b[39mprint\u001b[39m(\u001b[39mf\u001b[39m\u001b[39m\"\u001b[39m\u001b[39mОценка theta_hat3 несмещенная? \u001b[39m\u001b[39m{\u001b[39;00m\u001b[39m'\u001b[39m\u001b[39mДа\u001b[39m\u001b[39m'\u001b[39m\u001b[39m \u001b[39m\u001b[39mif\u001b[39;00m\u001b[39m \u001b[39mE_theta_hat3\u001b[39m \u001b[39m\u001b[39m==\u001b[39m\u001b[39m \u001b[39mtheta\u001b[39m \u001b[39m\u001b[39melse\u001b[39;00m\u001b[39m \u001b[39m\u001b[39m'\u001b[39m\u001b[39mНет\u001b[39m\u001b[39m'\u001b[39m\u001b[39m}\u001b[39;00m\u001b[39m\"\u001b[39m)\n\u001b[0;32m     <a href='vscode-notebook-cell:/c%3A/Users/nsedoff/Documents/VSCode%20docs/ITiABD-PM22-7-Nikolay-Sedov/TViMS/Sem%2BHW/List%205.ipynb#X10sZmlsZQ%3D%3D?line=26'>27</a>\u001b[0m \u001b[39m# Дисперсии оценок\u001b[39;00m\n\u001b[1;32m---> <a href='vscode-notebook-cell:/c%3A/Users/nsedoff/Documents/VSCode%20docs/ITiABD-PM22-7-Nikolay-Sedov/TViMS/Sem%2BHW/List%205.ipynb#X10sZmlsZQ%3D%3D?line=27'>28</a>\u001b[0m Var_theta_hat1 \u001b[39m=\u001b[39m theta_hat1\u001b[39m.\u001b[39;49mvar()\u001b[39m.\u001b[39msubs({xi: theta\u001b[39m/\u001b[39m\u001b[39m2\u001b[39m \u001b[39mfor\u001b[39;00m xi \u001b[39min\u001b[39;00m Xs})\n\u001b[0;32m     <a href='vscode-notebook-cell:/c%3A/Users/nsedoff/Documents/VSCode%20docs/ITiABD-PM22-7-Nikolay-Sedov/TViMS/Sem%2BHW/List%205.ipynb#X10sZmlsZQ%3D%3D?line=28'>29</a>\u001b[0m Var_theta_hat2 \u001b[39m=\u001b[39m theta_hat2\u001b[39m.\u001b[39mvar()\u001b[39m.\u001b[39msubs(X_n, theta)\n\u001b[0;32m     <a href='vscode-notebook-cell:/c%3A/Users/nsedoff/Documents/VSCode%20docs/ITiABD-PM22-7-Nikolay-Sedov/TViMS/Sem%2BHW/List%205.ipynb#X10sZmlsZQ%3D%3D?line=29'>30</a>\u001b[0m Var_theta_hat3 \u001b[39m=\u001b[39m theta_hat3\u001b[39m.\u001b[39mvar()\u001b[39m.\u001b[39msubs(X_1, \u001b[39m0\u001b[39m)\n",
      "\u001b[1;31mAttributeError\u001b[0m: 'Mul' object has no attribute 'var'"
     ]
    }
   ],
   "source": [
    "\n",
    "# Определение переменных\n",
    "n, theta, X = sp.symbols('n theta X')\n",
    "\n",
    "# Для определенности возьмем n=4 (можно изменить)\n",
    "n_value = 4\n",
    "Xs = sp.symbols(f'X1:{n_value+1}')\n",
    "\n",
    "# Определение порядковых статистик\n",
    "X_1 = sp.Symbol('X_(1)')\n",
    "X_n = sp.Symbol(f'X_({n_value})')\n",
    "\n",
    "# Оценки параметра\n",
    "theta_hat1 = 2 * sp.Sum(X, (X, 1, n)) / n\n",
    "theta_hat2 = (n + 1)/n * X_n\n",
    "theta_hat3 = (n + 1) * X_1\n",
    "\n",
    "\n",
    "# Ожидаемые значения оценок\n",
    "E_theta_hat1 = theta_hat1.subs({xi: theta/2 for xi in Xs})\n",
    "E_theta_hat2 = theta_hat2.subs(X_n, theta)  # Поскольку X_n <= theta\n",
    "E_theta_hat3 = theta_hat3.subs(X_1, 0)  # Поскольку X_1 >= 0\n",
    "\n",
    "print(f\"Оценка theta_hat1 несмещенная? {'Да' if E_theta_hat1 == theta else 'Нет'}\")\n",
    "print(f\"Оценка theta_hat2 несмещенная? {'Да' if E_theta_hat2 == theta else 'Нет'}\")\n",
    "print(f\"Оценка theta_hat3 несмещенная? {'Да' if E_theta_hat3 == theta else 'Нет'}\")\n",
    "\n",
    "# Дисперсии оценок\n",
    "Var_theta_hat1 = theta_hat1.var().subs({xi: theta/2 for xi in Xs})\n",
    "Var_theta_hat2 = theta_hat2.var().subs(X_n, theta)\n",
    "Var_theta_hat3 = theta_hat3.var().subs(X_1, 0)\n",
    "\n",
    "# Преобразование дисперсий в числовые значения с помощью numpy\n",
    "var_values = np.array([Var_theta_hat1, Var_theta_hat2, Var_theta_hat3], dtype=float)\n",
    "\n",
    "# Определение наименьшей дисперсии\n",
    "min_var_index = np.argmin(var_values)\n",
    "\n",
    "# Определение имени наименьшей дисперсии\n",
    "var_names = [\"Var_theta_hat1\", \"Var_theta_hat2\", \"Var_theta_hat3\"]\n",
    "min_var_name = var_names[min_var_index]\n",
    "\n",
    "print(f\"Оптимальная оценка с наименьшей дисперсией: {min_var_name}\")\n"
   ]
  },
  {
   "cell_type": "markdown",
   "metadata": {},
   "source": [
    "Пусть X – случайная величина, которая имеет равномерное распределение на отрезке [0, θ]. Рассмотрим выборку объема 3 и класс оценок вида\n",
    "ˆθ = c · X неизвестного параметра θ. Найдите такое c, чтобы:\n",
    "a) оценка ˆθ – несмещенная;\n",
    "б) оценка ˆθ – эффективная в рассматриваемом классе. Здесь под эффективностью оценки понимается свойство, что оценка обладает наименьшим ∆.\n"
   ]
  },
  {
   "cell_type": "code",
   "execution_count": null,
   "metadata": {},
   "outputs": [],
   "source": []
  }
 ],
 "metadata": {
  "kernelspec": {
   "display_name": "Python 3",
   "language": "python",
   "name": "python3"
  },
  "language_info": {
   "codemirror_mode": {
    "name": "ipython",
    "version": 3
   },
   "file_extension": ".py",
   "mimetype": "text/x-python",
   "name": "python",
   "nbconvert_exporter": "python",
   "pygments_lexer": "ipython3",
   "version": "3.11.4"
  }
 },
 "nbformat": 4,
 "nbformat_minor": 2
}
