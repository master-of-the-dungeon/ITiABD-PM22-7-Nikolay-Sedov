{
 "cells": [
  {
   "cell_type": "markdown",
   "id": "5e693443b338c5ca",
   "metadata": {
    "collapsed": false
   },
   "source": [
    "2.1 2.1. Дано P (Y = 1) = 1\n",
    "8\n",
    ", P (Y = 2) = 7\n",
    "8\n",
    ". Условное распределение\n",
    "(X|Y ) = \u001a\n",
    "2Y, с вероятностью 3\n",
    "4\n",
    ";\n",
    "3Y, с вероятностью 1\n",
    "4\n",
    ".\n",
    "Найдите 1) E(X); 2) Var(X)."
   ]
  },
  {
   "cell_type": "code",
   "execution_count": 1,
   "id": "552624811b612fc0",
   "metadata": {
    "ExecuteTime": {
     "end_time": "2023-09-20T12:48:40.332537900Z",
     "start_time": "2023-09-20T12:48:40.313838100Z"
    },
    "collapsed": false
   },
   "outputs": [
    {
     "data": {
      "text/plain": [
       "(4.21875, 1.2333984375)"
      ]
     },
     "execution_count": 1,
     "metadata": {},
     "output_type": "execute_result"
    }
   ],
   "source": [
    "# Условные вероятности и значения\n",
    "P_Y1 = 1/8\n",
    "P_Y2 = 7/8\n",
    "\n",
    "E_X_given_Y1 = 2 * 1 * 3/4 + 3 * 1 * 1/4\n",
    "E_X_given_Y2 = 2 * 2 * 3/4 + 3 * 2 * 1/4\n",
    "\n",
    "E_X2_given_Y1 = (2 * 1)**2 * 3/4 + (3 * 1)**2 * 1/4\n",
    "E_X2_given_Y2 = (2 * 2)**2 * 3/4 + (3 * 2)**2 * 1/4\n",
    "\n",
    "# Математическое ожидание\n",
    "E_X = P_Y1 * E_X_given_Y1 + P_Y2 * E_X_given_Y2\n",
    "\n",
    "# Математическое ожидание X^2\n",
    "E_X2 = P_Y1 * E_X2_given_Y1 + P_Y2 * E_X2_given_Y2\n",
    "\n",
    "# Дисперсия\n",
    "Var_X = E_X2 - E_X**2\n",
    "\n",
    "E_X, Var_X\n"
   ]
  },
  {
   "cell_type": "markdown",
   "id": "d46252ba461f2b71",
   "metadata": {
    "collapsed": false
   },
   "source": [
    "Для случайной величины Y известно, что\n",
    "P (Y = 5) = P (Y = 6) = P (Y = 7) = 1\n",
    "3\n",
    ".\n",
    "При условии, что Y = y, случайная величина X равномерно распределена\n",
    "на отрезке [0; y], найдите дисперсию Var(X)"
   ]
  },
  {
   "cell_type": "code",
   "execution_count": 2,
   "id": "f30581f8aa6b51e2",
   "metadata": {
    "ExecuteTime": {
     "end_time": "2023-09-20T12:50:50.935634700Z",
     "start_time": "2023-09-20T12:50:50.883306800Z"
    },
    "collapsed": false
   },
   "outputs": [
    {
     "data": {
      "text/plain": [
       "3.222222222222222"
      ]
     },
     "execution_count": 2,
     "metadata": {},
     "output_type": "execute_result"
    }
   ],
   "source": [
    "# Вероятности и значения Y\n",
    "probabilities = [1/3, 1/3, 1/3]\n",
    "values_Y = [5, 6, 7]\n",
    "\n",
    "# Рассчитываем E(Var(X|Y))\n",
    "expected_var_X_given_Y = sum([prob * (y**2 / 12) for prob, y in zip(probabilities, values_Y)])\n",
    "\n",
    "# Рассчитываем E(X|Y) для каждого y\n",
    "expected_X_given_Y = [y / 2 for y in values_Y]\n",
    "\n",
    "# Рассчитываем E(E(X|Y))\n",
    "expected_expected_X_given_Y = sum([prob * expected for prob, expected in zip(probabilities, expected_X_given_Y)])\n",
    "\n",
    "# Рассчитываем Var(E(X|Y))\n",
    "var_expected_X_given_Y = sum([prob * (expected - expected_expected_X_given_Y)**2 for prob, expected in zip(probabilities, expected_X_given_Y)])\n",
    "\n",
    "# Рассчитываем Var(X)\n",
    "var_X = expected_var_X_given_Y + var_expected_X_given_Y\n",
    "\n",
    "var_X\n"
   ]
  },
  {
   "cell_type": "markdown",
   "id": "11b620495a00b2a7",
   "metadata": {
    "collapsed": false
   },
   "source": [
    "Пусть X ∼ U([a; b]), а (Y |X = x) ∼ Exp(x). Найдите 1) E(Y ); 2) Var(Y ); 3)\n",
    "Используя инструментарий Jupyter Notebook, вычислите E(Y ); 2) Var(Y );\n",
    "для a = 2, b = 5 и проверьте вычисления экспериментом (см. пред. пример). Код должен содержать минимальные строки, относящиеся к дисциплине."
   ]
  },
  {
   "cell_type": "code",
   "execution_count": 3,
   "id": "c0128be8eaa1f2b2",
   "metadata": {
    "ExecuteTime": {
     "end_time": "2023-09-20T13:14:06.061818600Z",
     "start_time": "2023-09-20T13:14:05.078365800Z"
    },
    "collapsed": false
   },
   "outputs": [
    {
     "data": {
      "text/plain": [
       "(0.30547486626663245, 0.10677522319644431)"
      ]
     },
     "execution_count": 3,
     "metadata": {},
     "output_type": "execute_result"
    }
   ],
   "source": [
    "import numpy as np\n",
    "\n",
    "a = 2\n",
    "b = 5\n",
    "\n",
    "# Рассчитываем E(Y)\n",
    "x_values = np.linspace(a, b, 1000)\n",
    "E_Y_given_X = 1 / x_values\n",
    "E_Y = np.mean(E_Y_given_X)\n",
    "\n",
    "# Рассчитываем Var(Y)\n",
    "Var_Y_given_X = 1 / x_values**2\n",
    "Var_E_Y_given_X = (E_Y_given_X - E_Y)**2\n",
    "Var_Y = np.mean(Var_Y_given_X) + np.mean(Var_E_Y_given_X)\n",
    "\n",
    "E_Y, Var_Y\n"
   ]
  },
  {
   "cell_type": "code",
   "execution_count": 4,
   "id": "d809d033742d202e",
   "metadata": {
    "ExecuteTime": {
     "end_time": "2023-09-20T13:14:07.895008400Z",
     "start_time": "2023-09-20T13:14:07.780890300Z"
    },
    "collapsed": false
   },
   "outputs": [
    {
     "data": {
      "text/plain": [
       "(0.3071636869696216, 0.10752721581657287)"
      ]
     },
     "execution_count": 4,
     "metadata": {},
     "output_type": "execute_result"
    }
   ],
   "source": [
    "num_samples = 100000\n",
    "\n",
    "# Генерируем выборку из X\n",
    "samples_X = np.random.uniform(a, b, num_samples)\n",
    "\n",
    "# Генерируем выборку из Y при условии X\n",
    "samples_Y = np.random.exponential(1/samples_X)\n",
    "\n",
    "# Рассчитываем экспериментальные значения\n",
    "experimental_E_Y = np.mean(samples_Y)\n",
    "experimental_Var_Y = np.var(samples_Y)\n",
    "\n",
    "experimental_E_Y, experimental_Var_Y\n"
   ]
  },
  {
   "cell_type": "markdown",
   "id": "97ba74219e3652e0",
   "metadata": {
    "collapsed": false
   },
   "source": [
    "Пусть X ∼ U([0; 1]) и (Y |X = x) ∼ U([0; x]). Найдите 1) fY (y); 2) E(Y )"
   ]
  },
  {
   "cell_type": "code",
   "execution_count": 5,
   "id": "c6a29c184821cbe1",
   "metadata": {
    "ExecuteTime": {
     "end_time": "2023-09-20T13:16:59.769376500Z",
     "start_time": "2023-09-20T13:16:57.293280700Z"
    },
    "collapsed": false
   },
   "outputs": [
    {
     "data": {
      "text/plain": [
       "0.25000000000000006"
      ]
     },
     "execution_count": 5,
     "metadata": {},
     "output_type": "execute_result"
    }
   ],
   "source": [
    "import numpy as np\n",
    "from scipy.integrate import quad\n",
    "\n",
    "# Плотность распределения f_Y(y)\n",
    "def f_Y(y):\n",
    "    integrand = lambda x: 1/x\n",
    "    return quad(integrand, y, 1)[0]\n",
    "\n",
    "# Математическое ожидание E(Y)\n",
    "def E_Y():\n",
    "    integrand = lambda y: y * f_Y(y)\n",
    "    return quad(integrand, 0, 1)[0]\n",
    "\n",
    "f_Y_value = np.vectorize(f_Y)\n",
    "y_values = np.linspace(0.01, 1, 100)  # начинаем с 0.01, чтобы избежать деления на ноль\n",
    "fy_values = f_Y_value(y_values)\n",
    "\n",
    "E_Y_value = E_Y()\n",
    "\n",
    "E_Y_value\n"
   ]
  },
  {
   "cell_type": "markdown",
   "id": "fd3d2dba2a77c4ab",
   "metadata": {
    "collapsed": false
   },
   "source": [
    "2.7 Пусть X и Y – независимые случайные величины, причем X ∼ U([0; 1],\n",
    "Y ∼ U([1; 8]). Придумать способ вычисления для выражения\n",
    "E\n",
    "X|(1 − X)\n",
    "Y < 0, 3\n",
    "\n",
    "и вычислить это выражение.\n"
   ]
  },
  {
   "cell_type": "code",
   "execution_count": 6,
   "id": "e8639df845c813a2",
   "metadata": {
    "ExecuteTime": {
     "end_time": "2023-09-20T14:03:10.835287100Z",
     "start_time": "2023-09-20T14:03:10.781581400Z"
    },
    "collapsed": false
   },
   "outputs": [
    {
     "data": {
      "text/plain": [
       "4.499999999999999"
      ]
     },
     "execution_count": 6,
     "metadata": {},
     "output_type": "execute_result"
    }
   ],
   "source": [
    "import numpy as np\n",
    "from scipy.integrate import dblquad\n",
    "\n",
    "# Индикаторная функция\n",
    "def indicator(x, y):\n",
    "    return x * (1 - x) * y < 0.3\n",
    "\n",
    "# Интегрируемая функция для числителя\n",
    "def integrand_numerator(x, y):\n",
    "    return x if indicator(x, y) else 0\n",
    "\n",
    "# Интегрируемая функция для знаменателя\n",
    "def integrand_denominator(x, y):\n",
    "    return 1 if indicator(x, y) else 0\n",
    "\n",
    "# Вычисляем числитель и знаменатель\n",
    "numerator, _ = dblquad(integrand_numerator, 0, 1, 1, 8)\n",
    "denominator, _ = dblquad(integrand_denominator, 0, 1, 1, 8)\n",
    "\n",
    "# Вычисляем условное математическое ожидание\n",
    "conditional_expectation = numerator / denominator\n",
    "\n",
    "conditional_expectation\n"
   ]
  },
  {
   "cell_type": "markdown",
   "id": "1adca6664147d31a",
   "metadata": {
    "collapsed": false
   },
   "source": [
    "2.8 Пусть случайная величина X имеет треугольное распределение\n",
    "(Triangular distribution) на отрезке [a, b] (a < b) с параметром c, где\n",
    "a 6 c 6 b, (X ∼ Tri([a; b]; c)). Используя инструментарий Jupyter Notebook,\n",
    "найдите E\n",
    "X4\n",
    "sin(X)|\n",
    "1\n",
    "2 6 X 6\n",
    "3\n",
    "4\n",
    "\n",
    "для X ∼ Tri([0; 1]; 1\n",
    "10 ) и подтвердите\n",
    "вычисления экспериментом"
   ]
  },
  {
   "cell_type": "code",
   "execution_count": null,
   "id": "e71c91c46f0520a3",
   "metadata": {
    "collapsed": false
   },
   "outputs": [],
   "source": []
  }
 ],
 "metadata": {
  "kernelspec": {
   "display_name": "Python 3",
   "language": "python",
   "name": "python3"
  },
  "language_info": {
   "codemirror_mode": {
    "name": "ipython",
    "version": 2
   },
   "file_extension": ".py",
   "mimetype": "text/x-python",
   "name": "python",
   "nbconvert_exporter": "python",
   "pygments_lexer": "ipython2",
   "version": "2.7.6"
  }
 },
 "nbformat": 4,
 "nbformat_minor": 5
}
