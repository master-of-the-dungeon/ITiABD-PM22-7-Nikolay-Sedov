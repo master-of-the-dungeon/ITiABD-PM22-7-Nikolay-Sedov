{
 "cells": [
  {
   "cell_type": "code",
   "execution_count": 2,
   "outputs": [],
   "source": [
    "import numpy as np\n",
    "import sympy.stats as sp\n",
    "import itertools \n",
    "import pandas as pd"
   ],
   "metadata": {
    "collapsed": false,
    "ExecuteTime": {
     "end_time": "2023-09-13T13:33:05.560822400Z",
     "start_time": "2023-09-13T13:33:04.113762900Z"
    }
   },
   "id": "8e5163db0061ab87"
  },
  {
   "cell_type": "markdown",
   "source": [
    "Дискретный случайный вектор (X, Y ) имеет распределение\n",
    "X = −2 X = −1 X = 0\n",
    "Y = 1 1/6 1/12 1/6\n",
    "Y = 2 1/6 1/8 1/4\n",
    "\n",
    "Найдите: 1) условное математическое ожидание E(Y |X + Y = 1); 2) Var[E(X|Y )];\n",
    "3) E[Var(X|Y )]."
   ],
   "metadata": {
    "collapsed": false
   },
   "id": "75ff345d124f8ea0"
  },
  {
   "cell_type": "code",
   "execution_count": 8,
   "outputs": [
    {
     "name": "stdout",
     "output_type": "stream",
     "text": [
      "1) Условное математическое ожидание E(Y |X + Y = 1): 0.41666666666666663\n",
      "2) Var[E(X|Y)]: 0.9604311342592593\n",
      "3) E[Var(X|Y)]: [0.16007186 0.1002574  0.20051481]\n"
     ]
    }
   ],
   "source": [
    "\n",
    "\n",
    "# Заданные вероятности\n",
    "probabilities = np.array([[1/6, 1/12, 1/6],\n",
    "                          [1/6, 1/8, 1/4]])\n",
    "\n",
    "# Значения X и Y\n",
    "X_values = np.array([-2, -1, 0])\n",
    "Y_values = np.array([1, 2])\n",
    "\n",
    "# 1) Условное математическое ожидание E(Y |X + Y = 1)\n",
    "conditional_expectation = 0\n",
    "for i, x in enumerate(X_values):\n",
    "    for j, y in enumerate(Y_values):\n",
    "        if x + y == 1:\n",
    "            conditional_expectation += y * probabilities[j][i]\n",
    "\n",
    "print(\"1) Условное математическое ожидание E(Y |X + Y = 1):\", conditional_expectation)\n",
    "\n",
    "# 2) Var[E(X|Y)]\n",
    "mean_X_given_Y = np.array([sum(X_values * probabilities[j]) for j in range(len(Y_values))])\n",
    "variance = sum(probabilities[j][i] * (X_values[i] - mean_X_given_Y[j])**2 for i in range(len(X_values)) for j in range(len(Y_values)))\n",
    "\n",
    "print(\"2) Var[E(X|Y)]:\", variance)\n",
    "\n",
    "# 3) E[Var(X|Y)]\n",
    "conditional_variances = np.array([sum(probabilities[j][i] * (X_values[i] - mean_X_given_Y[j])**2 for i in range(len(X_values))) for j in range(len(Y_values))])\n",
    "expected_conditional_variances = sum(probabilities[j] * conditional_variances[j] for j in range(len(Y_values)))\n",
    "\n",
    "print(\"3) E[Var(X|Y)]:\", expected_conditional_variances)\n"
   ],
   "metadata": {
    "collapsed": false,
    "ExecuteTime": {
     "end_time": "2023-09-13T13:33:24.490367800Z",
     "start_time": "2023-09-13T13:33:24.445711Z"
    }
   },
   "id": "fe7fb078a4278b43"
  },
  {
   "cell_type": "markdown",
   "source": [
    "Дано P (X = 30) = 0, 9, P (X = 60) = 0, 1, E(Y |X = 30) = 3 и E(Y |X = 60) = 2.\n",
    "Найдите Cov(X, Y ) и Var{E(Y |X)}"
   ],
   "metadata": {
    "collapsed": false
   },
   "id": "856a8e539d453f82"
  },
  {
   "cell_type": "code",
   "execution_count": 4,
   "outputs": [
    {
     "name": "stdout",
     "output_type": "stream",
     "text": [
      "Cov(X, Y) = -92.80000000000001\n",
      "Var{E(Y |X)} = 0.08999999999999808\n"
     ]
    }
   ],
   "source": [
    "# Заданные вероятности и ожидаемые значения\n",
    "P_X_30 = 0.9\n",
    "P_X_60 = 0.1\n",
    "E_Y_given_X_30 = 3\n",
    "E_Y_given_X_60 = 2\n",
    "\n",
    "# Вычисление Cov(X, Y)\n",
    "E_XY = P_X_30 * E_Y_given_X_30 + P_X_60 * E_Y_given_X_60\n",
    "E_X = P_X_30 * 30 + P_X_60 * 60\n",
    "E_Y = P_X_30 * E_Y_given_X_30 + P_X_60 * E_Y_given_X_60\n",
    "Cov_X_Y = E_XY - E_X * E_Y\n",
    "\n",
    "# Вычисление Var{E(Y |X)}\n",
    "E_Y_given_X_squared = E_Y_given_X_30 ** 2 * P_X_30 + E_Y_given_X_60 ** 2 * P_X_60\n",
    "Var_E_Y_given_X = E_Y_given_X_squared - E_Y ** 2\n",
    "\n",
    "print(\"Cov(X, Y) =\", Cov_X_Y)\n",
    "print(\"Var{E(Y |X)} =\", Var_E_Y_given_X)"
   ],
   "metadata": {
    "collapsed": false,
    "ExecuteTime": {
     "end_time": "2023-09-13T13:33:06.133088200Z",
     "start_time": "2023-09-13T13:33:06.116937100Z"
    }
   },
   "id": "ef14490d5733a62a"
  },
  {
   "cell_type": "markdown",
   "source": [
    "Дискретный случайный вектор (X, Y ) имеет распределение\n",
    "X = 0 X = 1 X = 2\n",
    "Y = 2 1/12 1/12 5/24\n",
    "Y = 3 1/8 1/4 1/4\n",
    "\n",
    "Найдите распределение условного математического ожидания\n",
    "Z = E(X2 + Y\n",
    "2\n",
    "|Y ) и E(Z)."
   ],
   "metadata": {
    "collapsed": false
   },
   "id": "d842ef7d9bc60286"
  },
  {
   "cell_type": "code",
   "execution_count": 5,
   "outputs": [
    {
     "name": "stdout",
     "output_type": "stream",
     "text": [
      "E(Z) = 4.201388888888889\n"
     ]
    }
   ],
   "source": [
    "\n",
    "# Заданные вероятности P(X=x | Y=y)\n",
    "probabilities = np.array([[1/12, 1/12, 5/24],\n",
    "                          [1/8, 1/4, 1/4]])\n",
    "\n",
    "# Возможные значения X и Y\n",
    "X_values = np.array([0, 1, 2])\n",
    "Y_values = np.array([2, 3])\n",
    "\n",
    "# Найдем E(X^2 | Y) для каждого значения Y\n",
    "E_X2_given_Y = np.zeros_like(Y_values, dtype=float)\n",
    "\n",
    "for i, y in enumerate(Y_values):\n",
    "    E_X2_given_Y[i] = np.sum(X_values**2 * probabilities[i])\n",
    "\n",
    "# Найдем E(Y^2 | Y) для каждого значения Y\n",
    "E_Y2_given_Y = Y_values**2\n",
    "\n",
    "# Найдем E(X^2 + Y^2 | Y)\n",
    "E_Z_given_Y = E_X2_given_Y + E_Y2_given_Y\n",
    "\n",
    "# Найдем E(Z) - математическое ожидание E(Z)\n",
    "E_Z = np.sum(E_Z_given_Y * np.array([1/3, 1/4]))  # Вероятности P(Y=y)\n",
    "\n",
    "print(\"E(Z) =\", E_Z)\n"
   ],
   "metadata": {
    "collapsed": false,
    "ExecuteTime": {
     "end_time": "2023-09-13T13:33:07.104393800Z",
     "start_time": "2023-09-13T13:33:07.087844900Z"
    }
   },
   "id": "a9868942dd0d4442"
  },
  {
   "cell_type": "markdown",
   "source": [
    "Дано: P (X = 50) = 0, 1, P (X = 70) = 0, 9, E(Y |X = 50) = 4, E(Y |X = 70) = 2,\n",
    "Var(Y |X = 50) = 9 и Var(Y |X = 70) = 5. Найдите E[Var(Y |X)] и Var(Y )"
   ],
   "metadata": {
    "collapsed": false
   },
   "id": "37aabe7e9ab10916"
  },
  {
   "cell_type": "code",
   "execution_count": 6,
   "outputs": [
    {
     "name": "stdout",
     "output_type": "stream",
     "text": [
      "E[Var(Y |X)]: 5.4\n",
      "Var(Y): 5.760000000000001\n"
     ]
    }
   ],
   "source": [
    "# Данные\n",
    "P_X = [0.1, 0.9]  # Вероятности P(X)\n",
    "E_Y_given_X = [4, 2]  # E(Y |X)\n",
    "Var_Y_given_X = [9, 5]  # Var(Y |X)\n",
    "\n",
    "# Расчет E[Var(Y |X)]\n",
    "E_Var_Y_given_X = sum(P_X[i] * Var_Y_given_X[i] for i in range(len(P_X)))\n",
    "\n",
    "# Расчет Var(Y)\n",
    "E_Y_sq = sum(P_X[i] * (E_Y_given_X[i]**2) for i in range(len(P_X)))\n",
    "E_Var_Y = E_Var_Y_given_X + E_Y_sq - (sum(P_X[i] * E_Y_given_X[i] for i in range(len(P_X))))**2\n",
    "\n",
    "print(\"E[Var(Y |X)]:\", E_Var_Y_given_X)\n",
    "print(\"Var(Y):\", E_Var_Y)"
   ],
   "metadata": {
    "collapsed": false,
    "ExecuteTime": {
     "end_time": "2023-09-13T13:33:08.119693700Z",
     "start_time": "2023-09-13T13:33:08.102862700Z"
    }
   },
   "id": "35af8b72beb72e39"
  },
  {
   "cell_type": "code",
   "execution_count": 7,
   "outputs": [
    {
     "name": "stdout",
     "output_type": "stream",
     "text": [
      "E(X|X > Y): 4.0\n",
      "Var(X|X > Y): 1.0\n"
     ]
    }
   ],
   "source": [
    "\n",
    "\n",
    "# Заданные значения случайных величин X и Y\n",
    "values = [1, 2, 3, 4, 5]\n",
    "\n",
    "# Создаем DataFrame со всевозможными парами значений X и Y\n",
    "df = pd.DataFrame(list(itertools.product(values, repeat=2)), columns=['X', 'Y'])\n",
    "\n",
    "# Вычисляем условную вероятность P(X > Y)\n",
    "df['P(X > Y)'] = np.where(df['X'] > df['Y'], 1/len(df), 0)\n",
    "\n",
    "# Отфильтровываем только те случаи, где X > Y\n",
    "filtered_df = df[df['X'] > df['Y']]\n",
    "\n",
    "# Вычисляем E(X|X > Y)\n",
    "E_X_given_X_greater_Y = np.mean(filtered_df['X'])\n",
    "\n",
    "# Вычисляем Var(X|X > Y)\n",
    "Var_X_given_X_greater_Y = np.var(filtered_df['X'])\n",
    "\n",
    "print(\"E(X|X > Y):\", E_X_given_X_greater_Y)\n",
    "print(\"Var(X|X > Y):\", Var_X_given_X_greater_Y)"
   ],
   "metadata": {
    "collapsed": false,
    "ExecuteTime": {
     "end_time": "2023-09-13T13:33:08.622788600Z",
     "start_time": "2023-09-13T13:33:08.595168Z"
    }
   },
   "id": "c5b22f3791d48a61"
  },
  {
   "cell_type": "markdown",
   "source": [
    "Имеется 36 игральных костей. В первый раз бросаются все игральные кости, во второй раз – только те, на которых в первый раз выпало 6 очков.\n",
    "Пусть S – сумма очков при втором броске. Найдите E (S) и Var(S)"
   ],
   "metadata": {
    "collapsed": false
   },
   "id": "1a57fb36239c318b"
  },
  {
   "cell_type": "code",
   "execution_count": 9,
   "outputs": [
    {
     "name": "stdout",
     "output_type": "stream",
     "text": [
      "E(S): 36.0\n",
      "Var(S): 0.0\n"
     ]
    }
   ],
   "source": [
    "\n",
    "# Заданное количество игральных костей\n",
    "num_dice = 36\n",
    "\n",
    "# Имитация первого броска всех игральных костей\n",
    "first_throw = np.random.randint(1, 7, size=num_dice)\n",
    "\n",
    "# Выбираем только те кости, на которых выпало 6 очков\n",
    "selected_dice = first_throw[first_throw == 6]\n",
    "\n",
    "# Вычисляем сумму очков при втором броске\n",
    "second_throw_sum = np.sum(selected_dice)\n",
    "\n",
    "# Выводим ожидаемое значение E(S) и дисперсию Var(S)\n",
    "print(\"E(S):\", np.mean(second_throw_sum))\n",
    "print(\"Var(S):\", np.var(second_throw_sum))"
   ],
   "metadata": {
    "collapsed": false,
    "ExecuteTime": {
     "end_time": "2023-09-13T13:33:32.619460500Z",
     "start_time": "2023-09-13T13:33:32.549500400Z"
    }
   },
   "id": "8e03e5e29d78341c"
  },
  {
   "cell_type": "markdown",
   "source": [
    "1.7 Игральная кость подбрасывается до тех пор, пока не выпадет 6 очков.\n",
    "Пусть S – сумма очков во всех бросках, кроме последнего (S = 0, если 6\n",
    "очков выпало при первом броске). Найдите E (S) и Var(S)"
   ],
   "metadata": {
    "collapsed": false
   },
   "id": "f41c45df9b4c5a42"
  },
  {
   "cell_type": "code",
   "execution_count": 6,
   "outputs": [
    {
     "name": "stdout",
     "output_type": "stream",
     "text": [
      "E(S): 20.95763\n",
      "Var(S): 278.5969347831\n"
     ]
    }
   ],
   "source": [
    "\n",
    "# Имитация бросков игральной кости до выпадения 6 очков\n",
    "def simulate_dice_throw():\n",
    "    sum_points = 0\n",
    "    while True:\n",
    "        throw = np.random.randint(1, 7)\n",
    "        sum_points += throw\n",
    "        if throw == 6:\n",
    "            break\n",
    "    return sum_points\n",
    "\n",
    "# Количество экспериментов для оценки ожидаемого значения и дисперсии\n",
    "num_experiments = 100000\n",
    "\n",
    "# Список для хранения сумм очков во всех бросках, кроме последнего\n",
    "s_values = []\n",
    "for _ in range(num_experiments):\n",
    "    s = simulate_dice_throw()\n",
    "    if s > 0:\n",
    "        s_values.append(s)\n",
    "\n",
    "# Преобразуем список в массив numpy\n",
    "s_values = np.array(s_values)\n",
    "\n",
    "# Выводим ожидаемое значение E(S) и дисперсию Var(S)\n",
    "print(\"E(S):\", np.mean(s_values))\n",
    "print(\"Var(S):\", np.var(s_values))"
   ],
   "metadata": {
    "collapsed": false,
    "ExecuteTime": {
     "end_time": "2023-09-20T13:56:53.669820300Z",
     "start_time": "2023-09-20T13:56:51.131438700Z"
    }
   },
   "id": "8325060d41d9ac42"
  },
  {
   "cell_type": "markdown",
   "source": [
    "1.8 Сначала бросается игральная кость, затем монета подбрасывается столь\u0002ко раз, сколько очков выпало на игральной кости, X – число выпавших\n",
    "при этом гербов. Найдите E (X) и Var(X)"
   ],
   "metadata": {
    "collapsed": false
   },
   "id": "c7f32de54ee8ae5c"
  },
  {
   "cell_type": "code",
   "execution_count": 1,
   "outputs": [
    {
     "data": {
      "text/plain": "(1.75, 1.6041666666666665)"
     },
     "execution_count": 1,
     "metadata": {},
     "output_type": "execute_result"
    }
   ],
   "source": [
    "# Вероятности и значения Y\n",
    "probabilities = [1/6] * 6\n",
    "values_Y = list(range(1, 7))\n",
    "\n",
    "# Рассчитываем E(X)\n",
    "E_X_given_Y = [0.5 * y for y in values_Y]\n",
    "E_X = sum([prob * expected for prob, expected in zip(probabilities, E_X_given_Y)])\n",
    "\n",
    "# Рассчитываем Var(X)\n",
    "Var_X_given_Y = [0.25 * y for y in values_Y]\n",
    "E_Var_X_given_Y = sum([prob * var for prob, var in zip(probabilities, Var_X_given_Y)])\n",
    "Var_E_X_given_Y = sum([prob * (expected - E_X)**2 for prob, expected in zip(probabilities, E_X_given_Y)])\n",
    "Var_X = E_Var_X_given_Y + Var_E_X_given_Y\n",
    "\n",
    "E_X, Var_X\n"
   ],
   "metadata": {
    "collapsed": false,
    "ExecuteTime": {
     "end_time": "2023-09-20T13:35:04.099111Z",
     "start_time": "2023-09-20T13:35:04.083640100Z"
    }
   },
   "id": "bc97e2d8ac11fa94"
  },
  {
   "cell_type": "markdown",
   "source": [
    "1.9 Сначала подбрасывается монета. Если выпал «орел», игральная кость бросается до тех пор, пока не выпадет «6», если выпала «решка», игральная\n",
    "кость бросается до тех пор, пока не выпадет «5» или «6». Пусть X – число\n",
    "бросков игральной кости. Найдите E (X) и Var(X)"
   ],
   "metadata": {
    "collapsed": false
   },
   "id": "9e86b55a0ef945a2"
  },
  {
   "cell_type": "code",
   "execution_count": 2,
   "outputs": [
    {
     "data": {
      "text/plain": "(4.5, 5.75)"
     },
     "execution_count": 2,
     "metadata": {},
     "output_type": "execute_result"
    }
   ],
   "source": [
    "# Математическое ожидание и дисперсия при условии \"орел\"\n",
    "E_X_or = 6\n",
    "Var_X_or = 5\n",
    "\n",
    "# Математическое ожидание и дисперсия при условии \"решка\"\n",
    "E_X_re = 3\n",
    "Var_X_re = 2\n",
    "\n",
    "# Общее математическое ожидание и дисперсия\n",
    "E_X = 0.5 * E_X_or + 0.5 * E_X_re\n",
    "Var_X = 0.5 * (Var_X_or + E_X_or**2) + 0.5 * (Var_X_re + E_X_re**2) - E_X**2\n",
    "\n",
    "E_X, Var_X\n"
   ],
   "metadata": {
    "collapsed": false,
    "ExecuteTime": {
     "end_time": "2023-09-20T13:37:21.596786200Z",
     "start_time": "2023-09-20T13:37:21.549268500Z"
    }
   },
   "id": "29403c4cb1a0a950"
  },
  {
   "cell_type": "markdown",
   "source": [
    "10.10 Случайная величина X распределена по геометрическому закону, n – натуральное число. Докажите, что условное распределение случайной величины X − n при условии, что X > n совпадает с безусловным распределением X. Монета подбрасывается до тех пор, пока не выпадет герб, X –\n",
    "число бросков. Используя предыдущее задание, найдите E (X2\n",
    "|X > 5)"
   ],
   "metadata": {
    "collapsed": false
   },
   "id": "df2a345bfa4d3032"
  },
  {
   "cell_type": "code",
   "execution_count": 3,
   "outputs": [
    {
     "data": {
      "text/plain": "11.0"
     },
     "execution_count": 3,
     "metadata": {},
     "output_type": "execute_result"
    }
   ],
   "source": [
    "p = 0.5\n",
    "E_X = 1/p\n",
    "E_X2 = (2-p)/(p**2)\n",
    "\n",
    "E_X2_given_X_greater_5 = E_X2 - 10*E_X + 25\n",
    "E_X2_given_X_greater_5\n"
   ],
   "metadata": {
    "collapsed": false,
    "ExecuteTime": {
     "end_time": "2023-09-20T13:51:59.953385900Z",
     "start_time": "2023-09-20T13:51:59.912511500Z"
    }
   },
   "id": "ad082912daacad09"
  },
  {
   "cell_type": "markdown",
   "source": [
    "1.11 Пусть случайные величины X и Y независимы и имеют биномиальные\n",
    "распределения с параметрами n, p и m, p соответственно, т.е. X ∼ Bin(n, p),\n",
    "Y ∼ Bin(m, p). Найдите распределение Z = X + Y и условное математическое ожидание E (X|X + Y ).\n"
   ],
   "metadata": {
    "collapsed": false
   },
   "id": "1d03b61034776246"
  },
  {
   "cell_type": "code",
   "execution_count": 4,
   "outputs": [
    {
     "data": {
      "text/plain": "[0.0,\n 0.4166666666666667,\n 0.8333333333333334,\n 1.25,\n 1.6666666666666667,\n 2.0833333333333335,\n 2.5,\n 2.916666666666667,\n 3.3333333333333335,\n 3.75,\n 4.166666666666667,\n 4.583333333333334,\n 5.0]"
     },
     "execution_count": 4,
     "metadata": {},
     "output_type": "execute_result"
    }
   ],
   "source": [
    "import numpy as np\n",
    "\n",
    "def conditional_expectation(n, m, x_plus_y):\n",
    "    return n / (n + m) * x_plus_y\n",
    "\n",
    "n = 5  # Примерное значение\n",
    "m = 7  # Примерное значение\n",
    "x_plus_y_values = np.arange(0, n + m + 1)  # Возможные значения для X + Y\n",
    "\n",
    "expectations = [conditional_expectation(n, m, value) for value in x_plus_y_values]\n",
    "\n",
    "expectations\n"
   ],
   "metadata": {
    "collapsed": false,
    "ExecuteTime": {
     "end_time": "2023-09-20T13:54:25.049128100Z",
     "start_time": "2023-09-20T13:54:24.747134700Z"
    }
   },
   "id": "1c0b5befb5971ffe"
  },
  {
   "cell_type": "code",
   "execution_count": null,
   "outputs": [],
   "source": [],
   "metadata": {
    "collapsed": false
   },
   "id": "791c597bf0cce51"
  }
 ],
 "metadata": {
  "kernelspec": {
   "display_name": "Python 3",
   "language": "python",
   "name": "python3"
  },
  "language_info": {
   "codemirror_mode": {
    "name": "ipython",
    "version": 2
   },
   "file_extension": ".py",
   "mimetype": "text/x-python",
   "name": "python",
   "nbconvert_exporter": "python",
   "pygments_lexer": "ipython2",
   "version": "2.7.6"
  }
 },
 "nbformat": 4,
 "nbformat_minor": 5
}
