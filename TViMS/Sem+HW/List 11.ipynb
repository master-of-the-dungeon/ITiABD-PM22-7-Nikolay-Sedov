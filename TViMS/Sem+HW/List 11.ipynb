{
 "cells": [
  {
   "cell_type": "code",
   "execution_count": 2,
   "metadata": {},
   "outputs": [],
   "source": [
    "import pandas as pd\n",
    "import scipy.stats as stats\n",
    "import numpy as np"
   ]
  },
  {
   "cell_type": "code",
   "execution_count": 5,
   "metadata": {},
   "outputs": [
    {
     "name": "stdout",
     "output_type": "stream",
     "text": [
      "{'Межгрупповая дисперсия': nan, 'Средняя групповая дисперсия': 2.6237076155099315, 'F-статистика': nan, 'P-значение': nan, 'F-критическое (α = 0.03)': 3.6218235345714844, '90% доверительный интервал для µ1 (группа А)': (0.7608935298267328, 1.7765407870304106), '90% доверительный интервал для µ2 (группа B)': (0.0011040917673015849, 0.9366496598690621), '90% доверительный интервал для µ3 (группа C)': (1.6731571340028617, 2.4257096770167466)}\n"
     ]
    }
   ],
   "source": [
    "# Загрузка данных, замена запятых на точки и преобразование к числовому типу\n",
    "file_path = 'sample11_1.csv'\n",
    "data = pd.read_csv(file_path, sep=';', header=None, names=['A', 'B', 'C'])\n",
    "data = data.apply(lambda x: x.str.replace(',', '.').astype(float))\n",
    "\n",
    "# Разделение данных по группам\n",
    "group_A = data['A'].dropna()\n",
    "group_B = data['B'].dropna()\n",
    "group_C = data['C'].dropna()\n",
    "\n",
    "# Количество наблюдений в каждой группе\n",
    "n_A = len(group_A)\n",
    "n_B = len(group_B)\n",
    "n_C = len(group_C)\n",
    "n_total = n_A + n_B + n_C\n",
    "\n",
    "# Средние значения в каждой группе\n",
    "mean_A = np.mean(group_A)\n",
    "mean_B = np.mean(group_B)\n",
    "mean_C = np.mean(group_C)\n",
    "\n",
    "# Общее среднее\n",
    "mean_total = np.mean(data[['A', 'B', 'C']].values.ravel())\n",
    "\n",
    "# Межгрупповая дисперсия\n",
    "SS_between = n_A * (mean_A - mean_total)**2 + n_B * (mean_B - mean_total)**2 + n_C * (mean_C - mean_total)**2\n",
    "df_between = 3 - 1\n",
    "MS_between = SS_between / df_between\n",
    "\n",
    "# Внутригрупповая дисперсия\n",
    "SS_within = np.sum((group_A - mean_A)**2) + np.sum((group_B - mean_B)**2) + np.sum((group_C - mean_C)**2)\n",
    "df_within = n_total - 3\n",
    "MS_within = SS_within / df_within\n",
    "\n",
    "# Расчет F-статистики\n",
    "F_statistic = MS_between / MS_within\n",
    "\n",
    "# Расчет p-значения\n",
    "p_value = stats.f.sf(F_statistic, df_between, df_within)\n",
    "\n",
    "# Критическое значение F при α = 0.03\n",
    "alpha = 0.03\n",
    "F_critical = stats.f.ppf(1 - alpha, df_between, df_within)\n",
    "\n",
    "# Доверительные интервалы\n",
    "confidence_level = 0.90\n",
    "t_critical = stats.t.ppf(1 - (1 - confidence_level) / 2, df_within)\n",
    "margin_of_error_A = t_critical * np.sqrt(MS_within / n_A)\n",
    "margin_of_error_B = t_critical * np.sqrt(MS_within / n_B)\n",
    "margin_of_error_C = t_critical * np.sqrt(MS_within / n_C)\n",
    "confidence_interval_A = (mean_A - margin_of_error_A, mean_A + margin_of_error_A)\n",
    "confidence_interval_B = (mean_B - margin_of_error_B, mean_B + margin_of_error_B)\n",
    "confidence_interval_C = (mean_C - margin_of_error_C, mean_C + margin_of_error_C)\n",
    "\n",
    "# Результаты\n",
    "results = {\n",
    "    \"Межгрупповая дисперсия\": MS_between,\n",
    "    \"Средняя групповая дисперсия\": MS_within,\n",
    "    \"F-статистика\": F_statistic,\n",
    "    \"P-значение\": p_value,\n",
    "    \"F-критическое (α = 0.03)\": F_critical,\n",
    "    \"90% доверительный интервал для µ1 (группа А)\": confidence_interval_A,\n",
    "    \"90% доверительный интервал для µ2 (группа B)\": confidence_interval_B,\n",
    "    \"90% доверительный интервал для µ3 (группа C)\": confidence_interval_C\n",
    "}\n",
    "\n",
    "print(results)\n"
   ]
  },
  {
   "cell_type": "code",
   "execution_count": 6,
   "metadata": {},
   "outputs": [
    {
     "data": {
      "text/plain": [
       "{'F-статистика': 9.916666666666666,\n",
       " 'P-значение': 0.004231468351717857,\n",
       " '95% доверительный интервал для Северного округа': (29.720716517074322,\n",
       "  62.27928348292568),\n",
       " '95% доверительный интервал для Южного округа': (66.44683678009486,\n",
       "  99.55316321990514),\n",
       " '95% доверительный интервал для Восточного округа': (45.90182148172966,\n",
       "  132.09817851827034)}"
      ]
     },
     "execution_count": 6,
     "metadata": {},
     "output_type": "execute_result"
    }
   ],
   "source": [
    "# Данные по объемам продаж в трех округах\n",
    "sales_north = [37, 47, 40, 60]\n",
    "sales_south = [60, 86, 67, 92, 95, 98]\n",
    "sales_east = [69, 100, 98]\n",
    "\n",
    "# Преобразование данных в массивы numpy для дальнейшего анализа\n",
    "sales_north = np.array(sales_north)\n",
    "sales_south = np.array(sales_south)\n",
    "sales_east = np.array(sales_east)\n",
    "\n",
    "# Средние значения и стандартные отклонения по округам\n",
    "mean_north = np.mean(sales_north)\n",
    "mean_south = np.mean(sales_south)\n",
    "mean_east = np.mean(sales_east)\n",
    "std_north = np.std(sales_north, ddof=1)\n",
    "std_south = np.std(sales_south, ddof=1)\n",
    "std_east = np.std(sales_east, ddof=1)\n",
    "\n",
    "# Общее количество наблюдений\n",
    "n_total = len(sales_north) + len(sales_south) + len(sales_east)\n",
    "\n",
    "# Общее среднее\n",
    "mean_total = np.mean(np.concatenate([sales_north, sales_south, sales_east]))\n",
    "\n",
    "# Межгрупповая дисперсия\n",
    "SS_between = len(sales_north) * (mean_north - mean_total)**2 + \\\n",
    "             len(sales_south) * (mean_south - mean_total)**2 + \\\n",
    "             len(sales_east) * (mean_east - mean_total)**2\n",
    "df_between = 3 - 1\n",
    "MS_between = SS_between / df_between\n",
    "\n",
    "# Внутригрупповая дисперсия\n",
    "SS_within = np.sum((sales_north - mean_north)**2) + \\\n",
    "            np.sum((sales_south - mean_south)**2) + \\\n",
    "            np.sum((sales_east - mean_east)**2)\n",
    "df_within = n_total - 3\n",
    "MS_within = SS_within / df_within\n",
    "\n",
    "# Расчет F-статистики\n",
    "F_statistic = MS_between / MS_within\n",
    "\n",
    "# Расчет p-значения\n",
    "p_value = stats.f.sf(F_statistic, df_between, df_within)\n",
    "\n",
    "# Доверительные интервалы\n",
    "confidence_level = 0.95\n",
    "t_critical_north = stats.t.ppf(1 - (1 - confidence_level) / 2, len(sales_north) - 1)\n",
    "t_critical_south = stats.t.ppf(1 - (1 - confidence_level) / 2, len(sales_south) - 1)\n",
    "t_critical_east = stats.t.ppf(1 - (1 - confidence_level) / 2, len(sales_east) - 1)\n",
    "margin_of_error_north = t_critical_north * std_north / np.sqrt(len(sales_north))\n",
    "margin_of_error_south = t_critical_south * std_south / np.sqrt(len(sales_south))\n",
    "margin_of_error_east = t_critical_east * std_east / np.sqrt(len(sales_east))\n",
    "confidence_interval_north = (mean_north - margin_of_error_north, mean_north + margin_of_error_north)\n",
    "confidence_interval_south = (mean_south - margin_of_error_south, mean_south + margin_of_error_south)\n",
    "confidence_interval_east = (mean_east - margin_of_error_east, mean_east + margin_of_error_east)\n",
    "\n",
    "{\n",
    "    \"F-статистика\": F_statistic,\n",
    "    \"P-значение\": p_value,\n",
    "    \"95% доверительный интервал для Северного округа\": confidence_interval_north,\n",
    "    \"95% доверительный интервал для Южного округа\": confidence_interval_south,\n",
    "    \"95% доверительный интервал для Восточного округа\": confidence_interval_east\n",
    "}\n"
   ]
  },
  {
   "cell_type": "code",
   "execution_count": 7,
   "metadata": {},
   "outputs": [
    {
     "data": {
      "text/plain": [
       "{'Статистика критерия Бартлетта': -1.3813607623081026,\n",
       " 'P-значение': 1.0,\n",
       " 'Оценка генеральной дисперсии': 4.688235294117646}"
      ]
     },
     "execution_count": 7,
     "metadata": {},
     "output_type": "execute_result"
    }
   ],
   "source": [
    "# Исходные данные\n",
    "n1, n2, n3 = 9, 13, 15  # объемы выборок\n",
    "s1, s2, s3 = 3.2, 3.8, 6.3  # исправленные выборочные дисперсии\n",
    "\n",
    "# Общее количество степеней свободы\n",
    "df_total = n1 + n2 + n3 - 3\n",
    "\n",
    "# Взвешенная сумма исправленных выборочных дисперсий\n",
    "weighted_sum_variance = ((n1 - 1) * s1 + (n2 - 1) * s2 + (n3 - 1) * s3) / df_total\n",
    "\n",
    "# Расчет статистики критерия Бартлетта\n",
    "bartlett_statistic = ((n1 - 1) * np.log(s1) + (n2 - 1) * np.log(s2) + (n3 - 1) * np.log(s3)) \\\n",
    "                     - df_total * np.log(weighted_sum_variance)\n",
    "C = 1 + (1 / (3 * (3 - 1))) * (1 / (n1 - 1) + 1 / (n2 - 1) + 1 / (n3 - 1) - 1 / df_total)\n",
    "bartlett_statistic = bartlett_statistic / C\n",
    "\n",
    "# Расчет p-значения для критерия Бартлетта\n",
    "p_value_bartlett = 1 - stats.chi2.cdf(bartlett_statistic, 3 - 1)\n",
    "\n",
    "# Оценка генеральной дисперсии\n",
    "general_variance_estimate = weighted_sum_variance\n",
    "\n",
    "{\n",
    "    \"Статистика критерия Бартлетта\": bartlett_statistic,\n",
    "    \"P-значение\": p_value_bartlett,\n",
    "    \"Оценка генеральной дисперсии\": general_variance_estimate\n",
    "}\n"
   ]
  },
  {
   "cell_type": "code",
   "execution_count": null,
   "metadata": {},
   "outputs": [],
   "source": []
  }
 ],
 "metadata": {
  "kernelspec": {
   "display_name": "Python 3",
   "language": "python",
   "name": "python3"
  },
  "language_info": {
   "codemirror_mode": {
    "name": "ipython",
    "version": 3
   },
   "file_extension": ".py",
   "mimetype": "text/x-python",
   "name": "python",
   "nbconvert_exporter": "python",
   "pygments_lexer": "ipython3",
   "version": "3.11.4"
  }
 },
 "nbformat": 4,
 "nbformat_minor": 2
}
