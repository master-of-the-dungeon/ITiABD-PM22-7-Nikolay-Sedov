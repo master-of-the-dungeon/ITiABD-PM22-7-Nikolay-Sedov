{
 "cells": [
  {
   "cell_type": "code",
   "execution_count": 2,
   "outputs": [],
   "source": [
    "import numpy as np\n",
    "import sympy.stats as sp\n",
    "import itertools \n",
    "import pandas as pd"
   ],
   "metadata": {
    "collapsed": false,
    "ExecuteTime": {
     "end_time": "2023-09-13T13:33:05.560822400Z",
     "start_time": "2023-09-13T13:33:04.113762900Z"
    }
   },
   "id": "8e5163db0061ab87"
  },
  {
   "cell_type": "markdown",
   "source": [
    "Дискретный случайный вектор (X, Y ) имеет распределение\n",
    "X = −2 X = −1 X = 0\n",
    "Y = 1 1/6 1/12 1/6\n",
    "Y = 2 1/6 1/8 1/4\n",
    "\n",
    "Найдите: 1) условное математическое ожидание E(Y |X + Y = 1); 2) Var[E(X|Y )];\n",
    "3) E[Var(X|Y )]."
   ],
   "metadata": {
    "collapsed": false
   },
   "id": "75ff345d124f8ea0"
  },
  {
   "cell_type": "code",
   "execution_count": 8,
   "outputs": [
    {
     "name": "stdout",
     "output_type": "stream",
     "text": [
      "1) Условное математическое ожидание E(Y |X + Y = 1): 0.41666666666666663\n",
      "2) Var[E(X|Y)]: 0.9604311342592593\n",
      "3) E[Var(X|Y)]: [0.16007186 0.1002574  0.20051481]\n"
     ]
    }
   ],
   "source": [
    "\n",
    "\n",
    "# Заданные вероятности\n",
    "probabilities = np.array([[1/6, 1/12, 1/6],\n",
    "                          [1/6, 1/8, 1/4]])\n",
    "\n",
    "# Значения X и Y\n",
    "X_values = np.array([-2, -1, 0])\n",
    "Y_values = np.array([1, 2])\n",
    "\n",
    "# 1) Условное математическое ожидание E(Y |X + Y = 1)\n",
    "conditional_expectation = 0\n",
    "for i, x in enumerate(X_values):\n",
    "    for j, y in enumerate(Y_values):\n",
    "        if x + y == 1:\n",
    "            conditional_expectation += y * probabilities[j][i]\n",
    "\n",
    "print(\"1) Условное математическое ожидание E(Y |X + Y = 1):\", conditional_expectation)\n",
    "\n",
    "# 2) Var[E(X|Y)]\n",
    "mean_X_given_Y = np.array([sum(X_values * probabilities[j]) for j in range(len(Y_values))])\n",
    "variance = sum(probabilities[j][i] * (X_values[i] - mean_X_given_Y[j])**2 for i in range(len(X_values)) for j in range(len(Y_values)))\n",
    "\n",
    "print(\"2) Var[E(X|Y)]:\", variance)\n",
    "\n",
    "# 3) E[Var(X|Y)]\n",
    "conditional_variances = np.array([sum(probabilities[j][i] * (X_values[i] - mean_X_given_Y[j])**2 for i in range(len(X_values))) for j in range(len(Y_values))])\n",
    "expected_conditional_variances = sum(probabilities[j] * conditional_variances[j] for j in range(len(Y_values)))\n",
    "\n",
    "print(\"3) E[Var(X|Y)]:\", expected_conditional_variances)\n"
   ],
   "metadata": {
    "collapsed": false,
    "ExecuteTime": {
     "end_time": "2023-09-13T13:33:24.490367800Z",
     "start_time": "2023-09-13T13:33:24.445711Z"
    }
   },
   "id": "fe7fb078a4278b43"
  },
  {
   "cell_type": "markdown",
   "source": [
    "Дано P (X = 30) = 0, 9, P (X = 60) = 0, 1, E(Y |X = 30) = 3 и E(Y |X = 60) = 2.\n",
    "Найдите Cov(X, Y ) и Var{E(Y |X)}"
   ],
   "metadata": {
    "collapsed": false
   },
   "id": "856a8e539d453f82"
  },
  {
   "cell_type": "code",
   "execution_count": 4,
   "outputs": [
    {
     "name": "stdout",
     "output_type": "stream",
     "text": [
      "Cov(X, Y) = -92.80000000000001\n",
      "Var{E(Y |X)} = 0.08999999999999808\n"
     ]
    }
   ],
   "source": [
    "# Заданные вероятности и ожидаемые значения\n",
    "P_X_30 = 0.9\n",
    "P_X_60 = 0.1\n",
    "E_Y_given_X_30 = 3\n",
    "E_Y_given_X_60 = 2\n",
    "\n",
    "# Вычисление Cov(X, Y)\n",
    "E_XY = P_X_30 * E_Y_given_X_30 + P_X_60 * E_Y_given_X_60\n",
    "E_X = P_X_30 * 30 + P_X_60 * 60\n",
    "E_Y = P_X_30 * E_Y_given_X_30 + P_X_60 * E_Y_given_X_60\n",
    "Cov_X_Y = E_XY - E_X * E_Y\n",
    "\n",
    "# Вычисление Var{E(Y |X)}\n",
    "E_Y_given_X_squared = E_Y_given_X_30 ** 2 * P_X_30 + E_Y_given_X_60 ** 2 * P_X_60\n",
    "Var_E_Y_given_X = E_Y_given_X_squared - E_Y ** 2\n",
    "\n",
    "print(\"Cov(X, Y) =\", Cov_X_Y)\n",
    "print(\"Var{E(Y |X)} =\", Var_E_Y_given_X)"
   ],
   "metadata": {
    "collapsed": false,
    "ExecuteTime": {
     "end_time": "2023-09-13T13:33:06.133088200Z",
     "start_time": "2023-09-13T13:33:06.116937100Z"
    }
   },
   "id": "ef14490d5733a62a"
  },
  {
   "cell_type": "markdown",
   "source": [
    "Дискретный случайный вектор (X, Y ) имеет распределение\n",
    "X = 0 X = 1 X = 2\n",
    "Y = 2 1/12 1/12 5/24\n",
    "Y = 3 1/8 1/4 1/4\n",
    "\n",
    "Найдите распределение условного математического ожидания\n",
    "Z = E(X2 + Y\n",
    "2\n",
    "|Y ) и E(Z)."
   ],
   "metadata": {
    "collapsed": false
   },
   "id": "d842ef7d9bc60286"
  },
  {
   "cell_type": "code",
   "execution_count": 5,
   "outputs": [
    {
     "name": "stdout",
     "output_type": "stream",
     "text": [
      "E(Z) = 4.201388888888889\n"
     ]
    }
   ],
   "source": [
    "\n",
    "# Заданные вероятности P(X=x | Y=y)\n",
    "probabilities = np.array([[1/12, 1/12, 5/24],\n",
    "                          [1/8, 1/4, 1/4]])\n",
    "\n",
    "# Возможные значения X и Y\n",
    "X_values = np.array([0, 1, 2])\n",
    "Y_values = np.array([2, 3])\n",
    "\n",
    "# Найдем E(X^2 | Y) для каждого значения Y\n",
    "E_X2_given_Y = np.zeros_like(Y_values, dtype=float)\n",
    "\n",
    "for i, y in enumerate(Y_values):\n",
    "    E_X2_given_Y[i] = np.sum(X_values**2 * probabilities[i])\n",
    "\n",
    "# Найдем E(Y^2 | Y) для каждого значения Y\n",
    "E_Y2_given_Y = Y_values**2\n",
    "\n",
    "# Найдем E(X^2 + Y^2 | Y)\n",
    "E_Z_given_Y = E_X2_given_Y + E_Y2_given_Y\n",
    "\n",
    "# Найдем E(Z) - математическое ожидание E(Z)\n",
    "E_Z = np.sum(E_Z_given_Y * np.array([1/3, 1/4]))  # Вероятности P(Y=y)\n",
    "\n",
    "print(\"E(Z) =\", E_Z)\n"
   ],
   "metadata": {
    "collapsed": false,
    "ExecuteTime": {
     "end_time": "2023-09-13T13:33:07.104393800Z",
     "start_time": "2023-09-13T13:33:07.087844900Z"
    }
   },
   "id": "a9868942dd0d4442"
  },
  {
   "cell_type": "markdown",
   "source": [
    "Дано: P (X = 50) = 0, 1, P (X = 70) = 0, 9, E(Y |X = 50) = 4, E(Y |X = 70) = 2,\n",
    "Var(Y |X = 50) = 9 и Var(Y |X = 70) = 5. Найдите E[Var(Y |X)] и Var(Y )"
   ],
   "metadata": {
    "collapsed": false
   },
   "id": "37aabe7e9ab10916"
  },
  {
   "cell_type": "code",
   "execution_count": 6,
   "outputs": [
    {
     "name": "stdout",
     "output_type": "stream",
     "text": [
      "E[Var(Y |X)]: 5.4\n",
      "Var(Y): 5.760000000000001\n"
     ]
    }
   ],
   "source": [
    "# Данные\n",
    "P_X = [0.1, 0.9]  # Вероятности P(X)\n",
    "E_Y_given_X = [4, 2]  # E(Y |X)\n",
    "Var_Y_given_X = [9, 5]  # Var(Y |X)\n",
    "\n",
    "# Расчет E[Var(Y |X)]\n",
    "E_Var_Y_given_X = sum(P_X[i] * Var_Y_given_X[i] for i in range(len(P_X)))\n",
    "\n",
    "# Расчет Var(Y)\n",
    "E_Y_sq = sum(P_X[i] * (E_Y_given_X[i]**2) for i in range(len(P_X)))\n",
    "E_Var_Y = E_Var_Y_given_X + E_Y_sq - (sum(P_X[i] * E_Y_given_X[i] for i in range(len(P_X))))**2\n",
    "\n",
    "print(\"E[Var(Y |X)]:\", E_Var_Y_given_X)\n",
    "print(\"Var(Y):\", E_Var_Y)"
   ],
   "metadata": {
    "collapsed": false,
    "ExecuteTime": {
     "end_time": "2023-09-13T13:33:08.119693700Z",
     "start_time": "2023-09-13T13:33:08.102862700Z"
    }
   },
   "id": "35af8b72beb72e39"
  },
  {
   "cell_type": "code",
   "execution_count": 7,
   "outputs": [
    {
     "name": "stdout",
     "output_type": "stream",
     "text": [
      "E(X|X > Y): 4.0\n",
      "Var(X|X > Y): 1.0\n"
     ]
    }
   ],
   "source": [
    "\n",
    "\n",
    "# Заданные значения случайных величин X и Y\n",
    "values = [1, 2, 3, 4, 5]\n",
    "\n",
    "# Создаем DataFrame со всевозможными парами значений X и Y\n",
    "df = pd.DataFrame(list(itertools.product(values, repeat=2)), columns=['X', 'Y'])\n",
    "\n",
    "# Вычисляем условную вероятность P(X > Y)\n",
    "df['P(X > Y)'] = np.where(df['X'] > df['Y'], 1/len(df), 0)\n",
    "\n",
    "# Отфильтровываем только те случаи, где X > Y\n",
    "filtered_df = df[df['X'] > df['Y']]\n",
    "\n",
    "# Вычисляем E(X|X > Y)\n",
    "E_X_given_X_greater_Y = np.mean(filtered_df['X'])\n",
    "\n",
    "# Вычисляем Var(X|X > Y)\n",
    "Var_X_given_X_greater_Y = np.var(filtered_df['X'])\n",
    "\n",
    "print(\"E(X|X > Y):\", E_X_given_X_greater_Y)\n",
    "print(\"Var(X|X > Y):\", Var_X_given_X_greater_Y)"
   ],
   "metadata": {
    "collapsed": false,
    "ExecuteTime": {
     "end_time": "2023-09-13T13:33:08.622788600Z",
     "start_time": "2023-09-13T13:33:08.595168Z"
    }
   },
   "id": "c5b22f3791d48a61"
  },
  {
   "cell_type": "markdown",
   "source": [
    "Имеется 36 игральных костей. В первый раз бросаются все игральные кости, во второй раз – только те, на которых в первый раз выпало 6 очков.\n",
    "Пусть S – сумма очков при втором броске. Найдите E (S) и Var(S)"
   ],
   "metadata": {
    "collapsed": false
   },
   "id": "1a57fb36239c318b"
  },
  {
   "cell_type": "code",
   "execution_count": 9,
   "outputs": [
    {
     "name": "stdout",
     "output_type": "stream",
     "text": [
      "E(S): 36.0\n",
      "Var(S): 0.0\n"
     ]
    }
   ],
   "source": [
    "\n",
    "# Заданное количество игральных костей\n",
    "num_dice = 36\n",
    "\n",
    "# Имитация первого броска всех игральных костей\n",
    "first_throw = np.random.randint(1, 7, size=num_dice)\n",
    "\n",
    "# Выбираем только те кости, на которых выпало 6 очков\n",
    "selected_dice = first_throw[first_throw == 6]\n",
    "\n",
    "# Вычисляем сумму очков при втором броске\n",
    "second_throw_sum = np.sum(selected_dice)\n",
    "\n",
    "# Выводим ожидаемое значение E(S) и дисперсию Var(S)\n",
    "print(\"E(S):\", np.mean(second_throw_sum))\n",
    "print(\"Var(S):\", np.var(second_throw_sum))"
   ],
   "metadata": {
    "collapsed": false,
    "ExecuteTime": {
     "end_time": "2023-09-13T13:33:32.619460500Z",
     "start_time": "2023-09-13T13:33:32.549500400Z"
    }
   },
   "id": "8e03e5e29d78341c"
  },
  {
   "cell_type": "markdown",
   "source": [
    "Игральная кость подбрасывается до тех пор, пока не выпадет 6 очков.\n",
    "Пусть S – сумма очков во всех бросках, кроме последнего (S = 0, если 6\n",
    "очков выпало при первом броске). Найдите E (S) и Var(S)"
   ],
   "metadata": {
    "collapsed": false
   },
   "id": "f41c45df9b4c5a42"
  },
  {
   "cell_type": "code",
   "execution_count": 10,
   "outputs": [
    {
     "name": "stdout",
     "output_type": "stream",
     "text": [
      "E(S): 20.99066\n",
      "Var(S): 279.3946527644\n"
     ]
    }
   ],
   "source": [
    "\n",
    "# Имитация бросков игральной кости до выпадения 6 очков\n",
    "def simulate_dice_throw():\n",
    "    sum_points = 0\n",
    "    while True:\n",
    "        throw = np.random.randint(1, 7)\n",
    "        sum_points += throw\n",
    "        if throw == 6:\n",
    "            break\n",
    "    return sum_points\n",
    "\n",
    "# Количество экспериментов для оценки ожидаемого значения и дисперсии\n",
    "num_experiments = 100000\n",
    "\n",
    "# Список для хранения сумм очков во всех бросках, кроме последнего\n",
    "s_values = []\n",
    "for _ in range(num_experiments):\n",
    "    s = simulate_dice_throw()\n",
    "    if s > 0:\n",
    "        s_values.append(s)\n",
    "\n",
    "# Преобразуем список в массив numpy\n",
    "s_values = np.array(s_values)\n",
    "\n",
    "# Выводим ожидаемое значение E(S) и дисперсию Var(S)\n",
    "print(\"E(S):\", np.mean(s_values))\n",
    "print(\"Var(S):\", np.var(s_values))"
   ],
   "metadata": {
    "collapsed": false,
    "ExecuteTime": {
     "end_time": "2023-09-13T13:35:40.574425600Z",
     "start_time": "2023-09-13T13:35:37.990486800Z"
    }
   },
   "id": "8325060d41d9ac42"
  },
  {
   "cell_type": "markdown",
   "source": [
    "Сначала бросается игральная кость, затем монета подбрасывается столь\u0002ко раз, сколько очков выпало на игральной кости, X – число выпавших\n",
    "при этом гербов. Найдите E (X) и Var(X)"
   ],
   "metadata": {
    "collapsed": false
   },
   "id": "c7f32de54ee8ae5c"
  },
  {
   "cell_type": "code",
   "execution_count": 11,
   "outputs": [
    {
     "ename": "SyntaxError",
     "evalue": "unterminated string literal (detected at line 28) (1818685340.py, line 28)",
     "output_type": "error",
     "traceback": [
      "\u001B[1;36m  Cell \u001B[1;32mIn[11], line 28\u001B[1;36m\u001B[0m\n\u001B[1;33m    print(\"E(X):\u001B[0m\n\u001B[1;37m          ^\u001B[0m\n\u001B[1;31mSyntaxError\u001B[0m\u001B[1;31m:\u001B[0m unterminated string literal (detected at line 28)\n"
     ]
    }
   ],
   "source": [
    "import numpy as np\n",
    "\n",
    "# Имитация броска монеты\n",
    "def simulate_coin_toss(num_tosses):\n",
    "    num_heads = np.sum(np.random.randint(0, 2, size=num_tosses))\n",
    "    return num_heads\n",
    "\n",
    "# Имитация броска игральной кости и бросков монеты\n",
    "def simulate_dice_roll_and_coin_toss():\n",
    "    dice_throw = np.random.randint(1, 7)\n",
    "    num_tosses = dice_throw\n",
    "    num_heads = simulate_coin_toss(num_tosses)\n",
    "    return num_heads\n",
    "\n",
    "# Количество экспериментов для оценки ожидаемого значения и дисперсии\n",
    "num_experiments = 100000\n",
    "\n",
    "# Список для хранения чисел выпавших гербов\n",
    "x_values = []\n",
    "for _ in range(num_experiments):\n",
    "    x = simulate_dice_roll_and_coin_toss()\n",
    "    x_values.append(x)\n",
    "\n",
    "# Преобразуем список в массив numpy\n",
    "x_values = np.array(x_values)\n",
    "\n",
    "# Выводим ожидаемое значение E(X) и дисперсию Var(X)\n",
    "print(\"E(X): x"
   ],
   "metadata": {
    "collapsed": false,
    "ExecuteTime": {
     "end_time": "2023-09-13T13:40:26.550220600Z",
     "start_time": "2023-09-13T13:40:26.487769200Z"
    }
   },
   "id": "bc97e2d8ac11fa94"
  },
  {
   "cell_type": "code",
   "execution_count": null,
   "outputs": [],
   "source": [],
   "metadata": {
    "collapsed": false
   },
   "id": "15c664058e22c79e"
  }
 ],
 "metadata": {
  "kernelspec": {
   "display_name": "Python 3",
   "language": "python",
   "name": "python3"
  },
  "language_info": {
   "codemirror_mode": {
    "name": "ipython",
    "version": 2
   },
   "file_extension": ".py",
   "mimetype": "text/x-python",
   "name": "python",
   "nbconvert_exporter": "python",
   "pygments_lexer": "ipython2",
   "version": "2.7.6"
  }
 },
 "nbformat": 4,
 "nbformat_minor": 5
}
