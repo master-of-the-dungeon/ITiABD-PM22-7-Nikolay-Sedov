{
 "cells": [
  {
   "cell_type": "code",
   "execution_count": 1,
   "metadata": {},
   "outputs": [
    {
     "name": "stdout",
     "output_type": "stream",
     "text": [
      "pygame 2.5.2 (SDL 2.28.3, Python 3.12.1)\n",
      "Hello from the pygame community. https://www.pygame.org/contribute.html\n"
     ]
    },
    {
     "ename": "FileNotFoundError",
     "evalue": "No file 'background.jpg' found in working directory 'c:\\Users\\sedof\\Documents\\vscode\\ITiABD-PM22-7-Nikolay-Sedov\\Practicum\\pygame'.",
     "output_type": "error",
     "traceback": [
      "\u001b[1;31m---------------------------------------------------------------------------\u001b[0m",
      "\u001b[1;31mFileNotFoundError\u001b[0m                         Traceback (most recent call last)",
      "Cell \u001b[1;32mIn[1], line 11\u001b[0m\n\u001b[0;32m      8\u001b[0m screen \u001b[38;5;241m=\u001b[39m pygame\u001b[38;5;241m.\u001b[39mdisplay\u001b[38;5;241m.\u001b[39mset_mode((\u001b[38;5;241m800\u001b[39m, \u001b[38;5;241m600\u001b[39m))\n\u001b[0;32m     10\u001b[0m \u001b[38;5;66;03m# Загрузка фонового изображения\u001b[39;00m\n\u001b[1;32m---> 11\u001b[0m background \u001b[38;5;241m=\u001b[39m \u001b[43mpygame\u001b[49m\u001b[38;5;241;43m.\u001b[39;49m\u001b[43mimage\u001b[49m\u001b[38;5;241;43m.\u001b[39;49m\u001b[43mload\u001b[49m\u001b[43m(\u001b[49m\u001b[38;5;124;43m'\u001b[39;49m\u001b[38;5;124;43mbackground.jpg\u001b[39;49m\u001b[38;5;124;43m'\u001b[39;49m\u001b[43m)\u001b[49m\n\u001b[0;32m     13\u001b[0m \u001b[38;5;66;03m# Начальное положение фона\u001b[39;00m\n\u001b[0;32m     14\u001b[0m background_x \u001b[38;5;241m=\u001b[39m \u001b[38;5;241m0\u001b[39m\n",
      "\u001b[1;31mFileNotFoundError\u001b[0m: No file 'background.jpg' found in working directory 'c:\\Users\\sedof\\Documents\\vscode\\ITiABD-PM22-7-Nikolay-Sedov\\Practicum\\pygame'."
     ]
    },
    {
     "ename": "",
     "evalue": "",
     "output_type": "error",
     "traceback": [
      "\u001b[1;31mThe Kernel crashed while executing code in the current cell or a previous cell. \n",
      "\u001b[1;31mPlease review the code in the cell(s) to identify a possible cause of the failure. \n",
      "\u001b[1;31mClick <a href='https://aka.ms/vscodeJupyterKernelCrash'>here</a> for more info. \n",
      "\u001b[1;31mView Jupyter <a href='command:jupyter.viewOutput'>log</a> for further details."
     ]
    }
   ],
   "source": [
    "import pygame\n",
    "import sys\n",
    "\n",
    "# Инициализация Pygame\n",
    "pygame.init()\n",
    "\n",
    "# Установка размеров окна\n",
    "screen = pygame.display.set_mode((800, 600))\n",
    "\n",
    "# Загрузка фонового изображения\n",
    "background = pygame.image.load('background.jpg')\n",
    "\n",
    "# Начальное положение фона\n",
    "background_x = 0\n",
    "background_y = 0\n",
    "\n",
    "# Скорость перемещения фона\n",
    "speed = 5\n",
    "\n",
    "running = True\n",
    "while running:\n",
    "    for event in pygame.event.get():\n",
    "        if event.type == pygame.QUIT:\n",
    "            running = False\n",
    "\n",
    "    # Проверка нажатых клавиш\n",
    "    keys = pygame.key.get_pressed()\n",
    "    if keys[pygame.K_LEFT]:\n",
    "        background_x += speed\n",
    "    if keys[pygame.K_RIGHT]:\n",
    "        background_x -= speed\n",
    "    if keys[pygame.K_UP]:\n",
    "        background_y += speed\n",
    "    if keys[pygame.K_DOWN]:\n",
    "        background_y -= speed\n",
    "\n",
    "    # Отрисовка фона\n",
    "    screen.fill((0, 0, 0)) # Очистка экрана\n",
    "    screen.blit(background, (background_x, background_y))\n",
    "\n",
    "    pygame.display.flip() # Обновление экрана\n",
    "\n",
    "pygame.quit()\n"
   ]
  },
  {
   "cell_type": "code",
   "execution_count": null,
   "metadata": {},
   "outputs": [],
   "source": []
  }
 ],
 "metadata": {
  "kernelspec": {
   "display_name": "Python 3",
   "language": "python",
   "name": "python3"
  },
  "language_info": {
   "codemirror_mode": {
    "name": "ipython",
    "version": 3
   },
   "file_extension": ".py",
   "mimetype": "text/x-python",
   "name": "python",
   "nbconvert_exporter": "python",
   "pygments_lexer": "ipython3",
   "version": "3.12.1"
  }
 },
 "nbformat": 4,
 "nbformat_minor": 2
}
