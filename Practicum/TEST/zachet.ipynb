{
 "cells": [
  {
   "cell_type": "code",
   "execution_count": 4,
   "metadata": {},
   "outputs": [
    {
     "ename": "TclError",
     "evalue": "image \"pyimage8\" doesn't exist",
     "output_type": "error",
     "traceback": [
      "\u001b[1;31m---------------------------------------------------------------------------\u001b[0m",
      "\u001b[1;31mTclError\u001b[0m                                  Traceback (most recent call last)",
      "\u001b[1;32mc:\\Users\\nsedoff\\Documents\\VSCode docs\\ITiABD-PM22-7-Nikolay-Sedov\\Practicum\\TEST\\zachet.ipynb Cell 1\u001b[0m line \u001b[0;36m7\n\u001b[0;32m     <a href='vscode-notebook-cell:/c%3A/Users/nsedoff/Documents/VSCode%20docs/ITiABD-PM22-7-Nikolay-Sedov/Practicum/TEST/zachet.ipynb#W0sZmlsZQ%3D%3D?line=66'>67</a>\u001b[0m canvas\u001b[39m.\u001b[39mbind(\u001b[39m\"\u001b[39m\u001b[39m<Button-1>\u001b[39m\u001b[39m\"\u001b[39m, collect)\n\u001b[0;32m     <a href='vscode-notebook-cell:/c%3A/Users/nsedoff/Documents/VSCode%20docs/ITiABD-PM22-7-Nikolay-Sedov/Practicum/TEST/zachet.ipynb#W0sZmlsZQ%3D%3D?line=68'>69</a>\u001b[0m \u001b[39m# Начинаем создание фруктов\u001b[39;00m\n\u001b[1;32m---> <a href='vscode-notebook-cell:/c%3A/Users/nsedoff/Documents/VSCode%20docs/ITiABD-PM22-7-Nikolay-Sedov/Practicum/TEST/zachet.ipynb#W0sZmlsZQ%3D%3D?line=69'>70</a>\u001b[0m create_fruit()\n\u001b[0;32m     <a href='vscode-notebook-cell:/c%3A/Users/nsedoff/Documents/VSCode%20docs/ITiABD-PM22-7-Nikolay-Sedov/Practicum/TEST/zachet.ipynb#W0sZmlsZQ%3D%3D?line=71'>72</a>\u001b[0m \u001b[39m# Запускаем главный цикл приложения\u001b[39;00m\n\u001b[0;32m     <a href='vscode-notebook-cell:/c%3A/Users/nsedoff/Documents/VSCode%20docs/ITiABD-PM22-7-Nikolay-Sedov/Practicum/TEST/zachet.ipynb#W0sZmlsZQ%3D%3D?line=72'>73</a>\u001b[0m root\u001b[39m.\u001b[39mmainloop()\n",
      "\u001b[1;32mc:\\Users\\nsedoff\\Documents\\VSCode docs\\ITiABD-PM22-7-Nikolay-Sedov\\Practicum\\TEST\\zachet.ipynb Cell 1\u001b[0m line \u001b[0;36m9\n\u001b[0;32m      <a href='vscode-notebook-cell:/c%3A/Users/nsedoff/Documents/VSCode%20docs/ITiABD-PM22-7-Nikolay-Sedov/Practicum/TEST/zachet.ipynb#W0sZmlsZQ%3D%3D?line=6'>7</a>\u001b[0m y \u001b[39m=\u001b[39m random\u001b[39m.\u001b[39mrandint(\u001b[39m50\u001b[39m, \u001b[39m550\u001b[39m)\n\u001b[0;32m      <a href='vscode-notebook-cell:/c%3A/Users/nsedoff/Documents/VSCode%20docs/ITiABD-PM22-7-Nikolay-Sedov/Practicum/TEST/zachet.ipynb#W0sZmlsZQ%3D%3D?line=7'>8</a>\u001b[0m fruit_type \u001b[39m=\u001b[39m random\u001b[39m.\u001b[39mchoice(fruit_images)\n\u001b[1;32m----> <a href='vscode-notebook-cell:/c%3A/Users/nsedoff/Documents/VSCode%20docs/ITiABD-PM22-7-Nikolay-Sedov/Practicum/TEST/zachet.ipynb#W0sZmlsZQ%3D%3D?line=8'>9</a>\u001b[0m fruit \u001b[39m=\u001b[39m canvas\u001b[39m.\u001b[39;49mcreate_image(x, y, anchor\u001b[39m=\u001b[39;49mtk\u001b[39m.\u001b[39;49mCENTER, image\u001b[39m=\u001b[39;49mfruit_type)\n\u001b[0;32m     <a href='vscode-notebook-cell:/c%3A/Users/nsedoff/Documents/VSCode%20docs/ITiABD-PM22-7-Nikolay-Sedov/Practicum/TEST/zachet.ipynb#W0sZmlsZQ%3D%3D?line=9'>10</a>\u001b[0m fruits\u001b[39m.\u001b[39mappend((fruit, (x, y)))\n\u001b[0;32m     <a href='vscode-notebook-cell:/c%3A/Users/nsedoff/Documents/VSCode%20docs/ITiABD-PM22-7-Nikolay-Sedov/Practicum/TEST/zachet.ipynb#W0sZmlsZQ%3D%3D?line=10'>11</a>\u001b[0m \u001b[39m# Планируем удаление фрукта через 3000 мс\u001b[39;00m\n",
      "File \u001b[1;32mc:\\Users\\nsedoff\\AppData\\Local\\Programs\\Python\\Python311\\Lib\\tkinter\\__init__.py:2846\u001b[0m, in \u001b[0;36mCanvas.create_image\u001b[1;34m(self, *args, **kw)\u001b[0m\n\u001b[0;32m   2844\u001b[0m \u001b[39mdef\u001b[39;00m \u001b[39mcreate_image\u001b[39m(\u001b[39mself\u001b[39m, \u001b[39m*\u001b[39margs, \u001b[39m*\u001b[39m\u001b[39m*\u001b[39mkw):\n\u001b[0;32m   2845\u001b[0m \u001b[39m    \u001b[39m\u001b[39m\"\"\"Create image item with coordinates x1,y1.\"\"\"\u001b[39;00m\n\u001b[1;32m-> 2846\u001b[0m     \u001b[39mreturn\u001b[39;00m \u001b[39mself\u001b[39;49m\u001b[39m.\u001b[39;49m_create(\u001b[39m'\u001b[39;49m\u001b[39mimage\u001b[39;49m\u001b[39m'\u001b[39;49m, args, kw)\n",
      "File \u001b[1;32mc:\\Users\\nsedoff\\AppData\\Local\\Programs\\Python\\Python311\\Lib\\tkinter\\__init__.py:2832\u001b[0m, in \u001b[0;36mCanvas._create\u001b[1;34m(self, itemType, args, kw)\u001b[0m\n\u001b[0;32m   2830\u001b[0m \u001b[39melse\u001b[39;00m:\n\u001b[0;32m   2831\u001b[0m     cnf \u001b[39m=\u001b[39m {}\n\u001b[1;32m-> 2832\u001b[0m \u001b[39mreturn\u001b[39;00m \u001b[39mself\u001b[39m\u001b[39m.\u001b[39mtk\u001b[39m.\u001b[39mgetint(\u001b[39mself\u001b[39;49m\u001b[39m.\u001b[39;49mtk\u001b[39m.\u001b[39;49mcall(\n\u001b[0;32m   2833\u001b[0m     \u001b[39mself\u001b[39;49m\u001b[39m.\u001b[39;49m_w, \u001b[39m'\u001b[39;49m\u001b[39mcreate\u001b[39;49m\u001b[39m'\u001b[39;49m, itemType,\n\u001b[0;32m   2834\u001b[0m     \u001b[39m*\u001b[39;49m(args \u001b[39m+\u001b[39;49m \u001b[39mself\u001b[39;49m\u001b[39m.\u001b[39;49m_options(cnf, kw))))\n",
      "\u001b[1;31mTclError\u001b[0m: image \"pyimage8\" doesn't exist"
     ]
    }
   ],
   "source": [
    "import tkinter as tk\n",
    "import random\n",
    "\n",
    "# Функция для создания фруктов на холсте\n",
    "def create_fruit():\n",
    "    x = random.randint(50, 550)\n",
    "    y = random.randint(50, 550)\n",
    "    fruit_type = random.choice(fruit_images)\n",
    "    fruit = canvas.create_image(x, y, anchor=tk.CENTER, image=fruit_type)\n",
    "    fruits.append((fruit, (x, y)))\n",
    "    # Планируем удаление фрукта через 3000 мс\n",
    "    canvas.after(3000, lambda f=fruit: delete_fruit(f))\n",
    "    # Планируем создание следующего фрукта через 1000 мс\n",
    "    canvas.after(1000, create_fruit)\n",
    "\n",
    "# Функция для удаления фруктов с холста\n",
    "def delete_fruit(fruit):\n",
    "    if fruit in [item[0] for item in fruits]:\n",
    "        canvas.delete(fruit)\n",
    "        fruits.remove((fruit, canvas.coords(fruit)))\n",
    "        reduce_score()\n",
    "\n",
    "# Функция для уменьшения счета\n",
    "def reduce_score():\n",
    "    global score\n",
    "    score -= 1\n",
    "    if score < 0:\n",
    "        score = 0\n",
    "    score_label.config(text=f\"Score: {score}\")\n",
    "\n",
    "# Функция для обработки клика по фруктам\n",
    "def collect(event):\n",
    "    global score\n",
    "    x, y = event.x, event.y\n",
    "    for fruit, (fx, fy) in list(fruits):\n",
    "        if fx - 50 < x < fx + 50 and fy - 50 < y < fy + 50:  # Увеличиваем область захвата фрукта\n",
    "            canvas.delete(fruit)\n",
    "            fruits.remove((fruit, (fx, fy)))\n",
    "            score += 1\n",
    "            score_label.config(text=f\"Score: {score}\")\n",
    "            break\n",
    "\n",
    "# Создаем главное окно\n",
    "root = tk.Tk()\n",
    "root.title(\"Собери фрукты\")\n",
    "\n",
    "# Создаем холст для рисования\n",
    "canvas = tk.Canvas(root, width=600, height=600, bg='lightgreen')\n",
    "canvas.pack()\n",
    "\n",
    "# Загрузка изображений фруктов и сохранение их в глобальной области видимости\n",
    "global apple_img, banana_img, orange_img\n",
    "apple_img = tk.PhotoImage(file=\"resized_apple.png\")\n",
    "banana_img = tk.PhotoImage(file=\"resized_banana.png\")\n",
    "orange_img = tk.PhotoImage(file=\"resized_orange.png\")\n",
    "\n",
    "# Список изображений и список для хранения созданных фруктов\n",
    "fruit_images = [apple_img, banana_img, orange_img]\n",
    "fruits = []\n",
    "\n",
    "# Переменная для счета и ее отображение\n",
    "score = 0\n",
    "score_label = tk.Label(root, text=\"Score: 0\", font=(\"Arial\", 18))\n",
    "score_label.pack()\n",
    "\n",
    "# Привязываем функцию обработки клика к холсту\n",
    "canvas.bind(\"<Button-1>\", collect)\n",
    "\n",
    "# Начинаем создание фруктов\n",
    "create_fruit()\n",
    "\n",
    "# Запускаем главный цикл приложения\n",
    "root.mainloop()\n"
   ]
  },
  {
   "cell_type": "code",
   "execution_count": null,
   "metadata": {},
   "outputs": [],
   "source": []
  }
 ],
 "metadata": {
  "kernelspec": {
   "display_name": "Python 3",
   "language": "python",
   "name": "python3"
  },
  "language_info": {
   "codemirror_mode": {
    "name": "ipython",
    "version": 3
   },
   "file_extension": ".py",
   "mimetype": "text/x-python",
   "name": "python",
   "nbconvert_exporter": "python",
   "pygments_lexer": "ipython3",
   "version": "3.11.4"
  }
 },
 "nbformat": 4,
 "nbformat_minor": 2
}
