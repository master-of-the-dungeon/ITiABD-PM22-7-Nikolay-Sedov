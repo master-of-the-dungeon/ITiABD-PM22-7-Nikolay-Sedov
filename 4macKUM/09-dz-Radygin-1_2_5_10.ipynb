{
 "cells": [
  {
   "cell_type": "markdown",
   "id": "d30eacd8",
   "metadata": {},
   "source": [
    "\n",
    "# Алгоритмы и структуры данных в Python\n",
    "\n",
    "## Домашнее задание, неделя 09, студент Радыгин Максим Олегович\n",
    "\n",
    "Домашнее задание:\n",
    " - каждый студент получает по 4 задачи, они случайно выбраны из 12-ти\n",
    " - для полного зачета по ДЗ необходимо решить любые 3 из этих 4-х задач\n",
    " - решения необходимо прислать до 23:59 09.11.2022 на email iseliseev@fa.ru.\n",
    " \n",
    "Как выполнять Домашнее Задание:\n",
    " - распакуйте архив с файлами .ipynb\n",
    " - найдите файл со своей фамилией в названии\n",
    " - откройте его в jupyter notebook\n",
    " - решите задачи, ваш код должен быть в клетках после надписи \"# ваш код здесь\", результат его работы - в клетках ниже\n",
    " - сохраните этот .ipynb файл\n",
    " - отправьте его не позднее указанного дедлайна.\n",
    " \n",
    "__ВНИМАНИЕ__: Работы, присланные в ином виде (в текстовых файлах, в .py файлах, в почте, в ворде и других фотошопах) - не принимаются!\n",
    "\n",
    "По баллам: одна задача - 4 балла (но это неточно). Итоговые баллы в промежуточной аттестации будут \n",
    "корректироваться в зависимости от уровня группы.\n",
    "\n"
   ]
  },
  {
   "cell_type": "markdown",
   "id": "33fbcb01",
   "metadata": {
    "task_id": "1",
    "type": "task"
   },
   "source": [
    "## Задача 1\n",
    "\n",
    "Сгенерируйте список из 10-ти случайных чисел в диапазоне от 0 до 10 с шагом 0.25 (пример: 0.25, 2.75, 4.50 etc), выведите его на экран."
   ]
  },
  {
   "cell_type": "code",
   "execution_count": 8,
   "id": "3a3a24f2",
   "metadata": {
    "task_id": "1",
    "type": "task"
   },
   "outputs": [
    {
     "name": "stdout",
     "output_type": "stream",
     "text": [
      "[5, 3, 8, 3, 8, 1, 9, 10, 3, 4]\n"
     ]
    }
   ],
   "source": [
    "step = .25\n",
    "# ваш код здесь\n",
    "import random\n",
    "a = []\n",
    "for i in range(10):\n",
    "    a.append(random.randint(1,10))\n",
    "print(a)"
   ]
  },
  {
   "cell_type": "markdown",
   "id": "ab9b0ae1",
   "metadata": {
    "task_id": "2",
    "type": "task"
   },
   "source": [
    "## Задача 2\n",
    "\n",
    "Запросите у пользователя ввод числа. Если пользователь ввел целое число, выведите слово \"Целое\", в противном случае - слово \"Дробное\"."
   ]
  },
  {
   "cell_type": "code",
   "execution_count": 5,
   "id": "72b6fb6d",
   "metadata": {
    "task_id": "2",
    "type": "task"
   },
   "outputs": [
    {
     "name": "stdout",
     "output_type": "stream",
     "text": [
      "10\n",
      "10\n",
      "Дробное\n"
     ]
    }
   ],
   "source": [
    "# ваш код здесь\n",
    "a = input('Введите число')\n",
    "print(a)\n",
    "print(int(a))\n",
    "if int(a) == a:\n",
    "    print('Целое')\n",
    "elif int(a)!=a:\n",
    "    print('Дробное')\n"
   ]
  },
  {
   "cell_type": "markdown",
   "id": "d48b0fc4",
   "metadata": {
    "task_id": "5",
    "type": "task"
   },
   "source": [
    "## Задача 5\n",
    "\n",
    "Дан список месяцев: ```months = ['Январь', 'Февраль', 'Март', 'Апрель', 'Май', 'Июнь', 'Июль', 'Август', 'Сентябрь', 'Октябрь', 'Ноябрь', 'Декабрь']```. Создайте словарь, в котором элементы этого списка станут ключами, а значениями будут случайные вещественные числа в диапазоне от 0 до 100. Затем на базе него нужно создать словарь, ключами которого будут номера кварталов, записанных римскими цифрами ```['I', 'II', 'III', 'IV']```, значениями - суммы этих показателей за соответствующие месяцы."
   ]
  },
  {
   "cell_type": "code",
   "execution_count": 13,
   "id": "bd026fec",
   "metadata": {
    "task_id": "5",
    "type": "task"
   },
   "outputs": [
    {
     "name": "stdout",
     "output_type": "stream",
     "text": [
      "{'Январь': 8, 'Февраль': 91, 'Март': 91, 'Апрель': 21, 'Май': 23, 'Июнь': 38, 'Июль': 74, 'Август': 47, 'Сентябрь': 96, 'Октябрь': 40, 'Ноябрь': 33, 'Декабрь': 19}\n",
      "[190, 82, 217, 92]\n",
      "{'I': 190, 'II': 82, 'III': 217, 'IV': 92}\n"
     ]
    }
   ],
   "source": [
    "import random\n",
    "months = ['Январь', 'Февраль', 'Март', 'Апрель', 'Май', 'Июнь',\n",
    "          'Июль', 'Август', 'Сентябрь', 'Октябрь', 'Ноябрь', 'Декабрь']\n",
    "quarters = ['I', 'II', 'III', 'IV']\n",
    "numbers = []\n",
    "# ваш код здесь\n",
    "for i in range (12):\n",
    "    numbers.append(random.randint(1,100))\n",
    "months_dict = dict(zip(months,numbers))\n",
    "print(months_dict)\n",
    "values_ = list(dict.values(months_dict))\n",
    "one = values_[0]+values_[1]+values_[2]\n",
    "two = values_[3]+values_[4]+values_[5]\n",
    "three = values_[6]+values_[7]+values_[8]\n",
    "four = values_[9]+values_[10]+values_[11]\n",
    "val = [one,two,three,four]\n",
    "print(val)\n",
    "qua_dict = dict(zip(quarters,val))\n",
    "print(qua_dict)"
   ]
  },
  {
   "cell_type": "markdown",
   "id": "a250dd7c",
   "metadata": {
    "task_id": "10",
    "type": "task"
   },
   "source": [
    "## Задача 10\n",
    "\n",
    "Есть три друга: Иван, Олег и Семен. Каждый из них мечтает накопить миллион. Зарплата Ивана - 50000 р/мес, Олега - 150000 р/мес, Семена - 33000 р/мес. Напишите программу, которая составляет словарь, в котором ключи - имена друзей, а значения - количество месяцев, за которые они достигнут заветной цели. Задачу решить в общем виде, вне зависимости от зарплат друзей и целевой суммы - их должен вводить пользователь."
   ]
  },
  {
   "cell_type": "code",
   "execution_count": 14,
   "id": "93d1e2af",
   "metadata": {
    "task_id": "10",
    "type": "task"
   },
   "outputs": [
    {
     "ename": "TypeError",
     "evalue": "'builtin_function_or_method' object is not subscriptable",
     "output_type": "error",
     "traceback": [
      "\u001B[0;31m---------------------------------------------------------------------------\u001B[0m",
      "\u001B[0;31mTypeError\u001B[0m                                 Traceback (most recent call last)",
      "Cell \u001B[0;32mIn [14], line 9\u001B[0m\n\u001B[1;32m      7\u001B[0m shetchik \u001B[38;5;241m=\u001B[39m \u001B[38;5;241m0\u001B[39m\n\u001B[1;32m      8\u001B[0m \u001B[38;5;28;01mwhile\u001B[39;00m tsel\u001B[38;5;241m!=\u001B[39m\u001B[38;5;241m0\u001B[39m:\n\u001B[0;32m----> 9\u001B[0m     tsel\u001B[38;5;241m-\u001B[39m\u001B[38;5;241m=\u001B[39m\u001B[38;5;28mint\u001B[39m(\u001B[43mivan\u001B[49m\u001B[43m[\u001B[49m\u001B[38;5;241;43m0\u001B[39;49m\u001B[43m]\u001B[49m)\n\u001B[1;32m     10\u001B[0m     shetchik \u001B[38;5;241m+\u001B[39m\u001B[38;5;241m=\u001B[39m\u001B[38;5;241m1\u001B[39m\n\u001B[1;32m     11\u001B[0m srok[\u001B[38;5;241m0\u001B[39m] \u001B[38;5;241m=\u001B[39m shetchik\n",
      "\u001B[0;31mTypeError\u001B[0m: 'builtin_function_or_method' object is not subscriptable"
     ]
    }
   ],
   "source": [
    "# ваш код здесь\n",
    "\n",
    "ivan = input('Введите зарплату ивана и его траты через пробел:').split()\n",
    "oleg = input('Введите зарплату олега и его траты через пробел: ').split()\n",
    "semen = input('Введите зарплату семена и его траты через пробел: ').split()\n",
    "srok = {'Ivan':0,'Oleg':0,'Semen':0}\n",
    "tsel = 1000000\n",
    "shetchik = 0\n",
    "while tsel!=0:\n",
    "    tsel-=int(ivan[0])\n",
    "    shetchik +=1\n",
    "srok['Ivan'] = shetchik\n",
    "shetchik = 0\n",
    "tsel = 1000000\n",
    "while tsel!=0:\n",
    "    tsel-=int(oleg[0])\n",
    "    shetchik +=1\n",
    "srok['Oleg'] = shetchik\n",
    "shetchik = 0\n",
    "tsel = 1000000\n",
    "while tsel!=0:\n",
    "    tsel-=int(semen[0])\n",
    "    shetchik +=1\n",
    "srok['Semen'] = shetchik\n",
    "print(srok)"
   ]
  },
  {
   "cell_type": "code",
   "execution_count": null,
   "outputs": [],
   "source": [],
   "metadata": {
    "collapsed": false
   }
  }
 ],
 "metadata": {},
 "nbformat": 4,
 "nbformat_minor": 5
}
