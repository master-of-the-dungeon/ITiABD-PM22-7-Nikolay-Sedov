{
 "cells": [
  {
   "cell_type": "markdown",
   "id": "2d1359bf",
   "metadata": {},
   "source": [
    "## Задача 1 - Анализ данных ПК"
   ]
  },
  {
   "cell_type": "markdown",
   "id": "20d9221e",
   "metadata": {},
   "source": [
    "Для ПК создать таблицы-описания и оценить возможные значения ПК через 10 лет. На основе этой оценки задать типы ПК."
   ]
  },
  {
   "cell_type": "code",
   "execution_count": 1,
   "id": "e8e011d0",
   "metadata": {},
   "outputs": [
    {
     "ename": "ModuleNotFoundError",
     "evalue": "No module named 'sqlalchemy'",
     "output_type": "error",
     "traceback": [
      "\u001b[1;31m---------------------------------------------------------------------------\u001b[0m",
      "\u001b[1;31mModuleNotFoundError\u001b[0m                       Traceback (most recent call last)",
      "\u001b[1;32mc:\\Users\\nsedoff\\Documents\\VSCode docs\\ITiABD-PM22-7-Nikolay-Sedov\\subd\\PR8\\tasks_notebook.ipynb Cell 3\u001b[0m line \u001b[0;36m1\n\u001b[1;32m----> <a href='vscode-notebook-cell:/c%3A/Users/nsedoff/Documents/VSCode%20docs/ITiABD-PM22-7-Nikolay-Sedov/subd/PR8/tasks_notebook.ipynb#W2sZmlsZQ%3D%3D?line=0'>1</a>\u001b[0m \u001b[39mfrom\u001b[39;00m \u001b[39msqlalchemy\u001b[39;00m \u001b[39mimport\u001b[39;00m create_engine, Column, Integer, String, ForeignKey, Float, UniqueConstraint\n\u001b[0;32m      <a href='vscode-notebook-cell:/c%3A/Users/nsedoff/Documents/VSCode%20docs/ITiABD-PM22-7-Nikolay-Sedov/subd/PR8/tasks_notebook.ipynb#W2sZmlsZQ%3D%3D?line=1'>2</a>\u001b[0m \u001b[39mfrom\u001b[39;00m \u001b[39msqlalchemy\u001b[39;00m\u001b[39m.\u001b[39;00m\u001b[39mext\u001b[39;00m\u001b[39m.\u001b[39;00m\u001b[39mdeclarative\u001b[39;00m \u001b[39mimport\u001b[39;00m declarative_base\n\u001b[0;32m      <a href='vscode-notebook-cell:/c%3A/Users/nsedoff/Documents/VSCode%20docs/ITiABD-PM22-7-Nikolay-Sedov/subd/PR8/tasks_notebook.ipynb#W2sZmlsZQ%3D%3D?line=2'>3</a>\u001b[0m \u001b[39mfrom\u001b[39;00m \u001b[39msqlalchemy\u001b[39;00m\u001b[39m.\u001b[39;00m\u001b[39morm\u001b[39;00m \u001b[39mimport\u001b[39;00m relationship, sessionmaker\n",
      "\u001b[1;31mModuleNotFoundError\u001b[0m: No module named 'sqlalchemy'"
     ]
    }
   ],
   "source": [
    "from sqlalchemy import create_engine, Column, Integer, String, ForeignKey, Float, UniqueConstraint\n",
    "from sqlalchemy.ext.declarative import declarative_base\n",
    "from sqlalchemy.orm import relationship, sessionmaker\n",
    "\n",
    "Base = declarative_base()\n",
    "\n",
    "class Book(Base):\n",
    "    __tablename__ = 'books'\n",
    "    isbn = Column(String, primary_key=True)\n",
    "    title = Column(String)\n",
    "    year_published = Column(Integer)\n",
    "    price = Column(Float)\n",
    "    authors = relationship('Author', secondary='book_authors')\n",
    "    # ... other relationships\n",
    "\n",
    "class Author(Base):\n",
    "    __tablename__ = 'authors'\n",
    "    id = Column(Integer, primary_key=True)\n",
    "    name = Column(String)\n",
    "    address = Column(String)\n",
    "    homepage_url = Column(String)\n",
    "    books = relationship('Book', secondary='book_authors')\n",
    "\n",
    "class BookAuthor(Base):\n",
    "    __tablename__ = 'book_authors'\n",
    "    book_isbn = Column(String, ForeignKey('books.isbn'), primary_key=True)\n",
    "    author_id = Column(Integer, ForeignKey('authors.id'), primary_key=True)\n",
    "\n",
    "# ... другие классы для каждой сущности\n",
    "\n",
    "# Создание инстанса движка, который будет взаимодействовать с базой данных\n",
    "engine = create_engine('sqlite:///:memory:')\n",
    "\n",
    "# Создание всех таблиц в базе данных\n",
    "Base.metadata.create_all(engine)\n",
    "\n",
    "# Создание сессии для взаимодействия с базой данных\n",
    "Session = sessionmaker(bind=engine)\n",
    "session = Session()\n",
    "\n",
    "# Пример добавления данных в базу\n",
    "author = Author(name='John Doe', address='1234 Fictional St', homepage_url='http://johndoe.com')\n",
    "book = Book(isbn='1234567890', title='The Great Book', year_published=2021, price=29.99)\n",
    "book.authors.append(author)\n",
    "session.add(book)\n",
    "session.commit()\n",
    "\n",
    "# Вывод книг из базы данных\n",
    "books = session.query(Book).all()\n",
    "for book in books:\n",
    "    print(book.title, book.isbn, [author.name for author in book.authors])\n"
   ]
  },
  {
   "cell_type": "markdown",
   "id": "9828f79d",
   "metadata": {},
   "source": [
    "## Задача 2 - Платный прием пациентов"
   ]
  },
  {
   "cell_type": "markdown",
   "id": "2da0eada",
   "metadata": {},
   "source": [
    "Расчет зарплаты врачей на основе стоимости приема и процента отчисления."
   ]
  },
  {
   "cell_type": "code",
   "execution_count": null,
   "id": "daacb61c",
   "metadata": {},
   "outputs": [],
   "source": [
    "import sqlite3"
   ]
  },
  {
   "cell_type": "code",
   "execution_count": null,
   "id": "2ab9d95c",
   "metadata": {},
   "outputs": [],
   "source": [
    "from datetime import datetime"
   ]
  },
  {
   "cell_type": "code",
   "execution_count": 4,
   "id": "76fa65ab",
   "metadata": {},
   "outputs": [
    {
     "name": "stdout",
     "output_type": "stream",
     "text": [
      "Doctor ID: 1, Gross Salary: 60.0, Income Tax: 7.800000000000001, Net Salary: 52.2\n"
     ]
    }
   ],
   "source": [
    "import sqlite3\n",
    "from datetime import datetime\n",
    "\n",
    "# Подключение к базе данных SQLite\n",
    "conn = sqlite3.connect(':memory:')  # Создание базы данных в памяти\n",
    "cursor = conn.cursor()\n",
    "\n",
    "# Создание таблиц\n",
    "cursor.execute('''\n",
    "CREATE TABLE doctors (\n",
    "    id INTEGER PRIMARY KEY,\n",
    "    name TEXT,\n",
    "    specialty TEXT,\n",
    "    fee_percentage REAL,\n",
    "    consultation_fee REAL\n",
    ")''')\n",
    "\n",
    "cursor.execute('''\n",
    "CREATE TABLE patients (\n",
    "    id INTEGER PRIMARY KEY,\n",
    "    name TEXT,\n",
    "    address TEXT,\n",
    "    phone TEXT\n",
    ")''')\n",
    "\n",
    "cursor.execute('''\n",
    "CREATE TABLE appointments (\n",
    "    id INTEGER PRIMARY KEY,\n",
    "    doctor_id INTEGER,\n",
    "    patient_id INTEGER,\n",
    "    appointment_date TEXT,\n",
    "    consultation_fee REAL,\n",
    "    FOREIGN KEY(doctor_id) REFERENCES doctors(id),\n",
    "    FOREIGN KEY(patient_id) REFERENCES patients(id)\n",
    ")''')\n",
    "\n",
    "cursor.execute('''\n",
    "CREATE TABLE receipts (\n",
    "    id INTEGER PRIMARY KEY,\n",
    "    appointment_id INTEGER,\n",
    "    amount_paid REAL,\n",
    "    receipt_date TEXT,\n",
    "    FOREIGN KEY(appointment_id) REFERENCES appointments(id)\n",
    ")''')\n",
    "\n",
    "cursor.execute('''\n",
    "CREATE TABLE salaries (\n",
    "    id INTEGER PRIMARY KEY,\n",
    "    doctor_id INTEGER,\n",
    "    appointment_id INTEGER,\n",
    "    gross_salary REAL,\n",
    "    income_tax REAL,\n",
    "    net_salary REAL,\n",
    "    FOREIGN KEY(doctor_id) REFERENCES doctors(id),\n",
    "    FOREIGN KEY(appointment_id) REFERENCES appointments(id)\n",
    ")''')\n",
    "\n",
    "# Вставка данных\n",
    "cursor.execute('INSERT INTO doctors (name, specialty, fee_percentage, consultation_fee) VALUES (?, ?, ?, ?)',\n",
    "               ('Dr. Smith', 'Cardiologist', 0.6, 100.0))\n",
    "\n",
    "cursor.execute('INSERT INTO patients (name, address, phone) VALUES (?, ?, ?)',\n",
    "               ('John Doe', '123 Maple St', '555-1234'))\n",
    "\n",
    "# Получение ID вставленных записей\n",
    "doctor_id = cursor.lastrowid\n",
    "patient_id = cursor.lastrowid\n",
    "\n",
    "# Вставка данных о приеме\n",
    "cursor.execute('INSERT INTO appointments (doctor_id, patient_id, appointment_date, consultation_fee) VALUES (?, ?, ?, ?)',\n",
    "               (doctor_id, patient_id, datetime.now().strftime('%Y-%m-%d %H:%M:%S'), 100.0))\n",
    "\n",
    "appointment_id = cursor.lastrowid\n",
    "\n",
    "# Вставка данных о квитанции\n",
    "cursor.execute('INSERT INTO receipts (appointment_id, amount_paid, receipt_date) VALUES (?, ?, ?)',\n",
    "               (appointment_id, 100.0, datetime.now().strftime('%Y-%m-%d %H:%M:%S')))\n",
    "\n",
    "# Расчет зарплаты\n",
    "cursor.execute('SELECT consultation_fee, fee_percentage FROM doctors WHERE id = ?', (doctor_id,))\n",
    "consultation_fee, fee_percentage = cursor.fetchone()\n",
    "gross_salary = consultation_fee * fee_percentage\n",
    "income_tax = gross_salary * 0.13\n",
    "net_salary = gross_salary - income_tax\n",
    "\n",
    "# Вставка данных о зарплате\n",
    "cursor.execute('INSERT INTO salaries (doctor_id, appointment_id, gross_salary, income_tax, net_salary) VALUES (?, ?, ?, ?, ?)',\n",
    "               (doctor_id, appointment_id, gross_salary, income_tax, net_salary))\n",
    "\n",
    "# Сохранение изменений\n",
    "conn.commit()\n",
    "\n",
    "# Выборка и вывод данных о зарплате\n",
    "cursor.execute('SELECT * FROM salaries')\n",
    "salaries = cursor.fetchall()\n",
    "\n",
    "for salary in salaries:\n",
    "    print(f\"Doctor ID: {salary[1]}, Gross Salary: {salary[3]}, Income Tax: {salary[4]}, Net Salary: {salary[5]}\")\n",
    "\n",
    "# Закрытие соединения с базой данных\n",
    "conn.close()\n"
   ]
  },
  {
   "cell_type": "markdown",
   "id": "9bf15d56",
   "metadata": {},
   "source": [
    "## Задача 3 - Оптовый магазин"
   ]
  },
  {
   "cell_type": "markdown",
   "id": "a27f1c42",
   "metadata": {},
   "source": [
    "Расчет комиссионного вознаграждения продавцов и прибыли от продажи товаров."
   ]
  },
  {
   "cell_type": "code",
   "execution_count": null,
   "id": "a91977dc",
   "metadata": {},
   "outputs": [],
   "source": [
    "import sqlite3"
   ]
  },
  {
   "cell_type": "code",
   "execution_count": null,
   "id": "d3c2b555",
   "metadata": {},
   "outputs": [],
   "source": [
    "from datetime import datetime"
   ]
  },
  {
   "cell_type": "code",
   "execution_count": 5,
   "id": "10369f3d",
   "metadata": {},
   "outputs": [
    {
     "name": "stdout",
     "output_type": "stream",
     "text": [
      "Commission Earned by Seller: 35.0\n",
      "Profit from Sales: 200.0\n"
     ]
    }
   ],
   "source": [
    "# Создаем новое подключение к базе данных SQLite в памяти\n",
    "conn = sqlite3.connect(':memory:')\n",
    "cursor = conn.cursor()\n",
    "\n",
    "# Создаем таблицы для товаров, продавцов и продаж\n",
    "cursor.execute('''\n",
    "CREATE TABLE products (\n",
    "    id INTEGER PRIMARY KEY,\n",
    "    name TEXT,\n",
    "    purchase_price REAL,\n",
    "    sale_price REAL\n",
    ")''')\n",
    "\n",
    "cursor.execute('''\n",
    "CREATE TABLE sellers (\n",
    "    id INTEGER PRIMARY KEY,\n",
    "    name TEXT,\n",
    "    commission_percentage REAL\n",
    ")''')\n",
    "\n",
    "cursor.execute('''\n",
    "CREATE TABLE sales (\n",
    "    id INTEGER PRIMARY KEY,\n",
    "    product_id INTEGER,\n",
    "    seller_id INTEGER,\n",
    "    quantity INTEGER,\n",
    "    sale_date TEXT,\n",
    "    FOREIGN KEY(product_id) REFERENCES products(id),\n",
    "    FOREIGN KEY(seller_id) REFERENCES sellers(id)\n",
    ")''')\n",
    "\n",
    "# Вставка данных о продуктах и продавцах\n",
    "cursor.execute('INSERT INTO products (name, purchase_price, sale_price) VALUES (?, ?, ?)', \n",
    "               ('Product A', 50.0, 70.0))\n",
    "cursor.execute('INSERT INTO sellers (name, commission_percentage) VALUES (?, ?)', \n",
    "               ('Seller 1', 0.05))\n",
    "\n",
    "# Получаем ID только что вставленных записей\n",
    "product_id = cursor.lastrowid\n",
    "seller_id = cursor.lastrowid\n",
    "\n",
    "# Вставка данных о продаже\n",
    "cursor.execute('INSERT INTO sales (product_id, seller_id, quantity, sale_date) VALUES (?, ?, ?, ?)',\n",
    "               (product_id, seller_id, 10, datetime.now().strftime('%Y-%m-%d %H:%M:%S')))\n",
    "\n",
    "# Сохранение изменений\n",
    "conn.commit()\n",
    "\n",
    "# Расчет комиссионного вознаграждения\n",
    "cursor.execute('''\n",
    "SELECT s.sale_price, sa.quantity, sl.commission_percentage\n",
    "FROM sales sa\n",
    "JOIN products s ON sa.product_id = s.id\n",
    "JOIN sellers sl ON sa.seller_id = sl.id\n",
    "''')\n",
    "\n",
    "sale_price, quantity_sold, commission_percentage = cursor.fetchone()\n",
    "commission_earned = sale_price * quantity_sold * commission_percentage\n",
    "\n",
    "# Расчет прибыли от продажи товара\n",
    "profit = (sale_price - cursor.execute('SELECT purchase_price FROM products WHERE id = ?', (product_id,)).fetchone()[0]) * quantity_sold\n",
    "\n",
    "# Вывод результатов расчетов\n",
    "print(f\"Commission Earned by Seller: {commission_earned}\")\n",
    "print(f\"Profit from Sales: {profit}\")\n",
    "\n",
    "# Закрытие соединения с базой данных\n",
    "conn.close()\n"
   ]
  },
  {
   "cell_type": "markdown",
   "id": "b9b64505",
   "metadata": {},
   "source": [
    "## Задача 4 - Сделки с недвижимостью"
   ]
  },
  {
   "cell_type": "markdown",
   "id": "59c15f22",
   "metadata": {},
   "source": [
    "Расчет комиссионного вознаграждения риэлтора при продаже квартиры."
   ]
  },
  {
   "cell_type": "code",
   "execution_count": null,
   "id": "7d0bac7f",
   "metadata": {},
   "outputs": [],
   "source": [
    "import sqlite3"
   ]
  },
  {
   "cell_type": "code",
   "execution_count": null,
   "id": "2dc12944",
   "metadata": {},
   "outputs": [],
   "source": [
    "from datetime import datetime"
   ]
  },
  {
   "cell_type": "code",
   "execution_count": 6,
   "id": "26fe2825",
   "metadata": {},
   "outputs": [
    {
     "name": "stdout",
     "output_type": "stream",
     "text": [
      "Commission Earned by Realtor: 9000.0\n"
     ]
    }
   ],
   "source": [
    "# Создаем новое подключение к базе данных SQLite в памяти\n",
    "conn = sqlite3.connect(':memory:')\n",
    "cursor = conn.cursor()\n",
    "\n",
    "# Создаем таблицы для квартир, риэлторов и сделок\n",
    "cursor.execute('''\n",
    "CREATE TABLE apartments (\n",
    "    id INTEGER PRIMARY KEY,\n",
    "    address TEXT,\n",
    "    price REAL\n",
    ")''')\n",
    "\n",
    "cursor.execute('''\n",
    "CREATE TABLE realtors (\n",
    "    id INTEGER PRIMARY KEY,\n",
    "    name TEXT,\n",
    "    commission_rate REAL\n",
    ")''')\n",
    "\n",
    "cursor.execute('''\n",
    "CREATE TABLE transactions (\n",
    "    id INTEGER PRIMARY KEY,\n",
    "    apartment_id INTEGER,\n",
    "    realtor_id INTEGER,\n",
    "    transaction_date TEXT,\n",
    "    FOREIGN KEY(apartment_id) REFERENCES apartments(id),\n",
    "    FOREIGN KEY(realtor_id) REFERENCES realtors(id)\n",
    ")''')\n",
    "\n",
    "# Вставка данных о квартирах и риэлторах\n",
    "cursor.execute('INSERT INTO apartments (address, price) VALUES (?, ?)', \n",
    "               ('123 Main St', 300000.0))\n",
    "cursor.execute('INSERT INTO realtors (name, commission_rate) VALUES (?, ?)', \n",
    "               ('Realtor John', 0.03))\n",
    "\n",
    "# Получаем ID только что вставленных записей\n",
    "apartment_id = cursor.lastrowid\n",
    "realtor_id = cursor.lastrowid\n",
    "\n",
    "# Вставка данных о сделке\n",
    "cursor.execute('INSERT INTO transactions (apartment_id, realtor_id, transaction_date) VALUES (?, ?, ?)',\n",
    "               (apartment_id, realtor_id, datetime.now().strftime('%Y-%m-%d %H:%M:%S')))\n",
    "\n",
    "# Сохранение изменений\n",
    "conn.commit()\n",
    "\n",
    "# Расчет комиссионного вознаграждения риэлтора\n",
    "cursor.execute('''\n",
    "SELECT ap.price, rl.commission_rate\n",
    "FROM transactions tr\n",
    "JOIN apartments ap ON tr.apartment_id = ap.id\n",
    "JOIN realtors rl ON tr.realtor_id = rl.id\n",
    "''')\n",
    "\n",
    "price, commission_rate = cursor.fetchone()\n",
    "commission_earned = price * commission_rate\n",
    "\n",
    "# Вывод результатов расчета комиссии\n",
    "print(f\"Commission Earned by Realtor: {commission_earned}\")\n",
    "\n",
    "# Закрытие соединения с базой данных\n",
    "conn.close()\n"
   ]
  },
  {
   "cell_type": "markdown",
   "id": "e053cdcd",
   "metadata": {},
   "source": [
    "## Задача 5 - Досуговый центр"
   ]
  },
  {
   "cell_type": "markdown",
   "id": "b5b5c131",
   "metadata": {},
   "source": [
    "Создание базы данных для управления деятельностью досугового центра."
   ]
  },
  {
   "cell_type": "code",
   "execution_count": null,
   "id": "404485c5",
   "metadata": {},
   "outputs": [],
   "source": [
    "import sqlite3"
   ]
  },
  {
   "cell_type": "code",
   "execution_count": null,
   "id": "2f0e8480",
   "metadata": {},
   "outputs": [],
   "source": [
    "from datetime import datetime"
   ]
  },
  {
   "cell_type": "code",
   "execution_count": 7,
   "id": "de45bb47",
   "metadata": {},
   "outputs": [
    {
     "name": "stdout",
     "output_type": "stream",
     "text": [
      "Services:\n",
      "(1, 'Birthday Party', 'Celebration in center with games and fun activities', 'in-center', 200.0)\n",
      "(2, 'Home Animator', 'Animator visits your home to entertain the kids', 'at-home', 150.0)\n",
      "(3, 'Development Class', 'Games that develop motor skills', 'in-center', 100.0)\n",
      "\n",
      "Specialists:\n",
      "(1, 'Alice Johnson', 'Child Psychologist')\n",
      "(2, 'Bob Smith', 'Animator')\n",
      "(3, 'Charlie Davis', 'Early Development Specialist')\n",
      "\n",
      "Clients:\n",
      "(1, 'Jane Doe', 'Little Timmy', '555-1234', 'jane.doe@example.com')\n",
      "(2, 'John Doe', 'Tiny Tina', '555-5678', 'john.doe@example.com')\n"
     ]
    }
   ],
   "source": [
    "# Создаем новое подключение к базе данных SQLite в памяти\n",
    "conn = sqlite3.connect(':memory:')\n",
    "cursor = conn.cursor()\n",
    "\n",
    "# Создаем таблицы\n",
    "cursor.execute('''\n",
    "CREATE TABLE services (\n",
    "    id INTEGER PRIMARY KEY,\n",
    "    name TEXT,\n",
    "    description TEXT,\n",
    "    location TEXT, -- 'in-center' или 'at-home'\n",
    "    price REAL\n",
    ")''')\n",
    "\n",
    "cursor.execute('''\n",
    "CREATE TABLE specialists (\n",
    "    id INTEGER PRIMARY KEY,\n",
    "    name TEXT,\n",
    "    specialty TEXT\n",
    ")''')\n",
    "\n",
    "cursor.execute('''\n",
    "CREATE TABLE orders (\n",
    "    id INTEGER PRIMARY KEY,\n",
    "    service_id INTEGER,\n",
    "    client_id INTEGER,\n",
    "    specialist_id INTEGER,\n",
    "    date TEXT,\n",
    "    FOREIGN KEY(service_id) REFERENCES services(id),\n",
    "    FOREIGN KEY(client_id) REFERENCES clients(id),\n",
    "    FOREIGN KEY(specialist_id) REFERENCES specialists(id)\n",
    ")''')\n",
    "\n",
    "cursor.execute('''\n",
    "CREATE TABLE clients (\n",
    "    id INTEGER PRIMARY KEY,\n",
    "    name TEXT,\n",
    "    child_name TEXT,\n",
    "    phone TEXT,\n",
    "    email TEXT\n",
    ")''')\n",
    "\n",
    "# Вставка примерных данных о услугах\n",
    "services_data = [\n",
    "    ('Birthday Party', 'Celebration in center with games and fun activities', 'in-center', 200),\n",
    "    ('Home Animator', 'Animator visits your home to entertain the kids', 'at-home', 150),\n",
    "    ('Development Class', 'Games that develop motor skills', 'in-center', 100)\n",
    "]\n",
    "\n",
    "cursor.executemany('INSERT INTO services (name, description, location, price) VALUES (?, ?, ?, ?)', services_data)\n",
    "\n",
    "# Вставка данных о специалистах\n",
    "specialists_data = [\n",
    "    ('Alice Johnson', 'Child Psychologist'),\n",
    "    ('Bob Smith', 'Animator'),\n",
    "    ('Charlie Davis', 'Early Development Specialist')\n",
    "]\n",
    "\n",
    "cursor.executemany('INSERT INTO specialists (name, specialty) VALUES (?, ?)', specialists_data)\n",
    "\n",
    "# Вставка данных о клиентах\n",
    "clients_data = [\n",
    "    ('Jane Doe', 'Little Timmy', '555-1234', 'jane.doe@example.com'),\n",
    "    ('John Doe', 'Tiny Tina', '555-5678', 'john.doe@example.com')\n",
    "]\n",
    "\n",
    "cursor.executemany('INSERT INTO clients (name, child_name, phone, email) VALUES (?, ?, ?, ?)', clients_data)\n",
    "\n",
    "# Сохранение изменений\n",
    "conn.commit()\n",
    "\n",
    "# Выводим добавленные данные о услугах для проверки\n",
    "cursor.execute('SELECT * FROM services')\n",
    "print(\"Services:\")\n",
    "for row in cursor.fetchall():\n",
    "    print(row)\n",
    "\n",
    "# Выводим добавленные данные о специалистах для проверки\n",
    "cursor.execute('SELECT * FROM specialists')\n",
    "print(\"\\nSpecialists:\")\n",
    "for row in cursor.fetchall():\n",
    "    print(row)\n",
    "\n",
    "# Выводим добавленные данные о клиентах для проверки\n",
    "cursor.execute('SELECT * FROM clients')\n",
    "print(\"\\nClients:\")\n",
    "for row in cursor.fetchall():\n",
    "    print(row)\n",
    "\n",
    "# Закрытие соединения с базой данных\n",
    "conn.close()\n"
   ]
  },
  {
   "cell_type": "code",
   "execution_count": null,
   "id": "fda9e21a",
   "metadata": {},
   "outputs": [],
   "source": []
  }
 ],
 "metadata": {
  "kernelspec": {
   "display_name": "Python 3",
   "language": "python",
   "name": "python3"
  },
  "language_info": {
   "codemirror_mode": {
    "name": "ipython",
    "version": 3
   },
   "file_extension": ".py",
   "mimetype": "text/x-python",
   "name": "python",
   "nbconvert_exporter": "python",
   "pygments_lexer": "ipython3",
   "version": "3.11.4"
  }
 },
 "nbformat": 4,
 "nbformat_minor": 5
}
