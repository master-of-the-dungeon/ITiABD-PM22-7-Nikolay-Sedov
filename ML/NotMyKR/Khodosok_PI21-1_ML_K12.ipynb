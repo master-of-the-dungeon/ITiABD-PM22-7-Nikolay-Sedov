{
 "cells": [
  {
   "cell_type": "code",
   "execution_count": 18,
   "id": "81856da8",
   "metadata": {},
   "outputs": [
    {
     "name": "stdout",
     "output_type": "stream",
     "text": [
      "(500, 7)\n",
      "(500,)\n"
     ]
    }
   ],
   "source": [
    "from sklearn.datasets import fetch_openml\n",
    "\n",
    "\n",
    "#Загружаем датасет и определяем его размеры\n",
    "data = fetch_openml(name='led-display-domain-7digit', version=1)\n",
    "\n",
    "print(data.data.shape)\n",
    "print(data.target.shape)"
   ]
  },
  {
   "cell_type": "code",
   "execution_count": 19,
   "id": "9dc0f219",
   "metadata": {},
   "outputs": [
    {
     "data": {
      "text/html": [
       "<div>\n",
       "<style scoped>\n",
       "    .dataframe tbody tr th:only-of-type {\n",
       "        vertical-align: middle;\n",
       "    }\n",
       "\n",
       "    .dataframe tbody tr th {\n",
       "        vertical-align: top;\n",
       "    }\n",
       "\n",
       "    .dataframe thead th {\n",
       "        text-align: right;\n",
       "    }\n",
       "</style>\n",
       "<table border=\"1\" class=\"dataframe\">\n",
       "  <thead>\n",
       "    <tr style=\"text-align: right;\">\n",
       "      <th></th>\n",
       "      <th>V1</th>\n",
       "      <th>V2</th>\n",
       "      <th>V3</th>\n",
       "      <th>V4</th>\n",
       "      <th>V5</th>\n",
       "      <th>V6</th>\n",
       "      <th>V7</th>\n",
       "    </tr>\n",
       "  </thead>\n",
       "  <tbody>\n",
       "    <tr>\n",
       "      <th>0</th>\n",
       "      <td>0.0</td>\n",
       "      <td>1.0</td>\n",
       "      <td>1.0</td>\n",
       "      <td>0.0</td>\n",
       "      <td>1.0</td>\n",
       "      <td>1.0</td>\n",
       "      <td>1.0</td>\n",
       "    </tr>\n",
       "    <tr>\n",
       "      <th>1</th>\n",
       "      <td>1.0</td>\n",
       "      <td>1.0</td>\n",
       "      <td>1.0</td>\n",
       "      <td>0.0</td>\n",
       "      <td>0.0</td>\n",
       "      <td>1.0</td>\n",
       "      <td>1.0</td>\n",
       "    </tr>\n",
       "    <tr>\n",
       "      <th>2</th>\n",
       "      <td>1.0</td>\n",
       "      <td>1.0</td>\n",
       "      <td>1.0</td>\n",
       "      <td>0.0</td>\n",
       "      <td>1.0</td>\n",
       "      <td>1.0</td>\n",
       "      <td>1.0</td>\n",
       "    </tr>\n",
       "    <tr>\n",
       "      <th>3</th>\n",
       "      <td>1.0</td>\n",
       "      <td>1.0</td>\n",
       "      <td>1.0</td>\n",
       "      <td>0.0</td>\n",
       "      <td>1.0</td>\n",
       "      <td>1.0</td>\n",
       "      <td>1.0</td>\n",
       "    </tr>\n",
       "    <tr>\n",
       "      <th>4</th>\n",
       "      <td>0.0</td>\n",
       "      <td>0.0</td>\n",
       "      <td>1.0</td>\n",
       "      <td>0.0</td>\n",
       "      <td>0.0</td>\n",
       "      <td>1.0</td>\n",
       "      <td>0.0</td>\n",
       "    </tr>\n",
       "  </tbody>\n",
       "</table>\n",
       "</div>"
      ],
      "text/plain": [
       "    V1   V2   V3   V4   V5   V6   V7\n",
       "0  0.0  1.0  1.0  0.0  1.0  1.0  1.0\n",
       "1  1.0  1.0  1.0  0.0  0.0  1.0  1.0\n",
       "2  1.0  1.0  1.0  0.0  1.0  1.0  1.0\n",
       "3  1.0  1.0  1.0  0.0  1.0  1.0  1.0\n",
       "4  0.0  0.0  1.0  0.0  0.0  1.0  0.0"
      ]
     },
     "execution_count": 19,
     "metadata": {},
     "output_type": "execute_result"
    }
   ],
   "source": [
    "data.data.head()"
   ]
  },
  {
   "cell_type": "code",
   "execution_count": 20,
   "id": "76fa604d",
   "metadata": {},
   "outputs": [
    {
     "data": {
      "text/html": [
       "<div>\n",
       "<style scoped>\n",
       "    .dataframe tbody tr th:only-of-type {\n",
       "        vertical-align: middle;\n",
       "    }\n",
       "\n",
       "    .dataframe tbody tr th {\n",
       "        vertical-align: top;\n",
       "    }\n",
       "\n",
       "    .dataframe thead th {\n",
       "        text-align: right;\n",
       "    }\n",
       "</style>\n",
       "<table border=\"1\" class=\"dataframe\">\n",
       "  <thead>\n",
       "    <tr style=\"text-align: right;\">\n",
       "      <th></th>\n",
       "      <th>V1</th>\n",
       "      <th>V2</th>\n",
       "      <th>V3</th>\n",
       "      <th>V4</th>\n",
       "      <th>V5</th>\n",
       "      <th>V6</th>\n",
       "      <th>V7</th>\n",
       "    </tr>\n",
       "  </thead>\n",
       "  <tbody>\n",
       "    <tr>\n",
       "      <th>count</th>\n",
       "      <td>500.000000</td>\n",
       "      <td>500.000000</td>\n",
       "      <td>500.000000</td>\n",
       "      <td>500.000000</td>\n",
       "      <td>500.000000</td>\n",
       "      <td>500.000000</td>\n",
       "      <td>500.000000</td>\n",
       "    </tr>\n",
       "    <tr>\n",
       "      <th>mean</th>\n",
       "      <td>0.726000</td>\n",
       "      <td>0.590000</td>\n",
       "      <td>0.734000</td>\n",
       "      <td>0.662000</td>\n",
       "      <td>0.396000</td>\n",
       "      <td>0.818000</td>\n",
       "      <td>0.670000</td>\n",
       "    </tr>\n",
       "    <tr>\n",
       "      <th>std</th>\n",
       "      <td>0.446456</td>\n",
       "      <td>0.492326</td>\n",
       "      <td>0.442307</td>\n",
       "      <td>0.473502</td>\n",
       "      <td>0.489554</td>\n",
       "      <td>0.386231</td>\n",
       "      <td>0.470684</td>\n",
       "    </tr>\n",
       "    <tr>\n",
       "      <th>min</th>\n",
       "      <td>0.000000</td>\n",
       "      <td>0.000000</td>\n",
       "      <td>0.000000</td>\n",
       "      <td>0.000000</td>\n",
       "      <td>0.000000</td>\n",
       "      <td>0.000000</td>\n",
       "      <td>0.000000</td>\n",
       "    </tr>\n",
       "    <tr>\n",
       "      <th>25%</th>\n",
       "      <td>0.000000</td>\n",
       "      <td>0.000000</td>\n",
       "      <td>0.000000</td>\n",
       "      <td>0.000000</td>\n",
       "      <td>0.000000</td>\n",
       "      <td>1.000000</td>\n",
       "      <td>0.000000</td>\n",
       "    </tr>\n",
       "    <tr>\n",
       "      <th>50%</th>\n",
       "      <td>1.000000</td>\n",
       "      <td>1.000000</td>\n",
       "      <td>1.000000</td>\n",
       "      <td>1.000000</td>\n",
       "      <td>0.000000</td>\n",
       "      <td>1.000000</td>\n",
       "      <td>1.000000</td>\n",
       "    </tr>\n",
       "    <tr>\n",
       "      <th>75%</th>\n",
       "      <td>1.000000</td>\n",
       "      <td>1.000000</td>\n",
       "      <td>1.000000</td>\n",
       "      <td>1.000000</td>\n",
       "      <td>1.000000</td>\n",
       "      <td>1.000000</td>\n",
       "      <td>1.000000</td>\n",
       "    </tr>\n",
       "    <tr>\n",
       "      <th>max</th>\n",
       "      <td>1.000000</td>\n",
       "      <td>1.000000</td>\n",
       "      <td>1.000000</td>\n",
       "      <td>1.000000</td>\n",
       "      <td>1.000000</td>\n",
       "      <td>1.000000</td>\n",
       "      <td>1.000000</td>\n",
       "    </tr>\n",
       "  </tbody>\n",
       "</table>\n",
       "</div>"
      ],
      "text/plain": [
       "               V1          V2          V3          V4          V5          V6  \\\n",
       "count  500.000000  500.000000  500.000000  500.000000  500.000000  500.000000   \n",
       "mean     0.726000    0.590000    0.734000    0.662000    0.396000    0.818000   \n",
       "std      0.446456    0.492326    0.442307    0.473502    0.489554    0.386231   \n",
       "min      0.000000    0.000000    0.000000    0.000000    0.000000    0.000000   \n",
       "25%      0.000000    0.000000    0.000000    0.000000    0.000000    1.000000   \n",
       "50%      1.000000    1.000000    1.000000    1.000000    0.000000    1.000000   \n",
       "75%      1.000000    1.000000    1.000000    1.000000    1.000000    1.000000   \n",
       "max      1.000000    1.000000    1.000000    1.000000    1.000000    1.000000   \n",
       "\n",
       "               V7  \n",
       "count  500.000000  \n",
       "mean     0.670000  \n",
       "std      0.470684  \n",
       "min      0.000000  \n",
       "25%      0.000000  \n",
       "50%      1.000000  \n",
       "75%      1.000000  \n",
       "max      1.000000  "
      ]
     },
     "execution_count": 20,
     "metadata": {},
     "output_type": "execute_result"
    }
   ],
   "source": [
    "data.data.describe()\n",
    "#Описание данных"
   ]
  },
  {
   "cell_type": "markdown",
   "id": "909fd895",
   "metadata": {},
   "source": [
    "Датасет LED-display-domain-7digit содержит 7 булевых атрибутов и 10 классов, которые представляют собой десятичные цифры. Каждый класс соответствует одной из цифр от 0 до 9, которые могут быть отображены на светодиодном дисплее. Все значения атрибутов являются либо 0, либо 1. Датасет содержит 5000 экземпляров.\n",
    "Задача, которую можно решить с помощью моделирования на этом датасете, заключается в классификации цифр на светодиодном дисплее. Точность классификации может быть измерена с помощью метрики accuracy, которая показывает, какая доля экземпляров была классифицирована правильно. В датасете LED-display-domain-7digit точность классификации составляет 74%, что означает, что около 26% экземпляров были классифицированы неправильно."
   ]
  },
  {
   "cell_type": "code",
   "execution_count": 21,
   "id": "48016ba0",
   "metadata": {},
   "outputs": [
    {
     "data": {
      "image/png": "[encoded data removed]",
      "text/plain": [
       "<Figure size 2000x500 with 7 Axes>"
      ]
     },
     "metadata": {},
     "output_type": "display_data"
    }
   ],
   "source": [
    "import pandas as pd\n",
    "import matplotlib.pyplot as plt\n",
    "from sklearn.datasets import fetch_openml\n",
    "\n",
    "fig, axs = plt.subplots(nrows=1, ncols=len(data.feature_names), figsize=(20,5))\n",
    "for i, feature in enumerate(data.feature_names):\n",
    "    axs[i].hist(data.data[feature], bins=2)\n",
    "    axs[i].set_title(feature)\n",
    "plt.show()"
   ]
  },
  {
   "cell_type": "markdown",
   "id": "113110bc",
   "metadata": {},
   "source": [
    "Для обучения можно использовать логистическую регрессию. "
   ]
  },
  {
   "cell_type": "code",
   "execution_count": 22,
   "id": "6af3f04d",
   "metadata": {},
   "outputs": [
    {
     "name": "stdout",
     "output_type": "stream",
     "text": [
      "MAE: 0.984\n",
      "Accuracy: 0.772\n"
     ]
    }
   ],
   "source": [
    "from sklearn.datasets import fetch_openml\n",
    "from sklearn.linear_model import LogisticRegression\n",
    "from sklearn.metrics import mean_absolute_error\n",
    "\n",
    "model = LogisticRegression()\n",
    "model.fit(data.data, data.target)\n",
    "\n",
    "y_pred = model.predict(data.data)\n",
    "\n",
    "# вычисляем среднюю абсолютную ошибку\n",
    "mae = mean_absolute_error(data.target, y_pred)\n",
    "print('MAE:', mae)\n",
    "\n",
    "\n",
    "accuracy = model.score(data.data, data.target) # оценка точности модели\n",
    "print('Accuracy:', accuracy)"
   ]
  },
  {
   "cell_type": "code",
   "execution_count": null,
   "id": "6e3fa3d5",
   "metadata": {},
   "outputs": [],
   "source": []
  },
  {
   "cell_type": "markdown",
   "id": "597f2c06",
   "metadata": {},
   "source": [
    "Точность равна 77%, среднеабсолютная ошибка не велика, на практике можно применять, но с проверками"
   ]
  },
  {
   "cell_type": "code",
   "execution_count": 23,
   "id": "72101d13",
   "metadata": {},
   "outputs": [
    {
     "data": {
      "image/png": "[encoded data removed]",
      "text/plain": [
       "<Figure size 2000x1000 with 1 Axes>"
      ]
     },
     "metadata": {},
     "output_type": "display_data"
    }
   ],
   "source": [
    "import pandas as pd\n",
    "import matplotlib.pyplot as plt\n",
    "import seaborn as sns\n",
    "from sklearn.datasets import fetch_openml\n",
    "from sklearn.linear_model import LogisticRegression\n",
    "from sklearn.metrics import confusion_matrix\n",
    "\n",
    "y_pred = model.predict(data.data)\n",
    "\n",
    "df = pd.DataFrame({'Реальное': data.target, 'Предсказанное': y_pred})\n",
    "df = df.astype(int)\n",
    "df.plot(kind='bar', figsize=(20, 10))\n",
    "plt.show()"
   ]
  },
  {
   "cell_type": "markdown",
   "id": "77a53c0a",
   "metadata": {},
   "source": [
    "Для сравнения использованы модели логистической регрессии, решающего дерева, случайного леса и градиентного бустинга."
   ]
  },
  {
   "cell_type": "code",
   "execution_count": 27,
   "id": "dcddab2a",
   "metadata": {},
   "outputs": [
    {
     "name": "stdout",
     "output_type": "stream",
     "text": [
      "LogisticRegression accuracy: 0.73 MAE: 0.996\n",
      "DecisionTreeClassifier accuracy: 0.68 MAE: 0.996\n",
      "RandomForestClassifier accuracy: 0.7 MAE: 0.988\n",
      "GradientBoostingClassifier accuracy: 0.73 MAE: 0.962\n"
     ]
    }
   ],
   "source": [
    "from sklearn.datasets import fetch_openml\n",
    "from sklearn.model_selection import train_test_split\n",
    "from sklearn.linear_model import LogisticRegression\n",
    "from sklearn.tree import DecisionTreeClassifier\n",
    "from sklearn.ensemble import RandomForestClassifier, GradientBoostingClassifier\n",
    "from sklearn.metrics import accuracy_score, precision_score, recall_score, f1_score\n",
    "\n",
    "\n",
    "\n",
    "X_train, X_test, y_train, y_test = train_test_split(data.data, data.target, test_size=0.2, random_state=42) # разделение на обучающую и тестовую выборки\n",
    "\n",
    "models = [\n",
    "    LogisticRegression(),\n",
    "    DecisionTreeClassifier(),\n",
    "    RandomForestClassifier(),\n",
    "    GradientBoostingClassifier()\n",
    "]\n",
    "\n",
    "for model in models:\n",
    "    model.fit(X_train, y_train)\n",
    "\n",
    "\n",
    "# оценка эффективности моделей на тестовой выборке\n",
    "for model in models:\n",
    "    y_pred = model.predict(X_test)\n",
    "    acc = accuracy_score(y_test, y_pred)\n",
    "    y_pred = model.predict(data.data)\n",
    "    mae = mean_absolute_error(data.target, y_pred)\n",
    "    print(type(model).__name__, 'accuracy:', acc, 'MAE:', mae)"
   ]
  },
  {
   "cell_type": "markdown",
   "id": "8794a0bd",
   "metadata": {},
   "source": [
    "Сравнение показало, что наиболее выгодным в данном случае использовать метод градиентного бустинга"
   ]
  },
  {
   "cell_type": "code",
   "execution_count": null,
   "id": "e67d34d8",
   "metadata": {},
   "outputs": [],
   "source": []
  }
 ],
 "metadata": {
  "kernelspec": {
   "display_name": "Python 3 (ipykernel)",
   "language": "python",
   "name": "python3"
  },
  "language_info": {
   "codemirror_mode": {
    "name": "ipython",
    "version": 3
   },
   "file_extension": ".py",
   "mimetype": "text/x-python",
   "name": "python",
   "nbconvert_exporter": "python",
   "pygments_lexer": "ipython3",
   "version": "3.9.13"
  }
 },
 "nbformat": 4,
 "nbformat_minor": 5
}
