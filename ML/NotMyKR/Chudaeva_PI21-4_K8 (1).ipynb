{
 "cells": [
  {
   "cell_type": "markdown",
   "id": "179e8f81",
   "metadata": {},
   "source": [
    "### Вариант: классификация 8. ricci_vs_destefano"
   ]
  },
  {
   "cell_type": "code",
   "execution_count": 61,
   "id": "8d6e2adc",
   "metadata": {},
   "outputs": [],
   "source": [
    "import pandas as pd\n",
    "from sklearn.model_selection import train_test_split\n",
    "from sklearn.linear_model import LogisticRegression\n",
    "from sklearn import metrics\n",
    "import  numpy as np\n",
    "import matplotlib.pyplot as plt\n",
    "import seaborn as sns"
   ]
  },
  {
   "cell_type": "markdown",
   "id": "cfacf745",
   "metadata": {},
   "source": [
    "#### 1. Познакомьтесь с возможностями библиотеки sklearn по загрузке датасетов из репозитория openml.org"
   ]
  },
  {
   "cell_type": "markdown",
   "id": "693509e4",
   "metadata": {},
   "source": [
    "#### 2. Загрузите нужный вам датасет, выведите его основные характеристики: количество строк и столбцов, типы данных, количество значений в каждом столбце, основную статистическую информацию об атрибутах."
   ]
  },
  {
   "cell_type": "code",
   "execution_count": 62,
   "id": "073b6fa9",
   "metadata": {},
   "outputs": [],
   "source": [
    "from sklearn.datasets import fetch_openml\n",
    "data = fetch_openml(name='ricci_vs_destefano')"
   ]
  },
  {
   "cell_type": "code",
   "execution_count": 63,
   "id": "e3e2377f",
   "metadata": {},
   "outputs": [
    {
     "data": {
      "text/html": [
       "<div>\n",
       "<style scoped>\n",
       "    .dataframe tbody tr th:only-of-type {\n",
       "        vertical-align: middle;\n",
       "    }\n",
       "\n",
       "    .dataframe tbody tr th {\n",
       "        vertical-align: top;\n",
       "    }\n",
       "\n",
       "    .dataframe thead th {\n",
       "        text-align: right;\n",
       "    }\n",
       "</style>\n",
       "<table border=\"1\" class=\"dataframe\">\n",
       "  <thead>\n",
       "    <tr style=\"text-align: right;\">\n",
       "      <th></th>\n",
       "      <th>Position</th>\n",
       "      <th>Oral</th>\n",
       "      <th>Written</th>\n",
       "      <th>Race</th>\n",
       "      <th>Combine</th>\n",
       "    </tr>\n",
       "  </thead>\n",
       "  <tbody>\n",
       "    <tr>\n",
       "      <th>0</th>\n",
       "      <td>Captain</td>\n",
       "      <td>89.52</td>\n",
       "      <td>95.0</td>\n",
       "      <td>W</td>\n",
       "      <td>92.808</td>\n",
       "    </tr>\n",
       "    <tr>\n",
       "      <th>1</th>\n",
       "      <td>Captain</td>\n",
       "      <td>80.00</td>\n",
       "      <td>95.0</td>\n",
       "      <td>W</td>\n",
       "      <td>89.000</td>\n",
       "    </tr>\n",
       "    <tr>\n",
       "      <th>2</th>\n",
       "      <td>Captain</td>\n",
       "      <td>82.38</td>\n",
       "      <td>87.0</td>\n",
       "      <td>W</td>\n",
       "      <td>85.152</td>\n",
       "    </tr>\n",
       "    <tr>\n",
       "      <th>3</th>\n",
       "      <td>Captain</td>\n",
       "      <td>88.57</td>\n",
       "      <td>76.0</td>\n",
       "      <td>W</td>\n",
       "      <td>81.028</td>\n",
       "    </tr>\n",
       "    <tr>\n",
       "      <th>4</th>\n",
       "      <td>Captain</td>\n",
       "      <td>76.19</td>\n",
       "      <td>84.0</td>\n",
       "      <td>W</td>\n",
       "      <td>80.876</td>\n",
       "    </tr>\n",
       "  </tbody>\n",
       "</table>\n",
       "</div>"
      ],
      "text/plain": [
       "  Position   Oral  Written Race  Combine\n",
       "0  Captain  89.52     95.0    W   92.808\n",
       "1  Captain  80.00     95.0    W   89.000\n",
       "2  Captain  82.38     87.0    W   85.152\n",
       "3  Captain  88.57     76.0    W   81.028\n",
       "4  Captain  76.19     84.0    W   80.876"
      ]
     },
     "execution_count": 63,
     "metadata": {},
     "output_type": "execute_result"
    }
   ],
   "source": [
    "df = pd.DataFrame(data=data.data, columns=data.feature_names)\n",
    "df.head()"
   ]
  },
  {
   "cell_type": "code",
   "execution_count": 64,
   "id": "fd1a7c8d",
   "metadata": {},
   "outputs": [
    {
     "name": "stdout",
     "output_type": "stream",
     "text": [
      "<class 'pandas.core.frame.DataFrame'>\n",
      "RangeIndex: 118 entries, 0 to 117\n",
      "Data columns (total 5 columns):\n",
      " #   Column    Non-Null Count  Dtype  \n",
      "---  ------    --------------  -----  \n",
      " 0   Position  118 non-null    object \n",
      " 1   Oral      118 non-null    float64\n",
      " 2   Written   118 non-null    float64\n",
      " 3   Race      118 non-null    object \n",
      " 4   Combine   118 non-null    float64\n",
      "dtypes: float64(3), object(2)\n",
      "memory usage: 4.7+ KB\n"
     ]
    }
   ],
   "source": [
    "df.info()"
   ]
  },
  {
   "cell_type": "code",
   "execution_count": 65,
   "id": "d85e9003",
   "metadata": {},
   "outputs": [
    {
     "data": {
      "text/plain": [
       "(118, 5)"
      ]
     },
     "execution_count": 65,
     "metadata": {},
     "output_type": "execute_result"
    }
   ],
   "source": [
    "df.shape"
   ]
  },
  {
   "cell_type": "code",
   "execution_count": 66,
   "id": "baea0961",
   "metadata": {},
   "outputs": [
    {
     "data": {
      "text/html": [
       "<div>\n",
       "<style scoped>\n",
       "    .dataframe tbody tr th:only-of-type {\n",
       "        vertical-align: middle;\n",
       "    }\n",
       "\n",
       "    .dataframe tbody tr th {\n",
       "        vertical-align: top;\n",
       "    }\n",
       "\n",
       "    .dataframe thead th {\n",
       "        text-align: right;\n",
       "    }\n",
       "</style>\n",
       "<table border=\"1\" class=\"dataframe\">\n",
       "  <thead>\n",
       "    <tr style=\"text-align: right;\">\n",
       "      <th></th>\n",
       "      <th>Oral</th>\n",
       "      <th>Written</th>\n",
       "      <th>Combine</th>\n",
       "    </tr>\n",
       "  </thead>\n",
       "  <tbody>\n",
       "    <tr>\n",
       "      <th>min</th>\n",
       "      <td>40.83000</td>\n",
       "      <td>46.000000</td>\n",
       "      <td>45.932000</td>\n",
       "    </tr>\n",
       "    <tr>\n",
       "      <th>max</th>\n",
       "      <td>92.08000</td>\n",
       "      <td>95.000000</td>\n",
       "      <td>92.808000</td>\n",
       "    </tr>\n",
       "    <tr>\n",
       "      <th>mean</th>\n",
       "      <td>65.52339</td>\n",
       "      <td>71.652542</td>\n",
       "      <td>69.200881</td>\n",
       "    </tr>\n",
       "  </tbody>\n",
       "</table>\n",
       "</div>"
      ],
      "text/plain": [
       "          Oral    Written    Combine\n",
       "min   40.83000  46.000000  45.932000\n",
       "max   92.08000  95.000000  92.808000\n",
       "mean  65.52339  71.652542  69.200881"
      ]
     },
     "execution_count": 66,
     "metadata": {},
     "output_type": "execute_result"
    }
   ],
   "source": [
    "df.describe().loc[['min', 'max', 'mean']]"
   ]
  },
  {
   "cell_type": "markdown",
   "id": "c31dc971",
   "metadata": {},
   "source": [
    "#### 3. Прочитайте и изложите в работе общее описание датасета. Опишите, решаемую моделированием проблему."
   ]
  },
  {
   "cell_type": "markdown",
   "id": "c0d2f1a0",
   "metadata": {},
   "source": [
    "Набор данных содержит устные, письменные и комбинированные результаты тестов для пожарного департамента Нью-Хейвена за 2003 год. вступительные экзамены. Также указаны раса и позиция для каждого тестируемого. В данных представлены три расы: белая, латиноамериканцы и черная. Можно объединить чернокожих и латиноамериканцев в качестве меньшинства для использования методов классификации."
   ]
  },
  {
   "cell_type": "markdown",
   "id": "c28e96d1",
   "metadata": {},
   "source": [
    "#### 4. Удалите, если нужно, нечисловые колонки в датасете."
   ]
  },
  {
   "cell_type": "code",
   "execution_count": 67,
   "id": "610f982f",
   "metadata": {},
   "outputs": [],
   "source": [
    "df = df.drop(['Position'], axis=1) "
   ]
  },
  {
   "cell_type": "code",
   "execution_count": 68,
   "id": "24b401d5",
   "metadata": {},
   "outputs": [],
   "source": [
    "df.loc[df[\"Race\"] == \"W\", \"Race\"] = 1\n",
    "df.loc[df[\"Race\"] == \"H\", \"Race\"] = 0\n",
    "df.loc[df[\"Race\"] == \"B\", \"Race\"] = 0\n",
    "df = df.astype({'Race': 'int32'})"
   ]
  },
  {
   "cell_type": "markdown",
   "id": "62b07d64",
   "metadata": {},
   "source": [
    "Удаляем столбец с позицией, столбец с расой меняем на 0 и 1"
   ]
  },
  {
   "cell_type": "markdown",
   "id": "a4737e34",
   "metadata": {},
   "source": [
    "#### 5. При необходимости заполните нулем пропущенные значения."
   ]
  },
  {
   "cell_type": "code",
   "execution_count": 71,
   "id": "a30e034e",
   "metadata": {},
   "outputs": [
    {
     "data": {
      "text/plain": [
       "Oral       0\n",
       "Written    0\n",
       "Race       0\n",
       "Combine    0\n",
       "dtype: int64"
      ]
     },
     "execution_count": 71,
     "metadata": {},
     "output_type": "execute_result"
    }
   ],
   "source": [
    "df.isna().sum(axis=0)"
   ]
  },
  {
   "cell_type": "markdown",
   "id": "4fdf3377",
   "metadata": {},
   "source": [
    "Нулевых занчений нет"
   ]
  },
  {
   "cell_type": "markdown",
   "id": "f6bada50",
   "metadata": {},
   "source": [
    "#### 6. Постройте гистограммы распределения по каждому признаку."
   ]
  },
  {
   "cell_type": "code",
   "execution_count": 72,
   "id": "c4bbe980",
   "metadata": {},
   "outputs": [
    {
     "data": {
      "image/png": "[encoded data removed]",
      "text/plain": [
       "<Figure size 432x288 with 1 Axes>"
      ]
     },
     "metadata": {
      "needs_background": "light"
     },
     "output_type": "display_data"
    }
   ],
   "source": [
    "plt.hist(df['Oral']);"
   ]
  },
  {
   "cell_type": "code",
   "execution_count": 73,
   "id": "d19b67c6",
   "metadata": {},
   "outputs": [
    {
     "data": {
      "image/png": "[encoded data removed]",
      "text/plain": [
       "<Figure size 432x288 with 1 Axes>"
      ]
     },
     "metadata": {
      "needs_background": "light"
     },
     "output_type": "display_data"
    }
   ],
   "source": [
    "plt.hist(df['Written']);"
   ]
  },
  {
   "cell_type": "code",
   "execution_count": 74,
   "id": "4f52c7e3",
   "metadata": {},
   "outputs": [
    {
     "data": {
      "image/png": "[encoded data removed]",
      "text/plain": [
       "<Figure size 432x288 with 1 Axes>"
      ]
     },
     "metadata": {
      "needs_background": "light"
     },
     "output_type": "display_data"
    }
   ],
   "source": [
    "plt.hist(df['Combine']);"
   ]
  },
  {
   "cell_type": "markdown",
   "id": "eda72bd9",
   "metadata": {},
   "source": [
    "#### 7. Постройте модель машинного обучения, обучите ее на всем датасете."
   ]
  },
  {
   "cell_type": "code",
   "execution_count": 75,
   "id": "c124e217",
   "metadata": {},
   "outputs": [],
   "source": [
    "y = df.Race\n",
    "X = df.drop([\"Race\"], axis=1)"
   ]
  },
  {
   "cell_type": "code",
   "execution_count": 76,
   "id": "29b88508",
   "metadata": {},
   "outputs": [
    {
     "data": {
      "text/plain": [
       "((118,), (118, 3))"
      ]
     },
     "execution_count": 76,
     "metadata": {},
     "output_type": "execute_result"
    }
   ],
   "source": [
    "y.shape, X.shape"
   ]
  },
  {
   "cell_type": "code",
   "execution_count": 77,
   "id": "96001238",
   "metadata": {},
   "outputs": [],
   "source": [
    "from sklearn.linear_model import LogisticRegression\n",
    "logistic = LogisticRegression()"
   ]
  },
  {
   "cell_type": "code",
   "execution_count": 78,
   "id": "67a95754",
   "metadata": {},
   "outputs": [
    {
     "data": {
      "text/plain": [
       "LogisticRegression()"
      ]
     },
     "execution_count": 78,
     "metadata": {},
     "output_type": "execute_result"
    }
   ],
   "source": [
    "logistic.fit(X, y)"
   ]
  },
  {
   "cell_type": "code",
   "execution_count": 79,
   "id": "74065660",
   "metadata": {},
   "outputs": [
    {
     "name": "stdout",
     "output_type": "stream",
     "text": [
      "Coefficients: \n",
      " [0.02648481 0.04841249 0.03964142]\n"
     ]
    }
   ],
   "source": [
    "print(\"Coefficients: \\n\", logistic.coef_[0])"
   ]
  },
  {
   "cell_type": "code",
   "execution_count": 80,
   "id": "5a9b12c0",
   "metadata": {},
   "outputs": [
    {
     "name": "stdout",
     "output_type": "stream",
     "text": [
      "Oral 0.026484805593221663\n",
      "Written 0.04841248919687818\n",
      "Combine 0.03964141575544226\n"
     ]
    }
   ],
   "source": [
    "_ = [print(k, v) for k, v in zip(X.columns, logistic.coef_[0])]"
   ]
  },
  {
   "cell_type": "code",
   "execution_count": 81,
   "id": "b6aa7225",
   "metadata": {},
   "outputs": [
    {
     "name": "stdout",
     "output_type": "stream",
     "text": [
      "Intercept: \n",
      " [-7.55847044]\n"
     ]
    }
   ],
   "source": [
    "print(\"Intercept: \\n\", logistic.intercept_)"
   ]
  },
  {
   "cell_type": "code",
   "execution_count": 82,
   "id": "f7a00123",
   "metadata": {},
   "outputs": [],
   "source": [
    "y_pred = logistic.predict(X)"
   ]
  },
  {
   "cell_type": "code",
   "execution_count": 83,
   "id": "5ce1aa20",
   "metadata": {},
   "outputs": [
    {
     "name": "stdout",
     "output_type": "stream",
     "text": [
      "1 1\n",
      "1 1\n",
      "1 1\n",
      "1 1\n",
      "1 1\n",
      "0 1\n",
      "1 1\n",
      "0 1\n",
      "1 1\n",
      "1 1\n"
     ]
    }
   ],
   "source": [
    "_ = [print(a, b) for a, b in list(zip(y, y_pred))[:10]]"
   ]
  },
  {
   "cell_type": "code",
   "execution_count": 84,
   "id": "4b7b0c36",
   "metadata": {},
   "outputs": [
    {
     "data": {
      "text/plain": [
       "array([[29, 21],\n",
       "       [13, 55]], dtype=int64)"
      ]
     },
     "execution_count": 84,
     "metadata": {},
     "output_type": "execute_result"
    }
   ],
   "source": [
    "from sklearn import metrics\n",
    "metrics.confusion_matrix(y, y_pred)"
   ]
  },
  {
   "cell_type": "markdown",
   "id": "d32a4b9b",
   "metadata": {},
   "source": [
    "#### 8. Измерьте эффективность данной модели и сделайте вывод о ее применимости на практике."
   ]
  },
  {
   "cell_type": "code",
   "execution_count": 85,
   "id": "36078797",
   "metadata": {},
   "outputs": [
    {
     "data": {
      "text/plain": [
       "0.711864406779661"
      ]
     },
     "execution_count": 85,
     "metadata": {},
     "output_type": "execute_result"
    }
   ],
   "source": [
    "metrics.accuracy_score(y, y_pred)"
   ]
  },
  {
   "cell_type": "code",
   "execution_count": 86,
   "id": "fdc095ce",
   "metadata": {},
   "outputs": [
    {
     "data": {
      "text/plain": [
       "0.7236842105263158"
      ]
     },
     "execution_count": 86,
     "metadata": {},
     "output_type": "execute_result"
    }
   ],
   "source": [
    "precision = metrics.precision_score(y, y_pred)\n",
    "precision"
   ]
  },
  {
   "cell_type": "markdown",
   "id": "2bf0c4cb",
   "metadata": {},
   "source": [
    "Значение метрики показывает, что модель в среднем делает ошибки в 29% процентов случаев."
   ]
  },
  {
   "cell_type": "code",
   "execution_count": 87,
   "id": "297939f1",
   "metadata": {},
   "outputs": [
    {
     "data": {
      "text/plain": [
       "0.8088235294117647"
      ]
     },
     "execution_count": 87,
     "metadata": {},
     "output_type": "execute_result"
    }
   ],
   "source": [
    "metrics.recall_score(y, y_pred)"
   ]
  },
  {
   "cell_type": "markdown",
   "id": "5d920c68",
   "metadata": {},
   "source": [
    "Модель выдаст верные результаты в 98% случаев, т.е. модель достаточно успешно предсказывает результаты."
   ]
  },
  {
   "cell_type": "markdown",
   "id": "532d2387",
   "metadata": {},
   "source": [
    "#### 9. Визуализируйте результаты моделирования, сравните реальные и предсказанные значения."
   ]
  },
  {
   "cell_type": "code",
   "execution_count": 88,
   "id": "6da228d1",
   "metadata": {},
   "outputs": [
    {
     "data": {
      "text/plain": [
       "Text(0.5, 15.0, 'Предсказанные значения')"
      ]
     },
     "execution_count": 88,
     "metadata": {},
     "output_type": "execute_result"
    },
    {
     "data": {
      "image/png": "[encoded data removed]",
      "text/plain": [
       "<Figure size 432x288 with 2 Axes>"
      ]
     },
     "metadata": {
      "needs_background": "light"
     },
     "output_type": "display_data"
    }
   ],
   "source": [
    "%matplotlib inline\n",
    "class_names = [0, 1]\n",
    "fig, ax = plt.subplots()\n",
    "ticks = np.arange(len(class_names))\n",
    "plt.xticks(ticks, class_names)\n",
    "plt.yticks(ticks, class_names)\n",
    "sns.heatmap(pd.DataFrame(\n",
    "    metrics.confusion_matrix(y, y_pred)),\n",
    "    annot=True)\n",
    "plt.ylabel('Действительные значения')\n",
    "plt.xlabel('Предсказанные значения')"
   ]
  },
  {
   "cell_type": "markdown",
   "id": "4fec3fdd",
   "metadata": {},
   "source": [
    "#### 10. Используйте несколько простых моделей машинного обучения. Сравните их эффективность между собой."
   ]
  },
  {
   "cell_type": "markdown",
   "id": "85743282",
   "metadata": {},
   "source": [
    "Метод опорных векторов"
   ]
  },
  {
   "cell_type": "code",
   "execution_count": 89,
   "id": "bb8a1d05",
   "metadata": {},
   "outputs": [],
   "source": [
    "from sklearn import svm\n",
    "clf = svm.SVC(kernel='linear')"
   ]
  },
  {
   "cell_type": "code",
   "execution_count": 90,
   "id": "be54ad88",
   "metadata": {},
   "outputs": [
    {
     "data": {
      "text/plain": [
       "SVC(kernel='linear')"
      ]
     },
     "execution_count": 90,
     "metadata": {},
     "output_type": "execute_result"
    }
   ],
   "source": [
    "clf.fit(X, y)"
   ]
  },
  {
   "cell_type": "code",
   "execution_count": 91,
   "id": "d018517e",
   "metadata": {},
   "outputs": [],
   "source": [
    "y_pred = clf.predict(X)"
   ]
  },
  {
   "cell_type": "code",
   "execution_count": 92,
   "id": "bd72bf96",
   "metadata": {},
   "outputs": [
    {
     "data": {
      "text/plain": [
       "array([[29, 21],\n",
       "       [14, 54]], dtype=int64)"
      ]
     },
     "execution_count": 92,
     "metadata": {},
     "output_type": "execute_result"
    }
   ],
   "source": [
    "matrix = metrics.confusion_matrix(y, y_pred)\n",
    "matrix"
   ]
  },
  {
   "cell_type": "code",
   "execution_count": 93,
   "id": "dca8b009",
   "metadata": {},
   "outputs": [
    {
     "data": {
      "text/plain": [
       "0.7033898305084746"
      ]
     },
     "execution_count": 93,
     "metadata": {},
     "output_type": "execute_result"
    }
   ],
   "source": [
    "accuracy = metrics.accuracy_score(y, y_pred)\n",
    "accuracy"
   ]
  },
  {
   "cell_type": "code",
   "execution_count": 94,
   "id": "fe28edc5",
   "metadata": {},
   "outputs": [
    {
     "data": {
      "text/plain": [
       "0.72"
      ]
     },
     "execution_count": 94,
     "metadata": {},
     "output_type": "execute_result"
    }
   ],
   "source": [
    "precision = metrics.precision_score(y, y_pred, average=\"binary\")\n",
    "precision"
   ]
  },
  {
   "cell_type": "code",
   "execution_count": 95,
   "id": "9ddcb76f",
   "metadata": {},
   "outputs": [
    {
     "data": {
      "image/png": "[encoded data removed]",
      "text/plain": [
       "<Figure size 432x288 with 2 Axes>"
      ]
     },
     "metadata": {
      "needs_background": "light"
     },
     "output_type": "display_data"
    }
   ],
   "source": [
    "%matplotlib inline\n",
    "class_names = [0, 1]\n",
    "fig, ax = plt.subplots()\n",
    "ticks = np.arange(len(class_names))\n",
    "plt.xticks(ticks, class_names)\n",
    "plt.yticks(ticks, class_names)\n",
    "sns.heatmap(pd.DataFrame(matrix),\n",
    "    annot=True)\n",
    "plt.ylabel('Действительные значения')\n",
    "plt.xlabel('Предсказанные значения')\n",
    "plt.show()"
   ]
  },
  {
   "cell_type": "markdown",
   "id": "f5066c23",
   "metadata": {},
   "source": [
    "Метод k ближайших соседей"
   ]
  },
  {
   "cell_type": "code",
   "execution_count": 96,
   "id": "7e1012c6",
   "metadata": {},
   "outputs": [],
   "source": [
    "from sklearn.neighbors import KNeighborsClassifier\n",
    "neighbor = KNeighborsClassifier(weights='distance')"
   ]
  },
  {
   "cell_type": "code",
   "execution_count": 97,
   "id": "7338cbfb",
   "metadata": {},
   "outputs": [
    {
     "data": {
      "text/plain": [
       "KNeighborsClassifier(weights='distance')"
      ]
     },
     "execution_count": 97,
     "metadata": {},
     "output_type": "execute_result"
    }
   ],
   "source": [
    "neighbor.fit(X, y)"
   ]
  },
  {
   "cell_type": "code",
   "execution_count": 98,
   "id": "307f236b",
   "metadata": {},
   "outputs": [],
   "source": [
    "y_pred = neighbor.predict(X)"
   ]
  },
  {
   "cell_type": "code",
   "execution_count": 99,
   "id": "c46e9a14",
   "metadata": {},
   "outputs": [
    {
     "data": {
      "text/plain": [
       "array([[50,  0],\n",
       "       [ 1, 67]], dtype=int64)"
      ]
     },
     "execution_count": 99,
     "metadata": {},
     "output_type": "execute_result"
    }
   ],
   "source": [
    "matrix = metrics.confusion_matrix(y, y_pred)\n",
    "matrix"
   ]
  },
  {
   "cell_type": "code",
   "execution_count": 100,
   "id": "c324b730",
   "metadata": {},
   "outputs": [
    {
     "data": {
      "text/plain": [
       "0.9915254237288136"
      ]
     },
     "execution_count": 100,
     "metadata": {},
     "output_type": "execute_result"
    }
   ],
   "source": [
    "accuracy = metrics.accuracy_score(y, y_pred)\n",
    "accuracy"
   ]
  },
  {
   "cell_type": "code",
   "execution_count": 101,
   "id": "82e0f23a",
   "metadata": {},
   "outputs": [
    {
     "data": {
      "text/plain": [
       "1.0"
      ]
     },
     "execution_count": 101,
     "metadata": {},
     "output_type": "execute_result"
    }
   ],
   "source": [
    "precision = metrics.precision_score(y, y_pred, average=\"binary\")\n",
    "precision"
   ]
  },
  {
   "cell_type": "code",
   "execution_count": 102,
   "id": "bd0fdc13",
   "metadata": {},
   "outputs": [
    {
     "data": {
      "image/png": "[encoded data removed]",
      "text/plain": [
       "<Figure size 432x288 with 2 Axes>"
      ]
     },
     "metadata": {
      "needs_background": "light"
     },
     "output_type": "display_data"
    }
   ],
   "source": [
    "%matplotlib inline\n",
    "class_names = [0, 1]\n",
    "fig, ax = plt.subplots()\n",
    "ticks = np.arange(len(class_names))\n",
    "plt.xticks(ticks, class_names)\n",
    "plt.yticks(ticks, class_names)\n",
    "sns.heatmap(pd.DataFrame(matrix),\n",
    "    annot=True)\n",
    "plt.ylabel('Действительные значения')\n",
    "plt.xlabel('Предсказанные значения')\n",
    "plt.show()"
   ]
  },
  {
   "cell_type": "code",
   "execution_count": null,
   "id": "1970e61a",
   "metadata": {},
   "outputs": [],
   "source": []
  }
 ],
 "metadata": {
  "kernelspec": {
   "display_name": "Python 3 (ipykernel)",
   "language": "python",
   "name": "python3"
  },
  "language_info": {
   "codemirror_mode": {
    "name": "ipython",
    "version": 3
   },
   "file_extension": ".py",
   "mimetype": "text/x-python",
   "name": "python",
   "nbconvert_exporter": "python",
   "pygments_lexer": "ipython3",
   "version": "3.9.13"
  }
 },
 "nbformat": 4,
 "nbformat_minor": 5
}
