{
 "cells": [
  {
   "cell_type": "markdown",
   "id": "1861a289",
   "metadata": {},
   "source": [
    "# Контрольная работа"
   ]
  },
  {
   "cell_type": "markdown",
   "id": "64484b26",
   "metadata": {},
   "source": [
    "Найдёнов Михаил"
   ]
  },
  {
   "cell_type": "markdown",
   "id": "51e2e5bb",
   "metadata": {},
   "source": [
    "#### Вариант классификация 16"
   ]
  },
  {
   "cell_type": "markdown",
   "id": "f12c2065",
   "metadata": {},
   "source": [
    "Импортируем необходимые библиотеки"
   ]
  },
  {
   "cell_type": "code",
   "execution_count": 52,
   "id": "efe0aa81",
   "metadata": {
    "scrolled": true
   },
   "outputs": [],
   "source": [
    "from sklearn.datasets import fetch_openml\n",
    "import matplotlib.pyplot as plt\n",
    "import numpy as np\n",
    "import pandas as pd\n",
    "from sklearn.linear_model import LinearRegression\n",
    "from sklearn import metrics\n",
    "import seaborn as sns"
   ]
  },
  {
   "cell_type": "markdown",
   "id": "ecd1fd38",
   "metadata": {},
   "source": [
    "### 1. Познакомьтесь с возможностями библиотеки sklearn по загрузке датасетов из репозитория openml.org\n"
   ]
  },
  {
   "cell_type": "markdown",
   "id": "15aef246",
   "metadata": {},
   "source": [
    "загрузим исходный набор данных:"
   ]
  },
  {
   "cell_type": "code",
   "execution_count": 2,
   "id": "23ae8da3",
   "metadata": {},
   "outputs": [
    {
     "name": "stderr",
     "output_type": "stream",
     "text": [
      "C:\\ProgramData\\Anaconda3\\lib\\site-packages\\sklearn\\datasets\\_openml.py:417: UserWarning: Multiple active versions of the dataset matching the name prnn_fglass exist. Versions may be fundamentally different, returning version 1.\n",
      "  warn(\n"
     ]
    }
   ],
   "source": [
    "df = fetch_openml('prnn_fglass')"
   ]
  },
  {
   "cell_type": "markdown",
   "id": "5e29c17a",
   "metadata": {},
   "source": [
    "### 2. Загрузите нужный вам датасет, выведите его основные характеристики: количество строк и столбцов, типы данных, количество значений в каждом столбце, основную статистическую информацию об атрибутах.\n"
   ]
  },
  {
   "cell_type": "markdown",
   "id": "09ef56db",
   "metadata": {},
   "source": [
    "Для наглядности мы создадим датафрейм:"
   ]
  },
  {
   "cell_type": "code",
   "execution_count": 3,
   "id": "3cdec058",
   "metadata": {},
   "outputs": [],
   "source": [
    "data = pd.DataFrame(df.data, columns=df.feature_names)"
   ]
  },
  {
   "cell_type": "code",
   "execution_count": 4,
   "id": "8b6f7a37",
   "metadata": {
    "scrolled": false
   },
   "outputs": [
    {
     "data": {
      "text/html": [
       "<div>\n",
       "<style scoped>\n",
       "    .dataframe tbody tr th:only-of-type {\n",
       "        vertical-align: middle;\n",
       "    }\n",
       "\n",
       "    .dataframe tbody tr th {\n",
       "        vertical-align: top;\n",
       "    }\n",
       "\n",
       "    .dataframe thead th {\n",
       "        text-align: right;\n",
       "    }\n",
       "</style>\n",
       "<table border=\"1\" class=\"dataframe\">\n",
       "  <thead>\n",
       "    <tr style=\"text-align: right;\">\n",
       "      <th></th>\n",
       "      <th>RI</th>\n",
       "      <th>Na</th>\n",
       "      <th>Mg</th>\n",
       "      <th>Al</th>\n",
       "      <th>Si</th>\n",
       "      <th>K</th>\n",
       "      <th>Ca</th>\n",
       "      <th>Ba</th>\n",
       "      <th>Fe</th>\n",
       "    </tr>\n",
       "  </thead>\n",
       "  <tbody>\n",
       "    <tr>\n",
       "      <th>0</th>\n",
       "      <td>1.52101</td>\n",
       "      <td>13.64</td>\n",
       "      <td>4.49</td>\n",
       "      <td>1.10</td>\n",
       "      <td>71.78</td>\n",
       "      <td>0.06</td>\n",
       "      <td>8.75</td>\n",
       "      <td>0.00</td>\n",
       "      <td>0.0</td>\n",
       "    </tr>\n",
       "    <tr>\n",
       "      <th>1</th>\n",
       "      <td>1.51761</td>\n",
       "      <td>13.89</td>\n",
       "      <td>3.60</td>\n",
       "      <td>1.36</td>\n",
       "      <td>72.73</td>\n",
       "      <td>0.48</td>\n",
       "      <td>7.83</td>\n",
       "      <td>0.00</td>\n",
       "      <td>0.0</td>\n",
       "    </tr>\n",
       "    <tr>\n",
       "      <th>2</th>\n",
       "      <td>1.51618</td>\n",
       "      <td>13.53</td>\n",
       "      <td>3.55</td>\n",
       "      <td>1.54</td>\n",
       "      <td>72.99</td>\n",
       "      <td>0.39</td>\n",
       "      <td>7.78</td>\n",
       "      <td>0.00</td>\n",
       "      <td>0.0</td>\n",
       "    </tr>\n",
       "    <tr>\n",
       "      <th>3</th>\n",
       "      <td>1.51766</td>\n",
       "      <td>13.21</td>\n",
       "      <td>3.69</td>\n",
       "      <td>1.29</td>\n",
       "      <td>72.61</td>\n",
       "      <td>0.57</td>\n",
       "      <td>8.22</td>\n",
       "      <td>0.00</td>\n",
       "      <td>0.0</td>\n",
       "    </tr>\n",
       "    <tr>\n",
       "      <th>4</th>\n",
       "      <td>1.51742</td>\n",
       "      <td>13.27</td>\n",
       "      <td>3.62</td>\n",
       "      <td>1.24</td>\n",
       "      <td>73.08</td>\n",
       "      <td>0.55</td>\n",
       "      <td>8.07</td>\n",
       "      <td>0.00</td>\n",
       "      <td>0.0</td>\n",
       "    </tr>\n",
       "    <tr>\n",
       "      <th>...</th>\n",
       "      <td>...</td>\n",
       "      <td>...</td>\n",
       "      <td>...</td>\n",
       "      <td>...</td>\n",
       "      <td>...</td>\n",
       "      <td>...</td>\n",
       "      <td>...</td>\n",
       "      <td>...</td>\n",
       "      <td>...</td>\n",
       "    </tr>\n",
       "    <tr>\n",
       "      <th>209</th>\n",
       "      <td>1.51623</td>\n",
       "      <td>14.14</td>\n",
       "      <td>0.00</td>\n",
       "      <td>2.88</td>\n",
       "      <td>72.61</td>\n",
       "      <td>0.08</td>\n",
       "      <td>9.18</td>\n",
       "      <td>1.06</td>\n",
       "      <td>0.0</td>\n",
       "    </tr>\n",
       "    <tr>\n",
       "      <th>210</th>\n",
       "      <td>1.51685</td>\n",
       "      <td>14.92</td>\n",
       "      <td>0.00</td>\n",
       "      <td>1.99</td>\n",
       "      <td>73.06</td>\n",
       "      <td>0.00</td>\n",
       "      <td>8.40</td>\n",
       "      <td>1.59</td>\n",
       "      <td>0.0</td>\n",
       "    </tr>\n",
       "    <tr>\n",
       "      <th>211</th>\n",
       "      <td>1.52065</td>\n",
       "      <td>14.36</td>\n",
       "      <td>0.00</td>\n",
       "      <td>2.02</td>\n",
       "      <td>73.42</td>\n",
       "      <td>0.00</td>\n",
       "      <td>8.44</td>\n",
       "      <td>1.64</td>\n",
       "      <td>0.0</td>\n",
       "    </tr>\n",
       "    <tr>\n",
       "      <th>212</th>\n",
       "      <td>1.51651</td>\n",
       "      <td>14.38</td>\n",
       "      <td>0.00</td>\n",
       "      <td>1.94</td>\n",
       "      <td>73.61</td>\n",
       "      <td>0.00</td>\n",
       "      <td>8.48</td>\n",
       "      <td>1.57</td>\n",
       "      <td>0.0</td>\n",
       "    </tr>\n",
       "    <tr>\n",
       "      <th>213</th>\n",
       "      <td>1.51711</td>\n",
       "      <td>14.23</td>\n",
       "      <td>0.00</td>\n",
       "      <td>2.08</td>\n",
       "      <td>73.36</td>\n",
       "      <td>0.00</td>\n",
       "      <td>8.62</td>\n",
       "      <td>1.67</td>\n",
       "      <td>0.0</td>\n",
       "    </tr>\n",
       "  </tbody>\n",
       "</table>\n",
       "<p>214 rows × 9 columns</p>\n",
       "</div>"
      ],
      "text/plain": [
       "          RI     Na    Mg    Al     Si     K    Ca    Ba   Fe\n",
       "0    1.52101  13.64  4.49  1.10  71.78  0.06  8.75  0.00  0.0\n",
       "1    1.51761  13.89  3.60  1.36  72.73  0.48  7.83  0.00  0.0\n",
       "2    1.51618  13.53  3.55  1.54  72.99  0.39  7.78  0.00  0.0\n",
       "3    1.51766  13.21  3.69  1.29  72.61  0.57  8.22  0.00  0.0\n",
       "4    1.51742  13.27  3.62  1.24  73.08  0.55  8.07  0.00  0.0\n",
       "..       ...    ...   ...   ...    ...   ...   ...   ...  ...\n",
       "209  1.51623  14.14  0.00  2.88  72.61  0.08  9.18  1.06  0.0\n",
       "210  1.51685  14.92  0.00  1.99  73.06  0.00  8.40  1.59  0.0\n",
       "211  1.52065  14.36  0.00  2.02  73.42  0.00  8.44  1.64  0.0\n",
       "212  1.51651  14.38  0.00  1.94  73.61  0.00  8.48  1.57  0.0\n",
       "213  1.51711  14.23  0.00  2.08  73.36  0.00  8.62  1.67  0.0\n",
       "\n",
       "[214 rows x 9 columns]"
      ]
     },
     "execution_count": 4,
     "metadata": {},
     "output_type": "execute_result"
    }
   ],
   "source": [
    "data"
   ]
  },
  {
   "cell_type": "markdown",
   "id": "e3ccf0aa",
   "metadata": {},
   "source": [
    "посмотрим размер наших данных"
   ]
  },
  {
   "cell_type": "code",
   "execution_count": 5,
   "id": "988233b8",
   "metadata": {},
   "outputs": [
    {
     "data": {
      "text/plain": [
       "(214, 9)"
      ]
     },
     "execution_count": 5,
     "metadata": {},
     "output_type": "execute_result"
    }
   ],
   "source": [
    "data.shape"
   ]
  },
  {
   "cell_type": "markdown",
   "id": "04ba8170",
   "metadata": {},
   "source": [
    "проверим данные на наличие пропусков"
   ]
  },
  {
   "cell_type": "code",
   "execution_count": 6,
   "id": "38c49000",
   "metadata": {},
   "outputs": [
    {
     "name": "stdout",
     "output_type": "stream",
     "text": [
      "<class 'pandas.core.frame.DataFrame'>\n",
      "RangeIndex: 214 entries, 0 to 213\n",
      "Data columns (total 9 columns):\n",
      " #   Column  Non-Null Count  Dtype  \n",
      "---  ------  --------------  -----  \n",
      " 0   RI      214 non-null    float64\n",
      " 1   Na      214 non-null    float64\n",
      " 2   Mg      214 non-null    float64\n",
      " 3   Al      214 non-null    float64\n",
      " 4   Si      214 non-null    float64\n",
      " 5   K       214 non-null    float64\n",
      " 6   Ca      214 non-null    float64\n",
      " 7   Ba      214 non-null    float64\n",
      " 8   Fe      214 non-null    float64\n",
      "dtypes: float64(9)\n",
      "memory usage: 15.2 KB\n"
     ]
    }
   ],
   "source": [
    "data.info()"
   ]
  },
  {
   "cell_type": "markdown",
   "id": "f69b99e0",
   "metadata": {},
   "source": [
    "выведем основную статистику по данным"
   ]
  },
  {
   "cell_type": "code",
   "execution_count": 7,
   "id": "2bb4e630",
   "metadata": {},
   "outputs": [
    {
     "data": {
      "text/html": [
       "<div>\n",
       "<style scoped>\n",
       "    .dataframe tbody tr th:only-of-type {\n",
       "        vertical-align: middle;\n",
       "    }\n",
       "\n",
       "    .dataframe tbody tr th {\n",
       "        vertical-align: top;\n",
       "    }\n",
       "\n",
       "    .dataframe thead th {\n",
       "        text-align: right;\n",
       "    }\n",
       "</style>\n",
       "<table border=\"1\" class=\"dataframe\">\n",
       "  <thead>\n",
       "    <tr style=\"text-align: right;\">\n",
       "      <th></th>\n",
       "      <th>RI</th>\n",
       "      <th>Na</th>\n",
       "      <th>Mg</th>\n",
       "      <th>Al</th>\n",
       "      <th>Si</th>\n",
       "      <th>K</th>\n",
       "      <th>Ca</th>\n",
       "      <th>Ba</th>\n",
       "      <th>Fe</th>\n",
       "    </tr>\n",
       "  </thead>\n",
       "  <tbody>\n",
       "    <tr>\n",
       "      <th>count</th>\n",
       "      <td>214.000000</td>\n",
       "      <td>214.000000</td>\n",
       "      <td>214.000000</td>\n",
       "      <td>214.000000</td>\n",
       "      <td>214.000000</td>\n",
       "      <td>214.000000</td>\n",
       "      <td>214.000000</td>\n",
       "      <td>214.000000</td>\n",
       "      <td>214.000000</td>\n",
       "    </tr>\n",
       "    <tr>\n",
       "      <th>mean</th>\n",
       "      <td>1.518365</td>\n",
       "      <td>13.407850</td>\n",
       "      <td>2.684533</td>\n",
       "      <td>1.444907</td>\n",
       "      <td>72.650935</td>\n",
       "      <td>0.497056</td>\n",
       "      <td>8.956963</td>\n",
       "      <td>0.175047</td>\n",
       "      <td>0.057009</td>\n",
       "    </tr>\n",
       "    <tr>\n",
       "      <th>std</th>\n",
       "      <td>0.003037</td>\n",
       "      <td>0.816604</td>\n",
       "      <td>1.442408</td>\n",
       "      <td>0.499270</td>\n",
       "      <td>0.774546</td>\n",
       "      <td>0.652192</td>\n",
       "      <td>1.423153</td>\n",
       "      <td>0.497219</td>\n",
       "      <td>0.097439</td>\n",
       "    </tr>\n",
       "    <tr>\n",
       "      <th>min</th>\n",
       "      <td>1.511150</td>\n",
       "      <td>10.730000</td>\n",
       "      <td>0.000000</td>\n",
       "      <td>0.290000</td>\n",
       "      <td>69.810000</td>\n",
       "      <td>0.000000</td>\n",
       "      <td>5.430000</td>\n",
       "      <td>0.000000</td>\n",
       "      <td>0.000000</td>\n",
       "    </tr>\n",
       "    <tr>\n",
       "      <th>25%</th>\n",
       "      <td>1.516522</td>\n",
       "      <td>12.907500</td>\n",
       "      <td>2.115000</td>\n",
       "      <td>1.190000</td>\n",
       "      <td>72.280000</td>\n",
       "      <td>0.122500</td>\n",
       "      <td>8.240000</td>\n",
       "      <td>0.000000</td>\n",
       "      <td>0.000000</td>\n",
       "    </tr>\n",
       "    <tr>\n",
       "      <th>50%</th>\n",
       "      <td>1.517680</td>\n",
       "      <td>13.300000</td>\n",
       "      <td>3.480000</td>\n",
       "      <td>1.360000</td>\n",
       "      <td>72.790000</td>\n",
       "      <td>0.555000</td>\n",
       "      <td>8.600000</td>\n",
       "      <td>0.000000</td>\n",
       "      <td>0.000000</td>\n",
       "    </tr>\n",
       "    <tr>\n",
       "      <th>75%</th>\n",
       "      <td>1.519157</td>\n",
       "      <td>13.825000</td>\n",
       "      <td>3.600000</td>\n",
       "      <td>1.630000</td>\n",
       "      <td>73.087500</td>\n",
       "      <td>0.610000</td>\n",
       "      <td>9.172500</td>\n",
       "      <td>0.000000</td>\n",
       "      <td>0.100000</td>\n",
       "    </tr>\n",
       "    <tr>\n",
       "      <th>max</th>\n",
       "      <td>1.533930</td>\n",
       "      <td>17.380000</td>\n",
       "      <td>4.490000</td>\n",
       "      <td>3.500000</td>\n",
       "      <td>75.410000</td>\n",
       "      <td>6.210000</td>\n",
       "      <td>16.190000</td>\n",
       "      <td>3.150000</td>\n",
       "      <td>0.510000</td>\n",
       "    </tr>\n",
       "  </tbody>\n",
       "</table>\n",
       "</div>"
      ],
      "text/plain": [
       "               RI          Na          Mg          Al          Si           K  \\\n",
       "count  214.000000  214.000000  214.000000  214.000000  214.000000  214.000000   \n",
       "mean     1.518365   13.407850    2.684533    1.444907   72.650935    0.497056   \n",
       "std      0.003037    0.816604    1.442408    0.499270    0.774546    0.652192   \n",
       "min      1.511150   10.730000    0.000000    0.290000   69.810000    0.000000   \n",
       "25%      1.516522   12.907500    2.115000    1.190000   72.280000    0.122500   \n",
       "50%      1.517680   13.300000    3.480000    1.360000   72.790000    0.555000   \n",
       "75%      1.519157   13.825000    3.600000    1.630000   73.087500    0.610000   \n",
       "max      1.533930   17.380000    4.490000    3.500000   75.410000    6.210000   \n",
       "\n",
       "               Ca          Ba          Fe  \n",
       "count  214.000000  214.000000  214.000000  \n",
       "mean     8.956963    0.175047    0.057009  \n",
       "std      1.423153    0.497219    0.097439  \n",
       "min      5.430000    0.000000    0.000000  \n",
       "25%      8.240000    0.000000    0.000000  \n",
       "50%      8.600000    0.000000    0.000000  \n",
       "75%      9.172500    0.000000    0.100000  \n",
       "max     16.190000    3.150000    0.510000  "
      ]
     },
     "execution_count": 7,
     "metadata": {},
     "output_type": "execute_result"
    }
   ],
   "source": [
    "data.describe()"
   ]
  },
  {
   "cell_type": "markdown",
   "id": "9371dee9",
   "metadata": {},
   "source": [
    "### 3. Прочитайте и изложите в работе общее описание датасета. Опишите, решаемую моделированием проблему.\n"
   ]
  },
  {
   "cell_type": "code",
   "execution_count": 60,
   "id": "3c459aeb",
   "metadata": {},
   "outputs": [
    {
     "name": "stdout",
     "output_type": "stream",
     "text": [
      "**Author**:   \n",
      "**Source**: Unknown - Date unknown  \n",
      "**Please cite**:   \n",
      "\n",
      "Datasets for `Pattern Recognition and Neural Networks' by B.D. Ripley\n",
      "=====================================================================\n",
      "\n",
      "Cambridge University Press (1996)  ISBN  0-521-46086-7\n",
      "\n",
      "The background to the datasets is described in section 1.4; this file\n",
      "relates the computer-readable files to that description.\n",
      "\n",
      "\n",
      "\n",
      "Cushing's syndrome\n",
      "------------------\n",
      "\n",
      "Data from Aitchison & Dunsmore (1975, Tables 11.1-3).\n",
      "\n",
      "Data file Cushings.dat has four columns,\n",
      "\n",
      "Label of the patient\n",
      "Tetrhydrocortisone  (mg/24hr)\n",
      "Pregnanetriol  (mg/24hr)\n",
      "Type\n",
      "\n",
      "The type of the last six patients (u1 to u6) should be\n",
      "regarded as unknown.  (The code `o' indicates `other').\n",
      "\n",
      "\n",
      "\n",
      "synthetic two-class problem\n",
      "---------------------------\n",
      "\n",
      "Data from Ripley (1994a).\n",
      "\n",
      "This has two real-valued co-ordinates (xs and ys) and a class (xc)\n",
      "which is 0 or 1.\n",
      "\n",
      "Data file  synth.tr   has 250 rows of the training set\n",
      "synth.te   has 1000 rows of the test set  (not used here)\n",
      "\n",
      "\n",
      "\n",
      "viruses\n",
      "-------\n",
      "\n",
      "This is a dataset on 61 viruses with rod-shaped particles affecting\n",
      "various crops (tobacco, tomato, cucumber and others) described by\n",
      "{Fauquet et al. (1988) and analysed by Eslava-G\\'omez (1989).  There\n",
      "are 18 measurements on each virus,  the number of amino acid residues\n",
      "per molecule of coat protein.\n",
      "\n",
      "Data file  viruses.dat  has 61 rows of 18 counts\n",
      "virus3.dat   has 38 rows corresponding to the distinct\n",
      "Tobamoviruses.\n",
      "\n",
      "The whole dataset is in order Hordeviruses (3), Tobraviruses (6),\n",
      "Tobamoviruses (39) and `furoviruses' (13).\n",
      "\n",
      "\n",
      "\n",
      "Leptograpsus crabs\n",
      "------------------\n",
      "\n",
      "Data from Campbell & Mahon (1974) on the morphology of rock crabs of\n",
      "genus Leptograpsus.\n",
      "\n",
      "There are 50 specimens of each sex of each of two colour forms.\n",
      "\n",
      "Data file  crabs.dat has rows\n",
      "\n",
      "sp\t`species', coded B (blue form) or O (orange form)\n",
      "sex\tcoded M or F\n",
      "index\twithin each group of 50\n",
      "FL\tfrontal lip of carapace (mm)\n",
      "RW\trear width of carapace (mm)\n",
      "CL\tlength along the midline of carapace (mm)\n",
      "CW\tmaximum width of carapace (mm)\n",
      "BD\tbody depth (mm)\n",
      "\n",
      "\n",
      "\n",
      "Forensic glass\n",
      "--------------\n",
      "\n",
      "This example comes from forensic testing of glass collected by\n",
      "B. German on 214 fragments of glass.  It is also contained in the\n",
      "UCI machine-learning database collection (Murphy & Aha, 1995).\n",
      "\n",
      "Data file fglass.dat has 214 rows with data for a single glass\n",
      "fragment.\n",
      "\n",
      "RI\trefractive index\n",
      "Na\t% weight of sodium oxide(s)\n",
      "Mg\t% weight of magnesium oxide(s)\n",
      "Al\t% weight of aluminium oxide(s)\n",
      "Si\t% weight of silicon oxide(s)\n",
      "K\t% weight of potassium oxide(s)\n",
      "Ca\t% weight of calcium oxide(s)\n",
      "Ba\t% weight of barium oxide(s)\n",
      "Fe\t% weight of iron oxide(s)\n",
      "type\tcoded 1 to 7\n",
      "\n",
      "The type codes are:\n",
      "\n",
      "1 (WinF) window float glass\n",
      "2 (WinNF) window non-float glass\n",
      "3 (Veh) vehicle glass\n",
      "5 (Con)  containers\n",
      "6 (Tabl) tableware\n",
      "7 (Head) vehicle headlamp glass\n",
      "\n",
      "The ten groups used for the cross-validation experiments (I believe)\n",
      "are listed as row numbers in the file fglass.grp,\n",
      "\n",
      "\n",
      "\n",
      "Diabetes in Pima Indians\n",
      "------------------------\n",
      "\n",
      "A population of women who were at least 21 years old, of Pima Indian heritage\n",
      "and living near Phoenix, Arizona,  was tested for diabetes\n",
      "according to World Health Organization criteria.  The data\n",
      "were collected by the US National Institute of Diabetes and Digestive and\n",
      "Kidney Diseases (Smith et al, 1988). This example is also contained in the\n",
      "UCI machine-learning database collection (Murphy & Aha, 1995).\n",
      "\n",
      "The data files have rows containing\n",
      "\n",
      "npreg \tnumber of pregnancies\n",
      "glu \tplasma glucose concentration in an oral glucose tolerance test\n",
      "bp \tdiastolic blood pressure (mm Hg)\n",
      "skin \ttriceps skin fold thickness (mm)\n",
      "ins\tserum insulin (micro U/ml)\n",
      "bmi \tbody mass index (weight in kg/(height in m)^2)\n",
      "ped \tdiabetes pedigree function\n",
      "age \tin years\n",
      "type\tNo / Yes\n",
      "\n",
      "Data file pima.tr   has 200 rows of complete training data.\n",
      "pima.te   has 332 rows of complete test data.\n",
      "pima.tr2  has the 200 rows of pima.tr plus 100 incomplete rows.\n",
      "\n",
      "\n",
      "\n",
      "Information about the dataset\n",
      "CLASSTYPE: nominal\n",
      "CLASSINDEX: last\n",
      "\n",
      "Downloaded from openml.org.\n"
     ]
    }
   ],
   "source": [
    "print(df.DESCR)"
   ]
  },
  {
   "cell_type": "markdown",
   "id": "72c7ee27",
   "metadata": {},
   "source": [
    "обнаружение больных синдром гиперкортицизма"
   ]
  },
  {
   "cell_type": "markdown",
   "id": "5ce5ab8e",
   "metadata": {},
   "source": [
    "### 4. Удалите, если нужно, нечисловые колонки в датасете."
   ]
  },
  {
   "cell_type": "code",
   "execution_count": 8,
   "id": "32ec5758",
   "metadata": {},
   "outputs": [
    {
     "name": "stdout",
     "output_type": "stream",
     "text": [
      "<class 'pandas.core.frame.DataFrame'>\n",
      "RangeIndex: 214 entries, 0 to 213\n",
      "Data columns (total 9 columns):\n",
      " #   Column  Non-Null Count  Dtype  \n",
      "---  ------  --------------  -----  \n",
      " 0   RI      214 non-null    float64\n",
      " 1   Na      214 non-null    float64\n",
      " 2   Mg      214 non-null    float64\n",
      " 3   Al      214 non-null    float64\n",
      " 4   Si      214 non-null    float64\n",
      " 5   K       214 non-null    float64\n",
      " 6   Ca      214 non-null    float64\n",
      " 7   Ba      214 non-null    float64\n",
      " 8   Fe      214 non-null    float64\n",
      "dtypes: float64(9)\n",
      "memory usage: 15.2 KB\n"
     ]
    }
   ],
   "source": [
    "data.info()"
   ]
  },
  {
   "cell_type": "markdown",
   "id": "7aebf0b5",
   "metadata": {},
   "source": [
    "судя по info() нечисловых колонок нет"
   ]
  },
  {
   "cell_type": "markdown",
   "id": "dc16da98",
   "metadata": {},
   "source": [
    "### 5. При необходимости заполните нулем пропущенные значения."
   ]
  },
  {
   "cell_type": "code",
   "execution_count": 9,
   "id": "7cda86be",
   "metadata": {},
   "outputs": [
    {
     "data": {
      "text/plain": [
       "RI    0\n",
       "Na    0\n",
       "Mg    0\n",
       "Al    0\n",
       "Si    0\n",
       "K     0\n",
       "Ca    0\n",
       "Ba    0\n",
       "Fe    0\n",
       "dtype: int64"
      ]
     },
     "execution_count": 9,
     "metadata": {},
     "output_type": "execute_result"
    }
   ],
   "source": [
    "data.isna().sum()"
   ]
  },
  {
   "cell_type": "markdown",
   "id": "4741ee95",
   "metadata": {},
   "source": [
    "пропуски отсутствуют"
   ]
  },
  {
   "cell_type": "markdown",
   "id": "88bfdcf7",
   "metadata": {},
   "source": [
    "### 6. Постройте гистограммы распределения по каждому признаку."
   ]
  },
  {
   "cell_type": "code",
   "execution_count": 10,
   "id": "9682c5e5",
   "metadata": {},
   "outputs": [
    {
     "data": {
      "image/png": "[encoded data removed]",
      "text/plain": [
       "<Figure size 1440x288 with 9 Axes>"
      ]
     },
     "metadata": {
      "needs_background": "light"
     },
     "output_type": "display_data"
    }
   ],
   "source": [
    "fig, axs = plt.subplots(ncols=9, figsize=(20, 4))\n",
    "\n",
    "\n",
    "for idx, feature in enumerate(['RI', 'Na', 'Mg', 'Al', 'Si', 'K', 'Ca', 'Ba', 'Fe']):\n",
    "\n",
    "    axs[idx].hist(data[feature], alpha=0.5, color='blue')\n",
    "    axs[idx].set_xlabel(feature)\n",
    "    axs[idx].set_ylabel('Count')\n",
    "\n",
    "plt.title('Гистограммы по целевым переменным')\n",
    "\n",
    "plt.tight_layout()\n",
    "plt.show()\n",
    "    "
   ]
  },
  {
   "cell_type": "markdown",
   "id": "50e52121",
   "metadata": {},
   "source": [
    "Мы можем увидеть наиболее часто встречаемы значения каждого признака"
   ]
  },
  {
   "cell_type": "markdown",
   "id": "8bf4caf3",
   "metadata": {},
   "source": [
    "### 7. Постройте модель машинного обучения, обучите ее на всем датасете."
   ]
  },
  {
   "cell_type": "markdown",
   "id": "57efa7fc",
   "metadata": {},
   "source": [
    "Выделим данные"
   ]
  },
  {
   "cell_type": "code",
   "execution_count": 11,
   "id": "4a25bb4b",
   "metadata": {},
   "outputs": [],
   "source": [
    "X = df.data"
   ]
  },
  {
   "cell_type": "markdown",
   "id": "34e91f47",
   "metadata": {},
   "source": [
    "Выделим целевую переменную"
   ]
  },
  {
   "cell_type": "code",
   "execution_count": 12,
   "id": "5367182b",
   "metadata": {},
   "outputs": [
    {
     "data": {
      "text/plain": [
       "window_non-float_glass    76\n",
       "window_float_glass        70\n",
       "vehicle_headlamp_glass    29\n",
       "vehicle_glass             17\n",
       "containers                13\n",
       "tableware                  9\n",
       "Name: type, dtype: int64"
      ]
     },
     "execution_count": 12,
     "metadata": {},
     "output_type": "execute_result"
    }
   ],
   "source": [
    "df.target.value_counts()"
   ]
  },
  {
   "cell_type": "markdown",
   "id": "072b1c33",
   "metadata": {},
   "source": [
    "Изменяем занчения на числа от 1 до 6"
   ]
  },
  {
   "cell_type": "code",
   "execution_count": 17,
   "id": "bf8f998e",
   "metadata": {},
   "outputs": [],
   "source": [
    "y = df.target.replace( 'window_non-float_glass', 1).replace('window_float_glass', 2).replace('vehicle_headlamp_glass', 3).replace('vehicle_glass', 4).replace('containers', 5).replace( 'tableware', 6)"
   ]
  },
  {
   "cell_type": "code",
   "execution_count": 18,
   "id": "c3dc220f",
   "metadata": {},
   "outputs": [
    {
     "data": {
      "text/plain": [
       "0      2\n",
       "1      2\n",
       "2      2\n",
       "3      2\n",
       "4      2\n",
       "      ..\n",
       "209    3\n",
       "210    3\n",
       "211    3\n",
       "212    3\n",
       "213    3\n",
       "Name: type, Length: 214, dtype: category\n",
       "Categories (6, int64): [5, 6, 4, 3, 2, 1]"
      ]
     },
     "execution_count": 18,
     "metadata": {},
     "output_type": "execute_result"
    }
   ],
   "source": [
    "y"
   ]
  },
  {
   "cell_type": "markdown",
   "id": "03559656",
   "metadata": {},
   "source": [
    "Создадим экземпляр класса LinearRegression"
   ]
  },
  {
   "cell_type": "code",
   "execution_count": 19,
   "id": "c2960ed4",
   "metadata": {},
   "outputs": [],
   "source": [
    "model = LinearRegression()"
   ]
  },
  {
   "cell_type": "markdown",
   "id": "d18ee757",
   "metadata": {},
   "source": [
    "Обучим созданную модель на имеющихся у нас данных:"
   ]
  },
  {
   "cell_type": "code",
   "execution_count": 20,
   "id": "df664f7b",
   "metadata": {},
   "outputs": [
    {
     "data": {
      "text/plain": [
       "LinearRegression()"
      ]
     },
     "execution_count": 20,
     "metadata": {},
     "output_type": "execute_result"
    }
   ],
   "source": [
    "model.fit(X, y)"
   ]
  },
  {
   "cell_type": "markdown",
   "id": "1940d8f0",
   "metadata": {},
   "source": [
    "### 8. Измерьте эффективность данной модели и сделайте вывод о ее применимости на практике.\n"
   ]
  },
  {
   "cell_type": "markdown",
   "id": "88188312",
   "metadata": {},
   "source": [
    "Теперь можно построить по полученной модели прогноз. Для этого передадим в соответствующий метод нашу матрицу признаков:"
   ]
  },
  {
   "cell_type": "code",
   "execution_count": 37,
   "id": "450d9808",
   "metadata": {},
   "outputs": [],
   "source": [
    "y_pred = model.predict(X).astype(int)"
   ]
  },
  {
   "cell_type": "code",
   "execution_count": 38,
   "id": "c638ce24",
   "metadata": {},
   "outputs": [
    {
     "data": {
      "text/plain": [
       "array([1, 2, 2, 1, 1, 1, 2, 1, 2, 1, 1, 1, 1, 1, 1, 1, 1, 2, 2, 1, 1, 2,\n",
       "       1, 1, 2, 2, 1, 1, 1, 1, 1, 1, 1, 1, 1, 2, 2, 1, 2, 2, 1, 1, 2, 2,\n",
       "       1, 2, 1, 1, 1, 2, 1, 2, 2, 2, 2, 1, 2, 1, 2, 1, 1, 2, 1, 2, 1, 1,\n",
       "       1, 1, 1, 1, 2, 1, 1, 2, 2, 2, 2, 1, 2, 1, 1, 2, 2, 1, 2, 2, 2, 2,\n",
       "       1, 1, 1, 1, 1, 2, 1, 1, 1, 1, 1, 2, 1, 1, 1, 2, 2, 2, 0, 2, 3, 3,\n",
       "       2, 2, 2, 1, 1, 1, 1, 2, 1, 2, 1, 1, 1, 2, 1, 1, 1, 2, 2, 2, 3, 3,\n",
       "       1, 1, 1, 1, 1, 1, 1, 1, 2, 1, 1, 1, 2, 1, 2, 2, 2, 1, 1, 2, 2, 2,\n",
       "       2, 2, 2, 2, 2, 2, 2, 1, 1, 2, 2, 1, 1, 3, 3, 3, 3, 4, 4, 3, 1, 2,\n",
       "       2, 2, 3, 2, 3, 3, 3, 3, 4, 2, 1, 1, 3, 2, 2, 3, 3, 3, 3, 3, 3, 3,\n",
       "       3, 3, 3, 3, 3, 3, 3, 3, 3, 2, 3, 3, 3, 2, 3, 3])"
      ]
     },
     "execution_count": 38,
     "metadata": {},
     "output_type": "execute_result"
    }
   ],
   "source": [
    "y_pred"
   ]
  },
  {
   "cell_type": "markdown",
   "id": "9c107dff",
   "metadata": {},
   "source": [
    "Сравним предсказанные значения с имеющимеся y:"
   ]
  },
  {
   "cell_type": "code",
   "execution_count": 39,
   "id": "48bed746",
   "metadata": {},
   "outputs": [
    {
     "data": {
      "text/html": [
       "<div>\n",
       "<style scoped>\n",
       "    .dataframe tbody tr th:only-of-type {\n",
       "        vertical-align: middle;\n",
       "    }\n",
       "\n",
       "    .dataframe tbody tr th {\n",
       "        vertical-align: top;\n",
       "    }\n",
       "\n",
       "    .dataframe thead th {\n",
       "        text-align: right;\n",
       "    }\n",
       "</style>\n",
       "<table border=\"1\" class=\"dataframe\">\n",
       "  <thead>\n",
       "    <tr style=\"text-align: right;\">\n",
       "      <th></th>\n",
       "      <th>0</th>\n",
       "    </tr>\n",
       "    <tr>\n",
       "      <th>type</th>\n",
       "      <th></th>\n",
       "    </tr>\n",
       "  </thead>\n",
       "  <tbody>\n",
       "    <tr>\n",
       "      <th>2</th>\n",
       "      <td>1</td>\n",
       "    </tr>\n",
       "    <tr>\n",
       "      <th>2</th>\n",
       "      <td>2</td>\n",
       "    </tr>\n",
       "    <tr>\n",
       "      <th>2</th>\n",
       "      <td>2</td>\n",
       "    </tr>\n",
       "    <tr>\n",
       "      <th>2</th>\n",
       "      <td>1</td>\n",
       "    </tr>\n",
       "    <tr>\n",
       "      <th>2</th>\n",
       "      <td>1</td>\n",
       "    </tr>\n",
       "    <tr>\n",
       "      <th>...</th>\n",
       "      <td>...</td>\n",
       "    </tr>\n",
       "    <tr>\n",
       "      <th>3</th>\n",
       "      <td>3</td>\n",
       "    </tr>\n",
       "    <tr>\n",
       "      <th>3</th>\n",
       "      <td>3</td>\n",
       "    </tr>\n",
       "    <tr>\n",
       "      <th>3</th>\n",
       "      <td>2</td>\n",
       "    </tr>\n",
       "    <tr>\n",
       "      <th>3</th>\n",
       "      <td>3</td>\n",
       "    </tr>\n",
       "    <tr>\n",
       "      <th>3</th>\n",
       "      <td>3</td>\n",
       "    </tr>\n",
       "  </tbody>\n",
       "</table>\n",
       "<p>214 rows × 1 columns</p>\n",
       "</div>"
      ],
      "text/plain": [
       "      0\n",
       "type   \n",
       "2     1\n",
       "2     2\n",
       "2     2\n",
       "2     1\n",
       "2     1\n",
       "...  ..\n",
       "3     3\n",
       "3     3\n",
       "3     2\n",
       "3     3\n",
       "3     3\n",
       "\n",
       "[214 rows x 1 columns]"
      ]
     },
     "execution_count": 39,
     "metadata": {},
     "output_type": "execute_result"
    }
   ],
   "source": [
    "pd.DataFrame(y_pred,y)"
   ]
  },
  {
   "cell_type": "markdown",
   "id": "18e70004",
   "metadata": {},
   "source": [
    "количество неверно предсказанных"
   ]
  },
  {
   "cell_type": "code",
   "execution_count": 40,
   "id": "49f93877",
   "metadata": {},
   "outputs": [
    {
     "data": {
      "text/plain": [
       "125"
      ]
     },
     "execution_count": 40,
     "metadata": {},
     "output_type": "execute_result"
    }
   ],
   "source": [
    "(y_pred != y).sum()"
   ]
  },
  {
   "cell_type": "markdown",
   "id": "50e9f266",
   "metadata": {},
   "source": [
    "модель работает плохо, так как больше половины значений неверно предсказанны"
   ]
  },
  {
   "cell_type": "markdown",
   "id": "46949d0f",
   "metadata": {},
   "source": [
    "Оценим качество построенной модели с помощью отчета о классификации и матрицы классификации."
   ]
  },
  {
   "cell_type": "markdown",
   "id": "f5efb3d6",
   "metadata": {},
   "source": [
    "Матрица классификации"
   ]
  },
  {
   "cell_type": "code",
   "execution_count": 56,
   "id": "b5953a5d",
   "metadata": {},
   "outputs": [
    {
     "data": {
      "text/plain": [
       "array([[ 0,  0,  0,  0,  0,  0,  0],\n",
       "       [ 1, 42, 29,  4,  0,  0,  0],\n",
       "       [ 0, 45, 25,  0,  0,  0,  0],\n",
       "       [ 0,  2,  5, 22,  0,  0,  0],\n",
       "       [ 0,  4, 13,  0,  0,  0,  0],\n",
       "       [ 0,  3,  3,  5,  2,  0,  0],\n",
       "       [ 0,  0,  3,  5,  1,  0,  0]], dtype=int64)"
      ]
     },
     "execution_count": 56,
     "metadata": {},
     "output_type": "execute_result"
    }
   ],
   "source": [
    "metrics.confusion_matrix(y, y_pred)"
   ]
  },
  {
   "cell_type": "markdown",
   "id": "85808ac4",
   "metadata": {},
   "source": [
    "Расчет этой метрики встроен в сам объект модели и доступен с помощью специального метода:"
   ]
  },
  {
   "cell_type": "code",
   "execution_count": 61,
   "id": "763d20ae",
   "metadata": {},
   "outputs": [
    {
     "data": {
      "text/plain": [
       "0.2670591086798103"
      ]
     },
     "execution_count": 61,
     "metadata": {},
     "output_type": "execute_result"
    }
   ],
   "source": [
    "model.score(X, y)"
   ]
  },
  {
   "cell_type": "code",
   "execution_count": 62,
   "id": "cc8280bb",
   "metadata": {},
   "outputs": [
    {
     "name": "stdout",
     "output_type": "stream",
     "text": [
      "              precision    recall  f1-score   support\n",
      "\n",
      "           0       0.00      0.00      0.00         0\n",
      "           1       0.44      0.55      0.49        76\n",
      "           2       0.32      0.36      0.34        70\n",
      "           3       0.61      0.76      0.68        29\n",
      "           4       0.00      0.00      0.00        17\n",
      "           5       0.00      0.00      0.00        13\n",
      "           6       0.00      0.00      0.00         9\n",
      "\n",
      "    accuracy                           0.42       214\n",
      "   macro avg       0.20      0.24      0.21       214\n",
      "weighted avg       0.34      0.42      0.38       214\n",
      "\n"
     ]
    },
    {
     "name": "stderr",
     "output_type": "stream",
     "text": [
      "C:\\ProgramData\\Anaconda3\\lib\\site-packages\\sklearn\\metrics\\_classification.py:1318: UndefinedMetricWarning: Precision and F-score are ill-defined and being set to 0.0 in labels with no predicted samples. Use `zero_division` parameter to control this behavior.\n",
      "  _warn_prf(average, modifier, msg_start, len(result))\n",
      "C:\\ProgramData\\Anaconda3\\lib\\site-packages\\sklearn\\metrics\\_classification.py:1318: UndefinedMetricWarning: Recall and F-score are ill-defined and being set to 0.0 in labels with no true samples. Use `zero_division` parameter to control this behavior.\n",
      "  _warn_prf(average, modifier, msg_start, len(result))\n",
      "C:\\ProgramData\\Anaconda3\\lib\\site-packages\\sklearn\\metrics\\_classification.py:1318: UndefinedMetricWarning: Precision and F-score are ill-defined and being set to 0.0 in labels with no predicted samples. Use `zero_division` parameter to control this behavior.\n",
      "  _warn_prf(average, modifier, msg_start, len(result))\n",
      "C:\\ProgramData\\Anaconda3\\lib\\site-packages\\sklearn\\metrics\\_classification.py:1318: UndefinedMetricWarning: Recall and F-score are ill-defined and being set to 0.0 in labels with no true samples. Use `zero_division` parameter to control this behavior.\n",
      "  _warn_prf(average, modifier, msg_start, len(result))\n",
      "C:\\ProgramData\\Anaconda3\\lib\\site-packages\\sklearn\\metrics\\_classification.py:1318: UndefinedMetricWarning: Precision and F-score are ill-defined and being set to 0.0 in labels with no predicted samples. Use `zero_division` parameter to control this behavior.\n",
      "  _warn_prf(average, modifier, msg_start, len(result))\n",
      "C:\\ProgramData\\Anaconda3\\lib\\site-packages\\sklearn\\metrics\\_classification.py:1318: UndefinedMetricWarning: Recall and F-score are ill-defined and being set to 0.0 in labels with no true samples. Use `zero_division` parameter to control this behavior.\n",
      "  _warn_prf(average, modifier, msg_start, len(result))\n"
     ]
    }
   ],
   "source": [
    "print(metrics.classification_report(y, y_pred))"
   ]
  },
  {
   "cell_type": "markdown",
   "id": "3dc83057",
   "metadata": {},
   "source": [
    "модель работает довольно плохо"
   ]
  },
  {
   "cell_type": "markdown",
   "id": "0b7eccaa",
   "metadata": {},
   "source": [
    "### 9. Визуализируйте результаты моделирования, сравните реальные и предсказанные значения.\n"
   ]
  },
  {
   "cell_type": "markdown",
   "id": "f915c94b",
   "metadata": {},
   "source": [
    "Гораздо удобнее анализировать информацию в графическом виде"
   ]
  },
  {
   "cell_type": "code",
   "execution_count": 42,
   "id": "c1fc2152",
   "metadata": {},
   "outputs": [
    {
     "data": {
      "image/png": "[encoded data removed]",
      "text/plain": [
       "<Figure size 432x288 with 2 Axes>"
      ]
     },
     "metadata": {
      "needs_background": "light"
     },
     "output_type": "display_data"
    }
   ],
   "source": [
    "sns.heatmap(metrics.confusion_matrix(y, y_pred), annot=True)\n",
    "plt.title('матрица классификации')\n",
    "plt.ylabel('Действительные значения')\n",
    "plt.xlabel('Предсказанные значения')\n",
    "plt.show()"
   ]
  },
  {
   "cell_type": "markdown",
   "id": "2b0d500f",
   "metadata": {},
   "source": [
    "можель работает плохо"
   ]
  },
  {
   "cell_type": "markdown",
   "id": "cd8d6d52",
   "metadata": {},
   "source": [
    "### 10. Используйте несколько простых моделей машинного обучения. Сравните их эффективность между собой.\n"
   ]
  },
  {
   "cell_type": "code",
   "execution_count": null,
   "id": "1c4b4f45",
   "metadata": {},
   "outputs": [],
   "source": []
  }
 ],
 "metadata": {
  "kernelspec": {
   "display_name": "Python 3 (ipykernel)",
   "language": "python",
   "name": "python3"
  },
  "language_info": {
   "codemirror_mode": {
    "name": "ipython",
    "version": 3
   },
   "file_extension": ".py",
   "mimetype": "text/x-python",
   "name": "python",
   "nbconvert_exporter": "python",
   "pygments_lexer": "ipython3",
   "version": "3.9.7"
  }
 },
 "nbformat": 4,
 "nbformat_minor": 5
}
