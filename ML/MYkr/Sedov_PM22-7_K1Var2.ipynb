{
 "cells": [
  {
   "cell_type": "markdown",
   "metadata": {},
   "source": [
    "# Седов Николай ПМ22-7 Вариант 2"
   ]
  },
  {
   "cell_type": "code",
   "execution_count": 13,
   "metadata": {},
   "outputs": [],
   "source": [
    "import numpy as np\n",
    "import pandas as pd\n",
    "import matplotlib.pyplot as plt\n",
    "import seaborn as sns\n",
    "from sklearn.datasets import fetch_openml\n",
    "from sklearn.preprocessing import StandardScaler\n",
    "from sklearn.linear_model import LinearRegression"
   ]
  },
  {
   "cell_type": "code",
   "execution_count": 14,
   "metadata": {},
   "outputs": [
    {
     "name": "stdout",
     "output_type": "stream",
     "text": [
      "Датасет успешно загружен и сохранен в локальные файлы.\n"
     ]
    },
    {
     "name": "stderr",
     "output_type": "stream",
     "text": [
      "c:\\Users\\nsedoff\\AppData\\Local\\Programs\\Python\\Python311\\Lib\\site-packages\\sklearn\\datasets\\_openml.py:1002: FutureWarning: The default value of `parser` will change from `'liac-arff'` to `'auto'` in 1.4. You can set `parser='auto'` to silence this warning. Therefore, an `ImportError` will be raised from 1.4 if the dataset is dense and pandas is not installed. Note that the pandas parser may return different data types. See the Notes Section in fetch_openml's API doc for details.\n",
      "  warn(\n"
     ]
    }
   ],
   "source": [
    "\n",
    "\n",
    "# Загрузка датасета \"ERA\"\n",
    "dataset = fetch_openml(name='ERA', version='active')\n",
    "\n",
    "# Получение данных и меток\n",
    "X, y = dataset.data, dataset.target\n",
    "\n",
    "# Сохранение данных и меток в CSV-файлы\n",
    "X.to_csv('ERA_data.csv', index=False)\n",
    "y.to_csv('ERA_target.csv', index=False)\n",
    "\n",
    "print(\"Датасет успешно загружен и сохранен в локальные файлы.\")\n"
   ]
  },
  {
   "cell_type": "markdown",
   "metadata": {},
   "source": [
    "# Задание 2: Основная статистическая информация о данных"
   ]
  },
  {
   "cell_type": "code",
   "execution_count": 15,
   "metadata": {},
   "outputs": [
    {
     "name": "stdout",
     "output_type": "stream",
     "text": [
      "\n",
      "Информация о датасете:\n",
      "**Author**:   \n",
      "**Source**: Unknown - Date unknown  \n",
      "**Please cite**:   \n",
      "\n",
      "1. Title: Employee Rejection\\Acceptance  (Orinal ERA)\n",
      "\n",
      "2. Source Informaion:\n",
      "Donor: Arie Ben David\n",
      "MIS, Dept. of Technology Management\n",
      "Holon Academic Inst. of Technology\n",
      "52 Golomb St.\n",
      "Holon 58102\n",
      "Israel\n",
      "abendav@hait.ac.il\n",
      "Owner: Yoav Ganzah\n",
      "Business Administration School\n",
      "Tel Aviv Univerity\n",
      "Ramat Aviv 69978\n",
      "Israel\n",
      "\n",
      "3. Past Usage:\n",
      "\n",
      "4. Relevant Information\n",
      "The ERA data set was originally gathered during an academic decision-making\n",
      "experiment aiming at determining which are the most important qualities of\n",
      "candidates for a certain type of jobs. Unlike the ESL data set (enclosed)\n",
      "which was collected from expert recruiters, this data set was collected\n",
      "during a MBA academic course.\n",
      "The input in the data set are features of a candidates such as past\n",
      "experience, verbal skills, etc., and the output is the subjective judgment of\n",
      "a decision-maker to which degree he or she tends to accept the applicant to\n",
      "the job or to reject him altogether (the lowest score means total tendency to\n",
      "reject an applicant and vice versa).\n",
      "\n",
      "5. Number of Instances: 1000\n",
      "\n",
      "6. Number of Attributes: 4 input, 1 output.\n",
      "\n",
      "7. Attribute Information: All input and output values are ORDINAL.\n",
      "\n",
      "8. Missing Attribute Values: None.\n",
      "\n",
      "9. Class Distribution:\n",
      "\n",
      "Downloaded from openml.org.\n",
      "\n",
      "Основная статистическая информация о X:\n",
      "               in1          in2          in3          in4\n",
      "count  1000.000000  1000.000000  1000.000000  1000.000000\n",
      "mean      7.782000     6.516000     6.762000     6.373000\n",
      "std       4.595388     3.797389     3.588626     4.560775\n",
      "min       0.000000     0.000000     0.000000     0.000000\n",
      "25%       3.000000     3.000000     4.000000     2.000000\n",
      "50%       9.000000     6.000000     6.000000     6.000000\n",
      "75%      12.000000    10.000000    10.000000    10.000000\n",
      "max      14.000000    14.000000    13.000000    14.000000\n",
      "\n",
      "Основная статистическая информация о y:\n",
      "count    1000.000000\n",
      "mean        4.131000\n",
      "std         1.982869\n",
      "min         1.000000\n",
      "25%         3.000000\n",
      "50%         4.000000\n",
      "75%         6.000000\n",
      "max         9.000000\n",
      "Name: out1, dtype: float64\n"
     ]
    }
   ],
   "source": [
    "    # Вывод основной статистической информации о данных\n",
    "print(\"\\nИнформация о датасете:\")\n",
    "print(dataset.DESCR)\n",
    "print(\"\\nОсновная статистическая информация о X:\")\n",
    "print(X.describe())\n",
    "print(\"\\nОсновная статистическая информация о y:\")\n",
    "print(y.describe())\n"
   ]
  },
  {
   "cell_type": "markdown",
   "metadata": {},
   "source": [
    "# Задание 3: Типы данных каждого признака и целевой переменной"
   ]
  },
  {
   "cell_type": "code",
   "execution_count": 16,
   "metadata": {},
   "outputs": [
    {
     "name": "stdout",
     "output_type": "stream",
     "text": [
      "Типы данных признаков и целевой переменной:\n",
      "in1       float64\n",
      "in2       float64\n",
      "in3       float64\n",
      "in4       float64\n",
      "target    float64\n",
      "dtype: object\n",
      "\n",
      "Нечисловые колонки: Index([], dtype='object')\n",
      "\n",
      "Типы данных после удаления нечисловых колонок:\n",
      " in1       float64\n",
      "in2       float64\n",
      "in3       float64\n",
      "in4       float64\n",
      "target    float64\n",
      "dtype: object\n"
     ]
    }
   ],
   "source": [
    "# Загрузка данных\n",
    "data = X  # Укажите правильный путь к файлу данных\n",
    "target = y  # Укажите правильный путь к файлу целевой переменной\n",
    "\n",
    "# Добавление целевой переменной в датасет\n",
    "data['target'] = target\n",
    "\n",
    "# Вывод типов данных признаков и целевой переменной\n",
    "print(\"Типы данных признаков и целевой переменной:\")\n",
    "print(data.dtypes)\n",
    "\n",
    "# Поиск нечисловых колонок\n",
    "non_numeric_columns = data.select_dtypes(exclude=[np.number]).columns\n",
    "print(\"\\nНечисловые колонки:\", non_numeric_columns)\n",
    "\n",
    "# Удаление нечисловых колонок\n",
    "data = data.drop(columns=non_numeric_columns)\n",
    "\n",
    "# Вывод типов данных после удаления нечисловых колонок\n",
    "print(\"\\nТипы данных после удаления нечисловых колонок:\\n\", data.dtypes)\n"
   ]
  },
  {
   "cell_type": "markdown",
   "metadata": {},
   "source": [
    "# Задание 4: Обработка пропущенных значений\n"
   ]
  },
  {
   "cell_type": "code",
   "execution_count": 17,
   "metadata": {},
   "outputs": [
    {
     "name": "stdout",
     "output_type": "stream",
     "text": [
      "Количество пропущенных значений до обработки:\n",
      "in1       0\n",
      "in2       0\n",
      "in3       0\n",
      "in4       0\n",
      "target    0\n",
      "dtype: int64\n",
      "\n",
      "Количество пропущенных значений после обработки:\n",
      "in1       0\n",
      "in2       0\n",
      "in3       0\n",
      "in4       0\n",
      "target    0\n",
      "dtype: int64\n"
     ]
    }
   ],
   "source": [
    "\n",
    "# Загрузка данных\n",
    "data = X  # Укажите правильный путь к файлу данных\n",
    "target = y  # Укажите правильный путь к файлу целевой переменной\n",
    "\n",
    "# Добавление целевой переменной в датасет\n",
    "data['target'] = target\n",
    "\n",
    "# Проверка на наличие пропущенных значений\n",
    "print(\"Количество пропущенных значений до обработки:\")\n",
    "print(data.isnull().sum())\n",
    "\n",
    "# Заполнение пропущенных значений медианными значениями\n",
    "data = data.fillna(data.median())\n",
    "\n",
    "# Проверка на наличие пропущенных значений после обработки\n",
    "print(\"\\nКоличество пропущенных значений после обработки:\")\n",
    "print(data.isnull().sum())\n"
   ]
  },
  {
   "cell_type": "markdown",
   "metadata": {},
   "source": [
    "# Задание 5: Гистограмма распределения целевой переменной"
   ]
  },
  {
   "cell_type": "code",
   "execution_count": 18,
   "metadata": {},
   "outputs": [
    {
     "data": {
      "image/png": "[encoded data removed]",
      "text/plain": [
       "<Figure size 1000x600 with 1 Axes>"
      ]
     },
     "metadata": {},
     "output_type": "display_data"
    },
    {
     "name": "stdout",
     "output_type": "stream",
     "text": [
      "\n",
      "Пояснение к распределению:\n",
      "Гистограмма показывает распределение целевой переменной. По графику можно предположить, что распределение близко к нормальному, однако, возможно, имеются некоторые асимметрия и выбросы. Для более точной оценки проведем доп. анализ.\n",
      "\n",
      "Результат анализа QQ-plot:\n",
      "Наклон (slope): 1.94\n",
      "Пересечение (intercept): 4.13\n",
      "Коэффициент корреляции (r): 0.98\n",
      "Распределение вероятно нормальное.\n"
     ]
    }
   ],
   "source": [
    "import scipy.stats as stats\n",
    "\n",
    "# Построение гистограммы распределения целевой переменной\n",
    "plt.figure(figsize=(10, 6))\n",
    "\n",
    "# Убедимся, что y является одномерным массивом\n",
    "if isinstance(y, pd.DataFrame):\n",
    "    y = y.iloc[:, 0]\n",
    "\n",
    "sns.histplot(y, bins=30, kde=True)\n",
    "plt.title('Гистограмма распределения целевой переменной')\n",
    "plt.xlabel('Значение')\n",
    "plt.ylabel('Частота')\n",
    "plt.grid(True)\n",
    "plt.show()\n",
    "\n",
    "# Пояснение к распределению\n",
    "print(\"\\nПояснение к распределению:\")\n",
    "print(\"Гистограмма показывает распределение целевой переменной. По графику можно предположить, что распределение близко к нормальному, однако, возможно, имеются некоторые асимметрия и выбросы. Для более точной оценки проведем доп. анализ.\")\n",
    "\n",
    "# Анализ QQ-plot\n",
    "_, (slope, intercept, r) = stats.probplot(y, plot=None)\n",
    "print(\"\\nРезультат анализа QQ-plot:\")\n",
    "print(f\"Наклон (slope): {slope:.2f}\")\n",
    "print(f\"Пересечение (intercept): {intercept:.2f}\")\n",
    "print(f\"Коэффициент корреляции (r): {r:.2f}\")\n",
    "\n",
    "if r > 0.99:\n",
    "    print(\"Распределение близко к нормальному.\")\n",
    "elif r > 0.95:\n",
    "    print(\"Распределение вероятно нормальное.\")\n",
    "else:\n",
    "    print(\"Распределение отличается от нормального.\")\n"
   ]
  },
  {
   "cell_type": "markdown",
   "metadata": {},
   "source": [
    "# Задание 6: Обучение модели линейной регрессии (своей реализацией)"
   ]
  },
  {
   "cell_type": "code",
   "execution_count": 19,
   "metadata": {},
   "outputs": [
    {
     "data": {
      "image/png": "[encoded data removed]",
      "text/plain": [
       "<Figure size 1200x500 with 2 Axes>"
      ]
     },
     "metadata": {},
     "output_type": "display_data"
    },
    {
     "name": "stdout",
     "output_type": "stream",
     "text": [
      "\n",
      "Уравнение гиперплоскости (собственная реализация):\n",
      "y = 4.13 + 0.00x1 + 0.00x2 + -0.00x3 + -0.00x4\n"
     ]
    }
   ],
   "source": [
    "# Класс модели линейной регрессии\n",
    "class LinearRegressionCustom:\n",
    "    def __init__(self):\n",
    "        self.b0 = 0\n",
    "        self.bs = []\n",
    "\n",
    "    def predict(self, X):\n",
    "        X = np.array(X)\n",
    "        bs = np.array(self.bs)\n",
    "        return self.b0 + np.dot(X, bs)\n",
    "\n",
    "    def error(self, X, Y):\n",
    "        Y_pred = self.predict(X)\n",
    "        return np.sum((Y_pred - Y) ** 2) / (2 * len(Y))\n",
    "\n",
    "    def fit(self, X, Y, alpha=0.001, accuracy=0.000001, max_steps=10000):\n",
    "        Y = np.array(Y)\n",
    "        steps, errors = [], []\n",
    "        step = 0\n",
    "        self.bs = [0] * X.shape[1]\n",
    "        \n",
    "        for _ in range(max_steps):\n",
    "            dJ0 = np.sum(self.predict(X) - Y) / len(X)\n",
    "            self.b0 -= alpha * dJ0\n",
    "            \n",
    "            for i in range(len(self.bs)):\n",
    "                dJi = np.sum((self.predict(X) - Y) * X[:, i]) / len(Y)\n",
    "                self.bs[i] -= alpha * dJi\n",
    "            \n",
    "            new_err = self.error(X, Y)\n",
    "            step += 1\n",
    "            steps.append(step)\n",
    "            errors.append(new_err)\n",
    "            \n",
    "            if step > 1:\n",
    "                if abs(errors[-2] - errors[-1]) < accuracy:\n",
    "                    break\n",
    "                if errors[-1] - errors[-2] > 0:\n",
    "                    alpha /= 2\n",
    "\n",
    "        return steps, errors\n",
    "    \n",
    "    def graph(self, X, Y, alpha=0.001, accuracy=0.000001, max_steps=10000):\n",
    "        steps, errors = self.fit(X, Y, alpha, accuracy, max_steps)\n",
    "        plt.figure(figsize=(12, 5))\n",
    "        \n",
    "        plt.subplot(1, 2, 1)\n",
    "        plt.plot(steps, errors, 'g')\n",
    "        plt.title('График обучения')\n",
    "        plt.xlabel('Шаги')\n",
    "        plt.ylabel('Ошибка')\n",
    "        \n",
    "        plt.subplot(1, 2, 2)\n",
    "        plt.hist(Y, bins=30, edgecolor='k')\n",
    "        plt.title('Распределение целевой переменной')\n",
    "        plt.xlabel('Значение')\n",
    "        plt.ylabel('Частота')\n",
    "\n",
    "        plt.tight_layout()\n",
    "        plt.show()\n",
    "\n",
    "# Загрузка данных\n",
    "data = pd.read_csv('ERA_data.csv')\n",
    "target = pd.read_csv('ERA_target.csv')\n",
    "\n",
    "# Добавление целевой переменной в датасет\n",
    "data['target'] = target\n",
    "\n",
    "# Проверка на наличие нечисловых колонок и их удаление\n",
    "non_numeric_columns = data.select_dtypes(exclude=[np.number]).columns\n",
    "data = data.drop(columns=non_numeric_columns)\n",
    "\n",
    "# Заполнение пропущенных значений медианными значениями\n",
    "data = data.fillna(data.median())\n",
    "\n",
    "# Разделение данных на признаки и целевую переменную\n",
    "X = data.drop(columns='target')\n",
    "y = data[['target']]\n",
    "\n",
    "# Масштабирование данных\n",
    "scaler = StandardScaler()\n",
    "X_scaled = scaler.fit_transform(X)\n",
    "\n",
    "# Обучение модели линейной регрессии\n",
    "model = LinearRegressionCustom()\n",
    "model.graph(X_scaled, y.values)\n",
    "\n",
    "# Вывод уравнения гиперплоскости\n",
    "weights = model.bs\n",
    "bias = model.b0\n",
    "print(\"\\nУравнение гиперплоскости (собственная реализация):\")\n",
    "print(\"y = {:.2f} + {:.2f}x1 + {:.2f}x2 + {:.2f}x3 + {:.2f}x4\".format(bias, *weights))"
   ]
  },
  {
   "cell_type": "markdown",
   "metadata": {},
   "source": [
    "# Задание 7: Обучение модели линейной регрессии (sklearn)"
   ]
  },
  {
   "cell_type": "code",
   "execution_count": 21,
   "metadata": {},
   "outputs": [
    {
     "name": "stdout",
     "output_type": "stream",
     "text": [
      "\n",
      "Уравнение гиперплоскости (sklearn):\n",
      "y = 4.13 + 0.71x1 + 0.91x2 + 0.43x3 + 0.24x4\n"
     ]
    }
   ],
   "source": [
    "\n",
    "# Обучение модели линейной регрессии из sklearn\n",
    "lin_reg_sklearn = LinearRegression()\n",
    "lin_reg_sklearn.fit(X_scaled, y.values)\n",
    "\n",
    "# Вывод уравнения гиперплоскости (sklearn)\n",
    "weights_sklearn = lin_reg_sklearn.coef_.flatten()  # Преобразование в одномерный массив\n",
    "bias_sklearn = lin_reg_sklearn.intercept_[0]  # Извлечение скалярного значения\n",
    "print(\"\\nУравнение гиперплоскости (sklearn):\")\n",
    "print(\"y = {:.2f} + {:.2f}x1 + {:.2f}x2 + {:.2f}x3 + {:.2f}x4\".format(bias_sklearn, *weights_sklearn))\n"
   ]
  },
  {
   "cell_type": "markdown",
   "metadata": {},
   "source": []
  }
 ],
 "metadata": {
  "kernelspec": {
   "display_name": "Python 3",
   "language": "python",
   "name": "python3"
  },
  "language_info": {
   "codemirror_mode": {
    "name": "ipython",
    "version": 3
   },
   "file_extension": ".py",
   "mimetype": "text/x-python",
   "name": "python",
   "nbconvert_exporter": "python",
   "pygments_lexer": "ipython3",
   "version": "3.11.4"
  }
 },
 "nbformat": 4,
 "nbformat_minor": 2
}
