{
 "cells": [
  {
   "cell_type": "code",
   "execution_count": 3,
   "metadata": {},
   "outputs": [],
   "source": [
    "import pandas as pd\n",
    "import numpy as np\n",
    "import seaborn as sns"
   ]
  },
  {
   "cell_type": "code",
   "execution_count": 5,
   "metadata": {},
   "outputs": [
    {
     "data": {
      "text/html": [
       "<div>\n",
       "<style scoped>\n",
       "    .dataframe tbody tr th:only-of-type {\n",
       "        vertical-align: middle;\n",
       "    }\n",
       "\n",
       "    .dataframe tbody tr th {\n",
       "        vertical-align: top;\n",
       "    }\n",
       "\n",
       "    .dataframe thead th {\n",
       "        text-align: right;\n",
       "    }\n",
       "</style>\n",
       "<table border=\"1\" class=\"dataframe\">\n",
       "  <thead>\n",
       "    <tr style=\"text-align: right;\">\n",
       "      <th></th>\n",
       "      <th>Unnamed: 0</th>\n",
       "      <th>No</th>\n",
       "      <th>SO2</th>\n",
       "      <th>NO2</th>\n",
       "      <th>CO</th>\n",
       "      <th>O3</th>\n",
       "      <th>PRES</th>\n",
       "      <th>RAIN</th>\n",
       "      <th>wd</th>\n",
       "      <th>WSPM</th>\n",
       "      <th>AQI Label</th>\n",
       "    </tr>\n",
       "  </thead>\n",
       "  <tbody>\n",
       "    <tr>\n",
       "      <th>0</th>\n",
       "      <td>0</td>\n",
       "      <td>1</td>\n",
       "      <td>6.0</td>\n",
       "      <td>28.0</td>\n",
       "      <td>400.0</td>\n",
       "      <td>51.577659</td>\n",
       "      <td>1023.0</td>\n",
       "      <td>0.0</td>\n",
       "      <td>NNW</td>\n",
       "      <td>4.4</td>\n",
       "      <td>Severely Polluted</td>\n",
       "    </tr>\n",
       "    <tr>\n",
       "      <th>1</th>\n",
       "      <td>1</td>\n",
       "      <td>2</td>\n",
       "      <td>6.0</td>\n",
       "      <td>28.0</td>\n",
       "      <td>400.0</td>\n",
       "      <td>50.403851</td>\n",
       "      <td>1023.2</td>\n",
       "      <td>0.0</td>\n",
       "      <td>N</td>\n",
       "      <td>4.7</td>\n",
       "      <td>Severely Polluted</td>\n",
       "    </tr>\n",
       "    <tr>\n",
       "      <th>2</th>\n",
       "      <td>2</td>\n",
       "      <td>3</td>\n",
       "      <td>-1.0</td>\n",
       "      <td>19.0</td>\n",
       "      <td>400.0</td>\n",
       "      <td>54.923321</td>\n",
       "      <td>1023.5</td>\n",
       "      <td>0.0</td>\n",
       "      <td>NNW</td>\n",
       "      <td>5.6</td>\n",
       "      <td>Severely Polluted</td>\n",
       "    </tr>\n",
       "    <tr>\n",
       "      <th>3</th>\n",
       "      <td>3</td>\n",
       "      <td>4</td>\n",
       "      <td>8.0</td>\n",
       "      <td>14.0</td>\n",
       "      <td>-1.0</td>\n",
       "      <td>-1.000000</td>\n",
       "      <td>1024.5</td>\n",
       "      <td>0.0</td>\n",
       "      <td>NW</td>\n",
       "      <td>3.1</td>\n",
       "      <td>Excellent</td>\n",
       "    </tr>\n",
       "    <tr>\n",
       "      <th>4</th>\n",
       "      <td>4</td>\n",
       "      <td>5</td>\n",
       "      <td>9.0</td>\n",
       "      <td>-1.0</td>\n",
       "      <td>300.0</td>\n",
       "      <td>54.296608</td>\n",
       "      <td>1025.2</td>\n",
       "      <td>0.0</td>\n",
       "      <td>N</td>\n",
       "      <td>2.0</td>\n",
       "      <td>Heavily Polluted</td>\n",
       "    </tr>\n",
       "  </tbody>\n",
       "</table>\n",
       "</div>"
      ],
      "text/plain": [
       "   Unnamed: 0  No  SO2   NO2     CO         O3    PRES  RAIN   wd  WSPM  \\\n",
       "0           0   1  6.0  28.0  400.0  51.577659  1023.0   0.0  NNW   4.4   \n",
       "1           1   2  6.0  28.0  400.0  50.403851  1023.2   0.0    N   4.7   \n",
       "2           2   3 -1.0  19.0  400.0  54.923321  1023.5   0.0  NNW   5.6   \n",
       "3           3   4  8.0  14.0   -1.0  -1.000000  1024.5   0.0   NW   3.1   \n",
       "4           4   5  9.0  -1.0  300.0  54.296608  1025.2   0.0    N   2.0   \n",
       "\n",
       "           AQI Label  \n",
       "0  Severely Polluted  \n",
       "1  Severely Polluted  \n",
       "2  Severely Polluted  \n",
       "3          Excellent  \n",
       "4   Heavily Polluted  "
      ]
     },
     "execution_count": 5,
     "metadata": {},
     "output_type": "execute_result"
    }
   ],
   "source": [
    "prsa_data = pd.read_csv(\"C:\\\\Users\\\\sedof\\\\OneDrive\\\\Документы\\\\ITiABD-PM22-7-Nikolay-Sedov\\\\ML\\\\ML5.2 numeric features\\\\data\\\\PRSA_Data.csv\")\n",
    "prsa_data.head()"
   ]
  },
  {
   "cell_type": "code",
   "execution_count": 6,
   "metadata": {},
   "outputs": [
    {
     "name": "stdout",
     "output_type": "stream",
     "text": [
      "<class 'pandas.core.frame.DataFrame'>\n",
      "RangeIndex: 35064 entries, 0 to 35063\n",
      "Data columns (total 11 columns):\n",
      " #   Column      Non-Null Count  Dtype  \n",
      "---  ------      --------------  -----  \n",
      " 0   Unnamed: 0  35064 non-null  int64  \n",
      " 1   No          35064 non-null  int64  \n",
      " 2   SO2         35064 non-null  float64\n",
      " 3   NO2         35064 non-null  float64\n",
      " 4   CO          35064 non-null  float64\n",
      " 5   O3          35064 non-null  float64\n",
      " 6   PRES        35064 non-null  float64\n",
      " 7   RAIN        35064 non-null  float64\n",
      " 8   wd          35064 non-null  object \n",
      " 9   WSPM        35064 non-null  float64\n",
      " 10  AQI Label   35064 non-null  object \n",
      "dtypes: float64(7), int64(2), object(2)\n",
      "memory usage: 2.9+ MB\n"
     ]
    }
   ],
   "source": [
    "prsa_data.info()"
   ]
  },
  {
   "cell_type": "code",
   "execution_count": 8,
   "metadata": {},
   "outputs": [
    {
     "data": {
      "text/html": [
       "<div>\n",
       "<style scoped>\n",
       "    .dataframe tbody tr th:only-of-type {\n",
       "        vertical-align: middle;\n",
       "    }\n",
       "\n",
       "    .dataframe tbody tr th {\n",
       "        vertical-align: top;\n",
       "    }\n",
       "\n",
       "    .dataframe thead th {\n",
       "        text-align: right;\n",
       "    }\n",
       "</style>\n",
       "<table border=\"1\" class=\"dataframe\">\n",
       "  <thead>\n",
       "    <tr style=\"text-align: right;\">\n",
       "      <th></th>\n",
       "      <th>Unnamed: 0</th>\n",
       "      <th>No</th>\n",
       "      <th>SO2</th>\n",
       "      <th>NO2</th>\n",
       "      <th>CO</th>\n",
       "      <th>O3</th>\n",
       "      <th>PRES</th>\n",
       "      <th>RAIN</th>\n",
       "      <th>WSPM</th>\n",
       "    </tr>\n",
       "  </thead>\n",
       "  <tbody>\n",
       "    <tr>\n",
       "      <th>count</th>\n",
       "      <td>35064.000000</td>\n",
       "      <td>35064.000000</td>\n",
       "      <td>35064.000000</td>\n",
       "      <td>35064.000000</td>\n",
       "      <td>35064.000000</td>\n",
       "      <td>35064.000000</td>\n",
       "      <td>35064.000000</td>\n",
       "      <td>35064.000000</td>\n",
       "      <td>35064.000000</td>\n",
       "    </tr>\n",
       "    <tr>\n",
       "      <th>mean</th>\n",
       "      <td>17531.500000</td>\n",
       "      <td>17532.500000</td>\n",
       "      <td>18.058734</td>\n",
       "      <td>63.236861</td>\n",
       "      <td>1251.121692</td>\n",
       "      <td>45.876835</td>\n",
       "      <td>1010.520250</td>\n",
       "      <td>0.067653</td>\n",
       "      <td>1.500217</td>\n",
       "    </tr>\n",
       "    <tr>\n",
       "      <th>std</th>\n",
       "      <td>10122.249256</td>\n",
       "      <td>10122.249256</td>\n",
       "      <td>22.558126</td>\n",
       "      <td>39.109232</td>\n",
       "      <td>1269.033556</td>\n",
       "      <td>54.730861</td>\n",
       "      <td>26.289217</td>\n",
       "      <td>0.896833</td>\n",
       "      <td>1.105382</td>\n",
       "    </tr>\n",
       "    <tr>\n",
       "      <th>min</th>\n",
       "      <td>0.000000</td>\n",
       "      <td>1.000000</td>\n",
       "      <td>-1.000000</td>\n",
       "      <td>-1.000000</td>\n",
       "      <td>-1.000000</td>\n",
       "      <td>-1.000000</td>\n",
       "      <td>-1.000000</td>\n",
       "      <td>-1.000000</td>\n",
       "      <td>-1.000000</td>\n",
       "    </tr>\n",
       "    <tr>\n",
       "      <th>25%</th>\n",
       "      <td>8765.750000</td>\n",
       "      <td>8766.750000</td>\n",
       "      <td>4.000000</td>\n",
       "      <td>34.000000</td>\n",
       "      <td>500.000000</td>\n",
       "      <td>2.397428</td>\n",
       "      <td>1002.500000</td>\n",
       "      <td>0.000000</td>\n",
       "      <td>0.800000</td>\n",
       "    </tr>\n",
       "    <tr>\n",
       "      <th>50%</th>\n",
       "      <td>17531.500000</td>\n",
       "      <td>17532.500000</td>\n",
       "      <td>10.000000</td>\n",
       "      <td>58.000000</td>\n",
       "      <td>900.000000</td>\n",
       "      <td>27.356346</td>\n",
       "      <td>1010.800000</td>\n",
       "      <td>0.000000</td>\n",
       "      <td>1.200000</td>\n",
       "    </tr>\n",
       "    <tr>\n",
       "      <th>75%</th>\n",
       "      <td>26297.250000</td>\n",
       "      <td>26298.250000</td>\n",
       "      <td>22.276800</td>\n",
       "      <td>87.000000</td>\n",
       "      <td>1500.000000</td>\n",
       "      <td>69.548316</td>\n",
       "      <td>1019.400000</td>\n",
       "      <td>0.000000</td>\n",
       "      <td>2.000000</td>\n",
       "    </tr>\n",
       "    <tr>\n",
       "      <th>max</th>\n",
       "      <td>35063.000000</td>\n",
       "      <td>35064.000000</td>\n",
       "      <td>282.000000</td>\n",
       "      <td>264.000000</td>\n",
       "      <td>10000.000000</td>\n",
       "      <td>363.769133</td>\n",
       "      <td>1040.300000</td>\n",
       "      <td>72.500000</td>\n",
       "      <td>11.200000</td>\n",
       "    </tr>\n",
       "  </tbody>\n",
       "</table>\n",
       "</div>"
      ],
      "text/plain": [
       "         Unnamed: 0            No           SO2           NO2            CO  \\\n",
       "count  35064.000000  35064.000000  35064.000000  35064.000000  35064.000000   \n",
       "mean   17531.500000  17532.500000     18.058734     63.236861   1251.121692   \n",
       "std    10122.249256  10122.249256     22.558126     39.109232   1269.033556   \n",
       "min        0.000000      1.000000     -1.000000     -1.000000     -1.000000   \n",
       "25%     8765.750000   8766.750000      4.000000     34.000000    500.000000   \n",
       "50%    17531.500000  17532.500000     10.000000     58.000000    900.000000   \n",
       "75%    26297.250000  26298.250000     22.276800     87.000000   1500.000000   \n",
       "max    35063.000000  35064.000000    282.000000    264.000000  10000.000000   \n",
       "\n",
       "                 O3          PRES          RAIN          WSPM  \n",
       "count  35064.000000  35064.000000  35064.000000  35064.000000  \n",
       "mean      45.876835   1010.520250      0.067653      1.500217  \n",
       "std       54.730861     26.289217      0.896833      1.105382  \n",
       "min       -1.000000     -1.000000     -1.000000     -1.000000  \n",
       "25%        2.397428   1002.500000      0.000000      0.800000  \n",
       "50%       27.356346   1010.800000      0.000000      1.200000  \n",
       "75%       69.548316   1019.400000      0.000000      2.000000  \n",
       "max      363.769133   1040.300000     72.500000     11.200000  "
      ]
     },
     "execution_count": 8,
     "metadata": {},
     "output_type": "execute_result"
    }
   ],
   "source": [
    "prsa_data.describe()"
   ]
  },
  {
   "cell_type": "code",
   "execution_count": 9,
   "metadata": {},
   "outputs": [
    {
     "data": {
      "text/html": [
       "<div>\n",
       "<style scoped>\n",
       "    .dataframe tbody tr th:only-of-type {\n",
       "        vertical-align: middle;\n",
       "    }\n",
       "\n",
       "    .dataframe tbody tr th {\n",
       "        vertical-align: top;\n",
       "    }\n",
       "\n",
       "    .dataframe thead th {\n",
       "        text-align: right;\n",
       "    }\n",
       "</style>\n",
       "<table border=\"1\" class=\"dataframe\">\n",
       "  <thead>\n",
       "    <tr style=\"text-align: right;\">\n",
       "      <th></th>\n",
       "      <th>Unnamed: 0</th>\n",
       "      <th>No</th>\n",
       "      <th>SO2</th>\n",
       "      <th>NO2</th>\n",
       "      <th>CO</th>\n",
       "      <th>O3</th>\n",
       "      <th>PRES</th>\n",
       "      <th>RAIN</th>\n",
       "      <th>wd</th>\n",
       "      <th>WSPM</th>\n",
       "      <th>AQI Label</th>\n",
       "    </tr>\n",
       "  </thead>\n",
       "  <tbody>\n",
       "    <tr>\n",
       "      <th>0</th>\n",
       "      <td>0</td>\n",
       "      <td>1</td>\n",
       "      <td>6.0</td>\n",
       "      <td>28.0</td>\n",
       "      <td>400.0</td>\n",
       "      <td>51.577659</td>\n",
       "      <td>1023.0</td>\n",
       "      <td>0.0</td>\n",
       "      <td>NNW</td>\n",
       "      <td>4.4</td>\n",
       "      <td>Severely Polluted</td>\n",
       "    </tr>\n",
       "    <tr>\n",
       "      <th>1</th>\n",
       "      <td>1</td>\n",
       "      <td>2</td>\n",
       "      <td>6.0</td>\n",
       "      <td>28.0</td>\n",
       "      <td>400.0</td>\n",
       "      <td>50.403851</td>\n",
       "      <td>1023.2</td>\n",
       "      <td>0.0</td>\n",
       "      <td>N</td>\n",
       "      <td>4.7</td>\n",
       "      <td>Severely Polluted</td>\n",
       "    </tr>\n",
       "    <tr>\n",
       "      <th>2</th>\n",
       "      <td>2</td>\n",
       "      <td>3</td>\n",
       "      <td>NaN</td>\n",
       "      <td>19.0</td>\n",
       "      <td>400.0</td>\n",
       "      <td>54.923321</td>\n",
       "      <td>1023.5</td>\n",
       "      <td>0.0</td>\n",
       "      <td>NNW</td>\n",
       "      <td>5.6</td>\n",
       "      <td>Severely Polluted</td>\n",
       "    </tr>\n",
       "    <tr>\n",
       "      <th>3</th>\n",
       "      <td>3</td>\n",
       "      <td>4</td>\n",
       "      <td>8.0</td>\n",
       "      <td>14.0</td>\n",
       "      <td>NaN</td>\n",
       "      <td>NaN</td>\n",
       "      <td>1024.5</td>\n",
       "      <td>0.0</td>\n",
       "      <td>NW</td>\n",
       "      <td>3.1</td>\n",
       "      <td>Excellent</td>\n",
       "    </tr>\n",
       "    <tr>\n",
       "      <th>4</th>\n",
       "      <td>4</td>\n",
       "      <td>5</td>\n",
       "      <td>9.0</td>\n",
       "      <td>NaN</td>\n",
       "      <td>300.0</td>\n",
       "      <td>54.296608</td>\n",
       "      <td>1025.2</td>\n",
       "      <td>0.0</td>\n",
       "      <td>N</td>\n",
       "      <td>2.0</td>\n",
       "      <td>Heavily Polluted</td>\n",
       "    </tr>\n",
       "  </tbody>\n",
       "</table>\n",
       "</div>"
      ],
      "text/plain": [
       "   Unnamed: 0  No  SO2   NO2     CO         O3    PRES  RAIN   wd  WSPM  \\\n",
       "0           0   1  6.0  28.0  400.0  51.577659  1023.0   0.0  NNW   4.4   \n",
       "1           1   2  6.0  28.0  400.0  50.403851  1023.2   0.0    N   4.7   \n",
       "2           2   3  NaN  19.0  400.0  54.923321  1023.5   0.0  NNW   5.6   \n",
       "3           3   4  8.0  14.0    NaN        NaN  1024.5   0.0   NW   3.1   \n",
       "4           4   5  9.0   NaN  300.0  54.296608  1025.2   0.0    N   2.0   \n",
       "\n",
       "           AQI Label  \n",
       "0  Severely Polluted  \n",
       "1  Severely Polluted  \n",
       "2  Severely Polluted  \n",
       "3          Excellent  \n",
       "4   Heavily Polluted  "
      ]
     },
     "execution_count": 9,
     "metadata": {},
     "output_type": "execute_result"
    }
   ],
   "source": [
    "prsa_data[prsa_data == -1] = np.nan\n",
    "prsa_data.head()"
   ]
  },
  {
   "cell_type": "code",
   "execution_count": 10,
   "metadata": {},
   "outputs": [
    {
     "data": {
      "text/plain": [
       "<Axes: xlabel='SO2', ylabel='Count'>"
      ]
     },
     "execution_count": 10,
     "metadata": {},
     "output_type": "execute_result"
    },
    {
     "data": {
      "image/png": "[encoded data removed]",
      "text/plain": [
       "<Figure size 640x480 with 1 Axes>"
      ]
     },
     "metadata": {},
     "output_type": "display_data"
    }
   ],
   "source": [
    "sns.histplot(prsa_data.SO2)"
   ]
  },
  {
   "cell_type": "code",
   "execution_count": 11,
   "metadata": {},
   "outputs": [
    {
     "data": {
      "text/plain": [
       "<Axes: xlabel='NO2', ylabel='Density'>"
      ]
     },
     "execution_count": 11,
     "metadata": {},
     "output_type": "execute_result"
    },
    {
     "data": {
      "image/png": "[encoded data removed]",
      "text/plain": [
       "<Figure size 640x480 with 1 Axes>"
      ]
     },
     "metadata": {},
     "output_type": "display_data"
    }
   ],
   "source": [
    "sns.kdeplot(prsa_data.NO2)"
   ]
  },
  {
   "cell_type": "code",
   "execution_count": 12,
   "metadata": {},
   "outputs": [
    {
     "data": {
      "text/plain": [
       "267      0.1\n",
       "268      0.4\n",
       "269      0.1\n",
       "270      0.9\n",
       "271      0.9\n",
       "        ... \n",
       "34891    0.2\n",
       "34892    0.7\n",
       "34893    0.9\n",
       "34894    0.4\n",
       "34895    0.2\n",
       "Name: RAIN, Length: 1436, dtype: float64"
      ]
     },
     "execution_count": 12,
     "metadata": {},
     "output_type": "execute_result"
    }
   ],
   "source": [
    "prsa_data.RAIN[prsa_data.RAIN > 0]"
   ]
  },
  {
   "cell_type": "code",
   "execution_count": 13,
   "metadata": {},
   "outputs": [
    {
     "data": {
      "text/html": [
       "<div>\n",
       "<style scoped>\n",
       "    .dataframe tbody tr th:only-of-type {\n",
       "        vertical-align: middle;\n",
       "    }\n",
       "\n",
       "    .dataframe tbody tr th {\n",
       "        vertical-align: top;\n",
       "    }\n",
       "\n",
       "    .dataframe thead th {\n",
       "        text-align: right;\n",
       "    }\n",
       "</style>\n",
       "<table border=\"1\" class=\"dataframe\">\n",
       "  <thead>\n",
       "    <tr style=\"text-align: right;\">\n",
       "      <th></th>\n",
       "      <th>Unnamed: 0</th>\n",
       "      <th>No</th>\n",
       "      <th>SO2</th>\n",
       "      <th>NO2</th>\n",
       "      <th>CO</th>\n",
       "      <th>O3</th>\n",
       "      <th>PRES</th>\n",
       "      <th>WSPM</th>\n",
       "      <th>IS_RAIN</th>\n",
       "    </tr>\n",
       "  </thead>\n",
       "  <tbody>\n",
       "    <tr>\n",
       "      <th>count</th>\n",
       "      <td>35064.000000</td>\n",
       "      <td>35064.000000</td>\n",
       "      <td>34489.000000</td>\n",
       "      <td>33994.000000</td>\n",
       "      <td>33252.000000</td>\n",
       "      <td>32957.000000</td>\n",
       "      <td>35044.000000</td>\n",
       "      <td>35050.000000</td>\n",
       "      <td>35044.000000</td>\n",
       "    </tr>\n",
       "    <tr>\n",
       "      <th>mean</th>\n",
       "      <td>17531.500000</td>\n",
       "      <td>17532.500000</td>\n",
       "      <td>18.376481</td>\n",
       "      <td>65.258789</td>\n",
       "      <td>1319.353513</td>\n",
       "      <td>48.873754</td>\n",
       "      <td>1011.097536</td>\n",
       "      <td>1.501215</td>\n",
       "      <td>0.040977</td>\n",
       "    </tr>\n",
       "    <tr>\n",
       "      <th>std</th>\n",
       "      <td>10122.249256</td>\n",
       "      <td>10122.249256</td>\n",
       "      <td>22.609648</td>\n",
       "      <td>37.996088</td>\n",
       "      <td>1268.114331</td>\n",
       "      <td>55.113576</td>\n",
       "      <td>10.355247</td>\n",
       "      <td>1.104472</td>\n",
       "      <td>0.198240</td>\n",
       "    </tr>\n",
       "    <tr>\n",
       "      <th>min</th>\n",
       "      <td>0.000000</td>\n",
       "      <td>1.000000</td>\n",
       "      <td>0.285600</td>\n",
       "      <td>1.642400</td>\n",
       "      <td>100.000000</td>\n",
       "      <td>-0.275160</td>\n",
       "      <td>985.900000</td>\n",
       "      <td>0.000000</td>\n",
       "      <td>0.000000</td>\n",
       "    </tr>\n",
       "    <tr>\n",
       "      <th>25%</th>\n",
       "      <td>8765.750000</td>\n",
       "      <td>8766.750000</td>\n",
       "      <td>4.000000</td>\n",
       "      <td>36.000000</td>\n",
       "      <td>500.000000</td>\n",
       "      <td>3.579219</td>\n",
       "      <td>1002.500000</td>\n",
       "      <td>0.800000</td>\n",
       "      <td>0.000000</td>\n",
       "    </tr>\n",
       "    <tr>\n",
       "      <th>50%</th>\n",
       "      <td>17531.500000</td>\n",
       "      <td>17532.500000</td>\n",
       "      <td>10.000000</td>\n",
       "      <td>60.000000</td>\n",
       "      <td>900.000000</td>\n",
       "      <td>31.945652</td>\n",
       "      <td>1010.800000</td>\n",
       "      <td>1.200000</td>\n",
       "      <td>0.000000</td>\n",
       "    </tr>\n",
       "    <tr>\n",
       "      <th>75%</th>\n",
       "      <td>26297.250000</td>\n",
       "      <td>26298.250000</td>\n",
       "      <td>23.000000</td>\n",
       "      <td>88.000000</td>\n",
       "      <td>1600.000000</td>\n",
       "      <td>72.876079</td>\n",
       "      <td>1019.400000</td>\n",
       "      <td>2.000000</td>\n",
       "      <td>0.000000</td>\n",
       "    </tr>\n",
       "    <tr>\n",
       "      <th>max</th>\n",
       "      <td>35063.000000</td>\n",
       "      <td>35064.000000</td>\n",
       "      <td>282.000000</td>\n",
       "      <td>264.000000</td>\n",
       "      <td>10000.000000</td>\n",
       "      <td>363.769133</td>\n",
       "      <td>1040.300000</td>\n",
       "      <td>11.200000</td>\n",
       "      <td>1.000000</td>\n",
       "    </tr>\n",
       "  </tbody>\n",
       "</table>\n",
       "</div>"
      ],
      "text/plain": [
       "         Unnamed: 0            No           SO2           NO2            CO  \\\n",
       "count  35064.000000  35064.000000  34489.000000  33994.000000  33252.000000   \n",
       "mean   17531.500000  17532.500000     18.376481     65.258789   1319.353513   \n",
       "std    10122.249256  10122.249256     22.609648     37.996088   1268.114331   \n",
       "min        0.000000      1.000000      0.285600      1.642400    100.000000   \n",
       "25%     8765.750000   8766.750000      4.000000     36.000000    500.000000   \n",
       "50%    17531.500000  17532.500000     10.000000     60.000000    900.000000   \n",
       "75%    26297.250000  26298.250000     23.000000     88.000000   1600.000000   \n",
       "max    35063.000000  35064.000000    282.000000    264.000000  10000.000000   \n",
       "\n",
       "                 O3          PRES          WSPM       IS_RAIN  \n",
       "count  32957.000000  35044.000000  35050.000000  35044.000000  \n",
       "mean      48.873754   1011.097536      1.501215      0.040977  \n",
       "std       55.113576     10.355247      1.104472      0.198240  \n",
       "min       -0.275160    985.900000      0.000000      0.000000  \n",
       "25%        3.579219   1002.500000      0.800000      0.000000  \n",
       "50%       31.945652   1010.800000      1.200000      0.000000  \n",
       "75%       72.876079   1019.400000      2.000000      0.000000  \n",
       "max      363.769133   1040.300000     11.200000      1.000000  "
      ]
     },
     "execution_count": 13,
     "metadata": {},
     "output_type": "execute_result"
    }
   ],
   "source": [
    "is_rain = np.array(prsa_data.RAIN)\n",
    "is_rain[is_rain > 0] = 1\n",
    "prsa_data['IS_RAIN'] = is_rain\n",
    "prsa_data.drop(['RAIN'], axis=1, inplace=True)\n",
    "prsa_data.describe()"
   ]
  },
  {
   "cell_type": "code",
   "execution_count": 14,
   "metadata": {},
   "outputs": [
    {
     "data": {
      "text/plain": [
       "<Axes: xlabel='SO2', ylabel='Density'>"
      ]
     },
     "execution_count": 14,
     "metadata": {},
     "output_type": "execute_result"
    },
    {
     "data": {
      "image/png": "[encoded data removed]",
      "text/plain": [
       "<Figure size 640x480 with 1 Axes>"
      ]
     },
     "metadata": {},
     "output_type": "display_data"
    }
   ],
   "source": [
    "sns.kdeplot(data=prsa_data, x=\"SO2\", hue=\"AQI Label\")"
   ]
  },
  {
   "cell_type": "code",
   "execution_count": 15,
   "metadata": {},
   "outputs": [
    {
     "name": "stderr",
     "output_type": "stream",
     "text": [
      "C:\\Users\\sedof\\AppData\\Local\\Temp\\ipykernel_4324\\2756761127.py:1: UserWarning: Dataset has 0 variance; skipping density estimate. Pass `warn_singular=False` to disable this warning.\n",
      "  sns.kdeplot(data=prsa_data, x=\"CO\", hue=\"AQI Label\", log_scale=True)\n"
     ]
    },
    {
     "data": {
      "text/plain": [
       "<Axes: xlabel='CO', ylabel='Density'>"
      ]
     },
     "execution_count": 15,
     "metadata": {},
     "output_type": "execute_result"
    },
    {
     "data": {
      "image/png": "[encoded data removed]",
      "text/plain": [
       "<Figure size 640x480 with 1 Axes>"
      ]
     },
     "metadata": {},
     "output_type": "display_data"
    }
   ],
   "source": [
    "sns.kdeplot(data=prsa_data, x=\"CO\", hue=\"AQI Label\", log_scale=True)"
   ]
  },
  {
   "cell_type": "code",
   "execution_count": 16,
   "metadata": {},
   "outputs": [
    {
     "data": {
      "text/html": [
       "<div>\n",
       "<style scoped>\n",
       "    .dataframe tbody tr th:only-of-type {\n",
       "        vertical-align: middle;\n",
       "    }\n",
       "\n",
       "    .dataframe tbody tr th {\n",
       "        vertical-align: top;\n",
       "    }\n",
       "\n",
       "    .dataframe thead th {\n",
       "        text-align: right;\n",
       "    }\n",
       "</style>\n",
       "<table border=\"1\" class=\"dataframe\">\n",
       "  <thead>\n",
       "    <tr style=\"text-align: right;\">\n",
       "      <th></th>\n",
       "      <th>Unnamed: 0</th>\n",
       "      <th>No</th>\n",
       "      <th>SO2</th>\n",
       "      <th>NO2</th>\n",
       "      <th>CO</th>\n",
       "      <th>O3</th>\n",
       "      <th>PRES</th>\n",
       "      <th>wd</th>\n",
       "      <th>WSPM</th>\n",
       "      <th>AQI Label</th>\n",
       "      <th>IS_RAIN</th>\n",
       "      <th>CO_bin_custom_label</th>\n",
       "    </tr>\n",
       "  </thead>\n",
       "  <tbody>\n",
       "    <tr>\n",
       "      <th>0</th>\n",
       "      <td>0</td>\n",
       "      <td>1</td>\n",
       "      <td>6.0</td>\n",
       "      <td>28.0</td>\n",
       "      <td>400.0</td>\n",
       "      <td>51.577659</td>\n",
       "      <td>1023.0</td>\n",
       "      <td>NNW</td>\n",
       "      <td>4.4</td>\n",
       "      <td>Severely Polluted</td>\n",
       "      <td>0.0</td>\n",
       "      <td>3</td>\n",
       "    </tr>\n",
       "    <tr>\n",
       "      <th>1</th>\n",
       "      <td>1</td>\n",
       "      <td>2</td>\n",
       "      <td>6.0</td>\n",
       "      <td>28.0</td>\n",
       "      <td>400.0</td>\n",
       "      <td>50.403851</td>\n",
       "      <td>1023.2</td>\n",
       "      <td>N</td>\n",
       "      <td>4.7</td>\n",
       "      <td>Severely Polluted</td>\n",
       "      <td>0.0</td>\n",
       "      <td>3</td>\n",
       "    </tr>\n",
       "    <tr>\n",
       "      <th>2</th>\n",
       "      <td>2</td>\n",
       "      <td>3</td>\n",
       "      <td>NaN</td>\n",
       "      <td>19.0</td>\n",
       "      <td>400.0</td>\n",
       "      <td>54.923321</td>\n",
       "      <td>1023.5</td>\n",
       "      <td>NNW</td>\n",
       "      <td>5.6</td>\n",
       "      <td>Severely Polluted</td>\n",
       "      <td>0.0</td>\n",
       "      <td>3</td>\n",
       "    </tr>\n",
       "    <tr>\n",
       "      <th>3</th>\n",
       "      <td>3</td>\n",
       "      <td>4</td>\n",
       "      <td>8.0</td>\n",
       "      <td>14.0</td>\n",
       "      <td>NaN</td>\n",
       "      <td>NaN</td>\n",
       "      <td>1024.5</td>\n",
       "      <td>NW</td>\n",
       "      <td>3.1</td>\n",
       "      <td>Excellent</td>\n",
       "      <td>0.0</td>\n",
       "      <td>NaN</td>\n",
       "    </tr>\n",
       "    <tr>\n",
       "      <th>4</th>\n",
       "      <td>4</td>\n",
       "      <td>5</td>\n",
       "      <td>9.0</td>\n",
       "      <td>NaN</td>\n",
       "      <td>300.0</td>\n",
       "      <td>54.296608</td>\n",
       "      <td>1025.2</td>\n",
       "      <td>N</td>\n",
       "      <td>2.0</td>\n",
       "      <td>Heavily Polluted</td>\n",
       "      <td>0.0</td>\n",
       "      <td>2</td>\n",
       "    </tr>\n",
       "  </tbody>\n",
       "</table>\n",
       "</div>"
      ],
      "text/plain": [
       "   Unnamed: 0  No  SO2   NO2     CO         O3    PRES   wd  WSPM  \\\n",
       "0           0   1  6.0  28.0  400.0  51.577659  1023.0  NNW   4.4   \n",
       "1           1   2  6.0  28.0  400.0  50.403851  1023.2    N   4.7   \n",
       "2           2   3  NaN  19.0  400.0  54.923321  1023.5  NNW   5.6   \n",
       "3           3   4  8.0  14.0    NaN        NaN  1024.5   NW   3.1   \n",
       "4           4   5  9.0   NaN  300.0  54.296608  1025.2    N   2.0   \n",
       "\n",
       "           AQI Label  IS_RAIN CO_bin_custom_label  \n",
       "0  Severely Polluted      0.0                   3  \n",
       "1  Severely Polluted      0.0                   3  \n",
       "2  Severely Polluted      0.0                   3  \n",
       "3          Excellent      0.0                 NaN  \n",
       "4   Heavily Polluted      0.0                   2  "
      ]
     },
     "execution_count": 16,
     "metadata": {},
     "output_type": "execute_result"
    }
   ],
   "source": [
    "bin_ranges = [0, 250, 320, 10000]\n",
    "bin_names = [1, 2, 3]\n",
    "prsa_data['CO_bin_custom_label'] = pd.cut(np.array(prsa_data['CO']), \n",
    "                                               bins=bin_ranges, labels=bin_names)\n",
    "prsa_data.head()"
   ]
  },
  {
   "cell_type": "code",
   "execution_count": 17,
   "metadata": {},
   "outputs": [
    {
     "name": "stderr",
     "output_type": "stream",
     "text": [
      "C:\\Users\\sedof\\AppData\\Local\\Temp\\ipykernel_4324\\3964902396.py:1: FutureWarning: ChainedAssignmentError: behaviour will change in pandas 3.0!\n",
      "You are setting values through chained assignment. Currently this works in certain cases, but when using Copy-on-Write (which will become the default behaviour in pandas 3.0) this will never work to update the original DataFrame or Series, because the intermediate object on which we are setting values will behave as a copy.\n",
      "A typical example is when you are setting values in a column of a DataFrame, like:\n",
      "\n",
      "df[\"col\"][row_indexer] = value\n",
      "\n",
      "Use `df.loc[row_indexer, \"col\"] = values` instead, to perform the assignment in a single step and ensure this keeps updating the original `df`.\n",
      "\n",
      "See the caveats in the documentation: https://pandas.pydata.org/pandas-docs/stable/user_guide/indexing.html#returning-a-view-versus-a-copy\n",
      "\n",
      "  prsa_data.PRES[prsa_data.PRES <= 992] = 992\n",
      "C:\\Users\\sedof\\AppData\\Local\\Temp\\ipykernel_4324\\3964902396.py:1: SettingWithCopyWarning: \n",
      "A value is trying to be set on a copy of a slice from a DataFrame\n",
      "\n",
      "See the caveats in the documentation: https://pandas.pydata.org/pandas-docs/stable/user_guide/indexing.html#returning-a-view-versus-a-copy\n",
      "  prsa_data.PRES[prsa_data.PRES <= 992] = 992\n",
      "C:\\Users\\sedof\\AppData\\Local\\Temp\\ipykernel_4324\\3964902396.py:2: FutureWarning: ChainedAssignmentError: behaviour will change in pandas 3.0!\n",
      "You are setting values through chained assignment. Currently this works in certain cases, but when using Copy-on-Write (which will become the default behaviour in pandas 3.0) this will never work to update the original DataFrame or Series, because the intermediate object on which we are setting values will behave as a copy.\n",
      "A typical example is when you are setting values in a column of a DataFrame, like:\n",
      "\n",
      "df[\"col\"][row_indexer] = value\n",
      "\n",
      "Use `df.loc[row_indexer, \"col\"] = values` instead, to perform the assignment in a single step and ensure this keeps updating the original `df`.\n",
      "\n",
      "See the caveats in the documentation: https://pandas.pydata.org/pandas-docs/stable/user_guide/indexing.html#returning-a-view-versus-a-copy\n",
      "\n",
      "  prsa_data.PRES[prsa_data.PRES >= 1034] = 1034\n",
      "C:\\Users\\sedof\\AppData\\Local\\Temp\\ipykernel_4324\\3964902396.py:2: SettingWithCopyWarning: \n",
      "A value is trying to be set on a copy of a slice from a DataFrame\n",
      "\n",
      "See the caveats in the documentation: https://pandas.pydata.org/pandas-docs/stable/user_guide/indexing.html#returning-a-view-versus-a-copy\n",
      "  prsa_data.PRES[prsa_data.PRES >= 1034] = 1034\n"
     ]
    }
   ],
   "source": [
    "prsa_data.PRES[prsa_data.PRES <= 992] = 992\n",
    "prsa_data.PRES[prsa_data.PRES >= 1034] = 1034"
   ]
  },
  {
   "cell_type": "code",
   "execution_count": 18,
   "metadata": {},
   "outputs": [
    {
     "data": {
      "text/plain": [
       "<Axes: >"
      ]
     },
     "execution_count": 18,
     "metadata": {},
     "output_type": "execute_result"
    },
    {
     "data": {
      "image/png": "[encoded data removed]",
      "text/plain": [
       "<Figure size 640x480 with 1 Axes>"
      ]
     },
     "metadata": {},
     "output_type": "display_data"
    }
   ],
   "source": [
    "sns.heatmap(prsa_data.isnull(), yticklabels=False, cbar=False)"
   ]
  },
  {
   "cell_type": "code",
   "execution_count": 19,
   "metadata": {},
   "outputs": [
    {
     "data": {
      "text/plain": [
       "3        3\n",
       "99       2\n",
       "176      2\n",
       "178      2\n",
       "195      2\n",
       "        ..\n",
       "34880    5\n",
       "34883    5\n",
       "34885    5\n",
       "35029    3\n",
       "35030    2\n",
       "Length: 1912, dtype: int64"
      ]
     },
     "execution_count": 19,
     "metadata": {},
     "output_type": "execute_result"
    }
   ],
   "source": [
    "undef = prsa_data.isnull().sum(axis=1)\n",
    "undef[undef >= 2]"
   ]
  },
  {
   "cell_type": "code",
   "execution_count": 20,
   "metadata": {},
   "outputs": [],
   "source": [
    "prsa_data = prsa_data.drop(undef[undef >= 2].index, axis=0)"
   ]
  },
  {
   "cell_type": "code",
   "execution_count": 21,
   "metadata": {},
   "outputs": [
    {
     "data": {
      "text/plain": [
       "Unnamed: 0                0\n",
       "No                        0\n",
       "SO2                     281\n",
       "NO2                     702\n",
       "CO                        0\n",
       "O3                     1300\n",
       "PRES                      0\n",
       "wd                        0\n",
       "WSPM                      0\n",
       "AQI Label                 0\n",
       "IS_RAIN                   0\n",
       "CO_bin_custom_label       0\n",
       "dtype: int64"
      ]
     },
     "execution_count": 21,
     "metadata": {},
     "output_type": "execute_result"
    }
   ],
   "source": [
    "prsa_data.isnull().sum()"
   ]
  },
  {
   "cell_type": "code",
   "execution_count": 22,
   "metadata": {},
   "outputs": [],
   "source": [
    "prsa_data.SO2 = prsa_data.SO2.fillna(prsa_data.PRES.mean())"
   ]
  },
  {
   "cell_type": "code",
   "execution_count": 23,
   "metadata": {},
   "outputs": [],
   "source": [
    "filler = prsa_data.O3[prsa_data.O3.isna()]"
   ]
  },
  {
   "cell_type": "code",
   "execution_count": 24,
   "metadata": {},
   "outputs": [],
   "source": [
    "filler = prsa_data.O3[~prsa_data.O3.isna()].sample(n=len(filler)).set_axis(filler.index)"
   ]
  },
  {
   "cell_type": "code",
   "execution_count": 25,
   "metadata": {},
   "outputs": [],
   "source": [
    "prsa_data.O3 = prsa_data.O3.fillna(filler)"
   ]
  },
  {
   "cell_type": "code",
   "execution_count": 26,
   "metadata": {},
   "outputs": [
    {
     "data": {
      "text/html": [
       "<div>\n",
       "<style scoped>\n",
       "    .dataframe tbody tr th:only-of-type {\n",
       "        vertical-align: middle;\n",
       "    }\n",
       "\n",
       "    .dataframe tbody tr th {\n",
       "        vertical-align: top;\n",
       "    }\n",
       "\n",
       "    .dataframe thead th {\n",
       "        text-align: right;\n",
       "    }\n",
       "</style>\n",
       "<table border=\"1\" class=\"dataframe\">\n",
       "  <thead>\n",
       "    <tr style=\"text-align: right;\">\n",
       "      <th></th>\n",
       "      <th>Unnamed: 0</th>\n",
       "      <th>No</th>\n",
       "      <th>SO2</th>\n",
       "      <th>NO2</th>\n",
       "      <th>CO</th>\n",
       "      <th>O3</th>\n",
       "      <th>PRES</th>\n",
       "      <th>wd</th>\n",
       "      <th>WSPM</th>\n",
       "      <th>AQI Label</th>\n",
       "      <th>IS_RAIN</th>\n",
       "      <th>CO_bin_custom_label</th>\n",
       "    </tr>\n",
       "  </thead>\n",
       "  <tbody>\n",
       "    <tr>\n",
       "      <th>0</th>\n",
       "      <td>0</td>\n",
       "      <td>1</td>\n",
       "      <td>6.000000</td>\n",
       "      <td>28.0</td>\n",
       "      <td>400.0</td>\n",
       "      <td>52</td>\n",
       "      <td>1023.0</td>\n",
       "      <td>NNW</td>\n",
       "      <td>4.4</td>\n",
       "      <td>Severely Polluted</td>\n",
       "      <td>0.0</td>\n",
       "      <td>3</td>\n",
       "    </tr>\n",
       "    <tr>\n",
       "      <th>1</th>\n",
       "      <td>1</td>\n",
       "      <td>2</td>\n",
       "      <td>6.000000</td>\n",
       "      <td>28.0</td>\n",
       "      <td>400.0</td>\n",
       "      <td>50</td>\n",
       "      <td>1023.2</td>\n",
       "      <td>N</td>\n",
       "      <td>4.7</td>\n",
       "      <td>Severely Polluted</td>\n",
       "      <td>0.0</td>\n",
       "      <td>3</td>\n",
       "    </tr>\n",
       "    <tr>\n",
       "      <th>2</th>\n",
       "      <td>2</td>\n",
       "      <td>3</td>\n",
       "      <td>1010.982593</td>\n",
       "      <td>19.0</td>\n",
       "      <td>400.0</td>\n",
       "      <td>55</td>\n",
       "      <td>1023.5</td>\n",
       "      <td>NNW</td>\n",
       "      <td>5.6</td>\n",
       "      <td>Severely Polluted</td>\n",
       "      <td>0.0</td>\n",
       "      <td>3</td>\n",
       "    </tr>\n",
       "    <tr>\n",
       "      <th>4</th>\n",
       "      <td>4</td>\n",
       "      <td>5</td>\n",
       "      <td>9.000000</td>\n",
       "      <td>NaN</td>\n",
       "      <td>300.0</td>\n",
       "      <td>54</td>\n",
       "      <td>1025.2</td>\n",
       "      <td>N</td>\n",
       "      <td>2.0</td>\n",
       "      <td>Heavily Polluted</td>\n",
       "      <td>0.0</td>\n",
       "      <td>2</td>\n",
       "    </tr>\n",
       "    <tr>\n",
       "      <th>5</th>\n",
       "      <td>5</td>\n",
       "      <td>6</td>\n",
       "      <td>8.000000</td>\n",
       "      <td>17.0</td>\n",
       "      <td>300.0</td>\n",
       "      <td>54</td>\n",
       "      <td>1025.6</td>\n",
       "      <td>N</td>\n",
       "      <td>3.7</td>\n",
       "      <td>Heavily Polluted</td>\n",
       "      <td>0.0</td>\n",
       "      <td>2</td>\n",
       "    </tr>\n",
       "  </tbody>\n",
       "</table>\n",
       "</div>"
      ],
      "text/plain": [
       "   Unnamed: 0  No          SO2   NO2     CO  O3    PRES   wd  WSPM  \\\n",
       "0           0   1     6.000000  28.0  400.0  52  1023.0  NNW   4.4   \n",
       "1           1   2     6.000000  28.0  400.0  50  1023.2    N   4.7   \n",
       "2           2   3  1010.982593  19.0  400.0  55  1023.5  NNW   5.6   \n",
       "4           4   5     9.000000   NaN  300.0  54  1025.2    N   2.0   \n",
       "5           5   6     8.000000  17.0  300.0  54  1025.6    N   3.7   \n",
       "\n",
       "           AQI Label  IS_RAIN CO_bin_custom_label  \n",
       "0  Severely Polluted      0.0                   3  \n",
       "1  Severely Polluted      0.0                   3  \n",
       "2  Severely Polluted      0.0                   3  \n",
       "4   Heavily Polluted      0.0                   2  \n",
       "5   Heavily Polluted      0.0                   2  "
      ]
     },
     "execution_count": 26,
     "metadata": {},
     "output_type": "execute_result"
    }
   ],
   "source": [
    "prsa_data['O3'] = np.array(np.round((prsa_data['O3'])), dtype='int')\n",
    "prsa_data.head()"
   ]
  },
  {
   "cell_type": "code",
   "execution_count": 27,
   "metadata": {},
   "outputs": [],
   "source": [
    "prsa_data.SO2 = np.log(prsa_data.SO2)"
   ]
  },
  {
   "cell_type": "code",
   "execution_count": null,
   "metadata": {},
   "outputs": [],
   "source": []
  }
 ],
 "metadata": {
  "kernelspec": {
   "display_name": "Python 3",
   "language": "python",
   "name": "python3"
  },
  "language_info": {
   "codemirror_mode": {
    "name": "ipython",
    "version": 3
   },
   "file_extension": ".py",
   "mimetype": "text/x-python",
   "name": "python",
   "nbconvert_exporter": "python",
   "pygments_lexer": "ipython3",
   "version": "3.12.3"
  }
 },
 "nbformat": 4,
 "nbformat_minor": 2
}
