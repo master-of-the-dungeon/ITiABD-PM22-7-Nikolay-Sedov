{
 "cells": [
  {
   "cell_type": "code",
   "execution_count": 2,
   "metadata": {},
   "outputs": [
    {
     "name": "stdout",
     "output_type": "stream",
     "text": [
      "Total number of accounts: 2\n"
     ]
    }
   ],
   "source": [
    "class Bank:\n",
    "    accounts = 0\n",
    "\n",
    "    def __init__(self, owner_name, initial_balance=0):\n",
    "        self.owner_name = owner_name\n",
    "        self.balance = initial_balance\n",
    "        Bank.accounts += 1\n",
    "\n",
    "    def change_balance(self, amount):\n",
    "        self.balance += amount\n",
    "\n",
    "    def account_info(self):\n",
    "        return f\"Owner: {self.owner_name}, Balance: ${self.balance}\"\n",
    "\n",
    "    @classmethod\n",
    "    def accounts_info(cls):\n",
    "        return f\"Total number of accounts: {cls.accounts}\"\n",
    "\n",
    "    def __str__(self):\n",
    "        return f\"Owner: {self.owner_name}, Balance: ${self.balance}\"\n",
    "\n",
    "user1 = Bank(\"Mary\", 1000)\n",
    "print(user1)\n",
    "user1.change_balance(1800)\n",
    "print(user1)\n",
    "\n",
    "user2 = Bank(\"Max\", 1500)\n",
    "print(user2)\n",
    "print(Bank.accounts_info())\n"
   ]
  },
  {
   "cell_type": "code",
   "execution_count": 5,
   "metadata": {},
   "outputs": [
    {
     "data": {
      "text/plain": [
       "<__main__.Bank at 0x24d6e22e450>"
      ]
     },
     "execution_count": 5,
     "metadata": {},
     "output_type": "execute_result"
    }
   ],
   "source": [
    "user1"
   ]
  },
  {
   "cell_type": "code",
   "execution_count": null,
   "metadata": {},
   "outputs": [],
   "source": []
  }
 ],
 "metadata": {
  "kernelspec": {
   "display_name": "Python 3",
   "language": "python",
   "name": "python3"
  },
  "language_info": {
   "codemirror_mode": {
    "name": "ipython",
    "version": 3
   },
   "file_extension": ".py",
   "mimetype": "text/x-python",
   "name": "python",
   "nbconvert_exporter": "python",
   "pygments_lexer": "ipython3",
   "version": "3.12.1"
  }
 },
 "nbformat": 4,
 "nbformat_minor": 2
}
