{
 "cells": [
  {
   "cell_type": "code",
   "execution_count": 1,
   "id": "b4ecd2ba",
   "metadata": {},
   "outputs": [],
   "source": [
    "import numpy as np\n",
    "import pandas as pd\n",
    "import matplotlib.pyplot as plt"
   ]
  },
  {
   "cell_type": "code",
   "execution_count": 2,
   "id": "d2e78485",
   "metadata": {},
   "outputs": [],
   "source": [
    "x = pd.read_csv(\"data/0_x.csv\")"
   ]
  },
  {
   "cell_type": "code",
   "execution_count": 3,
   "id": "134e9076",
   "metadata": {},
   "outputs": [
    {
     "data": {
      "text/html": [
       "<div>\n",
       "<style scoped>\n",
       "    .dataframe tbody tr th:only-of-type {\n",
       "        vertical-align: middle;\n",
       "    }\n",
       "\n",
       "    .dataframe tbody tr th {\n",
       "        vertical-align: top;\n",
       "    }\n",
       "\n",
       "    .dataframe thead th {\n",
       "        text-align: right;\n",
       "    }\n",
       "</style>\n",
       "<table border=\"1\" class=\"dataframe\">\n",
       "  <thead>\n",
       "    <tr style=\"text-align: right;\">\n",
       "      <th></th>\n",
       "      <th>0.07184119218267622</th>\n",
       "      <th>0.8553524138064769</th>\n",
       "      <th>-0.3055966142959303</th>\n",
       "      <th>0.028252569993086545</th>\n",
       "      <th>1.8268953710701943</th>\n",
       "    </tr>\n",
       "  </thead>\n",
       "  <tbody>\n",
       "    <tr>\n",
       "      <th>0</th>\n",
       "      <td>0.139521</td>\n",
       "      <td>-0.423507</td>\n",
       "      <td>0.461059</td>\n",
       "      <td>-0.447400</td>\n",
       "      <td>-0.034988</td>\n",
       "    </tr>\n",
       "    <tr>\n",
       "      <th>1</th>\n",
       "      <td>1.626311</td>\n",
       "      <td>-0.257622</td>\n",
       "      <td>-0.697520</td>\n",
       "      <td>1.413219</td>\n",
       "      <td>1.086292</td>\n",
       "    </tr>\n",
       "    <tr>\n",
       "      <th>2</th>\n",
       "      <td>-1.183233</td>\n",
       "      <td>-0.826343</td>\n",
       "      <td>0.073047</td>\n",
       "      <td>-0.639690</td>\n",
       "      <td>-0.503273</td>\n",
       "    </tr>\n",
       "    <tr>\n",
       "      <th>3</th>\n",
       "      <td>-0.783365</td>\n",
       "      <td>-0.861232</td>\n",
       "      <td>0.951448</td>\n",
       "      <td>-0.117306</td>\n",
       "      <td>0.680597</td>\n",
       "    </tr>\n",
       "    <tr>\n",
       "      <th>4</th>\n",
       "      <td>3.077357</td>\n",
       "      <td>0.948615</td>\n",
       "      <td>-0.295527</td>\n",
       "      <td>1.390358</td>\n",
       "      <td>-0.116174</td>\n",
       "    </tr>\n",
       "  </tbody>\n",
       "</table>\n",
       "</div>"
      ],
      "text/plain": [
       "   0.07184119218267622  0.8553524138064769  -0.3055966142959303  \\\n",
       "0             0.139521           -0.423507             0.461059   \n",
       "1             1.626311           -0.257622            -0.697520   \n",
       "2            -1.183233           -0.826343             0.073047   \n",
       "3            -0.783365           -0.861232             0.951448   \n",
       "4             3.077357            0.948615            -0.295527   \n",
       "\n",
       "   0.028252569993086545  1.8268953710701943  \n",
       "0             -0.447400           -0.034988  \n",
       "1              1.413219            1.086292  \n",
       "2             -0.639690           -0.503273  \n",
       "3             -0.117306            0.680597  \n",
       "4              1.390358           -0.116174  "
      ]
     },
     "execution_count": 3,
     "metadata": {},
     "output_type": "execute_result"
    }
   ],
   "source": [
    "x.head()"
   ]
  },
  {
   "cell_type": "code",
   "execution_count": 4,
   "id": "9e47ad13",
   "metadata": {},
   "outputs": [],
   "source": [
    "x = pd.read_csv(\"data/0_x.csv\", header=None)\n",
    "y = pd.read_csv(\"data/0_y.csv\", header=None)"
   ]
  },
  {
   "cell_type": "code",
   "execution_count": 5,
   "id": "4e8c9a4d",
   "metadata": {},
   "outputs": [
    {
     "data": {
      "text/html": [
       "<div>\n",
       "<style scoped>\n",
       "    .dataframe tbody tr th:only-of-type {\n",
       "        vertical-align: middle;\n",
       "    }\n",
       "\n",
       "    .dataframe tbody tr th {\n",
       "        vertical-align: top;\n",
       "    }\n",
       "\n",
       "    .dataframe thead th {\n",
       "        text-align: right;\n",
       "    }\n",
       "</style>\n",
       "<table border=\"1\" class=\"dataframe\">\n",
       "  <thead>\n",
       "    <tr style=\"text-align: right;\">\n",
       "      <th></th>\n",
       "      <th>0</th>\n",
       "      <th>1</th>\n",
       "      <th>2</th>\n",
       "      <th>3</th>\n",
       "      <th>4</th>\n",
       "    </tr>\n",
       "  </thead>\n",
       "  <tbody>\n",
       "    <tr>\n",
       "      <th>0</th>\n",
       "      <td>0.071841</td>\n",
       "      <td>0.855352</td>\n",
       "      <td>-0.305597</td>\n",
       "      <td>0.028253</td>\n",
       "      <td>1.826895</td>\n",
       "    </tr>\n",
       "    <tr>\n",
       "      <th>1</th>\n",
       "      <td>0.139521</td>\n",
       "      <td>-0.423507</td>\n",
       "      <td>0.461059</td>\n",
       "      <td>-0.447400</td>\n",
       "      <td>-0.034988</td>\n",
       "    </tr>\n",
       "    <tr>\n",
       "      <th>2</th>\n",
       "      <td>1.626311</td>\n",
       "      <td>-0.257622</td>\n",
       "      <td>-0.697520</td>\n",
       "      <td>1.413219</td>\n",
       "      <td>1.086292</td>\n",
       "    </tr>\n",
       "    <tr>\n",
       "      <th>3</th>\n",
       "      <td>-1.183233</td>\n",
       "      <td>-0.826343</td>\n",
       "      <td>0.073047</td>\n",
       "      <td>-0.639690</td>\n",
       "      <td>-0.503273</td>\n",
       "    </tr>\n",
       "    <tr>\n",
       "      <th>4</th>\n",
       "      <td>-0.783365</td>\n",
       "      <td>-0.861232</td>\n",
       "      <td>0.951448</td>\n",
       "      <td>-0.117306</td>\n",
       "      <td>0.680597</td>\n",
       "    </tr>\n",
       "  </tbody>\n",
       "</table>\n",
       "</div>"
      ],
      "text/plain": [
       "          0         1         2         3         4\n",
       "0  0.071841  0.855352 -0.305597  0.028253  1.826895\n",
       "1  0.139521 -0.423507  0.461059 -0.447400 -0.034988\n",
       "2  1.626311 -0.257622 -0.697520  1.413219  1.086292\n",
       "3 -1.183233 -0.826343  0.073047 -0.639690 -0.503273\n",
       "4 -0.783365 -0.861232  0.951448 -0.117306  0.680597"
      ]
     },
     "execution_count": 5,
     "metadata": {},
     "output_type": "execute_result"
    }
   ],
   "source": [
    "x.head()"
   ]
  },
  {
   "cell_type": "code",
   "execution_count": 6,
   "id": "f0a169a7",
   "metadata": {},
   "outputs": [],
   "source": [
    "from sklearn.linear_model import LinearRegression"
   ]
  },
  {
   "cell_type": "code",
   "execution_count": 14,
   "id": "5521a0d7",
   "metadata": {},
   "outputs": [],
   "source": [
    "from sklearn import *"
   ]
  },
  {
   "cell_type": "code",
   "execution_count": 18,
   "id": "5b47709a",
   "metadata": {},
   "outputs": [],
   "source": [
    "from sklearn.metrics import r2_score"
   ]
  },
  {
   "cell_type": "code",
   "execution_count": 7,
   "id": "5c64fec2",
   "metadata": {},
   "outputs": [],
   "source": [
    "binary = LinearRegression()"
   ]
  },
  {
   "cell_type": "code",
   "execution_count": 8,
   "id": "95679ef7",
   "metadata": {},
   "outputs": [
    {
     "data": {
      "text/plain": [
       "LinearRegression()"
      ]
     },
     "execution_count": 8,
     "metadata": {},
     "output_type": "execute_result"
    }
   ],
   "source": [
    "binary.fit(x[[1]], y)"
   ]
  },
  {
   "cell_type": "code",
   "execution_count": 9,
   "id": "038ea5c2",
   "metadata": {},
   "outputs": [
    {
     "data": {
      "text/plain": [
       "array([[95.52010745]])"
      ]
     },
     "execution_count": 9,
     "metadata": {},
     "output_type": "execute_result"
    }
   ],
   "source": [
    "binary.coef_"
   ]
  },
  {
   "cell_type": "code",
   "execution_count": 10,
   "id": "307efd4a",
   "metadata": {},
   "outputs": [
    {
     "data": {
      "text/plain": [
       "array([[  81.7066754 ],\n",
       "       [ -40.45008468],\n",
       "       [ -24.60472955],\n",
       "       [ -78.92903986],\n",
       "       [ -82.26167214],\n",
       "       [  90.61516808],\n",
       "       [   3.20559483],\n",
       "       [ -27.39642608],\n",
       "       [  77.03125467],\n",
       "       [ -81.79074091],\n",
       "       [ -57.11517633],\n",
       "       [  71.55969853],\n",
       "       [ -51.83704209],\n",
       "       [  13.20326205],\n",
       "       [ -20.052765  ],\n",
       "       [ 125.1294343 ],\n",
       "       [ -85.37964253],\n",
       "       [ -67.97795874],\n",
       "       [  62.50833807],\n",
       "       [  67.06343892],\n",
       "       [ -62.27425459],\n",
       "       [ -80.86610767],\n",
       "       [ -27.05138056],\n",
       "       [ -52.78366471],\n",
       "       [  35.41921651],\n",
       "       [ -79.36741675],\n",
       "       [  56.64287014],\n",
       "       [  79.27353864],\n",
       "       [ -35.49555901],\n",
       "       [-221.02386024],\n",
       "       [ -80.76607115],\n",
       "       [ 165.15522994],\n",
       "       [  32.58309404],\n",
       "       [ -35.52849481],\n",
       "       [ -96.01738449],\n",
       "       [ -42.18812152],\n",
       "       [ -48.92932082],\n",
       "       [ -75.29745421],\n",
       "       [  14.5207672 ],\n",
       "       [  38.22303712],\n",
       "       [  -5.81538928],\n",
       "       [ -10.78305653],\n",
       "       [-160.67473236],\n",
       "       [ -24.04154649],\n",
       "       [ -11.539913  ],\n",
       "       [-153.21372804],\n",
       "       [  42.71613768],\n",
       "       [ -24.64631168],\n",
       "       [ -26.34379485],\n",
       "       [ -44.84902895],\n",
       "       [  40.59122298],\n",
       "       [  67.87447367],\n",
       "       [ 149.49931095],\n",
       "       [  -9.94584466],\n",
       "       [  72.09386938],\n",
       "       [  42.61221784],\n",
       "       [ -90.05010293],\n",
       "       [-195.17725103],\n",
       "       [  31.10609487],\n",
       "       [-179.11440495],\n",
       "       [ -68.01785401],\n",
       "       [  66.14535672],\n",
       "       [  46.04652432],\n",
       "       [-115.88877487],\n",
       "       [ -51.23726237],\n",
       "       [ -23.25825104],\n",
       "       [ 183.28767615],\n",
       "       [  42.06612485],\n",
       "       [ -61.68157548],\n",
       "       [  18.85284738],\n",
       "       [   8.29279789],\n",
       "       [  24.15702881],\n",
       "       [-132.25876571],\n",
       "       [-221.602558  ],\n",
       "       [  63.95970687],\n",
       "       [  70.05523606],\n",
       "       [ 101.35968876],\n",
       "       [  42.00528659],\n",
       "       [ -26.1669863 ],\n",
       "       [-142.57321028],\n",
       "       [  26.4302692 ],\n",
       "       [ -68.27127373],\n",
       "       [  77.68098549],\n",
       "       [   4.65591819],\n",
       "       [-275.75541696],\n",
       "       [ -18.03885794],\n",
       "       [ -65.15813567],\n",
       "       [  19.70062088],\n",
       "       [   2.30319232],\n",
       "       [-128.62567157],\n",
       "       [ -21.38042389],\n",
       "       [ 265.49792197],\n",
       "       [-232.79954877],\n",
       "       [  49.37518101],\n",
       "       [  46.59420205],\n",
       "       [ -66.70043384],\n",
       "       [ 135.3863095 ],\n",
       "       [ -20.73454969],\n",
       "       [ 153.12546539],\n",
       "       [  12.18146666],\n",
       "       [ -28.6152795 ],\n",
       "       [ 220.9291044 ],\n",
       "       [ -67.38550484],\n",
       "       [  54.67498213],\n",
       "       [ 146.49036594],\n",
       "       [-178.02357604],\n",
       "       [ 122.1816615 ],\n",
       "       [ -61.14413136],\n",
       "       [ -27.09696207],\n",
       "       [-162.71427576],\n",
       "       [ 250.11274891],\n",
       "       [-107.95714296],\n",
       "       [ -31.99055553],\n",
       "       [-125.12658808],\n",
       "       [ -43.28882518],\n",
       "       [ -48.08193349],\n",
       "       [ -14.84293043],\n",
       "       [ -49.99447436],\n",
       "       [  85.64858815],\n",
       "       [  48.0955124 ],\n",
       "       [ -12.70621587],\n",
       "       [ 106.29897038],\n",
       "       [ -18.39771021],\n",
       "       [ 131.8451858 ],\n",
       "       [ -49.15634037],\n",
       "       [   1.68833334],\n",
       "       [ 118.20821483],\n",
       "       [  93.32592767],\n",
       "       [  97.43196106],\n",
       "       [  41.90411351],\n",
       "       [-280.60718038],\n",
       "       [-197.29803704],\n",
       "       [ -81.67903369],\n",
       "       [ -31.55191845],\n",
       "       [  -8.98441752],\n",
       "       [  17.69645515],\n",
       "       [ -93.38459812],\n",
       "       [  39.46140888],\n",
       "       [ -10.04059876],\n",
       "       [ -45.14876349],\n",
       "       [ -75.91237642],\n",
       "       [-112.22661212],\n",
       "       [ 170.79517534],\n",
       "       [ 115.74079081],\n",
       "       [-162.39097497],\n",
       "       [ 105.17957504],\n",
       "       [ 154.74063944],\n",
       "       [  92.53223282],\n",
       "       [   6.9455845 ],\n",
       "       [-225.11827841],\n",
       "       [  63.11488128],\n",
       "       [  25.88212457],\n",
       "       [  39.19303711],\n",
       "       [ 141.26212896],\n",
       "       [ 122.432238  ],\n",
       "       [-263.473649  ],\n",
       "       [  -3.03374485],\n",
       "       [  97.40443477],\n",
       "       [  27.13542993],\n",
       "       [   5.3268769 ],\n",
       "       [ 109.40126709],\n",
       "       [ 187.77919778],\n",
       "       [  58.54396916],\n",
       "       [ 173.08930384],\n",
       "       [  -7.38389923],\n",
       "       [  -0.61716853],\n",
       "       [  15.9525564 ],\n",
       "       [ -56.74240282],\n",
       "       [  -9.43822359],\n",
       "       [ -12.58372954],\n",
       "       [  42.85873442],\n",
       "       [ -68.6263664 ],\n",
       "       [ -26.44110218],\n",
       "       [ -10.14910195],\n",
       "       [ -65.0326574 ],\n",
       "       [ 118.01212374],\n",
       "       [ 185.63095006],\n",
       "       [  80.68142722],\n",
       "       [ -22.36445142],\n",
       "       [  24.20376479],\n",
       "       [  91.92751024],\n",
       "       [ 123.84015615],\n",
       "       [  10.63661408],\n",
       "       [  38.14606475],\n",
       "       [  91.04662802],\n",
       "       [  -0.36732981],\n",
       "       [ 172.93200509],\n",
       "       [  15.84684686],\n",
       "       [  49.28739805],\n",
       "       [ -33.79697395],\n",
       "       [  54.96341913],\n",
       "       [ -10.50881915],\n",
       "       [-192.69059444],\n",
       "       [ -76.97685798],\n",
       "       [ 134.327864  ],\n",
       "       [ 111.50420719],\n",
       "       [ 126.56309706],\n",
       "       [-134.69906739],\n",
       "       [  75.62820656],\n",
       "       [  -1.70241194],\n",
       "       [  77.7070228 ],\n",
       "       [ -17.20936769],\n",
       "       [ 219.16998941],\n",
       "       [-136.13812314],\n",
       "       [ -66.21493546],\n",
       "       [ -55.27141374],\n",
       "       [ -70.4956149 ],\n",
       "       [ -43.24693497],\n",
       "       [  -7.07072434],\n",
       "       [ -20.91968838],\n",
       "       [ -40.80563876],\n",
       "       [ 141.13861597],\n",
       "       [  43.73042813],\n",
       "       [-195.48276684],\n",
       "       [   9.16176867],\n",
       "       [-105.62627143],\n",
       "       [ -10.67867476],\n",
       "       [   2.38472055],\n",
       "       [ 193.68921008],\n",
       "       [-115.63833686],\n",
       "       [  43.03267889],\n",
       "       [-147.37305219],\n",
       "       [  86.11484884],\n",
       "       [ -83.55847418],\n",
       "       [  30.71755434],\n",
       "       [  10.27639553],\n",
       "       [ -41.32557351],\n",
       "       [-140.26912202],\n",
       "       [ 128.01969105],\n",
       "       [ 183.95884118],\n",
       "       [   6.86531718],\n",
       "       [ -62.61269229],\n",
       "       [  66.06452798],\n",
       "       [ -47.63542055],\n",
       "       [ -85.17778107],\n",
       "       [ -15.72430026],\n",
       "       [  40.54649993],\n",
       "       [ -33.61879412],\n",
       "       [  31.76513237],\n",
       "       [-169.66712596],\n",
       "       [-110.88659879],\n",
       "       [ -77.04563955],\n",
       "       [  70.71761787],\n",
       "       [ -85.21453659],\n",
       "       [  41.92732181],\n",
       "       [ -13.68225282],\n",
       "       [ -67.49116957],\n",
       "       [  11.93379948],\n",
       "       [  50.18679576],\n",
       "       [ -21.66912636],\n",
       "       [  32.60453994],\n",
       "       [  14.09090855],\n",
       "       [ -27.33493738],\n",
       "       [-136.21711333],\n",
       "       [ -15.0605813 ],\n",
       "       [  49.78409122],\n",
       "       [-146.33455004],\n",
       "       [  71.63976509],\n",
       "       [  34.84132967],\n",
       "       [  12.30331257],\n",
       "       [  25.11261985],\n",
       "       [ -82.94602459],\n",
       "       [  83.54118867],\n",
       "       [ -57.88777693],\n",
       "       [  33.51754325],\n",
       "       [ -13.26429964],\n",
       "       [  65.85659717],\n",
       "       [  15.31444989],\n",
       "       [  67.81035688],\n",
       "       [  37.90075022],\n",
       "       [-167.10852275],\n",
       "       [ -57.99444761],\n",
       "       [ -36.00913797],\n",
       "       [  19.70290791],\n",
       "       [  33.45100315],\n",
       "       [-193.37192207],\n",
       "       [-121.15413667],\n",
       "       [  44.49224941],\n",
       "       [ -56.1373161 ],\n",
       "       [-153.69832577],\n",
       "       [ -80.50677918],\n",
       "       [-139.94014044],\n",
       "       [-192.67844919],\n",
       "       [ -54.64561087],\n",
       "       [  25.28740192],\n",
       "       [  25.07178482],\n",
       "       [   6.18083304],\n",
       "       [ 119.12500939],\n",
       "       [  46.71009304],\n",
       "       [  59.95782773],\n",
       "       [  83.74304754],\n",
       "       [ -99.02017347],\n",
       "       [ -87.68936548],\n",
       "       [  35.26396331],\n",
       "       [ 113.46685456],\n",
       "       [  42.5318588 ],\n",
       "       [  76.49714278],\n",
       "       [  99.83898538],\n",
       "       [ 112.30715761],\n",
       "       [ -12.15256336],\n",
       "       [ -29.02289519],\n",
       "       [  -6.97000698],\n",
       "       [ -37.7981597 ],\n",
       "       [ -52.4957794 ],\n",
       "       [ -98.02566506],\n",
       "       [ -18.49808937],\n",
       "       [ 134.54606734],\n",
       "       [ -21.78679736],\n",
       "       [  54.63789894],\n",
       "       [  59.63899484],\n",
       "       [ 157.32491005],\n",
       "       [  24.15363445],\n",
       "       [-121.14867961],\n",
       "       [ -32.74519018],\n",
       "       [-131.35579455],\n",
       "       [-100.53610905],\n",
       "       [  33.51745925],\n",
       "       [-221.78986989],\n",
       "       [  54.30924205],\n",
       "       [ -49.99624045],\n",
       "       [ -19.03749344],\n",
       "       [  -3.89300243],\n",
       "       [  -2.00342034],\n",
       "       [  69.27371782],\n",
       "       [ 234.02597915],\n",
       "       [  17.39055722],\n",
       "       [  14.93614571],\n",
       "       [ 148.66540159],\n",
       "       [  32.60167026],\n",
       "       [ 123.16186748],\n",
       "       [  61.24969494],\n",
       "       [  19.53920496],\n",
       "       [  25.02661721],\n",
       "       [ -75.38829513],\n",
       "       [ 166.41096829],\n",
       "       [ -47.99621481],\n",
       "       [ -25.77216712],\n",
       "       [ -48.96112576],\n",
       "       [ 105.43118884],\n",
       "       [   0.52022763],\n",
       "       [-336.85664107],\n",
       "       [  55.4750755 ],\n",
       "       [  72.33167816],\n",
       "       [-125.0236379 ],\n",
       "       [  20.70080008],\n",
       "       [ -57.91225848],\n",
       "       [  15.14114254],\n",
       "       [ -73.0099126 ],\n",
       "       [ 104.69214051],\n",
       "       [  50.24679881],\n",
       "       [  88.86557698],\n",
       "       [  68.28375578],\n",
       "       [ 122.95171668],\n",
       "       [ -25.0625463 ],\n",
       "       [  14.95429697],\n",
       "       [ -25.53926062],\n",
       "       [ 119.59087486],\n",
       "       [ 118.23947123],\n",
       "       [  43.99690047],\n",
       "       [ -21.1075395 ],\n",
       "       [ -17.25817459],\n",
       "       [  -2.62354642],\n",
       "       [  26.91692081],\n",
       "       [  10.15184644],\n",
       "       [  -9.48628965],\n",
       "       [ -81.84415436],\n",
       "       [ -68.05161774],\n",
       "       [-197.88761328],\n",
       "       [ -22.00916557],\n",
       "       [ 109.53859278],\n",
       "       [ -53.08749143],\n",
       "       [-153.71615885],\n",
       "       [  44.87328563],\n",
       "       [-157.42934885],\n",
       "       [-127.98274416],\n",
       "       [-166.53394014],\n",
       "       [ -61.33081485],\n",
       "       [ -11.77940539],\n",
       "       [  15.34513479],\n",
       "       [   3.0680711 ],\n",
       "       [-176.57818911],\n",
       "       [  13.43212536],\n",
       "       [ 221.67948236],\n",
       "       [ 200.32727577],\n",
       "       [  89.86779245],\n",
       "       [-115.55742864],\n",
       "       [  68.35801214]])"
      ]
     },
     "execution_count": 10,
     "metadata": {},
     "output_type": "execute_result"
    }
   ],
   "source": [
    "binary.predict(x[[1]])"
   ]
  },
  {
   "cell_type": "code",
   "execution_count": 11,
   "id": "3ea6ea14",
   "metadata": {},
   "outputs": [
    {
     "data": {
      "text/plain": [
       "<matplotlib.collections.PathCollection at 0x1d7f7277ac0>"
      ]
     },
     "execution_count": 11,
     "metadata": {},
     "output_type": "execute_result"
    },
    {
     "data": {
      "image/png": "[encoded data removed]",
      "text/plain": [
       "<Figure size 640x480 with 1 Axes>"
      ]
     },
     "metadata": {},
     "output_type": "display_data"
    }
   ],
   "source": [
    "plt.scatter(x[1], y)"
   ]
  },
  {
   "cell_type": "code",
   "execution_count": 24,
   "id": "4064ab9a",
   "metadata": {},
   "outputs": [
    {
     "data": {
      "text/plain": [
       "[<matplotlib.lines.Line2D at 0x1d7f7d3d550>]"
      ]
     },
     "execution_count": 24,
     "metadata": {},
     "output_type": "execute_result"
    },
    {
     "data": {
      "image/png": "[encoded data removed]",
      "text/plain": [
       "<Figure size 640x480 with 1 Axes>"
      ]
     },
     "metadata": {},
     "output_type": "display_data"
    }
   ],
   "source": [
    "xx = np.linspace(x[1].min(), x[1].max(), 100).reshape((-1, 1))\n",
    "plt.scatter(x[1], y)\n",
    "plt.plot(xx, binary.predict(xx), c='r')"
   ]
  },
  {
   "cell_type": "code",
   "execution_count": 25,
   "id": "8765bcc4",
   "metadata": {},
   "outputs": [
    {
     "ename": "NameError",
     "evalue": "name 'reg' is not defined",
     "output_type": "error",
     "traceback": [
      "\u001b[1;31m---------------------------------------------------------------------------\u001b[0m",
      "\u001b[1;31mNameError\u001b[0m                                 Traceback (most recent call last)",
      "\u001b[1;32m~\\AppData\\Local\\Temp\\ipykernel_5232\\4261158843.py\u001b[0m in \u001b[0;36m<module>\u001b[1;34m\u001b[0m\n\u001b[1;32m----> 1\u001b[1;33m \u001b[0mreg\u001b[0m\u001b[1;33m.\u001b[0m\u001b[0mscore\u001b[0m\u001b[1;33m(\u001b[0m\u001b[0mX\u001b[0m\u001b[1;33m,\u001b[0m \u001b[0mY\u001b[0m\u001b[1;33m)\u001b[0m\u001b[1;33m\u001b[0m\u001b[1;33m\u001b[0m\u001b[0m\n\u001b[0m",
      "\u001b[1;31mNameError\u001b[0m: name 'reg' is not defined"
     ]
    }
   ],
   "source": [
    "reg.score(X, Y)"
   ]
  },
  {
   "cell_type": "code",
   "execution_count": 22,
   "id": "1f7b647f",
   "metadata": {},
   "outputs": [
    {
     "data": {
      "text/plain": [
       "0.9922198026415868"
      ]
     },
     "execution_count": 22,
     "metadata": {},
     "output_type": "execute_result"
    }
   ],
   "source": [
    "multiple = LinearRegression()\n",
    "multiple.fit(x, y)\n",
    "multiple.score(x, y)"
   ]
  },
  {
   "cell_type": "code",
   "execution_count": 23,
   "id": "79bedd54",
   "metadata": {},
   "outputs": [
    {
     "data": {
      "text/plain": [
       "[<matplotlib.lines.Line2D at 0x1d7f7cd10a0>]"
      ]
     },
     "execution_count": 23,
     "metadata": {},
     "output_type": "execute_result"
    },
    {
     "data": {
      "image/png": "[encoded data removed]",
      "text/plain": [
       "<Figure size 640x480 with 1 Axes>"
      ]
     },
     "metadata": {},
     "output_type": "display_data"
    }
   ],
   "source": [
    "yy = multiple.predict(x)\n",
    "plt.scatter(yy, y)\n",
    "plt.plot(yy, yy, c='r')"
   ]
  },
  {
   "cell_type": "code",
   "execution_count": null,
   "id": "e8933198",
   "metadata": {},
   "outputs": [],
   "source": []
  }
 ],
 "metadata": {
  "kernelspec": {
   "display_name": "Python 3 (ipykernel)",
   "language": "python",
   "name": "python3"
  },
  "language_info": {
   "codemirror_mode": {
    "name": "ipython",
    "version": 3
   },
   "file_extension": ".py",
   "mimetype": "text/x-python",
   "name": "python",
   "nbconvert_exporter": "python",
   "pygments_lexer": "ipython3",
   "version": "3.9.13"
  }
 },
 "nbformat": 4,
 "nbformat_minor": 5
}
