{
 "cells": [
  {
   "cell_type": "code",
   "execution_count": 37,
   "id": "2cf91637",
   "metadata": {},
   "outputs": [],
   "source": [
    "import numpy as np\n",
    "import pandas as pd\n",
    "import matplotlib.pyplot as plt"
   ]
  },
  {
   "cell_type": "code",
   "execution_count": 2,
   "id": "c3941fa5",
   "metadata": {},
   "outputs": [],
   "source": [
    "x = pd.read_csv(\"data/0_x.csv\")"
   ]
  },
  {
   "cell_type": "code",
   "execution_count": 3,
   "id": "27b8ebac",
   "metadata": {},
   "outputs": [
    {
     "data": {
      "text/html": [
       "<div>\n",
       "<style scoped>\n",
       "    .dataframe tbody tr th:only-of-type {\n",
       "        vertical-align: middle;\n",
       "    }\n",
       "\n",
       "    .dataframe tbody tr th {\n",
       "        vertical-align: top;\n",
       "    }\n",
       "\n",
       "    .dataframe thead th {\n",
       "        text-align: right;\n",
       "    }\n",
       "</style>\n",
       "<table border=\"1\" class=\"dataframe\">\n",
       "  <thead>\n",
       "    <tr style=\"text-align: right;\">\n",
       "      <th></th>\n",
       "      <th>0.07184119218267622</th>\n",
       "      <th>0.8553524138064769</th>\n",
       "      <th>-0.3055966142959303</th>\n",
       "      <th>0.028252569993086545</th>\n",
       "      <th>1.8268953710701943</th>\n",
       "    </tr>\n",
       "  </thead>\n",
       "  <tbody>\n",
       "    <tr>\n",
       "      <th>0</th>\n",
       "      <td>0.139521</td>\n",
       "      <td>-0.423507</td>\n",
       "      <td>0.461059</td>\n",
       "      <td>-0.447400</td>\n",
       "      <td>-0.034988</td>\n",
       "    </tr>\n",
       "    <tr>\n",
       "      <th>1</th>\n",
       "      <td>1.626311</td>\n",
       "      <td>-0.257622</td>\n",
       "      <td>-0.697520</td>\n",
       "      <td>1.413219</td>\n",
       "      <td>1.086292</td>\n",
       "    </tr>\n",
       "    <tr>\n",
       "      <th>2</th>\n",
       "      <td>-1.183233</td>\n",
       "      <td>-0.826343</td>\n",
       "      <td>0.073047</td>\n",
       "      <td>-0.639690</td>\n",
       "      <td>-0.503273</td>\n",
       "    </tr>\n",
       "    <tr>\n",
       "      <th>3</th>\n",
       "      <td>-0.783365</td>\n",
       "      <td>-0.861232</td>\n",
       "      <td>0.951448</td>\n",
       "      <td>-0.117306</td>\n",
       "      <td>0.680597</td>\n",
       "    </tr>\n",
       "    <tr>\n",
       "      <th>4</th>\n",
       "      <td>3.077357</td>\n",
       "      <td>0.948615</td>\n",
       "      <td>-0.295527</td>\n",
       "      <td>1.390358</td>\n",
       "      <td>-0.116174</td>\n",
       "    </tr>\n",
       "  </tbody>\n",
       "</table>\n",
       "</div>"
      ],
      "text/plain": [
       "   0.07184119218267622  0.8553524138064769  -0.3055966142959303  \\\n",
       "0             0.139521           -0.423507             0.461059   \n",
       "1             1.626311           -0.257622            -0.697520   \n",
       "2            -1.183233           -0.826343             0.073047   \n",
       "3            -0.783365           -0.861232             0.951448   \n",
       "4             3.077357            0.948615            -0.295527   \n",
       "\n",
       "   0.028252569993086545  1.8268953710701943  \n",
       "0             -0.447400           -0.034988  \n",
       "1              1.413219            1.086292  \n",
       "2             -0.639690           -0.503273  \n",
       "3             -0.117306            0.680597  \n",
       "4              1.390358           -0.116174  "
      ]
     },
     "execution_count": 3,
     "metadata": {},
     "output_type": "execute_result"
    }
   ],
   "source": [
    "x.head()"
   ]
  },
  {
   "cell_type": "code",
   "execution_count": 4,
   "id": "fa00af46",
   "metadata": {},
   "outputs": [],
   "source": [
    "x = pd.read_csv(\"data/0_x.csv\", header=None)\n",
    "y = pd.read_csv(\"data/0_y.csv\", header=None)"
   ]
  },
  {
   "cell_type": "code",
   "execution_count": 5,
   "id": "27adc7e4",
   "metadata": {},
   "outputs": [
    {
     "data": {
      "text/plain": [
       "((387, 5), (387, 1))"
      ]
     },
     "execution_count": 5,
     "metadata": {},
     "output_type": "execute_result"
    }
   ],
   "source": [
    "x.shape, y.shape"
   ]
  },
  {
   "cell_type": "code",
   "execution_count": 38,
   "id": "85b30fbd",
   "metadata": {},
   "outputs": [],
   "source": [
    "from sklearn.linear_model import LinearRegression"
   ]
  },
  {
   "cell_type": "code",
   "execution_count": 7,
   "id": "b61c5d37",
   "metadata": {},
   "outputs": [],
   "source": [
    "binary = LinearRegression()"
   ]
  },
  {
   "cell_type": "code",
   "execution_count": 8,
   "id": "f3f637f8",
   "metadata": {},
   "outputs": [
    {
     "data": {
      "text/plain": [
       "LinearRegression()"
      ]
     },
     "execution_count": 8,
     "metadata": {},
     "output_type": "execute_result"
    }
   ],
   "source": [
    "binary.fit(x[[1]], y)"
   ]
  },
  {
   "cell_type": "code",
   "execution_count": 9,
   "id": "8a41cead",
   "metadata": {},
   "outputs": [
    {
     "data": {
      "text/plain": [
       "array([[95.52010745]])"
      ]
     },
     "execution_count": 9,
     "metadata": {},
     "output_type": "execute_result"
    }
   ],
   "source": [
    "binary.coef_"
   ]
  },
  {
   "cell_type": "code",
   "execution_count": 10,
   "id": "701bdf5e",
   "metadata": {},
   "outputs": [
    {
     "data": {
      "text/plain": [
       "array([[  81.7066754 ],\n",
       "       [ -40.45008468],\n",
       "       [ -24.60472955],\n",
       "       [ -78.92903986],\n",
       "       [ -82.26167214],\n",
       "       [  90.61516808],\n",
       "       [   3.20559483],\n",
       "       [ -27.39642608],\n",
       "       [  77.03125467],\n",
       "       [ -81.79074091],\n",
       "       [ -57.11517633],\n",
       "       [  71.55969853],\n",
       "       [ -51.83704209],\n",
       "       [  13.20326205],\n",
       "       [ -20.052765  ],\n",
       "       [ 125.1294343 ],\n",
       "       [ -85.37964253],\n",
       "       [ -67.97795874],\n",
       "       [  62.50833807],\n",
       "       [  67.06343892],\n",
       "       [ -62.27425459],\n",
       "       [ -80.86610767],\n",
       "       [ -27.05138056],\n",
       "       [ -52.78366471],\n",
       "       [  35.41921651],\n",
       "       [ -79.36741675],\n",
       "       [  56.64287014],\n",
       "       [  79.27353864],\n",
       "       [ -35.49555901],\n",
       "       [-221.02386024],\n",
       "       [ -80.76607115],\n",
       "       [ 165.15522994],\n",
       "       [  32.58309404],\n",
       "       [ -35.52849481],\n",
       "       [ -96.01738449],\n",
       "       [ -42.18812152],\n",
       "       [ -48.92932082],\n",
       "       [ -75.29745421],\n",
       "       [  14.5207672 ],\n",
       "       [  38.22303712],\n",
       "       [  -5.81538928],\n",
       "       [ -10.78305653],\n",
       "       [-160.67473236],\n",
       "       [ -24.04154649],\n",
       "       [ -11.539913  ],\n",
       "       [-153.21372804],\n",
       "       [  42.71613768],\n",
       "       [ -24.64631168],\n",
       "       [ -26.34379485],\n",
       "       [ -44.84902895],\n",
       "       [  40.59122298],\n",
       "       [  67.87447367],\n",
       "       [ 149.49931095],\n",
       "       [  -9.94584466],\n",
       "       [  72.09386938],\n",
       "       [  42.61221784],\n",
       "       [ -90.05010293],\n",
       "       [-195.17725103],\n",
       "       [  31.10609487],\n",
       "       [-179.11440495],\n",
       "       [ -68.01785401],\n",
       "       [  66.14535672],\n",
       "       [  46.04652432],\n",
       "       [-115.88877487],\n",
       "       [ -51.23726237],\n",
       "       [ -23.25825104],\n",
       "       [ 183.28767615],\n",
       "       [  42.06612485],\n",
       "       [ -61.68157548],\n",
       "       [  18.85284738],\n",
       "       [   8.29279789],\n",
       "       [  24.15702881],\n",
       "       [-132.25876571],\n",
       "       [-221.602558  ],\n",
       "       [  63.95970687],\n",
       "       [  70.05523606],\n",
       "       [ 101.35968876],\n",
       "       [  42.00528659],\n",
       "       [ -26.1669863 ],\n",
       "       [-142.57321028],\n",
       "       [  26.4302692 ],\n",
       "       [ -68.27127373],\n",
       "       [  77.68098549],\n",
       "       [   4.65591819],\n",
       "       [-275.75541696],\n",
       "       [ -18.03885794],\n",
       "       [ -65.15813567],\n",
       "       [  19.70062088],\n",
       "       [   2.30319232],\n",
       "       [-128.62567157],\n",
       "       [ -21.38042389],\n",
       "       [ 265.49792197],\n",
       "       [-232.79954877],\n",
       "       [  49.37518101],\n",
       "       [  46.59420205],\n",
       "       [ -66.70043384],\n",
       "       [ 135.3863095 ],\n",
       "       [ -20.73454969],\n",
       "       [ 153.12546539],\n",
       "       [  12.18146666],\n",
       "       [ -28.6152795 ],\n",
       "       [ 220.9291044 ],\n",
       "       [ -67.38550484],\n",
       "       [  54.67498213],\n",
       "       [ 146.49036594],\n",
       "       [-178.02357604],\n",
       "       [ 122.1816615 ],\n",
       "       [ -61.14413136],\n",
       "       [ -27.09696207],\n",
       "       [-162.71427576],\n",
       "       [ 250.11274891],\n",
       "       [-107.95714296],\n",
       "       [ -31.99055553],\n",
       "       [-125.12658808],\n",
       "       [ -43.28882518],\n",
       "       [ -48.08193349],\n",
       "       [ -14.84293043],\n",
       "       [ -49.99447436],\n",
       "       [  85.64858815],\n",
       "       [  48.0955124 ],\n",
       "       [ -12.70621587],\n",
       "       [ 106.29897038],\n",
       "       [ -18.39771021],\n",
       "       [ 131.8451858 ],\n",
       "       [ -49.15634037],\n",
       "       [   1.68833334],\n",
       "       [ 118.20821483],\n",
       "       [  93.32592767],\n",
       "       [  97.43196106],\n",
       "       [  41.90411351],\n",
       "       [-280.60718038],\n",
       "       [-197.29803704],\n",
       "       [ -81.67903369],\n",
       "       [ -31.55191845],\n",
       "       [  -8.98441752],\n",
       "       [  17.69645515],\n",
       "       [ -93.38459812],\n",
       "       [  39.46140888],\n",
       "       [ -10.04059876],\n",
       "       [ -45.14876349],\n",
       "       [ -75.91237642],\n",
       "       [-112.22661212],\n",
       "       [ 170.79517534],\n",
       "       [ 115.74079081],\n",
       "       [-162.39097497],\n",
       "       [ 105.17957504],\n",
       "       [ 154.74063944],\n",
       "       [  92.53223282],\n",
       "       [   6.9455845 ],\n",
       "       [-225.11827841],\n",
       "       [  63.11488128],\n",
       "       [  25.88212457],\n",
       "       [  39.19303711],\n",
       "       [ 141.26212896],\n",
       "       [ 122.432238  ],\n",
       "       [-263.473649  ],\n",
       "       [  -3.03374485],\n",
       "       [  97.40443477],\n",
       "       [  27.13542993],\n",
       "       [   5.3268769 ],\n",
       "       [ 109.40126709],\n",
       "       [ 187.77919778],\n",
       "       [  58.54396916],\n",
       "       [ 173.08930384],\n",
       "       [  -7.38389923],\n",
       "       [  -0.61716853],\n",
       "       [  15.9525564 ],\n",
       "       [ -56.74240282],\n",
       "       [  -9.43822359],\n",
       "       [ -12.58372954],\n",
       "       [  42.85873442],\n",
       "       [ -68.6263664 ],\n",
       "       [ -26.44110218],\n",
       "       [ -10.14910195],\n",
       "       [ -65.0326574 ],\n",
       "       [ 118.01212374],\n",
       "       [ 185.63095006],\n",
       "       [  80.68142722],\n",
       "       [ -22.36445142],\n",
       "       [  24.20376479],\n",
       "       [  91.92751024],\n",
       "       [ 123.84015615],\n",
       "       [  10.63661408],\n",
       "       [  38.14606475],\n",
       "       [  91.04662802],\n",
       "       [  -0.36732981],\n",
       "       [ 172.93200509],\n",
       "       [  15.84684686],\n",
       "       [  49.28739805],\n",
       "       [ -33.79697395],\n",
       "       [  54.96341913],\n",
       "       [ -10.50881915],\n",
       "       [-192.69059444],\n",
       "       [ -76.97685798],\n",
       "       [ 134.327864  ],\n",
       "       [ 111.50420719],\n",
       "       [ 126.56309706],\n",
       "       [-134.69906739],\n",
       "       [  75.62820656],\n",
       "       [  -1.70241194],\n",
       "       [  77.7070228 ],\n",
       "       [ -17.20936769],\n",
       "       [ 219.16998941],\n",
       "       [-136.13812314],\n",
       "       [ -66.21493546],\n",
       "       [ -55.27141374],\n",
       "       [ -70.4956149 ],\n",
       "       [ -43.24693497],\n",
       "       [  -7.07072434],\n",
       "       [ -20.91968838],\n",
       "       [ -40.80563876],\n",
       "       [ 141.13861597],\n",
       "       [  43.73042813],\n",
       "       [-195.48276684],\n",
       "       [   9.16176867],\n",
       "       [-105.62627143],\n",
       "       [ -10.67867476],\n",
       "       [   2.38472055],\n",
       "       [ 193.68921008],\n",
       "       [-115.63833686],\n",
       "       [  43.03267889],\n",
       "       [-147.37305219],\n",
       "       [  86.11484884],\n",
       "       [ -83.55847418],\n",
       "       [  30.71755434],\n",
       "       [  10.27639553],\n",
       "       [ -41.32557351],\n",
       "       [-140.26912202],\n",
       "       [ 128.01969105],\n",
       "       [ 183.95884118],\n",
       "       [   6.86531718],\n",
       "       [ -62.61269229],\n",
       "       [  66.06452798],\n",
       "       [ -47.63542055],\n",
       "       [ -85.17778107],\n",
       "       [ -15.72430026],\n",
       "       [  40.54649993],\n",
       "       [ -33.61879412],\n",
       "       [  31.76513237],\n",
       "       [-169.66712596],\n",
       "       [-110.88659879],\n",
       "       [ -77.04563955],\n",
       "       [  70.71761787],\n",
       "       [ -85.21453659],\n",
       "       [  41.92732181],\n",
       "       [ -13.68225282],\n",
       "       [ -67.49116957],\n",
       "       [  11.93379948],\n",
       "       [  50.18679576],\n",
       "       [ -21.66912636],\n",
       "       [  32.60453994],\n",
       "       [  14.09090855],\n",
       "       [ -27.33493738],\n",
       "       [-136.21711333],\n",
       "       [ -15.0605813 ],\n",
       "       [  49.78409122],\n",
       "       [-146.33455004],\n",
       "       [  71.63976509],\n",
       "       [  34.84132967],\n",
       "       [  12.30331257],\n",
       "       [  25.11261985],\n",
       "       [ -82.94602459],\n",
       "       [  83.54118867],\n",
       "       [ -57.88777693],\n",
       "       [  33.51754325],\n",
       "       [ -13.26429964],\n",
       "       [  65.85659717],\n",
       "       [  15.31444989],\n",
       "       [  67.81035688],\n",
       "       [  37.90075022],\n",
       "       [-167.10852275],\n",
       "       [ -57.99444761],\n",
       "       [ -36.00913797],\n",
       "       [  19.70290791],\n",
       "       [  33.45100315],\n",
       "       [-193.37192207],\n",
       "       [-121.15413667],\n",
       "       [  44.49224941],\n",
       "       [ -56.1373161 ],\n",
       "       [-153.69832577],\n",
       "       [ -80.50677918],\n",
       "       [-139.94014044],\n",
       "       [-192.67844919],\n",
       "       [ -54.64561087],\n",
       "       [  25.28740192],\n",
       "       [  25.07178482],\n",
       "       [   6.18083304],\n",
       "       [ 119.12500939],\n",
       "       [  46.71009304],\n",
       "       [  59.95782773],\n",
       "       [  83.74304754],\n",
       "       [ -99.02017347],\n",
       "       [ -87.68936548],\n",
       "       [  35.26396331],\n",
       "       [ 113.46685456],\n",
       "       [  42.5318588 ],\n",
       "       [  76.49714278],\n",
       "       [  99.83898538],\n",
       "       [ 112.30715761],\n",
       "       [ -12.15256336],\n",
       "       [ -29.02289519],\n",
       "       [  -6.97000698],\n",
       "       [ -37.7981597 ],\n",
       "       [ -52.4957794 ],\n",
       "       [ -98.02566506],\n",
       "       [ -18.49808937],\n",
       "       [ 134.54606734],\n",
       "       [ -21.78679736],\n",
       "       [  54.63789894],\n",
       "       [  59.63899484],\n",
       "       [ 157.32491005],\n",
       "       [  24.15363445],\n",
       "       [-121.14867961],\n",
       "       [ -32.74519018],\n",
       "       [-131.35579455],\n",
       "       [-100.53610905],\n",
       "       [  33.51745925],\n",
       "       [-221.78986989],\n",
       "       [  54.30924205],\n",
       "       [ -49.99624045],\n",
       "       [ -19.03749344],\n",
       "       [  -3.89300243],\n",
       "       [  -2.00342034],\n",
       "       [  69.27371782],\n",
       "       [ 234.02597915],\n",
       "       [  17.39055722],\n",
       "       [  14.93614571],\n",
       "       [ 148.66540159],\n",
       "       [  32.60167026],\n",
       "       [ 123.16186748],\n",
       "       [  61.24969494],\n",
       "       [  19.53920496],\n",
       "       [  25.02661721],\n",
       "       [ -75.38829513],\n",
       "       [ 166.41096829],\n",
       "       [ -47.99621481],\n",
       "       [ -25.77216712],\n",
       "       [ -48.96112576],\n",
       "       [ 105.43118884],\n",
       "       [   0.52022763],\n",
       "       [-336.85664107],\n",
       "       [  55.4750755 ],\n",
       "       [  72.33167816],\n",
       "       [-125.0236379 ],\n",
       "       [  20.70080008],\n",
       "       [ -57.91225848],\n",
       "       [  15.14114254],\n",
       "       [ -73.0099126 ],\n",
       "       [ 104.69214051],\n",
       "       [  50.24679881],\n",
       "       [  88.86557698],\n",
       "       [  68.28375578],\n",
       "       [ 122.95171668],\n",
       "       [ -25.0625463 ],\n",
       "       [  14.95429697],\n",
       "       [ -25.53926062],\n",
       "       [ 119.59087486],\n",
       "       [ 118.23947123],\n",
       "       [  43.99690047],\n",
       "       [ -21.1075395 ],\n",
       "       [ -17.25817459],\n",
       "       [  -2.62354642],\n",
       "       [  26.91692081],\n",
       "       [  10.15184644],\n",
       "       [  -9.48628965],\n",
       "       [ -81.84415436],\n",
       "       [ -68.05161774],\n",
       "       [-197.88761328],\n",
       "       [ -22.00916557],\n",
       "       [ 109.53859278],\n",
       "       [ -53.08749143],\n",
       "       [-153.71615885],\n",
       "       [  44.87328563],\n",
       "       [-157.42934885],\n",
       "       [-127.98274416],\n",
       "       [-166.53394014],\n",
       "       [ -61.33081485],\n",
       "       [ -11.77940539],\n",
       "       [  15.34513479],\n",
       "       [   3.0680711 ],\n",
       "       [-176.57818911],\n",
       "       [  13.43212536],\n",
       "       [ 221.67948236],\n",
       "       [ 200.32727577],\n",
       "       [  89.86779245],\n",
       "       [-115.55742864],\n",
       "       [  68.35801214]])"
      ]
     },
     "execution_count": 10,
     "metadata": {},
     "output_type": "execute_result"
    }
   ],
   "source": [
    "binary.predict(x[[1]])"
   ]
  },
  {
   "cell_type": "code",
   "execution_count": 11,
   "id": "1b990b5f",
   "metadata": {},
   "outputs": [
    {
     "data": {
      "image/png": "[encoded data removed]",
      "text/plain": [
       "<Figure size 640x480 with 1 Axes>"
      ]
     },
     "metadata": {},
     "output_type": "display_data"
    }
   ],
   "source": [
    "plt.scatter(x[1], y)\n",
    "xx = np.linspace(x[1].min(), x[1].max(), 100).reshape((-1, 1))\n",
    "plt.plot(xx, binary.predict(xx), c='r');"
   ]
  },
  {
   "cell_type": "code",
   "execution_count": 12,
   "id": "c5025212",
   "metadata": {},
   "outputs": [
    {
     "data": {
      "text/plain": [
       "0.7699743283650629"
      ]
     },
     "execution_count": 12,
     "metadata": {},
     "output_type": "execute_result"
    }
   ],
   "source": [
    "binary.score(x[[1]], y)"
   ]
  },
  {
   "cell_type": "code",
   "execution_count": 13,
   "id": "46a6c283",
   "metadata": {},
   "outputs": [
    {
     "data": {
      "text/plain": [
       "0.9922198026415868"
      ]
     },
     "execution_count": 13,
     "metadata": {},
     "output_type": "execute_result"
    }
   ],
   "source": [
    "multiple = LinearRegression()\n",
    "multiple.fit(x, y)\n",
    "multiple.score(x, y)"
   ]
  },
  {
   "cell_type": "code",
   "execution_count": 14,
   "id": "72e891af",
   "metadata": {
    "scrolled": true
   },
   "outputs": [
    {
     "data": {
      "text/plain": [
       "[<matplotlib.lines.Line2D at 0x167eec33f70>]"
      ]
     },
     "execution_count": 14,
     "metadata": {},
     "output_type": "execute_result"
    },
    {
     "data": {
      "image/png": "[encoded data removed]",
      "text/plain": [
       "<Figure size 640x480 with 1 Axes>"
      ]
     },
     "metadata": {},
     "output_type": "display_data"
    }
   ],
   "source": [
    "yy = multiple.predict(x)\n",
    "plt.scatter(yy, y)\n",
    "plt.plot(yy, yy, c='r')"
   ]
  },
  {
   "cell_type": "markdown",
   "id": "8e4724c1",
   "metadata": {},
   "source": [
    "# Множественная линейная регрессия на чистых данных"
   ]
  },
  {
   "cell_type": "markdown",
   "id": "352aa98c",
   "metadata": {},
   "source": [
    "1. Сравните коэффициенты парной и множественной регрессии до и после обучения."
   ]
  },
  {
   "cell_type": "markdown",
   "id": "368237b8",
   "metadata": {},
   "source": [
    "где я вам возьму их до обучения?"
   ]
  },
  {
   "cell_type": "markdown",
   "id": "72c12f36",
   "metadata": {},
   "source": [
    "2. Самостоятельно постройте парные регрессии от каждого атрибута с целевой переменной."
   ]
  },
  {
   "cell_type": "code",
   "execution_count": 28,
   "id": "de80b7fb",
   "metadata": {},
   "outputs": [],
   "source": [
    "def lin_reg(X, Y):\n",
    "    reg = LinearRegression()\n",
    "    reg.fit(X, Y)\n",
    "    \n",
    "    print('R2_score = ', reg.score(X, Y), f'Точность {binary.score(X, Y)}' )\n",
    "    \n",
    "    plt.scatter(X, Y)\n",
    "    xx = np.linspace(X.min(), X.max(), 100).reshape((-1, 1))\n",
    "    plt.plot(xx, reg.predict(xx), c='r')"
   ]
  },
  {
   "cell_type": "code",
   "execution_count": 29,
   "id": "c10fabe0",
   "metadata": {},
   "outputs": [
    {
     "data": {
      "text/html": [
       "<div>\n",
       "<style scoped>\n",
       "    .dataframe tbody tr th:only-of-type {\n",
       "        vertical-align: middle;\n",
       "    }\n",
       "\n",
       "    .dataframe tbody tr th {\n",
       "        vertical-align: top;\n",
       "    }\n",
       "\n",
       "    .dataframe thead th {\n",
       "        text-align: right;\n",
       "    }\n",
       "</style>\n",
       "<table border=\"1\" class=\"dataframe\">\n",
       "  <thead>\n",
       "    <tr style=\"text-align: right;\">\n",
       "      <th></th>\n",
       "      <th>0</th>\n",
       "      <th>1</th>\n",
       "      <th>2</th>\n",
       "      <th>3</th>\n",
       "      <th>4</th>\n",
       "    </tr>\n",
       "  </thead>\n",
       "  <tbody>\n",
       "    <tr>\n",
       "      <th>0</th>\n",
       "      <td>0.071841</td>\n",
       "      <td>0.855352</td>\n",
       "      <td>-0.305597</td>\n",
       "      <td>0.028253</td>\n",
       "      <td>1.826895</td>\n",
       "    </tr>\n",
       "    <tr>\n",
       "      <th>1</th>\n",
       "      <td>0.139521</td>\n",
       "      <td>-0.423507</td>\n",
       "      <td>0.461059</td>\n",
       "      <td>-0.447400</td>\n",
       "      <td>-0.034988</td>\n",
       "    </tr>\n",
       "    <tr>\n",
       "      <th>2</th>\n",
       "      <td>1.626311</td>\n",
       "      <td>-0.257622</td>\n",
       "      <td>-0.697520</td>\n",
       "      <td>1.413219</td>\n",
       "      <td>1.086292</td>\n",
       "    </tr>\n",
       "    <tr>\n",
       "      <th>3</th>\n",
       "      <td>-1.183233</td>\n",
       "      <td>-0.826343</td>\n",
       "      <td>0.073047</td>\n",
       "      <td>-0.639690</td>\n",
       "      <td>-0.503273</td>\n",
       "    </tr>\n",
       "    <tr>\n",
       "      <th>4</th>\n",
       "      <td>-0.783365</td>\n",
       "      <td>-0.861232</td>\n",
       "      <td>0.951448</td>\n",
       "      <td>-0.117306</td>\n",
       "      <td>0.680597</td>\n",
       "    </tr>\n",
       "  </tbody>\n",
       "</table>\n",
       "</div>"
      ],
      "text/plain": [
       "          0         1         2         3         4\n",
       "0  0.071841  0.855352 -0.305597  0.028253  1.826895\n",
       "1  0.139521 -0.423507  0.461059 -0.447400 -0.034988\n",
       "2  1.626311 -0.257622 -0.697520  1.413219  1.086292\n",
       "3 -1.183233 -0.826343  0.073047 -0.639690 -0.503273\n",
       "4 -0.783365 -0.861232  0.951448 -0.117306  0.680597"
      ]
     },
     "execution_count": 29,
     "metadata": {},
     "output_type": "execute_result"
    }
   ],
   "source": [
    "x.head()"
   ]
  },
  {
   "cell_type": "code",
   "execution_count": 30,
   "id": "454d1f4b",
   "metadata": {},
   "outputs": [
    {
     "name": "stdout",
     "output_type": "stream",
     "text": [
      "R2_score =  0.04364336234689348 Точность -0.40944746350605143\n"
     ]
    },
    {
     "data": {
      "image/png": "[encoded data removed]",
      "text/plain": [
       "<Figure size 640x480 with 1 Axes>"
      ]
     },
     "metadata": {},
     "output_type": "display_data"
    }
   ],
   "source": [
    "lin_reg(x[[0]], y)"
   ]
  },
  {
   "cell_type": "code",
   "execution_count": 21,
   "id": "104f3eef",
   "metadata": {},
   "outputs": [
    {
     "data": {
      "text/plain": [
       "-0.40944746350605143"
      ]
     },
     "execution_count": 21,
     "metadata": {},
     "output_type": "execute_result"
    }
   ],
   "source": [
    "binary.score(x[[0]], y)"
   ]
  },
  {
   "cell_type": "code",
   "execution_count": 31,
   "id": "de4dbc1e",
   "metadata": {},
   "outputs": [
    {
     "name": "stdout",
     "output_type": "stream",
     "text": [
      "R2_score =  0.7699743283650629 Точность 0.7699743283650629\n"
     ]
    },
    {
     "data": {
      "image/png": "[encoded data removed]",
      "text/plain": [
       "<Figure size 640x480 with 1 Axes>"
      ]
     },
     "metadata": {},
     "output_type": "display_data"
    }
   ],
   "source": [
    "lin_reg(x[[1]], y)"
   ]
  },
  {
   "cell_type": "code",
   "execution_count": 22,
   "id": "12479f1d",
   "metadata": {},
   "outputs": [
    {
     "data": {
      "text/plain": [
       "0.7699743283650629"
      ]
     },
     "execution_count": 22,
     "metadata": {},
     "output_type": "execute_result"
    }
   ],
   "source": [
    "binary.score(x[[1]], y)"
   ]
  },
  {
   "cell_type": "code",
   "execution_count": 32,
   "id": "c5e72d63",
   "metadata": {},
   "outputs": [
    {
     "name": "stdout",
     "output_type": "stream",
     "text": [
      "R2_score =  0.18794528514998887 Точность -0.01702062777204638\n"
     ]
    },
    {
     "data": {
      "image/png": "[encoded data removed]",
      "text/plain": [
       "<Figure size 640x480 with 1 Axes>"
      ]
     },
     "metadata": {},
     "output_type": "display_data"
    }
   ],
   "source": [
    "lin_reg(x[[2]], y)"
   ]
  },
  {
   "cell_type": "code",
   "execution_count": 24,
   "id": "b13fc6e8",
   "metadata": {},
   "outputs": [
    {
     "data": {
      "text/plain": [
       "-0.01702062777204638"
      ]
     },
     "execution_count": 24,
     "metadata": {},
     "output_type": "execute_result"
    }
   ],
   "source": [
    "binary.score(x[[2]], y)"
   ]
  },
  {
   "cell_type": "code",
   "execution_count": 33,
   "id": "3f1c639f",
   "metadata": {},
   "outputs": [
    {
     "name": "stdout",
     "output_type": "stream",
     "text": [
      "R2_score =  0.047470345664983093 Точность -0.37850937704067356\n"
     ]
    },
    {
     "data": {
      "image/png": "[encoded data removed]",
      "text/plain": [
       "<Figure size 640x480 with 1 Axes>"
      ]
     },
     "metadata": {},
     "output_type": "display_data"
    }
   ],
   "source": [
    "lin_reg(x[[3]], y)"
   ]
  },
  {
   "cell_type": "code",
   "execution_count": 25,
   "id": "cf64dc85",
   "metadata": {},
   "outputs": [
    {
     "data": {
      "text/plain": [
       "-0.37850937704067356"
      ]
     },
     "execution_count": 25,
     "metadata": {},
     "output_type": "execute_result"
    }
   ],
   "source": [
    "binary.score(x[[3]], y)"
   ]
  },
  {
   "cell_type": "code",
   "execution_count": 34,
   "id": "a2ec6248",
   "metadata": {},
   "outputs": [
    {
     "name": "stdout",
     "output_type": "stream",
     "text": [
      "R2_score =  0.00017176151145947838 Точность -0.6893964852006123\n"
     ]
    },
    {
     "data": {
      "image/png": "[encoded data removed]",
      "text/plain": [
       "<Figure size 640x480 with 1 Axes>"
      ]
     },
     "metadata": {},
     "output_type": "display_data"
    }
   ],
   "source": [
    "lin_reg(x[[4]], y)"
   ]
  },
  {
   "cell_type": "code",
   "execution_count": 27,
   "id": "67ff4b7b",
   "metadata": {},
   "outputs": [
    {
     "data": {
      "text/plain": [
       "-0.6893964852006123"
      ]
     },
     "execution_count": 27,
     "metadata": {},
     "output_type": "execute_result"
    }
   ],
   "source": [
    "binary.score(x[[4]], y)"
   ]
  },
  {
   "cell_type": "markdown",
   "id": "fc700a7d",
   "metadata": {},
   "source": [
    "3. Для целевой переменной и каждого из признаков постройте полиномиальную регрессию второго, третьего и десятого порядков. Сделайте вывод о значимости регрессии."
   ]
  },
  {
   "cell_type": "code",
   "execution_count": 39,
   "id": "5058dac4",
   "metadata": {},
   "outputs": [],
   "source": [
    "from sklearn.preprocessing import PolynomialFeatures"
   ]
  },
  {
   "cell_type": "code",
   "execution_count": 46,
   "id": "98834e7a",
   "metadata": {},
   "outputs": [],
   "source": [
    "def pol_reg_2(X, Y):\n",
    "    reg = PolynomialFeatures(degree=2) \n",
    "    X_pol = reg.fit_transform(X)\n",
    "    lr = LinearRegression()\n",
    "    lr.fit(X_pol, Y)\n",
    "    \n",
    "    return lr.score(X_pol, Y)\n",
    "    \n",
    "def pol_reg_3(X, Y):\n",
    "    reg = PolynomialFeatures(degree=3) \n",
    "    X_pol = reg.fit_transform(X)\n",
    "    lr = LinearRegression()\n",
    "    lr.fit(X_pol, Y)\n",
    "    \n",
    "    return lr.score(X_pol, Y)\n",
    "    \n",
    "def pol_reg_10(X, Y):\n",
    "    reg = PolynomialFeatures(degree=10) \n",
    "    X_pol = reg.fit_transform(X)\n",
    "    lr = LinearRegression()\n",
    "    lr.fit(X_pol, Y)\n",
    "    \n",
    "    return lr.score(X_pol, Y)"
   ]
  },
  {
   "cell_type": "code",
   "execution_count": 47,
   "id": "469de103",
   "metadata": {},
   "outputs": [
    {
     "name": "stdout",
     "output_type": "stream",
     "text": [
      "R2_score для 0 признака:\n",
      "Полином 2 степени: 0.04367170367915485 \n",
      "Полином 3 степени: 0.04376506816920167 \n",
      "Полином 10 степени: 0.05035596325168745\n"
     ]
    }
   ],
   "source": [
    "print('R2_score для 0 признака:')\n",
    "print(f'Полином 2 степени: {pol_reg_2(x[[0]], y)} \\nПолином 3 степени: {pol_reg_3(x[[0]], y)} \\nПолином 10 степени: {pol_reg_10(x[[0]], y)}');"
   ]
  },
  {
   "cell_type": "code",
   "execution_count": 89,
   "id": "6db53bdf",
   "metadata": {},
   "outputs": [
    {
     "name": "stdout",
     "output_type": "stream",
     "text": [
      "R2_score для 1 признака:\n",
      "Полином 2 степени: 0.7699942588883133 \n",
      "Полином 3 степени: 0.7711184109235 \n",
      "Полином 10 степени: 0.7726769307411921\n"
     ]
    }
   ],
   "source": [
    "print('R2_score для 1 признака:')\n",
    "print(f'Полином 2 степени: {pol_reg_2(x[[1]], y)} \\nПолином 3 степени: {pol_reg_3(x[[1]], y)} \\nПолином 10 степени: {pol_reg_10(x[[1]], y)}');"
   ]
  },
  {
   "cell_type": "code",
   "execution_count": 90,
   "id": "9256dc8d",
   "metadata": {},
   "outputs": [
    {
     "name": "stdout",
     "output_type": "stream",
     "text": [
      "R2_score для 2 признака:\n",
      "Полином 2 степени: 0.19000787278473807 \n",
      "Полином 3 степени: 0.19280163734543854 \n",
      "Полином 10 степени: 0.20440944561264418\n"
     ]
    }
   ],
   "source": [
    "print('R2_score для 2 признака:')\n",
    "print(f'Полином 2 степени: {pol_reg_2(x[[2]], y)} \\nПолином 3 степени: {pol_reg_3(x[[2]], y)} \\nПолином 10 степени: {pol_reg_10(x[[2]], y)}');"
   ]
  },
  {
   "cell_type": "code",
   "execution_count": 91,
   "id": "d005ba60",
   "metadata": {},
   "outputs": [
    {
     "name": "stdout",
     "output_type": "stream",
     "text": [
      "R2_score для 3 признака:\n",
      "Полином 2 степени: 0.04794250960519941 \n",
      "Полином 3 степени: 0.05031163217811918 \n",
      "Полином 10 степени: 0.07266746559268988\n"
     ]
    }
   ],
   "source": [
    "print('R2_score для 3 признака:')\n",
    "print(f'Полином 2 степени: {pol_reg_2(x[[3]], y)} \\nПолином 3 степени: {pol_reg_3(x[[3]], y)} \\nПолином 10 степени: {pol_reg_10(x[[3]], y)}');"
   ]
  },
  {
   "cell_type": "code",
   "execution_count": 92,
   "id": "4a1fd6c5",
   "metadata": {},
   "outputs": [
    {
     "name": "stdout",
     "output_type": "stream",
     "text": [
      "R2_score для 4 признака:\n",
      "Полином 2 степени: 0.0010490365524417067 \n",
      "Полином 3 степени: 0.0010646025332345932 \n",
      "Полином 10 степени: 0.04505264171346801\n"
     ]
    }
   ],
   "source": [
    "print('R2_score для 4 признака:')\n",
    "print(f'Полином 2 степени: {pol_reg_2(x[[4]], y)} \\nПолином 3 степени: {pol_reg_3(x[[4]], y)} \\nПолином 10 степени: {pol_reg_10(x[[4]], y)}');"
   ]
  },
  {
   "cell_type": "markdown",
   "id": "57a5ba55",
   "metadata": {},
   "source": [
    "Регрессия наиболее значима при степени полинома = 10 для всех признаков"
   ]
  },
  {
   "cell_type": "markdown",
   "id": "9f41b79a",
   "metadata": {},
   "source": [
    "4. Постройте сводную таблицу показателей точности всех построенных моделей. Сделайте вывод, какие модели переобученнные, какие - недообученные."
   ]
  },
  {
   "cell_type": "code",
   "execution_count": 108,
   "id": "dc0e37ea",
   "metadata": {},
   "outputs": [],
   "source": [
    "def lin_reg(X, Y):\n",
    "    reg = LinearRegression()\n",
    "    reg.fit(X, Y)\n",
    "    \n",
    "    return reg.score(X, Y)"
   ]
  },
  {
   "cell_type": "code",
   "execution_count": 112,
   "id": "619be3a6",
   "metadata": {},
   "outputs": [
    {
     "data": {
      "text/html": [
       "<div>\n",
       "<style scoped>\n",
       "    .dataframe tbody tr th:only-of-type {\n",
       "        vertical-align: middle;\n",
       "    }\n",
       "\n",
       "    .dataframe tbody tr th {\n",
       "        vertical-align: top;\n",
       "    }\n",
       "\n",
       "    .dataframe thead th {\n",
       "        text-align: right;\n",
       "    }\n",
       "</style>\n",
       "<table border=\"1\" class=\"dataframe\">\n",
       "  <thead>\n",
       "    <tr style=\"text-align: right;\">\n",
       "      <th></th>\n",
       "      <th>Признак</th>\n",
       "      <th>Линейная регрессия</th>\n",
       "      <th>Полиномиальная регрессия 2</th>\n",
       "      <th>Полиномиальная регрессия 3</th>\n",
       "      <th>Полиномиальная регрессия 10</th>\n",
       "    </tr>\n",
       "  </thead>\n",
       "  <tbody>\n",
       "    <tr>\n",
       "      <th>0</th>\n",
       "      <td>0</td>\n",
       "      <td>0.043643</td>\n",
       "      <td>0.043672</td>\n",
       "      <td>0.043765</td>\n",
       "      <td>0.050356</td>\n",
       "    </tr>\n",
       "    <tr>\n",
       "      <th>1</th>\n",
       "      <td>1</td>\n",
       "      <td>0.769974</td>\n",
       "      <td>0.769994</td>\n",
       "      <td>0.771118</td>\n",
       "      <td>0.772677</td>\n",
       "    </tr>\n",
       "    <tr>\n",
       "      <th>2</th>\n",
       "      <td>2</td>\n",
       "      <td>0.187945</td>\n",
       "      <td>0.190008</td>\n",
       "      <td>0.192802</td>\n",
       "      <td>0.204409</td>\n",
       "    </tr>\n",
       "    <tr>\n",
       "      <th>3</th>\n",
       "      <td>3</td>\n",
       "      <td>0.047470</td>\n",
       "      <td>0.047943</td>\n",
       "      <td>0.050312</td>\n",
       "      <td>0.072667</td>\n",
       "    </tr>\n",
       "    <tr>\n",
       "      <th>4</th>\n",
       "      <td>4</td>\n",
       "      <td>0.000172</td>\n",
       "      <td>0.001049</td>\n",
       "      <td>0.001065</td>\n",
       "      <td>0.045053</td>\n",
       "    </tr>\n",
       "  </tbody>\n",
       "</table>\n",
       "</div>"
      ],
      "text/plain": [
       "   Признак  Линейная регрессия  Полиномиальная регрессия 2  \\\n",
       "0        0            0.043643                    0.043672   \n",
       "1        1            0.769974                    0.769994   \n",
       "2        2            0.187945                    0.190008   \n",
       "3        3            0.047470                    0.047943   \n",
       "4        4            0.000172                    0.001049   \n",
       "\n",
       "   Полиномиальная регрессия 3  Полиномиальная регрессия 10  \n",
       "0                    0.043765                     0.050356  \n",
       "1                    0.771118                     0.772677  \n",
       "2                    0.192802                     0.204409  \n",
       "3                    0.050312                     0.072667  \n",
       "4                    0.001065                     0.045053  "
      ]
     },
     "execution_count": 112,
     "metadata": {},
     "output_type": "execute_result"
    }
   ],
   "source": [
    "table = pd.DataFrame({'Признак': [0, 1, 2, 3, 4], 'Линейная регрессия': [lin_reg(x[[0]], y), lin_reg(x[[1]], y), lin_reg(x[[2]], y), lin_reg(x[[3]], y), lin_reg(x[[4]], y)], 'Полиномиальная регрессия 2': [pol_reg_2(x[[0]], y), pol_reg_2(x[[1]], y), pol_reg_2(x[[2]], y), pol_reg_2(x[[3]], y), pol_reg_2(x[[4]], y)], 'Полиномиальная регрессия 3': [pol_reg_3(x[[0]], y), pol_reg_3(x[[1]], y), pol_reg_3(x[[2]], y), pol_reg_3(x[[3]], y), pol_reg_3(x[[4]], y)], 'Полиномиальная регрессия 10': [pol_reg_10(x[[0]], y), pol_reg_10(x[[1]], y), pol_reg_10(x[[2]], y), pol_reg_10(x[[3]], y), pol_reg_10(x[[4]], y)]})\n",
    "table"
   ]
  },
  {
   "cell_type": "markdown",
   "id": "7e4cd1e7",
   "metadata": {},
   "source": [
    "5. Используйте другие метрики качества регрессионной модели в дополнение к коэффициенту детерминации."
   ]
  },
  {
   "cell_type": "code",
   "execution_count": 48,
   "id": "6b1af7e3",
   "metadata": {},
   "outputs": [],
   "source": [
    "'''Функции для регрессий'''\n",
    "def linear_predict(X, Y):\n",
    "    reg = LinearRegression()\n",
    "    reg.fit(X, Y)\n",
    "    return reg.predict(X)\n",
    "\n",
    "def poly_predict(X, Y):\n",
    "    reg = PolynomialFeatures(degree=10) \n",
    "    X_pol = reg.fit_transform(X)\n",
    "    lr = LinearRegression()\n",
    "    lr.fit(X_pol, Y)\n",
    "    return lr.predict(X_pol)\n",
    "\n",
    "'''Функции для рассчета метрик качетсва'''\n",
    "def tss(X, Y):\n",
    "    TSS = ((Y - Y.mean())**2).sum()[0]\n",
    "    return TSS\n",
    "\n",
    "def ess(X, Y, func_reg):\n",
    "    ESS = ((Y - func_reg(X, Y))**2).sum()[0]\n",
    "    return ESS\n",
    "\n",
    "def rss(X, Y, func_reg):\n",
    "    RSS = ((func_reg(X, Y) - Y.mean()[0])**2).sum()\n",
    "    return RSS"
   ]
  },
  {
   "cell_type": "code",
   "execution_count": 49,
   "id": "a7ce12a5",
   "metadata": {},
   "outputs": [
    {
     "data": {
      "text/html": [
       "<div>\n",
       "<style scoped>\n",
       "    .dataframe tbody tr th:only-of-type {\n",
       "        vertical-align: middle;\n",
       "    }\n",
       "\n",
       "    .dataframe tbody tr th {\n",
       "        vertical-align: top;\n",
       "    }\n",
       "\n",
       "    .dataframe thead th {\n",
       "        text-align: right;\n",
       "    }\n",
       "</style>\n",
       "<table border=\"1\" class=\"dataframe\">\n",
       "  <thead>\n",
       "    <tr style=\"text-align: right;\">\n",
       "      <th></th>\n",
       "      <th>TSS</th>\n",
       "      <th>ESS</th>\n",
       "      <th>RSS</th>\n",
       "    </tr>\n",
       "  </thead>\n",
       "  <tbody>\n",
       "    <tr>\n",
       "      <th>0</th>\n",
       "      <td>4.650463e+06</td>\n",
       "      <td>4.447501e+06</td>\n",
       "      <td>2.029618e+05</td>\n",
       "    </tr>\n",
       "    <tr>\n",
       "      <th>1</th>\n",
       "      <td>4.650463e+06</td>\n",
       "      <td>1.069726e+06</td>\n",
       "      <td>3.580737e+06</td>\n",
       "    </tr>\n",
       "    <tr>\n",
       "      <th>2</th>\n",
       "      <td>4.650463e+06</td>\n",
       "      <td>3.776430e+06</td>\n",
       "      <td>8.740325e+05</td>\n",
       "    </tr>\n",
       "    <tr>\n",
       "      <th>3</th>\n",
       "      <td>4.650463e+06</td>\n",
       "      <td>4.429703e+06</td>\n",
       "      <td>2.207591e+05</td>\n",
       "    </tr>\n",
       "    <tr>\n",
       "      <th>4</th>\n",
       "      <td>4.650463e+06</td>\n",
       "      <td>4.649664e+06</td>\n",
       "      <td>7.987705e+02</td>\n",
       "    </tr>\n",
       "  </tbody>\n",
       "</table>\n",
       "</div>"
      ],
      "text/plain": [
       "            TSS           ESS           RSS\n",
       "0  4.650463e+06  4.447501e+06  2.029618e+05\n",
       "1  4.650463e+06  1.069726e+06  3.580737e+06\n",
       "2  4.650463e+06  3.776430e+06  8.740325e+05\n",
       "3  4.650463e+06  4.429703e+06  2.207591e+05\n",
       "4  4.650463e+06  4.649664e+06  7.987705e+02"
      ]
     },
     "execution_count": 49,
     "metadata": {},
     "output_type": "execute_result"
    }
   ],
   "source": [
    "TSS = [tss(x[[0]], y), tss(x[[1]], y), tss(x[[2]], y), tss(x[[3]], y), tss(x[[4]], y)]\n",
    "ESS = [ess(x[[0]], y, linear_predict), ess(x[[1]], y, linear_predict), ess(x[[2]], y, linear_predict), ess(x[[3]], y, linear_predict), ess(x[[4]], y, linear_predict)]\n",
    "RSS = [rss(x[[0]], y, linear_predict), rss(x[[1]], y, linear_predict), rss(x[[2]], y, linear_predict), rss(x[[3]], y, linear_predict), rss(x[[4]], y, linear_predict)]\n",
    "\n",
    "\n",
    "'''Таблица для линейной регрессии'''\n",
    "table_lin = pd.DataFrame(data={'TSS': TSS, 'ESS': ESS, 'RSS': RSS})\n",
    "table_lin"
   ]
  },
  {
   "cell_type": "code",
   "execution_count": 50,
   "id": "27e152ef",
   "metadata": {},
   "outputs": [
    {
     "data": {
      "text/html": [
       "<div>\n",
       "<style scoped>\n",
       "    .dataframe tbody tr th:only-of-type {\n",
       "        vertical-align: middle;\n",
       "    }\n",
       "\n",
       "    .dataframe tbody tr th {\n",
       "        vertical-align: top;\n",
       "    }\n",
       "\n",
       "    .dataframe thead th {\n",
       "        text-align: right;\n",
       "    }\n",
       "</style>\n",
       "<table border=\"1\" class=\"dataframe\">\n",
       "  <thead>\n",
       "    <tr style=\"text-align: right;\">\n",
       "      <th></th>\n",
       "      <th>TSS</th>\n",
       "      <th>ESS</th>\n",
       "      <th>RSS</th>\n",
       "    </tr>\n",
       "  </thead>\n",
       "  <tbody>\n",
       "    <tr>\n",
       "      <th>0</th>\n",
       "      <td>4.650463e+06</td>\n",
       "      <td>4.416284e+06</td>\n",
       "      <td>2.341785e+05</td>\n",
       "    </tr>\n",
       "    <tr>\n",
       "      <th>1</th>\n",
       "      <td>4.650463e+06</td>\n",
       "      <td>1.057157e+06</td>\n",
       "      <td>3.593305e+06</td>\n",
       "    </tr>\n",
       "    <tr>\n",
       "      <th>2</th>\n",
       "      <td>4.650463e+06</td>\n",
       "      <td>3.699864e+06</td>\n",
       "      <td>9.505985e+05</td>\n",
       "    </tr>\n",
       "    <tr>\n",
       "      <th>3</th>\n",
       "      <td>4.650463e+06</td>\n",
       "      <td>4.312525e+06</td>\n",
       "      <td>3.379373e+05</td>\n",
       "    </tr>\n",
       "    <tr>\n",
       "      <th>4</th>\n",
       "      <td>4.650463e+06</td>\n",
       "      <td>4.440947e+06</td>\n",
       "      <td>2.095156e+05</td>\n",
       "    </tr>\n",
       "  </tbody>\n",
       "</table>\n",
       "</div>"
      ],
      "text/plain": [
       "            TSS           ESS           RSS\n",
       "0  4.650463e+06  4.416284e+06  2.341785e+05\n",
       "1  4.650463e+06  1.057157e+06  3.593305e+06\n",
       "2  4.650463e+06  3.699864e+06  9.505985e+05\n",
       "3  4.650463e+06  4.312525e+06  3.379373e+05\n",
       "4  4.650463e+06  4.440947e+06  2.095156e+05"
      ]
     },
     "execution_count": 50,
     "metadata": {},
     "output_type": "execute_result"
    }
   ],
   "source": [
    "TSS = [tss(x[[0]], y), tss(x[[1]], y), tss(x[[2]], y), tss(x[[3]], y), tss(x[[4]], y)]\n",
    "ESS = [ess(x[[0]], y, poly_predict), ess(x[[1]], y, poly_predict), ess(x[[2]], y, poly_predict), ess(x[[3]], y, poly_predict), ess(x[[4]], y, poly_predict)]\n",
    "RSS = [rss(x[[0]], y, poly_predict), rss(x[[1]], y, poly_predict), rss(x[[2]], y, poly_predict), rss(x[[3]], y, poly_predict), rss(x[[4]], y, poly_predict)]\n",
    "\n",
    "\n",
    "'''Таблица для полиномиальной регрессии'''\n",
    "table_pol = pd.DataFrame(data={'TSS': TSS, 'ESS': ESS, 'RSS': RSS})\n",
    "table_pol"
   ]
  },
  {
   "cell_type": "markdown",
   "id": "ad9738e3",
   "metadata": {},
   "source": [
    "6. (*) Замерьте время обучения полиномиальных моделей с разной степенью полинома. Сделайте вывод."
   ]
  },
  {
   "cell_type": "code",
   "execution_count": null,
   "id": "d5ab0a55",
   "metadata": {},
   "outputs": [],
   "source": []
  },
  {
   "cell_type": "code",
   "execution_count": 176,
   "id": "f703dca4",
   "metadata": {},
   "outputs": [],
   "source": [
    "def poly_model(X, Y, degree_pol):\n",
    "    reg = PolynomialFeatures(degree=degree_pol) \n",
    "    X_pol = reg.fit_transform(X)\n",
    "    lr = LinearRegression()\n",
    "    lr.fit(X_pol, Y)"
   ]
  },
  {
   "cell_type": "code",
   "execution_count": 178,
   "id": "57950380",
   "metadata": {},
   "outputs": [
    {
     "name": "stdout",
     "output_type": "stream",
     "text": [
      "Степень:  1\n",
      "5.08 ms ± 379 µs per loop (mean ± std. dev. of 7 runs, 100 loops each)\n",
      "Степень:  2\n",
      "4.88 ms ± 102 µs per loop (mean ± std. dev. of 7 runs, 100 loops each)\n",
      "Степень:  3\n",
      "4.92 ms ± 175 µs per loop (mean ± std. dev. of 7 runs, 100 loops each)\n",
      "Степень:  4\n",
      "4.81 ms ± 161 µs per loop (mean ± std. dev. of 7 runs, 100 loops each)\n",
      "Степень:  5\n",
      "4.78 ms ± 118 µs per loop (mean ± std. dev. of 7 runs, 100 loops each)\n",
      "Степень:  6\n",
      "4.81 ms ± 113 µs per loop (mean ± std. dev. of 7 runs, 100 loops each)\n",
      "Степень:  7\n",
      "4.94 ms ± 126 µs per loop (mean ± std. dev. of 7 runs, 100 loops each)\n",
      "Степень:  8\n",
      "5.11 ms ± 255 µs per loop (mean ± std. dev. of 7 runs, 100 loops each)\n",
      "Степень:  9\n",
      "4.92 ms ± 65.8 µs per loop (mean ± std. dev. of 7 runs, 100 loops each)\n",
      "Степень:  10\n",
      "4.95 ms ± 106 µs per loop (mean ± std. dev. of 7 runs, 100 loops each)\n"
     ]
    }
   ],
   "source": [
    "for degree in range(1, 11):\n",
    "    print('Степень: ', degree)\n",
    "    %timeit poly_model(x[[0]], y, degree)"
   ]
  },
  {
   "cell_type": "markdown",
   "id": "31b21449",
   "metadata": {},
   "source": [
    "Сначала время уменьшалось при увеличении степени полинома, дойдя до степени=5, было зафиксированно минимальное сремя, далее время увеличиволось."
   ]
  },
  {
   "cell_type": "code",
   "execution_count": null,
   "id": "8d9f46a5",
   "metadata": {},
   "outputs": [],
   "source": []
  }
 ],
 "metadata": {
  "kernelspec": {
   "display_name": "Python 3 (ipykernel)",
   "language": "python",
   "name": "python3"
  },
  "language_info": {
   "codemirror_mode": {
    "name": "ipython",
    "version": 3
   },
   "file_extension": ".py",
   "mimetype": "text/x-python",
   "name": "python",
   "nbconvert_exporter": "python",
   "pygments_lexer": "ipython3",
   "version": "3.9.13"
  }
 },
 "nbformat": 4,
 "nbformat_minor": 5
}
