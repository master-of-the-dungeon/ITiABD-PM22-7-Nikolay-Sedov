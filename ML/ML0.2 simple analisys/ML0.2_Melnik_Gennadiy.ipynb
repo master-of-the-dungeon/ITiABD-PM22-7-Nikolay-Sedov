{
 "cells": [
  {
   "cell_type": "code",
   "execution_count": 1,
   "id": "5d779c17",
   "metadata": {},
   "outputs": [],
   "source": [
    "import pandas as pd"
   ]
  },
  {
   "cell_type": "markdown",
   "id": "2639c870",
   "metadata": {},
   "source": [
    "1)Загрузите данные по вариантам в ноутбук"
   ]
  },
  {
   "cell_type": "code",
   "execution_count": 2,
   "id": "32434cf4",
   "metadata": {},
   "outputs": [
    {
     "data": {
      "text/html": [
       "<div>\n",
       "<style scoped>\n",
       "    .dataframe tbody tr th:only-of-type {\n",
       "        vertical-align: middle;\n",
       "    }\n",
       "\n",
       "    .dataframe tbody tr th {\n",
       "        vertical-align: top;\n",
       "    }\n",
       "\n",
       "    .dataframe thead th {\n",
       "        text-align: right;\n",
       "    }\n",
       "</style>\n",
       "<table border=\"1\" class=\"dataframe\">\n",
       "  <thead>\n",
       "    <tr style=\"text-align: right;\">\n",
       "      <th></th>\n",
       "      <th>№</th>\n",
       "      <th>№ школы</th>\n",
       "      <th>Класс</th>\n",
       "      <th>Пол</th>\n",
       "      <th>Номер варианта</th>\n",
       "      <th>Задания с кратким ответом</th>\n",
       "      <th>Задания с развёрнутым ответом</th>\n",
       "      <th>Устная часть</th>\n",
       "      <th>Первичный балл</th>\n",
       "      <th>Балл</th>\n",
       "      <th>Минимальный балл</th>\n",
       "    </tr>\n",
       "  </thead>\n",
       "  <tbody>\n",
       "    <tr>\n",
       "      <th>0</th>\n",
       "      <td>1.0</td>\n",
       "      <td>117.0</td>\n",
       "      <td>11</td>\n",
       "      <td>М</td>\n",
       "      <td>341.0</td>\n",
       "      <td>1+++--1+-++---0---------0</td>\n",
       "      <td>0(1)0(3)0(1)0(3)0(2)0(2)0(3)0(3)0(2)0(2)0(1)0(1)</td>\n",
       "      <td>NaN</td>\n",
       "      <td>8.0</td>\n",
       "      <td>20.0</td>\n",
       "      <td>24.0</td>\n",
       "    </tr>\n",
       "    <tr>\n",
       "      <th>1</th>\n",
       "      <td>2.0</td>\n",
       "      <td>148.0</td>\n",
       "      <td>12А</td>\n",
       "      <td>М</td>\n",
       "      <td>338.0</td>\n",
       "      <td>1+---+0--+---+0----++-+-0</td>\n",
       "      <td>0(1)0(3)0(1)0(3)0(2)0(2)0(3)0(3)0(2)0(2)0(1)0(1)</td>\n",
       "      <td>NaN</td>\n",
       "      <td>8.0</td>\n",
       "      <td>20.0</td>\n",
       "      <td>24.0</td>\n",
       "    </tr>\n",
       "    <tr>\n",
       "      <th>2</th>\n",
       "      <td>3.0</td>\n",
       "      <td>152.0</td>\n",
       "      <td>13</td>\n",
       "      <td>Ж</td>\n",
       "      <td>104.0</td>\n",
       "      <td>2-----0--+----1---------1</td>\n",
       "      <td>0(1)0(3)0(1)0(3)0(2)0(2)0(3)1(3)0(2)1(2)1(1)1(1)</td>\n",
       "      <td>NaN</td>\n",
       "      <td>9.0</td>\n",
       "      <td>22.0</td>\n",
       "      <td>24.0</td>\n",
       "    </tr>\n",
       "    <tr>\n",
       "      <th>3</th>\n",
       "      <td>4.0</td>\n",
       "      <td>152.0</td>\n",
       "      <td>13</td>\n",
       "      <td>М</td>\n",
       "      <td>104.0</td>\n",
       "      <td>1+--+-0++-----2----++---0</td>\n",
       "      <td>0(1)0(3)0(1)0(3)0(2)0(2)0(3)0(3)0(2)0(2)0(1)0(1)</td>\n",
       "      <td>NaN</td>\n",
       "      <td>9.0</td>\n",
       "      <td>22.0</td>\n",
       "      <td>24.0</td>\n",
       "    </tr>\n",
       "    <tr>\n",
       "      <th>4</th>\n",
       "      <td>5.0</td>\n",
       "      <td>132.0</td>\n",
       "      <td>11</td>\n",
       "      <td>М</td>\n",
       "      <td>337.0</td>\n",
       "      <td>1++---0-+++---1----+----2</td>\n",
       "      <td>0(1)0(3)0(1)0(3)0(2)0(2)0(3)0(3)0(2)0(2)0(1)0(1)</td>\n",
       "      <td>NaN</td>\n",
       "      <td>10.0</td>\n",
       "      <td>24.0</td>\n",
       "      <td>24.0</td>\n",
       "    </tr>\n",
       "    <tr>\n",
       "      <th>...</th>\n",
       "      <td>...</td>\n",
       "      <td>...</td>\n",
       "      <td>...</td>\n",
       "      <td>...</td>\n",
       "      <td>...</td>\n",
       "      <td>...</td>\n",
       "      <td>...</td>\n",
       "      <td>...</td>\n",
       "      <td>...</td>\n",
       "      <td>...</td>\n",
       "      <td>...</td>\n",
       "    </tr>\n",
       "    <tr>\n",
       "      <th>3043</th>\n",
       "      <td>3044.0</td>\n",
       "      <td>146.0</td>\n",
       "      <td>11</td>\n",
       "      <td>Ж</td>\n",
       "      <td>338.0</td>\n",
       "      <td>2+++++5+++++++2+++++++++4</td>\n",
       "      <td>1(1)3(3)1(1)3(3)2(2)2(2)3(3)3(3)2(2)2(2)1(1)1(1)</td>\n",
       "      <td>NaN</td>\n",
       "      <td>58.0</td>\n",
       "      <td>100.0</td>\n",
       "      <td>24.0</td>\n",
       "    </tr>\n",
       "    <tr>\n",
       "      <th>3044</th>\n",
       "      <td>3045.0</td>\n",
       "      <td>147.0</td>\n",
       "      <td>11</td>\n",
       "      <td>Ж</td>\n",
       "      <td>340.0</td>\n",
       "      <td>2+++++5+++++++2+++++++++4</td>\n",
       "      <td>1(1)3(3)1(1)3(3)2(2)2(2)3(3)3(3)2(2)2(2)1(1)1(1)</td>\n",
       "      <td>NaN</td>\n",
       "      <td>58.0</td>\n",
       "      <td>100.0</td>\n",
       "      <td>24.0</td>\n",
       "    </tr>\n",
       "    <tr>\n",
       "      <th>3045</th>\n",
       "      <td>3046.0</td>\n",
       "      <td>147.0</td>\n",
       "      <td>11</td>\n",
       "      <td>Ж</td>\n",
       "      <td>338.0</td>\n",
       "      <td>2+++++5+++++++2+++++++++4</td>\n",
       "      <td>1(1)3(3)1(1)3(3)2(2)2(2)3(3)3(3)2(2)2(2)1(1)1(1)</td>\n",
       "      <td>NaN</td>\n",
       "      <td>58.0</td>\n",
       "      <td>100.0</td>\n",
       "      <td>24.0</td>\n",
       "    </tr>\n",
       "    <tr>\n",
       "      <th>3046</th>\n",
       "      <td>3047.0</td>\n",
       "      <td>147.0</td>\n",
       "      <td>11</td>\n",
       "      <td>Ж</td>\n",
       "      <td>337.0</td>\n",
       "      <td>2+++++5+++++++2+++++++++4</td>\n",
       "      <td>1(1)3(3)1(1)3(3)2(2)2(2)3(3)3(3)2(2)2(2)1(1)1(1)</td>\n",
       "      <td>NaN</td>\n",
       "      <td>58.0</td>\n",
       "      <td>100.0</td>\n",
       "      <td>24.0</td>\n",
       "    </tr>\n",
       "    <tr>\n",
       "      <th>3047</th>\n",
       "      <td>3048.0</td>\n",
       "      <td>144.0</td>\n",
       "      <td>11А</td>\n",
       "      <td>Ж</td>\n",
       "      <td>338.0</td>\n",
       "      <td>2+++++5+++++++2+++++++++4</td>\n",
       "      <td>1(1)3(3)1(1)3(3)2(2)2(2)3(3)3(3)2(2)2(2)1(1)1(1)</td>\n",
       "      <td>NaN</td>\n",
       "      <td>58.0</td>\n",
       "      <td>100.0</td>\n",
       "      <td>24.0</td>\n",
       "    </tr>\n",
       "  </tbody>\n",
       "</table>\n",
       "<p>3048 rows × 11 columns</p>\n",
       "</div>"
      ],
      "text/plain": [
       "           №  № школы Класс Пол  Номер варианта  Задания с кратким ответом  \\\n",
       "0        1.0    117.0    11   М           341.0  1+++--1+-++---0---------0   \n",
       "1        2.0    148.0   12А   М           338.0  1+---+0--+---+0----++-+-0   \n",
       "2        3.0    152.0    13   Ж           104.0  2-----0--+----1---------1   \n",
       "3        4.0    152.0    13   М           104.0  1+--+-0++-----2----++---0   \n",
       "4        5.0    132.0    11   М           337.0  1++---0-+++---1----+----2   \n",
       "...      ...      ...   ...  ..             ...                        ...   \n",
       "3043  3044.0    146.0    11   Ж           338.0  2+++++5+++++++2+++++++++4   \n",
       "3044  3045.0    147.0    11   Ж           340.0  2+++++5+++++++2+++++++++4   \n",
       "3045  3046.0    147.0    11   Ж           338.0  2+++++5+++++++2+++++++++4   \n",
       "3046  3047.0    147.0    11   Ж           337.0  2+++++5+++++++2+++++++++4   \n",
       "3047  3048.0    144.0   11А   Ж           338.0  2+++++5+++++++2+++++++++4   \n",
       "\n",
       "                         Задания с развёрнутым ответом Устная часть  \\\n",
       "0     0(1)0(3)0(1)0(3)0(2)0(2)0(3)0(3)0(2)0(2)0(1)0(1)          NaN   \n",
       "1     0(1)0(3)0(1)0(3)0(2)0(2)0(3)0(3)0(2)0(2)0(1)0(1)          NaN   \n",
       "2     0(1)0(3)0(1)0(3)0(2)0(2)0(3)1(3)0(2)1(2)1(1)1(1)          NaN   \n",
       "3     0(1)0(3)0(1)0(3)0(2)0(2)0(3)0(3)0(2)0(2)0(1)0(1)          NaN   \n",
       "4     0(1)0(3)0(1)0(3)0(2)0(2)0(3)0(3)0(2)0(2)0(1)0(1)          NaN   \n",
       "...                                                ...          ...   \n",
       "3043  1(1)3(3)1(1)3(3)2(2)2(2)3(3)3(3)2(2)2(2)1(1)1(1)          NaN   \n",
       "3044  1(1)3(3)1(1)3(3)2(2)2(2)3(3)3(3)2(2)2(2)1(1)1(1)          NaN   \n",
       "3045  1(1)3(3)1(1)3(3)2(2)2(2)3(3)3(3)2(2)2(2)1(1)1(1)          NaN   \n",
       "3046  1(1)3(3)1(1)3(3)2(2)2(2)3(3)3(3)2(2)2(2)1(1)1(1)          NaN   \n",
       "3047  1(1)3(3)1(1)3(3)2(2)2(2)3(3)3(3)2(2)2(2)1(1)1(1)          NaN   \n",
       "\n",
       "      Первичный балл   Балл  Минимальный балл  \n",
       "0                8.0   20.0              24.0  \n",
       "1                8.0   20.0              24.0  \n",
       "2                9.0   22.0              24.0  \n",
       "3                9.0   22.0              24.0  \n",
       "4               10.0   24.0              24.0  \n",
       "...              ...    ...               ...  \n",
       "3043            58.0  100.0              24.0  \n",
       "3044            58.0  100.0              24.0  \n",
       "3045            58.0  100.0              24.0  \n",
       "3046            58.0  100.0              24.0  \n",
       "3047            58.0  100.0              24.0  \n",
       "\n",
       "[3048 rows x 11 columns]"
      ]
     },
     "execution_count": 2,
     "metadata": {},
     "output_type": "execute_result"
    }
   ],
   "source": [
    "db = pd.read_excel('data\\Var1.xlsx', skiprows=2).drop([3048])\n",
    "db"
   ]
  },
  {
   "cell_type": "code",
   "execution_count": 3,
   "id": "278f2892",
   "metadata": {},
   "outputs": [
    {
     "data": {
      "text/html": [
       "<div>\n",
       "<style scoped>\n",
       "    .dataframe tbody tr th:only-of-type {\n",
       "        vertical-align: middle;\n",
       "    }\n",
       "\n",
       "    .dataframe tbody tr th {\n",
       "        vertical-align: top;\n",
       "    }\n",
       "\n",
       "    .dataframe thead th {\n",
       "        text-align: right;\n",
       "    }\n",
       "</style>\n",
       "<table border=\"1\" class=\"dataframe\">\n",
       "  <thead>\n",
       "    <tr style=\"text-align: right;\">\n",
       "      <th></th>\n",
       "      <th>№</th>\n",
       "      <th>№ школы</th>\n",
       "      <th>Класс</th>\n",
       "      <th>Пол</th>\n",
       "      <th>Номер варианта</th>\n",
       "      <th>Первичный балл</th>\n",
       "      <th>Балл</th>\n",
       "      <th>Минимальный балл</th>\n",
       "    </tr>\n",
       "  </thead>\n",
       "  <tbody>\n",
       "    <tr>\n",
       "      <th>0</th>\n",
       "      <td>1.0</td>\n",
       "      <td>117.0</td>\n",
       "      <td>11</td>\n",
       "      <td>М</td>\n",
       "      <td>341.0</td>\n",
       "      <td>8.0</td>\n",
       "      <td>20.0</td>\n",
       "      <td>24.0</td>\n",
       "    </tr>\n",
       "    <tr>\n",
       "      <th>1</th>\n",
       "      <td>2.0</td>\n",
       "      <td>148.0</td>\n",
       "      <td>12А</td>\n",
       "      <td>М</td>\n",
       "      <td>338.0</td>\n",
       "      <td>8.0</td>\n",
       "      <td>20.0</td>\n",
       "      <td>24.0</td>\n",
       "    </tr>\n",
       "    <tr>\n",
       "      <th>2</th>\n",
       "      <td>3.0</td>\n",
       "      <td>152.0</td>\n",
       "      <td>13</td>\n",
       "      <td>Ж</td>\n",
       "      <td>104.0</td>\n",
       "      <td>9.0</td>\n",
       "      <td>22.0</td>\n",
       "      <td>24.0</td>\n",
       "    </tr>\n",
       "    <tr>\n",
       "      <th>3</th>\n",
       "      <td>4.0</td>\n",
       "      <td>152.0</td>\n",
       "      <td>13</td>\n",
       "      <td>М</td>\n",
       "      <td>104.0</td>\n",
       "      <td>9.0</td>\n",
       "      <td>22.0</td>\n",
       "      <td>24.0</td>\n",
       "    </tr>\n",
       "    <tr>\n",
       "      <th>4</th>\n",
       "      <td>5.0</td>\n",
       "      <td>132.0</td>\n",
       "      <td>11</td>\n",
       "      <td>М</td>\n",
       "      <td>337.0</td>\n",
       "      <td>10.0</td>\n",
       "      <td>24.0</td>\n",
       "      <td>24.0</td>\n",
       "    </tr>\n",
       "    <tr>\n",
       "      <th>...</th>\n",
       "      <td>...</td>\n",
       "      <td>...</td>\n",
       "      <td>...</td>\n",
       "      <td>...</td>\n",
       "      <td>...</td>\n",
       "      <td>...</td>\n",
       "      <td>...</td>\n",
       "      <td>...</td>\n",
       "    </tr>\n",
       "    <tr>\n",
       "      <th>3043</th>\n",
       "      <td>3044.0</td>\n",
       "      <td>146.0</td>\n",
       "      <td>11</td>\n",
       "      <td>Ж</td>\n",
       "      <td>338.0</td>\n",
       "      <td>58.0</td>\n",
       "      <td>100.0</td>\n",
       "      <td>24.0</td>\n",
       "    </tr>\n",
       "    <tr>\n",
       "      <th>3044</th>\n",
       "      <td>3045.0</td>\n",
       "      <td>147.0</td>\n",
       "      <td>11</td>\n",
       "      <td>Ж</td>\n",
       "      <td>340.0</td>\n",
       "      <td>58.0</td>\n",
       "      <td>100.0</td>\n",
       "      <td>24.0</td>\n",
       "    </tr>\n",
       "    <tr>\n",
       "      <th>3045</th>\n",
       "      <td>3046.0</td>\n",
       "      <td>147.0</td>\n",
       "      <td>11</td>\n",
       "      <td>Ж</td>\n",
       "      <td>338.0</td>\n",
       "      <td>58.0</td>\n",
       "      <td>100.0</td>\n",
       "      <td>24.0</td>\n",
       "    </tr>\n",
       "    <tr>\n",
       "      <th>3046</th>\n",
       "      <td>3047.0</td>\n",
       "      <td>147.0</td>\n",
       "      <td>11</td>\n",
       "      <td>Ж</td>\n",
       "      <td>337.0</td>\n",
       "      <td>58.0</td>\n",
       "      <td>100.0</td>\n",
       "      <td>24.0</td>\n",
       "    </tr>\n",
       "    <tr>\n",
       "      <th>3047</th>\n",
       "      <td>3048.0</td>\n",
       "      <td>144.0</td>\n",
       "      <td>11А</td>\n",
       "      <td>Ж</td>\n",
       "      <td>338.0</td>\n",
       "      <td>58.0</td>\n",
       "      <td>100.0</td>\n",
       "      <td>24.0</td>\n",
       "    </tr>\n",
       "  </tbody>\n",
       "</table>\n",
       "<p>3048 rows × 8 columns</p>\n",
       "</div>"
      ],
      "text/plain": [
       "           №  № школы Класс Пол  Номер варианта  Первичный балл   Балл  \\\n",
       "0        1.0    117.0    11   М           341.0             8.0   20.0   \n",
       "1        2.0    148.0   12А   М           338.0             8.0   20.0   \n",
       "2        3.0    152.0    13   Ж           104.0             9.0   22.0   \n",
       "3        4.0    152.0    13   М           104.0             9.0   22.0   \n",
       "4        5.0    132.0    11   М           337.0            10.0   24.0   \n",
       "...      ...      ...   ...  ..             ...             ...    ...   \n",
       "3043  3044.0    146.0    11   Ж           338.0            58.0  100.0   \n",
       "3044  3045.0    147.0    11   Ж           340.0            58.0  100.0   \n",
       "3045  3046.0    147.0    11   Ж           338.0            58.0  100.0   \n",
       "3046  3047.0    147.0    11   Ж           337.0            58.0  100.0   \n",
       "3047  3048.0    144.0   11А   Ж           338.0            58.0  100.0   \n",
       "\n",
       "      Минимальный балл  \n",
       "0                 24.0  \n",
       "1                 24.0  \n",
       "2                 24.0  \n",
       "3                 24.0  \n",
       "4                 24.0  \n",
       "...                ...  \n",
       "3043              24.0  \n",
       "3044              24.0  \n",
       "3045              24.0  \n",
       "3046              24.0  \n",
       "3047              24.0  \n",
       "\n",
       "[3048 rows x 8 columns]"
      ]
     },
     "execution_count": 3,
     "metadata": {},
     "output_type": "execute_result"
    }
   ],
   "source": [
    "db_new = db.drop(['Задания с кратким ответом', 'Задания с развёрнутым ответом', 'Устная часть'], axis=1)\n",
    "db_new"
   ]
  },
  {
   "cell_type": "markdown",
   "id": "c924c050",
   "metadata": {},
   "source": [
    "2. Сделайте описательную статистику полученных данных."
   ]
  },
  {
   "cell_type": "code",
   "execution_count": 4,
   "id": "279757e1",
   "metadata": {},
   "outputs": [],
   "source": [
    "stat= db_new.describe()"
   ]
  },
  {
   "cell_type": "code",
   "execution_count": 5,
   "id": "1d31db08",
   "metadata": {},
   "outputs": [
    {
     "data": {
      "text/html": [
       "<div>\n",
       "<style scoped>\n",
       "    .dataframe tbody tr th:only-of-type {\n",
       "        vertical-align: middle;\n",
       "    }\n",
       "\n",
       "    .dataframe tbody tr th {\n",
       "        vertical-align: top;\n",
       "    }\n",
       "\n",
       "    .dataframe thead th {\n",
       "        text-align: right;\n",
       "    }\n",
       "</style>\n",
       "<table border=\"1\" class=\"dataframe\">\n",
       "  <thead>\n",
       "    <tr style=\"text-align: right;\">\n",
       "      <th></th>\n",
       "      <th>№</th>\n",
       "      <th>№ школы</th>\n",
       "      <th>Номер варианта</th>\n",
       "      <th>Первичный балл</th>\n",
       "      <th>Балл</th>\n",
       "      <th>Минимальный балл</th>\n",
       "    </tr>\n",
       "  </thead>\n",
       "  <tbody>\n",
       "    <tr>\n",
       "      <th>count</th>\n",
       "      <td>3048.000000</td>\n",
       "      <td>3048.000000</td>\n",
       "      <td>3048.000000</td>\n",
       "      <td>3048.000000</td>\n",
       "      <td>3048.000000</td>\n",
       "      <td>3048.0</td>\n",
       "    </tr>\n",
       "    <tr>\n",
       "      <th>mean</th>\n",
       "      <td>1524.500000</td>\n",
       "      <td>138.753281</td>\n",
       "      <td>340.787730</td>\n",
       "      <td>43.573491</td>\n",
       "      <td>72.769029</td>\n",
       "      <td>24.0</td>\n",
       "    </tr>\n",
       "    <tr>\n",
       "      <th>std</th>\n",
       "      <td>880.026136</td>\n",
       "      <td>41.793413</td>\n",
       "      <td>39.077186</td>\n",
       "      <td>8.931816</td>\n",
       "      <td>13.664908</td>\n",
       "      <td>0.0</td>\n",
       "    </tr>\n",
       "    <tr>\n",
       "      <th>min</th>\n",
       "      <td>1.000000</td>\n",
       "      <td>104.000000</td>\n",
       "      <td>101.000000</td>\n",
       "      <td>8.000000</td>\n",
       "      <td>20.000000</td>\n",
       "      <td>24.0</td>\n",
       "    </tr>\n",
       "    <tr>\n",
       "      <th>25%</th>\n",
       "      <td>762.750000</td>\n",
       "      <td>126.000000</td>\n",
       "      <td>339.000000</td>\n",
       "      <td>38.000000</td>\n",
       "      <td>64.000000</td>\n",
       "      <td>24.0</td>\n",
       "    </tr>\n",
       "    <tr>\n",
       "      <th>50%</th>\n",
       "      <td>1524.500000</td>\n",
       "      <td>144.000000</td>\n",
       "      <td>342.000000</td>\n",
       "      <td>45.000000</td>\n",
       "      <td>72.000000</td>\n",
       "      <td>24.0</td>\n",
       "    </tr>\n",
       "    <tr>\n",
       "      <th>75%</th>\n",
       "      <td>2286.250000</td>\n",
       "      <td>148.000000</td>\n",
       "      <td>346.000000</td>\n",
       "      <td>50.000000</td>\n",
       "      <td>82.000000</td>\n",
       "      <td>24.0</td>\n",
       "    </tr>\n",
       "    <tr>\n",
       "      <th>max</th>\n",
       "      <td>3048.000000</td>\n",
       "      <td>1106.000000</td>\n",
       "      <td>706.000000</td>\n",
       "      <td>58.000000</td>\n",
       "      <td>100.000000</td>\n",
       "      <td>24.0</td>\n",
       "    </tr>\n",
       "  </tbody>\n",
       "</table>\n",
       "</div>"
      ],
      "text/plain": [
       "                 №      № школы  Номер варианта  Первичный балл         Балл  \\\n",
       "count  3048.000000  3048.000000     3048.000000     3048.000000  3048.000000   \n",
       "mean   1524.500000   138.753281      340.787730       43.573491    72.769029   \n",
       "std     880.026136    41.793413       39.077186        8.931816    13.664908   \n",
       "min       1.000000   104.000000      101.000000        8.000000    20.000000   \n",
       "25%     762.750000   126.000000      339.000000       38.000000    64.000000   \n",
       "50%    1524.500000   144.000000      342.000000       45.000000    72.000000   \n",
       "75%    2286.250000   148.000000      346.000000       50.000000    82.000000   \n",
       "max    3048.000000  1106.000000      706.000000       58.000000   100.000000   \n",
       "\n",
       "       Минимальный балл  \n",
       "count            3048.0  \n",
       "mean               24.0  \n",
       "std                 0.0  \n",
       "min                24.0  \n",
       "25%                24.0  \n",
       "50%                24.0  \n",
       "75%                24.0  \n",
       "max                24.0  "
      ]
     },
     "execution_count": 5,
     "metadata": {},
     "output_type": "execute_result"
    }
   ],
   "source": [
    "stat"
   ]
  },
  {
   "cell_type": "code",
   "execution_count": 6,
   "id": "b04c293b",
   "metadata": {},
   "outputs": [],
   "source": [
    "stat2= db_new['Балл'].describe()"
   ]
  },
  {
   "cell_type": "code",
   "execution_count": 7,
   "id": "dd33fee2",
   "metadata": {},
   "outputs": [
    {
     "data": {
      "text/plain": [
       "count    3048.000000\n",
       "mean       72.769029\n",
       "std        13.664908\n",
       "min        20.000000\n",
       "25%        64.000000\n",
       "50%        72.000000\n",
       "75%        82.000000\n",
       "max       100.000000\n",
       "Name: Балл, dtype: float64"
      ]
     },
     "execution_count": 7,
     "metadata": {},
     "output_type": "execute_result"
    }
   ],
   "source": [
    "stat2"
   ]
  },
  {
   "cell_type": "markdown",
   "id": "72dfd240",
   "metadata": {},
   "source": [
    "3. Найдите процент учащихся, выполнивших работу ниже среднего."
   ]
  },
  {
   "cell_type": "code",
   "execution_count": 8,
   "id": "2dceeefb",
   "metadata": {},
   "outputs": [
    {
     "data": {
      "text/plain": [
       "51.27952755905512"
      ]
     },
     "execution_count": 8,
     "metadata": {},
     "output_type": "execute_result"
    }
   ],
   "source": [
    "(len(db_new[db_new['Балл']<72.77])/len(db_new['Балл']))*100"
   ]
  },
  {
   "cell_type": "markdown",
   "id": "72ae08d0",
   "metadata": {},
   "source": [
    "4. Найти процент учащихся не сдавших экзамен."
   ]
  },
  {
   "cell_type": "code",
   "execution_count": 9,
   "id": "52bfcfc8",
   "metadata": {},
   "outputs": [
    {
     "data": {
      "text/plain": [
       "0.13123359580052493"
      ]
     },
     "execution_count": 9,
     "metadata": {},
     "output_type": "execute_result"
    }
   ],
   "source": [
    "(len(db_new[db_new['Балл']<db_new['Минимальный балл']])/len(db_new['Балл']))*100"
   ]
  },
  {
   "cell_type": "markdown",
   "id": "375681a1",
   "metadata": {},
   "source": [
    "5. Постройте круговую диаграмму, показывающую распределение сдавших и не сдавших экзамен."
   ]
  },
  {
   "cell_type": "code",
   "execution_count": 10,
   "id": "ba207c25",
   "metadata": {},
   "outputs": [],
   "source": [
    "import matplotlib.pyplot as plt"
   ]
  },
  {
   "cell_type": "code",
   "execution_count": 11,
   "id": "26e250dd",
   "metadata": {},
   "outputs": [],
   "source": [
    "nesdal=len(db_new[db_new['Балл']<db_new['Минимальный балл']])"
   ]
  },
  {
   "cell_type": "code",
   "execution_count": 12,
   "id": "555eaca5",
   "metadata": {},
   "outputs": [],
   "source": [
    "sdal=len(db_new[db_new['Балл']>=db_new['Минимальный балл']])"
   ]
  },
  {
   "cell_type": "code",
   "execution_count": 13,
   "id": "73eea30a",
   "metadata": {},
   "outputs": [],
   "source": [
    "values=[len(db_new[db_new['Балл']<db_new['Минимальный балл']]), len(db_new[db_new['Балл']>=db_new['Минимальный балл']])]"
   ]
  },
  {
   "cell_type": "code",
   "execution_count": 14,
   "id": "9e9ca535",
   "metadata": {},
   "outputs": [],
   "source": [
    "labels=['nesdal', 'sdal']"
   ]
  },
  {
   "cell_type": "code",
   "execution_count": 15,
   "id": "22741d42",
   "metadata": {},
   "outputs": [
    {
     "data": {
      "text/plain": [
       "([<matplotlib.patches.Wedge at 0x26c325bd4f0>,\n",
       "  <matplotlib.patches.Wedge at 0x26c325bd9d0>],\n",
       " [Text(1.0999906512860012, 0.004535094640576347, 'nesdal'),\n",
       "  Text(-1.0999906509940822, -0.0045351654452093085, 'sdal')])"
      ]
     },
     "execution_count": 15,
     "metadata": {},
     "output_type": "execute_result"
    },
    {
     "data": {
      "image/png": "[encoded data removed]",
      "text/plain": [
       "<Figure size 640x480 with 1 Axes>"
      ]
     },
     "metadata": {},
     "output_type": "display_data"
    }
   ],
   "source": [
    "plt.pie(values, labels=labels)"
   ]
  },
  {
   "cell_type": "markdown",
   "id": "d9afa0d3",
   "metadata": {},
   "source": [
    "6. Постройте ядерную оценку плотности распределению баллов за экзамен."
   ]
  },
  {
   "cell_type": "code",
   "execution_count": 16,
   "id": "0b772b25",
   "metadata": {},
   "outputs": [],
   "source": [
    "from scipy.stats.distributions import norm\n",
    "import seaborn as sns\n",
    "from scipy import stats"
   ]
  },
  {
   "cell_type": "code",
   "execution_count": 54,
   "id": "35f28556",
   "metadata": {},
   "outputs": [],
   "source": [
    "df=db_new['Балл']"
   ]
  },
  {
   "cell_type": "code",
   "execution_count": 56,
   "id": "3db62a16",
   "metadata": {},
   "outputs": [
    {
     "data": {
      "text/plain": [
       "<seaborn.axisgrid.FacetGrid at 0x26c34fb2190>"
      ]
     },
     "execution_count": 56,
     "metadata": {},
     "output_type": "execute_result"
    },
    {
     "data": {
      "image/png": "[encoded data removed]",
      "text/plain": [
       "<Figure size 500x500 with 1 Axes>"
      ]
     },
     "metadata": {},
     "output_type": "display_data"
    }
   ],
   "source": [
    "sns.displot(db_new['Балл'], kind=\"kde\", color = 'blue')"
   ]
  },
  {
   "cell_type": "markdown",
   "id": "defd63fb",
   "metadata": {},
   "source": [
    "7. Найдите процентное соотношение учащихся, сдавших экзамен на «отлично», «хорошо», «удовлетворительно», «неудовлетворительно»."
   ]
  },
  {
   "cell_type": "code",
   "execution_count": 17,
   "id": "b99bbf6a",
   "metadata": {},
   "outputs": [],
   "source": [
    "neudot= len(db_new[db_new['Балл']<=35])"
   ]
  },
  {
   "cell_type": "code",
   "execution_count": 22,
   "id": "d7a021fd",
   "metadata": {},
   "outputs": [
    {
     "data": {
      "text/plain": [
       "21"
      ]
     },
     "execution_count": 22,
     "metadata": {},
     "output_type": "execute_result"
    }
   ],
   "source": [
    "neudot"
   ]
  },
  {
   "cell_type": "code",
   "execution_count": 20,
   "id": "345c8d51",
   "metadata": {},
   "outputs": [],
   "source": [
    "udot= len(db_new[(db_new['Балл']>=36) & (db_new['Балл']<=56)]) "
   ]
  },
  {
   "cell_type": "code",
   "execution_count": 21,
   "id": "a9c6ec3e",
   "metadata": {},
   "outputs": [
    {
     "data": {
      "text/plain": [
       "352"
      ]
     },
     "execution_count": 21,
     "metadata": {},
     "output_type": "execute_result"
    }
   ],
   "source": [
    "udot"
   ]
  },
  {
   "cell_type": "code",
   "execution_count": 23,
   "id": "b54410c3",
   "metadata": {},
   "outputs": [],
   "source": [
    "norm = len(db_new[(db_new['Балл']>=57) & (db_new['Балл']<=71)]) "
   ]
  },
  {
   "cell_type": "code",
   "execution_count": 24,
   "id": "29c21ef3",
   "metadata": {},
   "outputs": [
    {
     "data": {
      "text/plain": [
       "1050"
      ]
     },
     "execution_count": 24,
     "metadata": {},
     "output_type": "execute_result"
    }
   ],
   "source": [
    "norm"
   ]
  },
  {
   "cell_type": "code",
   "execution_count": 25,
   "id": "d72f29b1",
   "metadata": {},
   "outputs": [],
   "source": [
    "good = len(db_new[db_new['Балл']>72])"
   ]
  },
  {
   "cell_type": "code",
   "execution_count": 64,
   "id": "68a8e2ca",
   "metadata": {},
   "outputs": [
    {
     "data": {
      "text/plain": [
       "3048"
      ]
     },
     "execution_count": 64,
     "metadata": {},
     "output_type": "execute_result"
    }
   ],
   "source": [
    "len(db_new['Балл'])"
   ]
  },
  {
   "cell_type": "code",
   "execution_count": 26,
   "id": "df179490",
   "metadata": {},
   "outputs": [
    {
     "data": {
      "text/plain": [
       "1485"
      ]
     },
     "execution_count": 26,
     "metadata": {},
     "output_type": "execute_result"
    }
   ],
   "source": [
    "good"
   ]
  },
  {
   "cell_type": "code",
   "execution_count": 27,
   "id": "1629e302",
   "metadata": {},
   "outputs": [],
   "source": [
    "values2=[neudot,udot,good,norm]"
   ]
  },
  {
   "cell_type": "code",
   "execution_count": 31,
   "id": "8e7b6664",
   "metadata": {},
   "outputs": [],
   "source": [
    "labels2=['neudot','udot','good','norm']"
   ]
  },
  {
   "cell_type": "code",
   "execution_count": 33,
   "id": "12eb2a32",
   "metadata": {},
   "outputs": [
    {
     "data": {
      "text/plain": [
       "([<matplotlib.patches.Wedge at 0x26c33cb4d60>,\n",
       "  <matplotlib.patches.Wedge at 0x26c33cc2400>,\n",
       "  <matplotlib.patches.Wedge at 0x26c33cc2b20>,\n",
       "  <matplotlib.patches.Wedge at 0x26c33cce280>],\n",
       " [Text(1.0997169301670884, 0.02495342669605202, 'neudot'),\n",
       "  Text(1.001848000862745, 0.454203239934857, 'udot'),\n",
       "  Text(-0.8186774228917066, 0.7346885579940616, 'good'),\n",
       "  Text(0.46499965942844446, -0.9968827998974757, 'norm')],\n",
       " [Text(0.5998455982729572, 0.013610960016028373, '0.7%'),\n",
       "  Text(0.5464625459251337, 0.24774722178264924, '12.1%'),\n",
       "  Text(-0.4465513215772945, 0.4007392134513063, '51.1%'),\n",
       "  Text(0.2536361778700606, -0.5437542544895322, '36.1%')])"
      ]
     },
     "execution_count": 33,
     "metadata": {},
     "output_type": "execute_result"
    },
    {
     "data": {
      "image/png": "[encoded data removed]",
      "text/plain": [
       "<Figure size 640x480 with 1 Axes>"
      ]
     },
     "metadata": {},
     "output_type": "display_data"
    }
   ],
   "source": [
    "plt.pie(values2,labels=labels2,autopct='%1.1f%%')"
   ]
  },
  {
   "cell_type": "markdown",
   "id": "560f457a",
   "metadata": {},
   "source": [
    "8. Какое процентное соотношение юношей и девушек писало данный экзамен?"
   ]
  },
  {
   "cell_type": "code",
   "execution_count": 36,
   "id": "41dee1c0",
   "metadata": {},
   "outputs": [],
   "source": [
    "Yun = (len(db_new[db_new['Пол']=='М'])/len(db_new['Пол']))*100"
   ]
  },
  {
   "cell_type": "code",
   "execution_count": 39,
   "id": "2f665d47",
   "metadata": {},
   "outputs": [
    {
     "name": "stdout",
     "output_type": "stream",
     "text": [
      "Среди всех людей, которые писали экзамен. Юношей:  42.02755905511811 процента\n"
     ]
    }
   ],
   "source": [
    "print(\"Среди всех людей, которые писали экзамен. Юношей:\" + \" \", Yun, \"процента\")"
   ]
  },
  {
   "cell_type": "code",
   "execution_count": 40,
   "id": "1f0b8516",
   "metadata": {},
   "outputs": [],
   "source": [
    "Dev = (len(db_new[db_new['Пол']=='Ж'])/len(db_new['Пол']))*100"
   ]
  },
  {
   "cell_type": "code",
   "execution_count": 42,
   "id": "57f4b451",
   "metadata": {},
   "outputs": [
    {
     "name": "stdout",
     "output_type": "stream",
     "text": [
      "Среди всех людей, которые писали экзамен. Девушек:  57.97244094488189 процентов\n"
     ]
    }
   ],
   "source": [
    "print(\"Среди всех людей, которые писали экзамен. Девушек:\" + \" \", Dev, \"процентов\")"
   ]
  },
  {
   "cell_type": "code",
   "execution_count": 43,
   "id": "3d478421",
   "metadata": {},
   "outputs": [],
   "source": [
    "values3=[Yun, Dev]\n",
    "labels3=['Yun', 'Dev']"
   ]
  },
  {
   "cell_type": "code",
   "execution_count": 87,
   "id": "67ce3bce",
   "metadata": {},
   "outputs": [
    {
     "data": {
      "text/plain": [
       "([<matplotlib.patches.Wedge at 0x26c3527f700>,\n",
       "  <matplotlib.patches.Wedge at 0x26c351c2e20>],\n",
       " [Text(0.27263639370533826, 1.0656779048227227, 'Yun'),\n",
       "  Text(-0.2726363937053384, -1.0656779048227225, 'Dev')],\n",
       " [Text(0.14871076020291177, 0.5812788571760306, '42.03%'),\n",
       "  Text(-0.14871076020291182, -0.5812788571760305, '57.97%')])"
      ]
     },
     "execution_count": 87,
     "metadata": {},
     "output_type": "execute_result"
    },
    {
     "data": {
      "image/png": "[encoded data removed]",
      "text/plain": [
       "<Figure size 640x480 with 1 Axes>"
      ]
     },
     "metadata": {},
     "output_type": "display_data"
    }
   ],
   "source": [
    "plt.pie(values3,labels=labels3,autopct='%1.2f%%')"
   ]
  },
  {
   "cell_type": "markdown",
   "id": "302ec0da",
   "metadata": {},
   "source": [
    "9. Сколько школ принимало участие в экзамене?"
   ]
  },
  {
   "cell_type": "code",
   "execution_count": 66,
   "id": "36614a1e",
   "metadata": {},
   "outputs": [
    {
     "data": {
      "text/plain": [
       "24"
      ]
     },
     "execution_count": 66,
     "metadata": {},
     "output_type": "execute_result"
    }
   ],
   "source": [
    "db_new['№ школы'].nunique()"
   ]
  },
  {
   "cell_type": "code",
   "execution_count": null,
   "id": "3c56265a",
   "metadata": {},
   "outputs": [],
   "source": []
  },
  {
   "cell_type": "markdown",
   "id": "429d471e",
   "metadata": {},
   "source": [
    "10. Сколько всего заданий с кратким ответом? С развернутым ответом?"
   ]
  },
  {
   "cell_type": "code",
   "execution_count": 70,
   "id": "66205222",
   "metadata": {},
   "outputs": [],
   "source": [
    "df_new = pd.read_excel('data\\Var1.xlsx', skiprows=2).drop([3048])"
   ]
  },
  {
   "cell_type": "code",
   "execution_count": 71,
   "id": "ed9d251e",
   "metadata": {},
   "outputs": [
    {
     "data": {
      "text/plain": [
       "25"
      ]
     },
     "execution_count": 71,
     "metadata": {},
     "output_type": "execute_result"
    }
   ],
   "source": [
    "len(df_new['Задания с кратким ответом'][1])"
   ]
  },
  {
   "cell_type": "code",
   "execution_count": 73,
   "id": "e5e08420",
   "metadata": {},
   "outputs": [
    {
     "data": {
      "text/plain": [
       "12.0"
      ]
     },
     "execution_count": 73,
     "metadata": {},
     "output_type": "execute_result"
    }
   ],
   "source": [
    "len(df_new['Задания с развёрнутым ответом'][1])/4"
   ]
  },
  {
   "cell_type": "markdown",
   "id": "925d7047",
   "metadata": {},
   "source": [
    "11. Пусть задания с кратким ответом будут задания типа В. Соответственно всего по экзамену вопросов класса В: В, ... Вк Посчитайте процент выполненных и невыполненных заданий по каждому вопросу класса В."
   ]
  },
  {
   "cell_type": "code",
   "execution_count": 76,
   "id": "9e8c5ff7",
   "metadata": {},
   "outputs": [],
   "source": [
    "def countB(df_new):\n",
    "    done = 0\n",
    "    undone = 0\n",
    "    for item in df_new['Задания с кратким ответом'].tolist():\n",
    "        if isinstance(item, str):\n",
    "            for char in item:\n",
    "                if char == '+' or (char.isdigit() and char != '0'):\n",
    "                    done+=1;\n",
    "                else:\n",
    "                    undone +=1\n",
    "    overall = done+undone\n",
    "    print(f'выполн - {round(done*100/overall, 2)}%, undone - {round(undone*100/overall, 2)}%')\n",
    "    return done/overall, undone/overall"
   ]
  },
  {
   "cell_type": "code",
   "execution_count": 77,
   "id": "b7b81cf4",
   "metadata": {},
   "outputs": [
    {
     "name": "stdout",
     "output_type": "stream",
     "text": [
      "выполн - 78.25%, undone - 21.75%\n"
     ]
    }
   ],
   "source": [
    "B = countB(df_new)"
   ]
  },
  {
   "cell_type": "markdown",
   "id": "e5812ac9",
   "metadata": {},
   "source": [
    "12. Аналогично и с типом С (ответы с развернутым ответом)"
   ]
  },
  {
   "cell_type": "code",
   "execution_count": 78,
   "id": "66eab4ae",
   "metadata": {},
   "outputs": [],
   "source": [
    "def countC(df_new):\n",
    "    done = 0\n",
    "    undone = 0\n",
    "    for item in df_new['Задания с развёрнутым ответом'].tolist():\n",
    "        if isinstance(item, str):\n",
    "            ind = 0\n",
    "            while ind < (len(item)):\n",
    "                if item[ind].isdigit() and item[ind]!='0':\n",
    "                    done += 1\n",
    "                if item[ind] == '0':\n",
    "                    undone += 1\n",
    "                ind += 4\n",
    "    overall = done+undone\n",
    "    print(f'выполн - {round(done*100/overall, 2)}%, undone - {round(undone*100/overall, 2)}%')\n",
    "    return done/overall, undone/overall    "
   ]
  },
  {
   "cell_type": "code",
   "execution_count": 79,
   "id": "de986c4f",
   "metadata": {},
   "outputs": [
    {
     "name": "stdout",
     "output_type": "stream",
     "text": [
      "выполн - 91.37%, undone - 8.63%\n"
     ]
    }
   ],
   "source": [
    "C = countC(df_new)"
   ]
  },
  {
   "cell_type": "markdown",
   "id": "e8fb0ddf",
   "metadata": {},
   "source": [
    "13. Сделайте анализ по двум школам:\n",
    "по всем выполненным заданиям типа В\n",
    "по заданиям типа С больше 50%\n",
    "по среднему баллу юношей и девушек"
   ]
  },
  {
   "cell_type": "code",
   "execution_count": 80,
   "id": "e137a73a",
   "metadata": {},
   "outputs": [],
   "source": [
    "def b_comparison(df_new, sch_num1, sch_num2):\n",
    "    sch_1_df = df_new[df_new[\"№ школы\"] == sch_num1]\n",
    "    sch_2_df = df_new[df_new[\"№ школы\"] == sch_num2]\n",
    "    sch_1_rat = countB(sch_1_df)\n",
    "    sch_2_rat = countB(sch_2_df)\n",
    "    return sch_1_rat, sch_2_rat"
   ]
  },
  {
   "cell_type": "code",
   "execution_count": 82,
   "id": "6caa9f34",
   "metadata": {},
   "outputs": [
    {
     "name": "stdout",
     "output_type": "stream",
     "text": [
      "выполн - 77.52%, undone - 22.48%\n",
      "выполн - 78.57%, undone - 21.43%\n",
      "\n",
      "школа #1 выполнила 77.52% заданий B-типа\n",
      "школа #2 выполнила 78.57% заданий B-типа\n"
     ]
    }
   ],
   "source": [
    "sch_comp = b_comparison(df_new, 117, 148)\n",
    "print(f'\\nшкола #1 выполнила {round(sch_comp[0][0]*100, 2)}% заданий B-типа\\nшкола #2 выполнила {round(sch_comp[1][0]*100, 2)}% заданий B-типа')"
   ]
  },
  {
   "cell_type": "code",
   "execution_count": 83,
   "id": "7e4cc550",
   "metadata": {},
   "outputs": [],
   "source": [
    "def c_ratio(df_new, comp_percent):\n",
    "    max_str = df_new['Задания с развёрнутым ответом'].iloc[0]\n",
    "    max_points = 0\n",
    "    comp_percent /= 100\n",
    "    ind = 0\n",
    "    while ind < len(max_str):\n",
    "        if max_str[ind] == '(':\n",
    "            max_points += int(max_str[ind+1])\n",
    "        ind+=1;\n",
    "    more = 0\n",
    "    less_eq = 0\n",
    "    for item in df_new['Задания с развёрнутым ответом'].tolist():\n",
    "        if isinstance(item, str):\n",
    "            cur = 0\n",
    "            ind = 0\n",
    "            while ind < len(item):\n",
    "                if item[ind].isdigit():\n",
    "                    cur += int(item[ind])\n",
    "                    ind += 4\n",
    "            if cur/max_points > comp_percent:\n",
    "                more += 1\n",
    "            else:\n",
    "                less_eq += 1\n",
    "    return more, less_eq"
   ]
  },
  {
   "cell_type": "code",
   "execution_count": 84,
   "id": "e7bce1b1",
   "metadata": {},
   "outputs": [],
   "source": [
    "def c_comp(df_new, sch_num_1, sch_num_2, percent):\n",
    "    sch_1_df = df_new[df_new[\"№ школы\"] == sch_num_1]\n",
    "    sch_2_df = df_new[df_new[\"№ школы\"] == sch_num_2]\n",
    "    sch_1_rat = c_ratio(sch_1_df, 50)[0]/len(sch_1_df)\n",
    "    sch_2_rat = c_ratio(sch_2_df, 50)[0]/len(sch_2_df)\n",
    "    return sch_1_rat, sch_2_rat"
   ]
  },
  {
   "cell_type": "code",
   "execution_count": 85,
   "id": "c716b28c",
   "metadata": {},
   "outputs": [
    {
     "name": "stdout",
     "output_type": "stream",
     "text": [
      "школа #1 выполнила 85.26% заданий C-типа на больше чем 50%\n",
      "школа #2 выполнила 84.62% заданий C-типа на больше чем 50%\n"
     ]
    }
   ],
   "source": [
    "sch_comp_2 = c_comp(df_new, 117, 148, 50)\n",
    "print(f'школа #1 выполнила {round(sch_comp_2[0]*100, 2)}% заданий C-типа на больше чем 50%\\nшкола #2 выполнила {round(sch_comp_2[1]*100, 2)}% заданий C-типа на больше чем 50%')"
   ]
  },
  {
   "cell_type": "code",
   "execution_count": 86,
   "id": "bf466749",
   "metadata": {},
   "outputs": [
    {
     "data": {
      "text/html": [
       "<div>\n",
       "<style scoped>\n",
       "    .dataframe tbody tr th:only-of-type {\n",
       "        vertical-align: middle;\n",
       "    }\n",
       "\n",
       "    .dataframe tbody tr th {\n",
       "        vertical-align: top;\n",
       "    }\n",
       "\n",
       "    .dataframe thead th {\n",
       "        text-align: right;\n",
       "    }\n",
       "</style>\n",
       "<table border=\"1\" class=\"dataframe\">\n",
       "  <thead>\n",
       "    <tr style=\"text-align: right;\">\n",
       "      <th></th>\n",
       "      <th>Школа</th>\n",
       "      <th>Ср.балл по Ж</th>\n",
       "      <th>Ср.балл по М</th>\n",
       "    </tr>\n",
       "  </thead>\n",
       "  <tbody>\n",
       "    <tr>\n",
       "      <th>0</th>\n",
       "      <td>117</td>\n",
       "      <td>75.686275</td>\n",
       "      <td>65.022727</td>\n",
       "    </tr>\n",
       "    <tr>\n",
       "      <th>1</th>\n",
       "      <td>148</td>\n",
       "      <td>75.745856</td>\n",
       "      <td>68.166667</td>\n",
       "    </tr>\n",
       "  </tbody>\n",
       "</table>\n",
       "</div>"
      ],
      "text/plain": [
       "   Школа  Ср.балл по Ж  Ср.балл по М\n",
       "0    117     75.686275     65.022727\n",
       "1    148     75.745856     68.166667"
      ]
     },
     "execution_count": 86,
     "metadata": {},
     "output_type": "execute_result"
    }
   ],
   "source": [
    "sch_comp_3_df = df_new[(df_new[\"№ школы\"]  == 117) | (df_new[\"№ школы\"]  == 148)]\n",
    "temp_df = pd.DataFrame({\"Школа\": [117, 148]})\n",
    "temp_df['Ср.балл по Ж'] = df_new[(df_new[\"№ школы\"] == 117) & (df_new['Пол'] == 'Ж')]['Балл'].mean(), df_new[(df_new[\"№ школы\"] == 148) & (df_new['Пол'] == 'Ж')]['Балл'].mean()\n",
    "temp_df['Ср.балл по М'] = df_new[(df_new[\"№ школы\"] == 117) & (df_new['Пол'] == 'М')]['Балл'].mean(), df_new[(df_new[\"№ школы\"] == 148) & (df_new['Пол'] == 'М')]['Балл'].mean()\n",
    "temp_df"
   ]
  },
  {
   "cell_type": "code",
   "execution_count": null,
   "id": "a4be4a6e",
   "metadata": {},
   "outputs": [],
   "source": []
  }
 ],
 "metadata": {
  "kernelspec": {
   "display_name": "Python 3 (ipykernel)",
   "language": "python",
   "name": "python3"
  },
  "language_info": {
   "codemirror_mode": {
    "name": "ipython",
    "version": 3
   },
   "file_extension": ".py",
   "mimetype": "text/x-python",
   "name": "python",
   "nbconvert_exporter": "python",
   "pygments_lexer": "ipython3",
   "version": "3.9.13"
  }
 },
 "nbformat": 4,
 "nbformat_minor": 5
}
