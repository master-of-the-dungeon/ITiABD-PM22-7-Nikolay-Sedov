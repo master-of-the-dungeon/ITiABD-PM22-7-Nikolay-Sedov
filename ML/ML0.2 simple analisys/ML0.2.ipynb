{
 "cells": [
  {
   "cell_type": "code",
   "execution_count": 1,
   "id": "3c7f31c4",
   "metadata": {},
   "outputs": [],
   "source": [
    "import pandas as pd\n",
    "import numpy as np\n",
    "import matplotlib.pyplot as plt\n",
    "import re"
   ]
  },
  {
   "cell_type": "markdown",
   "id": "1a5be9ea",
   "metadata": {},
   "source": [
    "1. Загрузите данные по вариантам в ноутбук."
   ]
  },
  {
   "cell_type": "code",
   "execution_count": 2,
   "id": "2549d80e",
   "metadata": {},
   "outputs": [],
   "source": [
    "def xlsx_input(path):\n",
    "    df = pd.read_excel(path)\n",
    "    df.columns = df.iloc[1]\n",
    "    df.drop(labels = [0, 1], axis = 0, inplace = True)\n",
    "    df = df.set_index(\"№\")\n",
    "    return df"
   ]
  },
  {
   "cell_type": "code",
   "execution_count": 3,
   "id": "eba2e649",
   "metadata": {},
   "outputs": [],
   "source": [
    "df1 = xlsx_input(r\"C:\\Users\\troll\\Desktop\\HW\\ML\\ML0.2\\Вариант 1.xlsx\")\n",
    "df2 = xlsx_input(r\"C:\\Users\\troll\\Desktop\\HW\\ML\\ML0.2\\Вариант 2.xlsx\")\n",
    "df3 = xlsx_input(r\"C:\\Users\\troll\\Desktop\\HW\\ML\\ML0.2\\Вариант 3.xlsx\")\n",
    "df4 = xlsx_input(r\"C:\\Users\\troll\\Desktop\\HW\\ML\\ML0.2\\Вариант 4.xlsx\")"
   ]
  },
  {
   "cell_type": "markdown",
   "id": "ec1d90f4",
   "metadata": {},
   "source": [
    "2.Сделайте описательную статистику полученных данных."
   ]
  },
  {
   "cell_type": "code",
   "execution_count": 4,
   "id": "bdbda12e",
   "metadata": {},
   "outputs": [
    {
     "data": {
      "text/html": [
       "<div>\n",
       "<style scoped>\n",
       "    .dataframe tbody tr th:only-of-type {\n",
       "        vertical-align: middle;\n",
       "    }\n",
       "\n",
       "    .dataframe tbody tr th {\n",
       "        vertical-align: top;\n",
       "    }\n",
       "\n",
       "    .dataframe thead th {\n",
       "        text-align: right;\n",
       "    }\n",
       "</style>\n",
       "<table border=\"1\" class=\"dataframe\">\n",
       "  <thead>\n",
       "    <tr style=\"text-align: right;\">\n",
       "      <th>1</th>\n",
       "      <th>№ школы</th>\n",
       "      <th>Класс</th>\n",
       "      <th>Пол</th>\n",
       "      <th>Номер варианта</th>\n",
       "      <th>Задания с кратким ответом</th>\n",
       "      <th>Задания с развёрнутым ответом</th>\n",
       "      <th>Устная часть</th>\n",
       "      <th>Первичный балл</th>\n",
       "      <th>Балл</th>\n",
       "      <th>Минимальный балл</th>\n",
       "    </tr>\n",
       "    <tr>\n",
       "      <th>№</th>\n",
       "      <th></th>\n",
       "      <th></th>\n",
       "      <th></th>\n",
       "      <th></th>\n",
       "      <th></th>\n",
       "      <th></th>\n",
       "      <th></th>\n",
       "      <th></th>\n",
       "      <th></th>\n",
       "      <th></th>\n",
       "    </tr>\n",
       "  </thead>\n",
       "  <tbody>\n",
       "    <tr>\n",
       "      <th>1.0</th>\n",
       "      <td>117</td>\n",
       "      <td>11</td>\n",
       "      <td>М</td>\n",
       "      <td>341</td>\n",
       "      <td>1+++--1+-++---0---------0</td>\n",
       "      <td>0(1)0(3)0(1)0(3)0(2)0(2)0(3)0(3)0(2)0(2)0(1)0(1)</td>\n",
       "      <td>NaN</td>\n",
       "      <td>8</td>\n",
       "      <td>20</td>\n",
       "      <td>24</td>\n",
       "    </tr>\n",
       "    <tr>\n",
       "      <th>2.0</th>\n",
       "      <td>148</td>\n",
       "      <td>12А</td>\n",
       "      <td>М</td>\n",
       "      <td>338</td>\n",
       "      <td>1+---+0--+---+0----++-+-0</td>\n",
       "      <td>0(1)0(3)0(1)0(3)0(2)0(2)0(3)0(3)0(2)0(2)0(1)0(1)</td>\n",
       "      <td>NaN</td>\n",
       "      <td>8</td>\n",
       "      <td>20</td>\n",
       "      <td>24</td>\n",
       "    </tr>\n",
       "    <tr>\n",
       "      <th>3.0</th>\n",
       "      <td>152</td>\n",
       "      <td>13</td>\n",
       "      <td>Ж</td>\n",
       "      <td>104</td>\n",
       "      <td>2-----0--+----1---------1</td>\n",
       "      <td>0(1)0(3)0(1)0(3)0(2)0(2)0(3)1(3)0(2)1(2)1(1)1(1)</td>\n",
       "      <td>NaN</td>\n",
       "      <td>9</td>\n",
       "      <td>22</td>\n",
       "      <td>24</td>\n",
       "    </tr>\n",
       "    <tr>\n",
       "      <th>4.0</th>\n",
       "      <td>152</td>\n",
       "      <td>13</td>\n",
       "      <td>М</td>\n",
       "      <td>104</td>\n",
       "      <td>1+--+-0++-----2----++---0</td>\n",
       "      <td>0(1)0(3)0(1)0(3)0(2)0(2)0(3)0(3)0(2)0(2)0(1)0(1)</td>\n",
       "      <td>NaN</td>\n",
       "      <td>9</td>\n",
       "      <td>22</td>\n",
       "      <td>24</td>\n",
       "    </tr>\n",
       "    <tr>\n",
       "      <th>5.0</th>\n",
       "      <td>132</td>\n",
       "      <td>11</td>\n",
       "      <td>М</td>\n",
       "      <td>337</td>\n",
       "      <td>1++---0-+++---1----+----2</td>\n",
       "      <td>0(1)0(3)0(1)0(3)0(2)0(2)0(3)0(3)0(2)0(2)0(1)0(1)</td>\n",
       "      <td>NaN</td>\n",
       "      <td>10</td>\n",
       "      <td>24</td>\n",
       "      <td>24</td>\n",
       "    </tr>\n",
       "    <tr>\n",
       "      <th>...</th>\n",
       "      <td>...</td>\n",
       "      <td>...</td>\n",
       "      <td>...</td>\n",
       "      <td>...</td>\n",
       "      <td>...</td>\n",
       "      <td>...</td>\n",
       "      <td>...</td>\n",
       "      <td>...</td>\n",
       "      <td>...</td>\n",
       "      <td>...</td>\n",
       "    </tr>\n",
       "    <tr>\n",
       "      <th>3045.0</th>\n",
       "      <td>147</td>\n",
       "      <td>11</td>\n",
       "      <td>Ж</td>\n",
       "      <td>340</td>\n",
       "      <td>2+++++5+++++++2+++++++++4</td>\n",
       "      <td>1(1)3(3)1(1)3(3)2(2)2(2)3(3)3(3)2(2)2(2)1(1)1(1)</td>\n",
       "      <td>NaN</td>\n",
       "      <td>58</td>\n",
       "      <td>100</td>\n",
       "      <td>24</td>\n",
       "    </tr>\n",
       "    <tr>\n",
       "      <th>3046.0</th>\n",
       "      <td>147</td>\n",
       "      <td>11</td>\n",
       "      <td>Ж</td>\n",
       "      <td>338</td>\n",
       "      <td>2+++++5+++++++2+++++++++4</td>\n",
       "      <td>1(1)3(3)1(1)3(3)2(2)2(2)3(3)3(3)2(2)2(2)1(1)1(1)</td>\n",
       "      <td>NaN</td>\n",
       "      <td>58</td>\n",
       "      <td>100</td>\n",
       "      <td>24</td>\n",
       "    </tr>\n",
       "    <tr>\n",
       "      <th>3047.0</th>\n",
       "      <td>147</td>\n",
       "      <td>11</td>\n",
       "      <td>Ж</td>\n",
       "      <td>337</td>\n",
       "      <td>2+++++5+++++++2+++++++++4</td>\n",
       "      <td>1(1)3(3)1(1)3(3)2(2)2(2)3(3)3(3)2(2)2(2)1(1)1(1)</td>\n",
       "      <td>NaN</td>\n",
       "      <td>58</td>\n",
       "      <td>100</td>\n",
       "      <td>24</td>\n",
       "    </tr>\n",
       "    <tr>\n",
       "      <th>3048.0</th>\n",
       "      <td>144</td>\n",
       "      <td>11А</td>\n",
       "      <td>Ж</td>\n",
       "      <td>338</td>\n",
       "      <td>2+++++5+++++++2+++++++++4</td>\n",
       "      <td>1(1)3(3)1(1)3(3)2(2)2(2)3(3)3(3)2(2)2(2)1(1)1(1)</td>\n",
       "      <td>NaN</td>\n",
       "      <td>58</td>\n",
       "      <td>100</td>\n",
       "      <td>24</td>\n",
       "    </tr>\n",
       "    <tr>\n",
       "      <th>NaN</th>\n",
       "      <td>NaN</td>\n",
       "      <td>NaN</td>\n",
       "      <td>NaN</td>\n",
       "      <td>NaN</td>\n",
       "      <td>NaN</td>\n",
       "      <td>NaN</td>\n",
       "      <td>Среднее значение</td>\n",
       "      <td>NaN</td>\n",
       "      <td>72.769029</td>\n",
       "      <td>NaN</td>\n",
       "    </tr>\n",
       "  </tbody>\n",
       "</table>\n",
       "<p>3049 rows × 10 columns</p>\n",
       "</div>"
      ],
      "text/plain": [
       "1      № школы Класс  Пол Номер варианта  Задания с кратким ответом  \\\n",
       "№                                                                     \n",
       "1.0        117    11    М            341  1+++--1+-++---0---------0   \n",
       "2.0        148   12А    М            338  1+---+0--+---+0----++-+-0   \n",
       "3.0        152    13    Ж            104  2-----0--+----1---------1   \n",
       "4.0        152    13    М            104  1+--+-0++-----2----++---0   \n",
       "5.0        132    11    М            337  1++---0-+++---1----+----2   \n",
       "...        ...   ...  ...            ...                        ...   \n",
       "3045.0     147    11    Ж            340  2+++++5+++++++2+++++++++4   \n",
       "3046.0     147    11    Ж            338  2+++++5+++++++2+++++++++4   \n",
       "3047.0     147    11    Ж            337  2+++++5+++++++2+++++++++4   \n",
       "3048.0     144   11А    Ж            338  2+++++5+++++++2+++++++++4   \n",
       "NaN        NaN   NaN  NaN            NaN                        NaN   \n",
       "\n",
       "1                          Задания с развёрнутым ответом      Устная часть  \\\n",
       "№                                                                            \n",
       "1.0     0(1)0(3)0(1)0(3)0(2)0(2)0(3)0(3)0(2)0(2)0(1)0(1)               NaN   \n",
       "2.0     0(1)0(3)0(1)0(3)0(2)0(2)0(3)0(3)0(2)0(2)0(1)0(1)               NaN   \n",
       "3.0     0(1)0(3)0(1)0(3)0(2)0(2)0(3)1(3)0(2)1(2)1(1)1(1)               NaN   \n",
       "4.0     0(1)0(3)0(1)0(3)0(2)0(2)0(3)0(3)0(2)0(2)0(1)0(1)               NaN   \n",
       "5.0     0(1)0(3)0(1)0(3)0(2)0(2)0(3)0(3)0(2)0(2)0(1)0(1)               NaN   \n",
       "...                                                  ...               ...   \n",
       "3045.0  1(1)3(3)1(1)3(3)2(2)2(2)3(3)3(3)2(2)2(2)1(1)1(1)               NaN   \n",
       "3046.0  1(1)3(3)1(1)3(3)2(2)2(2)3(3)3(3)2(2)2(2)1(1)1(1)               NaN   \n",
       "3047.0  1(1)3(3)1(1)3(3)2(2)2(2)3(3)3(3)2(2)2(2)1(1)1(1)               NaN   \n",
       "3048.0  1(1)3(3)1(1)3(3)2(2)2(2)3(3)3(3)2(2)2(2)1(1)1(1)               NaN   \n",
       "NaN                                                  NaN  Среднее значение   \n",
       "\n",
       "1      Первичный балл       Балл Минимальный балл  \n",
       "№                                                  \n",
       "1.0                 8         20               24  \n",
       "2.0                 8         20               24  \n",
       "3.0                 9         22               24  \n",
       "4.0                 9         22               24  \n",
       "5.0                10         24               24  \n",
       "...               ...        ...              ...  \n",
       "3045.0             58        100               24  \n",
       "3046.0             58        100               24  \n",
       "3047.0             58        100               24  \n",
       "3048.0             58        100               24  \n",
       "NaN               NaN  72.769029              NaN  \n",
       "\n",
       "[3049 rows x 10 columns]"
      ]
     },
     "execution_count": 4,
     "metadata": {},
     "output_type": "execute_result"
    }
   ],
   "source": [
    "df1"
   ]
  },
  {
   "cell_type": "markdown",
   "id": "f0ba9750",
   "metadata": {},
   "source": [
    "3. Найдите процент учащихся, выполнивших работу ниже среднего."
   ]
  },
  {
   "cell_type": "code",
   "execution_count": 5,
   "id": "692f3583",
   "metadata": {},
   "outputs": [],
   "source": [
    "def find_percentage_below_average(df):\n",
    "    return len(df.loc[df['Первичный балл'] < df['Первичный балл'].mean()])*100/len(df)"
   ]
  },
  {
   "cell_type": "code",
   "execution_count": 6,
   "id": "92006fde",
   "metadata": {},
   "outputs": [
    {
     "name": "stdout",
     "output_type": "stream",
     "text": [
      "1 - 42.83%, 2 - 58.85%, 3 - 53.51%, 4 - 48.59%\n"
     ]
    }
   ],
   "source": [
    "percentage_below_avg_1 = find_percentage_below_average(df1)\n",
    "percentage_below_avg_2 = find_percentage_below_average(df2)\n",
    "percentage_below_avg_3 = find_percentage_below_average(df3)\n",
    "percentage_below_avg_4 = find_percentage_below_average(df4)\n",
    "print(f'1 - {round(percentage_below_avg_1, 2)}%, 2 - {round(percentage_below_avg_2, 2)}%, 3 - {round(percentage_below_avg_3, 2)}%, 4 - {round(percentage_below_avg_4, 2)}%')"
   ]
  },
  {
   "cell_type": "markdown",
   "id": "2e34148d",
   "metadata": {},
   "source": [
    "4. Найти процент учащихся не сдавших экзамен."
   ]
  },
  {
   "cell_type": "code",
   "execution_count": 7,
   "id": "da471b06",
   "metadata": {},
   "outputs": [],
   "source": [
    "def find_percentage_failed(df):\n",
    "    return len(df.loc[df['Балл'] < df['Минимальный балл']])*100/len(df)"
   ]
  },
  {
   "cell_type": "code",
   "execution_count": 8,
   "id": "41f0cbd1",
   "metadata": {},
   "outputs": [
    {
     "name": "stdout",
     "output_type": "stream",
     "text": [
      "1 - 0.13%, 2 - 9.21%, 3 - 7.71%, 4 - 11.27%\n"
     ]
    }
   ],
   "source": [
    "percentage_failed_1 = find_percentage_failed(df1)\n",
    "percentage_failed_2 = find_percentage_failed(df2)\n",
    "percentage_failed_3 = find_percentage_failed(df3)\n",
    "percentage_failed_4 = find_percentage_failed(df4)\n",
    "print(f'1 - {round(percentage_failed_1, 2)}%, 2 - {round(percentage_failed_2, 2)}%, 3 - {round(percentage_failed_3, 2)}%, 4 - {round(percentage_failed_4, 2)}%')"
   ]
  },
  {
   "cell_type": "markdown",
   "id": "485f079d",
   "metadata": {},
   "source": [
    "5. Постройте круговую диаграмму, показывающую распределение сдавших и не сдавших экзамен."
   ]
  },
  {
   "cell_type": "code",
   "execution_count": 9,
   "id": "67170825",
   "metadata": {},
   "outputs": [],
   "source": [
    "def pie_pass_distr(df):\n",
    "    passed_count = len(df.loc[df[\"Балл\"] > df['Минимальный балл']])\n",
    "    failed_count = len(df) - passed_count\n",
    "    fig, ax = plt.subplots()\n",
    "    ax.pie([passed_count, failed_count], labels = [\"Сдали\", \"Провалили\"], autopct='%1.1f%%')\n",
    "    return fig, ax"
   ]
  },
  {
   "cell_type": "code",
   "execution_count": 10,
   "id": "c8892da9",
   "metadata": {},
   "outputs": [
    {
     "data": {
      "image/png": "[encoded data removed]",
      "text/plain": [
       "<Figure size 640x480 with 1 Axes>"
      ]
     },
     "metadata": {},
     "output_type": "display_data"
    }
   ],
   "source": [
    "fig, ax = pie_pass_distr(df1)\n",
    "plt.show()"
   ]
  },
  {
   "cell_type": "markdown",
   "id": "99c76e2e",
   "metadata": {},
   "source": [
    "6. Постройте ядерную оценку плотности распределению баллов за экзамен."
   ]
  },
  {
   "cell_type": "code",
   "execution_count": 11,
   "id": "f2a960d1",
   "metadata": {},
   "outputs": [],
   "source": [
    "def kde_distr(df):\n",
    "    fig, ax = plt.subplots()\n",
    "    ax = df[\"Балл\"].plot.kde()\n",
    "    return fig, ax"
   ]
  },
  {
   "cell_type": "code",
   "execution_count": 12,
   "id": "971b723f",
   "metadata": {},
   "outputs": [
    {
     "data": {
      "image/png": "[encoded data removed]",
      "text/plain": [
       "<Figure size 640x480 with 1 Axes>"
      ]
     },
     "metadata": {},
     "output_type": "display_data"
    }
   ],
   "source": [
    "fig, ax = kde_distr(df1)\n",
    "plt.show()"
   ]
  },
  {
   "cell_type": "markdown",
   "id": "77e2de21",
   "metadata": {},
   "source": [
    "7. Найдите процентное соотношение учащихся, сдавших экзамен на «отлично», «хорошо», «удовлетворительно», «неудовлетворительно»."
   ]
  },
  {
   "cell_type": "code",
   "execution_count": 13,
   "id": "26cb59fe",
   "metadata": {},
   "outputs": [],
   "source": [
    "def find_ratio_marks(df):\n",
    "    un = round(len(df.loc[df['Балл'] <= 26])*100/len(df), 2)\n",
    "    sa = round(len(df.loc[(df['Балл'] >= 27) & (df['Балл'] <= 49)])*100/len(df), 2)\n",
    "    go = round(len(df.loc[(df[\"Балл\"] >= 50) & (df['Балл'] <= 67)])*100/len(df), 2)\n",
    "    ex = round(len(df.loc[df['Балл'] >= 68])*100/len(df), 2)\n",
    "    print(f'неуд - {un}%, удовл - {sa}%, хор - {go}%, отл - {ex}%')\n",
    "    return un, sa, go, ex"
   ]
  },
  {
   "cell_type": "code",
   "execution_count": 14,
   "id": "7f9992ab",
   "metadata": {},
   "outputs": [
    {
     "name": "stdout",
     "output_type": "stream",
     "text": [
      "неуд - 0.26%, удовл - 4.53%, хор - 30.6%, отл - 64.61%\n",
      "неуд - 9.21%, удовл - 38.78%, хор - 26.39%, отл - 25.58%\n",
      "неуд - 2.03%, удовл - 48.35%, хор - 33.7%, отл - 15.92%\n",
      "неуд - 4.93%, удовл - 19.72%, хор - 32.39%, отл - 42.96%\n"
     ]
    }
   ],
   "source": [
    "ratio_marks_1 = find_ratio_marks(df1)\n",
    "ratio_marks_2 = find_ratio_marks(df2)\n",
    "ratio_marks_3 = find_ratio_marks(df3)\n",
    "ratio_marks_4 = find_ratio_marks(df4)"
   ]
  },
  {
   "cell_type": "markdown",
   "id": "4fe90df4",
   "metadata": {},
   "source": [
    "8. Какое процентное соотношение юношей и девушек писало данный экзамен?"
   ]
  },
  {
   "cell_type": "code",
   "execution_count": 15,
   "id": "52b709a0",
   "metadata": {},
   "outputs": [],
   "source": [
    "def find_ratio_sex(df):\n",
    "    male = round(len(df.loc[df['Пол'] == \"М\"])*100/len(df), 2)\n",
    "    fem = round(len(df.loc[df['Пол'] == \"Ж\"])*100/len(df), 2)\n",
    "    print(f'male - {male}%, female - {fem}%')\n",
    "    return male, fem"
   ]
  },
  {
   "cell_type": "code",
   "execution_count": 16,
   "id": "7904b565",
   "metadata": {},
   "outputs": [
    {
     "name": "stdout",
     "output_type": "stream",
     "text": [
      "male - 42.01%, female - 57.95%\n",
      "male - 47.14%, female - 52.82%\n",
      "male - 68.59%, female - 31.33%\n",
      "male - 76.76%, female - 22.54%\n"
     ]
    }
   ],
   "source": [
    "ratio_sex_1 = find_ratio_sex(df1)\n",
    "ratio_sex_2 = find_ratio_sex(df2)\n",
    "ratio_sex_3 = find_ratio_sex(df3)\n",
    "ratio_sex_4 = find_ratio_sex(df4)"
   ]
  },
  {
   "cell_type": "markdown",
   "id": "2d519b5e",
   "metadata": {},
   "source": [
    "9. Сколько школ принимало участие в экзамене?"
   ]
  },
  {
   "cell_type": "code",
   "execution_count": 17,
   "id": "5452ad8d",
   "metadata": {},
   "outputs": [],
   "source": [
    "def find_school_quantity(df):\n",
    "    return df.groupby('№ школы').count().shape[0]"
   ]
  },
  {
   "cell_type": "code",
   "execution_count": 18,
   "id": "2869e03f",
   "metadata": {},
   "outputs": [
    {
     "name": "stdout",
     "output_type": "stream",
     "text": [
      "кол-во школ представленных на экзамене:\n",
      "#1 - 24\n",
      "#2 - 17\n",
      "#3 - 19\n",
      "#4 - 10\n"
     ]
    }
   ],
   "source": [
    "sch_quan_1 = find_school_quantity(df1)\n",
    "sch_quan_2 = find_school_quantity(df2)\n",
    "sch_quan_3 = find_school_quantity(df3)\n",
    "sch_quan_4 = find_school_quantity(df4)\n",
    "\n",
    "print(f'кол-во школ представленных на экзамене:\\n#1 - {sch_quan_1}\\n#2 - {sch_quan_2}\\n#3 - {sch_quan_3}\\n#4 - {sch_quan_4}')"
   ]
  },
  {
   "cell_type": "markdown",
   "id": "9686205b",
   "metadata": {},
   "source": [
    "10. Сколько всего заданий с кратким ответом? С развернутым ответом? "
   ]
  },
  {
   "cell_type": "code",
   "execution_count": 19,
   "id": "145171bb",
   "metadata": {},
   "outputs": [],
   "source": [
    "# подразумевается, что задания в каждом варианте уникальные. Мы ищем множество таких заданий\n",
    "def find_short_ans_qu(df):\n",
    "    vars_quan = df.groupby('Номер варианта').count().shape[0]\n",
    "    return vars_quan * len(df['Задания с кратким ответом'].iloc[0])"
   ]
  },
  {
   "cell_type": "code",
   "execution_count": 20,
   "id": "36f34969",
   "metadata": {},
   "outputs": [],
   "source": [
    "def find_ext_ans_qu(df):\n",
    "    vars_quan = df.groupby('Номер варианта').count().shape[0]\n",
    "    num = list(df['Задания с развёрнутым ответом'].iloc[0]).count('(') \n",
    "    return vars_quan * num"
   ]
  },
  {
   "cell_type": "code",
   "execution_count": 21,
   "id": "48fb8c5f",
   "metadata": {},
   "outputs": [
    {
     "name": "stdout",
     "output_type": "stream",
     "text": [
      "кол-во уникальных заданий(с кратким ответом/развернутым ответом):\n",
      "850||408\n",
      "384||224\n",
      "540||100\n",
      "299||52\n"
     ]
    }
   ],
   "source": [
    "short_1, ex_1 = find_short_ans_qu(df1), find_ext_ans_qu(df1)\n",
    "short_2, ex_2 = find_short_ans_qu(df2), find_ext_ans_qu(df2)\n",
    "short_3, ex_3 = find_short_ans_qu(df3), find_ext_ans_qu(df3)\n",
    "short_4, ex_4 = find_short_ans_qu(df4), find_ext_ans_qu(df4)\n",
    "\n",
    "print(f'кол-во уникальных заданий(с кратким ответом/развернутым ответом):\\n{short_1}||{ex_1}\\n{short_2}||{ex_2}\\n{short_3}||{ex_3}\\n{short_4}||{ex_4}')"
   ]
  },
  {
   "cell_type": "markdown",
   "id": "70a0707d",
   "metadata": {},
   "source": [
    "11. Пусть задания с кратким ответом будут задания типа В. Соответственно всего по экзамену вопросов класса В: В\n",
    ", ... Вк\n",
    " Посчитайте процент выполненных и невыполненных заданий по каждому вопросу класса В."
   ]
  },
  {
   "cell_type": "code",
   "execution_count": 22,
   "id": "03390a11",
   "metadata": {},
   "outputs": [],
   "source": [
    "def countB(df):\n",
    "    done = 0\n",
    "    undone = 0\n",
    "    for item in df['Задания с кратким ответом'].tolist():\n",
    "        if isinstance(item, str):\n",
    "            for char in item:\n",
    "                if char == '+' or (char.isdigit() and char != '0'):\n",
    "                    done+=1;\n",
    "                else:\n",
    "                    undone +=1\n",
    "    overall = done+undone\n",
    "    print(f'выполн - {round(done*100/overall, 2)}%, undone - {round(undone*100/overall, 2)}%')\n",
    "    return done/overall, undone/overall\n"
   ]
  },
  {
   "cell_type": "code",
   "execution_count": 23,
   "id": "9e37f846",
   "metadata": {},
   "outputs": [
    {
     "name": "stdout",
     "output_type": "stream",
     "text": [
      "выполн - 78.25%, undone - 21.75%\n",
      "выполн - 73.68%, undone - 26.32%\n",
      "выполн - 65.23%, undone - 34.77%\n",
      "выполн - 58.96%, undone - 41.04%\n"
     ]
    }
   ],
   "source": [
    "B_ratio_1 = countB(df1)\n",
    "B_ratio_2 = countB(df2)\n",
    "B_ratio_3 = countB(df3)\n",
    "B_ratio_4 = countB(df4)"
   ]
  },
  {
   "cell_type": "markdown",
   "id": "ab3bb4f8",
   "metadata": {},
   "source": [
    "12. Аналогично и с типом С (ответы с развернутым ответом)"
   ]
  },
  {
   "cell_type": "code",
   "execution_count": 24,
   "id": "82d0449f",
   "metadata": {},
   "outputs": [],
   "source": [
    "def countC(df):\n",
    "    done = 0\n",
    "    undone = 0\n",
    "    for item in df['Задания с развёрнутым ответом'].tolist():\n",
    "        if isinstance(item, str):\n",
    "            ind = 0\n",
    "            while ind < (len(item)):\n",
    "                if item[ind].isdigit() and item[ind]!='0':\n",
    "                    done += 1\n",
    "                if item[ind] == '0':\n",
    "                    undone += 1\n",
    "                ind += 4\n",
    "    overall = done+undone\n",
    "    print(f'выполн - {round(done*100/overall, 2)}%, undone - {round(undone*100/overall, 2)}%')\n",
    "    return done/overall, undone/overall         "
   ]
  },
  {
   "cell_type": "code",
   "execution_count": 25,
   "id": "4ace8161",
   "metadata": {},
   "outputs": [
    {
     "name": "stdout",
     "output_type": "stream",
     "text": [
      "выполн - 91.37%, undone - 8.63%\n",
      "выполн - 10.85%, undone - 89.15%\n",
      "выполн - 25.47%, undone - 74.53%\n",
      "выполн - 50.35%, undone - 49.65%\n"
     ]
    }
   ],
   "source": [
    "C_ratio_1 = countC(df1)\n",
    "C_ratio_2 = countC(df2)\n",
    "C_ratio_3 = countC(df3)\n",
    "C_ratio_4 = countC(df4)"
   ]
  },
  {
   "cell_type": "markdown",
   "id": "c4374fdf",
   "metadata": {},
   "source": [
    "13. Сделайте анализ по двум школам:\\\n",
    "по всем выполненным заданиям типа В\\\n",
    "по заданиям типа С больше 50%\\\n",
    "по среднему баллу юношей и девушек"
   ]
  },
  {
   "cell_type": "code",
   "execution_count": 26,
   "id": "81094e0d",
   "metadata": {},
   "outputs": [],
   "source": [
    "def b_comparison(df, sch_num1, sch_num2):\n",
    "    sch_1_df = df[df[\"№ школы\"] == sch_num1]\n",
    "    sch_2_df = df[df[\"№ школы\"] == sch_num2]\n",
    "    sch_1_rat = countB(sch_1_df)\n",
    "    sch_2_rat = countB(sch_2_df)\n",
    "    return sch_1_rat, sch_2_rat\n",
    "    "
   ]
  },
  {
   "cell_type": "code",
   "execution_count": 27,
   "id": "b4997ff5",
   "metadata": {},
   "outputs": [
    {
     "name": "stdout",
     "output_type": "stream",
     "text": [
      "выполн - 77.52%, undone - 22.48%\n",
      "выполн - 78.57%, undone - 21.43%\n",
      "\n",
      "школа #1 выполнила 77.52% заданий B-типа\n",
      "школа #2 выполнила 78.57% заданий B-типа\n"
     ]
    }
   ],
   "source": [
    "sch_comp = b_comparison(df1, 117, 148)\n",
    "print(f'\\nшкола #1 выполнила {round(sch_comp[0][0]*100, 2)}% заданий B-типа\\nшкола #2 выполнила {round(sch_comp[1][0]*100, 2)}% заданий B-типа')"
   ]
  },
  {
   "cell_type": "code",
   "execution_count": 28,
   "id": "141afff0",
   "metadata": {},
   "outputs": [],
   "source": [
    "def c_ratio(df, comp_percent):\n",
    "    max_str = df['Задания с развёрнутым ответом'].iloc[0]\n",
    "    max_points = 0\n",
    "    comp_percent /= 100\n",
    "    ind = 0\n",
    "    while ind < len(max_str):\n",
    "        if max_str[ind] == '(':\n",
    "            max_points += int(max_str[ind+1])\n",
    "        ind+=1;\n",
    "    more = 0\n",
    "    less_eq = 0\n",
    "    for item in df['Задания с развёрнутым ответом'].tolist():\n",
    "        if isinstance(item, str):\n",
    "            cur = 0\n",
    "            ind = 0\n",
    "            while ind < len(item):\n",
    "                if item[ind].isdigit():\n",
    "                    cur += int(item[ind])\n",
    "                    ind += 4\n",
    "            if cur/max_points > comp_percent:\n",
    "                more += 1\n",
    "            else:\n",
    "                less_eq += 1\n",
    "    return more, less_eq"
   ]
  },
  {
   "cell_type": "code",
   "execution_count": 29,
   "id": "be3973fc",
   "metadata": {},
   "outputs": [],
   "source": [
    "def c_comp(df, sch_num_1, sch_num_2, percent):\n",
    "    sch_1_df = df[df[\"№ школы\"] == sch_num_1]\n",
    "    sch_2_df = df[df[\"№ школы\"] == sch_num_2]\n",
    "    sch_1_rat = c_ratio(sch_1_df, 50)[0]/len(sch_1_df)\n",
    "    sch_2_rat = c_ratio(sch_2_df, 50)[0]/len(sch_2_df)\n",
    "    return sch_1_rat, sch_2_rat"
   ]
  },
  {
   "cell_type": "code",
   "execution_count": 30,
   "id": "e19f2e58",
   "metadata": {},
   "outputs": [
    {
     "name": "stdout",
     "output_type": "stream",
     "text": [
      "школа #1 выполнила 85.26% заданий C-типа на больше чем 50%\n",
      "школа #2 выполнила 84.62% заданий C-типа на больше чем 50%\n"
     ]
    }
   ],
   "source": [
    "sch_comp_2 = c_comp(df1, 117, 148, 50)\n",
    "print(f'школа #1 выполнила {round(sch_comp_2[0]*100, 2)}% заданий C-типа на больше чем 50%\\nшкола #2 выполнила {round(sch_comp_2[1]*100, 2)}% заданий C-типа на больше чем 50%')"
   ]
  },
  {
   "cell_type": "code",
   "execution_count": 36,
   "id": "7b07ef81",
   "metadata": {},
   "outputs": [
    {
     "data": {
      "text/html": [
       "<div>\n",
       "<style scoped>\n",
       "    .dataframe tbody tr th:only-of-type {\n",
       "        vertical-align: middle;\n",
       "    }\n",
       "\n",
       "    .dataframe tbody tr th {\n",
       "        vertical-align: top;\n",
       "    }\n",
       "\n",
       "    .dataframe thead th {\n",
       "        text-align: right;\n",
       "    }\n",
       "</style>\n",
       "<table border=\"1\" class=\"dataframe\">\n",
       "  <thead>\n",
       "    <tr style=\"text-align: right;\">\n",
       "      <th></th>\n",
       "      <th>Школа</th>\n",
       "      <th>Ср.балл по Ж</th>\n",
       "      <th>Ср.балл по М</th>\n",
       "    </tr>\n",
       "  </thead>\n",
       "  <tbody>\n",
       "    <tr>\n",
       "      <th>0</th>\n",
       "      <td>117</td>\n",
       "      <td>75.686275</td>\n",
       "      <td>65.022727</td>\n",
       "    </tr>\n",
       "    <tr>\n",
       "      <th>1</th>\n",
       "      <td>148</td>\n",
       "      <td>75.745856</td>\n",
       "      <td>68.166667</td>\n",
       "    </tr>\n",
       "  </tbody>\n",
       "</table>\n",
       "</div>"
      ],
      "text/plain": [
       "   Школа  Ср.балл по Ж  Ср.балл по М\n",
       "0    117     75.686275     65.022727\n",
       "1    148     75.745856     68.166667"
      ]
     },
     "execution_count": 36,
     "metadata": {},
     "output_type": "execute_result"
    }
   ],
   "source": [
    "sch_comp_3_df = df1[(df1[\"№ школы\"]  == 117) | (df1[\"№ школы\"]  == 148)]\n",
    "temp_df = pd.DataFrame({\"Школа\": [117, 148]})\n",
    "temp_df['Ср.балл по Ж'] = df1[(df1[\"№ школы\"] == 117) & (df1['Пол'] == 'Ж')]['Балл'].mean(), df1[(df1[\"№ школы\"] == 148) & (df1['Пол'] == 'Ж')]['Балл'].mean()\n",
    "temp_df['Ср.балл по М'] = df1[(df1[\"№ школы\"] == 117) & (df1['Пол'] == 'М')]['Балл'].mean(), df1[(df1[\"№ школы\"] == 148) & (df1['Пол'] == 'М')]['Балл'].mean()\n",
    "temp_df"
   ]
  },
  {
   "cell_type": "markdown",
   "id": "2b478766",
   "metadata": {},
   "source": [
    "14. Для каждого задания добавьте соответствующий раздел в ноутбук и текстовые пояснения."
   ]
  }
 ],
 "metadata": {
  "kernelspec": {
   "display_name": "Python 3 (ipykernel)",
   "language": "python",
   "name": "python3"
  },
  "language_info": {
   "codemirror_mode": {
    "name": "ipython",
    "version": 3
   },
   "file_extension": ".py",
   "mimetype": "text/x-python",
   "name": "python",
   "nbconvert_exporter": "python",
   "pygments_lexer": "ipython3",
   "version": "3.9.13"
  }
 },
 "nbformat": 4,
 "nbformat_minor": 5
}
