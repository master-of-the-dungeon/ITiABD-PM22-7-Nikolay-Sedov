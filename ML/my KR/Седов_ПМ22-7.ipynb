{
 "cells": [
  {
   "cell_type": "code",
   "execution_count": 37,
   "id": "c9a51003",
   "metadata": {},
   "outputs": [],
   "source": [
    "from sklearn.datasets import fetch_openml\n",
    "\n",
    "import numpy as np\n",
    "import pandas as pd\n",
    "import matplotlib.pyplot as plt\n",
    "import seaborn as sns\n",
    "\n",
    "from time import time\n",
    "\n",
    "import sklearn.metrics as metrics\n",
    "from sklearn.model_selection import train_test_split"
   ]
  },
  {
   "cell_type": "markdown",
   "id": "1c951513",
   "metadata": {},
   "source": [
    "# Вариант 8, датасет ricci_vs_destefano"
   ]
  },
  {
   "cell_type": "markdown",
   "id": "e5fcd5c1",
   "metadata": {},
   "source": [
    "1. (1 балл) Загрузите предложенный вам датасет с помощью функции `sklearn.datasets.fetch_openml`. Выведите текстовое описание загруженного датасета. Обозначьте целевую переменную за `y`, а остальные данные за `X`."
   ]
  },
  {
   "cell_type": "code",
   "execution_count": 38,
   "id": "c9e65c11",
   "metadata": {},
   "outputs": [],
   "source": [
    "from sklearn.datasets import fetch_openml"
   ]
  },
  {
   "cell_type": "code",
   "execution_count": 39,
   "id": "ebf589a0",
   "metadata": {},
   "outputs": [],
   "source": [
    "data = fetch_openml('ricci_vs_destefano', parser='auto')"
   ]
  },
  {
   "cell_type": "code",
   "execution_count": 40,
   "id": "4023400e",
   "metadata": {},
   "outputs": [
    {
     "name": "stdout",
     "output_type": "stream",
     "text": [
      "DESCRIPTIVE ABSTRACT:\n",
      "The data set contains the oral, written and combined test scores for 2003 New Haven Fire Department \n",
      "promotion exams. The Race and Position for each test taker are also given. \n",
      "\n",
      "\n",
      "SOURCES:\n",
      "The data was obtained from the district court's decision, the briefs and appendices to them. \n",
      "\n",
      "Ricci v. DeStefeno, 554 F. Supp. 2d 142 (United States District Court for the district of Connecticut)\n",
      "\n",
      "\n",
      "VARIABLE DESCRIPTIONS:\n",
      "\n",
      "Columns \n",
      "1 Race -- W = white, H=Hispanic, B=black\n",
      "3-12 Position -- Captain or Lieutenant\n",
      "14-18 Oral -- Oral exam score\n",
      "20-21 Written -- Written exam score\n",
      "23-28 Combine -- Weighted total score, with 60% written and 40% oral\n",
      "\n",
      "Values are centered and delimited by blanks. There are no missing values.\n",
      "\n",
      "STORY BEHIND THE DATA:\n",
      "In November and December of 2003, the New Haven Fire Department administered oral and written exams \n",
      "for promotion to Lieutenant and Captain. Under the contract between the City of New Haven and the \n",
      "firefighter's union, the written exam received a weight of 60% and oral exam received a weight of 40%.\n",
      "Applicants with a total score of 70% or above pass the exam and become eligible for promotion. A total \n",
      "of 118 firefighters took the exam. Among them, 77 took the Lieutenant exam, and 41 took the Captain exam. \n",
      "During the time of the exams, there were 8 Lieutenant and 7 Captain positions available. The City Charter of\n",
      "New Haven specifies that when &quot;g&quot; promotions are made, the Department must select them from the top\n",
      "&quot;g+2&quot; scorers. Consequently, top 10 Lieutenant scorers and top 9 Captain scorers are eligible for \n",
      "potential promotion. The City of New Haven decided not to certify the exam and promoted no one, \n",
      "because an insufficient number of minorities would receive a promotion to an existing position. \n",
      "Ricci and other test-takers who would be considered for promotion had the city certified the exam \n",
      "sued the city for reverse discrimination. The District Court decided that the plaintiffs did not \n",
      "have a viable disparate impact claim. The appeals court confirmed the district court's ruling in \n",
      "Feb, 2008. On June 29, 2009, the Supreme Court decided that the City's failure to certify the tests \n",
      "was a violation of Title VII of the Civil Rights Act of 1964. \n",
      "\n",
      "PEDAGOGICAL NOTES:\n",
      "There are three races in the data: white, Hispanic and black. The data can be used for one-way ANOVA on \n",
      "equality of average test scores for three races; two-way ANOVA for \n",
      "equlity of test scores for race and position; chi-square test on the equality \n",
      "of pass rates for three races; Fisher-Freeman-Halton test on the equality of the potential promotion \n",
      "rates.\n",
      "\n",
      "Instructors can also combine blacks and Hispanics as minority. Then the following analysis can be made: \n",
      "two-sample t-test on equality of average test scores for majority v. minority; chi-square test on the \n",
      "equality of pass rates for majority v. minority; Fisher's exact test on equality of the potential \n",
      "promotion rates for majority v.minority.\n",
      "\n",
      "Data obtained from \n",
      "https://github.com/algofairness/fairness-comparison\n",
      "\n",
      "Downloaded from openml.org.\n"
     ]
    }
   ],
   "source": [
    "print(data.DESCR)"
   ]
  },
  {
   "cell_type": "code",
   "execution_count": 41,
   "id": "ac419006",
   "metadata": {},
   "outputs": [],
   "source": [
    "X = data.data\n",
    "y = data.target"
   ]
  },
  {
   "cell_type": "markdown",
   "id": "b35db1c4",
   "metadata": {},
   "source": [
    "# Основная информация"
   ]
  },
  {
   "cell_type": "markdown",
   "id": "6d86a522",
   "metadata": {},
   "source": [
    "2. (1 балл) Выведите основную статистическую информацию о данных. Сделайте количественное описание датасета: число строк (объектов), число столбцов (признаков), статистику по признакам, количество классов (значений целевой переменной)."
   ]
  },
  {
   "cell_type": "code",
   "execution_count": 42,
   "id": "1062dec5",
   "metadata": {},
   "outputs": [
    {
     "data": {
      "text/plain": [
       "(118, 5)"
      ]
     },
     "execution_count": 42,
     "metadata": {},
     "output_type": "execute_result"
    }
   ],
   "source": [
    "X.shape"
   ]
  },
  {
   "cell_type": "code",
   "execution_count": 43,
   "id": "ab065ccf",
   "metadata": {},
   "outputs": [
    {
     "data": {
      "text/html": [
       "<div>\n",
       "<style scoped>\n",
       "    .dataframe tbody tr th:only-of-type {\n",
       "        vertical-align: middle;\n",
       "    }\n",
       "\n",
       "    .dataframe tbody tr th {\n",
       "        vertical-align: top;\n",
       "    }\n",
       "\n",
       "    .dataframe thead th {\n",
       "        text-align: right;\n",
       "    }\n",
       "</style>\n",
       "<table border=\"1\" class=\"dataframe\">\n",
       "  <thead>\n",
       "    <tr style=\"text-align: right;\">\n",
       "      <th></th>\n",
       "      <th>Position</th>\n",
       "      <th>Oral</th>\n",
       "      <th>Written</th>\n",
       "      <th>Race</th>\n",
       "      <th>Combine</th>\n",
       "    </tr>\n",
       "  </thead>\n",
       "  <tbody>\n",
       "    <tr>\n",
       "      <th>0</th>\n",
       "      <td>Captain</td>\n",
       "      <td>89.52</td>\n",
       "      <td>95</td>\n",
       "      <td>W</td>\n",
       "      <td>92.808</td>\n",
       "    </tr>\n",
       "    <tr>\n",
       "      <th>1</th>\n",
       "      <td>Captain</td>\n",
       "      <td>80.00</td>\n",
       "      <td>95</td>\n",
       "      <td>W</td>\n",
       "      <td>89.000</td>\n",
       "    </tr>\n",
       "    <tr>\n",
       "      <th>2</th>\n",
       "      <td>Captain</td>\n",
       "      <td>82.38</td>\n",
       "      <td>87</td>\n",
       "      <td>W</td>\n",
       "      <td>85.152</td>\n",
       "    </tr>\n",
       "    <tr>\n",
       "      <th>3</th>\n",
       "      <td>Captain</td>\n",
       "      <td>88.57</td>\n",
       "      <td>76</td>\n",
       "      <td>W</td>\n",
       "      <td>81.028</td>\n",
       "    </tr>\n",
       "    <tr>\n",
       "      <th>4</th>\n",
       "      <td>Captain</td>\n",
       "      <td>76.19</td>\n",
       "      <td>84</td>\n",
       "      <td>W</td>\n",
       "      <td>80.876</td>\n",
       "    </tr>\n",
       "  </tbody>\n",
       "</table>\n",
       "</div>"
      ],
      "text/plain": [
       "  Position   Oral  Written Race  Combine\n",
       "0  Captain  89.52       95    W   92.808\n",
       "1  Captain  80.00       95    W   89.000\n",
       "2  Captain  82.38       87    W   85.152\n",
       "3  Captain  88.57       76    W   81.028\n",
       "4  Captain  76.19       84    W   80.876"
      ]
     },
     "execution_count": 43,
     "metadata": {},
     "output_type": "execute_result"
    }
   ],
   "source": [
    "X.head()"
   ]
  },
  {
   "cell_type": "code",
   "execution_count": 44,
   "id": "16638077",
   "metadata": {},
   "outputs": [
    {
     "name": "stdout",
     "output_type": "stream",
     "text": [
      "<class 'pandas.core.frame.DataFrame'>\n",
      "RangeIndex: 118 entries, 0 to 117\n",
      "Data columns (total 5 columns):\n",
      " #   Column    Non-Null Count  Dtype  \n",
      "---  ------    --------------  -----  \n",
      " 0   Position  118 non-null    object \n",
      " 1   Oral      118 non-null    float64\n",
      " 2   Written   118 non-null    int64  \n",
      " 3   Race      118 non-null    object \n",
      " 4   Combine   118 non-null    float64\n",
      "dtypes: float64(2), int64(1), object(2)\n",
      "memory usage: 4.7+ KB\n"
     ]
    }
   ],
   "source": [
    "X.info()"
   ]
  },
  {
   "cell_type": "markdown",
   "id": "b9cc5a1d",
   "metadata": {},
   "source": [
    "Количество классов"
   ]
  },
  {
   "cell_type": "code",
   "execution_count": 45,
   "id": "20c86cc1",
   "metadata": {},
   "outputs": [
    {
     "data": {
      "text/plain": [
       "Promotion\n",
       "No promotion    62\n",
       "Promotion       56\n",
       "Name: count, dtype: int64"
      ]
     },
     "execution_count": 45,
     "metadata": {},
     "output_type": "execute_result"
    }
   ],
   "source": [
    "y.value_counts()"
   ]
  },
  {
   "cell_type": "markdown",
   "id": "46e5c2cd",
   "metadata": {},
   "source": [
    "Количество классов равно двум, а значит я имею дело с бинарной классификацией."
   ]
  },
  {
   "cell_type": "markdown",
   "id": "d3f345d0",
   "metadata": {},
   "source": [
    "3. (1 балл) Убедитесь, что данные пригодны для моделирования. В данных не должно быть пропущенных значений, ве признаки должны быть численными. Если эти условия нарушаются, исправьте это."
   ]
  },
  {
   "cell_type": "markdown",
   "id": "a40c4efb",
   "metadata": {},
   "source": [
    "Сначала проверю данные на NaN значения. Выведу строки, содержащие NaN."
   ]
  },
  {
   "cell_type": "code",
   "execution_count": 46,
   "id": "acba0a67",
   "metadata": {},
   "outputs": [
    {
     "data": {
      "text/html": [
       "<div>\n",
       "<style scoped>\n",
       "    .dataframe tbody tr th:only-of-type {\n",
       "        vertical-align: middle;\n",
       "    }\n",
       "\n",
       "    .dataframe tbody tr th {\n",
       "        vertical-align: top;\n",
       "    }\n",
       "\n",
       "    .dataframe thead th {\n",
       "        text-align: right;\n",
       "    }\n",
       "</style>\n",
       "<table border=\"1\" class=\"dataframe\">\n",
       "  <thead>\n",
       "    <tr style=\"text-align: right;\">\n",
       "      <th></th>\n",
       "      <th>Position</th>\n",
       "      <th>Oral</th>\n",
       "      <th>Written</th>\n",
       "      <th>Race</th>\n",
       "      <th>Combine</th>\n",
       "    </tr>\n",
       "  </thead>\n",
       "  <tbody>\n",
       "  </tbody>\n",
       "</table>\n",
       "</div>"
      ],
      "text/plain": [
       "Empty DataFrame\n",
       "Columns: [Position, Oral, Written, Race, Combine]\n",
       "Index: []"
      ]
     },
     "execution_count": 46,
     "metadata": {},
     "output_type": "execute_result"
    }
   ],
   "source": [
    "X[X.isnull().any(axis=1)]"
   ]
  },
  {
   "cell_type": "code",
   "execution_count": 47,
   "id": "e815df08",
   "metadata": {},
   "outputs": [
    {
     "data": {
      "text/plain": [
       "Series([], Name: Promotion, dtype: object)"
      ]
     },
     "execution_count": 47,
     "metadata": {},
     "output_type": "execute_result"
    }
   ],
   "source": [
    "y[y.isnull()]"
   ]
  },
  {
   "cell_type": "markdown",
   "id": "d43b4bc0",
   "metadata": {},
   "source": [
    "Таких строк нет, а значит данные пригодны."
   ]
  },
  {
   "cell_type": "code",
   "execution_count": 48,
   "id": "f3cedd6e",
   "metadata": {},
   "outputs": [
    {
     "name": "stdout",
     "output_type": "stream",
     "text": [
      "<class 'pandas.core.frame.DataFrame'>\n",
      "RangeIndex: 118 entries, 0 to 117\n",
      "Data columns (total 5 columns):\n",
      " #   Column    Non-Null Count  Dtype  \n",
      "---  ------    --------------  -----  \n",
      " 0   Position  118 non-null    object \n",
      " 1   Oral      118 non-null    float64\n",
      " 2   Written   118 non-null    int64  \n",
      " 3   Race      118 non-null    object \n",
      " 4   Combine   118 non-null    float64\n",
      "dtypes: float64(2), int64(1), object(2)\n",
      "memory usage: 4.7+ KB\n"
     ]
    }
   ],
   "source": [
    "X.info()"
   ]
  },
  {
   "cell_type": "markdown",
   "id": "c0a2b5fd",
   "metadata": {},
   "source": [
    "Признаки содержат тип Object(здесь это строки). Разрешу эту ситуацию с помощью one-hot кодирования"
   ]
  },
  {
   "cell_type": "code",
   "execution_count": 49,
   "id": "7aea647e",
   "metadata": {},
   "outputs": [],
   "source": [
    "X = pd.get_dummies(X, drop_first=True).astype(float)"
   ]
  },
  {
   "cell_type": "code",
   "execution_count": 50,
   "id": "7ba21a28",
   "metadata": {},
   "outputs": [
    {
     "name": "stdout",
     "output_type": "stream",
     "text": [
      "<class 'pandas.core.frame.DataFrame'>\n",
      "RangeIndex: 118 entries, 0 to 117\n",
      "Data columns (total 6 columns):\n",
      " #   Column               Non-Null Count  Dtype  \n",
      "---  ------               --------------  -----  \n",
      " 0   Oral                 118 non-null    float64\n",
      " 1   Written              118 non-null    float64\n",
      " 2   Combine              118 non-null    float64\n",
      " 3   Position_Lieutenant  118 non-null    float64\n",
      " 4   Race_H               118 non-null    float64\n",
      " 5   Race_W               118 non-null    float64\n",
      "dtypes: float64(6)\n",
      "memory usage: 5.7 KB\n"
     ]
    }
   ],
   "source": [
    "X.info()"
   ]
  },
  {
   "cell_type": "markdown",
   "id": "b98e46d5",
   "metadata": {},
   "source": [
    "Теперь все данные содержат численные значения, а значит по ним можно строить модель"
   ]
  },
  {
   "cell_type": "code",
   "execution_count": 51,
   "id": "2e248ad2",
   "metadata": {},
   "outputs": [],
   "source": [
    "all_models = pd.DataFrame(columns=['name', 'accuracy', 'time'])"
   ]
  },
  {
   "cell_type": "code",
   "execution_count": 52,
   "id": "13057ae3",
   "metadata": {},
   "outputs": [
    {
     "data": {
      "text/html": [
       "<div>\n",
       "<style scoped>\n",
       "    .dataframe tbody tr th:only-of-type {\n",
       "        vertical-align: middle;\n",
       "    }\n",
       "\n",
       "    .dataframe tbody tr th {\n",
       "        vertical-align: top;\n",
       "    }\n",
       "\n",
       "    .dataframe thead th {\n",
       "        text-align: right;\n",
       "    }\n",
       "</style>\n",
       "<table border=\"1\" class=\"dataframe\">\n",
       "  <thead>\n",
       "    <tr style=\"text-align: right;\">\n",
       "      <th></th>\n",
       "      <th>name</th>\n",
       "      <th>accuracy</th>\n",
       "      <th>time</th>\n",
       "    </tr>\n",
       "  </thead>\n",
       "  <tbody>\n",
       "  </tbody>\n",
       "</table>\n",
       "</div>"
      ],
      "text/plain": [
       "Empty DataFrame\n",
       "Columns: [name, accuracy, time]\n",
       "Index: []"
      ]
     },
     "execution_count": 52,
     "metadata": {},
     "output_type": "execute_result"
    }
   ],
   "source": [
    "all_models"
   ]
  },
  {
   "cell_type": "markdown",
   "id": "d1684edc",
   "metadata": {},
   "source": [
    "4. (2 балла) Обучите модель логистической регрессии на рассматриваемых данных из библиотеки `sklearn`. Рассчитайте метрики accuracy и выведите таблицу классификации."
   ]
  },
  {
   "cell_type": "markdown",
   "id": "b5df707b",
   "metadata": {},
   "source": [
    "# Логистическая регрессия"
   ]
  },
  {
   "cell_type": "code",
   "execution_count": 53,
   "id": "7d0c185e",
   "metadata": {},
   "outputs": [],
   "source": [
    "from sklearn.linear_model import LogisticRegression"
   ]
  },
  {
   "cell_type": "code",
   "execution_count": 54,
   "id": "35ce8c88",
   "metadata": {},
   "outputs": [],
   "source": [
    "start = time()\n",
    "\n",
    "model = LogisticRegression()\n",
    "model.fit(X, y)\n",
    "\n",
    "y_pred = model.predict(X)\n",
    "\n",
    "score_ = metrics.accuracy_score(y, y_pred)\n",
    "\n",
    "cf_m = metrics.confusion_matrix(y, y_pred)\n",
    "\n",
    "end = time() - start\n",
    "    \n",
    "all_models.loc[-1] = [f'Logistic regression', score_, end]\n",
    "all_models.index = all_models.index + 1"
   ]
  },
  {
   "cell_type": "code",
   "execution_count": 55,
   "id": "117da6bd",
   "metadata": {},
   "outputs": [
    {
     "name": "stdout",
     "output_type": "stream",
     "text": [
      "Accuracy: 1.0\n"
     ]
    }
   ],
   "source": [
    "print(f'Accuracy: {score_}')"
   ]
  },
  {
   "cell_type": "code",
   "execution_count": 56,
   "id": "bb3e721a",
   "metadata": {},
   "outputs": [
    {
     "data": {
      "image/png": "[encoded data removed]",
      "text/plain": [
       "<Figure size 400x300 with 2 Axes>"
      ]
     },
     "metadata": {},
     "output_type": "display_data"
    }
   ],
   "source": [
    "plt.figure(figsize=(4, 3))\n",
    "ax = plt.subplot()\n",
    "sns.heatmap(cf_m, annot=True, cmap='Blues', ax=ax);"
   ]
  },
  {
   "cell_type": "markdown",
   "id": "1b04c151",
   "metadata": {},
   "source": [
    "Модель идеально разделила представленные классы"
   ]
  },
  {
   "cell_type": "markdown",
   "id": "83d571a3",
   "metadata": {},
   "source": [
    "5. (2 балла) Обучите полиномиальную модель классификации. Рассчитайте метрики accuracy и выведите таблицу классификации. Попробуйте разные степени полинома и выберите ту, которая работает лучше."
   ]
  },
  {
   "cell_type": "markdown",
   "id": "cb6e967c",
   "metadata": {},
   "source": [
    "# Полиномиальная модель"
   ]
  },
  {
   "cell_type": "code",
   "execution_count": 57,
   "id": "8d3b0998",
   "metadata": {},
   "outputs": [],
   "source": [
    "from sklearn.preprocessing import PolynomialFeatures\n",
    "\n",
    "transf = PolynomialFeatures(degree=2)\n",
    "transf.fit(X)\n",
    "\n",
    "X_2 = transf.transform(X)"
   ]
  },
  {
   "cell_type": "code",
   "execution_count": 58,
   "id": "89ee55b5",
   "metadata": {},
   "outputs": [
    {
     "data": {
      "text/html": [
       "<style>#sk-container-id-2 {color: black;}#sk-container-id-2 pre{padding: 0;}#sk-container-id-2 div.sk-toggleable {background-color: white;}#sk-container-id-2 label.sk-toggleable__label {cursor: pointer;display: block;width: 100%;margin-bottom: 0;padding: 0.3em;box-sizing: border-box;text-align: center;}#sk-container-id-2 label.sk-toggleable__label-arrow:before {content: \"▸\";float: left;margin-right: 0.25em;color: #696969;}#sk-container-id-2 label.sk-toggleable__label-arrow:hover:before {color: black;}#sk-container-id-2 div.sk-estimator:hover label.sk-toggleable__label-arrow:before {color: black;}#sk-container-id-2 div.sk-toggleable__content {max-height: 0;max-width: 0;overflow: hidden;text-align: left;background-color: #f0f8ff;}#sk-container-id-2 div.sk-toggleable__content pre {margin: 0.2em;color: black;border-radius: 0.25em;background-color: #f0f8ff;}#sk-container-id-2 input.sk-toggleable__control:checked~div.sk-toggleable__content {max-height: 200px;max-width: 100%;overflow: auto;}#sk-container-id-2 input.sk-toggleable__control:checked~label.sk-toggleable__label-arrow:before {content: \"▾\";}#sk-container-id-2 div.sk-estimator input.sk-toggleable__control:checked~label.sk-toggleable__label {background-color: #d4ebff;}#sk-container-id-2 div.sk-label input.sk-toggleable__control:checked~label.sk-toggleable__label {background-color: #d4ebff;}#sk-container-id-2 input.sk-hidden--visually {border: 0;clip: rect(1px 1px 1px 1px);clip: rect(1px, 1px, 1px, 1px);height: 1px;margin: -1px;overflow: hidden;padding: 0;position: absolute;width: 1px;}#sk-container-id-2 div.sk-estimator {font-family: monospace;background-color: #f0f8ff;border: 1px dotted black;border-radius: 0.25em;box-sizing: border-box;margin-bottom: 0.5em;}#sk-container-id-2 div.sk-estimator:hover {background-color: #d4ebff;}#sk-container-id-2 div.sk-parallel-item::after {content: \"\";width: 100%;border-bottom: 1px solid gray;flex-grow: 1;}#sk-container-id-2 div.sk-label:hover label.sk-toggleable__label {background-color: #d4ebff;}#sk-container-id-2 div.sk-serial::before {content: \"\";position: absolute;border-left: 1px solid gray;box-sizing: border-box;top: 0;bottom: 0;left: 50%;z-index: 0;}#sk-container-id-2 div.sk-serial {display: flex;flex-direction: column;align-items: center;background-color: white;padding-right: 0.2em;padding-left: 0.2em;position: relative;}#sk-container-id-2 div.sk-item {position: relative;z-index: 1;}#sk-container-id-2 div.sk-parallel {display: flex;align-items: stretch;justify-content: center;background-color: white;position: relative;}#sk-container-id-2 div.sk-item::before, #sk-container-id-2 div.sk-parallel-item::before {content: \"\";position: absolute;border-left: 1px solid gray;box-sizing: border-box;top: 0;bottom: 0;left: 50%;z-index: -1;}#sk-container-id-2 div.sk-parallel-item {display: flex;flex-direction: column;z-index: 1;position: relative;background-color: white;}#sk-container-id-2 div.sk-parallel-item:first-child::after {align-self: flex-end;width: 50%;}#sk-container-id-2 div.sk-parallel-item:last-child::after {align-self: flex-start;width: 50%;}#sk-container-id-2 div.sk-parallel-item:only-child::after {width: 0;}#sk-container-id-2 div.sk-dashed-wrapped {border: 1px dashed gray;margin: 0 0.4em 0.5em 0.4em;box-sizing: border-box;padding-bottom: 0.4em;background-color: white;}#sk-container-id-2 div.sk-label label {font-family: monospace;font-weight: bold;display: inline-block;line-height: 1.2em;}#sk-container-id-2 div.sk-label-container {text-align: center;}#sk-container-id-2 div.sk-container {/* jupyter's `normalize.less` sets `[hidden] { display: none; }` but bootstrap.min.css set `[hidden] { display: none !important; }` so we also need the `!important` here to be able to override the default hidden behavior on the sphinx rendered scikit-learn.org. See: https://github.com/scikit-learn/scikit-learn/issues/21755 */display: inline-block !important;position: relative;}#sk-container-id-2 div.sk-text-repr-fallback {display: none;}</style><div id=\"sk-container-id-2\" class=\"sk-top-container\"><div class=\"sk-text-repr-fallback\"><pre>LogisticRegression(max_iter=10000)</pre><b>In a Jupyter environment, please rerun this cell to show the HTML representation or trust the notebook. <br />On GitHub, the HTML representation is unable to render, please try loading this page with nbviewer.org.</b></div><div class=\"sk-container\" hidden><div class=\"sk-item\"><div class=\"sk-estimator sk-toggleable\"><input class=\"sk-toggleable__control sk-hidden--visually\" id=\"sk-estimator-id-2\" type=\"checkbox\" checked><label for=\"sk-estimator-id-2\" class=\"sk-toggleable__label sk-toggleable__label-arrow\">LogisticRegression</label><div class=\"sk-toggleable__content\"><pre>LogisticRegression(max_iter=10000)</pre></div></div></div></div></div>"
      ],
      "text/plain": [
       "LogisticRegression(max_iter=10000)"
      ]
     },
     "execution_count": 58,
     "metadata": {},
     "output_type": "execute_result"
    }
   ],
   "source": [
    "model = LogisticRegression(max_iter=10_000)\n",
    "model.fit(X_2, y)"
   ]
  },
  {
   "cell_type": "code",
   "execution_count": 59,
   "id": "9258ea13",
   "metadata": {},
   "outputs": [
    {
     "data": {
      "text/plain": [
       "1.0"
      ]
     },
     "execution_count": 59,
     "metadata": {},
     "output_type": "execute_result"
    }
   ],
   "source": [
    "metrics.accuracy_score(y, y_pred)"
   ]
  },
  {
   "cell_type": "code",
   "execution_count": 60,
   "id": "ac1fd7ef",
   "metadata": {},
   "outputs": [
    {
     "data": {
      "image/png": "[encoded data removed]",
      "text/plain": [
       "<Figure size 400x300 with 2 Axes>"
      ]
     },
     "metadata": {},
     "output_type": "display_data"
    }
   ],
   "source": [
    "cf_m = metrics.confusion_matrix(y, y_pred)\n",
    "\n",
    "plt.figure(figsize=(4, 3))\n",
    "ax = plt.subplot()\n",
    "sns.heatmap(cf_m, annot=True, cmap='Blues', ax=ax);"
   ]
  },
  {
   "cell_type": "code",
   "execution_count": 61,
   "id": "4d2ac6b1",
   "metadata": {},
   "outputs": [
    {
     "data": {
      "text/plain": [
       "(118, 28)"
      ]
     },
     "execution_count": 61,
     "metadata": {},
     "output_type": "execute_result"
    }
   ],
   "source": [
    "X_2.shape"
   ]
  },
  {
   "cell_type": "code",
   "execution_count": 62,
   "id": "8bcee811",
   "metadata": {},
   "outputs": [
    {
     "data": {
      "image/png": "[encoded data removed]",
      "text/plain": [
       "<Figure size 1000x800 with 8 Axes>"
      ]
     },
     "metadata": {},
     "output_type": "display_data"
    }
   ],
   "source": [
    "fig = plt.figure(figsize=(10, 8))\n",
    "\n",
    "degrees = [2, 3, 4, 5]\n",
    "for i, degree in enumerate(degrees):\n",
    "    start = time()\n",
    "    \n",
    "    transf = PolynomialFeatures(degree=degree)\n",
    "    transf.fit(X)\n",
    "\n",
    "    X_poly = transf.transform(X)\n",
    "    \n",
    "    model = LogisticRegression(max_iter=10_000)\n",
    "    model.fit(X_2, y)\n",
    "    \n",
    "    score_ = metrics.accuracy_score(y, y_pred)\n",
    "    \n",
    "    end = time() - start\n",
    "    \n",
    "    all_models.loc[-1] = [f'Polynomial {degree} degree', score_, end]\n",
    "    all_models.index = all_models.index + 1\n",
    "    \n",
    "    cf_m = metrics.confusion_matrix(y, y_pred)\n",
    "    \n",
    "    ax = fig.add_subplot(2, 2, 1 + i)\n",
    "    ax.set_title(f'Модель с {degree} степенью полинома. Accuracy: {score_}')\n",
    "    sns.heatmap(cf_m, annot=True, cmap='Blues', ax=ax)"
   ]
  },
  {
   "cell_type": "markdown",
   "id": "dd5b1e01",
   "metadata": {},
   "source": [
    "Все модели идеально разделяют классы, но повышение степени полинома сильно сказывается на количестве признаков, а значит и на производительность."
   ]
  },
  {
   "cell_type": "markdown",
   "id": "e2df4b09",
   "metadata": {},
   "source": [
    "6. (2 балла) Обучите модель классификации по методу опорных векторов. Рассчитайте метрики accuracy и выведите таблицу классификации. Попробуйте разные ядерные функции и выберите ту, которая работает лучше."
   ]
  },
  {
   "cell_type": "markdown",
   "id": "d9d58aed",
   "metadata": {},
   "source": [
    "# Метод опорных векторов"
   ]
  },
  {
   "cell_type": "code",
   "execution_count": 63,
   "id": "984e8e5b",
   "metadata": {},
   "outputs": [],
   "source": [
    "from sklearn.svm import SVC\n",
    "\n",
    "model = SVC().fit(X, y)"
   ]
  },
  {
   "cell_type": "code",
   "execution_count": 64,
   "id": "512cbca9",
   "metadata": {},
   "outputs": [
    {
     "data": {
      "text/plain": [
       "0.9152542372881356"
      ]
     },
     "execution_count": 64,
     "metadata": {},
     "output_type": "execute_result"
    }
   ],
   "source": [
    "y_pred = model.predict(X)\n",
    "\n",
    "metrics.accuracy_score(y, y_pred)"
   ]
  },
  {
   "cell_type": "code",
   "execution_count": 65,
   "id": "2a53bfb4",
   "metadata": {},
   "outputs": [
    {
     "data": {
      "image/png": "[encoded data removed]",
      "text/plain": [
       "<Figure size 400x300 with 2 Axes>"
      ]
     },
     "metadata": {},
     "output_type": "display_data"
    }
   ],
   "source": [
    "cf_m = metrics.confusion_matrix(y, y_pred)\n",
    "\n",
    "plt.figure(figsize=(4, 3))\n",
    "ax = plt.subplot()\n",
    "sns.heatmap(cf_m, annot=True, cmap='Blues', ax=ax);"
   ]
  },
  {
   "cell_type": "code",
   "execution_count": 66,
   "id": "293776cb",
   "metadata": {},
   "outputs": [
    {
     "data": {
      "image/png": "[encoded data removed]",
      "text/plain": [
       "<Figure size 1000x800 with 8 Axes>"
      ]
     },
     "metadata": {},
     "output_type": "display_data"
    }
   ],
   "source": [
    "fig = plt.figure(figsize=(10, 8))\n",
    "\n",
    "for i, kernel in enumerate(('linear', 'poly', 'rbf', 'sigmoid')):\n",
    "    start = time()\n",
    "    \n",
    "    model = SVC(kernel=kernel).fit(X, y)\n",
    "    y_pred = model.predict(X)\n",
    "    \n",
    "    score_ = metrics.accuracy_score(y, y_pred)\n",
    "    \n",
    "    all_models.loc[-1] = [f'Support Vector Machine {kernel}', score_, end]\n",
    "    all_models.index = all_models.index + 1\n",
    "    \n",
    "    cf_m = metrics.confusion_matrix(y, y_pred)\n",
    "    \n",
    "    end = time() - start\n",
    "\n",
    "    ax = fig.add_subplot(2, 2, 1 + i)\n",
    "    ax.set_title(f'Модель с {kernel} ядром. Accuracy: {round(score_, 2)}')\n",
    "    sns.heatmap(cf_m, annot=True, cmap='Blues', ax=ax)"
   ]
  },
  {
   "cell_type": "markdown",
   "id": "ef83202f",
   "metadata": {},
   "source": [
    "Качество модели очень разнится от ядра, что связано с тем, как именно модель выбирает опорные точки, для построения 'зазора'"
   ]
  },
  {
   "cell_type": "markdown",
   "id": "b61251d7",
   "metadata": {},
   "source": [
    "7. (1 балл) Обучите модель классификации Перцептрон. Рассчитайте метрики accuracy и выведите таблицу классификации. "
   ]
  },
  {
   "cell_type": "markdown",
   "id": "54a9dfe7",
   "metadata": {},
   "source": [
    "# Перцептрон"
   ]
  },
  {
   "cell_type": "code",
   "execution_count": 67,
   "id": "0979d10f",
   "metadata": {},
   "outputs": [],
   "source": [
    "from sklearn.neural_network import MLPClassifier\n",
    "\n",
    "model = MLPClassifier(max_iter=2_000).fit(X, y)"
   ]
  },
  {
   "cell_type": "code",
   "execution_count": 68,
   "id": "3cff20bf",
   "metadata": {},
   "outputs": [
    {
     "data": {
      "text/plain": [
       "0.940677966101695"
      ]
     },
     "execution_count": 68,
     "metadata": {},
     "output_type": "execute_result"
    }
   ],
   "source": [
    "y_pred = model.predict(X)\n",
    "\n",
    "metrics.accuracy_score(y, y_pred)"
   ]
  },
  {
   "cell_type": "code",
   "execution_count": 69,
   "id": "e83fa1d0",
   "metadata": {},
   "outputs": [
    {
     "data": {
      "text/plain": [
       "0.940677966101695"
      ]
     },
     "execution_count": 69,
     "metadata": {},
     "output_type": "execute_result"
    }
   ],
   "source": [
    "y_pred = model.predict(X)\n",
    "\n",
    "metrics.accuracy_score(y, y_pred)"
   ]
  },
  {
   "cell_type": "code",
   "execution_count": 70,
   "id": "e4b7d025",
   "metadata": {},
   "outputs": [
    {
     "data": {
      "image/png": "[encoded data removed]",
      "text/plain": [
       "<Figure size 400x300 with 2 Axes>"
      ]
     },
     "metadata": {},
     "output_type": "display_data"
    }
   ],
   "source": [
    "cf_m = metrics.confusion_matrix(y, y_pred)\n",
    "\n",
    "plt.figure(figsize=(4, 3))\n",
    "ax = plt.subplot()\n",
    "sns.heatmap(cf_m, annot=True, cmap='Blues', ax=ax);"
   ]
  },
  {
   "cell_type": "code",
   "execution_count": 71,
   "id": "ca71c7eb",
   "metadata": {},
   "outputs": [
    {
     "data": {
      "image/png": "[encoded data removed]",
      "text/plain": [
       "<Figure size 1000x800 with 6 Axes>"
      ]
     },
     "metadata": {},
     "output_type": "display_data"
    }
   ],
   "source": [
    "fig = plt.figure(figsize=(10, 8))\n",
    "fig.tight_layout()\n",
    "\n",
    "for i, h_l_size in enumerate(((100,),(100, 10,), (128, 64, 32, 16))):\n",
    "    start = time()\n",
    "    model = MLPClassifier(hidden_layer_sizes=h_l_size, max_iter=2_000).fit(X, y)\n",
    "    y_pred = model.predict(X)\n",
    "    \n",
    "    score_ = metrics.accuracy_score(y, y_pred)\n",
    "    \n",
    "    all_models.loc[-1] = [f'perceptron {h_l_size} layer size', score_, end]\n",
    "    all_models.index = all_models.index + 1\n",
    "    \n",
    "    cf_m = metrics.confusion_matrix(y, y_pred)\n",
    "\n",
    "    ax = fig.add_subplot(2, 2, 1 + i)\n",
    "    ax.set_title(f'Перцептрон с {h_l_size} скрытыми слоями.\\nAccuracy: {round(score_, 2)}')\n",
    "    sns.heatmap(cf_m, annot=True, cmap='Blues', ax=ax)"
   ]
  },
  {
   "cell_type": "markdown",
   "id": "8595ae98",
   "metadata": {},
   "source": [
    "Увеличение количества слоёв и нейронов на них не всегда приводит к повышению качества, но всегда увеличивает время обучения модели."
   ]
  },
  {
   "cell_type": "markdown",
   "id": "a48b17b4",
   "metadata": {},
   "source": [
    "Также стоит заметить, что перцептрон в данной задаче очень зависим от случайных значений весов при инициализации."
   ]
  },
  {
   "cell_type": "markdown",
   "id": "57f2d5bd",
   "metadata": {},
   "source": [
    "8. (2 балла) Выведите итоговую таблицу сравнения всех моделей. В таблице должна быть информация о эффективности и времени обучения каждой модели. Сделайте вывод о применимости и эффективности моделей для классификации объектов в данной задаче.\n"
   ]
  },
  {
   "cell_type": "markdown",
   "id": "1e6e8aba",
   "metadata": {},
   "source": [
    "Рассмотрю таблицу всех использованных моделей, выделив для них значение метрики и время обучения."
   ]
  },
  {
   "cell_type": "code",
   "execution_count": 72,
   "id": "81b40e69",
   "metadata": {},
   "outputs": [
    {
     "data": {
      "text/html": [
       "<div>\n",
       "<style scoped>\n",
       "    .dataframe tbody tr th:only-of-type {\n",
       "        vertical-align: middle;\n",
       "    }\n",
       "\n",
       "    .dataframe tbody tr th {\n",
       "        vertical-align: top;\n",
       "    }\n",
       "\n",
       "    .dataframe thead th {\n",
       "        text-align: right;\n",
       "    }\n",
       "</style>\n",
       "<table border=\"1\" class=\"dataframe\">\n",
       "  <thead>\n",
       "    <tr style=\"text-align: right;\">\n",
       "      <th></th>\n",
       "      <th>name</th>\n",
       "      <th>accuracy</th>\n",
       "      <th>time</th>\n",
       "    </tr>\n",
       "  </thead>\n",
       "  <tbody>\n",
       "    <tr>\n",
       "      <th>3</th>\n",
       "      <td>Support Vector Machine sigmoid</td>\n",
       "      <td>0.381356</td>\n",
       "      <td>0.012002</td>\n",
       "    </tr>\n",
       "    <tr>\n",
       "      <th>0</th>\n",
       "      <td>perceptron (128, 64, 32, 16) layer size</td>\n",
       "      <td>0.516949</td>\n",
       "      <td>0.009005</td>\n",
       "    </tr>\n",
       "    <tr>\n",
       "      <th>4</th>\n",
       "      <td>Support Vector Machine rbf</td>\n",
       "      <td>0.915254</td>\n",
       "      <td>0.009514</td>\n",
       "    </tr>\n",
       "    <tr>\n",
       "      <th>2</th>\n",
       "      <td>perceptron (100,) layer size</td>\n",
       "      <td>0.932203</td>\n",
       "      <td>0.009005</td>\n",
       "    </tr>\n",
       "    <tr>\n",
       "      <th>1</th>\n",
       "      <td>perceptron (100, 10) layer size</td>\n",
       "      <td>0.949153</td>\n",
       "      <td>0.009005</td>\n",
       "    </tr>\n",
       "    <tr>\n",
       "      <th>5</th>\n",
       "      <td>Support Vector Machine poly</td>\n",
       "      <td>0.991525</td>\n",
       "      <td>0.010714</td>\n",
       "    </tr>\n",
       "    <tr>\n",
       "      <th>10</th>\n",
       "      <td>Polynomial 2 degree</td>\n",
       "      <td>1.000000</td>\n",
       "      <td>0.125835</td>\n",
       "    </tr>\n",
       "    <tr>\n",
       "      <th>8</th>\n",
       "      <td>Polynomial 4 degree</td>\n",
       "      <td>1.000000</td>\n",
       "      <td>0.103674</td>\n",
       "    </tr>\n",
       "    <tr>\n",
       "      <th>7</th>\n",
       "      <td>Polynomial 5 degree</td>\n",
       "      <td>1.000000</td>\n",
       "      <td>0.101619</td>\n",
       "    </tr>\n",
       "    <tr>\n",
       "      <th>6</th>\n",
       "      <td>Support Vector Machine linear</td>\n",
       "      <td>1.000000</td>\n",
       "      <td>0.101619</td>\n",
       "    </tr>\n",
       "    <tr>\n",
       "      <th>9</th>\n",
       "      <td>Polynomial 3 degree</td>\n",
       "      <td>1.000000</td>\n",
       "      <td>0.088539</td>\n",
       "    </tr>\n",
       "    <tr>\n",
       "      <th>11</th>\n",
       "      <td>Logistic regression</td>\n",
       "      <td>1.000000</td>\n",
       "      <td>0.017571</td>\n",
       "    </tr>\n",
       "  </tbody>\n",
       "</table>\n",
       "</div>"
      ],
      "text/plain": [
       "                                       name  accuracy      time\n",
       "3            Support Vector Machine sigmoid  0.381356  0.012002\n",
       "0   perceptron (128, 64, 32, 16) layer size  0.516949  0.009005\n",
       "4                Support Vector Machine rbf  0.915254  0.009514\n",
       "2              perceptron (100,) layer size  0.932203  0.009005\n",
       "1           perceptron (100, 10) layer size  0.949153  0.009005\n",
       "5               Support Vector Machine poly  0.991525  0.010714\n",
       "10                      Polynomial 2 degree  1.000000  0.125835\n",
       "8                       Polynomial 4 degree  1.000000  0.103674\n",
       "7                       Polynomial 5 degree  1.000000  0.101619\n",
       "6             Support Vector Machine linear  1.000000  0.101619\n",
       "9                       Polynomial 3 degree  1.000000  0.088539\n",
       "11                      Logistic regression  1.000000  0.017571"
      ]
     },
     "execution_count": 72,
     "metadata": {},
     "output_type": "execute_result"
    }
   ],
   "source": [
    "all_models.sort_values(by=['accuracy', 'time'], ascending=[True, False])"
   ]
  },
  {
   "cell_type": "markdown",
   "id": "a9be6e3e",
   "metadata": {},
   "source": [
    "Для данной задачи лучше всего подходит логистическая регрессия или метод опорных векторов с линейным ядром. Полиномиальные модели, хоть и показали качество, равное 1, не рекомендованы, так как они это просто усложнение логистической регресии, увеличивающее затраты по времени обучения и занимаемой памяти, при всём этом не улучшая результат."
   ]
  }
 ],
 "metadata": {
  "kernelspec": {
   "display_name": "Python 3 (ipykernel)",
   "language": "python",
   "name": "python3"
  },
  "language_info": {
   "codemirror_mode": {
    "name": "ipython",
    "version": 3
   },
   "file_extension": ".py",
   "mimetype": "text/x-python",
   "name": "python",
   "nbconvert_exporter": "python",
   "pygments_lexer": "ipython3",
   "version": "3.11.4"
  }
 },
 "nbformat": 4,
 "nbformat_minor": 5
}
