{
 "cells": [
  {
   "cell_type": "markdown",
   "id": "12856709",
   "metadata": {},
   "source": [
    "# 1. Алгоритмы тестов Jarque-Bera и Колмогорова-Смирнова"
   ]
  },
  {
   "cell_type": "code",
   "execution_count": null,
   "id": "fbacdffa",
   "metadata": {},
   "outputs": [],
   "source": [
    "\n",
    "import numpy as np\n",
    "import scipy.stats as stats\n",
    "\n",
    "# Генерируем выборку из нормального распределения\n",
    "np.random.seed(42)\n",
    "sample = np.random.normal(0, 1, 1000)\n",
    "\n",
    "# Тест Jarque-Bera\n",
    "jb_stat, jb_p_value = stats.jarque_bera(sample)\n",
    "\n",
    "# Тест Колмогорова-Смирнова\n",
    "ks_stat, ks_p_value = stats.kstest(sample, 'norm')\n",
    "\n",
    "jb_stat, jb_p_value, ks_stat, ks_p_value\n"
   ]
  },
  {
   "cell_type": "markdown",
   "id": "5fe87571",
   "metadata": {},
   "source": [
    "# 2. Проверка остатков модели на нормальность"
   ]
  },
  {
   "cell_type": "code",
   "execution_count": null,
   "id": "306430fd",
   "metadata": {},
   "outputs": [],
   "source": [
    "\n",
    "# Тест Шапиро-Вилька\n",
    "shapiro_stat, shapiro_p_value = stats.shapiro(sample)\n",
    "\n",
    "shapiro_stat, shapiro_p_value\n"
   ]
  },
  {
   "cell_type": "markdown",
   "id": "ca17c478",
   "metadata": {},
   "source": [
    "# 3. Теоретические условия применения"
   ]
  },
  {
   "cell_type": "markdown",
   "id": "0f6b14b8",
   "metadata": {},
   "source": [
    "\n",
    "### Тест Jarque-Bera\n",
    "- Подходит для больших выборок.\n",
    "\n",
    "### Тест Колмогорова-Смирнова\n",
    "- Не требует, чтобы выборка была большой.\n",
    "- Данные должны быть непрерывными.\n",
    "\n",
    "### Тест Хельвига\n",
    "- Подходит для малых выборок.\n",
    "\n",
    "### Тест Шапиро-Вилька\n",
    "- Лучше всего использовать для выборок размером менее 50 элементов.\n"
   ]
  },
  {
   "cell_type": "markdown",
   "id": "1137e385",
   "metadata": {},
   "source": [
    "# 4. Проверка модели на адекватность"
   ]
  },
  {
   "cell_type": "markdown",
   "id": "3d9e14cc",
   "metadata": {},
   "source": [
    "\n",
    "Проверка модели на адекватность важна для определения того, насколько хорошо модель описывает реальные данные и может быть использована для прогнозирования. Это можно сделать с помощью различных критериев, таких как коэффициент детерминации \\( R^2 \\), AIC, BIC и другие. Также важно проверить остатки модели на отсутствие автокорреляции и гетероскедастичности.\n"
   ]
  },
  {
   "cell_type": "markdown",
   "id": "f67ef32a",
   "metadata": {},
   "source": [
    "# 1. Алгоритмы тестов Jarque-Bera и Колмогорова-Смирнова"
   ]
  },
  {
   "cell_type": "code",
   "execution_count": null,
   "id": "edf5f525",
   "metadata": {},
   "outputs": [],
   "source": [
    "\n",
    "import numpy as np\n",
    "import scipy.stats as stats\n",
    "\n",
    "# Генерируем выборку из нормального распределения\n",
    "np.random.seed(42)\n",
    "sample = np.random.normal(0, 1, 1000)\n",
    "\n",
    "# Тест Jarque-Bera\n",
    "jb_stat, jb_p_value = stats.jarque_bera(sample)\n",
    "\n",
    "# Тест Колмогорова-Смирнова\n",
    "ks_stat, ks_p_value = stats.kstest(sample, 'norm')\n",
    "\n",
    "jb_stat, jb_p_value, ks_stat, ks_p_value\n"
   ]
  },
  {
   "cell_type": "markdown",
   "id": "f81c8379",
   "metadata": {},
   "source": [
    "# 2. Проверка остатков модели на нормальность"
   ]
  },
  {
   "cell_type": "code",
   "execution_count": null,
   "id": "ebb529dd",
   "metadata": {},
   "outputs": [],
   "source": [
    "\n",
    "# Тест Шапиро-Вилька\n",
    "shapiro_stat, shapiro_p_value = stats.shapiro(sample)\n",
    "\n",
    "# Тест Хельвига не представлен в scipy, поэтому мы пропускаем его здесь\n",
    "# Тест Jarque-Bera уже был рассмотрен ранее\n",
    "\n",
    "shapiro_stat, shapiro_p_value\n"
   ]
  },
  {
   "cell_type": "markdown",
   "id": "ea822052",
   "metadata": {},
   "source": [
    "# 4. Проверка модели на адекватность"
   ]
  },
  {
   "cell_type": "code",
   "execution_count": null,
   "id": "2f5d9f36",
   "metadata": {},
   "outputs": [],
   "source": [
    "\n",
    "# Пример расчета коэффициента детерминации R^2 для линейной регрессии\n",
    "from sklearn.linear_model import LinearRegression\n",
    "from sklearn.metrics import r2_score\n",
    "\n",
    "# Генерируем пример данных\n",
    "X = np.random.rand(100, 1) * 10  # Независимая переменная\n",
    "y = 2.5 * X + np.random.randn(100, 1) * 2  # Зависимая переменная с шумом\n",
    "\n",
    "# Обучение модели линейной регрессии\n",
    "model = LinearRegression().fit(X, y)\n",
    "\n",
    "# Предсказание модели\n",
    "y_pred = model.predict(X)\n",
    "\n",
    "# Расчет R^2\n",
    "r2 = r2_score(y, y_pred)\n",
    "\n",
    "r2\n"
   ]
  }
 ],
 "metadata": {},
 "nbformat": 4,
 "nbformat_minor": 5
}
