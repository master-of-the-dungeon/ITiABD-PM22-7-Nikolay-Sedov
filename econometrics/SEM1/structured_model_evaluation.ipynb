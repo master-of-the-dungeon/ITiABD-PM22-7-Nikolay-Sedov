{
 "cells": [
  {
   "cell_type": "markdown",
   "id": "ac2befdb",
   "metadata": {},
   "source": [
    "# Анализ и проверка модели"
   ]
  },
  {
   "cell_type": "markdown",
   "id": "ad79b52c",
   "metadata": {},
   "source": [
    "## 1. Алгоритмы тестов Jarque-Bera и Колмогорова-Смирнова"
   ]
  },
  {
   "cell_type": "code",
   "execution_count": 4,
   "id": "97f26edb",
   "metadata": {},
   "outputs": [
    {
     "ename": "ValueError",
     "evalue": "too many values to unpack (expected 2)",
     "output_type": "error",
     "traceback": [
      "\u001b[1;31m---------------------------------------------------------------------------\u001b[0m",
      "\u001b[1;31mValueError\u001b[0m                                Traceback (most recent call last)",
      "\u001b[1;32mc:\\Users\\sedof\\Documents\\VSCode_Projects\\ITiABD-PM22-7-Nikolay-Sedov\\econometrics\\structured_model_evaluation.ipynb Cell 3\u001b[0m line \u001b[0;36m6\n\u001b[0;32m      <a href='vscode-notebook-cell:/c%3A/Users/sedof/Documents/VSCode_Projects/ITiABD-PM22-7-Nikolay-Sedov/econometrics/structured_model_evaluation.ipynb#W2sZmlsZQ%3D%3D?line=2'>3</a>\u001b[0m \u001b[39m# Using scipy for Jarque-Bera and Kolmogorov-Smirnov tests\u001b[39;00m\n\u001b[0;32m      <a href='vscode-notebook-cell:/c%3A/Users/sedof/Documents/VSCode_Projects/ITiABD-PM22-7-Nikolay-Sedov/econometrics/structured_model_evaluation.ipynb#W2sZmlsZQ%3D%3D?line=3'>4</a>\u001b[0m sample \u001b[39m=\u001b[39m np\u001b[39m.\u001b[39mrandom\u001b[39m.\u001b[39mnormal(\u001b[39m0\u001b[39m, \u001b[39m1\u001b[39m, \u001b[39m1000\u001b[39m)\n\u001b[1;32m----> <a href='vscode-notebook-cell:/c%3A/Users/sedof/Documents/VSCode_Projects/ITiABD-PM22-7-Nikolay-Sedov/econometrics/structured_model_evaluation.ipynb#W2sZmlsZQ%3D%3D?line=5'>6</a>\u001b[0m jb_stat_scipy, jb_p_value_scipy \u001b[39m=\u001b[39m stats\u001b[39m.\u001b[39mjarque_bera(sample)\n\u001b[0;32m      <a href='vscode-notebook-cell:/c%3A/Users/sedof/Documents/VSCode_Projects/ITiABD-PM22-7-Nikolay-Sedov/econometrics/structured_model_evaluation.ipynb#W2sZmlsZQ%3D%3D?line=6'>7</a>\u001b[0m ks_stat_scipy, ks_p_value_scipy \u001b[39m=\u001b[39m stats\u001b[39m.\u001b[39mkstest(sample, \u001b[39m'\u001b[39m\u001b[39mnorm\u001b[39m\u001b[39m'\u001b[39m)\n\u001b[0;32m      <a href='vscode-notebook-cell:/c%3A/Users/sedof/Documents/VSCode_Projects/ITiABD-PM22-7-Nikolay-Sedov/econometrics/structured_model_evaluation.ipynb#W2sZmlsZQ%3D%3D?line=8'>9</a>\u001b[0m jb_stat_scipy, jb_p_value_scipy, ks_stat_scipy, ks_p_value_scipy\n",
      "\u001b[1;31mValueError\u001b[0m: too many values to unpack (expected 2)"
     ]
    }
   ],
   "source": [
    "import numpy as np\n",
    "from statsmodels.api import stats\n",
    "# Using scipy for Jarque-Bera and Kolmogorov-Smirnov tests\n",
    "sample = np.random.normal(0, 1, 1000)\n",
    "\n",
    "jb_stat_scipy, jb_p_value_scipy = stats.jarque_bera(sample)\n",
    "ks_stat_scipy, ks_p_value_scipy = stats.kstest(sample, 'norm')\n",
    "\n",
    "jb_stat_scipy, jb_p_value_scipy, ks_stat_scipy, ks_p_value_scipy\n"
   ]
  },
  {
   "cell_type": "code",
   "execution_count": 5,
   "id": "2ffb73aa",
   "metadata": {},
   "outputs": [
    {
     "ename": "NameError",
     "evalue": "name 'sm' is not defined",
     "output_type": "error",
     "traceback": [
      "\u001b[1;31m---------------------------------------------------------------------------\u001b[0m",
      "\u001b[1;31mNameError\u001b[0m                                 Traceback (most recent call last)",
      "\u001b[1;32mc:\\Users\\sedof\\Documents\\VSCode_Projects\\ITiABD-PM22-7-Nikolay-Sedov\\econometrics\\structured_model_evaluation.ipynb Cell 4\u001b[0m line \u001b[0;36m2\n\u001b[0;32m      <a href='vscode-notebook-cell:/c%3A/Users/sedof/Documents/VSCode_Projects/ITiABD-PM22-7-Nikolay-Sedov/econometrics/structured_model_evaluation.ipynb#W3sZmlsZQ%3D%3D?line=0'>1</a>\u001b[0m \u001b[39m# Using statsmodels for Jarque-Bera\u001b[39;00m\n\u001b[1;32m----> <a href='vscode-notebook-cell:/c%3A/Users/sedof/Documents/VSCode_Projects/ITiABD-PM22-7-Nikolay-Sedov/econometrics/structured_model_evaluation.ipynb#W3sZmlsZQ%3D%3D?line=1'>2</a>\u001b[0m jb_stat_sm, _, jb_p_value_sm, _ \u001b[39m=\u001b[39m sm\u001b[39m.\u001b[39mstats\u001b[39m.\u001b[39mjarque_bera(sample)\n\u001b[0;32m      <a href='vscode-notebook-cell:/c%3A/Users/sedof/Documents/VSCode_Projects/ITiABD-PM22-7-Nikolay-Sedov/econometrics/structured_model_evaluation.ipynb#W3sZmlsZQ%3D%3D?line=3'>4</a>\u001b[0m jb_stat_sm, jb_p_value_sm\n",
      "\u001b[1;31mNameError\u001b[0m: name 'sm' is not defined"
     ]
    }
   ],
   "source": [
    "\n",
    "# Using statsmodels for Jarque-Bera\n",
    "jb_stat_sm, _, jb_p_value_sm, _ = sm.stats.jarque_bera(sample)\n",
    "\n",
    "jb_stat_sm, jb_p_value_sm\n"
   ]
  },
  {
   "cell_type": "markdown",
   "id": "2ec5bae4",
   "metadata": {},
   "source": [
    "## 2. Проверка остатков модели на нормальность"
   ]
  },
  {
   "cell_type": "code",
   "execution_count": 1,
   "id": "a7a49a63",
   "metadata": {},
   "outputs": [
    {
     "ename": "NameError",
     "evalue": "name 'stats' is not defined",
     "output_type": "error",
     "traceback": [
      "\u001b[1;31m---------------------------------------------------------------------------\u001b[0m",
      "\u001b[1;31mNameError\u001b[0m                                 Traceback (most recent call last)",
      "\u001b[1;32mc:\\Users\\sedof\\Documents\\VSCode_Projects\\ITiABD-PM22-7-Nikolay-Sedov\\econometrics\\structured_model_evaluation.ipynb Cell 6\u001b[0m line \u001b[0;36m2\n\u001b[0;32m      <a href='vscode-notebook-cell:/c%3A/Users/sedof/Documents/VSCode_Projects/ITiABD-PM22-7-Nikolay-Sedov/econometrics/structured_model_evaluation.ipynb#W5sZmlsZQ%3D%3D?line=0'>1</a>\u001b[0m \u001b[39m# Тест Шапиро-Вилька using scipy\u001b[39;00m\n\u001b[1;32m----> <a href='vscode-notebook-cell:/c%3A/Users/sedof/Documents/VSCode_Projects/ITiABD-PM22-7-Nikolay-Sedov/econometrics/structured_model_evaluation.ipynb#W5sZmlsZQ%3D%3D?line=1'>2</a>\u001b[0m shapiro_stat_scipy, shapiro_p_value_scipy \u001b[39m=\u001b[39m stats\u001b[39m.\u001b[39mshapiro(sample)\n\u001b[0;32m      <a href='vscode-notebook-cell:/c%3A/Users/sedof/Documents/VSCode_Projects/ITiABD-PM22-7-Nikolay-Sedov/econometrics/structured_model_evaluation.ipynb#W5sZmlsZQ%3D%3D?line=3'>4</a>\u001b[0m shapiro_stat_scipy, shapiro_p_value_scipy\n\u001b[0;32m      <a href='vscode-notebook-cell:/c%3A/Users/sedof/Documents/VSCode_Projects/ITiABD-PM22-7-Nikolay-Sedov/econometrics/structured_model_evaluation.ipynb#W5sZmlsZQ%3D%3D?line=5'>6</a>\u001b[0m \u001b[39m# Тест Хельвига\u001b[39;00m\n",
      "\u001b[1;31mNameError\u001b[0m: name 'stats' is not defined"
     ]
    }
   ],
   "source": [
    "\n",
    "# Тест Шапиро-Вилька using scipy\n",
    "shapiro_stat_scipy, shapiro_p_value_scipy = stats.shapiro(sample)\n",
    "\n",
    "shapiro_stat_scipy, shapiro_p_value_scipy\n",
    "\n",
    "# Тест Хельвига\n",
    "helwig_stat, helwig_p_value = helwig_test(sample)\n",
    "\n",
    "# Тест на автокорреляцию (Durbin-Watson test)\n",
    "dw_stat = durbin_watson_test(sample)\n",
    "\n",
    "# Тест на гетероскедастичность (Breusch-Pagan test)\n",
    "bp_stat, bp_p_value, _, _ = breusch_pagan_test(y, X)\n",
    "\n",
    "helwig_stat, helwig_p_value, dw_stat, bp_stat, bp_p_value\n"
   ]
  },
  {
   "cell_type": "markdown",
   "id": "715e373a",
   "metadata": {},
   "source": [
    "## 3. Теоретические условия применения"
   ]
  },
  {
   "cell_type": "markdown",
   "id": "36aa796e",
   "metadata": {},
   "source": [
    "### Тест Jarque-Bera\n",
    "\n",
    "- Подходит для больших выборок."
   ]
  },
  {
   "cell_type": "markdown",
   "id": "0aa61767",
   "metadata": {},
   "source": [
    "### Тест Колмогорова-Смирнова\n",
    "\n",
    "- Не требует, чтобы выборка была большой. Данные должны быть непрерывными."
   ]
  },
  {
   "cell_type": "markdown",
   "id": "cc6f2331",
   "metadata": {},
   "source": [
    "### Тест Хельвига\n",
    "\n",
    "- Подходит для малых выборок."
   ]
  },
  {
   "cell_type": "markdown",
   "id": "9385a322",
   "metadata": {},
   "source": [
    "### Тест Шапиро-Вилька\n",
    "\n",
    "- Лучше всего использовать для выборок размером менее 50 элементов."
   ]
  },
  {
   "cell_type": "markdown",
   "id": "ccdc9f72",
   "metadata": {},
   "source": [
    "## 4. Проверка модели на адекватность"
   ]
  },
  {
   "cell_type": "code",
   "execution_count": null,
   "id": "95eb283e",
   "metadata": {},
   "outputs": [],
   "source": [
    "\n",
    "# Пример расчета коэффициента детерминации R^2 для линейной регрессии using sklearn\n",
    "r2_sklearn = r2_score(y, y_pred)\n",
    "\n",
    "r2_sklearn\n"
   ]
  }
 ],
 "metadata": {
  "kernelspec": {
   "display_name": "Python 3",
   "language": "python",
   "name": "python3"
  },
  "language_info": {
   "codemirror_mode": {
    "name": "ipython",
    "version": 3
   },
   "file_extension": ".py",
   "mimetype": "text/x-python",
   "name": "python",
   "nbconvert_exporter": "python",
   "pygments_lexer": "ipython3",
   "version": "3.11.5"
  }
 },
 "nbformat": 4,
 "nbformat_minor": 5
}
