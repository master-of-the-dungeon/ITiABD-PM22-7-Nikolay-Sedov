{
 "cells": [
  {
   "cell_type": "markdown",
   "id": "6ffb7732",
   "metadata": {},
   "source": [
    "# 1. Алгоритмы тестов Jarque-Bera и Колмогорова-Смирнова"
   ]
  },
  {
   "cell_type": "code",
   "execution_count": 2,
   "id": "2919a7f0",
   "metadata": {},
   "outputs": [
    {
     "data": {
      "text/plain": [
       "(0.3603437359564521,\n",
       " 0.8351266675444148,\n",
       " 0.02583779141520348,\n",
       " 0.5083621363689794)"
      ]
     },
     "execution_count": 2,
     "metadata": {},
     "output_type": "execute_result"
    }
   ],
   "source": [
    "\n",
    "# Using scipy\n",
    "import scipy.stats as stats\n",
    "import numpy as np\n",
    "sample = np.random.normal(0, 1, 1000)\n",
    "\n",
    "jb_stat_scipy, jb_p_value_scipy = stats.jarque_bera(sample)\n",
    "ks_stat_scipy, ks_p_value_scipy = stats.kstest(sample, 'norm')\n",
    "\n",
    "jb_stat_scipy, jb_p_value_scipy, ks_stat_scipy, ks_p_value_scipy\n"
   ]
  },
  {
   "cell_type": "code",
   "execution_count": 3,
   "id": "f49eb804",
   "metadata": {},
   "outputs": [
    {
     "data": {
      "text/plain": [
       "(0.3603437359564521, -0.046456864370736976)"
      ]
     },
     "execution_count": 3,
     "metadata": {},
     "output_type": "execute_result"
    }
   ],
   "source": [
    "\n",
    "# Using statsmodels for Jarque-Bera\n",
    "import statsmodels.api as sm\n",
    "\n",
    "jb_stat_sm, _, jb_p_value_sm, _ = sm.stats.jarque_bera(sample)\n",
    "\n",
    "jb_stat_sm, jb_p_value_sm\n"
   ]
  },
  {
   "cell_type": "markdown",
   "id": "a1a1e364",
   "metadata": {},
   "source": [
    "# 2. Проверка остатков модели на нормальность"
   ]
  },
  {
   "cell_type": "code",
   "execution_count": 4,
   "id": "ee5e49aa",
   "metadata": {},
   "outputs": [
    {
     "data": {
      "text/plain": [
       "(0.9987978935241699, 0.7535416483879089)"
      ]
     },
     "execution_count": 4,
     "metadata": {},
     "output_type": "execute_result"
    }
   ],
   "source": [
    "\n",
    "# Тест Шапиро-Вилька using scipy\n",
    "shapiro_stat_scipy, shapiro_p_value_scipy = stats.shapiro(sample)\n",
    "\n",
    "shapiro_stat_scipy, shapiro_p_value_scipy\n"
   ]
  },
  {
   "cell_type": "markdown",
   "id": "2060642f",
   "metadata": {},
   "source": [
    "# 4. Проверка модели на адекватность"
   ]
  },
  {
   "cell_type": "code",
   "execution_count": 5,
   "id": "9e530653",
   "metadata": {},
   "outputs": [
    {
     "data": {
      "text/plain": [
       "0.9365614119098169"
      ]
     },
     "execution_count": 5,
     "metadata": {},
     "output_type": "execute_result"
    }
   ],
   "source": [
    "\n",
    "# Пример расчета коэффициента детерминации R^2 для линейной регрессии using sklearn\n",
    "from sklearn.linear_model import LinearRegression\n",
    "from sklearn.metrics import r2_score\n",
    "\n",
    "X = np.random.rand(100, 1) * 10\n",
    "y = 2.5 * X + np.random.randn(100, 1) * 2\n",
    "\n",
    "model = LinearRegression().fit(X, y)\n",
    "y_pred = model.predict(X)\n",
    "\n",
    "r2_sklearn = r2_score(y, y_pred)\n",
    "\n",
    "r2_sklearn\n"
   ]
  },
  {
   "cell_type": "markdown",
   "id": "ae0c0c9d",
   "metadata": {},
   "source": [
    "# 3. Теоретические условия применения"
   ]
  },
  {
   "cell_type": "markdown",
   "id": "9422ac95",
   "metadata": {},
   "source": [
    "### Тест Jarque-Bera\n",
    "Подходит для больших выборок."
   ]
  },
  {
   "cell_type": "markdown",
   "id": "f077aeaf",
   "metadata": {},
   "source": [
    "### Тест Колмогорова-Смирнова\n",
    "Не требует, чтобы выборка была большой. Данные должны быть непрерывными."
   ]
  },
  {
   "cell_type": "markdown",
   "id": "28ff06be",
   "metadata": {},
   "source": [
    "### Тест Хельвига\n",
    "Подходит для малых выборок."
   ]
  },
  {
   "cell_type": "markdown",
   "id": "12e9e4c8",
   "metadata": {},
   "source": [
    "### Тест Шапиро-Вилька\n",
    "Лучше всего использовать для выборок размером менее 50 элементов."
   ]
  },
  {
   "cell_type": "markdown",
   "id": "a56fed88",
   "metadata": {},
   "source": [
    "### Тест Хельвига"
   ]
  },
  {
   "cell_type": "markdown",
   "id": "58d89b07",
   "metadata": {},
   "source": [
    "Тест Хельвига специфичен и не представлен в стандартных библиотеках Python. Однако он важен для малых выборок."
   ]
  },
  {
   "cell_type": "markdown",
   "id": "057edb71",
   "metadata": {},
   "source": [
    "### Тест на автокорреляцию остатков"
   ]
  },
  {
   "cell_type": "code",
   "execution_count": 6,
   "id": "0e8fe55a",
   "metadata": {},
   "outputs": [
    {
     "data": {
      "text/plain": [
       "'lb_pvalue'"
      ]
     },
     "execution_count": 6,
     "metadata": {},
     "output_type": "execute_result"
    }
   ],
   "source": [
    "\n",
    "# Для демонстрации используем statsmodels и функцию acorr_ljungbox\n",
    "from statsmodels.stats.diagnostic import acorr_ljungbox\n",
    "\n",
    "# Генерируем остатки (в данном случае просто случайные числа)\n",
    "residuals = np.random.randn(100)\n",
    "\n",
    "lbvalue, pvalue = acorr_ljungbox(residuals, lags=[10])\n",
    "pvalue\n"
   ]
  },
  {
   "cell_type": "markdown",
   "id": "91bfa68e",
   "metadata": {},
   "source": [
    "### Тест на гетероскедастичность остатков"
   ]
  },
  {
   "cell_type": "code",
   "execution_count": 7,
   "id": "24f9e090",
   "metadata": {},
   "outputs": [
    {
     "ename": "ValueError",
     "evalue": "The Breusch-Pagan test requires exog to have at least two columns where one is a constant.",
     "output_type": "error",
     "traceback": [
      "\u001b[1;31m---------------------------------------------------------------------------\u001b[0m",
      "\u001b[1;31mValueError\u001b[0m                                Traceback (most recent call last)",
      "\u001b[1;32mc:\\Users\\sedof\\Documents\\VSCode_Projects\\ITiABD-PM22-7-Nikolay-Sedov\\econometrics\\model_evaluation_v2.ipynb Cell 18\u001b[0m line \u001b[0;36m9\n\u001b[0;32m      <a href='vscode-notebook-cell:/c%3A/Users/sedof/Documents/VSCode_Projects/ITiABD-PM22-7-Nikolay-Sedov/econometrics/model_evaluation_v2.ipynb#X23sZmlsZQ%3D%3D?line=5'>6</a>\u001b[0m residuals \u001b[39m=\u001b[39m np\u001b[39m.\u001b[39mrandom\u001b[39m.\u001b[39mrandn(\u001b[39m100\u001b[39m)\n\u001b[0;32m      <a href='vscode-notebook-cell:/c%3A/Users/sedof/Documents/VSCode_Projects/ITiABD-PM22-7-Nikolay-Sedov/econometrics/model_evaluation_v2.ipynb#X23sZmlsZQ%3D%3D?line=6'>7</a>\u001b[0m independent_var \u001b[39m=\u001b[39m np\u001b[39m.\u001b[39mrandom\u001b[39m.\u001b[39mrandn(\u001b[39m100\u001b[39m)\u001b[39m.\u001b[39mreshape(\u001b[39m-\u001b[39m\u001b[39m1\u001b[39m, \u001b[39m1\u001b[39m)\n\u001b[1;32m----> <a href='vscode-notebook-cell:/c%3A/Users/sedof/Documents/VSCode_Projects/ITiABD-PM22-7-Nikolay-Sedov/econometrics/model_evaluation_v2.ipynb#X23sZmlsZQ%3D%3D?line=8'>9</a>\u001b[0m bp_test \u001b[39m=\u001b[39m het_breuschpagan(residuals, independent_var)\n\u001b[0;32m     <a href='vscode-notebook-cell:/c%3A/Users/sedof/Documents/VSCode_Projects/ITiABD-PM22-7-Nikolay-Sedov/econometrics/model_evaluation_v2.ipynb#X23sZmlsZQ%3D%3D?line=9'>10</a>\u001b[0m lzip([\u001b[39m\"\u001b[39m\u001b[39mLagrange multiplier statistic\u001b[39m\u001b[39m\"\u001b[39m, \u001b[39m\"\u001b[39m\u001b[39mp-value\u001b[39m\u001b[39m\"\u001b[39m, \u001b[39m\"\u001b[39m\u001b[39mf-value\u001b[39m\u001b[39m\"\u001b[39m, \u001b[39m\"\u001b[39m\u001b[39mf p-value\u001b[39m\u001b[39m\"\u001b[39m], bp_test)\n",
      "File \u001b[1;32mc:\\Users\\sedof\\AppData\\Local\\Programs\\Python\\Python311\\Lib\\site-packages\\statsmodels\\stats\\diagnostic.py:792\u001b[0m, in \u001b[0;36mhet_breuschpagan\u001b[1;34m(resid, exog_het, robust)\u001b[0m\n\u001b[0;32m    724\u001b[0m \u001b[39m\u001b[39m\u001b[39mr\u001b[39m\u001b[39m\"\"\"\u001b[39;00m\n\u001b[0;32m    725\u001b[0m \u001b[39mBreusch-Pagan Lagrange Multiplier test for heteroscedasticity\u001b[39;00m\n\u001b[0;32m    726\u001b[0m \n\u001b[1;32m   (...)\u001b[0m\n\u001b[0;32m    789\u001b[0m \u001b[39m   heteroskedasticity\". Journal of Econometrics 17 (1): 107–112.\u001b[39;00m\n\u001b[0;32m    790\u001b[0m \u001b[39m\"\"\"\u001b[39;00m\n\u001b[0;32m    791\u001b[0m x \u001b[39m=\u001b[39m array_like(exog_het, \u001b[39m\"\u001b[39m\u001b[39mexog_het\u001b[39m\u001b[39m\"\u001b[39m, ndim\u001b[39m=\u001b[39m\u001b[39m2\u001b[39m)\n\u001b[1;32m--> 792\u001b[0m _check_het_test(x, \u001b[39m\"\u001b[39;49m\u001b[39mThe Breusch-Pagan\u001b[39;49m\u001b[39m\"\u001b[39;49m)\n\u001b[0;32m    793\u001b[0m y \u001b[39m=\u001b[39m array_like(resid, \u001b[39m\"\u001b[39m\u001b[39mresid\u001b[39m\u001b[39m\"\u001b[39m, ndim\u001b[39m=\u001b[39m\u001b[39m1\u001b[39m) \u001b[39m*\u001b[39m\u001b[39m*\u001b[39m \u001b[39m2\u001b[39m\n\u001b[0;32m    794\u001b[0m \u001b[39mif\u001b[39;00m \u001b[39mnot\u001b[39;00m robust:\n",
      "File \u001b[1;32mc:\\Users\\sedof\\AppData\\Local\\Programs\\Python\\Python311\\Lib\\site-packages\\statsmodels\\stats\\diagnostic.py:717\u001b[0m, in \u001b[0;36m_check_het_test\u001b[1;34m(x, test_name)\u001b[0m\n\u001b[0;32m    712\u001b[0m x_max \u001b[39m=\u001b[39m x\u001b[39m.\u001b[39mmax(axis\u001b[39m=\u001b[39m\u001b[39m0\u001b[39m)\n\u001b[0;32m    713\u001b[0m \u001b[39mif\u001b[39;00m (\n\u001b[0;32m    714\u001b[0m     \u001b[39mnot\u001b[39;00m np\u001b[39m.\u001b[39many(((x_max \u001b[39m-\u001b[39m x\u001b[39m.\u001b[39mmin(axis\u001b[39m=\u001b[39m\u001b[39m0\u001b[39m)) \u001b[39m==\u001b[39m \u001b[39m0\u001b[39m) \u001b[39m&\u001b[39m (x_max \u001b[39m!=\u001b[39m \u001b[39m0\u001b[39m))\n\u001b[0;32m    715\u001b[0m     \u001b[39mor\u001b[39;00m x\u001b[39m.\u001b[39mshape[\u001b[39m1\u001b[39m] \u001b[39m<\u001b[39m \u001b[39m2\u001b[39m\n\u001b[0;32m    716\u001b[0m ):\n\u001b[1;32m--> 717\u001b[0m     \u001b[39mraise\u001b[39;00m \u001b[39mValueError\u001b[39;00m(\n\u001b[0;32m    718\u001b[0m         \u001b[39mf\u001b[39m\u001b[39m\"\u001b[39m\u001b[39m{\u001b[39;00mtest_name\u001b[39m}\u001b[39;00m\u001b[39m test requires exog to have at least \u001b[39m\u001b[39m\"\u001b[39m\n\u001b[0;32m    719\u001b[0m         \u001b[39m\"\u001b[39m\u001b[39mtwo columns where one is a constant.\u001b[39m\u001b[39m\"\u001b[39m\n\u001b[0;32m    720\u001b[0m     )\n",
      "\u001b[1;31mValueError\u001b[0m: The Breusch-Pagan test requires exog to have at least two columns where one is a constant."
     ]
    }
   ],
   "source": [
    "\n",
    "# Для демонстрации используем statsmodels и функцию het_breuschpagan\n",
    "from statsmodels.compat import lzip\n",
    "from statsmodels.stats.diagnostic import het_breuschpagan\n",
    "\n",
    "# Генерируем остатки и \"независимую переменную\" (в данном случае просто случайные числа)\n",
    "residuals = np.random.randn(100)\n",
    "independent_var = np.random.randn(100).reshape(-1, 1)\n",
    "\n",
    "bp_test = het_breuschpagan(residuals, independent_var)\n",
    "lzip([\"Lagrange multiplier statistic\", \"p-value\", \"f-value\", \"f p-value\"], bp_test)\n"
   ]
  },
  {
   "cell_type": "code",
   "execution_count": 9,
   "id": "45836c8b",
   "metadata": {},
   "outputs": [
    {
     "ename": "ValueError",
     "evalue": "resid is required to have ndim 1 but has ndim 2",
     "output_type": "error",
     "traceback": [
      "\u001b[1;31m---------------------------------------------------------------------------\u001b[0m",
      "\u001b[1;31mValueError\u001b[0m                                Traceback (most recent call last)",
      "\u001b[1;32mc:\\Users\\sedof\\Documents\\VSCode_Projects\\ITiABD-PM22-7-Nikolay-Sedov\\econometrics\\model_evaluation_v2.ipynb Cell 19\u001b[0m line \u001b[0;36m2\n\u001b[0;32m     <a href='vscode-notebook-cell:/c%3A/Users/sedof/Documents/VSCode_Projects/ITiABD-PM22-7-Nikolay-Sedov/econometrics/model_evaluation_v2.ipynb#X24sZmlsZQ%3D%3D?line=26'>27</a>\u001b[0m y \u001b[39m=\u001b[39m np\u001b[39m.\u001b[39mrandom\u001b[39m.\u001b[39mrandn(\u001b[39m100\u001b[39m, \u001b[39m1\u001b[39m)\n\u001b[0;32m     <a href='vscode-notebook-cell:/c%3A/Users/sedof/Documents/VSCode_Projects/ITiABD-PM22-7-Nikolay-Sedov/econometrics/model_evaluation_v2.ipynb#X24sZmlsZQ%3D%3D?line=27'>28</a>\u001b[0m X \u001b[39m=\u001b[39m np\u001b[39m.\u001b[39mhstack([np\u001b[39m.\u001b[39mones_like(y), np\u001b[39m.\u001b[39mrandom\u001b[39m.\u001b[39mrandn(\u001b[39m100\u001b[39m, \u001b[39m1\u001b[39m)])\n\u001b[1;32m---> <a href='vscode-notebook-cell:/c%3A/Users/sedof/Documents/VSCode_Projects/ITiABD-PM22-7-Nikolay-Sedov/econometrics/model_evaluation_v2.ipynb#X24sZmlsZQ%3D%3D?line=28'>29</a>\u001b[0m bp_stat, bp_p_value, _, _ \u001b[39m=\u001b[39m breusch_pagan_test(y, X)\n\u001b[0;32m     <a href='vscode-notebook-cell:/c%3A/Users/sedof/Documents/VSCode_Projects/ITiABD-PM22-7-Nikolay-Sedov/econometrics/model_evaluation_v2.ipynb#X24sZmlsZQ%3D%3D?line=30'>31</a>\u001b[0m helwig_stat, helwig_p_value, dw_stat, bp_stat, bp_p_value\n",
      "\u001b[1;32mc:\\Users\\sedof\\Documents\\VSCode_Projects\\ITiABD-PM22-7-Nikolay-Sedov\\econometrics\\model_evaluation_v2.ipynb Cell 19\u001b[0m line \u001b[0;36m1\n\u001b[0;32m     <a href='vscode-notebook-cell:/c%3A/Users/sedof/Documents/VSCode_Projects/ITiABD-PM22-7-Nikolay-Sedov/econometrics/model_evaluation_v2.ipynb#X24sZmlsZQ%3D%3D?line=15'>16</a>\u001b[0m \u001b[39mfrom\u001b[39;00m \u001b[39mstatsmodels\u001b[39;00m\u001b[39m.\u001b[39;00m\u001b[39mstats\u001b[39;00m\u001b[39m.\u001b[39;00m\u001b[39mdiagnostic\u001b[39;00m \u001b[39mimport\u001b[39;00m het_breuschpagan\n\u001b[0;32m     <a href='vscode-notebook-cell:/c%3A/Users/sedof/Documents/VSCode_Projects/ITiABD-PM22-7-Nikolay-Sedov/econometrics/model_evaluation_v2.ipynb#X24sZmlsZQ%3D%3D?line=16'>17</a>\u001b[0m residuals \u001b[39m=\u001b[39m y \u001b[39m-\u001b[39m x\u001b[39m.\u001b[39mdot(sm\u001b[39m.\u001b[39mOLS(y, x)\u001b[39m.\u001b[39mfit()\u001b[39m.\u001b[39mparams)\n\u001b[1;32m---> <a href='vscode-notebook-cell:/c%3A/Users/sedof/Documents/VSCode_Projects/ITiABD-PM22-7-Nikolay-Sedov/econometrics/model_evaluation_v2.ipynb#X24sZmlsZQ%3D%3D?line=17'>18</a>\u001b[0m bp_test \u001b[39m=\u001b[39m het_breuschpagan(residuals, x)\n\u001b[0;32m     <a href='vscode-notebook-cell:/c%3A/Users/sedof/Documents/VSCode_Projects/ITiABD-PM22-7-Nikolay-Sedov/econometrics/model_evaluation_v2.ipynb#X24sZmlsZQ%3D%3D?line=18'>19</a>\u001b[0m \u001b[39mreturn\u001b[39;00m bp_test\n",
      "File \u001b[1;32mc:\\Users\\sedof\\AppData\\Local\\Programs\\Python\\Python311\\Lib\\site-packages\\statsmodels\\stats\\diagnostic.py:793\u001b[0m, in \u001b[0;36mhet_breuschpagan\u001b[1;34m(resid, exog_het, robust)\u001b[0m\n\u001b[0;32m    791\u001b[0m x \u001b[39m=\u001b[39m array_like(exog_het, \u001b[39m\"\u001b[39m\u001b[39mexog_het\u001b[39m\u001b[39m\"\u001b[39m, ndim\u001b[39m=\u001b[39m\u001b[39m2\u001b[39m)\n\u001b[0;32m    792\u001b[0m _check_het_test(x, \u001b[39m\"\u001b[39m\u001b[39mThe Breusch-Pagan\u001b[39m\u001b[39m\"\u001b[39m)\n\u001b[1;32m--> 793\u001b[0m y \u001b[39m=\u001b[39m array_like(resid, \u001b[39m\"\u001b[39;49m\u001b[39mresid\u001b[39;49m\u001b[39m\"\u001b[39;49m, ndim\u001b[39m=\u001b[39;49m\u001b[39m1\u001b[39;49m) \u001b[39m*\u001b[39m\u001b[39m*\u001b[39m \u001b[39m2\u001b[39m\n\u001b[0;32m    794\u001b[0m \u001b[39mif\u001b[39;00m \u001b[39mnot\u001b[39;00m robust:\n\u001b[0;32m    795\u001b[0m     y \u001b[39m=\u001b[39m y \u001b[39m/\u001b[39m np\u001b[39m.\u001b[39mmean(y)\n",
      "File \u001b[1;32mc:\\Users\\sedof\\AppData\\Local\\Programs\\Python\\Python311\\Lib\\site-packages\\statsmodels\\tools\\validation\\validation.py:155\u001b[0m, in \u001b[0;36marray_like\u001b[1;34m(obj, name, dtype, ndim, maxdim, shape, order, contiguous, optional, writeable)\u001b[0m\n\u001b[0;32m    153\u001b[0m     \u001b[39mif\u001b[39;00m arr\u001b[39m.\u001b[39mndim \u001b[39m!=\u001b[39m ndim:\n\u001b[0;32m    154\u001b[0m         msg \u001b[39m=\u001b[39m \u001b[39m\"\u001b[39m\u001b[39m{0}\u001b[39;00m\u001b[39m is required to have ndim \u001b[39m\u001b[39m{1}\u001b[39;00m\u001b[39m but has ndim \u001b[39m\u001b[39m{2}\u001b[39;00m\u001b[39m\"\u001b[39m\n\u001b[1;32m--> 155\u001b[0m         \u001b[39mraise\u001b[39;00m \u001b[39mValueError\u001b[39;00m(msg\u001b[39m.\u001b[39mformat(name, ndim, arr\u001b[39m.\u001b[39mndim))\n\u001b[0;32m    156\u001b[0m \u001b[39mif\u001b[39;00m shape \u001b[39mis\u001b[39;00m \u001b[39mnot\u001b[39;00m \u001b[39mNone\u001b[39;00m:\n\u001b[0;32m    157\u001b[0m     \u001b[39mfor\u001b[39;00m actual, req \u001b[39min\u001b[39;00m \u001b[39mzip\u001b[39m(arr\u001b[39m.\u001b[39mshape, shape):\n",
      "\u001b[1;31mValueError\u001b[0m: resid is required to have ndim 1 but has ndim 2"
     ]
    }
   ],
   "source": [
    "def helwig_test(data):\n",
    "    n = len(data)\n",
    "    z = (data.mean() - 0) / (data.std(ddof=1) / np.sqrt(n))\n",
    "    p_value = 2 * (1 - stats.norm.cdf(abs(z)))\n",
    "    return z, p_value\n",
    "\n",
    "# Тест на автокорреляцию (Durbin-Watson test)\n",
    "def durbin_watson_test(residuals):\n",
    "    num = np.sum(np.diff(residuals) ** 2)\n",
    "    den = np.sum(residuals ** 2)\n",
    "    return num / den\n",
    "\n",
    "# Тест на гетероскедастичность (Breusch-Pagan test)\n",
    "def breusch_pagan_test(y, x):\n",
    "    import statsmodels.api as sm\n",
    "    from statsmodels.stats.diagnostic import het_breuschpagan\n",
    "    residuals = y - x.dot(sm.OLS(y, x).fit().params)\n",
    "    bp_test = het_breuschpagan(residuals, x)\n",
    "    return bp_test\n",
    "# Тест Хельвига\n",
    "helwig_stat, helwig_p_value = helwig_test(sample)\n",
    "\n",
    "# Тест на автокорреляцию (применяем к случайной выборке как пример)\n",
    "dw_stat = durbin_watson_test(sample)\n",
    "\n",
    "# Тест на гетероскедастичность (требует зависимую и независимую переменные; пример на основе случайных данных)\n",
    "y = np.random.randn(100, 1)\n",
    "X = np.hstack([np.ones_like(y), np.random.randn(100, 1)])\n",
    "bp_stat, bp_p_value, _, _ = breusch_pagan_test(y, X)\n",
    "\n",
    "helwig_stat, helwig_p_value, dw_stat, bp_stat, bp_p_value\n"
   ]
  },
  {
   "cell_type": "code",
   "execution_count": null,
   "id": "fa290d22",
   "metadata": {},
   "outputs": [],
   "source": []
  }
 ],
 "metadata": {
  "kernelspec": {
   "display_name": "Python 3",
   "language": "python",
   "name": "python3"
  },
  "language_info": {
   "codemirror_mode": {
    "name": "ipython",
    "version": 3
   },
   "file_extension": ".py",
   "mimetype": "text/x-python",
   "name": "python",
   "nbconvert_exporter": "python",
   "pygments_lexer": "ipython3",
   "version": "3.11.5"
  }
 },
 "nbformat": 4,
 "nbformat_minor": 5
}
