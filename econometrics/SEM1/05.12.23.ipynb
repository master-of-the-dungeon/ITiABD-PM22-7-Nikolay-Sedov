{
 "cells": [
  {
   "cell_type": "code",
   "execution_count": 13,
   "metadata": {},
   "outputs": [
    {
     "data": {
      "text/html": [
       "<div>\n",
       "<style scoped>\n",
       "    .dataframe tbody tr th:only-of-type {\n",
       "        vertical-align: middle;\n",
       "    }\n",
       "\n",
       "    .dataframe tbody tr th {\n",
       "        vertical-align: top;\n",
       "    }\n",
       "\n",
       "    .dataframe thead th {\n",
       "        text-align: right;\n",
       "    }\n",
       "</style>\n",
       "<table border=\"1\" class=\"dataframe\">\n",
       "  <thead>\n",
       "    <tr style=\"text-align: right;\">\n",
       "      <th></th>\n",
       "    </tr>\n",
       "  </thead>\n",
       "  <tbody>\n",
       "  </tbody>\n",
       "</table>\n",
       "</div>"
      ],
      "text/plain": [
       "Empty DataFrame\n",
       "Columns: []\n",
       "Index: []"
      ]
     },
     "execution_count": 13,
     "metadata": {},
     "output_type": "execute_result"
    }
   ],
   "source": [
    "import pandas as pd\n",
    "from statsmodels.stats.outliers_influence import variance_inflation_factor\n",
    "from statsmodels.tools.tools import add_constant\n",
    "import statsmodels.api as sm\n",
    "\n",
    "# Загрузка данных из файла Excel\n",
    "file_path = \"C:\\\\Users\\\\nsedoff\\\\Documents\\\\VSCode docs\\\\ITiABD-PM22-7-Nikolay-Sedov\\\\econometrics\\\\multikol.xlsx\"\n",
    "\n",
    "data = pd.read_excel(file_path)\n",
    "\n",
    "# Отображение первых нескольких строк данных для ознакомления\n",
    "data.head()\n"
   ]
  },
  {
   "cell_type": "code",
   "execution_count": 7,
   "metadata": {},
   "outputs": [
    {
     "data": {
      "text/plain": [
       "['Лист1', 'Лист2']"
      ]
     },
     "execution_count": 7,
     "metadata": {},
     "output_type": "execute_result"
    }
   ],
   "source": [
    "# Проверка всех листов в файле Excel\n",
    "sheets = pd.ExcelFile(file_path)\n",
    "sheet_names = sheets.sheet_names\n",
    "sheet_names\n"
   ]
  },
  {
   "cell_type": "code",
   "execution_count": 8,
   "metadata": {},
   "outputs": [
    {
     "data": {
      "text/plain": [
       "(Empty DataFrame\n",
       " Columns: []\n",
       " Index: [],\n",
       "       Y     X1     X2     X3\n",
       " 0  15.3  135.2  109.5  125.2\n",
       " 1  18.6   86.5  111.4  112.2\n",
       " 2  19.4  107.4  105.3  105.1\n",
       " 3  18.1  108.1  105.1  112.4\n",
       " 4  19.9  104.6  112.0  106.2)"
      ]
     },
     "execution_count": 8,
     "metadata": {},
     "output_type": "execute_result"
    }
   ],
   "source": [
    "# Загрузка данных с каждого листа\n",
    "data_sheet1 = pd.read_excel(file_path, sheet_name=sheet_names[0])\n",
    "data_sheet2 = pd.read_excel(file_path, sheet_name=sheet_names[1])\n",
    "\n",
    "data_sheet1.head(), data_sheet2.head()  # Отображение первых строк каждого листа для оценки содержания данных\n"
   ]
  },
  {
   "cell_type": "code",
   "execution_count": 12,
   "metadata": {},
   "outputs": [
    {
     "data": {
      "text/html": [
       "<div>\n",
       "<style scoped>\n",
       "    .dataframe tbody tr th:only-of-type {\n",
       "        vertical-align: middle;\n",
       "    }\n",
       "\n",
       "    .dataframe tbody tr th {\n",
       "        vertical-align: top;\n",
       "    }\n",
       "\n",
       "    .dataframe thead th {\n",
       "        text-align: right;\n",
       "    }\n",
       "</style>\n",
       "<table border=\"1\" class=\"dataframe\">\n",
       "  <thead>\n",
       "    <tr style=\"text-align: right;\">\n",
       "      <th></th>\n",
       "      <th>Feature</th>\n",
       "      <th>VIF</th>\n",
       "    </tr>\n",
       "  </thead>\n",
       "  <tbody>\n",
       "    <tr>\n",
       "      <th>0</th>\n",
       "      <td>const</td>\n",
       "      <td>1163.073118</td>\n",
       "    </tr>\n",
       "    <tr>\n",
       "      <th>1</th>\n",
       "      <td>X1</td>\n",
       "      <td>1.137075</td>\n",
       "    </tr>\n",
       "    <tr>\n",
       "      <th>2</th>\n",
       "      <td>X2</td>\n",
       "      <td>1.147613</td>\n",
       "    </tr>\n",
       "    <tr>\n",
       "      <th>3</th>\n",
       "      <td>X3</td>\n",
       "      <td>1.035222</td>\n",
       "    </tr>\n",
       "  </tbody>\n",
       "</table>\n",
       "</div>"
      ],
      "text/plain": [
       "  Feature          VIF\n",
       "0   const  1163.073118\n",
       "1      X1     1.137075\n",
       "2      X2     1.147613\n",
       "3      X3     1.035222"
      ]
     },
     "execution_count": 12,
     "metadata": {},
     "output_type": "execute_result"
    }
   ],
   "source": [
    "\n",
    "# Данные для анализа мультиколлинеарности\n",
    "data_analysis = data_sheet2[['X1', 'X2', 'X3']]\n",
    "\n",
    "# Добавление константы для VIF\n",
    "data_analysis_const = add_constant(data_analysis)\n",
    "\n",
    "# Вычисление VIF для каждой переменной\n",
    "vif_data = pd.DataFrame()\n",
    "vif_data[\"Feature\"] = data_analysis_const.columns\n",
    "vif_data[\"VIF\"] = [variance_inflation_factor(data_analysis_const.values, i) for i in range(data_analysis_const.shape[1])]\n",
    "\n",
    "vif_data\n"
   ]
  },
  {
   "cell_type": "code",
   "execution_count": 14,
   "metadata": {},
   "outputs": [
    {
     "data": {
      "text/html": [
       "<div>\n",
       "<style scoped>\n",
       "    .dataframe tbody tr th:only-of-type {\n",
       "        vertical-align: middle;\n",
       "    }\n",
       "\n",
       "    .dataframe tbody tr th {\n",
       "        vertical-align: top;\n",
       "    }\n",
       "\n",
       "    .dataframe thead th {\n",
       "        text-align: right;\n",
       "    }\n",
       "</style>\n",
       "<table border=\"1\" class=\"dataframe\">\n",
       "  <thead>\n",
       "    <tr style=\"text-align: right;\">\n",
       "      <th></th>\n",
       "      <th>X1</th>\n",
       "      <th>X2</th>\n",
       "      <th>X3</th>\n",
       "    </tr>\n",
       "  </thead>\n",
       "  <tbody>\n",
       "    <tr>\n",
       "      <th>X1</th>\n",
       "      <td>NaN</td>\n",
       "      <td>1.846485e-01</td>\n",
       "      <td>0.607498</td>\n",
       "    </tr>\n",
       "    <tr>\n",
       "      <th>X2</th>\n",
       "      <td>0.184649</td>\n",
       "      <td>NaN</td>\n",
       "      <td>0.528287</td>\n",
       "    </tr>\n",
       "    <tr>\n",
       "      <th>X3</th>\n",
       "      <td>0.607498</td>\n",
       "      <td>5.282868e-01</td>\n",
       "      <td>NaN</td>\n",
       "    </tr>\n",
       "    <tr>\n",
       "      <th>const</th>\n",
       "      <td>0.042222</td>\n",
       "      <td>9.096106e-10</td>\n",
       "      <td>0.913242</td>\n",
       "    </tr>\n",
       "  </tbody>\n",
       "</table>\n",
       "</div>"
      ],
      "text/plain": [
       "             X1            X2        X3\n",
       "X1          NaN  1.846485e-01  0.607498\n",
       "X2     0.184649           NaN  0.528287\n",
       "X3     0.607498  5.282868e-01       NaN\n",
       "const  0.042222  9.096106e-10  0.913242"
      ]
     },
     "execution_count": 14,
     "metadata": {},
     "output_type": "execute_result"
    }
   ],
   "source": [
    "\n",
    "# Метод Феррара-Глобера\n",
    "farrar_glauber_results = {}\n",
    "\n",
    "# Функция для вычисления регрессии и проверки значимости коэффициентов\n",
    "def farrar_glauber_test(dependent_var, independent_vars):\n",
    "    model = sm.OLS(dependent_var, independent_vars).fit()\n",
    "    return model.pvalues\n",
    "\n",
    "# Проведение теста для каждой переменной\n",
    "for column in data_analysis.columns:\n",
    "    # Выбор независимых переменных, исключая текущую зависимую переменную\n",
    "    independent_vars = data_analysis.drop(column, axis=1)\n",
    "    # Добавление константы к независимым переменным\n",
    "    independent_vars_const = add_constant(independent_vars)\n",
    "    # Выполнение теста\n",
    "    farrar_glauber_results[column] = farrar_glauber_test(data_analysis[column], independent_vars_const)\n",
    "\n",
    "# Вывод результатов\n",
    "farrar_glauber_results_df = pd.DataFrame(farrar_glauber_results)\n",
    "farrar_glauber_results_df\n"
   ]
  },
  {
   "cell_type": "code",
   "execution_count": null,
   "metadata": {},
   "outputs": [],
   "source": []
  }
 ],
 "metadata": {
  "kernelspec": {
   "display_name": "Python 3",
   "language": "python",
   "name": "python3"
  },
  "language_info": {
   "codemirror_mode": {
    "name": "ipython",
    "version": 3
   },
   "file_extension": ".py",
   "mimetype": "text/x-python",
   "name": "python",
   "nbconvert_exporter": "python",
   "pygments_lexer": "ipython3",
   "version": "3.11.4"
  }
 },
 "nbformat": 4,
 "nbformat_minor": 2
}
