{
 "cells": [
  {
   "cell_type": "markdown",
   "id": "6ffb7732",
   "metadata": {},
   "source": [
    "# 1. Алгоритмы тестов Jarque-Bera и Колмогорова-Смирнова"
   ]
  },
  {
   "cell_type": "code",
   "execution_count": null,
   "id": "2919a7f0",
   "metadata": {},
   "outputs": [],
   "source": [
    "\n",
    "# Using scipy\n",
    "import scipy.stats as stats\n",
    "\n",
    "sample = np.random.normal(0, 1, 1000)\n",
    "\n",
    "jb_stat_scipy, jb_p_value_scipy = stats.jarque_bera(sample)\n",
    "ks_stat_scipy, ks_p_value_scipy = stats.kstest(sample, 'norm')\n",
    "\n",
    "jb_stat_scipy, jb_p_value_scipy, ks_stat_scipy, ks_p_value_scipy\n"
   ]
  },
  {
   "cell_type": "code",
   "execution_count": null,
   "id": "f49eb804",
   "metadata": {},
   "outputs": [],
   "source": [
    "\n",
    "# Using statsmodels for Jarque-Bera\n",
    "import statsmodels.api as sm\n",
    "\n",
    "jb_stat_sm, _, jb_p_value_sm, _ = sm.stats.jarque_bera(sample)\n",
    "\n",
    "jb_stat_sm, jb_p_value_sm\n"
   ]
  },
  {
   "cell_type": "markdown",
   "id": "a1a1e364",
   "metadata": {},
   "source": [
    "# 2. Проверка остатков модели на нормальность"
   ]
  },
  {
   "cell_type": "code",
   "execution_count": null,
   "id": "ee5e49aa",
   "metadata": {},
   "outputs": [],
   "source": [
    "\n",
    "# Тест Шапиро-Вилька using scipy\n",
    "shapiro_stat_scipy, shapiro_p_value_scipy = stats.shapiro(sample)\n",
    "\n",
    "shapiro_stat_scipy, shapiro_p_value_scipy\n"
   ]
  },
  {
   "cell_type": "markdown",
   "id": "2060642f",
   "metadata": {},
   "source": [
    "# 4. Проверка модели на адекватность"
   ]
  },
  {
   "cell_type": "code",
   "execution_count": null,
   "id": "9e530653",
   "metadata": {},
   "outputs": [],
   "source": [
    "\n",
    "# Пример расчета коэффициента детерминации R^2 для линейной регрессии using sklearn\n",
    "from sklearn.linear_model import LinearRegression\n",
    "from sklearn.metrics import r2_score\n",
    "\n",
    "X = np.random.rand(100, 1) * 10\n",
    "y = 2.5 * X + np.random.randn(100, 1) * 2\n",
    "\n",
    "model = LinearRegression().fit(X, y)\n",
    "y_pred = model.predict(X)\n",
    "\n",
    "r2_sklearn = r2_score(y, y_pred)\n",
    "\n",
    "r2_sklearn\n"
   ]
  },
  {
   "cell_type": "markdown",
   "id": "ae0c0c9d",
   "metadata": {},
   "source": [
    "# 3. Теоретические условия применения"
   ]
  },
  {
   "cell_type": "markdown",
   "id": "9422ac95",
   "metadata": {},
   "source": [
    "### Тест Jarque-Bera\n",
    "Подходит для больших выборок."
   ]
  },
  {
   "cell_type": "markdown",
   "id": "f077aeaf",
   "metadata": {},
   "source": [
    "### Тест Колмогорова-Смирнова\n",
    "Не требует, чтобы выборка была большой. Данные должны быть непрерывными."
   ]
  },
  {
   "cell_type": "markdown",
   "id": "28ff06be",
   "metadata": {},
   "source": [
    "### Тест Хельвига\n",
    "Подходит для малых выборок."
   ]
  },
  {
   "cell_type": "markdown",
   "id": "12e9e4c8",
   "metadata": {},
   "source": [
    "### Тест Шапиро-Вилька\n",
    "Лучше всего использовать для выборок размером менее 50 элементов."
   ]
  }
 ],
 "metadata": {},
 "nbformat": 4,
 "nbformat_minor": 5
}
