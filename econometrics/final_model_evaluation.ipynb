{
 "cells": [
  {
   "cell_type": "markdown",
   "id": "55c8b058",
   "metadata": {},
   "source": [
    "# Анализ и проверка модели"
   ]
  },
  {
   "cell_type": "markdown",
   "id": "4292ad33",
   "metadata": {},
   "source": [
    "## 1. Алгоритмы тестов Jarque-Bera и Колмогорова-Смирнова"
   ]
  },
  {
   "cell_type": "code",
   "execution_count": 9,
   "id": "8d791593",
   "metadata": {},
   "outputs": [
    {
     "data": {
      "text/plain": [
       "(0.004203828835045527,\n",
       " 0.9979002930576744,\n",
       " 0.025661412907982073,\n",
       " 0.5172315289653043)"
      ]
     },
     "execution_count": 9,
     "metadata": {},
     "output_type": "execute_result"
    }
   ],
   "source": [
    "from sklearn.linear_model import LinearRegression\n",
    "import numpy as np\n",
    "import scipy.stats as stats\n",
    "from sklearn.metrics import r2_score\n",
    "\n",
    "import statsmodels.api as sm\n",
    "\n",
    "# Генерация выборки\n",
    "sample = np.random.normal(0, 1, 1000)\n",
    "\n",
    "# Jarque-Bera test\n",
    "jb_stat, jb_p_value = stats.jarque_bera(sample)\n",
    "\n",
    "# Колмогорова-Смирнова test\n",
    "ks_stat, ks_p_value = stats.kstest(sample, 'norm')\n",
    "\n",
    "jb_stat, jb_p_value, ks_stat, ks_p_value\n"
   ]
  },
  {
   "cell_type": "markdown",
   "id": "2d17552a",
   "metadata": {},
   "source": [
    "## 2. Проверка остатков модели на нормальность"
   ]
  },
  {
   "cell_type": "code",
   "execution_count": 3,
   "id": "f34a440e",
   "metadata": {},
   "outputs": [
    {
     "data": {
      "text/plain": [
       "(0.9988923668861389,\n",
       " 0.8128262162208557,\n",
       " 0.24373654952305981,\n",
       " 0.8074348644338392)"
      ]
     },
     "execution_count": 3,
     "metadata": {},
     "output_type": "execute_result"
    }
   ],
   "source": [
    "def helwig_test(data):\n",
    "    n = len(data)\n",
    "    z = (data.mean() - 0) / (data.std(ddof=1) / np.sqrt(n))\n",
    "    p_value = 2 * (1 - stats.norm.cdf(abs(z)))\n",
    "    return z, p_value\n",
    "\n",
    "\n",
    "# Шапиро-Вилька test\n",
    "shapiro_stat, shapiro_p_value = stats.shapiro(sample)\n",
    "\n",
    "# Хельвига test (Z-test based)\n",
    "helwig_stat, helwig_p_value = helwig_test(sample)\n",
    "\n",
    "shapiro_stat, shapiro_p_value, helwig_stat, helwig_p_value\n"
   ]
  },
  {
   "cell_type": "markdown",
   "id": "b1c22946",
   "metadata": {},
   "source": [
    "## 3. Теоретические условия применения"
   ]
  },
  {
   "cell_type": "markdown",
   "id": "7f61394f",
   "metadata": {},
   "source": [
    "\n",
    "### Тест Jarque-Bera\n",
    "- Подходит для больших выборок.\n",
    "\n",
    "### Тест Колмогорова-Смирнова\n",
    "- Не требует, чтобы выборка была большой. Данные должны быть непрерывными.\n",
    "\n",
    "### Тест Шапиро-Вилька\n",
    "- Лучше всего использовать для выборок размером менее 50 элементов.\n",
    "\n",
    "### Тест Хельвига\n",
    "- Подходит для малых выборок.\n"
   ]
  },
  {
   "cell_type": "markdown",
   "id": "c8d7ed12",
   "metadata": {},
   "source": [
    "## 4. Проверка модели на адекватность"
   ]
  },
  {
   "cell_type": "code",
   "execution_count": 15,
   "id": "b8d865cc",
   "metadata": {},
   "outputs": [
    {
     "data": {
      "text/plain": [
       "(0.9329493693443762, 0.0, 1.45663570778356, 0.22746617429889865)"
      ]
     },
     "execution_count": 15,
     "metadata": {},
     "output_type": "execute_result"
    }
   ],
   "source": [
    "def durbin_watson_test(residuals):\n",
    "    num = np.sum(np.diff(residuals) ** 2)\n",
    "    den = np.sum(residuals ** 2)\n",
    "    return num / den\n",
    "def breusch_pagan_test(y, x):\n",
    "    import statsmodels.api as sm\n",
    "    from statsmodels.stats.diagnostic import het_breuschpagan\n",
    "    \n",
    "    y = np.asarray(y).flatten()\n",
    "    X = sm.add_constant(x)\n",
    "    residuals = y - sm.OLS(y, X).fit().predict(X)\n",
    "    bp_test = het_breuschpagan(residuals, X)\n",
    "    return bp_test\n",
    "\n",
    "\n",
    "\n",
    "# Примерные данные для регрессии\n",
    "X = np.random.rand(100, 1) * 10\n",
    "y = 2.5 * X + np.random.randn(100, 1) * 2\n",
    "\n",
    "# Обучение модели линейной регрессии\n",
    "model = LinearRegression().fit(X, y)\n",
    "y_pred = model.predict(X)\n",
    "\n",
    "# Расчет R^2\n",
    "r2 = r2_score(y, y_pred)\n",
    "\n",
    "# Durbin-Watson test (автокорреляция)\n",
    "dw_stat = durbin_watson_test(y - y_pred)\n",
    "\n",
    "# Breusch-Pagan test (гетероскедастичность)\n",
    "bp_stat, bp_p_value, _, _ = breusch_pagan_test(y, X)\n",
    "\n",
    "r2, dw_stat, bp_stat, bp_p_value\n"
   ]
  },
  {
   "cell_type": "code",
   "execution_count": null,
   "id": "3ac45cb3",
   "metadata": {},
   "outputs": [],
   "source": []
  }
 ],
 "metadata": {
  "kernelspec": {
   "display_name": "Python 3",
   "language": "python",
   "name": "python3"
  },
  "language_info": {
   "codemirror_mode": {
    "name": "ipython",
    "version": 3
   },
   "file_extension": ".py",
   "mimetype": "text/x-python",
   "name": "python",
   "nbconvert_exporter": "python",
   "pygments_lexer": "ipython3",
   "version": "3.11.5"
  }
 },
 "nbformat": 4,
 "nbformat_minor": 5
}
