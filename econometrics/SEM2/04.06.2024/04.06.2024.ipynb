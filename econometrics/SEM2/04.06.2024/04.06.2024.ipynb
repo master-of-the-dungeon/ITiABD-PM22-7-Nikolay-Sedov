{
 "cells": [
  {
   "cell_type": "code",
   "execution_count": 42,
   "metadata": {},
   "outputs": [],
   "source": [
    "import pandas as pd\n",
    "import statsmodels.api as sm\n",
    "from statsmodels.tsa.stattools import acf, pacf\n",
    "from statsmodels.tsa.ar_model import AutoReg\n",
    "import matplotlib.pyplot as plt\n",
    "from statsmodels.stats.diagnostic import acorr_breusch_godfrey\n",
    "from sklearn.linear_model import LinearRegression\n",
    "from sklearn.preprocessing import PolynomialFeatures\n"
   ]
  },
  {
   "cell_type": "markdown",
   "metadata": {},
   "source": [
    "# Койка"
   ]
  },
  {
   "cell_type": "code",
   "execution_count": 25,
   "metadata": {},
   "outputs": [],
   "source": [
    "\n",
    "file_path = 'data.xlsx'\n",
    "data = pd.read_excel(file_path)"
   ]
  },
  {
   "cell_type": "code",
   "execution_count": 26,
   "metadata": {},
   "outputs": [
    {
     "data": {
      "text/html": [
       "<div>\n",
       "<style scoped>\n",
       "    .dataframe tbody tr th:only-of-type {\n",
       "        vertical-align: middle;\n",
       "    }\n",
       "\n",
       "    .dataframe tbody tr th {\n",
       "        vertical-align: top;\n",
       "    }\n",
       "\n",
       "    .dataframe thead th {\n",
       "        text-align: right;\n",
       "    }\n",
       "</style>\n",
       "<table border=\"1\" class=\"dataframe\">\n",
       "  <thead>\n",
       "    <tr style=\"text-align: right;\">\n",
       "      <th></th>\n",
       "      <th>Дата</th>\n",
       "      <th>SBER_CLOSE</th>\n",
       "      <th>USD_RUB</th>\n",
       "    </tr>\n",
       "  </thead>\n",
       "  <tbody>\n",
       "    <tr>\n",
       "      <th>0</th>\n",
       "      <td>2023-01-03</td>\n",
       "      <td>141.78</td>\n",
       "      <td>71.1375</td>\n",
       "    </tr>\n",
       "    <tr>\n",
       "      <th>1</th>\n",
       "      <td>2023-01-04</td>\n",
       "      <td>141.43</td>\n",
       "      <td>72.0000</td>\n",
       "    </tr>\n",
       "    <tr>\n",
       "      <th>2</th>\n",
       "      <td>2023-01-05</td>\n",
       "      <td>141.27</td>\n",
       "      <td>72.1800</td>\n",
       "    </tr>\n",
       "    <tr>\n",
       "      <th>3</th>\n",
       "      <td>2023-01-06</td>\n",
       "      <td>141.40</td>\n",
       "      <td>72.1225</td>\n",
       "    </tr>\n",
       "    <tr>\n",
       "      <th>4</th>\n",
       "      <td>2023-01-09</td>\n",
       "      <td>142.40</td>\n",
       "      <td>69.9900</td>\n",
       "    </tr>\n",
       "  </tbody>\n",
       "</table>\n",
       "</div>"
      ],
      "text/plain": [
       "        Дата  SBER_CLOSE  USD_RUB\n",
       "0 2023-01-03      141.78  71.1375\n",
       "1 2023-01-04      141.43  72.0000\n",
       "2 2023-01-05      141.27  72.1800\n",
       "3 2023-01-06      141.40  72.1225\n",
       "4 2023-01-09      142.40  69.9900"
      ]
     },
     "execution_count": 26,
     "metadata": {},
     "output_type": "execute_result"
    }
   ],
   "source": [
    "data.head()"
   ]
  },
  {
   "cell_type": "code",
   "execution_count": 27,
   "metadata": {},
   "outputs": [],
   "source": [
    "clean_data = data[['Дата', 'SBER_CLOSE', 'USD_RUB']]\n",
    "clean_data['SBER_CLOSE_diff'] = clean_data['SBER_CLOSE'].diff()\n",
    "clean_data['USD_RUB_diff'] = clean_data['USD_RUB'].diff()\n",
    "clean_data = clean_data.dropna()\n"
   ]
  },
  {
   "cell_type": "code",
   "execution_count": 29,
   "metadata": {},
   "outputs": [],
   "source": [
    "X = clean_data['USD_RUB_diff']  \n",
    "y = clean_data['SBER_CLOSE_diff']  \n",
    "X = sm.add_constant(X)"
   ]
  },
  {
   "cell_type": "code",
   "execution_count": 30,
   "metadata": {},
   "outputs": [],
   "source": [
    "model = sm.OLS(y, X).fit()"
   ]
  },
  {
   "cell_type": "code",
   "execution_count": 31,
   "metadata": {},
   "outputs": [
    {
     "name": "stdout",
     "output_type": "stream",
     "text": [
      "                            OLS Regression Results                            \n",
      "==============================================================================\n",
      "Dep. Variable:        SBER_CLOSE_diff   R-squared:                       0.002\n",
      "Model:                            OLS   Adj. R-squared:                 -0.002\n",
      "Method:                 Least Squares   F-statistic:                    0.4788\n",
      "Date:                Sat, 06 Apr 2024   Prob (F-statistic):              0.490\n",
      "Time:                        09:27:29   Log-Likelihood:                -793.03\n",
      "No. Observations:                 304   AIC:                             1590.\n",
      "Df Residuals:                     302   BIC:                             1598.\n",
      "Df Model:                           1                                         \n",
      "Covariance Type:            nonrobust                                         \n",
      "================================================================================\n",
      "                   coef    std err          t      P>|t|      [0.025      0.975]\n",
      "--------------------------------------------------------------------------------\n",
      "const            0.5025      0.190      2.645      0.009       0.129       0.876\n",
      "USD_RUB_diff     0.1731      0.250      0.692      0.490      -0.319       0.665\n",
      "==============================================================================\n",
      "Omnibus:                       79.916   Durbin-Watson:                   2.099\n",
      "Prob(Omnibus):                  0.000   Jarque-Bera (JB):              497.339\n",
      "Skew:                           0.902   Prob(JB):                    1.01e-108\n",
      "Kurtosis:                       9.000   Cond. No.                         1.34\n",
      "==============================================================================\n",
      "\n",
      "Notes:\n",
      "[1] Standard Errors assume that the covariance matrix of the errors is correctly specified.\n"
     ]
    }
   ],
   "source": [
    "model_summary = model.summary()\n",
    "print(model_summary)"
   ]
  },
  {
   "cell_type": "code",
   "execution_count": 34,
   "metadata": {},
   "outputs": [
    {
     "data": {
      "image/png": "[encoded data removed]",
      "text/plain": [
       "<Figure size 1000x500 with 1 Axes>"
      ]
     },
     "metadata": {},
     "output_type": "display_data"
    }
   ],
   "source": [
    "lag_acf = acf(clean_data['SBER_CLOSE_diff'], nlags=20)\n",
    "plt.figure(figsize=(10, 5))\n",
    "plt.stem(range(len(lag_acf)), lag_acf)\n",
    "plt.title('Autocorrelation Function')\n",
    "plt.xlabel('Lags')\n",
    "plt.ylabel('Autocorrelation')\n",
    "plt.show()"
   ]
  },
  {
   "cell_type": "code",
   "execution_count": 35,
   "metadata": {},
   "outputs": [
    {
     "name": "stderr",
     "output_type": "stream",
     "text": [
      "c:\\Users\\sedof\\AppData\\Local\\Programs\\Python\\Python312\\Lib\\site-packages\\statsmodels\\tsa\\base\\tsa_model.py:473: ValueWarning: An unsupported index was provided and will be ignored when e.g. forecasting.\n",
      "  self._init_dates(dates, freq)\n"
     ]
    },
    {
     "data": {
      "text/html": [
       "<table class=\"simpletable\">\n",
       "<caption>AutoReg Model Results</caption>\n",
       "<tr>\n",
       "  <th>Dep. Variable:</th>  <td>SBER_CLOSE_diff</td> <th>  No. Observations:  </th>    <td>304</td>  \n",
       "</tr>\n",
       "<tr>\n",
       "  <th>Model:</th>            <td>AutoReg(1)</td>    <th>  Log Likelihood     </th> <td>-790.734</td>\n",
       "</tr>\n",
       "<tr>\n",
       "  <th>Method:</th>         <td>Conditional MLE</td> <th>  S.D. of innovations</th>   <td>3.290</td> \n",
       "</tr>\n",
       "<tr>\n",
       "  <th>Date:</th>          <td>Sat, 06 Apr 2024</td> <th>  AIC                </th> <td>1587.469</td>\n",
       "</tr>\n",
       "<tr>\n",
       "  <th>Time:</th>              <td>09:40:42</td>     <th>  BIC                </th> <td>1598.610</td>\n",
       "</tr>\n",
       "<tr>\n",
       "  <th>Sample:</th>                <td>1</td>        <th>  HQIC               </th> <td>1591.926</td>\n",
       "</tr>\n",
       "<tr>\n",
       "  <th></th>                      <td>304</td>       <th>                     </th>     <td> </td>   \n",
       "</tr>\n",
       "</table>\n",
       "<table class=\"simpletable\">\n",
       "<tr>\n",
       "           <td></td>             <th>coef</th>     <th>std err</th>      <th>z</th>      <th>P>|z|</th>  <th>[0.025</th>    <th>0.975]</th>  \n",
       "</tr>\n",
       "<tr>\n",
       "  <th>const</th>              <td>    0.5437</td> <td>    0.191</td> <td>    2.843</td> <td> 0.004</td> <td>    0.169</td> <td>    0.918</td>\n",
       "</tr>\n",
       "<tr>\n",
       "  <th>SBER_CLOSE_diff.L1</th> <td>   -0.0511</td> <td>    0.057</td> <td>   -0.889</td> <td> 0.374</td> <td>   -0.164</td> <td>    0.061</td>\n",
       "</tr>\n",
       "</table>\n",
       "<table class=\"simpletable\">\n",
       "<caption>Roots</caption>\n",
       "<tr>\n",
       "    <td></td>   <th>            Real</th>  <th>         Imaginary</th> <th>         Modulus</th>  <th>        Frequency</th>\n",
       "</tr>\n",
       "<tr>\n",
       "  <th>AR.1</th> <td>         -19.5862</td> <td>          +0.0000j</td> <td>          19.5862</td> <td>           0.5000</td>\n",
       "</tr>\n",
       "</table>"
      ],
      "text/latex": [
       "\\begin{center}\n",
       "\\begin{tabular}{lclc}\n",
       "\\toprule\n",
       "\\textbf{Dep. Variable:}       &     SBER\\_CLOSE\\_diff     & \\textbf{  No. Observations:  } &            304             \\\\\n",
       "\\textbf{Model:}               &         AutoReg(1)        & \\textbf{  Log Likelihood     } &          -790.734          \\\\\n",
       "\\textbf{Method:}              &      Conditional MLE      & \\textbf{  S.D. of innovations} &           3.290            \\\\\n",
       "\\textbf{Date:}                &      Sat, 06 Apr 2024     & \\textbf{  AIC                } &          1587.469          \\\\\n",
       "\\textbf{Time:}                &          09:40:42         & \\textbf{  BIC                } &          1598.610          \\\\\n",
       "\\textbf{Sample:}              &             1             & \\textbf{  HQIC               } &          1591.926          \\\\\n",
       "\\textbf{}                     &            304            & \\textbf{                     } &                            \\\\\n",
       "\\bottomrule\n",
       "\\end{tabular}\n",
       "\\begin{tabular}{lcccccc}\n",
       "                              & \\textbf{coef} & \\textbf{std err} & \\textbf{z} & \\textbf{P$> |$z$|$} & \\textbf{[0.025} & \\textbf{0.975]}  \\\\\n",
       "\\midrule\n",
       "\\textbf{const}                &       0.5437  &        0.191     &     2.843  &         0.004        &        0.169    &        0.918     \\\\\n",
       "\\textbf{SBER\\_CLOSE\\_diff.L1} &      -0.0511  &        0.057     &    -0.889  &         0.374        &       -0.164    &        0.061     \\\\\n",
       "\\bottomrule\n",
       "\\end{tabular}\n",
       "\\begin{tabular}{lcccc}\n",
       "              & \\textbf{            Real} & \\textbf{         Imaginary} & \\textbf{         Modulus} & \\textbf{        Frequency}  \\\\\n",
       "\\midrule\n",
       "\\textbf{AR.1} &              -19.5862     &                +0.0000j     &               19.5862     &                0.5000       \\\\\n",
       "\\bottomrule\n",
       "\\end{tabular}\n",
       "%\\caption{AutoReg Model Results}\n",
       "\\end{center}"
      ],
      "text/plain": [
       "<class 'statsmodels.iolib.summary.Summary'>\n",
       "\"\"\"\n",
       "                            AutoReg Model Results                             \n",
       "==============================================================================\n",
       "Dep. Variable:        SBER_CLOSE_diff   No. Observations:                  304\n",
       "Model:                     AutoReg(1)   Log Likelihood                -790.734\n",
       "Method:               Conditional MLE   S.D. of innovations              3.290\n",
       "Date:                Sat, 06 Apr 2024   AIC                           1587.469\n",
       "Time:                        09:40:42   BIC                           1598.610\n",
       "Sample:                             1   HQIC                          1591.926\n",
       "                                  304                                         \n",
       "======================================================================================\n",
       "                         coef    std err          z      P>|z|      [0.025      0.975]\n",
       "--------------------------------------------------------------------------------------\n",
       "const                  0.5437      0.191      2.843      0.004       0.169       0.918\n",
       "SBER_CLOSE_diff.L1    -0.0511      0.057     -0.889      0.374      -0.164       0.061\n",
       "                                    Roots                                    \n",
       "=============================================================================\n",
       "                  Real          Imaginary           Modulus         Frequency\n",
       "-----------------------------------------------------------------------------\n",
       "AR.1          -19.5862           +0.0000j           19.5862            0.5000\n",
       "-----------------------------------------------------------------------------\n",
       "\"\"\""
      ]
     },
     "execution_count": 35,
     "metadata": {},
     "output_type": "execute_result"
    }
   ],
   "source": [
    "model_ar = AutoReg(clean_data['SBER_CLOSE_diff'], lags=1).fit()\n",
    "\n",
    "model_ar_summary = model_ar.summary()\n",
    "model_ar_summary"
   ]
  },
  {
   "cell_type": "markdown",
   "metadata": {},
   "source": [
    "# Н-Тест"
   ]
  },
  {
   "cell_type": "code",
   "execution_count": 37,
   "metadata": {},
   "outputs": [
    {
     "data": {
      "text/plain": [
       "(0.0009041842246962917,\n",
       " 0.976011500618199,\n",
       " 0.0008982186923778728,\n",
       " 0.9761106040000729)"
      ]
     },
     "execution_count": 37,
     "metadata": {},
     "output_type": "execute_result"
    }
   ],
   "source": [
    "bg_test = acorr_breusch_godfrey(model_ar, nlags=1)  \n",
    "\n",
    "bg_test"
   ]
  },
  {
   "cell_type": "code",
   "execution_count": 38,
   "metadata": {},
   "outputs": [
    {
     "name": "stdout",
     "output_type": "stream",
     "text": [
      "Результаты H-теста Бреуша-Годфри (тест на автокорреляцию остатков):\n",
      "LM-статистика: 0.0009\n",
      "p-значение LM-статистики: 0.9760\n",
      "F-статистика: 0.0009\n",
      "p-значение F-статистики: 0.9761\n",
      "Вывод: Нет оснований отвергать нулевую гипотезу о отсутствии автокорреляции остатков.\n"
     ]
    }
   ],
   "source": [
    "print(\"Результаты H-теста Бреуша-Годфри (тест на автокорреляцию остатков):\")\n",
    "print(f\"LM-статистика: {bg_test[0]:.4f}\")\n",
    "print(f\"p-значение LM-статистики: {bg_test[1]:.4f}\")\n",
    "print(f\"F-статистика: {bg_test[2]:.4f}\")\n",
    "print(f\"p-значение F-статистики: {bg_test[3]:.4f}\")\n",
    "\n",
    "if bg_test[1] < 0.05:\n",
    "    print(\"Вывод: Есть основания отвергнуть нулевую гипотезу о отсутствии автокорреляции остатков.\")\n",
    "else:\n",
    "    print(\"Вывод: Нет оснований отвергать нулевую гипотезу о отсутствии автокорреляции остатков.\")\n"
   ]
  },
  {
   "cell_type": "markdown",
   "metadata": {},
   "source": [
    "# Адаптивные ожидания"
   ]
  },
  {
   "cell_type": "code",
   "execution_count": 39,
   "metadata": {},
   "outputs": [
    {
     "name": "stdout",
     "output_type": "stream",
     "text": [
      "        Дата  SBER_CLOSE  Expected_SBER_CLOSE\n",
      "1 2023-01-04      141.43            141.43000\n",
      "2 2023-01-05      141.27            141.35000\n",
      "3 2023-01-06      141.40            141.37500\n",
      "4 2023-01-09      142.40            141.88750\n",
      "5 2023-01-10      142.81            142.34875\n"
     ]
    }
   ],
   "source": [
    "alpha = 0.5 \n",
    "expected_values = [clean_data['SBER_CLOSE'].iloc[0]] \n",
    "\n",
    "for actual in clean_data['SBER_CLOSE'].iloc[1:]:\n",
    "    next_expected = expected_values[-1] + alpha * (actual - expected_values[-1])\n",
    "    expected_values.append(next_expected)\n",
    "\n",
    "clean_data['Expected_SBER_CLOSE'] = expected_values\n",
    "\n",
    "\n",
    "print(clean_data[['Дата', 'SBER_CLOSE', 'Expected_SBER_CLOSE']].head())\n"
   ]
  },
  {
   "cell_type": "markdown",
   "metadata": {},
   "source": [
    "# Корректировка модели"
   ]
  },
  {
   "cell_type": "code",
   "execution_count": 40,
   "metadata": {},
   "outputs": [
    {
     "data": {
      "text/html": [
       "<div>\n",
       "<style scoped>\n",
       "    .dataframe tbody tr th:only-of-type {\n",
       "        vertical-align: middle;\n",
       "    }\n",
       "\n",
       "    .dataframe tbody tr th {\n",
       "        vertical-align: top;\n",
       "    }\n",
       "\n",
       "    .dataframe thead th {\n",
       "        text-align: right;\n",
       "    }\n",
       "</style>\n",
       "<table border=\"1\" class=\"dataframe\">\n",
       "  <thead>\n",
       "    <tr style=\"text-align: right;\">\n",
       "      <th></th>\n",
       "      <th>Дата</th>\n",
       "      <th>SBER_CLOSE</th>\n",
       "      <th>Expected_SBER_CLOSE</th>\n",
       "      <th>Expected_SBER_CLOSE_new</th>\n",
       "    </tr>\n",
       "  </thead>\n",
       "  <tbody>\n",
       "    <tr>\n",
       "      <th>1</th>\n",
       "      <td>2023-01-04</td>\n",
       "      <td>141.43</td>\n",
       "      <td>141.43000</td>\n",
       "      <td>141.430000</td>\n",
       "    </tr>\n",
       "    <tr>\n",
       "      <th>2</th>\n",
       "      <td>2023-01-05</td>\n",
       "      <td>141.27</td>\n",
       "      <td>141.35000</td>\n",
       "      <td>141.382000</td>\n",
       "    </tr>\n",
       "    <tr>\n",
       "      <th>3</th>\n",
       "      <td>2023-01-06</td>\n",
       "      <td>141.40</td>\n",
       "      <td>141.37500</td>\n",
       "      <td>141.387400</td>\n",
       "    </tr>\n",
       "    <tr>\n",
       "      <th>4</th>\n",
       "      <td>2023-01-09</td>\n",
       "      <td>142.40</td>\n",
       "      <td>141.88750</td>\n",
       "      <td>141.691180</td>\n",
       "    </tr>\n",
       "    <tr>\n",
       "      <th>5</th>\n",
       "      <td>2023-01-10</td>\n",
       "      <td>142.81</td>\n",
       "      <td>142.34875</td>\n",
       "      <td>142.026826</td>\n",
       "    </tr>\n",
       "  </tbody>\n",
       "</table>\n",
       "</div>"
      ],
      "text/plain": [
       "        Дата  SBER_CLOSE  Expected_SBER_CLOSE  Expected_SBER_CLOSE_new\n",
       "1 2023-01-04      141.43            141.43000               141.430000\n",
       "2 2023-01-05      141.27            141.35000               141.382000\n",
       "3 2023-01-06      141.40            141.37500               141.387400\n",
       "4 2023-01-09      142.40            141.88750               141.691180\n",
       "5 2023-01-10      142.81            142.34875               142.026826"
      ]
     },
     "execution_count": 40,
     "metadata": {},
     "output_type": "execute_result"
    }
   ],
   "source": [
    "alpha_new = 0.3  # Новый коэффициент адаптации\n",
    "expected_values_new = [clean_data['SBER_CLOSE'].iloc[0]]  # Переопределение начального ожидания\n",
    "\n",
    "# Вычисление новых ожидаемых значений с новым коэффициентом\n",
    "for actual in clean_data['SBER_CLOSE'].iloc[1:]:\n",
    "    next_expected = expected_values_new[-1] + alpha_new * (actual - expected_values_new[-1])\n",
    "    expected_values_new.append(next_expected)\n",
    "\n",
    "# Сохранение результатов в DataFrame\n",
    "clean_data['Expected_SBER_CLOSE_new'] = expected_values_new\n",
    "\n",
    "# Вывод первых нескольких строк для сравнения старых и новых ожидаемых значений\n",
    "clean_data[['Дата', 'SBER_CLOSE', 'Expected_SBER_CLOSE', 'Expected_SBER_CLOSE_new']].head()"
   ]
  },
  {
   "cell_type": "code",
   "execution_count": 43,
   "metadata": {},
   "outputs": [
    {
     "data": {
      "text/plain": [
       "(array([ 1.39959383, -0.3751649 ,  0.00611505, -0.01429619,  0.0081056 ]),\n",
       " -0.8927037414408119)"
      ]
     },
     "execution_count": 43,
     "metadata": {},
     "output_type": "execute_result"
    }
   ],
   "source": [
    "\n",
    "\n",
    "# Добавление лагов в данные\n",
    "clean_data['lag1'] = clean_data['SBER_CLOSE'].shift(1)\n",
    "clean_data['lag2'] = clean_data['SBER_CLOSE'].shift(2)\n",
    "\n",
    "# Удаление строк с NaN значениями, которые появляются из-за сдвига\n",
    "clean_data.dropna(inplace=True)\n",
    "\n",
    "# Создание полиномиальных признаков для лагов\n",
    "X = clean_data[['lag1', 'lag2']]\n",
    "poly = PolynomialFeatures(degree=2, include_bias=False)\n",
    "X_poly = poly.fit_transform(X)\n",
    "\n",
    "# Зависимая переменная\n",
    "y = clean_data['SBER_CLOSE']\n",
    "\n",
    "# Построение модели линейной регрессии\n",
    "model = LinearRegression()\n",
    "model.fit(X_poly, y)\n",
    "\n",
    "# Вывод коэффициентов модели\n",
    "model_coefs = model.coef_\n",
    "model_intercept = model.intercept_\n",
    "model_coefs, model_intercept"
   ]
  },
  {
   "cell_type": "code",
   "execution_count": null,
   "metadata": {},
   "outputs": [],
   "source": []
  }
 ],
 "metadata": {
  "kernelspec": {
   "display_name": "Python 3",
   "language": "python",
   "name": "python3"
  },
  "language_info": {
   "codemirror_mode": {
    "name": "ipython",
    "version": 3
   },
   "file_extension": ".py",
   "mimetype": "text/x-python",
   "name": "python",
   "nbconvert_exporter": "python",
   "pygments_lexer": "ipython3",
   "version": "3.12.1"
  }
 },
 "nbformat": 4,
 "nbformat_minor": 2
}
