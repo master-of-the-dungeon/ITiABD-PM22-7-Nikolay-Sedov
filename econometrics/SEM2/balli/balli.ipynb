{
 "cells": [
  {
   "cell_type": "code",
   "execution_count": 43,
   "metadata": {},
   "outputs": [],
   "source": [
    "import pandas as pd\n",
    "import statsmodels.api as sm\n",
    "from linearmodels.panel import PanelOLS"
   ]
  },
  {
   "cell_type": "code",
   "execution_count": 50,
   "metadata": {},
   "outputs": [],
   "source": [
    "vrp_data = pd.read_excel('C:\\\\Users\\\\nsedoff\\\\Documents\\\\VSCODE\\\\ITiABD-PM22-7-Nikolay-Sedov\\\\econometrics\\\\SEM2\\\\balli\\\\data\\\\vrp.xlsx', sheet_name='2')\n",
    "nasel_data = pd.read_excel('C:\\\\Users\\\\nsedoff\\\\Documents\\\\VSCODE\\\\ITiABD-PM22-7-Nikolay-Sedov\\\\econometrics\\\\SEM2\\\\balli\\\\data\\\\nasel.xlsx', sheet_name='1')\n",
    "bezrab_data = pd.read_excel('C:\\\\Users\\\\nsedoff\\\\Documents\\\\VSCODE\\\\ITiABD-PM22-7-Nikolay-Sedov\\\\econometrics\\\\SEM2\\\\balli\\\\data\\\\bezrab.xlsx', sheet_name='1')\n",
    "invest_data = pd.read_excel('C:\\\\Users\\\\nsedoff\\\\Documents\\\\VSCODE\\\\ITiABD-PM22-7-Nikolay-Sedov\\\\econometrics\\\\SEM2\\\\balli\\\\data\\\\invest.xlsx', sheet_name='2017')"
   ]
  },
  {
   "cell_type": "code",
   "execution_count": 51,
   "metadata": {},
   "outputs": [
    {
     "name": "stdout",
     "output_type": "stream",
     "text": [
      "Безработица данные:\n",
      "   Дата обновления 11.03.2024  \\\n",
      "0                        NaN   \n",
      "1                        NaN   \n",
      "2                        NaN   \n",
      "3            Приморский край   \n",
      "4          городские округа:   \n",
      "5               Арсеньевский   \n",
      "6                Артемовский   \n",
      "7           Большой Камень1)   \n",
      "8            Владивостокский   \n",
      "9              Дальнегорский   \n",
      "\n",
      "                                          Unnamed: 1  Unnamed: 2  Unnamed: 3  \\\n",
      "0  Численность не занятых трудовой деятельностью ...         NaN         NaN   \n",
      "1                                                NaN         NaN         NaN   \n",
      "2                                               2001      2002.0      2003.0   \n",
      "3                                              28851     42513.0     41878.0   \n",
      "4                                                NaN         NaN         NaN   \n",
      "5                                               1257      1932.0      1383.0   \n",
      "6                                                914      1124.0      1048.0   \n",
      "7                                                NaN         NaN         NaN   \n",
      "8                                               4524      5763.0      4600.0   \n",
      "9                                                879      1462.0      1224.0   \n",
      "\n",
      "   Unnamed: 4  Unnamed: 5  Unnamed: 6  Unnamed: 7  Unnamed: 8  Unnamed: 9  \\\n",
      "0         NaN         NaN         NaN         NaN         NaN         NaN   \n",
      "1         NaN         NaN         NaN         NaN         NaN         NaN   \n",
      "2      2004.0      2005.0      2006.0      2007.0      2008.0      2009.0   \n",
      "3     45190.0     48072.0     44823.0     35438.0     33815.0     40360.0   \n",
      "4         NaN         NaN         NaN         NaN         NaN         NaN   \n",
      "5      1369.0      1540.0      1599.0      1087.0      1027.0      1024.0   \n",
      "6      1233.0      1063.0       763.0       768.0       723.0       772.0   \n",
      "7         NaN         NaN         NaN         NaN         NaN         NaN   \n",
      "8      4452.0      5158.0      3922.0      3124.0      3393.0      5080.0   \n",
      "9      1137.0       904.0       818.0       703.0      1056.0      1454.0   \n",
      "\n",
      "   ...  Unnamed: 14  Unnamed: 15  Unnamed: 16  Unnamed: 17  Unnamed: 18  \\\n",
      "0  ...          NaN          NaN          NaN          NaN          NaN   \n",
      "1  ...          NaN          NaN          NaN          NaN          NaN   \n",
      "2  ...       2014.0       2015.0       2016.0       2017.0       2018.0   \n",
      "3  ...      15931.0      19144.0      16938.0      11918.0      10079.0   \n",
      "4  ...          NaN          NaN          NaN          NaN          NaN   \n",
      "5  ...        478.0        533.0        490.0        285.0        423.0   \n",
      "6  ...        523.0        512.0        435.0        285.0        324.0   \n",
      "7  ...          NaN        296.0        275.0        162.0         98.0   \n",
      "8  ...       1408.0       2023.0       1895.0       1021.0        827.0   \n",
      "9  ...        432.0        523.0        531.0        391.0        264.0   \n",
      "\n",
      "   Unnamed: 19  Unnamed: 20  Unnamed: 21  Unnamed: 22  Unnamed: 23  \n",
      "0          NaN          NaN          NaN          NaN          NaN  \n",
      "1          NaN          NaN          NaN          NaN    (человек)  \n",
      "2       2019.0       2020.0       2021.0       2022.0         2023  \n",
      "3      10758.0      18898.0      12593.0       7741.0         6155  \n",
      "4          NaN          NaN          NaN          NaN          NaN  \n",
      "5        506.0        777.0        442.0        348.0          239  \n",
      "6        185.0        445.0        331.0        192.0          187  \n",
      "7        112.0        161.0        134.0        104.0           92  \n",
      "8        780.0       3505.0       1676.0        825.0          775  \n",
      "9        322.0        561.0        390.0        226.0          156  \n",
      "\n",
      "[10 rows x 24 columns]\n"
     ]
    }
   ],
   "source": [
    "print(\"Безработица данные:\\n\", bezrab_data.head(10))"
   ]
  },
  {
   "cell_type": "code",
   "execution_count": 52,
   "metadata": {},
   "outputs": [
    {
     "name": "stdout",
     "output_type": "stream",
     "text": [
      "\n",
      "Инвестиции данные:\n",
      "                           Дата обновления 04.09.2023  Unnamed: 1  Unnamed: 2  \\\n",
      "0  Инвестиции в основой капитал по видам экономич...         NaN         NaN   \n",
      "1                                                NaN      2017.0      2018.0   \n",
      "2                                         млн рублей         NaN         NaN   \n",
      "3                                 Инвестиции - всего     98402.8    111071.0   \n",
      "4                 в том числе по видам деятельсноти:         NaN         NaN   \n",
      "5  сельское, лесное хозяйство, охота, рыболовство...      8398.2     10619.7   \n",
      "6                         добыча полезных ископаемых      1650.3      2032.1   \n",
      "7                        обрабатывающие производства     21745.8     21062.6   \n",
      "8  обеспечение электрической энергией, газом, пар...     12372.1     14683.3   \n",
      "9  водоснабжение; водоотведение, организация сбор...       707.1       865.2   \n",
      "\n",
      "   Unnamed: 3  Unnamed: 4  Unnamed: 5  Unnamed: 6  \n",
      "0         NaN         NaN         NaN         NaN  \n",
      "1      2019.0      2020.0      2021.0      2022.0  \n",
      "2         NaN         NaN         NaN         NaN  \n",
      "3    130901.8    150690.2    186253.1    248624.1  \n",
      "4         NaN         NaN         NaN         NaN  \n",
      "5     15883.2     22390.4     21686.9     34573.7  \n",
      "6      1893.9       968.6      1706.6      1818.5  \n",
      "7     15646.5     11440.0     23118.3     47050.1  \n",
      "8     11699.0     15413.3     14983.4     18239.3  \n",
      "9      1214.5      2325.4      2343.4      2382.2  \n"
     ]
    }
   ],
   "source": [
    "print(\"\\nИнвестиции данные:\\n\", invest_data.head(10))"
   ]
  },
  {
   "cell_type": "code",
   "execution_count": 54,
   "metadata": {},
   "outputs": [
    {
     "name": "stdout",
     "output_type": "stream",
     "text": [
      "\n",
      "Численность населения данные:\n",
      "                           Дата обновления 01.04.2024 Unnamed: 1  \\\n",
      "0    Численность постоянного населения Приморског...        NaN   \n",
      "1                                                ...        NaN   \n",
      "2                                                NaN     20212)   \n",
      "3                                    Приморский край    1845165   \n",
      "4                                  городские округа:        NaN   \n",
      "5                                    Владивостокский     634835   \n",
      "6                                       Арсеньевский      47937   \n",
      "7                                        Артемовский     118842   \n",
      "8                                     Большой Камень      43663   \n",
      "9                                      Дальнегорский      39816   \n",
      "\n",
      "                  Unnamed: 2  Unnamed: 3  Unnamed: 4  \n",
      "0                        NaN         NaN         NaN  \n",
      "1  (на начало года; человек)         NaN         NaN  \n",
      "2                       2022      2023.0      2024.0  \n",
      "3                    1841961   1820076.0   1806393.0  \n",
      "4                        NaN         NaN         NaN  \n",
      "5                     635854    628385.0    622782.0  \n",
      "6                      47686     47306.0     47015.0  \n",
      "7                     118622    117858.0    117762.0  \n",
      "8                      43601     42271.0     42502.0  \n",
      "9                      39539     38999.0     38543.0  \n"
     ]
    }
   ],
   "source": [
    "print(\"\\nЧисленность населения данные:\\n\", nasel_data.head(10))"
   ]
  },
  {
   "cell_type": "code",
   "execution_count": 55,
   "metadata": {},
   "outputs": [
    {
     "name": "stdout",
     "output_type": "stream",
     "text": [
      "\n",
      "ВРП данные:\n",
      "                                         К содержанию  Unnamed: 1  Unnamed: 2  \\\n",
      "0  Производство валового регионального продукта  ...         NaN         NaN   \n",
      "1                                         Показатель         NaN     2016.00   \n",
      "2  Валовой региональный продукт (в текущих основн...         NaN   860804.00   \n",
      "3  Индекс физического объема валового регионально...         NaN       97.70   \n",
      "4  Валовой региональный продукт на душу населения...         NaN   449626.00   \n",
      "5  Индекс физического объема валового регионально...         NaN       98.10   \n",
      "6   Доля валового регионального продукта Приморск...         NaN        1.16   \n",
      "7  1) Данные  динамического ряда, начиная с 2016 ...         NaN         NaN   \n",
      "8  2) Данные содержат изменения, связанные с учет...         NaN         NaN   \n",
      "\n",
      "   Unnamed: 3  Unnamed: 4  Unnamed: 5  Unnamed: 6  Unnamed: 7  Unnamed: 8  \\\n",
      "0         NaN         NaN         NaN         NaN         NaN         NaN   \n",
      "1     2017.00     2018.00     2019.00     2020.00     2021.00     2022.00   \n",
      "2   906265.00   965485.00  1069331.00  1105673.00  1354100.00  1539350.00   \n",
      "3      101.90      101.80      105.00       98.50      107.20      102.60   \n",
      "4   475867.00   510202.00   568198.00   591923.00   731915.00   840707.00   \n",
      "5      102.40      102.50      105.60       99.20      108.20      103.70   \n",
      "6        1.14        1.07        1.12        1.17        1.11        1.09   \n",
      "7         NaN         NaN         NaN         NaN         NaN         NaN   \n",
      "8         NaN         NaN         NaN         NaN         NaN         NaN   \n",
      "\n",
      "  Unnamed: 9  \n",
      "0             \n",
      "1        NaN  \n",
      "2        NaN  \n",
      "3        NaN  \n",
      "4        NaN  \n",
      "5        NaN  \n",
      "6        NaN  \n",
      "7        NaN  \n",
      "8        NaN  \n"
     ]
    }
   ],
   "source": [
    "print(\"\\nВРП данные:\\n\", vrp_data.head(10))"
   ]
  },
  {
   "cell_type": "code",
   "execution_count": 56,
   "metadata": {},
   "outputs": [
    {
     "name": "stdout",
     "output_type": "stream",
     "text": [
      "ВРП данные:\n",
      " Index(['К содержанию', 'Unnamed: 1', 'Unnamed: 2', 'Unnamed: 3', 'Unnamed: 4',\n",
      "       'Unnamed: 5', 'Unnamed: 6', 'Unnamed: 7', 'Unnamed: 8', 'Unnamed: 9'],\n",
      "      dtype='object')\n",
      "\n",
      "Данные о численности населения:\n",
      " Index(['Дата обновления 01.04.2024', 'Unnamed: 1', 'Unnamed: 2', 'Unnamed: 3',\n",
      "       'Unnamed: 4'],\n",
      "      dtype='object')\n",
      "\n",
      "Данные о безработице:\n",
      " Index(['Дата обновления 11.03.2024', 'Unnamed: 1', 'Unnamed: 2', 'Unnamed: 3',\n",
      "       'Unnamed: 4', 'Unnamed: 5', 'Unnamed: 6', 'Unnamed: 7', 'Unnamed: 8',\n",
      "       'Unnamed: 9', 'Unnamed: 10', 'Unnamed: 11', 'Unnamed: 12',\n",
      "       'Unnamed: 13', 'Unnamed: 14', 'Unnamed: 15', 'Unnamed: 16',\n",
      "       'Unnamed: 17', 'Unnamed: 18', 'Unnamed: 19', 'Unnamed: 20',\n",
      "       'Unnamed: 21', 'Unnamed: 22', 'Unnamed: 23'],\n",
      "      dtype='object')\n",
      "\n",
      "Данные об инвестициях:\n",
      " Index(['Дата обновления 26.09.2017', 'Unnamed: 1', 'Unnamed: 2', 'Unnamed: 3',\n",
      "       'Unnamed: 4', 'Unnamed: 5', 'Unnamed: 6', 'Unnamed: 7', 'Unnamed: 8',\n",
      "       'Unnamed: 9', 'Unnamed: 10'],\n",
      "      dtype='object')\n"
     ]
    }
   ],
   "source": [
    "# Вывод названий столбцов для каждого файла\n",
    "print(\"ВРП данные:\\n\", vrp_data.columns)\n",
    "print(\"\\nДанные о численности населения:\\n\", population_data.columns)\n",
    "print(\"\\nДанные о безработице:\\n\", unemployment_data.columns)\n",
    "print(\"\\nДанные об инвестициях:\\n\", investments_data.columns)"
   ]
  },
  {
   "cell_type": "code",
   "execution_count": 59,
   "metadata": {},
   "outputs": [],
   "source": [
    "bezrab_data_cleaned = bezrab_data.iloc[3:, :].reset_index(drop=True)\n",
    "bezrab_data_cleaned.columns = ['Region', '2001', '2002', '2003', '2004', '2005', '2006', '2007', '2008', '2009', '2010', '2011', '2012', '2013', '2014', '2015', '2016', '2017', '2018', '2019', '2020', '2021', '2022', '2023']\n",
    "bezrab_data_cleaned = bezrab_data_cleaned.drop(columns=[col for col in bezrab_data_cleaned.columns if 'Unnamed' in col])\n",
    "bezrab_data_cleaned = bezrab_data_cleaned.melt(id_vars=['Region'], var_name='Year', value_name='Unemployment')\n",
    "bezrab_data_cleaned['Year'] = bezrab_data_cleaned['Year'].astype(int)"
   ]
  },
  {
   "cell_type": "code",
   "execution_count": 60,
   "metadata": {},
   "outputs": [
    {
     "name": "stdout",
     "output_type": "stream",
     "text": [
      "                                                Region  Year Unemployment\n",
      "0                                      Приморский край  2001        28851\n",
      "1                                    городские округа:  2001          NaN\n",
      "2                                         Арсеньевский  2001         1257\n",
      "3                                          Артемовский  2001          914\n",
      "4                                     Большой Камень1)  2001          NaN\n",
      "..                                                 ...   ...          ...\n",
      "915                                         Шкотовский  2023           52\n",
      "916                                        Яковлевский  2023          112\n",
      "917  1)  ЗАТО Большой Камень являлось закрытым терр...  2023          NaN\n",
      "918                      2) Включая район до 2003 года  2023          NaN\n",
      "919  3)  ЗАТО Фокино является закрытым территориаль...  2023          NaN\n",
      "\n",
      "[920 rows x 3 columns]\n"
     ]
    }
   ],
   "source": [
    "print(bezrab_data_cleaned)"
   ]
  },
  {
   "cell_type": "code",
   "execution_count": 61,
   "metadata": {},
   "outputs": [],
   "source": [
    "column_names = ['Region', '2005', '2006', '2007', '2008', '2009', '2010', '2011', '2012', '2013', '2014', '2015', '2016', '2017', '2018', '2019', '2020', '2021', '2022', '2023']\n",
    "invest_data_cleaned = invest_data.iloc[3:, :].reset_index(drop=True)\n",
    "invest_data_cleaned.columns = column_names[:len(invest_data_cleaned.columns)]\n",
    "invest_data_cleaned = invest_data_cleaned.melt(id_vars=['Region'], var_name='Year', value_name='Investment')\n",
    "invest_data_cleaned['Year'] = invest_data_cleaned['Year'].astype(int)\n"
   ]
  },
  {
   "cell_type": "code",
   "execution_count": 62,
   "metadata": {},
   "outputs": [
    {
     "name": "stdout",
     "output_type": "stream",
     "text": [
      "                                                Region  Year  Investment\n",
      "0                                   Инвестиции - всего  2005     98402.8\n",
      "1                   в том числе по видам деятельсноти:  2005         NaN\n",
      "2    сельское, лесное хозяйство, охота, рыболовство...  2005      8398.2\n",
      "3                           добыча полезных ископаемых  2005      1650.3\n",
      "4                          обрабатывающие производства  2005     21745.8\n",
      "..                                                 ...   ...         ...\n",
      "259                                        образование  2010         4.2\n",
      "260  деятельность в области здравоохранения и социа...  2010         1.5\n",
      "261  деятельность в области культуры, спорта, орган...  2010         2.0\n",
      "262                  предоставление прочих видов услуг  2010         0.0\n",
      "263     1) Без субъектов малого предпринимательства...  2010         NaN\n",
      "\n",
      "[264 rows x 3 columns]\n"
     ]
    }
   ],
   "source": [
    "print(invest_data_cleaned)"
   ]
  },
  {
   "cell_type": "code",
   "execution_count": 63,
   "metadata": {},
   "outputs": [],
   "source": [
    "column_names = ['Region', 'Description', '2021', '2022', '2023']\n",
    "nasel_data_cleaned = nasel_data.iloc[3:, :].reset_index(drop=True)\n",
    "nasel_data_cleaned.columns = column_names[:len(nasel_data_cleaned.columns)]\n",
    "nasel_data_cleaned = nasel_data_cleaned.drop(columns=[col for col in nasel_data_cleaned.columns if 'Unnamed' in col or 'Description' in col])\n",
    "nasel_data_cleaned = nasel_data_cleaned.melt(id_vars=['Region'], var_name='Year', value_name='Population')\n",
    "nasel_data_cleaned['Year'] = nasel_data_cleaned['Year'].astype(int)"
   ]
  },
  {
   "cell_type": "code",
   "execution_count": 64,
   "metadata": {},
   "outputs": [
    {
     "name": "stdout",
     "output_type": "stream",
     "text": [
      "                                                Region  Year Population\n",
      "0                                      Приморский край  2021    1841961\n",
      "1                                    городские округа:  2021        NaN\n",
      "2                                      Владивостокский  2021     635854\n",
      "3                                         Арсеньевский  2021      47686\n",
      "4                                          Артемовский  2021     118622\n",
      "..                                                 ...   ...        ...\n",
      "115                                       Михайловский  2023    28474.0\n",
      "116                                       Надеждинский  2023    41960.0\n",
      "117                                           Спасский  2023    19870.0\n",
      "118  1) Муниципально-территориальное деление края п...  2023        NaN\n",
      "119  2) Данные приведены по итогам ВПН-2020 (на 01....  2023        NaN\n",
      "\n",
      "[120 rows x 3 columns]\n"
     ]
    }
   ],
   "source": [
    "print(nasel_data_cleaned)"
   ]
  },
  {
   "cell_type": "code",
   "execution_count": 67,
   "metadata": {},
   "outputs": [
    {
     "ename": "ValueError",
     "evalue": "invalid literal for int() with base 10: 'Unnamed: 1'",
     "output_type": "error",
     "traceback": [
      "\u001b[1;31m---------------------------------------------------------------------------\u001b[0m",
      "\u001b[1;31mValueError\u001b[0m                                Traceback (most recent call last)",
      "Cell \u001b[1;32mIn[67], line 9\u001b[0m\n\u001b[0;32m      7\u001b[0m \u001b[38;5;66;03m# Удалим лишние строки и преобразуем тип данных\u001b[39;00m\n\u001b[0;32m      8\u001b[0m vrp_data_filtered \u001b[38;5;241m=\u001b[39m vrp_data_filtered\u001b[38;5;241m.\u001b[39mdrop(columns\u001b[38;5;241m=\u001b[39m[\u001b[38;5;124m'\u001b[39m\u001b[38;5;124mIndicator\u001b[39m\u001b[38;5;124m'\u001b[39m])\n\u001b[1;32m----> 9\u001b[0m vrp_data_filtered[\u001b[38;5;124m'\u001b[39m\u001b[38;5;124mYear\u001b[39m\u001b[38;5;124m'\u001b[39m] \u001b[38;5;241m=\u001b[39m \u001b[43mvrp_data_filtered\u001b[49m\u001b[43m[\u001b[49m\u001b[38;5;124;43m'\u001b[39;49m\u001b[38;5;124;43mYear\u001b[39;49m\u001b[38;5;124;43m'\u001b[39;49m\u001b[43m]\u001b[49m\u001b[38;5;241;43m.\u001b[39;49m\u001b[43mastype\u001b[49m\u001b[43m(\u001b[49m\u001b[38;5;28;43mint\u001b[39;49m\u001b[43m)\u001b[49m\n\u001b[0;32m     10\u001b[0m vrp_data_filtered[\u001b[38;5;124m'\u001b[39m\u001b[38;5;124mVRP\u001b[39m\u001b[38;5;124m'\u001b[39m] \u001b[38;5;241m=\u001b[39m vrp_data_filtered[\u001b[38;5;124m'\u001b[39m\u001b[38;5;124mVRP\u001b[39m\u001b[38;5;124m'\u001b[39m]\u001b[38;5;241m.\u001b[39mastype(\u001b[38;5;28mfloat\u001b[39m)\n\u001b[0;32m     11\u001b[0m vrp_data_filtered[\u001b[38;5;124m'\u001b[39m\u001b[38;5;124mRegion\u001b[39m\u001b[38;5;124m'\u001b[39m] \u001b[38;5;241m=\u001b[39m \u001b[38;5;124m'\u001b[39m\u001b[38;5;124mПриморский край\u001b[39m\u001b[38;5;124m'\u001b[39m\n",
      "File \u001b[1;32mc:\\Users\\nsedoff\\AppData\\Local\\Programs\\Python\\Python312\\Lib\\site-packages\\pandas\\core\\generic.py:6643\u001b[0m, in \u001b[0;36mNDFrame.astype\u001b[1;34m(self, dtype, copy, errors)\u001b[0m\n\u001b[0;32m   6637\u001b[0m     results \u001b[38;5;241m=\u001b[39m [\n\u001b[0;32m   6638\u001b[0m         ser\u001b[38;5;241m.\u001b[39mastype(dtype, copy\u001b[38;5;241m=\u001b[39mcopy, errors\u001b[38;5;241m=\u001b[39merrors) \u001b[38;5;28;01mfor\u001b[39;00m _, ser \u001b[38;5;129;01min\u001b[39;00m \u001b[38;5;28mself\u001b[39m\u001b[38;5;241m.\u001b[39mitems()\n\u001b[0;32m   6639\u001b[0m     ]\n\u001b[0;32m   6641\u001b[0m \u001b[38;5;28;01melse\u001b[39;00m:\n\u001b[0;32m   6642\u001b[0m     \u001b[38;5;66;03m# else, only a single dtype is given\u001b[39;00m\n\u001b[1;32m-> 6643\u001b[0m     new_data \u001b[38;5;241m=\u001b[39m \u001b[38;5;28;43mself\u001b[39;49m\u001b[38;5;241;43m.\u001b[39;49m\u001b[43m_mgr\u001b[49m\u001b[38;5;241;43m.\u001b[39;49m\u001b[43mastype\u001b[49m\u001b[43m(\u001b[49m\u001b[43mdtype\u001b[49m\u001b[38;5;241;43m=\u001b[39;49m\u001b[43mdtype\u001b[49m\u001b[43m,\u001b[49m\u001b[43m \u001b[49m\u001b[43mcopy\u001b[49m\u001b[38;5;241;43m=\u001b[39;49m\u001b[43mcopy\u001b[49m\u001b[43m,\u001b[49m\u001b[43m \u001b[49m\u001b[43merrors\u001b[49m\u001b[38;5;241;43m=\u001b[39;49m\u001b[43merrors\u001b[49m\u001b[43m)\u001b[49m\n\u001b[0;32m   6644\u001b[0m     res \u001b[38;5;241m=\u001b[39m \u001b[38;5;28mself\u001b[39m\u001b[38;5;241m.\u001b[39m_constructor_from_mgr(new_data, axes\u001b[38;5;241m=\u001b[39mnew_data\u001b[38;5;241m.\u001b[39maxes)\n\u001b[0;32m   6645\u001b[0m     \u001b[38;5;28;01mreturn\u001b[39;00m res\u001b[38;5;241m.\u001b[39m__finalize__(\u001b[38;5;28mself\u001b[39m, method\u001b[38;5;241m=\u001b[39m\u001b[38;5;124m\"\u001b[39m\u001b[38;5;124mastype\u001b[39m\u001b[38;5;124m\"\u001b[39m)\n",
      "File \u001b[1;32mc:\\Users\\nsedoff\\AppData\\Local\\Programs\\Python\\Python312\\Lib\\site-packages\\pandas\\core\\internals\\managers.py:430\u001b[0m, in \u001b[0;36mBaseBlockManager.astype\u001b[1;34m(self, dtype, copy, errors)\u001b[0m\n\u001b[0;32m    427\u001b[0m \u001b[38;5;28;01melif\u001b[39;00m using_copy_on_write():\n\u001b[0;32m    428\u001b[0m     copy \u001b[38;5;241m=\u001b[39m \u001b[38;5;28;01mFalse\u001b[39;00m\n\u001b[1;32m--> 430\u001b[0m \u001b[38;5;28;01mreturn\u001b[39;00m \u001b[38;5;28;43mself\u001b[39;49m\u001b[38;5;241;43m.\u001b[39;49m\u001b[43mapply\u001b[49m\u001b[43m(\u001b[49m\n\u001b[0;32m    431\u001b[0m \u001b[43m    \u001b[49m\u001b[38;5;124;43m\"\u001b[39;49m\u001b[38;5;124;43mastype\u001b[39;49m\u001b[38;5;124;43m\"\u001b[39;49m\u001b[43m,\u001b[49m\n\u001b[0;32m    432\u001b[0m \u001b[43m    \u001b[49m\u001b[43mdtype\u001b[49m\u001b[38;5;241;43m=\u001b[39;49m\u001b[43mdtype\u001b[49m\u001b[43m,\u001b[49m\n\u001b[0;32m    433\u001b[0m \u001b[43m    \u001b[49m\u001b[43mcopy\u001b[49m\u001b[38;5;241;43m=\u001b[39;49m\u001b[43mcopy\u001b[49m\u001b[43m,\u001b[49m\n\u001b[0;32m    434\u001b[0m \u001b[43m    \u001b[49m\u001b[43merrors\u001b[49m\u001b[38;5;241;43m=\u001b[39;49m\u001b[43merrors\u001b[49m\u001b[43m,\u001b[49m\n\u001b[0;32m    435\u001b[0m \u001b[43m    \u001b[49m\u001b[43musing_cow\u001b[49m\u001b[38;5;241;43m=\u001b[39;49m\u001b[43musing_copy_on_write\u001b[49m\u001b[43m(\u001b[49m\u001b[43m)\u001b[49m\u001b[43m,\u001b[49m\n\u001b[0;32m    436\u001b[0m \u001b[43m\u001b[49m\u001b[43m)\u001b[49m\n",
      "File \u001b[1;32mc:\\Users\\nsedoff\\AppData\\Local\\Programs\\Python\\Python312\\Lib\\site-packages\\pandas\\core\\internals\\managers.py:363\u001b[0m, in \u001b[0;36mBaseBlockManager.apply\u001b[1;34m(self, f, align_keys, **kwargs)\u001b[0m\n\u001b[0;32m    361\u001b[0m         applied \u001b[38;5;241m=\u001b[39m b\u001b[38;5;241m.\u001b[39mapply(f, \u001b[38;5;241m*\u001b[39m\u001b[38;5;241m*\u001b[39mkwargs)\n\u001b[0;32m    362\u001b[0m     \u001b[38;5;28;01melse\u001b[39;00m:\n\u001b[1;32m--> 363\u001b[0m         applied \u001b[38;5;241m=\u001b[39m \u001b[38;5;28;43mgetattr\u001b[39;49m\u001b[43m(\u001b[49m\u001b[43mb\u001b[49m\u001b[43m,\u001b[49m\u001b[43m \u001b[49m\u001b[43mf\u001b[49m\u001b[43m)\u001b[49m\u001b[43m(\u001b[49m\u001b[38;5;241;43m*\u001b[39;49m\u001b[38;5;241;43m*\u001b[39;49m\u001b[43mkwargs\u001b[49m\u001b[43m)\u001b[49m\n\u001b[0;32m    364\u001b[0m     result_blocks \u001b[38;5;241m=\u001b[39m extend_blocks(applied, result_blocks)\n\u001b[0;32m    366\u001b[0m out \u001b[38;5;241m=\u001b[39m \u001b[38;5;28mtype\u001b[39m(\u001b[38;5;28mself\u001b[39m)\u001b[38;5;241m.\u001b[39mfrom_blocks(result_blocks, \u001b[38;5;28mself\u001b[39m\u001b[38;5;241m.\u001b[39maxes)\n",
      "File \u001b[1;32mc:\\Users\\nsedoff\\AppData\\Local\\Programs\\Python\\Python312\\Lib\\site-packages\\pandas\\core\\internals\\blocks.py:758\u001b[0m, in \u001b[0;36mBlock.astype\u001b[1;34m(self, dtype, copy, errors, using_cow, squeeze)\u001b[0m\n\u001b[0;32m    755\u001b[0m         \u001b[38;5;28;01mraise\u001b[39;00m \u001b[38;5;167;01mValueError\u001b[39;00m(\u001b[38;5;124m\"\u001b[39m\u001b[38;5;124mCan not squeeze with more than one column.\u001b[39m\u001b[38;5;124m\"\u001b[39m)\n\u001b[0;32m    756\u001b[0m     values \u001b[38;5;241m=\u001b[39m values[\u001b[38;5;241m0\u001b[39m, :]  \u001b[38;5;66;03m# type: ignore[call-overload]\u001b[39;00m\n\u001b[1;32m--> 758\u001b[0m new_values \u001b[38;5;241m=\u001b[39m \u001b[43mastype_array_safe\u001b[49m\u001b[43m(\u001b[49m\u001b[43mvalues\u001b[49m\u001b[43m,\u001b[49m\u001b[43m \u001b[49m\u001b[43mdtype\u001b[49m\u001b[43m,\u001b[49m\u001b[43m \u001b[49m\u001b[43mcopy\u001b[49m\u001b[38;5;241;43m=\u001b[39;49m\u001b[43mcopy\u001b[49m\u001b[43m,\u001b[49m\u001b[43m \u001b[49m\u001b[43merrors\u001b[49m\u001b[38;5;241;43m=\u001b[39;49m\u001b[43merrors\u001b[49m\u001b[43m)\u001b[49m\n\u001b[0;32m    760\u001b[0m new_values \u001b[38;5;241m=\u001b[39m maybe_coerce_values(new_values)\n\u001b[0;32m    762\u001b[0m refs \u001b[38;5;241m=\u001b[39m \u001b[38;5;28;01mNone\u001b[39;00m\n",
      "File \u001b[1;32mc:\\Users\\nsedoff\\AppData\\Local\\Programs\\Python\\Python312\\Lib\\site-packages\\pandas\\core\\dtypes\\astype.py:237\u001b[0m, in \u001b[0;36mastype_array_safe\u001b[1;34m(values, dtype, copy, errors)\u001b[0m\n\u001b[0;32m    234\u001b[0m     dtype \u001b[38;5;241m=\u001b[39m dtype\u001b[38;5;241m.\u001b[39mnumpy_dtype\n\u001b[0;32m    236\u001b[0m \u001b[38;5;28;01mtry\u001b[39;00m:\n\u001b[1;32m--> 237\u001b[0m     new_values \u001b[38;5;241m=\u001b[39m \u001b[43mastype_array\u001b[49m\u001b[43m(\u001b[49m\u001b[43mvalues\u001b[49m\u001b[43m,\u001b[49m\u001b[43m \u001b[49m\u001b[43mdtype\u001b[49m\u001b[43m,\u001b[49m\u001b[43m \u001b[49m\u001b[43mcopy\u001b[49m\u001b[38;5;241;43m=\u001b[39;49m\u001b[43mcopy\u001b[49m\u001b[43m)\u001b[49m\n\u001b[0;32m    238\u001b[0m \u001b[38;5;28;01mexcept\u001b[39;00m (\u001b[38;5;167;01mValueError\u001b[39;00m, \u001b[38;5;167;01mTypeError\u001b[39;00m):\n\u001b[0;32m    239\u001b[0m     \u001b[38;5;66;03m# e.g. _astype_nansafe can fail on object-dtype of strings\u001b[39;00m\n\u001b[0;32m    240\u001b[0m     \u001b[38;5;66;03m#  trying to convert to float\u001b[39;00m\n\u001b[0;32m    241\u001b[0m     \u001b[38;5;28;01mif\u001b[39;00m errors \u001b[38;5;241m==\u001b[39m \u001b[38;5;124m\"\u001b[39m\u001b[38;5;124mignore\u001b[39m\u001b[38;5;124m\"\u001b[39m:\n",
      "File \u001b[1;32mc:\\Users\\nsedoff\\AppData\\Local\\Programs\\Python\\Python312\\Lib\\site-packages\\pandas\\core\\dtypes\\astype.py:182\u001b[0m, in \u001b[0;36mastype_array\u001b[1;34m(values, dtype, copy)\u001b[0m\n\u001b[0;32m    179\u001b[0m     values \u001b[38;5;241m=\u001b[39m values\u001b[38;5;241m.\u001b[39mastype(dtype, copy\u001b[38;5;241m=\u001b[39mcopy)\n\u001b[0;32m    181\u001b[0m \u001b[38;5;28;01melse\u001b[39;00m:\n\u001b[1;32m--> 182\u001b[0m     values \u001b[38;5;241m=\u001b[39m \u001b[43m_astype_nansafe\u001b[49m\u001b[43m(\u001b[49m\u001b[43mvalues\u001b[49m\u001b[43m,\u001b[49m\u001b[43m \u001b[49m\u001b[43mdtype\u001b[49m\u001b[43m,\u001b[49m\u001b[43m \u001b[49m\u001b[43mcopy\u001b[49m\u001b[38;5;241;43m=\u001b[39;49m\u001b[43mcopy\u001b[49m\u001b[43m)\u001b[49m\n\u001b[0;32m    184\u001b[0m \u001b[38;5;66;03m# in pandas we don't store numpy str dtypes, so convert to object\u001b[39;00m\n\u001b[0;32m    185\u001b[0m \u001b[38;5;28;01mif\u001b[39;00m \u001b[38;5;28misinstance\u001b[39m(dtype, np\u001b[38;5;241m.\u001b[39mdtype) \u001b[38;5;129;01mand\u001b[39;00m \u001b[38;5;28missubclass\u001b[39m(values\u001b[38;5;241m.\u001b[39mdtype\u001b[38;5;241m.\u001b[39mtype, \u001b[38;5;28mstr\u001b[39m):\n",
      "File \u001b[1;32mc:\\Users\\nsedoff\\AppData\\Local\\Programs\\Python\\Python312\\Lib\\site-packages\\pandas\\core\\dtypes\\astype.py:133\u001b[0m, in \u001b[0;36m_astype_nansafe\u001b[1;34m(arr, dtype, copy, skipna)\u001b[0m\n\u001b[0;32m    129\u001b[0m     \u001b[38;5;28;01mraise\u001b[39;00m \u001b[38;5;167;01mValueError\u001b[39;00m(msg)\n\u001b[0;32m    131\u001b[0m \u001b[38;5;28;01mif\u001b[39;00m copy \u001b[38;5;129;01mor\u001b[39;00m arr\u001b[38;5;241m.\u001b[39mdtype \u001b[38;5;241m==\u001b[39m \u001b[38;5;28mobject\u001b[39m \u001b[38;5;129;01mor\u001b[39;00m dtype \u001b[38;5;241m==\u001b[39m \u001b[38;5;28mobject\u001b[39m:\n\u001b[0;32m    132\u001b[0m     \u001b[38;5;66;03m# Explicit copy, or required since NumPy can't view from / to object.\u001b[39;00m\n\u001b[1;32m--> 133\u001b[0m     \u001b[38;5;28;01mreturn\u001b[39;00m \u001b[43marr\u001b[49m\u001b[38;5;241;43m.\u001b[39;49m\u001b[43mastype\u001b[49m\u001b[43m(\u001b[49m\u001b[43mdtype\u001b[49m\u001b[43m,\u001b[49m\u001b[43m \u001b[49m\u001b[43mcopy\u001b[49m\u001b[38;5;241;43m=\u001b[39;49m\u001b[38;5;28;43;01mTrue\u001b[39;49;00m\u001b[43m)\u001b[49m\n\u001b[0;32m    135\u001b[0m \u001b[38;5;28;01mreturn\u001b[39;00m arr\u001b[38;5;241m.\u001b[39mastype(dtype, copy\u001b[38;5;241m=\u001b[39mcopy)\n",
      "\u001b[1;31mValueError\u001b[0m: invalid literal for int() with base 10: 'Unnamed: 1'"
     ]
    }
   ],
   "source": [
    "vrp_data_cleaned = vrp_data.iloc[1:, :].rename(columns={vrp_data.columns[0]: 'Indicator'}).reset_index(drop=True)\n",
    "\n",
    "# Фильтруем данные по нужному показателю\n",
    "vrp_data_filtered = vrp_data_cleaned[vrp_data_cleaned['Indicator'] == 'Валовой региональный продукт (в текущих основных ценах), млн. рублей']\n",
    "vrp_data_filtered = vrp_data_filtered.melt(id_vars=['Indicator'], var_name='Year', value_name='VRP')\n",
    "\n",
    "# Удалим лишние строки и преобразуем тип данных\n",
    "vrp_data_filtered = vrp_data_filtered.drop(columns=['Indicator'])\n",
    "vrp_data_filtered['Year'] = vrp_data_filtered['Year'].astype(int)\n",
    "vrp_data_filtered['VRP'] = vrp_data_filtered['VRP'].astype(float)\n",
    "vrp_data_filtered['Region'] = 'Приморский край'"
   ]
  },
  {
   "cell_type": "code",
   "execution_count": 40,
   "metadata": {},
   "outputs": [
    {
     "name": "stdout",
     "output_type": "stream",
     "text": [
      "    Содержание:                                         Unnamed: 1\n",
      "0           NaN                                                NaN\n",
      "1           1.0  Производство валового регионального продукта п...\n",
      "2           2.0  Производство валового регионального продукта п...\n",
      "3           3.0  Индекс физического объема валового регионально...\n",
      "4           4.0  Индекс физического объема валового регионально...\n",
      "5           5.0    Справочная информация о последующих публикациях\n",
      "6           NaN                                                NaN\n",
      "7           NaN                         Ответственный исполнитель:\n",
      "8           NaN                           Фёдорова Алена Борисовна\n",
      "9           NaN                                   8(423) 243-23-87\n",
      "10          NaN                                                NaN\n",
      "11          NaN                           Обновлено:  02.05.2024г.\n"
     ]
    }
   ],
   "source": [
    "print(vrp_data)"
   ]
  },
  {
   "cell_type": "code",
   "execution_count": 25,
   "metadata": {},
   "outputs": [],
   "source": [
    "bezrab_data_cleaned.rename(columns={'Region': 'region'}, inplace=True)\n",
    "invest_data_cleaned.rename(columns={'Region': 'region'}, inplace=True)\n",
    "nasel_data_cleaned.rename(columns={'Region': 'region'}, inplace=True)\n",
    "vrp_data_cleaned.rename(columns={'Region': 'region'}, inplace=True)"
   ]
  },
  {
   "cell_type": "code",
   "execution_count": 26,
   "metadata": {},
   "outputs": [],
   "source": [
    "merged_data = pd.merge(bezrab_data_cleaned, invest_data_cleaned, on=['region', 'Year'], how='outer')\n",
    "merged_data = pd.merge(merged_data, nasel_data_cleaned, on=['region', 'Year'], how='outer')\n",
    "merged_data = pd.merge(merged_data, vrp_data_cleaned, on=['region', 'Year'], how='outer')\n"
   ]
  },
  {
   "cell_type": "code",
   "execution_count": 27,
   "metadata": {},
   "outputs": [
    {
     "ename": "ModuleNotFoundError",
     "evalue": "No module named 'ace_tools'",
     "output_type": "error",
     "traceback": [
      "\u001b[1;31m---------------------------------------------------------------------------\u001b[0m",
      "\u001b[1;31mModuleNotFoundError\u001b[0m                       Traceback (most recent call last)",
      "Cell \u001b[1;32mIn[27], line 1\u001b[0m\n\u001b[1;32m----> 1\u001b[0m \u001b[38;5;28;01mimport\u001b[39;00m \u001b[38;5;21;01mace_tools\u001b[39;00m \u001b[38;5;28;01mas\u001b[39;00m \u001b[38;5;21;01mtools\u001b[39;00m; tools\u001b[38;5;241m.\u001b[39mdisplay_dataframe_to_user(name\u001b[38;5;241m=\u001b[39m\u001b[38;5;124m\"\u001b[39m\u001b[38;5;124mMerged Data\u001b[39m\u001b[38;5;124m\"\u001b[39m, dataframe\u001b[38;5;241m=\u001b[39mmerged_data)\n",
      "\u001b[1;31mModuleNotFoundError\u001b[0m: No module named 'ace_tools'"
     ]
    }
   ],
   "source": [
    "import ace_tools as tools; tools.display_dataframe_to_user(name=\"Merged Data\", dataframe=merged_data)\n",
    "\n"
   ]
  },
  {
   "cell_type": "code",
   "execution_count": 28,
   "metadata": {},
   "outputs": [
    {
     "name": "stdout",
     "output_type": "stream",
     "text": [
      "                                              region  Year Unemployment  \\\n",
      "0     1) Без субъектов малого предпринимательства...  2005          NaN   \n",
      "1     1) Без субъектов малого предпринимательства...  2006          NaN   \n",
      "2     1) Без субъектов малого предпринимательства...  2007          NaN   \n",
      "3     1) Без субъектов малого предпринимательства...  2008          NaN   \n",
      "4     1) Без субъектов малого предпринимательства...  2009          NaN   \n",
      "\n",
      "  Investment Population  VRP  \n",
      "0        NaN        NaN  NaN  \n",
      "1        NaN        NaN  NaN  \n",
      "2        NaN        NaN  NaN  \n",
      "3        NaN        NaN  NaN  \n",
      "4        NaN        NaN  NaN  \n"
     ]
    }
   ],
   "source": [
    "print(merged_data.head())"
   ]
  }
 ],
 "metadata": {
  "kernelspec": {
   "display_name": "Python 3",
   "language": "python",
   "name": "python3"
  },
  "language_info": {
   "codemirror_mode": {
    "name": "ipython",
    "version": 3
   },
   "file_extension": ".py",
   "mimetype": "text/x-python",
   "name": "python",
   "nbconvert_exporter": "python",
   "pygments_lexer": "ipython3",
   "version": "3.12.3"
  }
 },
 "nbformat": 4,
 "nbformat_minor": 2
}
