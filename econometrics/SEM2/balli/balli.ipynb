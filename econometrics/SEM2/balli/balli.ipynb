{
 "cells": [
  {
   "cell_type": "code",
   "execution_count": 1,
   "metadata": {},
   "outputs": [],
   "source": [
    "import pandas as pd\n",
    "import statsmodels.api as sm\n",
    "from linearmodels.panel import PanelOLS"
   ]
  },
  {
   "cell_type": "code",
   "execution_count": 5,
   "metadata": {},
   "outputs": [],
   "source": [
    "vrp_data = pd.read_excel('C:\\\\Users\\\\sedof\\\\Documents\\\\VSCODE_DOCS\\\\ITiABD-PM22-7-Nikolay-Sedov\\\\econometrics\\\\SEM2\\\\balli\\\\data\\\\vrp.xlsx')\n",
    "population_data = pd.read_excel('C:\\\\Users\\\\sedof\\\\Documents\\\\VSCODE_DOCS\\\\ITiABD-PM22-7-Nikolay-Sedov\\\\econometrics\\\\SEM2\\\\balli\\\\data\\\\nasel.xlsx')\n",
    "unemployment_data = pd.read_excel('C:\\\\Users\\\\sedof\\\\Documents\\\\VSCODE_DOCS\\\\ITiABD-PM22-7-Nikolay-Sedov\\\\econometrics\\\\SEM2\\\\balli\\\\data\\\\bezrab.xlsx')\n",
    "investments_data = pd.read_excel('C:\\\\Users\\\\sedof\\\\Documents\\\\VSCODE_DOCS\\\\ITiABD-PM22-7-Nikolay-Sedov\\\\econometrics\\\\SEM2\\\\balli\\\\data\\\\invest.xlsx')"
   ]
  }
 ],
 "metadata": {
  "kernelspec": {
   "display_name": "Python 3",
   "language": "python",
   "name": "python3"
  },
  "language_info": {
   "codemirror_mode": {
    "name": "ipython",
    "version": 3
   },
   "file_extension": ".py",
   "mimetype": "text/x-python",
   "name": "python",
   "nbconvert_exporter": "python",
   "pygments_lexer": "ipython3",
   "version": "3.12.3"
  }
 },
 "nbformat": 4,
 "nbformat_minor": 2
}
