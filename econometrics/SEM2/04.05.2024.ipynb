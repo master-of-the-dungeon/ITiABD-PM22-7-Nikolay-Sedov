{
 "cells": [
  {
   "cell_type": "code",
   "execution_count": 22,
   "metadata": {},
   "outputs": [],
   "source": [
    "import pandas as pd\n",
    "import statsmodels.api as sm\n",
    "from statsmodels.regression.linear_model import OLS\n",
    "from statsmodels.iolib.summary2 import summary_col\n",
    "from statsmodels.regression.recursive_ls import RecursiveLS\n",
    "from linearmodels.system import SUR"
   ]
  },
  {
   "cell_type": "code",
   "execution_count": 7,
   "metadata": {},
   "outputs": [],
   "source": [
    "data_path = 'sber_vtb.csv'\n",
    "data = pd.read_csv(data_path, sep=';')"
   ]
  },
  {
   "cell_type": "code",
   "execution_count": 11,
   "metadata": {},
   "outputs": [
    {
     "name": "stdout",
     "output_type": "stream",
     "text": [
      "Проверка данных на наличие NaN и Inf:\n",
      "DATE    116\n",
      "SBER    116\n",
      "VTB     116\n",
      "USD     116\n",
      "dtype: int64\n",
      "DATE    0\n",
      "SBER    0\n",
      "VTB     0\n",
      "USD     0\n",
      "dtype: int64\n"
     ]
    }
   ],
   "source": [
    "print(\"Проверка данных на наличие NaN и Inf:\")\n",
    "print(data.isna().sum())  # Подсчет NaN\n",
    "print((data == float('inf')).sum())"
   ]
  },
  {
   "cell_type": "code",
   "execution_count": 13,
   "metadata": {},
   "outputs": [
    {
     "name": "stdout",
     "output_type": "stream",
     "text": [
      "Названия столбцов в данных:\n",
      "Index(['DATE', 'SBER', 'VTB', 'USD'], dtype='object')\n"
     ]
    }
   ],
   "source": [
    "print(\"Названия столбцов в данных:\")\n",
    "print(data.columns)"
   ]
  },
  {
   "cell_type": "code",
   "execution_count": 9,
   "metadata": {},
   "outputs": [
    {
     "name": "stdout",
     "output_type": "stream",
     "text": [
      "Первые строки данных:\n",
      "         DATE    SBER       VTB      USD\n",
      "0  08.01.2024  276.76  0.024855  91.4530\n",
      "1  07.01.2024  273.62  0.024000  91.1236\n",
      "2  06.01.2024  273.62  0.024000  93.0656\n",
      "3  05.01.2024  273.62  0.024000  93.4587\n",
      "4  04.01.2024  274.12  0.023110  93.1617\n"
     ]
    }
   ],
   "source": [
    "print(\"Первые строки данных:\")\n",
    "print(data.head())"
   ]
  },
  {
   "cell_type": "code",
   "execution_count": 14,
   "metadata": {},
   "outputs": [
    {
     "name": "stderr",
     "output_type": "stream",
     "text": [
      "C:\\Users\\sedof\\AppData\\Local\\Temp\\ipykernel_10176\\2866031220.py:1: FutureWarning: DataFrame.fillna with 'method' is deprecated and will raise in a future version. Use obj.ffill() or obj.bfill() instead.\n",
      "  data.fillna(method='ffill', inplace=True)\n"
     ]
    }
   ],
   "source": [
    "data.fillna(method='ffill', inplace=True)"
   ]
  },
  {
   "cell_type": "code",
   "execution_count": 15,
   "metadata": {},
   "outputs": [],
   "source": [
    "Y1 = data['SBER']\n",
    "X1 = data['VTB']\n",
    "model1 = OLS(Y1, X1).fit()"
   ]
  },
  {
   "cell_type": "code",
   "execution_count": 16,
   "metadata": {},
   "outputs": [],
   "source": [
    "Y2 = data['VTB']\n",
    "X2 = data['USD']\n",
    "model2 = OLS(Y2, X2).fit()"
   ]
  },
  {
   "cell_type": "code",
   "execution_count": 17,
   "metadata": {},
   "outputs": [
    {
     "name": "stdout",
     "output_type": "stream",
     "text": [
      "Результаты оценки модели для SBER (Y1t):\n",
      "                                 OLS Regression Results                                \n",
      "=======================================================================================\n",
      "Dep. Variable:                   SBER   R-squared (uncentered):                   0.957\n",
      "Model:                            OLS   Adj. R-squared (uncentered):              0.957\n",
      "Method:                 Least Squares   F-statistic:                          1.619e+04\n",
      "Date:                Sat, 04 May 2024   Prob (F-statistic):                        0.00\n",
      "Time:                        11:07:37   Log-Likelihood:                         -3728.2\n",
      "No. Observations:                 731   AIC:                                      7458.\n",
      "Df Residuals:                     730   BIC:                                      7463.\n",
      "Df Model:                           1                                                  \n",
      "Covariance Type:            nonrobust                                                  \n",
      "==============================================================================\n",
      "                 coef    std err          t      P>|t|      [0.025      0.975]\n",
      "------------------------------------------------------------------------------\n",
      "VTB         9093.3889     71.470    127.234      0.000    8953.078    9233.700\n",
      "==============================================================================\n",
      "Omnibus:                     7929.095   Durbin-Watson:                   0.004\n",
      "Prob(Omnibus):                  0.000   Jarque-Bera (JB):               64.775\n",
      "Skew:                           0.123   Prob(JB):                     8.60e-15\n",
      "Kurtosis:                       1.562   Cond. No.                         1.00\n",
      "==============================================================================\n",
      "\n",
      "Notes:\n",
      "[1] R² is computed without centering (uncentered) since the model does not contain a constant.\n",
      "[2] Standard Errors assume that the covariance matrix of the errors is correctly specified.\n"
     ]
    }
   ],
   "source": [
    "print(\"Результаты оценки модели для SBER (Y1t):\")\n",
    "print(model1.summary())"
   ]
  },
  {
   "cell_type": "code",
   "execution_count": 18,
   "metadata": {},
   "outputs": [
    {
     "name": "stdout",
     "output_type": "stream",
     "text": [
      "Результаты оценки модели для VTB (Y2t):\n",
      "                                 OLS Regression Results                                \n",
      "=======================================================================================\n",
      "Dep. Variable:                    VTB   R-squared (uncentered):                   0.984\n",
      "Model:                            OLS   Adj. R-squared (uncentered):              0.984\n",
      "Method:                 Least Squares   F-statistic:                          4.621e+04\n",
      "Date:                Sat, 04 May 2024   Prob (F-statistic):                        0.00\n",
      "Time:                        11:07:40   Log-Likelihood:                          3324.2\n",
      "No. Observations:                 731   AIC:                                     -6646.\n",
      "Df Residuals:                     730   BIC:                                     -6642.\n",
      "Df Model:                           1                                                  \n",
      "Covariance Type:            nonrobust                                                  \n",
      "==============================================================================\n",
      "                 coef    std err          t      P>|t|      [0.025      0.975]\n",
      "------------------------------------------------------------------------------\n",
      "USD            0.0003   1.22e-06    214.965      0.000       0.000       0.000\n",
      "==============================================================================\n",
      "Omnibus:                      155.733   Durbin-Watson:                   0.029\n",
      "Prob(Omnibus):                  0.000   Jarque-Bera (JB):               33.741\n",
      "Skew:                          -0.164   Prob(JB):                     4.71e-08\n",
      "Kurtosis:                       2.000   Cond. No.                         1.00\n",
      "==============================================================================\n",
      "\n",
      "Notes:\n",
      "[1] R² is computed without centering (uncentered) since the model does not contain a constant.\n",
      "[2] Standard Errors assume that the covariance matrix of the errors is correctly specified.\n"
     ]
    }
   ],
   "source": [
    "\n",
    "print(\"Результаты оценки модели для VTB (Y2t):\")\n",
    "print(model2.summary())"
   ]
  },
  {
   "cell_type": "code",
   "execution_count": 24,
   "metadata": {},
   "outputs": [],
   "source": [
    "eq1 = {'dependent': data['SBER'], 'exog': sm.add_constant(data['VTB'], has_constant='add')}\n",
    "eq2 = {'dependent': data['VTB'], 'exog': sm.add_constant(data['USD'], has_constant='add')}\n"
   ]
  },
  {
   "cell_type": "code",
   "execution_count": 26,
   "metadata": {},
   "outputs": [
    {
     "name": "stdout",
     "output_type": "stream",
     "text": [
      "Результаты оценки SUR модели:\n"
     ]
    },
    {
     "ename": "TypeError",
     "evalue": "'Summary' object is not callable",
     "output_type": "error",
     "traceback": [
      "\u001b[1;31m---------------------------------------------------------------------------\u001b[0m",
      "\u001b[1;31mTypeError\u001b[0m                                 Traceback (most recent call last)",
      "Cell \u001b[1;32mIn[26], line 9\u001b[0m\n\u001b[0;32m      7\u001b[0m \u001b[38;5;66;03m# Вывод результатов оценки модели\u001b[39;00m\n\u001b[0;32m      8\u001b[0m \u001b[38;5;28mprint\u001b[39m(\u001b[38;5;124m\"\u001b[39m\u001b[38;5;124mРезультаты оценки SUR модели:\u001b[39m\u001b[38;5;124m\"\u001b[39m)\n\u001b[1;32m----> 9\u001b[0m \u001b[38;5;28mprint\u001b[39m(\u001b[43msur_results\u001b[49m\u001b[38;5;241;43m.\u001b[39;49m\u001b[43msummary\u001b[49m\u001b[43m(\u001b[49m\u001b[43m)\u001b[49m)\n",
      "\u001b[1;31mTypeError\u001b[0m: 'Summary' object is not callable"
     ]
    }
   ],
   "source": [
    "equations = {'SBER': eq1, 'VTB': eq2}\n",
    "sur = SUR(equations)\n",
    "\n",
    "# Оценка модели\n",
    "sur_results = sur.fit()\n",
    "\n",
    "# Вывод результатов оценки модели\n",
    "print(\"Результаты оценки SUR модели:\")\n",
    "print(sur_results.summary())"
   ]
  },
  {
   "cell_type": "code",
   "execution_count": null,
   "metadata": {},
   "outputs": [],
   "source": []
  }
 ],
 "metadata": {
  "kernelspec": {
   "display_name": "Python 3",
   "language": "python",
   "name": "python3"
  },
  "language_info": {
   "codemirror_mode": {
    "name": "ipython",
    "version": 3
   },
   "file_extension": ".py",
   "mimetype": "text/x-python",
   "name": "python",
   "nbconvert_exporter": "python",
   "pygments_lexer": "ipython3",
   "version": "3.12.1"
  }
 },
 "nbformat": 4,
 "nbformat_minor": 2
}
