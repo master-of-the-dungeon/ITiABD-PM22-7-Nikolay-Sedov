{
 "cells": [
  {
   "cell_type": "code",
   "execution_count": 1,
   "id": "a78f6565",
   "metadata": {},
   "outputs": [
    {
     "name": "stdout",
     "output_type": "stream",
     "text": [
      "Requirement already satisfied: py4etrics in c:\\users\\public\\anaconda3\\lib\\site-packages (0.1.9)\n"
     ]
    }
   ],
   "source": [
    "!pip install py4etrics"
   ]
  },
  {
   "cell_type": "code",
   "execution_count": 2,
   "id": "ce115b5f",
   "metadata": {},
   "outputs": [],
   "source": [
    "import numpy as np #\n",
    "import pandas as pd \n",
    "\n",
    "import matplotlib.pyplot as plt\n",
    "import seaborn as sns\n",
    "\n",
    "import warnings\n",
    "warnings.filterwarnings(\"ignore\")\n",
    "\n",
    "from sklearn.model_selection import train_test_split\n",
    "\n",
    "import statsmodels.api as sm\n",
    "from sklearn.preprocessing import StandardScaler\n",
    "\n",
    "from sklearn.metrics import f1_score,  accuracy_score\n",
    "\n",
    "from py4etrics.heckit import Heckit\n",
    "from py4etrics.tobit import Tobit"
   ]
  },
  {
   "cell_type": "markdown",
   "id": "544e1801",
   "metadata": {},
   "source": [
    "### Загрузка данных"
   ]
  },
  {
   "cell_type": "code",
   "execution_count": 3,
   "id": "f1b05c0a",
   "metadata": {},
   "outputs": [],
   "source": [
    "df = pd.read_csv(\"apple_quality.csv\")"
   ]
  },
  {
   "cell_type": "code",
   "execution_count": 4,
   "id": "4565e36a",
   "metadata": {},
   "outputs": [
    {
     "data": {
      "text/html": [
       "<div>\n",
       "<style scoped>\n",
       "    .dataframe tbody tr th:only-of-type {\n",
       "        vertical-align: middle;\n",
       "    }\n",
       "\n",
       "    .dataframe tbody tr th {\n",
       "        vertical-align: top;\n",
       "    }\n",
       "\n",
       "    .dataframe thead th {\n",
       "        text-align: right;\n",
       "    }\n",
       "</style>\n",
       "<table border=\"1\" class=\"dataframe\">\n",
       "  <thead>\n",
       "    <tr style=\"text-align: right;\">\n",
       "      <th></th>\n",
       "      <th>A_id</th>\n",
       "      <th>Size</th>\n",
       "      <th>Weight</th>\n",
       "      <th>Sweetness</th>\n",
       "      <th>Crunchiness</th>\n",
       "      <th>Juiciness</th>\n",
       "      <th>Ripeness</th>\n",
       "      <th>Acidity</th>\n",
       "      <th>Quality</th>\n",
       "    </tr>\n",
       "  </thead>\n",
       "  <tbody>\n",
       "    <tr>\n",
       "      <th>0</th>\n",
       "      <td>0.0</td>\n",
       "      <td>-3.970049</td>\n",
       "      <td>-2.512336</td>\n",
       "      <td>5.346330</td>\n",
       "      <td>-1.012009</td>\n",
       "      <td>1.844900</td>\n",
       "      <td>0.329840</td>\n",
       "      <td>-0.491590483</td>\n",
       "      <td>good</td>\n",
       "    </tr>\n",
       "    <tr>\n",
       "      <th>1</th>\n",
       "      <td>1.0</td>\n",
       "      <td>-1.195217</td>\n",
       "      <td>-2.839257</td>\n",
       "      <td>3.664059</td>\n",
       "      <td>1.588232</td>\n",
       "      <td>0.853286</td>\n",
       "      <td>0.867530</td>\n",
       "      <td>-0.722809367</td>\n",
       "      <td>good</td>\n",
       "    </tr>\n",
       "    <tr>\n",
       "      <th>2</th>\n",
       "      <td>2.0</td>\n",
       "      <td>-0.292024</td>\n",
       "      <td>-1.351282</td>\n",
       "      <td>-1.738429</td>\n",
       "      <td>-0.342616</td>\n",
       "      <td>2.838636</td>\n",
       "      <td>-0.038033</td>\n",
       "      <td>2.621636473</td>\n",
       "      <td>bad</td>\n",
       "    </tr>\n",
       "    <tr>\n",
       "      <th>3</th>\n",
       "      <td>3.0</td>\n",
       "      <td>-0.657196</td>\n",
       "      <td>-2.271627</td>\n",
       "      <td>1.324874</td>\n",
       "      <td>-0.097875</td>\n",
       "      <td>3.637970</td>\n",
       "      <td>-3.413761</td>\n",
       "      <td>0.790723217</td>\n",
       "      <td>good</td>\n",
       "    </tr>\n",
       "    <tr>\n",
       "      <th>4</th>\n",
       "      <td>4.0</td>\n",
       "      <td>1.364217</td>\n",
       "      <td>-1.296612</td>\n",
       "      <td>-0.384658</td>\n",
       "      <td>-0.553006</td>\n",
       "      <td>3.030874</td>\n",
       "      <td>-1.303849</td>\n",
       "      <td>0.501984036</td>\n",
       "      <td>good</td>\n",
       "    </tr>\n",
       "  </tbody>\n",
       "</table>\n",
       "</div>"
      ],
      "text/plain": [
       "   A_id      Size    Weight  Sweetness  Crunchiness  Juiciness  Ripeness  \\\n",
       "0   0.0 -3.970049 -2.512336   5.346330    -1.012009   1.844900  0.329840   \n",
       "1   1.0 -1.195217 -2.839257   3.664059     1.588232   0.853286  0.867530   \n",
       "2   2.0 -0.292024 -1.351282  -1.738429    -0.342616   2.838636 -0.038033   \n",
       "3   3.0 -0.657196 -2.271627   1.324874    -0.097875   3.637970 -3.413761   \n",
       "4   4.0  1.364217 -1.296612  -0.384658    -0.553006   3.030874 -1.303849   \n",
       "\n",
       "        Acidity Quality  \n",
       "0  -0.491590483    good  \n",
       "1  -0.722809367    good  \n",
       "2   2.621636473     bad  \n",
       "3   0.790723217    good  \n",
       "4   0.501984036    good  "
      ]
     },
     "execution_count": 4,
     "metadata": {},
     "output_type": "execute_result"
    }
   ],
   "source": [
    "df.head()"
   ]
  },
  {
   "cell_type": "code",
   "execution_count": 5,
   "id": "4e3d887a",
   "metadata": {},
   "outputs": [
    {
     "name": "stdout",
     "output_type": "stream",
     "text": [
      "<class 'pandas.core.frame.DataFrame'>\n",
      "RangeIndex: 4001 entries, 0 to 4000\n",
      "Data columns (total 9 columns):\n",
      " #   Column       Non-Null Count  Dtype  \n",
      "---  ------       --------------  -----  \n",
      " 0   A_id         4000 non-null   float64\n",
      " 1   Size         4000 non-null   float64\n",
      " 2   Weight       4000 non-null   float64\n",
      " 3   Sweetness    4000 non-null   float64\n",
      " 4   Crunchiness  4000 non-null   float64\n",
      " 5   Juiciness    4000 non-null   float64\n",
      " 6   Ripeness     4000 non-null   float64\n",
      " 7   Acidity      4001 non-null   object \n",
      " 8   Quality      4000 non-null   object \n",
      "dtypes: float64(7), object(2)\n",
      "memory usage: 281.4+ KB\n"
     ]
    }
   ],
   "source": [
    "df.info()"
   ]
  },
  {
   "cell_type": "markdown",
   "id": "69b147eb",
   "metadata": {},
   "source": [
    "### Обработка недостающих значений в наборе данных"
   ]
  },
  {
   "cell_type": "code",
   "execution_count": 6,
   "id": "c1ebb135",
   "metadata": {},
   "outputs": [
    {
     "data": {
      "text/plain": [
       "A_id           1\n",
       "Size           1\n",
       "Weight         1\n",
       "Sweetness      1\n",
       "Crunchiness    1\n",
       "Juiciness      1\n",
       "Ripeness       1\n",
       "Acidity        0\n",
       "Quality        1\n",
       "dtype: int64"
      ]
     },
     "execution_count": 6,
     "metadata": {},
     "output_type": "execute_result"
    }
   ],
   "source": [
    "df.isna().sum()"
   ]
  },
  {
   "cell_type": "code",
   "execution_count": 7,
   "id": "c2262e5f",
   "metadata": {},
   "outputs": [
    {
     "data": {
      "text/plain": [
       "A_id           0\n",
       "Size           0\n",
       "Weight         0\n",
       "Sweetness      0\n",
       "Crunchiness    0\n",
       "Juiciness      0\n",
       "Ripeness       0\n",
       "Acidity        0\n",
       "Quality        0\n",
       "dtype: int64"
      ]
     },
     "execution_count": 7,
     "metadata": {},
     "output_type": "execute_result"
    }
   ],
   "source": [
    "df = df.dropna()\n",
    "df.isna().sum()"
   ]
  },
  {
   "cell_type": "code",
   "execution_count": 8,
   "id": "d067c613",
   "metadata": {},
   "outputs": [],
   "source": [
    "df['Acidity']=df['Acidity'].astype(float)\n",
    "df.drop('A_id',axis=1,inplace=True)"
   ]
  },
  {
   "cell_type": "markdown",
   "id": "bef7be6b",
   "metadata": {},
   "source": [
    "### Преобразование категориальных данных в числовую форму¶"
   ]
  },
  {
   "cell_type": "code",
   "execution_count": 9,
   "id": "9cf11e66",
   "metadata": {},
   "outputs": [],
   "source": [
    "df['Quality']=df['Quality'].replace({'good':1,'bad':0})"
   ]
  },
  {
   "cell_type": "code",
   "execution_count": 10,
   "id": "4308fa69",
   "metadata": {},
   "outputs": [
    {
     "data": {
      "image/png": "[encoded data removed]",
      "text/plain": [
       "<Figure size 576x360 with 1 Axes>"
      ]
     },
     "metadata": {
      "needs_background": "light"
     },
     "output_type": "display_data"
    }
   ],
   "source": [
    "percentage = df['Quality'].value_counts(normalize=True) * 100\n",
    "\n",
    "plt.figure(figsize=(8, 5))\n",
    "ax = sns.barplot(x=percentage.index, y=percentage, palette='Set1')\n",
    "plt.title('Percentage of good and bad quality')\n",
    "plt.xlabel('Quality')\n",
    "plt.ylabel('Percentage (%)')\n",
    "plt.xticks(ticks=[0, 1], labels=['good', 'bad'])\n",
    "plt.yticks(ticks=range(0,80,10))\n",
    "\n",
    "for i, p in enumerate(percentage):\n",
    "    ax.text(i, p + 0.5, f'{p:.2f}%', ha='center', va='bottom')\n",
    "\n",
    "plt.show()"
   ]
  },
  {
   "cell_type": "markdown",
   "id": "457b0f06",
   "metadata": {},
   "source": [
    "### Предварительная обработка данных"
   ]
  },
  {
   "cell_type": "code",
   "execution_count": 11,
   "id": "0e0595e2",
   "metadata": {},
   "outputs": [],
   "source": [
    "X=df.drop('Quality',axis=1)\n",
    "y=df['Quality']\n",
    "df1=df.copy()\n",
    "X1=X.copy()\n",
    "y1=y.copy()"
   ]
  },
  {
   "cell_type": "code",
   "execution_count": 12,
   "id": "3df0876f",
   "metadata": {},
   "outputs": [
    {
     "data": {
      "text/plain": [
       "<AxesSubplot:>"
      ]
     },
     "execution_count": 12,
     "metadata": {},
     "output_type": "execute_result"
    },
    {
     "data": {
      "image/png": "[encoded data removed]",
      "text/plain": [
       "<Figure size 432x288 with 1 Axes>"
      ]
     },
     "metadata": {
      "needs_background": "light"
     },
     "output_type": "display_data"
    }
   ],
   "source": [
    "df.boxplot()"
   ]
  },
  {
   "cell_type": "code",
   "execution_count": 13,
   "id": "31895aa8",
   "metadata": {},
   "outputs": [
    {
     "data": {
      "text/plain": [
       "<AxesSubplot:>"
      ]
     },
     "execution_count": 13,
     "metadata": {},
     "output_type": "execute_result"
    },
    {
     "data": {
      "image/png": "[encoded data removed]",
      "text/plain": [
       "<Figure size 720x576 with 2 Axes>"
      ]
     },
     "metadata": {
      "needs_background": "light"
     },
     "output_type": "display_data"
    }
   ],
   "source": [
    "plt.figure(figsize=(10, 8))\n",
    "sns.heatmap(df.corr(), annot = True)"
   ]
  },
  {
   "cell_type": "markdown",
   "id": "ebe03a81",
   "metadata": {},
   "source": [
    "мультиколлинеарность отсутствует"
   ]
  },
  {
   "cell_type": "markdown",
   "id": "dc344d61",
   "metadata": {},
   "source": [
    "### Построение моделей"
   ]
  },
  {
   "cell_type": "markdown",
   "id": "cf2169dd",
   "metadata": {},
   "source": [
    "## Logit"
   ]
  },
  {
   "cell_type": "code",
   "execution_count": 14,
   "id": "c721e326",
   "metadata": {},
   "outputs": [
    {
     "name": "stdout",
     "output_type": "stream",
     "text": [
      "Optimization terminated successfully.\n",
      "         Current function value: 0.514195\n",
      "         Iterations 6\n"
     ]
    },
    {
     "data": {
      "text/html": [
       "<table class=\"simpletable\">\n",
       "<caption>Logit Regression Results</caption>\n",
       "<tr>\n",
       "  <th>Dep. Variable:</th>        <td>Quality</td>     <th>  No. Observations:  </th>   <td>  4000</td>  \n",
       "</tr>\n",
       "<tr>\n",
       "  <th>Model:</th>                 <td>Logit</td>      <th>  Df Residuals:      </th>   <td>  3992</td>  \n",
       "</tr>\n",
       "<tr>\n",
       "  <th>Method:</th>                 <td>MLE</td>       <th>  Df Model:          </th>   <td>     7</td>  \n",
       "</tr>\n",
       "<tr>\n",
       "  <th>Date:</th>            <td>Fri, 08 Mar 2024</td> <th>  Pseudo R-squ.:     </th>   <td>0.2582</td>  \n",
       "</tr>\n",
       "<tr>\n",
       "  <th>Time:</th>                <td>21:04:00</td>     <th>  Log-Likelihood:    </th>  <td> -2056.8</td> \n",
       "</tr>\n",
       "<tr>\n",
       "  <th>converged:</th>             <td>True</td>       <th>  LL-Null:           </th>  <td> -2772.6</td> \n",
       "</tr>\n",
       "<tr>\n",
       "  <th>Covariance Type:</th>     <td>nonrobust</td>    <th>  LLR p-value:       </th> <td>5.599e-305</td>\n",
       "</tr>\n",
       "</table>\n",
       "<table class=\"simpletable\">\n",
       "<tr>\n",
       "       <td></td>          <th>coef</th>     <th>std err</th>      <th>z</th>      <th>P>|z|</th>  <th>[0.025</th>    <th>0.975]</th>  \n",
       "</tr>\n",
       "<tr>\n",
       "  <th>const</th>       <td>    0.6462</td> <td>    0.061</td> <td>   10.514</td> <td> 0.000</td> <td>    0.526</td> <td>    0.767</td>\n",
       "</tr>\n",
       "<tr>\n",
       "  <th>Size</th>        <td>    0.6495</td> <td>    0.028</td> <td>   22.993</td> <td> 0.000</td> <td>    0.594</td> <td>    0.705</td>\n",
       "</tr>\n",
       "<tr>\n",
       "  <th>Weight</th>      <td>    0.2667</td> <td>    0.028</td> <td>    9.399</td> <td> 0.000</td> <td>    0.211</td> <td>    0.322</td>\n",
       "</tr>\n",
       "<tr>\n",
       "  <th>Sweetness</th>   <td>    0.5688</td> <td>    0.027</td> <td>   20.938</td> <td> 0.000</td> <td>    0.516</td> <td>    0.622</td>\n",
       "</tr>\n",
       "<tr>\n",
       "  <th>Crunchiness</th> <td>    0.0346</td> <td>    0.030</td> <td>    1.143</td> <td> 0.253</td> <td>   -0.025</td> <td>    0.094</td>\n",
       "</tr>\n",
       "<tr>\n",
       "  <th>Juiciness</th>   <td>    0.4422</td> <td>    0.024</td> <td>   18.242</td> <td> 0.000</td> <td>    0.395</td> <td>    0.490</td>\n",
       "</tr>\n",
       "<tr>\n",
       "  <th>Ripeness</th>    <td>   -0.1267</td> <td>    0.025</td> <td>   -5.132</td> <td> 0.000</td> <td>   -0.175</td> <td>   -0.078</td>\n",
       "</tr>\n",
       "<tr>\n",
       "  <th>Acidity</th>     <td>   -0.2941</td> <td>    0.021</td> <td>  -13.697</td> <td> 0.000</td> <td>   -0.336</td> <td>   -0.252</td>\n",
       "</tr>\n",
       "</table>"
      ],
      "text/plain": [
       "<class 'statsmodels.iolib.summary.Summary'>\n",
       "\"\"\"\n",
       "                           Logit Regression Results                           \n",
       "==============================================================================\n",
       "Dep. Variable:                Quality   No. Observations:                 4000\n",
       "Model:                          Logit   Df Residuals:                     3992\n",
       "Method:                           MLE   Df Model:                            7\n",
       "Date:                Fri, 08 Mar 2024   Pseudo R-squ.:                  0.2582\n",
       "Time:                        21:04:00   Log-Likelihood:                -2056.8\n",
       "converged:                       True   LL-Null:                       -2772.6\n",
       "Covariance Type:            nonrobust   LLR p-value:                5.599e-305\n",
       "===============================================================================\n",
       "                  coef    std err          z      P>|z|      [0.025      0.975]\n",
       "-------------------------------------------------------------------------------\n",
       "const           0.6462      0.061     10.514      0.000       0.526       0.767\n",
       "Size            0.6495      0.028     22.993      0.000       0.594       0.705\n",
       "Weight          0.2667      0.028      9.399      0.000       0.211       0.322\n",
       "Sweetness       0.5688      0.027     20.938      0.000       0.516       0.622\n",
       "Crunchiness     0.0346      0.030      1.143      0.253      -0.025       0.094\n",
       "Juiciness       0.4422      0.024     18.242      0.000       0.395       0.490\n",
       "Ripeness       -0.1267      0.025     -5.132      0.000      -0.175      -0.078\n",
       "Acidity        -0.2941      0.021    -13.697      0.000      -0.336      -0.252\n",
       "===============================================================================\n",
       "\"\"\""
      ]
     },
     "execution_count": 14,
     "metadata": {},
     "output_type": "execute_result"
    }
   ],
   "source": [
    "logit = sm.Logit(y,sm.add_constant(X)).fit()\n",
    "logit.summary()"
   ]
  },
  {
   "cell_type": "markdown",
   "id": "f0d293f1",
   "metadata": {},
   "source": [
    "исключм незначимый фактор Crunchiness"
   ]
  },
  {
   "cell_type": "code",
   "execution_count": 15,
   "id": "7f1501d3",
   "metadata": {},
   "outputs": [
    {
     "name": "stdout",
     "output_type": "stream",
     "text": [
      "Optimization terminated successfully.\n",
      "         Current function value: 0.514358\n",
      "         Iterations 6\n"
     ]
    },
    {
     "data": {
      "text/html": [
       "<table class=\"simpletable\">\n",
       "<caption>Logit Regression Results</caption>\n",
       "<tr>\n",
       "  <th>Dep. Variable:</th>        <td>Quality</td>     <th>  No. Observations:  </th>   <td>  4000</td>  \n",
       "</tr>\n",
       "<tr>\n",
       "  <th>Model:</th>                 <td>Logit</td>      <th>  Df Residuals:      </th>   <td>  3993</td>  \n",
       "</tr>\n",
       "<tr>\n",
       "  <th>Method:</th>                 <td>MLE</td>       <th>  Df Model:          </th>   <td>     6</td>  \n",
       "</tr>\n",
       "<tr>\n",
       "  <th>Date:</th>            <td>Fri, 08 Mar 2024</td> <th>  Pseudo R-squ.:     </th>   <td>0.2579</td>  \n",
       "</tr>\n",
       "<tr>\n",
       "  <th>Time:</th>                <td>21:04:00</td>     <th>  Log-Likelihood:    </th>  <td> -2057.4</td> \n",
       "</tr>\n",
       "<tr>\n",
       "  <th>converged:</th>             <td>True</td>       <th>  LL-Null:           </th>  <td> -2772.6</td> \n",
       "</tr>\n",
       "<tr>\n",
       "  <th>Covariance Type:</th>     <td>nonrobust</td>    <th>  LLR p-value:       </th> <td>6.661e-306</td>\n",
       "</tr>\n",
       "</table>\n",
       "<table class=\"simpletable\">\n",
       "<tr>\n",
       "      <td></td>         <th>coef</th>     <th>std err</th>      <th>z</th>      <th>P>|z|</th>  <th>[0.025</th>    <th>0.975]</th>  \n",
       "</tr>\n",
       "<tr>\n",
       "  <th>const</th>     <td>    0.6816</td> <td>    0.053</td> <td>   12.789</td> <td> 0.000</td> <td>    0.577</td> <td>    0.786</td>\n",
       "</tr>\n",
       "<tr>\n",
       "  <th>Size</th>      <td>    0.6509</td> <td>    0.028</td> <td>   23.048</td> <td> 0.000</td> <td>    0.596</td> <td>    0.706</td>\n",
       "</tr>\n",
       "<tr>\n",
       "  <th>Weight</th>    <td>    0.2611</td> <td>    0.028</td> <td>    9.344</td> <td> 0.000</td> <td>    0.206</td> <td>    0.316</td>\n",
       "</tr>\n",
       "<tr>\n",
       "  <th>Sweetness</th> <td>    0.5655</td> <td>    0.027</td> <td>   20.956</td> <td> 0.000</td> <td>    0.513</td> <td>    0.618</td>\n",
       "</tr>\n",
       "<tr>\n",
       "  <th>Juiciness</th> <td>    0.4342</td> <td>    0.023</td> <td>   18.760</td> <td> 0.000</td> <td>    0.389</td> <td>    0.480</td>\n",
       "</tr>\n",
       "<tr>\n",
       "  <th>Ripeness</th>  <td>   -0.1344</td> <td>    0.024</td> <td>   -5.656</td> <td> 0.000</td> <td>   -0.181</td> <td>   -0.088</td>\n",
       "</tr>\n",
       "<tr>\n",
       "  <th>Acidity</th>   <td>   -0.2913</td> <td>    0.021</td> <td>  -13.667</td> <td> 0.000</td> <td>   -0.333</td> <td>   -0.250</td>\n",
       "</tr>\n",
       "</table>"
      ],
      "text/plain": [
       "<class 'statsmodels.iolib.summary.Summary'>\n",
       "\"\"\"\n",
       "                           Logit Regression Results                           \n",
       "==============================================================================\n",
       "Dep. Variable:                Quality   No. Observations:                 4000\n",
       "Model:                          Logit   Df Residuals:                     3993\n",
       "Method:                           MLE   Df Model:                            6\n",
       "Date:                Fri, 08 Mar 2024   Pseudo R-squ.:                  0.2579\n",
       "Time:                        21:04:00   Log-Likelihood:                -2057.4\n",
       "converged:                       True   LL-Null:                       -2772.6\n",
       "Covariance Type:            nonrobust   LLR p-value:                6.661e-306\n",
       "==============================================================================\n",
       "                 coef    std err          z      P>|z|      [0.025      0.975]\n",
       "------------------------------------------------------------------------------\n",
       "const          0.6816      0.053     12.789      0.000       0.577       0.786\n",
       "Size           0.6509      0.028     23.048      0.000       0.596       0.706\n",
       "Weight         0.2611      0.028      9.344      0.000       0.206       0.316\n",
       "Sweetness      0.5655      0.027     20.956      0.000       0.513       0.618\n",
       "Juiciness      0.4342      0.023     18.760      0.000       0.389       0.480\n",
       "Ripeness      -0.1344      0.024     -5.656      0.000      -0.181      -0.088\n",
       "Acidity       -0.2913      0.021    -13.667      0.000      -0.333      -0.250\n",
       "==============================================================================\n",
       "\"\"\""
      ]
     },
     "execution_count": 15,
     "metadata": {},
     "output_type": "execute_result"
    }
   ],
   "source": [
    "df = df.drop(['Crunchiness'], axis=1)\n",
    "X = df.drop(['Quality'], axis=1)\n",
    "y = df['Quality']\n",
    "logit = sm.Logit(y,sm.add_constant(X)).fit()\n",
    "logit.summary()"
   ]
  },
  {
   "cell_type": "markdown",
   "id": "b96d3a1d",
   "metadata": {},
   "source": [
    "получаем следующую модель со значимыми факторами:\n",
    "\n",
    "$Y^* = \\frac {1}{1+e ^{-(0.682+0.651Size+0.2611Weight+0.5655Sweetness+0.4342Juiciness-0.1344Ripeness-0.2913Acidity)}}$"
   ]
  },
  {
   "cell_type": "code",
   "execution_count": 16,
   "id": "a0b2b8e3",
   "metadata": {},
   "outputs": [],
   "source": [
    "y_pred=logit.predict()"
   ]
  },
  {
   "cell_type": "code",
   "execution_count": 17,
   "id": "43236644",
   "metadata": {},
   "outputs": [
    {
     "data": {
      "text/plain": [
       "array([1, 1, 0, ..., 0, 1, 1])"
      ]
     },
     "execution_count": 17,
     "metadata": {},
     "output_type": "execute_result"
    }
   ],
   "source": [
    "y_pred = np.where(y_pred<0.5,0,1)\n",
    "y_pred"
   ]
  },
  {
   "cell_type": "code",
   "execution_count": 18,
   "id": "a2566c82",
   "metadata": {},
   "outputs": [
    {
     "data": {
      "text/plain": [
       "0.7544763306352712"
      ]
     },
     "execution_count": 18,
     "metadata": {},
     "output_type": "execute_result"
    }
   ],
   "source": [
    "f1_score(y, y_pred)"
   ]
  },
  {
   "cell_type": "code",
   "execution_count": 19,
   "id": "2000c0b2",
   "metadata": {},
   "outputs": [
    {
     "data": {
      "text/plain": [
       "0.74975"
      ]
     },
     "execution_count": 19,
     "metadata": {},
     "output_type": "execute_result"
    }
   ],
   "source": [
    "accuracy_score(y, y_pred)"
   ]
  },
  {
   "cell_type": "markdown",
   "id": "12f68aff",
   "metadata": {},
   "source": [
    "модель показывает умеренные результаты метрик f1 и accuracy, что говорит о достаточно адекватной работе"
   ]
  },
  {
   "cell_type": "markdown",
   "id": "86907023",
   "metadata": {},
   "source": [
    "## Probit "
   ]
  },
  {
   "cell_type": "code",
   "execution_count": 20,
   "id": "bc349472",
   "metadata": {},
   "outputs": [
    {
     "name": "stdout",
     "output_type": "stream",
     "text": [
      "Optimization terminated successfully.\n",
      "         Current function value: 0.515075\n",
      "         Iterations 6\n"
     ]
    },
    {
     "data": {
      "text/html": [
       "<table class=\"simpletable\">\n",
       "<caption>Probit Regression Results</caption>\n",
       "<tr>\n",
       "  <th>Dep. Variable:</th>        <td>Quality</td>     <th>  No. Observations:  </th>   <td>  4000</td>  \n",
       "</tr>\n",
       "<tr>\n",
       "  <th>Model:</th>                <td>Probit</td>      <th>  Df Residuals:      </th>   <td>  3992</td>  \n",
       "</tr>\n",
       "<tr>\n",
       "  <th>Method:</th>                 <td>MLE</td>       <th>  Df Model:          </th>   <td>     7</td>  \n",
       "</tr>\n",
       "<tr>\n",
       "  <th>Date:</th>            <td>Fri, 08 Mar 2024</td> <th>  Pseudo R-squ.:     </th>   <td>0.2569</td>  \n",
       "</tr>\n",
       "<tr>\n",
       "  <th>Time:</th>                <td>21:04:00</td>     <th>  Log-Likelihood:    </th>  <td> -2060.3</td> \n",
       "</tr>\n",
       "<tr>\n",
       "  <th>converged:</th>             <td>True</td>       <th>  LL-Null:           </th>  <td> -2772.6</td> \n",
       "</tr>\n",
       "<tr>\n",
       "  <th>Covariance Type:</th>     <td>nonrobust</td>    <th>  LLR p-value:       </th> <td>1.874e-303</td>\n",
       "</tr>\n",
       "</table>\n",
       "<table class=\"simpletable\">\n",
       "<tr>\n",
       "       <td></td>          <th>coef</th>     <th>std err</th>      <th>z</th>      <th>P>|z|</th>  <th>[0.025</th>    <th>0.975]</th>  \n",
       "</tr>\n",
       "<tr>\n",
       "  <th>const</th>       <td>    0.3671</td> <td>    0.035</td> <td>   10.372</td> <td> 0.000</td> <td>    0.298</td> <td>    0.436</td>\n",
       "</tr>\n",
       "<tr>\n",
       "  <th>Size</th>        <td>    0.3774</td> <td>    0.016</td> <td>   24.067</td> <td> 0.000</td> <td>    0.347</td> <td>    0.408</td>\n",
       "</tr>\n",
       "<tr>\n",
       "  <th>Weight</th>      <td>    0.1524</td> <td>    0.016</td> <td>    9.297</td> <td> 0.000</td> <td>    0.120</td> <td>    0.184</td>\n",
       "</tr>\n",
       "<tr>\n",
       "  <th>Sweetness</th>   <td>    0.3307</td> <td>    0.015</td> <td>   21.769</td> <td> 0.000</td> <td>    0.301</td> <td>    0.361</td>\n",
       "</tr>\n",
       "<tr>\n",
       "  <th>Crunchiness</th> <td>    0.0218</td> <td>    0.018</td> <td>    1.218</td> <td> 0.223</td> <td>   -0.013</td> <td>    0.057</td>\n",
       "</tr>\n",
       "<tr>\n",
       "  <th>Juiciness</th>   <td>    0.2592</td> <td>    0.014</td> <td>   18.860</td> <td> 0.000</td> <td>    0.232</td> <td>    0.286</td>\n",
       "</tr>\n",
       "<tr>\n",
       "  <th>Ripeness</th>    <td>   -0.0758</td> <td>    0.015</td> <td>   -5.225</td> <td> 0.000</td> <td>   -0.104</td> <td>   -0.047</td>\n",
       "</tr>\n",
       "<tr>\n",
       "  <th>Acidity</th>     <td>   -0.1736</td> <td>    0.012</td> <td>  -13.900</td> <td> 0.000</td> <td>   -0.198</td> <td>   -0.149</td>\n",
       "</tr>\n",
       "</table>"
      ],
      "text/plain": [
       "<class 'statsmodels.iolib.summary.Summary'>\n",
       "\"\"\"\n",
       "                          Probit Regression Results                           \n",
       "==============================================================================\n",
       "Dep. Variable:                Quality   No. Observations:                 4000\n",
       "Model:                         Probit   Df Residuals:                     3992\n",
       "Method:                           MLE   Df Model:                            7\n",
       "Date:                Fri, 08 Mar 2024   Pseudo R-squ.:                  0.2569\n",
       "Time:                        21:04:00   Log-Likelihood:                -2060.3\n",
       "converged:                       True   LL-Null:                       -2772.6\n",
       "Covariance Type:            nonrobust   LLR p-value:                1.874e-303\n",
       "===============================================================================\n",
       "                  coef    std err          z      P>|z|      [0.025      0.975]\n",
       "-------------------------------------------------------------------------------\n",
       "const           0.3671      0.035     10.372      0.000       0.298       0.436\n",
       "Size            0.3774      0.016     24.067      0.000       0.347       0.408\n",
       "Weight          0.1524      0.016      9.297      0.000       0.120       0.184\n",
       "Sweetness       0.3307      0.015     21.769      0.000       0.301       0.361\n",
       "Crunchiness     0.0218      0.018      1.218      0.223      -0.013       0.057\n",
       "Juiciness       0.2592      0.014     18.860      0.000       0.232       0.286\n",
       "Ripeness       -0.0758      0.015     -5.225      0.000      -0.104      -0.047\n",
       "Acidity        -0.1736      0.012    -13.900      0.000      -0.198      -0.149\n",
       "===============================================================================\n",
       "\"\"\""
      ]
     },
     "execution_count": 20,
     "metadata": {},
     "output_type": "execute_result"
    }
   ],
   "source": [
    "probit = sm.Probit(y1,sm.add_constant(X1)).fit()\n",
    "probit.summary()"
   ]
  },
  {
   "cell_type": "markdown",
   "id": "746f148b",
   "metadata": {},
   "source": [
    "также здесь имеем незначимую переменную Crunchiness, исключаем:"
   ]
  },
  {
   "cell_type": "code",
   "execution_count": 21,
   "id": "4e184800",
   "metadata": {},
   "outputs": [
    {
     "name": "stdout",
     "output_type": "stream",
     "text": [
      "Optimization terminated successfully.\n",
      "         Current function value: 0.515261\n",
      "         Iterations 6\n"
     ]
    },
    {
     "data": {
      "text/html": [
       "<table class=\"simpletable\">\n",
       "<caption>Probit Regression Results</caption>\n",
       "<tr>\n",
       "  <th>Dep. Variable:</th>        <td>Quality</td>     <th>  No. Observations:  </th>   <td>  4000</td>  \n",
       "</tr>\n",
       "<tr>\n",
       "  <th>Model:</th>                <td>Probit</td>      <th>  Df Residuals:      </th>   <td>  3993</td>  \n",
       "</tr>\n",
       "<tr>\n",
       "  <th>Method:</th>                 <td>MLE</td>       <th>  Df Model:          </th>   <td>     6</td>  \n",
       "</tr>\n",
       "<tr>\n",
       "  <th>Date:</th>            <td>Fri, 08 Mar 2024</td> <th>  Pseudo R-squ.:     </th>   <td>0.2566</td>  \n",
       "</tr>\n",
       "<tr>\n",
       "  <th>Time:</th>                <td>21:04:00</td>     <th>  Log-Likelihood:    </th>  <td> -2061.0</td> \n",
       "</tr>\n",
       "<tr>\n",
       "  <th>converged:</th>             <td>True</td>       <th>  LL-Null:           </th>  <td> -2772.6</td> \n",
       "</tr>\n",
       "<tr>\n",
       "  <th>Covariance Type:</th>     <td>nonrobust</td>    <th>  LLR p-value:       </th> <td>2.443e-304</td>\n",
       "</tr>\n",
       "</table>\n",
       "<table class=\"simpletable\">\n",
       "<tr>\n",
       "      <td></td>         <th>coef</th>     <th>std err</th>      <th>z</th>      <th>P>|z|</th>  <th>[0.025</th>    <th>0.975]</th>  \n",
       "</tr>\n",
       "<tr>\n",
       "  <th>const</th>     <td>    0.3891</td> <td>    0.030</td> <td>   12.759</td> <td> 0.000</td> <td>    0.329</td> <td>    0.449</td>\n",
       "</tr>\n",
       "<tr>\n",
       "  <th>Size</th>      <td>    0.3782</td> <td>    0.016</td> <td>   24.123</td> <td> 0.000</td> <td>    0.348</td> <td>    0.409</td>\n",
       "</tr>\n",
       "<tr>\n",
       "  <th>Weight</th>    <td>    0.1486</td> <td>    0.016</td> <td>    9.232</td> <td> 0.000</td> <td>    0.117</td> <td>    0.180</td>\n",
       "</tr>\n",
       "<tr>\n",
       "  <th>Sweetness</th> <td>    0.3287</td> <td>    0.015</td> <td>   21.789</td> <td> 0.000</td> <td>    0.299</td> <td>    0.358</td>\n",
       "</tr>\n",
       "<tr>\n",
       "  <th>Juiciness</th> <td>    0.2540</td> <td>    0.013</td> <td>   19.512</td> <td> 0.000</td> <td>    0.228</td> <td>    0.279</td>\n",
       "</tr>\n",
       "<tr>\n",
       "  <th>Ripeness</th>  <td>   -0.0807</td> <td>    0.014</td> <td>   -5.804</td> <td> 0.000</td> <td>   -0.108</td> <td>   -0.053</td>\n",
       "</tr>\n",
       "<tr>\n",
       "  <th>Acidity</th>   <td>   -0.1719</td> <td>    0.012</td> <td>  -13.861</td> <td> 0.000</td> <td>   -0.196</td> <td>   -0.148</td>\n",
       "</tr>\n",
       "</table>"
      ],
      "text/plain": [
       "<class 'statsmodels.iolib.summary.Summary'>\n",
       "\"\"\"\n",
       "                          Probit Regression Results                           \n",
       "==============================================================================\n",
       "Dep. Variable:                Quality   No. Observations:                 4000\n",
       "Model:                         Probit   Df Residuals:                     3993\n",
       "Method:                           MLE   Df Model:                            6\n",
       "Date:                Fri, 08 Mar 2024   Pseudo R-squ.:                  0.2566\n",
       "Time:                        21:04:00   Log-Likelihood:                -2061.0\n",
       "converged:                       True   LL-Null:                       -2772.6\n",
       "Covariance Type:            nonrobust   LLR p-value:                2.443e-304\n",
       "==============================================================================\n",
       "                 coef    std err          z      P>|z|      [0.025      0.975]\n",
       "------------------------------------------------------------------------------\n",
       "const          0.3891      0.030     12.759      0.000       0.329       0.449\n",
       "Size           0.3782      0.016     24.123      0.000       0.348       0.409\n",
       "Weight         0.1486      0.016      9.232      0.000       0.117       0.180\n",
       "Sweetness      0.3287      0.015     21.789      0.000       0.299       0.358\n",
       "Juiciness      0.2540      0.013     19.512      0.000       0.228       0.279\n",
       "Ripeness      -0.0807      0.014     -5.804      0.000      -0.108      -0.053\n",
       "Acidity       -0.1719      0.012    -13.861      0.000      -0.196      -0.148\n",
       "==============================================================================\n",
       "\"\"\""
      ]
     },
     "execution_count": 21,
     "metadata": {},
     "output_type": "execute_result"
    }
   ],
   "source": [
    "df1 = df1.drop(['Crunchiness'], axis=1)\n",
    "X1 = df1.drop(['Quality'], axis=1)\n",
    "y1 = df1['Quality']\n",
    "probit = sm.Probit(y1,sm.add_constant(X1)).fit()\n",
    "probit.summary()"
   ]
  },
  {
   "cell_type": "markdown",
   "id": "967c22b5",
   "metadata": {},
   "source": [
    "получаем следующую модель со значимыми факторами:\n",
    "\n",
    "$Y^* = Ф(0.389+0.378x_{Size}+0.149x_{Weight}+0.329x_{Sweetness}+0.254x_{Juiciness}-0.08x_{Ripness}-0.172x_{Acidity})$"
   ]
  },
  {
   "cell_type": "code",
   "execution_count": 22,
   "id": "745cc698",
   "metadata": {},
   "outputs": [],
   "source": [
    "y_pred=probit.predict()"
   ]
  },
  {
   "cell_type": "code",
   "execution_count": 23,
   "id": "ca8078aa",
   "metadata": {},
   "outputs": [
    {
     "data": {
      "text/plain": [
       "array([1, 1, 0, ..., 0, 1, 1])"
      ]
     },
     "execution_count": 23,
     "metadata": {},
     "output_type": "execute_result"
    }
   ],
   "source": [
    "y_pred = np.where(y_pred<0.5,0,1)\n",
    "y_pred"
   ]
  },
  {
   "cell_type": "code",
   "execution_count": 24,
   "id": "fb0cd41b",
   "metadata": {},
   "outputs": [
    {
     "data": {
      "text/plain": [
       "0.7522755227552275"
      ]
     },
     "execution_count": 24,
     "metadata": {},
     "output_type": "execute_result"
    }
   ],
   "source": [
    "f1_score(y, y_pred)"
   ]
  },
  {
   "cell_type": "code",
   "execution_count": 25,
   "id": "ab7c65dc",
   "metadata": {},
   "outputs": [
    {
     "data": {
      "text/plain": [
       "0.74825"
      ]
     },
     "execution_count": 25,
     "metadata": {},
     "output_type": "execute_result"
    }
   ],
   "source": [
    "accuracy_score(y, y_pred)"
   ]
  },
  {
   "cell_type": "markdown",
   "id": "be40bc4c",
   "metadata": {},
   "source": [
    "модель показывает умеренные результаты метрик f1 и accuracy, что говорит о достаточно адекватной работе"
   ]
  },
  {
   "cell_type": "markdown",
   "id": "8de1d31f",
   "metadata": {},
   "source": [
    "---"
   ]
  },
  {
   "cell_type": "markdown",
   "id": "b4646d08",
   "metadata": {},
   "source": [
    "## Тобит-модель"
   ]
  },
  {
   "cell_type": "markdown",
   "id": "d3f05c47",
   "metadata": {},
   "source": [
    "### Загрузка данных"
   ]
  },
  {
   "cell_type": "code",
   "execution_count": 26,
   "id": "642b5eb9",
   "metadata": {},
   "outputs": [
    {
     "data": {
      "text/html": [
       "<div>\n",
       "<style scoped>\n",
       "    .dataframe tbody tr th:only-of-type {\n",
       "        vertical-align: middle;\n",
       "    }\n",
       "\n",
       "    .dataframe tbody tr th {\n",
       "        vertical-align: top;\n",
       "    }\n",
       "\n",
       "    .dataframe thead th {\n",
       "        text-align: right;\n",
       "    }\n",
       "</style>\n",
       "<table border=\"1\" class=\"dataframe\">\n",
       "  <thead>\n",
       "    <tr style=\"text-align: right;\">\n",
       "      <th></th>\n",
       "      <th>date</th>\n",
       "      <th>Usage_kWh</th>\n",
       "      <th>Lagging_Current_Reactive.Power_kVarh</th>\n",
       "      <th>Leading_Current_Reactive_Power_kVarh</th>\n",
       "      <th>CO2(tCO2)</th>\n",
       "      <th>Lagging_Current_Power_Factor</th>\n",
       "      <th>Leading_Current_Power_Factor</th>\n",
       "      <th>NSM</th>\n",
       "      <th>WeekStatus</th>\n",
       "      <th>Day_of_week</th>\n",
       "      <th>Load_Type</th>\n",
       "    </tr>\n",
       "  </thead>\n",
       "  <tbody>\n",
       "    <tr>\n",
       "      <th>0</th>\n",
       "      <td>01/01/2018 00:15</td>\n",
       "      <td>3.17</td>\n",
       "      <td>2.95</td>\n",
       "      <td>0.0</td>\n",
       "      <td>0.0</td>\n",
       "      <td>73.21</td>\n",
       "      <td>100.0</td>\n",
       "      <td>900</td>\n",
       "      <td>Weekday</td>\n",
       "      <td>Monday</td>\n",
       "      <td>Light_Load</td>\n",
       "    </tr>\n",
       "    <tr>\n",
       "      <th>1</th>\n",
       "      <td>01/01/2018 00:30</td>\n",
       "      <td>4.00</td>\n",
       "      <td>4.46</td>\n",
       "      <td>0.0</td>\n",
       "      <td>0.0</td>\n",
       "      <td>66.77</td>\n",
       "      <td>100.0</td>\n",
       "      <td>1800</td>\n",
       "      <td>Weekday</td>\n",
       "      <td>Monday</td>\n",
       "      <td>Light_Load</td>\n",
       "    </tr>\n",
       "    <tr>\n",
       "      <th>2</th>\n",
       "      <td>01/01/2018 00:45</td>\n",
       "      <td>3.24</td>\n",
       "      <td>3.28</td>\n",
       "      <td>0.0</td>\n",
       "      <td>0.0</td>\n",
       "      <td>70.28</td>\n",
       "      <td>100.0</td>\n",
       "      <td>2700</td>\n",
       "      <td>Weekday</td>\n",
       "      <td>Monday</td>\n",
       "      <td>Light_Load</td>\n",
       "    </tr>\n",
       "    <tr>\n",
       "      <th>3</th>\n",
       "      <td>01/01/2018 01:00</td>\n",
       "      <td>3.31</td>\n",
       "      <td>3.56</td>\n",
       "      <td>0.0</td>\n",
       "      <td>0.0</td>\n",
       "      <td>68.09</td>\n",
       "      <td>100.0</td>\n",
       "      <td>3600</td>\n",
       "      <td>Weekday</td>\n",
       "      <td>Monday</td>\n",
       "      <td>Light_Load</td>\n",
       "    </tr>\n",
       "    <tr>\n",
       "      <th>4</th>\n",
       "      <td>01/01/2018 01:15</td>\n",
       "      <td>3.82</td>\n",
       "      <td>4.50</td>\n",
       "      <td>0.0</td>\n",
       "      <td>0.0</td>\n",
       "      <td>64.72</td>\n",
       "      <td>100.0</td>\n",
       "      <td>4500</td>\n",
       "      <td>Weekday</td>\n",
       "      <td>Monday</td>\n",
       "      <td>Light_Load</td>\n",
       "    </tr>\n",
       "  </tbody>\n",
       "</table>\n",
       "</div>"
      ],
      "text/plain": [
       "               date  Usage_kWh  Lagging_Current_Reactive.Power_kVarh  \\\n",
       "0  01/01/2018 00:15       3.17                                  2.95   \n",
       "1  01/01/2018 00:30       4.00                                  4.46   \n",
       "2  01/01/2018 00:45       3.24                                  3.28   \n",
       "3  01/01/2018 01:00       3.31                                  3.56   \n",
       "4  01/01/2018 01:15       3.82                                  4.50   \n",
       "\n",
       "   Leading_Current_Reactive_Power_kVarh  CO2(tCO2)  \\\n",
       "0                                   0.0        0.0   \n",
       "1                                   0.0        0.0   \n",
       "2                                   0.0        0.0   \n",
       "3                                   0.0        0.0   \n",
       "4                                   0.0        0.0   \n",
       "\n",
       "   Lagging_Current_Power_Factor  Leading_Current_Power_Factor   NSM  \\\n",
       "0                         73.21                         100.0   900   \n",
       "1                         66.77                         100.0  1800   \n",
       "2                         70.28                         100.0  2700   \n",
       "3                         68.09                         100.0  3600   \n",
       "4                         64.72                         100.0  4500   \n",
       "\n",
       "  WeekStatus Day_of_week   Load_Type  \n",
       "0    Weekday      Monday  Light_Load  \n",
       "1    Weekday      Monday  Light_Load  \n",
       "2    Weekday      Monday  Light_Load  \n",
       "3    Weekday      Monday  Light_Load  \n",
       "4    Weekday      Monday  Light_Load  "
      ]
     },
     "execution_count": 26,
     "metadata": {},
     "output_type": "execute_result"
    }
   ],
   "source": [
    "df = pd.read_csv('Steel_industry_data.csv')\n",
    "df.head()"
   ]
  },
  {
   "cell_type": "code",
   "execution_count": 27,
   "id": "76b4e66a",
   "metadata": {},
   "outputs": [
    {
     "data": {
      "text/plain": [
       "date                                    0\n",
       "Usage_kWh                               0\n",
       "Lagging_Current_Reactive.Power_kVarh    0\n",
       "Leading_Current_Reactive_Power_kVarh    0\n",
       "CO2(tCO2)                               0\n",
       "Lagging_Current_Power_Factor            0\n",
       "Leading_Current_Power_Factor            0\n",
       "NSM                                     0\n",
       "WeekStatus                              0\n",
       "Day_of_week                             0\n",
       "Load_Type                               0\n",
       "dtype: int64"
      ]
     },
     "execution_count": 27,
     "metadata": {},
     "output_type": "execute_result"
    }
   ],
   "source": [
    "df.isnull().sum()"
   ]
  },
  {
   "cell_type": "code",
   "execution_count": 28,
   "id": "c967149f",
   "metadata": {},
   "outputs": [
    {
     "name": "stdout",
     "output_type": "stream",
     "text": [
      "<class 'pandas.core.frame.DataFrame'>\n",
      "RangeIndex: 35040 entries, 0 to 35039\n",
      "Data columns (total 11 columns):\n",
      " #   Column                                Non-Null Count  Dtype  \n",
      "---  ------                                --------------  -----  \n",
      " 0   date                                  35040 non-null  object \n",
      " 1   Usage_kWh                             35040 non-null  float64\n",
      " 2   Lagging_Current_Reactive.Power_kVarh  35040 non-null  float64\n",
      " 3   Leading_Current_Reactive_Power_kVarh  35040 non-null  float64\n",
      " 4   CO2(tCO2)                             35040 non-null  float64\n",
      " 5   Lagging_Current_Power_Factor          35040 non-null  float64\n",
      " 6   Leading_Current_Power_Factor          35040 non-null  float64\n",
      " 7   NSM                                   35040 non-null  int64  \n",
      " 8   WeekStatus                            35040 non-null  object \n",
      " 9   Day_of_week                           35040 non-null  object \n",
      " 10  Load_Type                             35040 non-null  object \n",
      "dtypes: float64(6), int64(1), object(4)\n",
      "memory usage: 2.9+ MB\n"
     ]
    }
   ],
   "source": [
    "df.info()"
   ]
  },
  {
   "cell_type": "code",
   "execution_count": 29,
   "id": "2a7af4cc",
   "metadata": {},
   "outputs": [
    {
     "data": {
      "text/html": [
       "<div>\n",
       "<style scoped>\n",
       "    .dataframe tbody tr th:only-of-type {\n",
       "        vertical-align: middle;\n",
       "    }\n",
       "\n",
       "    .dataframe tbody tr th {\n",
       "        vertical-align: top;\n",
       "    }\n",
       "\n",
       "    .dataframe thead th {\n",
       "        text-align: right;\n",
       "    }\n",
       "</style>\n",
       "<table border=\"1\" class=\"dataframe\">\n",
       "  <thead>\n",
       "    <tr style=\"text-align: right;\">\n",
       "      <th></th>\n",
       "      <th>Usage_kWh</th>\n",
       "      <th>Lagging_Current_Reactive.Power_kVarh</th>\n",
       "      <th>Leading_Current_Reactive_Power_kVarh</th>\n",
       "      <th>CO2(tCO2)</th>\n",
       "      <th>Lagging_Current_Power_Factor</th>\n",
       "      <th>Leading_Current_Power_Factor</th>\n",
       "      <th>NSM</th>\n",
       "      <th>WeekStatus</th>\n",
       "      <th>Day_of_week</th>\n",
       "      <th>Load_Type</th>\n",
       "    </tr>\n",
       "  </thead>\n",
       "  <tbody>\n",
       "    <tr>\n",
       "      <th>0</th>\n",
       "      <td>3.17</td>\n",
       "      <td>2.95</td>\n",
       "      <td>0.00</td>\n",
       "      <td>0.0</td>\n",
       "      <td>73.21</td>\n",
       "      <td>100.00</td>\n",
       "      <td>900</td>\n",
       "      <td>Weekday</td>\n",
       "      <td>Monday</td>\n",
       "      <td>Light_Load</td>\n",
       "    </tr>\n",
       "    <tr>\n",
       "      <th>1</th>\n",
       "      <td>4.00</td>\n",
       "      <td>4.46</td>\n",
       "      <td>0.00</td>\n",
       "      <td>0.0</td>\n",
       "      <td>66.77</td>\n",
       "      <td>100.00</td>\n",
       "      <td>1800</td>\n",
       "      <td>Weekday</td>\n",
       "      <td>Monday</td>\n",
       "      <td>Light_Load</td>\n",
       "    </tr>\n",
       "    <tr>\n",
       "      <th>2</th>\n",
       "      <td>3.24</td>\n",
       "      <td>3.28</td>\n",
       "      <td>0.00</td>\n",
       "      <td>0.0</td>\n",
       "      <td>70.28</td>\n",
       "      <td>100.00</td>\n",
       "      <td>2700</td>\n",
       "      <td>Weekday</td>\n",
       "      <td>Monday</td>\n",
       "      <td>Light_Load</td>\n",
       "    </tr>\n",
       "    <tr>\n",
       "      <th>3</th>\n",
       "      <td>3.31</td>\n",
       "      <td>3.56</td>\n",
       "      <td>0.00</td>\n",
       "      <td>0.0</td>\n",
       "      <td>68.09</td>\n",
       "      <td>100.00</td>\n",
       "      <td>3600</td>\n",
       "      <td>Weekday</td>\n",
       "      <td>Monday</td>\n",
       "      <td>Light_Load</td>\n",
       "    </tr>\n",
       "    <tr>\n",
       "      <th>4</th>\n",
       "      <td>3.82</td>\n",
       "      <td>4.50</td>\n",
       "      <td>0.00</td>\n",
       "      <td>0.0</td>\n",
       "      <td>64.72</td>\n",
       "      <td>100.00</td>\n",
       "      <td>4500</td>\n",
       "      <td>Weekday</td>\n",
       "      <td>Monday</td>\n",
       "      <td>Light_Load</td>\n",
       "    </tr>\n",
       "    <tr>\n",
       "      <th>...</th>\n",
       "      <td>...</td>\n",
       "      <td>...</td>\n",
       "      <td>...</td>\n",
       "      <td>...</td>\n",
       "      <td>...</td>\n",
       "      <td>...</td>\n",
       "      <td>...</td>\n",
       "      <td>...</td>\n",
       "      <td>...</td>\n",
       "      <td>...</td>\n",
       "    </tr>\n",
       "    <tr>\n",
       "      <th>35035</th>\n",
       "      <td>3.85</td>\n",
       "      <td>4.86</td>\n",
       "      <td>0.00</td>\n",
       "      <td>0.0</td>\n",
       "      <td>62.10</td>\n",
       "      <td>100.00</td>\n",
       "      <td>82800</td>\n",
       "      <td>Weekday</td>\n",
       "      <td>Monday</td>\n",
       "      <td>Light_Load</td>\n",
       "    </tr>\n",
       "    <tr>\n",
       "      <th>35036</th>\n",
       "      <td>3.74</td>\n",
       "      <td>3.74</td>\n",
       "      <td>0.00</td>\n",
       "      <td>0.0</td>\n",
       "      <td>70.71</td>\n",
       "      <td>100.00</td>\n",
       "      <td>83700</td>\n",
       "      <td>Weekday</td>\n",
       "      <td>Monday</td>\n",
       "      <td>Light_Load</td>\n",
       "    </tr>\n",
       "    <tr>\n",
       "      <th>35037</th>\n",
       "      <td>3.78</td>\n",
       "      <td>3.17</td>\n",
       "      <td>0.07</td>\n",
       "      <td>0.0</td>\n",
       "      <td>76.62</td>\n",
       "      <td>99.98</td>\n",
       "      <td>84600</td>\n",
       "      <td>Weekday</td>\n",
       "      <td>Monday</td>\n",
       "      <td>Light_Load</td>\n",
       "    </tr>\n",
       "    <tr>\n",
       "      <th>35038</th>\n",
       "      <td>3.78</td>\n",
       "      <td>3.06</td>\n",
       "      <td>0.11</td>\n",
       "      <td>0.0</td>\n",
       "      <td>77.72</td>\n",
       "      <td>99.96</td>\n",
       "      <td>85500</td>\n",
       "      <td>Weekday</td>\n",
       "      <td>Monday</td>\n",
       "      <td>Light_Load</td>\n",
       "    </tr>\n",
       "    <tr>\n",
       "      <th>35039</th>\n",
       "      <td>3.67</td>\n",
       "      <td>3.02</td>\n",
       "      <td>0.07</td>\n",
       "      <td>0.0</td>\n",
       "      <td>77.22</td>\n",
       "      <td>99.98</td>\n",
       "      <td>0</td>\n",
       "      <td>Weekday</td>\n",
       "      <td>Monday</td>\n",
       "      <td>Light_Load</td>\n",
       "    </tr>\n",
       "  </tbody>\n",
       "</table>\n",
       "<p>35040 rows × 10 columns</p>\n",
       "</div>"
      ],
      "text/plain": [
       "       Usage_kWh  Lagging_Current_Reactive.Power_kVarh  \\\n",
       "0           3.17                                  2.95   \n",
       "1           4.00                                  4.46   \n",
       "2           3.24                                  3.28   \n",
       "3           3.31                                  3.56   \n",
       "4           3.82                                  4.50   \n",
       "...          ...                                   ...   \n",
       "35035       3.85                                  4.86   \n",
       "35036       3.74                                  3.74   \n",
       "35037       3.78                                  3.17   \n",
       "35038       3.78                                  3.06   \n",
       "35039       3.67                                  3.02   \n",
       "\n",
       "       Leading_Current_Reactive_Power_kVarh  CO2(tCO2)  \\\n",
       "0                                      0.00        0.0   \n",
       "1                                      0.00        0.0   \n",
       "2                                      0.00        0.0   \n",
       "3                                      0.00        0.0   \n",
       "4                                      0.00        0.0   \n",
       "...                                     ...        ...   \n",
       "35035                                  0.00        0.0   \n",
       "35036                                  0.00        0.0   \n",
       "35037                                  0.07        0.0   \n",
       "35038                                  0.11        0.0   \n",
       "35039                                  0.07        0.0   \n",
       "\n",
       "       Lagging_Current_Power_Factor  Leading_Current_Power_Factor    NSM  \\\n",
       "0                             73.21                        100.00    900   \n",
       "1                             66.77                        100.00   1800   \n",
       "2                             70.28                        100.00   2700   \n",
       "3                             68.09                        100.00   3600   \n",
       "4                             64.72                        100.00   4500   \n",
       "...                             ...                           ...    ...   \n",
       "35035                         62.10                        100.00  82800   \n",
       "35036                         70.71                        100.00  83700   \n",
       "35037                         76.62                         99.98  84600   \n",
       "35038                         77.72                         99.96  85500   \n",
       "35039                         77.22                         99.98      0   \n",
       "\n",
       "      WeekStatus Day_of_week   Load_Type  \n",
       "0        Weekday      Monday  Light_Load  \n",
       "1        Weekday      Monday  Light_Load  \n",
       "2        Weekday      Monday  Light_Load  \n",
       "3        Weekday      Monday  Light_Load  \n",
       "4        Weekday      Monday  Light_Load  \n",
       "...          ...         ...         ...  \n",
       "35035    Weekday      Monday  Light_Load  \n",
       "35036    Weekday      Monday  Light_Load  \n",
       "35037    Weekday      Monday  Light_Load  \n",
       "35038    Weekday      Monday  Light_Load  \n",
       "35039    Weekday      Monday  Light_Load  \n",
       "\n",
       "[35040 rows x 10 columns]"
      ]
     },
     "execution_count": 29,
     "metadata": {},
     "output_type": "execute_result"
    }
   ],
   "source": [
    "df.drop('date',axis=1)"
   ]
  },
  {
   "cell_type": "code",
   "execution_count": 30,
   "id": "98822300",
   "metadata": {},
   "outputs": [
    {
     "data": {
      "text/html": [
       "<div>\n",
       "<style scoped>\n",
       "    .dataframe tbody tr th:only-of-type {\n",
       "        vertical-align: middle;\n",
       "    }\n",
       "\n",
       "    .dataframe tbody tr th {\n",
       "        vertical-align: top;\n",
       "    }\n",
       "\n",
       "    .dataframe thead th {\n",
       "        text-align: right;\n",
       "    }\n",
       "</style>\n",
       "<table border=\"1\" class=\"dataframe\">\n",
       "  <thead>\n",
       "    <tr style=\"text-align: right;\">\n",
       "      <th></th>\n",
       "      <th>date</th>\n",
       "      <th>Usage_kWh</th>\n",
       "      <th>Lagging_Current_Reactive.Power_kVarh</th>\n",
       "      <th>Leading_Current_Reactive_Power_kVarh</th>\n",
       "      <th>CO2(tCO2)</th>\n",
       "      <th>Lagging_Current_Power_Factor</th>\n",
       "      <th>Leading_Current_Power_Factor</th>\n",
       "      <th>NSM</th>\n",
       "      <th>WeekStatus</th>\n",
       "      <th>Day_of_week</th>\n",
       "      <th>Load_Type</th>\n",
       "    </tr>\n",
       "  </thead>\n",
       "  <tbody>\n",
       "    <tr>\n",
       "      <th>0</th>\n",
       "      <td>1</td>\n",
       "      <td>3.17</td>\n",
       "      <td>2.95</td>\n",
       "      <td>0.0</td>\n",
       "      <td>0.0</td>\n",
       "      <td>73.21</td>\n",
       "      <td>100.0</td>\n",
       "      <td>900</td>\n",
       "      <td>0</td>\n",
       "      <td>1</td>\n",
       "      <td>0</td>\n",
       "    </tr>\n",
       "    <tr>\n",
       "      <th>1</th>\n",
       "      <td>2</td>\n",
       "      <td>4.00</td>\n",
       "      <td>4.46</td>\n",
       "      <td>0.0</td>\n",
       "      <td>0.0</td>\n",
       "      <td>66.77</td>\n",
       "      <td>100.0</td>\n",
       "      <td>1800</td>\n",
       "      <td>0</td>\n",
       "      <td>1</td>\n",
       "      <td>0</td>\n",
       "    </tr>\n",
       "    <tr>\n",
       "      <th>2</th>\n",
       "      <td>3</td>\n",
       "      <td>3.24</td>\n",
       "      <td>3.28</td>\n",
       "      <td>0.0</td>\n",
       "      <td>0.0</td>\n",
       "      <td>70.28</td>\n",
       "      <td>100.0</td>\n",
       "      <td>2700</td>\n",
       "      <td>0</td>\n",
       "      <td>1</td>\n",
       "      <td>0</td>\n",
       "    </tr>\n",
       "    <tr>\n",
       "      <th>3</th>\n",
       "      <td>4</td>\n",
       "      <td>3.31</td>\n",
       "      <td>3.56</td>\n",
       "      <td>0.0</td>\n",
       "      <td>0.0</td>\n",
       "      <td>68.09</td>\n",
       "      <td>100.0</td>\n",
       "      <td>3600</td>\n",
       "      <td>0</td>\n",
       "      <td>1</td>\n",
       "      <td>0</td>\n",
       "    </tr>\n",
       "    <tr>\n",
       "      <th>4</th>\n",
       "      <td>5</td>\n",
       "      <td>3.82</td>\n",
       "      <td>4.50</td>\n",
       "      <td>0.0</td>\n",
       "      <td>0.0</td>\n",
       "      <td>64.72</td>\n",
       "      <td>100.0</td>\n",
       "      <td>4500</td>\n",
       "      <td>0</td>\n",
       "      <td>1</td>\n",
       "      <td>0</td>\n",
       "    </tr>\n",
       "  </tbody>\n",
       "</table>\n",
       "</div>"
      ],
      "text/plain": [
       "   date  Usage_kWh  Lagging_Current_Reactive.Power_kVarh  \\\n",
       "0     1       3.17                                  2.95   \n",
       "1     2       4.00                                  4.46   \n",
       "2     3       3.24                                  3.28   \n",
       "3     4       3.31                                  3.56   \n",
       "4     5       3.82                                  4.50   \n",
       "\n",
       "   Leading_Current_Reactive_Power_kVarh  CO2(tCO2)  \\\n",
       "0                                   0.0        0.0   \n",
       "1                                   0.0        0.0   \n",
       "2                                   0.0        0.0   \n",
       "3                                   0.0        0.0   \n",
       "4                                   0.0        0.0   \n",
       "\n",
       "   Lagging_Current_Power_Factor  Leading_Current_Power_Factor   NSM  \\\n",
       "0                         73.21                         100.0   900   \n",
       "1                         66.77                         100.0  1800   \n",
       "2                         70.28                         100.0  2700   \n",
       "3                         68.09                         100.0  3600   \n",
       "4                         64.72                         100.0  4500   \n",
       "\n",
       "   WeekStatus  Day_of_week  Load_Type  \n",
       "0           0            1          0  \n",
       "1           0            1          0  \n",
       "2           0            1          0  \n",
       "3           0            1          0  \n",
       "4           0            1          0  "
      ]
     },
     "execution_count": 30,
     "metadata": {},
     "output_type": "execute_result"
    }
   ],
   "source": [
    "from sklearn import preprocessing\n",
    "categ = df.select_dtypes(include = \"object\").columns\n",
    "\n",
    "le = preprocessing.LabelEncoder()\n",
    "df[categ] = df[categ].apply(le.fit_transform)\n",
    "\n",
    "df.head()"
   ]
  },
  {
   "cell_type": "code",
   "execution_count": 31,
   "id": "bcf1c1f8",
   "metadata": {},
   "outputs": [],
   "source": [
    "X=df.drop(\"Usage_kWh\",axis=1)\n",
    "y=df[\"Usage_kWh\"]"
   ]
  },
  {
   "cell_type": "code",
   "execution_count": 32,
   "id": "57924a78",
   "metadata": {},
   "outputs": [
    {
     "data": {
      "text/plain": [
       "Text(0, 0.5, 'Частота')"
      ]
     },
     "execution_count": 32,
     "metadata": {},
     "output_type": "execute_result"
    },
    {
     "data": {
      "image/png": "[encoded data removed]",
      "text/plain": [
       "<Figure size 432x288 with 1 Axes>"
      ]
     },
     "metadata": {
      "needs_background": "light"
     },
     "output_type": "display_data"
    }
   ],
   "source": [
    "import seaborn as sns\n",
    "import matplotlib.pyplot as plt\n",
    "\n",
    "sns.histplot(y, kde=True, color='skyblue', bins=30)\n",
    "plt.title(\"Распределение переменной 'ST depression'\")\n",
    "plt.xlabel(\"ST depression\")\n",
    "plt.ylabel(\"Частота\")\n"
   ]
  },
  {
   "cell_type": "code",
   "execution_count": 33,
   "id": "f59cf67e",
   "metadata": {},
   "outputs": [
    {
     "data": {
      "text/plain": [
       "0.00        1\n",
       "2.45        8\n",
       "2.48       36\n",
       "2.52      110\n",
       "2.56      157\n",
       "         ... \n",
       "149.65      1\n",
       "151.31      1\n",
       "151.67      1\n",
       "153.14      1\n",
       "157.18      1\n",
       "Name: Usage_kWh, Length: 3343, dtype: int64"
      ]
     },
     "execution_count": 33,
     "metadata": {},
     "output_type": "execute_result"
    }
   ],
   "source": [
    "df['Usage_kWh'].value_counts().sort_index()"
   ]
  },
  {
   "cell_type": "markdown",
   "id": "863e3289",
   "metadata": {},
   "source": [
    "видим, что целевая переменная ограничена слева 0 и справа 157.18"
   ]
  },
  {
   "cell_type": "markdown",
   "id": "e981e448",
   "metadata": {},
   "source": [
    "Построим следующую модель, называемой моделью Тобина:\n",
    "\n",
    "y = $\\begin{cases}\n",
    "y^*, y^* \\in [0, 157.18] \\\\\n",
    "0, y^* < 0 \\\\\n",
    "157.18, y^* > 157.18\n",
    "\\end{cases}$,\n",
    "\n",
    "где $y^* = \\sum\\beta_i x_i + \\varepsilon$"
   ]
  },
  {
   "cell_type": "code",
   "execution_count": 34,
   "id": "7afbca4e",
   "metadata": {},
   "outputs": [],
   "source": [
    "y_hec = y.copy()\n",
    "X_hec=X.copy()"
   ]
  },
  {
   "cell_type": "code",
   "execution_count": 35,
   "id": "f9c237f8",
   "metadata": {},
   "outputs": [
    {
     "data": {
      "text/plain": [
       "array([0, 0, 0, ..., 0, 0, 0])"
      ]
     },
     "execution_count": 35,
     "metadata": {},
     "output_type": "execute_result"
    }
   ],
   "source": [
    "limits = np.select([df['Usage_kWh'] == 157.18, df['Usage_kWh'] == 0], [1, -1], 0)\n",
    "\n",
    "limits"
   ]
  },
  {
   "cell_type": "code",
   "execution_count": 36,
   "id": "3196ca9c",
   "metadata": {},
   "outputs": [
    {
     "name": "stdout",
     "output_type": "stream",
     "text": [
      "Optimization terminated successfully.\n",
      "         Current function value: 2.961066\n",
      "         Iterations: 905\n",
      "         Function evaluations: 1295\n"
     ]
    },
    {
     "data": {
      "text/html": [
       "<table class=\"simpletable\">\n",
       "<caption>Tobit Regression Results</caption>\n",
       "<tr>\n",
       "  <th>Dep. Variable:</th>               <td>Usage_kWh</td>     <th>  Pseudo R-squ:      </th>   <td>0.399</td>  \n",
       "</tr>\n",
       "<tr>\n",
       "  <th>Method:</th>                 <td>Maximum Likelihood</td> <th>  Log-Likelihood:    </th> <td>-103755.7</td>\n",
       "</tr>\n",
       "<tr>\n",
       "  <th>No. Observations:</th>             <td> 35040</td>       <th>  LL-Null:           </th> <td>-172700.2</td>\n",
       "</tr>\n",
       "<tr>\n",
       "  <th>No. Uncensored Obs:</th>            <td>35038</td>       <th>  LL-Ratio:          </th> <td>137888.8</td> \n",
       "</tr>\n",
       "<tr>\n",
       "  <th>No. Left-censored Obs:</th>           <td>1</td>         <th>  LLR p-value:       </th>   <td>0.000</td>  \n",
       "</tr>\n",
       "<tr>\n",
       "  <th>No. Right-censored Obs:</th>          <td>1</td>         <th>  AIC:               </th> <td>207533.5</td> \n",
       "</tr>\n",
       "<tr>\n",
       "  <th>Df Residuals:</th>                 <td> 35029</td>       <th>  BIC:               </th> <td>207626.6</td> \n",
       "</tr>\n",
       "<tr>\n",
       "  <th>Df Model:</th>                     <td>    10</td>       <th>  Covariance Type:   </th> <td>nonrobust</td>\n",
       "</tr>\n",
       "</table>\n",
       "<table class=\"simpletable\">\n",
       "<tr>\n",
       "                    <td></td>                      <th>coef</th>     <th>std err</th>      <th>z</th>      <th>P>|z|</th>  <th>[0.025</th>    <th>0.975]</th>  \n",
       "</tr>\n",
       "<tr>\n",
       "  <th>const</th>                                <td>  -11.2132</td> <td>    0.386</td> <td>  -29.040</td> <td> 0.000</td> <td>  -11.970</td> <td>  -10.456</td>\n",
       "</tr>\n",
       "<tr>\n",
       "  <th>date</th>                                 <td>-2.804e-05</td> <td> 2.47e-06</td> <td>  -11.333</td> <td> 0.000</td> <td>-3.29e-05</td> <td>-2.32e-05</td>\n",
       "</tr>\n",
       "<tr>\n",
       "  <th>Lagging_Current_Reactive.Power_kVarh</th> <td>    0.3106</td> <td>    0.004</td> <td>   79.196</td> <td> 0.000</td> <td>    0.303</td> <td>    0.318</td>\n",
       "</tr>\n",
       "<tr>\n",
       "  <th>Leading_Current_Reactive_Power_kVarh</th> <td>    0.0728</td> <td>    0.011</td> <td>    6.622</td> <td> 0.000</td> <td>    0.051</td> <td>    0.094</td>\n",
       "</tr>\n",
       "<tr>\n",
       "  <th>CO2(tCO2)</th>                            <td> 1666.7392</td> <td>    4.926</td> <td>  338.348</td> <td> 0.000</td> <td> 1657.084</td> <td> 1676.394</td>\n",
       "</tr>\n",
       "<tr>\n",
       "  <th>Lagging_Current_Power_Factor</th>         <td>    0.1206</td> <td>    0.003</td> <td>   46.620</td> <td> 0.000</td> <td>    0.115</td> <td>    0.126</td>\n",
       "</tr>\n",
       "<tr>\n",
       "  <th>Leading_Current_Power_Factor</th>         <td>    0.0608</td> <td>    0.003</td> <td>   21.435</td> <td> 0.000</td> <td>    0.055</td> <td>    0.066</td>\n",
       "</tr>\n",
       "<tr>\n",
       "  <th>NSM</th>                                  <td>-1.424e-06</td> <td> 1.37e-06</td> <td>   -1.043</td> <td> 0.297</td> <td> -4.1e-06</td> <td> 1.25e-06</td>\n",
       "</tr>\n",
       "<tr>\n",
       "  <th>WeekStatus</th>                           <td>    0.0599</td> <td>    0.062</td> <td>    0.961</td> <td> 0.336</td> <td>   -0.062</td> <td>    0.182</td>\n",
       "</tr>\n",
       "<tr>\n",
       "  <th>Day_of_week</th>                          <td>    0.0507</td> <td>    0.013</td> <td>    4.010</td> <td> 0.000</td> <td>    0.026</td> <td>    0.076</td>\n",
       "</tr>\n",
       "<tr>\n",
       "  <th>Load_Type</th>                            <td>    0.7938</td> <td>    0.044</td> <td>   18.101</td> <td> 0.000</td> <td>    0.708</td> <td>    0.880</td>\n",
       "</tr>\n",
       "<tr>\n",
       "  <th>Log(Sigma)</th>                           <td>    1.5423</td> <td>    0.004</td> <td>  408.261</td> <td> 0.000</td> <td>    1.535</td> <td>    1.550</td>\n",
       "</tr>\n",
       "</table>"
      ],
      "text/plain": [
       "<class 'statsmodels.iolib.summary.Summary'>\n",
       "\"\"\"\n",
       "                              Tobit Regression Results                             \n",
       "===================================================================================\n",
       "Dep. Variable:                   Usage_kWh   Pseudo R-squ:                    0.399\n",
       "Method:                 Maximum Likelihood   Log-Likelihood:              -103755.7\n",
       "No. Observations:                    35040   LL-Null:                     -172700.2\n",
       "No. Uncensored Obs:                  35038   LL-Ratio:                     137888.8\n",
       "No. Left-censored Obs:                   1   LLR p-value:                     0.000\n",
       "No. Right-censored Obs:                  1   AIC:                          207533.5\n",
       "Df Residuals:                        35029   BIC:                          207626.6\n",
       "Df Model:                               10   Covariance Type:             nonrobust\n",
       "========================================================================================================\n",
       "                                           coef    std err          z      P>|z|      [0.025      0.975]\n",
       "--------------------------------------------------------------------------------------------------------\n",
       "const                                  -11.2132      0.386    -29.040      0.000     -11.970     -10.456\n",
       "date                                 -2.804e-05   2.47e-06    -11.333      0.000   -3.29e-05   -2.32e-05\n",
       "Lagging_Current_Reactive.Power_kVarh     0.3106      0.004     79.196      0.000       0.303       0.318\n",
       "Leading_Current_Reactive_Power_kVarh     0.0728      0.011      6.622      0.000       0.051       0.094\n",
       "CO2(tCO2)                             1666.7392      4.926    338.348      0.000    1657.084    1676.394\n",
       "Lagging_Current_Power_Factor             0.1206      0.003     46.620      0.000       0.115       0.126\n",
       "Leading_Current_Power_Factor             0.0608      0.003     21.435      0.000       0.055       0.066\n",
       "NSM                                  -1.424e-06   1.37e-06     -1.043      0.297    -4.1e-06    1.25e-06\n",
       "WeekStatus                               0.0599      0.062      0.961      0.336      -0.062       0.182\n",
       "Day_of_week                              0.0507      0.013      4.010      0.000       0.026       0.076\n",
       "Load_Type                                0.7938      0.044     18.101      0.000       0.708       0.880\n",
       "Log(Sigma)                               1.5423      0.004    408.261      0.000       1.535       1.550\n",
       "========================================================================================================\n",
       "\"\"\""
      ]
     },
     "execution_count": 36,
     "metadata": {},
     "output_type": "execute_result"
    }
   ],
   "source": [
    "tobit_model = Tobit(y, sm.add_constant(X), limits, left=0, right=157.18).fit()\n",
    "\n",
    "tobit_model.summary()"
   ]
  },
  {
   "cell_type": "markdown",
   "id": "f6dfe8b2",
   "metadata": {},
   "source": [
    "исключаем незначимые переменные NSM и WeekStatus\t"
   ]
  },
  {
   "cell_type": "code",
   "execution_count": 37,
   "id": "f5523446",
   "metadata": {},
   "outputs": [
    {
     "name": "stdout",
     "output_type": "stream",
     "text": [
      "Optimization terminated successfully.\n",
      "         Current function value: 2.960980\n",
      "         Iterations: 602\n",
      "         Function evaluations: 888\n"
     ]
    },
    {
     "data": {
      "text/html": [
       "<table class=\"simpletable\">\n",
       "<caption>Tobit Regression Results</caption>\n",
       "<tr>\n",
       "  <th>Dep. Variable:</th>               <td>Usage_kWh</td>     <th>  Pseudo R-squ:      </th>   <td>0.399</td>  \n",
       "</tr>\n",
       "<tr>\n",
       "  <th>Method:</th>                 <td>Maximum Likelihood</td> <th>  Log-Likelihood:    </th> <td>-103752.7</td>\n",
       "</tr>\n",
       "<tr>\n",
       "  <th>No. Observations:</th>             <td> 35040</td>       <th>  LL-Null:           </th> <td>-172690.6</td>\n",
       "</tr>\n",
       "<tr>\n",
       "  <th>No. Uncensored Obs:</th>            <td>35038</td>       <th>  LL-Ratio:          </th> <td>137875.7</td> \n",
       "</tr>\n",
       "<tr>\n",
       "  <th>No. Left-censored Obs:</th>           <td>1</td>         <th>  LLR p-value:       </th>   <td>0.000</td>  \n",
       "</tr>\n",
       "<tr>\n",
       "  <th>No. Right-censored Obs:</th>          <td>1</td>         <th>  AIC:               </th> <td>207523.5</td> \n",
       "</tr>\n",
       "<tr>\n",
       "  <th>Df Residuals:</th>                 <td> 35031</td>       <th>  BIC:               </th> <td>207599.7</td> \n",
       "</tr>\n",
       "<tr>\n",
       "  <th>Df Model:</th>                     <td>     8</td>       <th>  Covariance Type:   </th> <td>nonrobust</td>\n",
       "</tr>\n",
       "</table>\n",
       "<table class=\"simpletable\">\n",
       "<tr>\n",
       "                    <td></td>                      <th>coef</th>     <th>std err</th>      <th>z</th>      <th>P>|z|</th>  <th>[0.025</th>    <th>0.975]</th>  \n",
       "</tr>\n",
       "<tr>\n",
       "  <th>const</th>                                <td>  -11.2199</td> <td>    0.375</td> <td>  -29.922</td> <td> 0.000</td> <td>  -11.955</td> <td>  -10.485</td>\n",
       "</tr>\n",
       "<tr>\n",
       "  <th>date</th>                                 <td>-2.806e-05</td> <td> 2.47e-06</td> <td>  -11.343</td> <td> 0.000</td> <td>-3.29e-05</td> <td>-2.32e-05</td>\n",
       "</tr>\n",
       "<tr>\n",
       "  <th>Lagging_Current_Reactive.Power_kVarh</th> <td>    0.3101</td> <td>    0.004</td> <td>   79.936</td> <td> 0.000</td> <td>    0.302</td> <td>    0.318</td>\n",
       "</tr>\n",
       "<tr>\n",
       "  <th>Leading_Current_Reactive_Power_kVarh</th> <td>    0.0730</td> <td>    0.011</td> <td>    6.685</td> <td> 0.000</td> <td>    0.052</td> <td>    0.094</td>\n",
       "</tr>\n",
       "<tr>\n",
       "  <th>CO2(tCO2)</th>                            <td> 1666.7516</td> <td>    4.911</td> <td>  339.409</td> <td> 0.000</td> <td> 1657.127</td> <td> 1676.376</td>\n",
       "</tr>\n",
       "<tr>\n",
       "  <th>Lagging_Current_Power_Factor</th>         <td>    0.1204</td> <td>    0.003</td> <td>   46.873</td> <td> 0.000</td> <td>    0.115</td> <td>    0.125</td>\n",
       "</tr>\n",
       "<tr>\n",
       "  <th>Leading_Current_Power_Factor</th>         <td>    0.0609</td> <td>    0.003</td> <td>   22.024</td> <td> 0.000</td> <td>    0.055</td> <td>    0.066</td>\n",
       "</tr>\n",
       "<tr>\n",
       "  <th>Day_of_week</th>                          <td>    0.0488</td> <td>    0.013</td> <td>    3.907</td> <td> 0.000</td> <td>    0.024</td> <td>    0.073</td>\n",
       "</tr>\n",
       "<tr>\n",
       "  <th>Load_Type</th>                            <td>    0.7670</td> <td>    0.039</td> <td>   19.665</td> <td> 0.000</td> <td>    0.691</td> <td>    0.843</td>\n",
       "</tr>\n",
       "<tr>\n",
       "  <th>Log(Sigma)</th>                           <td>    1.5422</td> <td>    0.004</td> <td>  408.253</td> <td> 0.000</td> <td>    1.535</td> <td>    1.550</td>\n",
       "</tr>\n",
       "</table>"
      ],
      "text/plain": [
       "<class 'statsmodels.iolib.summary.Summary'>\n",
       "\"\"\"\n",
       "                              Tobit Regression Results                             \n",
       "===================================================================================\n",
       "Dep. Variable:                   Usage_kWh   Pseudo R-squ:                    0.399\n",
       "Method:                 Maximum Likelihood   Log-Likelihood:              -103752.7\n",
       "No. Observations:                    35040   LL-Null:                     -172690.6\n",
       "No. Uncensored Obs:                  35038   LL-Ratio:                     137875.7\n",
       "No. Left-censored Obs:                   1   LLR p-value:                     0.000\n",
       "No. Right-censored Obs:                  1   AIC:                          207523.5\n",
       "Df Residuals:                        35031   BIC:                          207599.7\n",
       "Df Model:                                8   Covariance Type:             nonrobust\n",
       "========================================================================================================\n",
       "                                           coef    std err          z      P>|z|      [0.025      0.975]\n",
       "--------------------------------------------------------------------------------------------------------\n",
       "const                                  -11.2199      0.375    -29.922      0.000     -11.955     -10.485\n",
       "date                                 -2.806e-05   2.47e-06    -11.343      0.000   -3.29e-05   -2.32e-05\n",
       "Lagging_Current_Reactive.Power_kVarh     0.3101      0.004     79.936      0.000       0.302       0.318\n",
       "Leading_Current_Reactive_Power_kVarh     0.0730      0.011      6.685      0.000       0.052       0.094\n",
       "CO2(tCO2)                             1666.7516      4.911    339.409      0.000    1657.127    1676.376\n",
       "Lagging_Current_Power_Factor             0.1204      0.003     46.873      0.000       0.115       0.125\n",
       "Leading_Current_Power_Factor             0.0609      0.003     22.024      0.000       0.055       0.066\n",
       "Day_of_week                              0.0488      0.013      3.907      0.000       0.024       0.073\n",
       "Load_Type                                0.7670      0.039     19.665      0.000       0.691       0.843\n",
       "Log(Sigma)                               1.5422      0.004    408.253      0.000       1.535       1.550\n",
       "========================================================================================================\n",
       "\"\"\""
      ]
     },
     "execution_count": 37,
     "metadata": {},
     "output_type": "execute_result"
    }
   ],
   "source": [
    "df = df.drop(['NSM','WeekStatus'], axis=1)\n",
    "X=df.drop(\"Usage_kWh\",axis=1)\n",
    "y=df[\"Usage_kWh\"]\n",
    "tobit_model = Tobit(y, sm.add_constant(X), limits, left=0, right=6).fit()\n",
    "\n",
    "tobit_model.summary()"
   ]
  },
  {
   "cell_type": "markdown",
   "id": "86f7b4a5",
   "metadata": {},
   "source": [
    "получаем следующую модель:\n",
    "    \n",
    "$y* = -11.2199 -0.00003x_{date}+0.3101x{LagCR.P}+0.07x_{LeadCR_P}+1666.75x_{CO2}+0.12x_{LagCPF}+0.061x_{LeadCPF}+0.049x_{dayweek}+0.767x_{loadtype}$"
   ]
  },
  {
   "cell_type": "markdown",
   "id": "9e1ab706",
   "metadata": {},
   "source": [
    "R = 0.4, что говорит об умеренной связи между переменными"
   ]
  },
  {
   "cell_type": "code",
   "execution_count": 38,
   "id": "783b56bc",
   "metadata": {},
   "outputs": [
    {
     "data": {
      "image/png": "[encoded data removed]",
      "text/plain": [
       "<Figure size 648x648 with 2 Axes>"
      ]
     },
     "metadata": {
      "needs_background": "light"
     },
     "output_type": "display_data"
    }
   ],
   "source": [
    "plt.figure(figsize=(9,9))\n",
    "sns.heatmap(np.round(df.corr(),3),annot=True)\n",
    "plt.show=()"
   ]
  },
  {
   "cell_type": "markdown",
   "id": "91d529ac",
   "metadata": {},
   "source": [
    "мультиколлинеарность отсутствует"
   ]
  }
 ],
 "metadata": {
  "kernelspec": {
   "display_name": "Python 3 (ipykernel)",
   "language": "python",
   "name": "python3"
  },
  "language_info": {
   "codemirror_mode": {
    "name": "ipython",
    "version": 3
   },
   "file_extension": ".py",
   "mimetype": "text/x-python",
   "name": "python",
   "nbconvert_exporter": "python",
   "pygments_lexer": "ipython3",
   "version": "3.9.12"
  }
 },
 "nbformat": 4,
 "nbformat_minor": 5
}
