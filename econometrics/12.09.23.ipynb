{
 "cells": [
  {
   "cell_type": "code",
   "execution_count": 1,
   "id": "initial_id",
   "metadata": {
    "collapsed": true,
    "ExecuteTime": {
     "end_time": "2023-09-12T13:52:54.521123900Z",
     "start_time": "2023-09-12T13:52:53.896805300Z"
    }
   },
   "outputs": [
    {
     "name": "stdout",
     "output_type": "stream",
     "text": [
      "Correlation coefficient: 0.7210252137643479\n",
      "Coefficient of determination: 0.5198773588839236\n",
      "Regression coefficient: 0.9204305526806044\n"
     ]
    }
   ],
   "source": [
    "import numpy as np\n",
    "from scipy.stats import linregress\n",
    "\n",
    "x = np.array([78, 82, 87, 79, 89, 106, 67, 88, 73, 87, 76, 115])\n",
    "pribil = np.array([133, 148, 134, 154, 162, 195, 139, 158, 152, 162, 159, 173])\n",
    "\n",
    "# Calculate correlation coefficient\n",
    "corr_coeff = np.corrcoef(x, pribil)[0, 1]\n",
    "\n",
    "# Calculate coefficient of determination\n",
    "r_squared = corr_coeff ** 2\n",
    "\n",
    "# Calculate regression coefficient\n",
    "regress_result = linregress(x, pribil)\n",
    "regress_coeff = regress_result.slope\n",
    "\n",
    "print(\"Correlation coefficient:\", corr_coeff)\n",
    "print(\"Coefficient of determination:\", r_squared)\n",
    "print(\"Regression coefficient:\", regress_coeff)"
   ]
  },
  {
   "cell_type": "code",
   "execution_count": null,
   "outputs": [],
   "source": [],
   "metadata": {
    "collapsed": false
   },
   "id": "285778a5ee0af059"
  }
 ],
 "metadata": {
  "kernelspec": {
   "display_name": "Python 3",
   "language": "python",
   "name": "python3"
  },
  "language_info": {
   "codemirror_mode": {
    "name": "ipython",
    "version": 2
   },
   "file_extension": ".py",
   "mimetype": "text/x-python",
   "name": "python",
   "nbconvert_exporter": "python",
   "pygments_lexer": "ipython2",
   "version": "2.7.6"
  }
 },
 "nbformat": 4,
 "nbformat_minor": 5
}
